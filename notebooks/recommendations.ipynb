{
 "cells": [
  {
   "cell_type": "markdown",
   "id": "824384b5",
   "metadata": {},
   "source": [
    "Idea: supplement a traditional recommendation system with an LLM that generates a customized recommendation tip for each recommendation. \n",
    "\n",
    "Demonstration: user either picks a specific node in the network or a random one. Generate info about this user. Generate the product recommendation with tip (top-k times). If ambitious we could set up a user-friendly front-end demo with an app or something. "
   ]
  },
  {
   "cell_type": "markdown",
   "id": "4cc90c2a",
   "metadata": {},
   "source": [
    "TODO: \n",
    "\n",
    "- build graph  - [x] \n",
    "- recommendation algorithm, which must return for a User u: - [x]\n",
    "    - top-k recommended products p1, p2 etc.\n",
    "    - N set of most similar users v\n",
    "- From this we find for each  \n",
    "    - Product pi and User ui:\n",
    "        - M set of top-l highest rated and most helpful reviews for pi by ui\n",
    "- O set of u's reviews with highest rating of products q, r etc. that were also rated highly by the M set users, i.e. products on which the similarity is based. This is to give the LLM (a) info about which products u likes and (b) u's writing style. \n",
    "- Prompt packaging: \n",
    "    - We generate a prompt that contains the following information:\n",
    "        1. Description of task. \n",
    "        2. M set sorted by rating and helpfulness. \n",
    "        3. O set sorted by rating. \n",
    "\n"
   ]
  },
  {
   "cell_type": "markdown",
   "id": "ce330fb8",
   "metadata": {},
   "source": [
    "# 0. Functions and Global Directories"
   ]
  },
  {
   "cell_type": "code",
   "execution_count": 7,
   "id": "b7ba3bdf",
   "metadata": {},
   "outputs": [
    {
     "name": "stdout",
     "output_type": "stream",
     "text": [
      "c:\\Users\\bened\\DataScience\\Autumn 2025\\SINA\\assignments\\3\n",
      "True\n"
     ]
    }
   ],
   "source": [
    "import os \n",
    "import gzip \n",
    "import json\n",
    "import networkx as nx \n",
    "import numpy as np\n",
    "\n",
    "cwd = os.getcwd()\n",
    "project_dir = os.path.dirname(cwd)\n",
    "print(project_dir) \n",
    "data_path = os.path.join(project_dir, \"data\", \"Musical_Instruments_5.json.gz\") \n",
    "print(os.path.exists(data_path))"
   ]
  },
  {
   "cell_type": "code",
   "execution_count": 5,
   "id": "371f5588",
   "metadata": {},
   "outputs": [],
   "source": [
    "def parse(path): \n",
    "    g = gzip.open(path, 'r') \n",
    "    for l in g:\n",
    "        yield json.loads(l) "
   ]
  },
  {
   "cell_type": "code",
   "execution_count": 21,
   "id": "ea3ddecd",
   "metadata": {},
   "outputs": [],
   "source": [
    "def create_graph(path): \n",
    "    G = nx.DiGraph() \n",
    "    for idx, review in enumerate(parse(path)): \n",
    "        # -- EXTRACT NODE IDs AND ATTRIBUTES --- \n",
    "        user_id = review['reviewerID'] \n",
    "        user_name = review.get('reviewerName', None) \n",
    "        product_id = review['asin'] \n",
    "\n",
    "        # --- USER NODE --- \n",
    "        if G.has_node(user_id): \n",
    "            # Node exists; check names \n",
    "            current_name = G.nodes[user_id].get('reviewerName') \n",
    "\n",
    "            if user_name:  # if the dict has a reviewerName (not None) \n",
    "                if not current_name:  # and the node corresponding to that reviewerID does not have a name already\n",
    "                    G.nodes[user_id]['reviewerName'] = user_name  # name reviewer \n",
    "                # else if there's a conflict between node's current name and name on this review\n",
    "                elif user_name != current_name: \n",
    "                    # add an additional name attribute\n",
    "                    name_keys = [k for k in G.nodes[user_id] if 'Name' in k] # by first checking how many names the node already has \n",
    "                    count = len(name_keys) \n",
    "                    key = \"secondName\" if count == 2 else f\"{count}thName\" \n",
    "                    G.nodes[user_id][key] = user_name \n",
    "                # if user_name is None we do nothing\n",
    "        # if no existing node for this user_id, create a new one \n",
    "        else: \n",
    "            G.add_node(user_id, bipartite='user') \n",
    "            if user_name: \n",
    "                G.nodes[user_id]['reviewerName'] = user_name \n",
    "        \n",
    "        # --- PRODUCT NODES --- \n",
    "        if not G.has_node(product_id): \n",
    "            G.add_node(\n",
    "                product_id, \n",
    "                bipartite='product',\n",
    "                image=review.get('image', None),\n",
    "                style=review.get('style', None)\n",
    "                ) \n",
    "        \n",
    "        # --- REVIEW EDGES (User-Review->Product) --- \n",
    "        G.add_edge(\n",
    "            user_id, \n",
    "            product_id, \n",
    "            type='Reviewed',\n",
    "            id=idx, \n",
    "            overall=review.get('overall', np.nan),\n",
    "            verified=review.get('verified', False),\n",
    "            vote=review.get('vote', np.nan),\n",
    "            reviewText=review.get('reviewText', None), \n",
    "            summary=review.get('summary', None), \n",
    "            reviewTime=review.get('reviewTime', None), \n",
    "            unixReviewTime=review.get('unixReviewTime', np.nan)\n",
    "        )\n",
    "\n",
    "    return G"
   ]
  },
  {
   "cell_type": "markdown",
   "id": "da5118cd",
   "metadata": {},
   "source": [
    "# 1. Data Inspection"
   ]
  },
  {
   "cell_type": "code",
   "execution_count": 6,
   "id": "5eaa2403",
   "metadata": {},
   "outputs": [
    {
     "name": "stdout",
     "output_type": "stream",
     "text": [
      "{'overall', 'verified', 'asin', 'reviewerID', 'image', 'reviewText', 'style', 'reviewTime', 'summary', 'unixReviewTime', 'reviewerName', 'vote'}\n"
     ]
    }
   ],
   "source": [
    "# inspect possible keys \n",
    "keys = set() \n",
    "\n",
    "for review in parse(data_path): \n",
    "    for k in review.keys(): \n",
    "        if k not in keys: \n",
    "            keys.add(k) \n",
    "\n",
    "print(keys) "
   ]
  },
  {
   "cell_type": "code",
   "execution_count": 13,
   "id": "5cc231cf",
   "metadata": {},
   "outputs": [
    {
     "name": "stdout",
     "output_type": "stream",
     "text": [
      "10 30, 2016\n",
      "06 30, 2016\n",
      "05 9, 2016\n",
      "04 10, 2016\n",
      "02 6, 2016\n",
      "01 2, 2016\n",
      "06 21, 2015\n",
      "03 28, 2015\n",
      "03 19, 2015\n",
      "03 15, 2015\n"
     ]
    }
   ],
   "source": [
    "# inspect reviewTime field \n",
    "for idx, review in enumerate(parse(data_path)): \n",
    "    if idx==10: \n",
    "        break \n",
    "    elif 'reviewTime' in review: \n",
    "        print(review['reviewTime'])"
   ]
  },
  {
   "cell_type": "markdown",
   "id": "6c171553",
   "metadata": {},
   "source": [
    "format: MM DD, YYYY  \n",
    "\n",
    "Since we have Unix already this is likely not needed for any computational task. "
   ]
  },
  {
   "cell_type": "code",
   "execution_count": 11,
   "id": "42fc01a0",
   "metadata": {},
   "outputs": [
    {
     "name": "stdout",
     "output_type": "stream",
     "text": [
      "Format:: {'u', 'p', ' DVD-ROM', ' Wireless Phone Accessory', ' CD-ROM', ' ', 'i', 'S', '.', 's', 'e', ' Electronics', ' Misc. Supplies', ' Audio CD', ' Software Download', 'l', 'M', 'c', ' Paperback'}\n",
      "style:: {' Latching Right Angle', ' HPACA1 (Coiled)', ' SV100-WA', ' Arrows', ' Bass', ' Tone Job', ' Wired Mic Desktop Stand', ' US-16x08', ' Channel R', ' Right Angle', ' 25 Keys, Mini', ' Loudspeaker', ' Rockaway Archer V1', ' Sea Machine', ' Boompole', ' Komp. 10 Ult. Upgrade', ' AUD ATR1300', ' CHS-DUO', ' Key 9', ' Built-in Effects', ' Ditto X4', ' Pitchblack Poly Polyphonic Pedal Tuner', ' UM Pro 10 - Discontinued Model (Red)', ' 61 Key', ' ETX-15SP-Cover', ' DeadCat VMP Windshield', ' Sparkle Drive MOD', ' 15-Inch/1,400 Watts', ' R8', ' Wireless Mic Desktop Stand', ' FATRAT', ' RT-0008-00', ' MXL 770', ' Guitar-Gibson', ' Sonar Platinum', ' Animal Overdrive', ' 16-Rack', ' Small Diaphragm Cardioid and Omni', ' iQ6', ' Style III', ' SuperCardioid Dynamic Snare', ' Reignmaker', ' 12\" speaker', ' Bit Commander V2', ' COOLSWITCH', ' LM5 Lavalier', ' Korg PLUGKEYBK -Channel Audio Plug-In', ' Delay', ' SGH-6', ' Handheld Super-Cardioid', ' XYH-5', ' Launchpad Mini', ' 400I', ' MX300', ' GXL3000', ' 2 x 8 Foot Stand', ' Interface Only', ' Heart Attack', ' MKE 400 Microphone', ' 61 Keys', ' EW 112P System', ' Ramrod', ' Gray w/ ST1000-10 Stand', ' LGI-202-10/BK', ' Fat Buffer Dynamic', ' CLP-35HC', ' Cable Kit', ' Acoustic', ' HDMI', '0', ' Compressor/Limiter/Gate', ' GXL3000BP', ' Supercardioid (Chrome)', ' .45 Caliber Overdrive', ' SubDude-II', ' H9: 512-542 MHz', ' 20 Key Eclipse Controller', ' OBEY3', ' Boutique', ' TRIOPLUS', ' Red White and Blues', ' BETA58A', ' MX400', ' GCX Audio Switcher', ' 1000-Watt', ' CD-GT2', ' MG30CFX', ' Two Lavalier Microphones', ' BubbleKing', ' RP-Series Semi-Open Headphones', ' Pro-Right Angle', ' R24', ' Pair of stands + bag + XLR Cables', ' Harmony Frequency', ' CTK-4200 Premium Pack', ' A Band', ' 1000W', ' ETX-15P', ' CD-RW900 MKII', ' Pedal only', ' Straight to Right-Angle', ' More Dense', ' 75 W, 8 Ohm', ' Speaker Cranker', ' With Bluetooth', ' Venue', ' No DMX Control', ' SC7 Patch Cable', ' 150 W, 8 Ohm', ' 10\" Powered Speaker', ' V3 Amplifier', ' 15\" Powered Speaker', ' LX49', ' Afterneath Delay/Reverb', ' K10/K10.2 Outdoor Cover', ' H8: 518-542 MHz', ' 650 watts power', ' Fuzz Master General', ' G3', ' 1 channel with ground lift', ' Terminated for PRO88W', ' Karaoke Machine', ' Ragin Cajun', ' Echo', ' Tactical Ethernet', ' Loudbox Mini', ' H4n Pro (2016 model)', ' Telescoping Boom, Tripod Base', ' Blackbird', ' RAH Overdrive', ' Straight to Straight', ' H4n (2009 model)', ' PG58XLR', ' Gray Channel Overdrive', ' Recorder', ' Wireless', ' Religious Dove', ' V-Bar Clamp', ' 4-Channel', ' Mini DI box with 1/4\" input / XLR male output', ' Two Handheld Microphones / Channels P/R', ' Channel C', ' Regular', ' Boing Spring Reverb V1', ' HGTR-005R 5 ft', ' 16 Ohm', ' 4-XLRF, 2-SpeakOn', ' 3 Woofer', ' XLR-to-USB Adapter', ' 1:1 transformer isolation', ' 5 Channel', ' B1Xon', ' Wind Instrument', ' Topanga Spring Reverb', ' 2Pre - 10 in / 4 out', ' 8PreX - 26 in / 28 out', ' Mic', ' MX400XL', ' TS9DX', ' DIRTY RAT', ' Sound Panel', ' 100-Watt Head', ' Interstellar Orbiter', ' H5: 518-542 MHz', ' Instrument cable', ' Compact Desktop', ' Recorder only', ' PG48-XLR', ' Large Diaphragm Infinitely Adjustable', ' Classic Rock', ' Single Stand with Hydraulic Auto-Lift', ' 400WL', ' 150 W', ' Power Kit', ' 500 W, 8 Ohm', ' AS32 Stand Mounted', ' 40mm', ' Aura Spectrum DI Pedal', ' TouchMix-8 Digital Mixer', ' PG48-LC', ' CLP-10', ' BOING Spring Reverb', ' Formula 5F6 Overdrive', ' Compressor', ' Active Dynamic', ' CHS-FR4', ' 4 Ohm', ' Korg ELECTRIBE2SRD electribe Sampler in ESX Red with V2.0 Software', ' Guitar', ' Limited Edition - Green', ' SM58', ' Additional Mic', ' 25 Pack', ' 3-Sided', ' HPASCA1 (Straight)', ' Receiver', ' EKX-15SP', ' ID Stand with Boom Arm', ' UM Pro 30 - Discontinued Model (Clear)', ' Falcon', ' Version 2', ' Pedalboard', ' Headphones and Pop Filter Bundle', ' 1G Modeling Guitar Effects Pedal', ' 1500W', ' Jerry Douglas Aura Pedal', ' 35-Watt', ' K12/K12.2 Tote Bag', ' RP6-G3', ' Komplete 10 Ultimate', ' SC3 TRRS-TRS Adaptor', ' Mini Kaoss Pad', ' 40mm with Leather Earpads', ' Red/Ebony', ' Mini Bass Amplifier', ' WrapAround', ' CH-31', ' SC4 TRS-TRRS Adaptor', ' PG56-LC', ' ZLX-15-Cover', ' Spatial Delivery', ' Ditto X2', ' LX88', ' Night Wire', ' Right Angled', ' 450 watts power', ' Control Surface-S3 Controller', ' IKON Overdrive/Boost', ' Tumnus Deluxe', ' Lunchbox Acoustic Amp', ' Studio Monitor', ' 300 W, 8 Ohm', ' Clip Included', ' Sonar Professional', ' M2 Condenser Microphone', ' V4 Amplifier', ' 4-XLRF, Duplex AC', ' Mini Guitar Amplifier', ' Wall Charger-Black', ' Microphone only', ' EXH-6', ' Microphone Only', ' CHS-40', ' Original THR', ' Dual Channel', ' AK-DR11C', ' The Dude', ' On/Off Switch Included', ' Without On/Off Switch', ' Guitar Pedal System', ' Control Surface-Artist Transport', ' PG56-XLR', ' Straight, Standard Base', ' 4 Woofer', ' DP-03SD', ' R101 Button Controller', ' 12-Rack', ' US-20x20', ' 25 Keys', ' Pair of stands with air cushion lowering', ' CLP-03', ' Bluetooth Enabled', \" 15' XLR-XLR Cable\", ' V847A Wah Wah Pedal with AC Jack', ' TS808 pro', ' 5-Watt Limited Edition', ' Event', ' AR12 - 8 Mic Pres', ' Amp', ' Kaossilator 2', ' ZLX-15P', ' 8\" Monitor Speaker', ' 150 W, 32 Ohm', ' Premium 7-Piece Drum Pack', ' MG102CFX', ' DEUCETONE RAT', ' Control Surface-Artist Mix Surface', ' CHS-50', ' DP-24SD', ' with XLR connectors', ' 21-Rack', ' Switch', ' 75 watt', ' G3X', ' DC Switch', ' Mini Amp', ' HC33 Analog Bass Chorus', ' AC30', ' GX5 500W Amp', ' DeadCat VMPR Windshield', ' 15-Watt Combo', ' LG2-203-6/BK', ' Headset/Instrument Microphone Combo', ' CD-VT2', ' ToneLab EX Modeling Effect Processor', ' 6-in-1', ' MXL V67Q', ' PA Speaker System', ' Alpha', ' for Lunchbox Junior Amp', ' Single Channel', ' HL77 Bass Looper', ' DSLR Recorder', ' Galileo Booster', ' Beam', ' GX3 300W Amp', ' Kit I-Black', ' 14 AWG', ' Pitchblack+ Advanced Pedal Tuner', ' Thunder Bass', ' APC Key 25', ' 600I', ' DR-22WL', ' 700W', ' 18 AWG', ' Limited Edition HT Club 40 Deluxe', ' Microphone + In-Ear Headphones', ' 30 watt', ' Instrument/Guitar Microphone', ' TRIO', ' 8Pre - 18 in / 20 out', ' Lead', ' DP-008EX', 'S', ' 50mm/2 Cables/2 Earpad Sets', ' T24: 169.505 MHz & 170.305 MHz', ' Pitchblack Pro Rackmount Tuner', ' Loudbox Performer', ' Two Headset Microphones', ' BETA87A', ' Private Jack', ' for Lunchbox Amp or Lunchbox Cab', ' Blues', ' SSH-6', ' Blue Note Tour Series', ' Fitness Headset', ' Tumnus V2', ' Lambda', ' K12 Speaker', ' Extension Cab', 'k', ' MXL V67N', ' CLP-02', ' Music Controller', ' PG58-LC', ' DP-32SD', ' TM-PC1-2', ' 200 W, 4 Ohm', ' Ribbon Side Address', ' 1,100-Watt', ' 70-Watt', ' Isolation Pad', ' 2-Pack', ' HGTR-025R 25 ft', ' USB Interface with Effects', ' Instrument', ' 25-Key', ' International Version', ' Controller', ' Overdrive', ' 25-Watt', ' MG15 Stack', ' Liquid Saffire 56 - 28 inputs (8 mic pres) / 28 outputs', ' No Cable', ' US-2x2', ' M-Track 2x2M - 2 channel + 5-Pin MIDI', ' CTK-4200 Keyboard', ' SFT Overdrive', ' Krush Frequency', ' DC Jack 16 Foot Extention', ' Blue Note Overdrive', ' 400 W, 8 Ohm', ' Cable + 3-Pin DMX Connector', ' RP8-G3', '1', ' 25-Pin to TRS, 10 ft', ' UM Pro 20 - Discontinued Model (Smoke)', ' GRAMMA', ' XLR3F to XLR3M Power Switch', ' Tentacle', ' Speaker', ' GXL2200', ' Clothes-Pin Style Clip', ' Mini Boompole', ' iQ7', ' MX418', ' CHS-30', ' 100 Pack', ' AUD ATR1100', ' 3-Pin XLR', ' R16', ' Spirit Multi-Pattern Microphone', ' Pitchblack Pedal Tuner', ' 12-Inch/1,200 Watts', ' C: 541.500-566.375 MHz', ' Single', ' 7-Piece Drum Pack', ' 750 watts power', ' C9', ' J3: 572-596 MHz', ' Aura 16 Pedal', ' Large Diaphragm Supercardiod', ' 1 Pair', ' PRO 40 - 20 inputs (8 mic pres) / 20 outputs', ' 4-Piece Drum Pack', ' Straight, Stackable base', ' DP-006', ' 100-Watt', ' With Cable', ' CD-RW901 MKII', 'K', ' Version 1', ' UM Pro 20 - Discontinued Model (Clear)', ' Union Jack', ' 775 watts power', ' Dynamic Instrument', ' K8 Speaker', ' 4FX', ' Speaker Sub Pole', ' K-Series Sub Pole', ' Phono Cartridge', ' US Version', ' Round Base', ' Bluetooth Amp', ' US-4x4', ' DeadCat GO Windshield', 'a', ' 8-XLRF, 2-SpeakOn', ' Compressor/Limiter', ' 7.2-inch', ' HT Venue Club 40 Combo Amplifier', ' WASHFX', ' Bows', ' MG50CFX', ' XLR3F to 1/4\" TRS', ' 40-Watt Combo', ' Active', ' Premium pair of stands with bag', ' Ground Control Pro', ' Straight End', ' 8.6-Inch Black', ' 6 Foot Stand', ' 350-Watt', ' Headphone', ' Cable Included', ' Fog machine', ' Karma Suture Germanium', ' Fission Bass FX Pedal', ' Coupler', ' Amp, Extension Cabinet and Power Supply', ' XLRM 5P', ' 16.4.2AI - 16 Mic Pres', ' 350 W, 16 Ohm', ' Kaossilator Pro', ' No LED Lights', ' Gray', ' RAT2', ' K12/K12.2 Outdoor Cover', ' MG15CFX', ' Junior', ' Built-in RCA Output', ' MX200', ' Guitar Pedal Only', ' UM Pro 10 - Current Model', ' Party Bundle', ' Korg ELECTRIBES Sample Based Production Station', ' Non-Wireless', ' mio10', ' GXL2200BP', ' Lunchbox Cab', ' AR8 - 4 Mic Pres', ' XLRF 5P', ' HGTR-015R 15 ft', ' Lavalier Micro', ' Combo', ' Two Mic Pres', ' microKORG', ' TS9B', ' for Lunchbox Acoustic Amp', ' Speaker Stand', ' SV100-W', ' Monitor Speaker', ' Straight', ' HGTR-010R 10 ft', ' JAM 96k', ' 25-Pin to 8XLRM, 5 ft', ' 5FX', ' The Wizard', ' 8-Rack', ' Boomstand and Pop Filter Bundle', ' Echorec Multi-Head Delay', ' ZLX-12-Cover', ' RCA to XLR interface', ' Straight, Tripod Base', ' Only Guitar', ' WS7 Deluxe Windshield', ' Speakers', ' CX Control Switcher', ' UM Pro 20 - Current Model', ' CH-06', ' Channel P', ' ETX-35P', ' No Switch', ' 350 W, 8 Ohm', ' Lavalier Microphone', ' The Depths Modulation', ' ID Boom Arm Only', ' Angle to Angle', ' Wired', ' 1818VSL', ' 5\" Monitor Speaker', ' Guitar- Fender', ' RP-Series Damped Semi-Open Headphones', ' Kaoss Pad Quad', ' 86 LED PAR', ' High Gain', ' Handheld', ' Double-X Keyboard Stand', ' Lightning', ' Without Bluetooth', ' 2 x 6.5 Foot Stand + 1/4\" Cable Kit', ' 2 Channel', ' 12\" Powered Speaker', ' CHS-SP4', ' Levitation', ' HP600', ' Standard Mixer', ' DR-44WL', ' Dual Direct Box', ' Launchpad Pro', ' Antichthon Fuzz Tremolo', ' Duet-iOS with Apogee Assure', ' K12.2 12\" Loudspeaker', ' 15 Watt Amp', ' 100 watts; 8\" Speaker', ' T68: 171.105 MHz & 171.905 MHz', ' Compressor/Gate', 'p', ' Screw Kit-2', ' Great GRAMMA', ' WS9 Deluxe Windshield', ' Style I', ' 1350 watts power', ' 25-Pin to TRS, 5 ft', ' 4-XLRF', ' HP1100', ' M15: 662-686 MHz', ' TouchMix-16 Digital Mixer', ' Dirt Transmitter Fuzz', ' NP-1', ' OBEY4 D-Fi', ' Palisades Overdrive', ' Single-X Keyboard Stand', ' Two Instrument/Guitar Microphones', ' Large Diaphragm Multipattern', ' Inline volume control', ' AS22 Stand Mounted - Folding', ' FC-1 Controller', ' Fixed Boom, Tripod base', ' Single-Channel', ' J10: 584-608 MHz', ' Amplifier', ' Space Spiral', ' 2-Channel', ' 49 Key', ' Two Receivers', ' Talons Overdrive', ' APC Mini', ' GXL1200BP', ' Microphone', ' PRO 26 - 18 inputs (4 mic pres) / 8 outputs', ' AR16 - 12 Mic Pres', ' 15\" speaker', ' K10 Speaker', ' OBEY4', ' 1 Piece', ' 350 watts power', ' Komplete 10', ' Acoustic Guitar Amplifier', ' Microphone cable', ' XLR out', ' Loudbox Artist', ' Quick Fade', ' Archer Overdrive/Boost', ' RE20', ' with Bluetooth', ' Cable Not Included', ' 150-Watt', ' 15\" dual speaker', ' LM10 Lavalier', ' 125 W', ' Headworn', ' 2-Sided', ' B9', ' AUD ATR1500', ' AC15VR', ' JAM', ' Reverb', ' Kaoss Pad KP3', ' SlimPARbag', ' Channel D', ' Pedal', ' Legend 1258', ' 4-XLRF, 2 1/4\" Jacks', ' DeadCat Windshield', ' UM Pro 30 - Discontinued Model (Smoke)', ' 2G Modeling Guitar Effects Pedal', ' Dynamic Vocal', ' 150 watt', ' Standard 3.5mm', ' LGI-201-10/BK', ' Grand Orbiter', ' Replacement Needle', ' D: 656.125-678.500 MHz', ' MXL V67I', ' Loudbox Performer Cover', ' Sabbra Cadabra Booster', ' LX61', ' CHS-60', \" 15' XLR-QTR Cable\", ' Dispatch M. Delay/Reverb', ' LE Mahogany 60 Watt Two Way', ' UM Pro 10 - Discontinued Model (Clear)', ' Pedal Tuner', ' MG100HCFX', ' PG58QTR', ' M3 Condenser Microphone', ' Two Handheld Microphones / Channels B/D', ' Ditto', ' MXL R144 HE', ' 2 Speaker Stands with Carry Bag', ' Studio Microphone', ' Mel 9', ' No RCA Output', ' Line/Inst level input switchable, 4 ch rackmount', ' TS808DX', ' DeadWombat Windshield', ' Arpanoid', ' Supercardioid', ' HP800', ' 1B Modeling Bass Guitar Effects Pedal', ' SOLO', ' SuperCardioid Dynamic Side Address', ' M-Track 2x2 - 2 channel', ' MP218', ' ToneLab ST Modeling Effect Processor', ' MV88 Only', ' 45mm with Leather Earpads', ' ToneDEQ Preamp EQ', ' MSH-6', ' Head', ' Controller only', ' Sonar Artist', ' 15-Watt Head', ' Handheld Cardiod', ' HGTR-020R 20 ft', ' With On/Off Switch', ' Talisman Plate Reverb', ' No Bluetooth', ' Mini THR', ' Digital', ' Bellows Fuzz', ' No LED Array', ' LE Black and White 60 Watt Two Way', ' TS9', ' Wireless MIDI Controller', ' (4) Larger Slimpar Lights', ' Power adapter', ' MudGuard', ' Cardioid', ' SoundCage', ' 45 Caliber Overdrive V1', ' MG10CF', ' No Bag', ' V845 Classic Wah Wah Pedal', ' Handheld supercardioid', ' The Tonker', ' Lightstrip', ' Z55 Professional Reference Headphones', ' Standard', ' Cardiod Condenser (Pair)', ' 75 W, 16 Ohm', ' HD HD', ' Belle Epoch Tape Echo', ' Cardioid Dynamic Kick', ' H10: 542-572 MHz', ' Handheld cardiod', ' SuperCardioid Side Address Vintage', ' XLR3F to XLR3M Ground Lifter', ' XLR to USB Signal Adapter', ' Hummingbird', ' Loudbox Artist Cover', ' 49-Key', ' 61-Key', ' 65', ' One Mic Pre', ' 2B Modeling Bass Guitar Effects Pedal', ' Chorus', ' AK-DR11G MKII', ' 4 Inputs', ' Lunchbox Amp', ' Premium SuperCardioid Dynamic Handheld', ' Wireless Mic System', ' XLRF-XLRM', ' 3-Channel', ' Passive', ' Straight, Tripod base', ' Single Stand', ' ', ' MXL V67GS', ' 6 Inch (6 Pack)', ' Park Fuzz', ' Clean', ' 3 Channel Bluetooth', ' PG81-LC', ' 49 Keys', ' Ch. 321', ' MG101CFX', ' Korg Volca OKGO', ' CLP-15', ' 50-Watt', ' TVHF: 179.400 MHz & 180.600 MHz', 'e', ' SOS Signal Buffer', ' 525 watts power', ' Chameleon', ' 6 Inch', ' Fixed Boom, Tripod Base', ' 18W PAR', ' DC Jack 4 Way Splitter', ' Launchpad', 'r', ' UM Pro 30 - Current Model', ' B1on', ' WS6 Deluxe Windshield', ' 12 Inch', ' Analog', ' SOS Buffer V1', ' 8 Ohm', ' LK-175', ' Bluetooth Adapter/ Amp', ' Standard XLR', ' Digital Recorder', ' 75th Anniversary Edition', ' M1 Dynamic Microphone', ' 68', ' mio', ' Conference', ' MX418D', ' Condenser', ' G4: 470-494 MHz', ' Legend 1275', ' MX418S', ' 2 channel, Mono/Stereo switchable', ' 32.4.2AI - 32 Mic Pres', ' Lavalier', ' With DMX Control', ' TURBO RAT', ' Cannabis Rex', ' 15-Watt', ' Subwoofer', ' GXL1200', ' Creative Reference Multimedia Monitors', ' B Band', ' Handheld/Lavalier Microphone Combo', ' WSVM Pop Filter Windshield', ' CH-02', ' Instrument/Guitar', ' Apple Lightning Connector', ' Mojo Diamond', ' AUD ATR1200', ' 22VSL', ' K10/K10.2 Tote Bag', ' Extension Cabinet', ' B-250', ' 16.0.2 - 12 Mic Pres', ' For Wired Mics', ' Metal', ' One Receiver', ' Tremolo', ' Terminated for A-T Wireless', ' Lunchbox Junior Amp', ' MP226', ' EVM12L Zakk Wylde', ' Bass Guitar', ' MXL V67G', ' DLS Overdrive', ' MXL V67G HE', ' ZLX-12P', ' Without cable', ' 25 Keys (Mini)', ' With Bag', ' 250-Watt', ' MXL R144', ' Vocal Headset', ' 300 watts power', ' DUET-IOS-MAC', ' 200 W, 8 Ohm', ' GX7 1000W Amp', ' Pair of Stands with Bag', ' 18 Inch', ' Zoom F8 (2015 version)', ' Blast Blocker', ' H4n (2015 model)', ' MG15CF', ' Straight to Angle', ' 75-Watt', ' Straight to Right Angle', ' PG48-QTR', ' K12: 614-638 MHz', ' BNC', ' Micro Boompole', ' Spot', ' Direct Box', ' Guitar Amplifier', ' T57: 171.045 MHz & 171.845 MHz', ' 300-Watt', ' AC30VR', ' Roating ball', ' SubDude-HT', ' 6-Channel', ' Origin Cardioid Microphone', ' Four Receivers', ' 30-Pin', ' 6\" Monitor Speaker', ' Spark Digital', ' MV51 Only', ' Patch', ' Mikey Digital Lightning', ' G1on', ' Kaossilator', ' XLR3F to XLR3F Gender Changer', ' Stage Light Cable', ' 1 FT', ' T13: 169.445 MHz & 170.245 MHz', ' 400 watts; 12\" Speaker', ' 300 W, 4 Ohm', ' Archer Ikon V1', ' New', ' G1Xon', ' Mini Kaoss Pad 2', ' Supercardioid (Pitch Black)', ' Acapulco Gold Fuzz V2', ' 2 Inputs', ' RE320', ' SM86', ' AmpDude', ' CSIDMAN Delay', ' 8.6-inch Circular', ' 250 watts; 10\" Speaker', ' Refurbished', ' EVM12L Classic', ' 44VSL', ' 4Pre - 18 in / 8 out', ' PG81XLR', ' TS808', ' DeadKitten Windshield', ' NP-2', ' 500-Watt', ' 8.6-inch Crystal', ' Loudbox Mini Cover', ' (2) Effect Lights', ' Audio Interface', ' Interface, Mic & Headphones', ' 25-Pin to 8 XLRM, 10 ft', ' Patch Bay'}\n",
      "Style:: {' Extra Heavy', ' 100 Pack,Light', ' Bass', ' Thick', ' E', ' Controlled Sound X Coated Black Dot Snare', ' Keyboard', ' 2081 - Light', ' OBEY40', ' Since 1951 T-Shirt', ' Resonator', ' Slim-Line USB Controller', ' 700 Series', ' Les Paul', ' Heavy Tension', ' Soprano/Alto', ' S970', ' Neon Yellow, Wood', ' Software Bundle', ' KT-10', ' Classical Guitar', ' RESONATOR BANJO', ' (2) Wireless Mic Systems (Nylon)', ' Controlled Sound Coated Black Dot Snare/Tom', ' Dreadnought Acoustic', ' Powerstroke P3 Coated Snare/Tom', ' 24\" Depth with Casters', ' Stewart Copeland', ' Rectified Black Nylon', ' Acoustic Guitar Case', ' Thin', ' SG - Brown', ' Normal Tension, 3/4', ' 61 Note', 'i', ' 1-Pack', ' Core', ' Hammer-Action Keys', ' Sop Sax', ' Exotic Wood Top', ' Forward 5B', ' Semi-Hollow Guitar - Black', ' Rubber Pads', ' Metal Style I', ' Acoustic and Electric', ' Carbon', ' Bass ProWinder', ' Pro', ' Embossed', ' Spruce Top', ' Sgt. Peppers', ' Strength Hard', ' X5, 1.05mm, A=441', ' Cymbal, Black', ' Without 6 Months of Fender Play', ' Gibson/Epiphone Explorer', ' Alto Sax Reed- Strength 1.5', ' B7', ' Powerstroke P3 Coated Bass', ' System Blue DC27 \"Scooter\"', ' Delay', ' 5-Pack', ' Holds 2 Pairs', ' Transport Deluxe', ' Polish', ' TOP ASSEMBLY ONLY', ' Dreadnought', ' Ax', ' Medium Hard', ' 400I', ' RSP20', ' .009-.046', ' Sledgehammer Pro Clip-On Tuner', ' 0992116000', ' KSA7575+ U-Mount Attachment', ' Black, Wood', ' Strat Neck - 22', ' 61 Keys', ' Zil-Bel, Small', ' Gold', ' 10 Pack,Heavy', ' Practice', ' 80/20 Bronze', 'C', ' Holds 4 Pairs', ' Red, Nylon', ' Korg Volca Keys', ' Platinum Stage EQ/DI', ' Maple Fingerboard', ' Phos Br NANOWEB Coating', ' Acoustic', ' 7A Hickory', ' Regular -Swivel Hook', ' System Blue DC17 Light Indoor', ' LCD Screen', ' Maintain Replacement Packets - 12-pack', ' HOFBB20DN - Hofner Bass', ' Straight / Practice', ' Etherwave Theremin Kit', ' Rock Sizes', ' Humbucking', ' Swivel Hook', ' Mylar Drum Head', ' Hard Tension', ' J.D. Crowe (Studio)', ' VCYBB Cymbal Bag', ' 5-String, Long Scale', ' 3.0', ' Clarinet', ' E-9th Pedal Steel Tuning', ' Neil Peart 747', ' YRS-24', ' (5) Wireless Mic Systems (Nylon)', ' Sparkling Green', ' 2082 - Custom Light', ' D7M', ' DREADNOUGHT GUITAR', ' Medium Tension', ' KC411616N - 41x16x6 in.', ' 4 STRING', ' FA-100', ' Black Dip, Nylon', ' Blackout Trucker', ' Symphonic Wa Wa', ' Extra-Hard Tension', ' 6-Point Valve Guard', ' Drum', ' Electric', ' Nylon String', ' Ambassador Coated', ' Coated Fusion', ' Double Braced', ' EW400', ' 7A Nylon Tip', 'c', ' Stereo', ' Little Monster Brush', ' 2672 - Blue Steel Bass LT', ' 2554 - Blue Steel Electric CL', ' Concert Ukulele', ' Stereo VideoMic Pro Rycote', ' Cutaway Electric', ' MV200', ' E253', ' Dark', ' MV300', ' 12 Pack', ' Standard Pack', ' Left Handed Jazz Bass', ' Regular -Open Hook', ' Sharp', ' Midsize', ' Maple Fretboard', ' Concert Acoustic Electric', ' 100 Series', ' Extra Light', ' 2036 - Medium Light', ' Vinyl', ' Secure Headstock Yoke and Support Arms', ' West Coast Seattle Boy (Heavy)', ' Single Row', ' Super Long Scale', ' Silver Series', ' Stage Light Stand', ' 88-Keys', ' Valve Guard', ' 37 velocity-sensitive full-sized keys', 'm', ' Shaped Case', ' 25-Packs', ' PRO 550', ' CP1', ' Korg Volca FM', ' ER4P-T', ' Acoustic Guitar Bag', ' D5M', ' Mega Bone - Rolling Bag', ' Tonemaster', ' Rasta Man', ' Classic Player', ' Synth Only', ' Tie On', ' Single Row Jingles', ' Hard Shell Case', ' Loop End', ' Electric Ladyland (Heavy)', ' Thumb Rest Cushion', ' Purple Dip, Nylon', ' Telescoping Boom, Tripod Base', ' Double Stand', ' MV', ' Mini Bone', ' CG20DN - Classical Guitar', ' 3016 - ProMag Grand XM', ' EG20DN - Electric Guitar', ' Large', ' Blackout Baseball', ' Regular', ' Blasted', ' Electric Piano', ' GZR-P', ' YRS-23', ' Hear My Music (Medium)', ' KT-9', ' Rubber Snare Head', ' Dual Bass', ' Gig Bag (Thick Protective Padding)', ' 12 String Dreadnought', ' Planet Lock', ' Aluminum D', ' 8 STRING', ' Phosphor Bronze', ' 61-Keys', ' Humidipak Maintain Kit', ' Triple O Acoustic', ' Style I-Black', ' OUTFIT', ' Chris Aiken', ' .011-.052', ' M5', ' Purple Dip, Wood', ' Mini', ' Bold (Heavy)', ' Minnie Mouse', ' Custom Light', ' A-Frame Stand', ' HA-40 Hawaiian Tuner', ' All Solid-Mandolin Only', ' 3-Piece Delux Soprano', ' Vow Press Pedal', ' Profile 88', ' Shock Mount with Casters', ' Contego PRO PAC Case', ' Floor Tom', ' Standard Depth', ' Electric - Vintage', ' Cymbal, Natural', ' 6 String Baritone', ' 112V', ' 10 Pack,Light', ' World Tour Graphic', ' Mike Portnoy Signature', ' Nickel', ' Trombone', ' DU-200C', ' Tenor/Baritone', ' Analog Synthesizer', ' Classic', ' B Bass Form Fit', ' Universal', ' Nylon Strap (Tan)', ' Metal Swivel Snap', ' X0, 1.00mm, A=441', ' Medium/Heavy', ' Right Hand', ' Fretboard Conditioner', ' Medium Scale', ' Guitar', ' Fretless', ' Hello Kitty', ' J.D. Crowe (Stage)', ' Coated Standard', ' Medium weight, single-braced', ' Rosemary', ' Gauge 11-49', ' BG20DN - Electric Bass', ' Standard Sub Pole', ' 6 STRING', ' Guitar With Case', ' Clip-Free', ' Electric Bass Bag', ' Comfort Bar', ' 335 Semi-Hollow', ' Nylon Strap (Purple/Grape)', ' Round', ' GA-40 Guitar/Bass Tuner', ' Single Brace', ' Single-Pair Stick Holder', ' 80/20  POLYWEB Coating', ' Banshee 2 Talk Box Pedal', ' AW-2U Clip-On Ukulele Tuner', ' EDX22N - Dual Electric Guitars', 'n', ' Cymbal', ' Keyboard only', ' Troy Sanders', ' Clear Fusion', ' 3 Feet', ' Wavedrum Mini Dynamic Percussion Synthesizer', ' Acoustic Dreadnaught - Ash', ' Pedalboard', ' Affinity PJ', ' Normal Tension, 1/2', ' Jim Root Tele', ' Medium Soft', ' Steal Your Face (Tan)', ' iPad Music Stand Adaptor', ' DL41', ' GBELECN - Electric Guitar', ' 76-Key', ' Pickup Covers', ' OBEY70', ' RS720B', ' Left Handed', ' DL36', ' 19\" Controllers', ' XLR Female to RCA Male', ' Birch Heavy, Wood', ' 2562 - Blue Steel Electric MED', ' Guitalele', ' 5A Nylon Tip', ' Classical', ' Assignable Sustain Pedal', ' Restore', ' Direct Drive', ' Zil-Bel, Large', ' Praying Hands', ' Pre-Treated', ' FG1106 Guitar', ' Titanium', ' Key of G', ' ZLX-15-Cover', ' 800 Series 2 Leg', ' Single Braced', ' 72', ' SM3 CameraShoe Shockmount', ' Boom Cymbal Stand', ' Everyday', ' Jazzmaster', ' Violin / Viola / Cello Bow Case', ' Replacement Sponges - 3 Pack', ' HUSH Noise Reduction Pedal', ' Thunderbird Bass', ' Red Set (.010 1/2-.050)', ' 12  Pack', ' 12-String Acoustic', ' Korg ELECTRIBE Synth Based Production Station', ' Sizzle Ride w/ 6 Rivets', ' Soft Case', ' 3/4\" Size Acoustic', ' Acoustic-Electric', ' 3-Piece Set', ' 2550 - Blue Steel Electric XL', ' Black, Nylon', ' 1 pack', ' Medium', ' X-Long', ' HUSH Super C Noise Reduction Rack', ' BOTTOM ASSEMBLY ONLY', ' 10-Packs', ' Slim-Line USB Keyboard', ' Neon Pink, Wood', ' OBEY10', ' Dbl Drop D', ' Meet the Beatles', ' Double Row Jingles', ' 2679 - Blue Steel Bass ML', ' 5 String', ' CP300', ' STILETTO EXTREME-4', ' S49 49-Key Keyboard', ' V-Alexi Guitar Form Fit', ' Holds 2-3 Mutes', ' CP4', ' Guitar Only', ' M9', ' MicroHUSH Noise Reduction Pedal', ' Untreated', ' 11\" OPENBACK BANJO', ' KSA7575 Universal Attachment', ' Belt Drive', ' 3/4 Size', ' Palm Key Risers', ' Open-G', ' Ambassador Coated Bass', ' Ambassador Hazy Snare Side', ' S61 61-Key Keyboard', ' Rebound 7A', ' CTK-2400 Premium Pack', ' 0992109000', ' Volume Expression Pedal', ' Heavy Weight', ' 300 Watts Peak', ' A-MODEL MANDOLIN', ' Hot Rails', ' Emperor Coated Tom/Snare', ' PG2', ' 62 Custom', ' 12-String Guitar', ' Monotron Duo Analog Ribbon Synthesizer', ' Absorber Shield', ' Sustain Pedal with Half-Pedaling', ' SM6 Shockmount w/ Pop Filter', ' iPad mini', ' Clear', ' Quick Release - Single', ' Standard Bone', ' Nyltech', ' Series 13', ' Humidifier', ' 3-Pack', ' Junior -Swivel Hook', ' Nylon Strap (Black)', ' Humbucking with Microphone', ' Scott Johnson Practice Sticks', ' Alto Sax', ' 100 Pack,Heavy', ' Woven', ' Powerstroke P3 Coated Tom', ' CA-1 Chromatic Tuner', ' Snare Drum', ' 2556 - Blue Steel Electric REG', ' Nylon Strap (Blue)', ' Single Belt Drive', ' Strength Medium', ' Standard Shape', ' Emperor Coated Pack', ' (16) Wired Microphones', ' Monotron Delay Analog Ribbon Synthesizer', ' Two-sided', ' Concept Series Boom Stand', ' Tenor Ukulele', ' AT311EP Phonograph Cartridge', ' Nato Body', ' 37 velocity-sensitive mini-sized keys', ' Seatbelt Strap (Black)', ' 6 Pack', ' Soprano', ' Mandolin', ' Educational Bundle', ' B3', ' Brilliant', ' Loog Electric Guitar', ' Acoustic Guitar', ' Regular Light', ' Concept Maple', ' 72 Pack', ' Light weight, double-braced', ' Micro-Fiber', ' Jumbo Acoustic', ' Custom Shop', ' 50s Tribute', ' Ultra Light', ' OMEN-6 2012', ' Kick Tower', ' Clear Nylon', ' Right Angle Ends', 'l', ' Single Channel', ' Single Coil', ' 8 String Baritone', ' 2558 - Blue Steel Electric LTHB', ' VDH Drink Holder', ' STILETTO EXTREME-4 LH', 'u', ' OMEN-8 2012', ' Small Body Acoustic Bag', ' 4-String', ' Bass - Ash', ' 100 Pack,Extra Heavy', ' Strength 3', ' 12', ' microKEY air 61', ' Resophonic Guitar', ' Sizzler', ' TA-40 Superdrive Pedal', ' Weighted Base', ' Double', ' 600I', ' Loop', ' P255', ' Folk', ' Ukulele with Case', ' 5550113515', ' Key of C', ' Synthetic', ' Shira Kashi Oak 5A', ' Basket Weave', ' Maintain Replacement Packets - 3-pack', ' Ash - Short', ' nanoKEY Studio', ' Emperor X Coated', ' CP40', 'S', ' 2034 - Light', ' EZ Grab Metal Slider', ' Forward 7A', ' Wood Tip', ' DU-200B', ' (6) Wired Microphones (Case)', ' 20', ' 1 Pack', ' Extra Long Electric', ' Semi-Weighted Keys', ' Solid Spruce Top', ' (4) Wireless Mic Systems (Case)', ' Black - Short', ' Beginner Bundle', ' Scott Johnson Marching', ' Albums', ' Red Stars Acoustic Guitar', ' AT95E/HSB Combo Kit', ' AW-2G Clip-On Guitar Tuner', ' Multi-Pair Stick Holder', ' (12) Wired Microphones (Nylon)', ' FM 10G Amp', ' 4 Conductor 100 ft', ' 25\" Controllers', ' Cotton', ' RS320', ' Padded with Brass Corners', ' 10-Pack', ' System Blue DC50', ' Maple', ' Solid Top-With Case', ' 2505 - NickelSteel Electric MED', ' Stereo VideoMic Pro', ' Polish Cloth', ' 25-Key', ' Ball End', ' EC-1000 Evertune', ' Webbing', ' SA', ' BASS GUITAR', ' 3-pack', ' 3 pack', ' Vintage Noiseless', ' X15E, 1.18mm, A=442', ' Strat Neck', ' Concept Dual Chain', ' Cup', ' TENOR GUITAR', ' Silver', ' GBA500N - 1/2 Size Acoustic Guitar', ' Rosewood Fingerboard', ' Frozen (2015)', ' Extreme', ' Trumpet w/ Mute', ' 12\" Weighted Base', ' CA-40 Chromatic Tuner', ' 0992121000', ' Straight Stand', ' USA Graphic', ' Leather End', ' microKEY air 37', ' SMS-40', ' Starter Bundle', ' Stylophone', ' C', ' Heavy', ' A', ' 2500 - Nickelsteel Electric DT', ' Long', ' Deluxe Sub Pole w/ 20mm Adapter', ' Right-Handed', ' Single Wireless System (Slim EVA)', ' Regular -Metal Hook', \" 50's\", ' Guitar & Amp Bundle', ' Stage Right Series', ' Piano', ' Upright Bass Pickup', ' Acoustic Bass', ' 3-Piece Alto', ' For DDJ-SX/RX', ' Electric - LED Edition', ' Short Hex Rod', ' Single', ' Deluxe', ' Faded', ' YRS-20', ' 80/20  NANOWEB Coating', ' M7', ' BOOK PLATE WITHOUT HOLES', ' Deluxe Telecaster', ' X10E, 1.11mm , A=442', ' KC18S10N - 38x15x6 in.', ' 6/12 String Dreadnought', ' Theremini', ' Electric Bass', ' PDDT800-04 Round', ' Hi-Hat', ' Black Nylon', ' microKEY air 25', ' ER4S', ' Mike Johnston', ' 5 STRING', ' Pro Mag Grand', ' 4 String', ' 400 Watts Peak', ' Crash Ride', ' HELP!', ' DD65', ' Single Channel with Ground Lift', ' TR-330', ' Hardware Pack', ' Mandolin Pickup', ' Union Jack', ' GZR-PJ', ' PT-M/M LH', ' CHORUS', ' Shira Kashi Oak 2B', ' 9 STRING', ' Wide Shape', ' Warpig (.88mm)', ' Lemmy (1.14mm)', ' Mini Keys', ' For DDJ-SR', ' Chain Drive', ' PARLOR GUITAR', ' MH Guitar Form Fit', ' 25-pack', ' Rattler', ' Shira Kashi Oak 5B', ' Rosewood Fretboard', ' FL-10 Flanger Pedal', ' Solid Rosewood', 'a', ' Mesh Snare Head', ' Memphis (Medium)', ' Straight Ends', ' Acoustic Electric Guitar', ' Recital', ' Right Handed', ' GBBASSN - Bass Guitar', ' 49 Note', ' Music Stand', ' Hanging', ' Plus Snare Mesh Pad', ' Clear Standard', ' Quick Release - 3 Pack', ' Rich Redmond Signature', ' APX Guitar', ' DGX-660', ' Single Stand - 2 Pack', ' Straight End', ' Black', ' Nickel NY Steel', ' Maple Green Dip, Wood', ' RS502T', ' 2002 - Light', ' SH6250 - 50 ft', ' Stratocaster', ' DD65 Premium Pack', ' 73-Keys', ' Traditional', ' 2 Speaker Stands w/ Carry Bag', ' Electric Guitar Case', ' 5B Hickory', ' Bold As Love (Medium)', ' Deluxe Tripod', ' Professional', ' Engineered Wood Fretboard', ' Extra light', ' RISE 25', ' 0993116000', ' Strength Medium-Hard', ' Single Shaker', ' Momentary Right Angle', ' Premium Abalone Inlay', ' microKORG S', ' Skulls', ' Junior', ' 12\" Weighted Base - Deluxe Height Adjust', ' BSAG20DN - Acoustic-Electric Bass', ' Ambassador Coated Pack', ' Pro edition', ' Ash - Long', ' Nylon Tip', ' For Small Controllers', \" Europe '72\", ' FM Synthesizer', ' Slinky', ' Single Wireless System (Nylon)', ' Ukulele', ' Integrated Flash', ' Saxophone only', ' 2670 - Blue Steel Bass XL', ' Combo', ' Standard with Elastic Band', ' Speaker Stand', ' AT92ECD Phonograph Cartridge', ' Strength Medium-Soft', ' Straight', ' 2552 - Blue Steel Electric LT', ' Rebound 5A', ' Big Band with Elastic Band', ' C5', \" Hard Day's Night\", ' Flute', ' Strength 1.5', ' Classic 5A', \" 50's Telecaster\", ' ZLX-12-Cover', ' Jazz', ' A7', ' Only Guitar', ' RISE 49', ' GBA100N - Acoustic Guitar', ' V-Drum Set with Stand', \" '57 Twin\", ' Stereo VideoMic', ' Fusion Sizes', ' Anthology', ' 400 Ser LH Single Chain', ' .10-.050', ' PSR-E343 Portable Keyboard', ' Finding Dory', ' Holds up to 6 Mutes', ' E353', ' COMPLETE STAND', ' Double Bass Bag', ' 5A Hickory', ' BA-40 Bluegrass Tuner', ' WK245', ' AT95E Cartridge', ' Shorty HCT-SH-BL', ' Compact Sustain Pedal', ' 6', ' Single Chain Drive', ' Stand', ' Josh Freese', ' Spruce', ' 12\" OPENBACK BANJO', ' Hi-Hat Stand', ' 14 Fret', ' Monotron Analogue Ribbon Synthesizer', ' Triple Stand', ' SH6220 - 20 ft', ' Strength 2', ' Combo Pack', ' Korg Volca Sample', ' Mega Bone', ' MST1000 U-Mount Microphone Stand Tray', ' Body Polish', ' Electric Guitar', ' 500 Ser Dual Chain', ' Philharmonic', ' 112J', ' Short Scale', 'p', ' Pop Filter with Stablizing Arm', ' Nickel Plated Steel', ' 1/2 Size', ' B Bass 6-String Form Fit', ' Trumpet', ' Standard Tripod', ' Korg Volca Beats', ' Standard (Universal Fit)', ' Mesh Pads', ' Short Cut', ' Matt Freeman', ' Holds 1 Pair', 't', ' Wavedrum Dynamic Percussion Synthesizer', ' Receiver Only', ' Bass VI', ' Electric Guitar Bag', ' Classic 5B', ' 335 Semi-Hollow - Brown', ' Travel', ' Surge Protector', ' Gold Series Gig Bag', ' AL4', ' Ambassador Clear', ' Platinum Pro EQ/DI', ' Silver Series Gig Bag', ' Vintage Strat Neck', ' 400 Ser Single Chain', ' Rosewood Body', ' 23 Canes Dual Row', ' Tweed', ' 2674 - Blue Steel Bass ML', ' HSS Stratocaster', ' Dual Electric', ' 6 pack', ' Electric Bass Case', ' CompactKit 4', \" 60's\", ' 2675 - Blue Steel Bass XM', ' Steel String Guitar', ' Bass - Grey', ' 4 String Set', ' Natural, Wood', ' ER4P', ' D', ' Double Bass - Gold Series', ' Full Size', ' Thinline Telecaster', ' Concept XF Direct Drive', ' BOOK PLATE WITH HOLES', ' Trolls', ' Curved', ' Microphone', ' 2 Conductor 100 ft', ' Light Top/Heavy Bottom', ' Left-Handed', ' AT90CD Phonograph Cartridge', ' B', ' Stars & Stripes', 'o', ' FG127 Guitar', ' Trombone / Alto Sax / Clarinet', ' Solid Cedar Top', ' FM 15G Amp', ' AL5', ' Mahogany Body', ' PT-M/M', \" Silver Collector's Series (Heavy)\", ' Protect', ' Double Belt Drive', ' PG1', ' Double Braced w/ Extra Strength Tubing', ' Rebound 5B', ' Frontline (Heavy)', ' 12 STRING', ' CHORUS and DELAY', ' CLASSICAL or RESOPHONIC GUITAR', ' Adjustable Cup', ' microKORG XL +', ' Gibson/Epiphone Flying V', ' Steel String', ' Case Bundle', ' Signature (Medium)', ' 600 Series', ' WK6600', ' BDX22N - Dual Electric Basses', ' Pinstripe Coated Bass', ' Lightweight Throne', ' Shine', ' Abbey Road', ' P45', ' nanoKONTROL Studio', ' Straight / All Aluminum', ' Black - Long', ' Extending', ' Single Electric - Gold Series', ' String Cleaner', ' 5 String Set', ' 2 Pack', ' Mini Electric', ' With Gig Bag', ' Venom Rock Club', ' Pro Mag Plus', ' Standard Tripod w/ Telescoping Boom', \" Skull n' Bones\", ' 300 Series', ' TS210', ' Baritone', ' Disney Princess', ' Classic 2B', ' Red', ' DU-200T', ' Finger Saver', ' Mini Acoustic', ' Band of Gypsys (Heavy)', ' With Case', ' HSS', ' 36 Pack', ' Stereo VideoMic X', ' Light', ' Mono', ' J5 Telecaster', ' Hawaiian Tattoo', ' Seatbelt Strap (Silver Grey)', ' 5', ' 10 Pack,Extra Heavy', ' Alto Sax Mouthpiece', ' 700 Ser Straight Stand', ' Special Short Scale', ' Monster Brush', ' Skinny Top Heavy Bottom', ' Restore Conditioning Packets - 3-pack', ' Bass Drum', ' Receiver & Stand Only', ' 3 Pack', 'P', ' 10-pack', ' WK7600', ' PDDT720 Tractor', ' Revolver', ' TS212', ' EC Guitar Form Fit', ' PRO 750', ' Full-Size Keys', ' Clarinet only', ' Projection Ride', ' TS-30 Overdrive Pedal', ' F', ' Metal Hook', ' AL3', ' JR2', ' Momentary Straight', ' DL38', ' Anti-Vibe, Wood', ' Oblong Case', ' E453', ' Special', ' Bronco', ' Premium Pack', ' SSS Stratocaster', ' SMS-50', ' Double Chain Drive', ' Guitar with Case', ' Mounted Tom', ' 25-Pack', ' Original', ' Ukulele - Concert', ' Mouthpiece 4C', ' Thin & Thick', ' For DDJ-SZ/RZ', ' Vintage Modified PJ', ' Acoustic OM or Classical Guitar', ' Standard Sizes', ' Alto Sax Reed- Strength 2.0', ' Super Light', ' 2', ' 25 velocity-sensitive mini-sized keys', ' Hanging Style w/ Saftety Strap', ' Light Tension', ' Tie End', ' GBA750N - 3/4 Size Acoustic Guitar', ' Alto Sax Reed- Strength 3.0', ' Deluxe Hard Case', ' Single Bass - Silver Series', ' Claifornia', ' Tour', ' DU-200', ' 12 Fret', ' Ab', ' Standard', ' 5 string', ' Alto Sax Reed- Strength 2.5', ' 2008 - Extra Light', ' Double Electric - Gold Series', ' 800 Series Boom Stand', ' Fusion', ' Acoustic Electric Guitar Only', ' Jaguar/Jazzmaster', ' Double Brace', ' 2032 - Extra Light', ' LK-280', ' Solid Mahogany', ' Anti-Vibe, Nylon', ' KC50S10N - 48x17x7 in.', ' Snare Stand', ' Concert', ' Fingerstyle', ' 5B Nylon Tip', ' Extra-Super Light', ' Loudbox Artist Cover', ' Silent Kick Pedal', ' 61-Key', ' PRO 900', ' WG20DN - Dreadnought Acoustic', ' 3001 - Artist XM', ' Medium Light', ' 49-Key', ' Jaguar', ' Electric Guitar - Ash', ' CompactKit 7', ' PDDT820-X Tractor', ' Solid Engelman Spruce Top', ' Buzz Kill Gels', ' Chorus', ' Planes', ' AW-2 Clip-On Guitar Tuner', ' Bass - Black', ' Lightweight', ' Coated', ' Stylophone Beatbox', ' 2038 - Medium', ' 000 SIZE GUITAR', ' Single Stand', ' Mesh Drum Head', ' SA (Set of 3)', ' TS215', ' ', ' 2504 - NickelSteel Electric LTHB', ' Double-Braced', ' Hard Case', ' ESAG20DN-Semi-Hollow Guitar', ' 2503 - NickelSteel Electric REG', ' Extended Support (Size Small)', ' Western Eagle', ' Soprano Ukulele', ' Banjo', ' P115', ' Tenor', ' Mahogany', \" 50's Stratocaster\", ' Tenor with Cutaway, Electronics, and Gig Bag', ' Stratocaster Body', 'e', ' Tenor Sax', ' Powerstroke P3 Coated Top Clear Dot Snare/Tom', ' Clear Rock', ' Dancing Bears', ' Standard with Casters', ' Fixed Boom, Tripod Base', ' MSA7011 U-Mount Clamp-On Bookplate', ' Mickey Mouse (2016)', ' 700 Series boom Stand', ' Jazz Bass V', ' Right-Angle', ' Snare Kit', ' Sustain', ' Spaceman', ' Gauge 09-42', ' Light +', ' 2678 - Blue Steel Bass LT', ' Breakout', ' Combo Organ', ' Boom Stand', ' 60s Tribute', ' Violin/Viola Pickup', ' Johnny Marr', ' Club', ' GBCLASN - Classical Guitar', ' Premier Series', ' Neon Green, Wood', ' Bb Clarinet', ' Les Paul - Brown', ' Double Tom Stand', ' Coated Rock', ' TCL/Trouper', ' Custom Telecaster', ' Pinstripe Coated Tom/Snare', ' S/S/S', ' New Fusion', ' EC-1000', ' Gauge 10-46', ' Headlock', ' Nylon', ' V String', ' Pitchblack Custom Pedal Tuner', ' Soul Press Pedal', ' Forward 5A', ' DM6 Nitro Kit', ' V16 Bari Sax', ' ELECTRIC GUITAR', ' Black Dip, Wood', 'd', ' Strength 2.5', ' Banshee Talk Box Pedal', ' Snakes Mosaic', ' Single Set', ' Key of A', ' Korg Volca Bass', ' 3011 - ProMag Plus XM', ' 24 Pack', ' HELLRAISER C-1', ' S770', ' No Flash', ' NANOWEB Coating', ' A-Frame', ' Banjo Pickup', ' Bass Bow Case', ' 2676 - Blue Steel Bass MED', ' Case (Lightweight EPS Foam Frame)', ' DREADNAUGHT GUITAR', ' Tuba / Tenor Saxophone', ' Regular -Loop', 's', ' 500 Watts Peak', ' Tenor with Cutaway and Electronics', ' White', ' Double Guitar Bag', ' CTK3200', ' Tombstone MH Form Fit', ' A5', ' Long Hex Rod', ' 4 string', ' Sweep Wire Brush', ' Gold Series', ' RS420', ' Souls of Distortion', ' Shallow Depth', ' Silver D', ' Bari Sax', ' Emperor Coated Bass', ' Extra Light+', ' SG', ' OMEN EXTREME-6 FR', ' Medium Weight', ' Classic Player HH', ' Custom Extruded', ' Straight to Right Angle', ' Fretted', ' Clip-On', ' Bb', ' Long Scale', ' Acoustic/Electric Combo', ' Acoustic Quick Release', ' EC Guitar XL Form Fit', ' 13 Canes', ' Rosewood', ' Brazilwood', ' 2557 - Blue Steel Electric DT', ' 800 Ser Straight Stand', ' Single PCS', ' Triple', ' Extra Long -Open Hook', ' 5-pack', ' Electric Guitar - Black', ' 18\" Crash/Ride', ' Neoprene', ' 2004 - Medium Light', ' 2 Conductor 50 ft', ' Solid Sitka Spruce Top', ' 3000 - Artist', ' Ride', ' Semi-Hollow Guitar Bag', ' PSR-E343 Premium Pack with eMedia Software', ' 12 String', ' C7', ' (4) Wired Microphones (Nylon)', ' XLR Cable', ' Leather', ' Wood Handle Whip', ' 23 Canes', ' 0992119000', ' Etherwave Theremin Std.', ' Floor Stand', ' 0992215000', ' 5-String', ' 76 Note', ' No Gig Bag', ' Manhasset M48 Symphony Music Stand AC48S', ' Sustain and Soft', ' Full-Color Screen', ' Natural', ' Rock', ' .013-.056', ' Stereo/Pan', ' Guitar ProWinder', ' Violin', ' 3-Zone', ' Digital Piano', ' Single-sided', ' 3-Piece Soprano', ' Normal Tension', ' Cedar', ' SOPRANO UKULELE', ' Eva Gardner', ' Extra Long -Swivel Hook', ' 88 Note', ' Classic 7A', ' Strength 3.5', ' Nylon Strap (Strawberry)', ' Jazz Bass', ' SSS', ' PDDT700 Round', ' XLR Male to RCA Male', ' G', ' Slim-Line USB Drum Pad Controller', ' Db', ' S88 88-Key Keyboard', ' Stiffo', ' 0992234000', ' B5', ' Loudbox Mini Cover', ' Mustang', ' Traditional Brown', ' LK-265', ' Acoustic Dreadnaught'}\n",
      "Color:: {' 14\" x 5\" Wood Shell', ' MM-14FX', ' ACE-220', ' Delux', ' White/Laquer', ' Alto Sax - Gilded', ' Gecko', ' Redburst', ' Matte Black 1 Ply', ' Basic', ' Black Teeth', ' White with Black Ring', ' C4', ' SN1X', ' Oblong shaped in transparent yellow', ' Red/Charcoal', ' Z2', ' 1-Pack', ' MI0254', ' Pink Burst', ' 17 open hole', ' Small Desktop Microphone Stand', ' Metal Foot Rest with Metal Extanation', ' Tribal Sun', ' Gold Finish', ' 1/2 Somewhat Flecked', ' Pinnacle Deluxe Distortion', ' Classy Matte Silver', ' 24inch mahogany', ' Full-Size Classical', ' Extra Slinky 3 Pack', ' Turquoise Pearloid', ' Gold', ' Bundle w/ Cables', ' Silver 10 Pack', ' 7150 Pure Nickel', ' Style 5', ' Metal Medium Alto/Tenor Mouthpiece', ' Maple Fingerboard', ' Cajon Foot Tambourine', ' Hazel', ' Hard Tenor Mouthpiece', ' Music Stand Tablet Holder.', ' Fits Metal Tenor Sax Mouthpieces', ' Forest Leaves Birds Butterfly', ' Rosewood Fretboard Block Inlay', ' Chrome 2 Pcs', ' 5 Strings', ' Traditional Sunburst', ' Dead Draw', ' On Stage GSA10WT Guitar Strap White', ' Receiver/Transmitter', ' Tumnus Overdrive', ' C#/Db', ' Spalted Maple', ' Opaque Black', ' Satin Natural', ' Fireburst Satin', ' Dark', ' Black/White Dot', ' Pickguard-C1', ' Race Green', ' Brown Colorful', ' Gold Mirror', ' .60mm | Orange', ' Natural Satin', ' 1 to 3', ' Satin Ebony', ' With Pop Filter', ' 6 Pack Multi Color', ' Small Button Gold', ' Satin Chrome', ' White Tip', ' katy', ' Vintage Weave', ' Champagne Finish', ' Hickory', ' 51mm Slide', ' 4Ply Light Blue Pearl', ' National Blue', ' Strap-B15', ' Metallic Blue', ' Bongo Cajon Kit (Natural)', ' Unfinished', ' Hawaii Coconut Pattern Black and White', ' 11.75 in. x 7.9 in.', ' Guitar Black Ebony', ' (1) Van Gogh Starry Night Sunflowers Cafe Series', ' Tapestry', ' Plexi-Drive British Overdrive', ' MOP Dots', ' Red & Green & Blue', ' Uku', ' Heritage Cherry', ' Shell Green Black', ' 3 Way', ' Leopard', ' F-F1', ' black engraved flower/gold keys', ' Black Makanu21', ' Guitar Bone Pins', ' Pearl Blue', ' 3ply Mint Green', ' 1400 hours', ' Pearl White Metallic', ' 4Ply Red Pearl', ' Tulip Button Chrome', ' Union Jack Flag', ' Yellow with Tiger Flame', ' Silver Metallic', ' Professional Studio Boom Arm Black', ' Bodypack Transmitter (2 Lavaliers)', ' 3C Silver Plated', ' Hawaii Hibiscus and Palm', ' Worn Gold Top', ' Natrual', ' American Eagle', ' Olive Drab Green', ' 7x10W 4-In-1 8/13CH', ' .88 | Black', ' Bone-3mm', ' Burgundy', ' Narrow', ' Ebony Vintage Gloss', ' Cocobolo Wood and Golden Colored Metal Handle.', ' 1 Year', ' Black with Yellow Stripes', ' Flamingo Sunrise', ' Amberburst', ' orange', ' Encore Scratch Remover', ' Booster', ' 1ply White', ' 4 pack', ' Pinnacle Distortion', ' On Stage GSA10BR Brown Guitar Strap', ' WB001 with Wired Headset', ' 1 pack', ' Celtic Knot Multicolor 1\"', ' Charcoal', ' Meet the Beatles', ' Red Moon', ' Light Blue Burst', ' 1Pair', ' Precision Brushes', ' Teal', ' Ghrome', ' 0.88mm Plectrum - Green', ' Guitar Fingertip.1', ' 1 Transmitter+3 Receiver', ' 76x3x13mm', ' Sunset Palms', ' Navajo 1\"', ' Faerie', ' CONFETTI', ' 3Ply White/Black/White', ' Tulip Button Black', ' Solid Brass', ' 1/2-3/4 Size', ' Clear & Silver', ' Ego Compressor', ' For Alto Sax', ' Mic Stand', ' for ST(Rosewood)', ' Single G String', \" Custom Shop '51 Nocaster\", ' original recipe', ' Small', ' Clear', ' High F', ' Deep Black', ' Dark Oak', ' Metal Gold', ' Standard Shape', ' Black 2\" 24pcs', ' Multi Color', ' 10 ft.', ' Purple Pearloid', ' Super Slinky 3 Pack', ' Steel', ' CA', ' Knot 1 Yellow/Red', ' DMK-5', ' Acoustic Guitar', ' Assorted Colors', ' Bulk', ' Bohemia No.2', ' Black (5-Pack)', \" Super 250's (3-Pack)\", ' 15 ft.', ' Gold R3', ' SUNBURST', ' 3Ply Black', ' Ice Blue', ' Rechargeable Receiver-Black', ' Strength 3', ' Mocha', ' Violet', ' B1', ' .88 | White', ' Belcat TRM-507', ' Flame', ' Fits Slim Hard Rubber Tenor Sax Mouthpie', ' style7', ' Slap Top Cajon Bag', ' Blue Moon', ' Abalone Pearl', ' Gold Pearl', ' Figured Natural', ' Barcelona', ' Chrome R3', ' 1 Pack', ' 18K Gold Plate', ' Passion Pink', ' Violin Bulk', ' Nuclear Green', ' Original Bullets', ' Western Horses', ' Extra Large', ' Black1-Ebony', ' Flamed Maple Back & Sides', ' No.4', ' Hawaii Yellow', ' Black w/ White Dot', ' TENOR-DJ235G-D4', ' Plexi Tone', ' Turquoise', ' Black White Tweed', ' Vintage Amber', ' PURPLE', ' Black Chrome', ' Cherry', ' Pearl Parchment', ' White Tuner w/ White Mic', ' Ruby Red', ' Vintage Noiseless', ' red', ' 6-pack 0.3M', ' Silver', ' 1ply Matte Black', ' Assorted', ' natural satin', ' Open Pore Vintage Burst', ' Caf Cajon with Snares', ' C', ' Nickel/Laquer', ' Premium', ' Bohemia No.1', ' Black - 13inch', ' Aqua Blue', ' Strength 4', ' Black/White Checker', ' Abalone', ' RED', ' 12 Pack Wedge 1 Inch', ' 4Ply Gray Pearl', ' Medium Gauge', ' Electric Bass Guitar', ' Black Nylon', ' Gray Scales', ' Silver on Black', ' Antique Varnish', ' AT-200D', ' 5 Pack', ' Silver Sand', ' C20', ' Wide Ribs', ' Green + Blue', ' V17', ' chrome and green', ' Wine (Burgundy)', ' Black Sparkle', ' Pickup-D1', ' 5 ft.', ' Hennessey 7300SL Strap Locks Silver', ' Medium-Light', ' Black/Nickel', ' Black Strap, Brass button', ' Translucent Black', ' 24 pack 2\"', ' 4Ply Pearl Blue', ' Tortoise Shell', ' Tobacco Sunburst', ' Pickguard-C8', ' lighting', ' Gold on Brown', ' Sonic Blue', ' Red Saugerties', ' Pure White', ' CP-05', ' Calypso 1\"', ' Cream', ' Handheld Microphone +BodypackTransmitter ( Lavalier + Headset)', ' SmartRig Di', ' Traditional', ' MA-12 Blue and White Color', ' Light Colors', ' Pink+Purple', ' BCH', ' Guitar capo-gray', ' Off Center Groove', ' 3/4 Size Light', ' Crosses', ' Cool Coral', ' Brad Paisley Drive', ' Walnut', ' Silver to Black Fade', ' Brushed Black', ' Wall Washer Light 4CH', ' Metallic Bronze', ' MI0450', ' Safari Print', ' 1Ply Cream', ' Black Moon', ' White/Silver', ' Ukulele', ' Candy Red', ' Silver Mirror 1 Ply', ' .73mm | Yellow', ' Effects Pack', ' Fluroescent Pink', ' 9050 Flatwound', \" Stainless Steel 350's\", ' FT-016', ' Darker Yellow', ' Cherry Sunburst', ' American Vintage 65', ' Blue Colorful', ' N3', ' Pewter Sand', ' darkgray', ' Tulip Button Gold', ' Octpus', ' Smokey Chrome', ' !other', ' Mermaid', ' 8250 V-String', ' Classic Claves', ' Butterscotch Blonde', ' Black Cotton', ' Yellow Burst', ' Midnight Sky Blue', ' 5050SMD 300LED RGB', ' Purple Sunset', ' Honey Burst Satin', ' Z Black', ' Golden Brownie T1', ' Hi-hat Tambourine', ' Stand', ' regatta', ' 3-tone Sunburst', ' Super Natural', ' Ver. 07W ?Blanca?', ' Black-Ebony', ' Drum Stick Holder', ' Orange', ' Flatwound', ' Ivory w/ Black Dot', ' black-2', ' Navy', ' Wild Purple', ' CM-88', ' Glass(Clear)', ' Renaissance Art', ' style3', ' BLK', ' Gold/Nickel', ' American Avenger', ' Receiver*1 & Transmitter*3', ' Foam Wind Screen', ' TENOR-DJ405AB-A2B', ' 1.14 | Black', ' Digital Delay', ' R8RT, R10RT, R12RT & R16RT Multi-Cart', ' Dyna Compressor', ' AC-05', ' Black w/green trim', ' Ver. 05 Soleares', ' Chocolate', ' Tree of Life', ' All Solid Acacia', ' Stars & Stripes', ' Dark Brown Rim', ' Red Guitar Pick', ' 3 Cables', ' 15pcs', ' Gun Metal', ' Beefy Slinky 3 Pack', ' D Pouch - BLACK', ' Pearl Grey', ' Professional Cymbal Bag', ' LOW F', ' Shell Blue Yellow', ' 2 Pack', ' Mini5 Rhythm Amplifier, Black', ' Paisley Pattern In Dark Blue', ' Travel Didgeridoo', ' Transparent Brown', ' Gloss Natural', ' Baritone', ' Carbon Fiber', 'G', ' Tweed Right Angle', ' ABS - Black', ' Red', ' Medium 6 X 5 in.', ' 18\" Traditional Medium Crash', ' On Stage GSA10BU Burgundy Guitar Strap', ' Warm White, Pro', ' Dark Wood Streak', ' TENOR-DJ200AB-P6B', ' Light Gauge', ' Indian 1\"', ' Smiley Faces', ' Silver/Blue', ' Green Colorful', ' Parchment Pearl', ' Bridge Position', ' Crme', ' Low E', ' DM-70', ' Bandana Red', ' sea blue/gold keys', ' TENOR-DJ233G-D3', ' TENOR-DJ405GK-A2W', ' Black Satin', ' Jewel Blue', ' Black-Carbon Fiber', ' F', ' 1ply Black', ' Natural Type 3', ' Tatoo', ' B250K', ' Black,White,Brown,Red', ' Brass', ' Pointed Teardrop', ' Metallic Grey', ' With Pop Filter and Shock Moun', ' Black & Gold', ' White Moto', ' Ridge', ' 7250 Nickel-Plated (V-String)', ' ORANGE', ' Hawaiian Surfer', ' Tiger', ' Gold Bass Tuning Pegs', ' Red-White', ' Banjo', ' A0532', ' Dark Red', ' Pointed Square', ' Sapphire Blue Transparent', ' Sage Green Metallic', ' Light 3 Pack', ' Orange, 1.14mm', ' Black, Light Gray, and Metallic Blue', ' Retro Sun', ' 13\" x 3.5\" Piccolo', ' Knot 1 Green/Black', ' Red / Black', ' Ch Sunburst', ' Left-Handed, Natural', ' Dark Blood Red', ' Grindstone Sparkle', ' Red + Gold', ' Twisted Tele', ' Black & White Checker', ' Blue/Charcoal', ' 18\" Jazz Extra Thin Crash', ' Matched Quad', ' Greenwich', ' Extra Heavy Black', ' Translucent Blue Satin', ' Satin Honeyburst', ' 1.00mm Plectrum - Purple', ' Fits Large Metal Tenor Sax Mouthpieces', ' Size 3', ' Black + White', ' Guitar Amber', ' Orange Cream', ' n/a', ' TENOR-DJ102G-AS', ' Knot 1 Emerald/Tan', ' 1200 hours', ' 1.5 | Black', ' 14\" Trash Stack', ' 3 tone sunburst', ' Exotic Mahogany', ' MA-12 RoseWood Color', ' Metallic Copper', ' Artist Series Shaker (Loud)', ' Celtic', ' 3ply Aged white', ' Epi Big Button Chrome', ' Striped Onyx', ' Size 2', ' Persimmon', ' Classic Brushes', ' 3Ply Black/White/Black', ' Gold 1.0', ' colorful', ' black and brown', ' Angled Pedal Connector 1/4 inch (Gold)', ' 8 Way Daisy Chain', ' Silver 5 Pack', ' Violinburst', ' WHITE', ' Charcoal 4 pack', ' Sheesham Black', ' 0', ' #1-for Saxophone', ' Music Stand Tablet Holder', ' GT-5', ' Light Violin Sunburst', ' 18\" Extra Dry Dual Crash', ' DB-2', ' Blackblood Skull', ' Black, 10 Pack', ' Sunburst + Learn to Play Guitar DVD', ' 4ply Vintage Tortoise', ' Worn Cherry', ' Coyote', ' White+White+Black', ' red stand', ' Gold R2', ' Receiver*1 & Transmitter*7-upgrade version', ' #3-for Flute', ' Face Art', ' Gray with Black Foam', ' 1000 hours', ' RAINBOW', ' Purple, 0.60mm', ' Anodized Blue', ' Chrome Plate Ivory Button', ' Guitar tunner-White', ' Capo White', ' .50mm | Red', 'f', ' Black w/ Grommets', ' Champagne', ' Alpine White', ' Hennessey 7200B Strap Locks Black', ' Sliver', ' Purple/Charcoal', ' Neck Position', ' Pearl Black', ' Stand+Bag', ' 38x3.5x5/4.5mm', ' Stainless Steel/White', ' A500K', ' Black MIDI (New Release)', ' Classical Guitar', ' TENOR-DJ102W-E2', ' Lav Clip', ' Light Orange', ' size: 2.5', ' Medium Gauge (.011-.052)', ' Chrome - 6inch', ' Gold 2pcs', ' Black Walnut', ' Red Raspberry', ' Tie Dye', ' Black 2-Pack (60\" Height)', ' Large Round', ' Black, Ebony', ' spruce', ' Pickup-D2', ' Aged Cherry Burst', ' KING2603', ' Burgundy sand', ' Small Button Black', ' Red White Blue Flowers', ' Light-Heavy 3 Pack', ' Intermediate', ' Mod Station', ' White&Black', ' Yellow Blaze', ' Slvr/Blk', ' Desert Sand', ' C3', ' Sand', ' 1 Female to 2 Male', ' 52mm Bridge Chrome', ' Black/Chrome', ' grey/silver', ' Vintage Blonde', ' Graphite Gray', ' Summer Poncho', ' AB', ' white blonde', ' Gecko Painted Design', ' BLACK', ' Police Blue', ' Dual Channel 1 Handheld+1 BodyPack', ' Aged Pearl', ' Bit Crusher', ' pick', ' Strap-B4', ' Natural-Brazilwood', ' For violin / viola', ' 1/4 TS Offset Jacks Pedal Connector (Silver)', ' Multi-Color', ' Honey Burst', ' Black Webbing', ' Vivid Pink', ' Sky (Blue)', ' Red & Black', ' Electric Blue', ' antique brown', ' Big Button Chrome', ' RGB 100cm', ' TENOR-DJ405GK-P14I', ' Green color', ' 2 Pick Holder+24Pick', ' Blackberry Sunburst', ' 3ply White', ' Metallic Gold Nugget', ' Walnut Sunburst', ' STBLK', ' Pearl purple', ' Classic Yellow', ' SSA100W White', ' White-K056', ' Stars and Stripes', ' 3c', ' Lil Luber Ultra Nut Sauce Applicator', ' Race Red', ' Black Pottery', ' Vanilla Cream', ' Copper Vein', \" X's & O's\", ' Phosphor Bronze', ' mahogany', ' VSB', ' Nickel/Plastic', ' Control Knob-15', ' Metallic Green', ' Full Black', ' Half Moon Button Gold', ' Classic Rock', ' Nickel', ' Tan', ' Black Body', ' Flambe Blue', ' Random', ' Vintage White', ' Vintage', ' Guitar', ' Glossy Black', ' Butterscotch with Black Pickguard', ' Autumn Burst', ' Ver. 04 Solea', ' Receiver', ' Regal Black', 'n', ' Colorful Waves', ' Onyx Black', ' Exotic Zebrano', ' Surf Green', ' 5050 Rgb Flexible Led Light T-shape 3-ends Female Connector', ' American Vintage 52', ' Brown', ' Black Tuner w/ Red Mic', ' style4', ' ABALONE', ' .73 | Black', ' Classical', ' CP-26', ' C1', ' Key of G', ' Natural Finish', ' Round Teardrop', ' Abstract', ' size: 2', ' 6CM-DR-3', ' Black Steel', ' Black MIDI', ' Desert Burst', ' SS10 PAK Liquid Black', ' Super Set', ' Transparent Black', ' Chrome w/ Black Tip', ' White 5-Hole', ' 5250 Short Scale Bass', ' Black-3', ' 2pcs', ' Sunset Blue', ' Type 2', ' 1 Transmitter+1 Receiver', ' No.8', ' Golden-White', ' Heritage Cherry Sunburst', ' Mint Green 3 Ply', ' Green, 0.53mm', ' 1.35 | Black', ' 2 Space', ' Brushed Chrome', ' 44.07x4.98x9.3mm', ' Dark Rosewood', ' IVORY', ' AT-355', ' Alto Saxophone', ' BU', ' Pearl Yellow', ' DJ-12 72x3x9mm', ' Vintage Butterscotch', ' 4/4 Somewhat Flecked', ' 43-47mm / M', ' Blue Pearloid', ' Maple - Bass', ' Charcoal 2\"', ' Tone E', ' Royal Bloom', ' Sunburst w/ Vanilla Cream Pickguard', ' 8 Space', ' Green on Black', ' Motion Shaker', ' Sugar Skull', ' GOLD Lacquer', ' Pickguard-C5', ' Cranberry', ' TENOR-DJ233C-D3', ' Vacuum Stack', ' Red Pottery', ' TUSQ', ' See Thru Black Cherry', ' Yellow Submarine', ' AT-07', ' Soprano', ' Bronze', ' Coral Sunburst', ' Emerald Green', ' With Phantom Power Kit', ' Knobs 20 Pcs', ' Fiesta Red', ' Cognac Burst', ' Smoked Chrome', ' 5 pack', ' Red Wine', ' .50mm', ' Satin', ' Latitude Tremolo Deluxe', 'u', ' Silver Vein', ' Receiver*7 and Transmitter*1', ' 24LEDs par light', ' Dfp720 Birch Handle With A Soft Yarn Hea', ' AG08 JS', ' Light Gray', ' Clear Gloss', ' Middle', ' Screw Adapters', ' 9120 Tapewound', ' TENOR-DJ310GK-P1W', ' Junior 6 in. H x 5 in. and 4-1/4 in. Dia', ' Aqua', ' Tan Leather', ' Angel Wings', ' Yellow-Red', ' Anodized Green', ' Orange Red', ' Metallic KO', ' Custom Shop 69', ' Multi Colored', ' 4Ply Pearl Parchment', ' style6', ' candy apple red', ' silver-2', ' WB008', ' 3-Tone Sunburst', \" Tweed '57 Overdrive\", ' Mini5 Rhythm Amplifier, Classic', ' Black Kit', ' 3Ply Cream', ' Yellow color', ' Sweet Leo O2', ' Metal Foot Rest', ' Quadura Deep Red', ' Pink', ' See Thru Purple Sunburst', ' 3C', ' Sheesham Cross Bar Double Layer', ' For Clarinet Or Soprano Sax', ' 1.0mm | Blue', ' 4Ply Vintage Tortoise', ' Black Accents', ' Big Button Black', ' Pearl Red', ' 60\" Rain stick (Black)', ' tan', ' Koa', ' Receiver&#xFF08;built-in battery&#xFF09;', ' A250K', ' Strength 2.75', ' Cinnamon', ' Tartan Plaid', ' (24 Pack) Red / Char', ' Acoustic Bass', ' Glow in the Dark Blue', ' Bronze Shell', ' 4 Ply White Pearl', ' Red Metallic', ' Granite', ' RED MOTO', ' Black A', ' Chrome 1.0', ' Floral Pattern In Grey', ' Surf Green with Aged White Pickguard', ' 20 Pattern', ' Acoustic EQLC-5 5-Band EQ Equalizer', ' Off-White', ' Dark Red Burst', ' Mixed Pattern', ' Platinum', ' TORTOISE SHELL', ' Blue Pearl', ' Red - Yellow', ' Power Slinky 3 Pack', ' Oak Rim', ' Rosewood Fretboard', ' Nickel Plated', ' 3D Country Style V3.0', ' White-Black', ' White/Black', ' Black w/ Chrome', ' 4', ' Strap-B3', ' Black Adjustable', ' silver /gold keys', ' AL-3 Rosewood Color', ' Midnight Black', ' Green Sparkle', ' Hawaii Flower', ' Dark Tortoise', ' Wood', ' Low F', ' Pewter', ' Brushed Metallic Bronze', ' 4Ply White Pearl', ' 1 Channel, 1 Handheld, 1 BodyPack', ' Turbo Slap Top Cajon (Walnut)', ' Trans Blue', ' Onyx', ' Solid Mahogany Pro Series', ' Guitar/Instrument Transmitter', ' 6 Cables', ' Ver. 09 Luna?', ' Blue Burst', ' Rainbow Colors', ' Foot Shaker', ' C6', ' Blue Cutaway', ' Yellow', ' JF-31 Noise Gate', ' Black-1', ' Olive Drab', ' Army', ' Red and Natural Stripe', ' C5', ' Daphne Blue', ' 7350 Stainless Steel', ' On Stage GSA10BK Black Guitar Strap', ' Lime Green', ' Blue Rose Skulls', ' Antigua', ' chocolate', ' BodypackTransmitter (2 Lavaliers + 2 Headsets)', ' Coffee Cutaway', ' Black, 20 Pack', ' matt Yellow', ' 14 in.', ' Red Burst', ' Black 2pcs', ' (12 Pack) Charcoal', ' Cajon Backpack Bag', ' Vintage Black', ' Vintage Sunburst', ' Trans Amber', ' Black 2\" 6pcs', ' Value not found', ' Hot Pink', ' Deluxe Kit (Burl Wood)', ' Quadura Black', ' Silver Sparkle', ' Black w/ White Dot Ebony', ' Country Style V2.0(Single Shoulder Strap)', ' Gold 2 Pcs', ' Spruce', ' Royal', ' Tan/Tan', ' (12 Pack) Burgundy/Char', ' HY-1 Black', ' TENOR-DJ310NK-A1B', ' Gloss Blue', ' Blue Wave', ' fiesta', ' Med. Light 11-50', ' Cymbal Accessory Pack', ' Cherry  Satin', ' Silver 20 Pack', ' Ultimate Set', ' RGBW 12LEDs Par Lights', ' Trans Red', ' Phantom Power Supply', ' Quilt Tiger Eye', ' Wizard', ' PINK', ' Hand Oil Rubbed', ' White Skull', ' 12W 4-In-1 15/21CH', ' Pink.', ' Foot Tambourine', ' Agate Color', ' Red, White, and Blue', ' Red Bandana', ' GoldLeopard', ' Strength 3.25', ' Orange+Silver', ' Black- Satin Finish', ' Honeyburst', ' Pearl Bronze', ' Twin Violin', ' Parchment Pearl 4ply', ' Black Leather', ' Black rails', ' On Stage GSA10GR Grey Guitar Strap Soild', ' Jazz Wave', ' Red Tortoise', ' Pacific Walnut', ' Stars & Straps', ' 4Ply Pearl Red', ' Beige', ' 3C Gold Plated', ' Coffee', ' Makah Burl', ' Control Knob-11', ' BLUE', ' Egg Shaker Set', ' Sunburst', ' 4 Spaces', ' Key of F', ' 3Ply Ivory White', ' YELLOW', ' Green Pearl', ' Black B', ' Charcoal B', ' Type-2', ' wm57', ' 4Ply Pearl Black', ' MI0704', ' 6-SZ type', ' Spider Graphic', ' Black-Phantom Power', ' 2 Channel:2 Handheld Mic with Bluetooth', ' 12\" China', ' Half Moon Button Black', ' Ice Blue/Charcoal', ' Red Sparkle', ' White Pearloid', ' Tomato Red', ' 20\" Ride Cymbal', ' 1.14mm | Purple', ' Rubbed Vintage Burst Satin', ' Black T-Bar', ' 1.5 | White', ' VWHT', ' Black-Right Handed', ' 3ply Black', ' Gold Tuner w/ Black Mic', ' Warm White', ' Dark Brown', ' Ching Ring', ' black acoustic', ' two pack', ' GREEN MOTO', ' Black Right Angle', ' RED/GOLD Keys', ' Ebony/Gold', ' Grey, 1.00mm', ' White Dot', ' Solid Redwood Claves', ' Reversible', ' Gold Mirror 1 Ply', ' TENOR-DJ273N-SI', ' Brown w/ Brass Rivets', ' Concert', ' Brushed Gold', ' Flambe Yellow', ' One Color', ' Chorus', ' Coated', ' Tex Mex', ' Satin Varnish', ' Eb', ' 10 Holes 40 Tones Key C', ' AUS 02', ' 4 Strings', ' Flare (Orange)', ' Triple Wreck Distortion', ' Tenor', ' gray', ' Tri Fade Burst', ' Tiedye 1\"', 'e', ' Zebra', ' Translucent Blue', ' C8', ' Cello Bridge', 'r', ' Peace Love Music', ' Brown Leather', ' Celluloid', ' Natural Gray Burst', ' Brent Mason Hot Wired', ' Chrome 2.0', \" Hau'oli\", ' Sacral Chakra', ' BLUE MOTO', ' 6 Space', \" Pure Nickel 150's\", ' RO', ' 9 LED', ' Low D', ' 5 Way Daisy Chain', ' Chrome 3L3R', ' Camouflage', ' Nylon', ' Sea Green', ' 3ply Cream', ' 32 mm', ' 4ply Parchment Pearl', ' 1.0 | White', ' Ivory With Black Dot', ' Dalmation Tortoise', ' Anodized Silver', ' Jamaica', ' Key of A/Bb/C/D/E/F/G', ' 12\" Trash Stack', ' White', ' Guitar Gauge', ' Red Cedar', ' Brushed Bronze', ' 1 Cable', ' 4Ply Aged Pearl', ' Rustic', ' Mode A Sliver', ' Classic Black', ' TENOR-DJ315G', ' Heritage Cherry Vintage Gloss', ' Rechargeable Receiver-Silver', ' Bb', ' Purple/Silver keys', ' MA-12 Wood color', ' Light Teak', ' Rosewood', ' Camoflauge', ' Maple - Strat', ' TENOR-DJ101AB-AS', ' Pink/Black', ' Dumbler Amp Simulator', ' Hennessey 7200C Strap Locks Chrome', ' Vocal F', ' Indigo Orchid', ' Medium Green', ' Barbed Wire', ' Charcoal Metallic', ' Seafoam Green', ' TENOR-TSWCAMARANTH-S-S', ' Black Star', \" Fat 50's\", ' Pink Moon', ' WHITE/GOLD Keys', ' Wine', ' Vintage Tortoise', ' Blue Flower 1\"', ' Small Round', ' Natural', ' Sleek Metallic Black', ' red color', ' L-40M', ' Trans Brazilia', ' Artist Series Shaker (Medium)', ' Solid Black (Snap Hook)', ' Hot Noiseless', ' Red with Black Stripes', ' Mystic Blue', ' string ruler-A1', ' 6CM-DR-4', ' CANDY APPLE RED', ' Lemon Drop', ' 1Ply Black', ' Harmonizer', ' Tone A', ' Angel Of Deth Graphic', ' Les Paul', ' Strip Light', ' Crown Chakra', ' OL', ' Style 2', ' Ivory/Black Dot', ' white', ' 3Ply Mint Green', ' Red wood color', ' Liquid Black with Software', ' AW-3G2-BK Black', ' Anodized Gold', ' Old Violin Sunburst', ' Updated', ' Arctic White', ' Flag', ' Strap-B17', ' Stained Glass 1\"', ' Purple Moto', ' Bundle w/ Power Supply', ' MI0421', ' BLACK VELVET', ' Black Microphone Arm Stand', ' Industrial', ' On Stage GSA10BLBST Guitar Strap Blue Burst', ' 1Ply White', ' MA-12-D', ' 5CM-DR-1', ' Brushed Black Chrome', ' Gold Knob', ' Orange Pearl', ' MS7701C - Chrome', ' Black Metallic', ' Clarksdale Delta Overdrive', ' Large Desktop Microphone Stand', ' Original Vintage', ' 8\" Splash', ' White Flower', ' 3 PAIRS', ' Mock Tortoise', ' Medium/Heavy Blue', ' Orange Flower', ' Padded Case', ' .595 in. Diameter', ' 2 pack', ' Nohea', ' Black Flowers', ' TENOR-DJ101S-AS', ' Dark Green', ' Black, Yellow, and Red', ' Silver+Blue', ' Lavender Pearl', ' AC Stage', ' Citron Vanilla Cream', ' Flame Yellow Burst', ' 10\" Splash', ' Moss Green', ' Mako Blue', ' derby effect light', ' yellow', ' Black Top', ' Shell Red Yellow', ' Black - Extra Large', ' 1 Channel, 1 Hendheld,1 BodyPack,Blutooth', ' Honey Amber', ' 1', ' Bordeaux Metallic', ' Purple', ' Mint Green', ' Ver. 02 Alzapua', ' 6 ft.', ' Green Cutaway', ' 36LED Par Light', ' Shiny Black', ' Solid Black', ' Ebony - Black', ' Worn Honey Burst', ' Revolution', ' California Weave', ' Z4971', ' Euphoria Overdrive', ' Pearl White', ' RedIndian', ' Chrome Finish White Pearl Xylonite Button', ' Standard Gig Bag', ' LAKE PLACID BLUE', ' Midnight Satin Black', ' World Tour Graphic', ' Sapele color', ' Gold 3L3R', ' Classic', ' Light Brown', ' Black w/Black', ' Matched Pair', ' Sky Blue', ' Round', ' Black&Red', ' Hard Soprano Sax Mouthpiece', ' B500K', ' Rainbow', ' Straight Coupler 1/4 inch (Gold)', ' Rock-n-Roll 9-46', ' 4Ply Blue Pearl', ' Trans Cherryburst', ' Tobacco Flat', ' 80/20', ' Transparent Lime', ' Left Handed', ' Peace', ' 3 way', ' Flat Capo Rosewood', ' AW-3G2-WH White', ' NICKEL', ' Pearl Mint', ' Natural/Black', ' National Pink', ' crimson transparent', \" This military-standard waterproof hard case was specifically designed for the Zoom H6 recorders. The interior is custom cut high quality PE foam that includes space for the ultimate Zoom H6 recording setup. This includes pockets for the recorder, XYH-6 X/Y mic capsule, MSH-6 MS mic capsule, SGH-6 Shotgun mic capsule, EXH-6 Dual XLR/TRS Combo capsule, windscreen, memory cards, cables, and additional accessories. Not only does the SKB Zoom H6B case provide the ultimate protection for the recorder, it is backed by SKB's unsurpassed Lifetime Warranty.\", ' ORANGE/GOLD Keys', ' Hawaii Blue', ' 1500 hours', ' Tweed (Lacquered)', ' Black 2.0', ' Pickguard-C7', ' (2) Vincent Van Gogh Almond Blossom Series', ' Gold Top', ' Receiverx3( built-in battery)& Transmitterx1', ' WSN', ' Tiki', ' 72-Pack', ' olympic white', ' BLACK//SILVER Keys', ' Jazz Stripe 1', ' American Vintage 63', ' TinyTune', ' BLACK VELVET.', ' TENOR-DJ235C-D4', ' Royal Blue', ' Super Light Red', ' Cool Gray', ' USA Flag', ' Russet', ' Guitar Pedal Board', ' Strength 3.75', ' MM-242', ' silver-1', ' Wine Red Burst', ' Clear Veil', ' Celtic Knot 1\"', ' Brown/Gloss', ' Ebony/Nickel', ' AG08 HS', ' Citron Vanilla Cream w/ White Pickguard', ' Satin Vintage Sunburst', ' black gloss', ' Amber Burst', ' WHT', ' 2-Pack Large Microphone Stand', ' Olive', ' Original Version', ' GT-6', ' Alto Sax - Gold-Plated', ' Burgundy Sunrise', ' Sunset Orange', ' Style 1', ' Transparent Blue Sunburst', ' Lil Luber Ultra Nut Sauce Applicator & Encore Scratch Remover Kit', ' Receiver*3 and Transmitter*1', \" Black '65 Overdrive\", ' Black with Design', ' 1.0 | Black', ' 2 Color Sunburst', ' 3ply cream', ' TENOR-DJ312G', ' mixed', ' Natural Blonde Rim', ' Black, 5 Pack', ' Cream&Black', ' Black - 19inch', ' Rotary Speaker Simulator', ' White Bone', ' Stainless Steel/Black', ' Natural Kit', ' Black & White', ' Natural Type 1', ' 6 PAIRS', ' Dragon', ' Shell Tiger Spot', ' 3-sz Type', ' Coated 12', ' 7 Pack', ' DT-2', ' .50 | Black', ' Black Pearl', ' Antique', ' Solid Spruce Top', ' Forest Green', ' natural', ' Safety Orange', ' Mother of Pearl', ' 5C', ' BLACK NICKEL/GOLD Keys', ' Maple', ' Cranberry Red', ' 3C Rich Tone Silver Plated', ' Dark Violin Burst', ' Olive/Charcoal', ' Bundle w/ Gig Bag', ' Black, Yellow, and Brown', ' Receiver*1 & Transmitter*1', ' Golden-B', ' Rosewood Fingerboard', ' US Flag', ' USA Graphic', ' Mic Tripod Stand - 2 Pack', ' Natural Cutaway', ' Cherry Red', ' SURF GREEN', ' A', ' Capo', ' Mocha Brown', ' Single', ' Che Guevara', ' Mobile', ' .75mm', ' 3/4 Somewhat Flecked', ' RGB 12LEDs Par Lights', ' Worn Brown', ' Polished Nickel', ' Matte Black', ' 0.60mm Plectrum - Red', ' 15+ in.', ' Marine Green', ' Hennessey 7300R Strap Locks Red', ' Rose', ' 5 Way', ' Bundle w/ Hard Case', ' Classic MH 20W', ' Titanium Black', ' Classic White', ' Gold Semicircle Button', ' ABS Material', ' 50mm Neck Chrome', ' Flame Yellow Sunburst', ' green', ' Stripes', ' 43.2x4.8x3.2mm', ' olympic white (HH)', ' Delay pedal', ' Transparent Butterscotch', ' Vintage Wine Barrell', ' Black', ' Flamed Maple', ' Cello/Viola', ' Brushed Nickel', ' 4Ply Brown Pearl', ' Tobacco', ' Air Force Gray', ' Midnight Blue', ' Wired Mic', ' BR', ' Short / Small', ' Chrome w/ White Tip', ' Solid Spruce Pro Series', ' Sunburst with Aged White Pickguard', ' Yellow-Blue', ' 24\" Rain Stick (Red)', ' Gray', ' Crimson Red Transparent', ' Liquid Black', ' Skulls', ' Gloss Red', ' Burgundy interior', ' Twin Ukulele', ' Tribal Wings', ' Strap-B14', ' TENOR-DJ405AB-P6B', ' Fire (Red)', ' Dynamic', ' Receiver*1 and Transmitter*1', ' Lake Placid Blue', ' GRAY', ' Flame Transparent Purple Burst', ' Natural, blond', ' Receiverx7( built-in battery)& Transmitterx1', ' Solid Spruce', ' Burgandy', ' Strength 1.5', ' C2', ' Bamboo', ' 3-pack 0.3M', ' Light Yellow', ' Large Professional Cajon Bag', ' Metallic SIlver', ' silver', ' Cordovan', ' White/Pink', ' Basement', ' multi-coloured', ' teal', ' Series PR4', ' Tribal', ' Style2', ' 47-50 mm', ' Flame Maple', ' Fuchsia', ' Multi-Colored', ' Chrome && Black', ' 4Ply Brown Tortoise', ' Blue Sparkle', ' Silver Mirror Acrylic', ' Orange Guitar Pick', ' string ruler-A2', ' Black+Gold', ' Rattan', ' .88mm | Green', ' Rosewood - Tele', ' White 2pcs', ' Great GRAMMA', ' Deep Blue', ' Transparent', ' Type 1', ' 6505 MH 20W', ' See Thru Black', ' Sheesham Cross Bar', ' White color', ' Tawny Stripe', ' Gold/Black', ' CS67 Black', ' Chocolate/Gold Stitching', ' black-1', ' Hootenanny', ' LE Tennessee Red', ' SSA100B Black', ' Mist Green', ' Stock Yellow', ' Padouk Wood and Golden Colored Metal Handle.', ' Burgundy Maroon', ' Basic Kit (Ovangkol)', ' Black/Steel', ' Guitar Capo Black', ' D', ' Orange Pearloid', ' Silk Grey', ' Spark Painted Design', ' Bazaar', ' Pearl Black Fade Metallic', ' Champange', ' Style1', ' 3 Color Sunburst', ' 3ply Parchment', ' Dark Green Rim', ' CP-18', ' Aluminum Rack', ' Rasta Stripes', ' TENOR-DJ200AB-A1B', ' Gold on Purple', ' Matte Natural', ' PO-20', ' 6 string', ' Single Unit', ' OH Amber', ' Vintage Blond', ' 3 Pairs', ' Char /Zebra', ' Ver. 01 Conde', ' Groove', ' Ebony', ' Oblong shaped in transparent orange', ' Aged White', ' Dark Brown Tortoise', ' Tiger Stripe', ' Am', ' BLACK/GOLD Keys', ' MultiColored', ' Sienna Sunburst', ' Ukulele Amber', ' Blue, Green, Red, Yellow', ' 6 PACK', ' Velvet Fuzz', ' Speakon - 1/4\"', ' A0569', ' Strap-B2', ' Burgundy Sand', ' 4 Ply Vintage Tortoise', ' CHECKER', ' Yellow Black', ' Aged White Moto', ' BLUE ROCKSTIX', ' Rubbed White Satin', ' Weathered Black', ' Half Moon Button Chrome', ' Buckle Universal Desk Stand', ' Grey', ' Original', ' American Vintage 64', ' Black 3 Ply (BWB)', ' PURPLE MOTO', ' Brown Shell', ' Wine Red', ' Sloped', ' Sloped Ridge', ' Navy Blue', ' Vintage Tweed', ' Mode A Black', ' Black NW-1500 Desktop Microphone', ' Size 4', ' Black with Red Foam', ' Epi Half Moon Chrome', ' (12 Pack) Purple/Char', ' Amber Sunburst', ' Flaming Chopper', ' Standard', ' Decibel Plus', ' Angled Patch Cable 6 in (Black)', ' Off Center Double Ridge', ' Heavy Rock', ' D Key', ' Ivory and Black', ' brown', ' String Cajon', ' for RGBW', ' USA', ' Medium Light', ' Wall Fade', ' NO.1-0.46mm-20pc', ' 4Ply Tortoise Shell', ' 42x3.5x4.5/3.5mm', ' Pickup-D3', ' Rock Star', ' Black with Aged White Pickguard', \" Mino'Aka\", ' Double-Braced', ' Mahogany', ' Bridge Black', ' Single-Braced', ' 9x12W 4CH', ' Anodized', ' Metal Tenor in.NY in. Style Mouthpiece', ' 2-Color Sunburst', ' blue', ' w501', ' OCEAN TURQUOISE', ' White w/ Green Dot Bone', ' 1 PAIR', ' Super Bullets', ' Aluminum Surface', ' Accoustic and Electric Guitar', ' Bahama blue', ' Wooden Capo', ' 4Ply Vintage Tortoise Shell', ' YouMic', ' 6-TZ Type', ' 5050 Strip Light Kit', ' Size 2.5', ' 7250 Nickel-Plated', ' Lavalier', ' Key of Low C', ' Tripod Mic Stand', ' Red Pearloid', ' ZEBRA', ' Black on White', ' Black/Gold', ' Forest', ' Paint', ' blonde', ' Stainless Steel/Mock Tortoise', ' Dark Violin Sunburst', ' Flambe Red', ' King Wood and Golden Colored Metal Handle.', ' Metal Blue', ' Blue, 1 Pack', ' Bowden Green', ' 8-Inch Bell', ' Concert Maracas', ' Duo Sky/Flame', ' DB-3', ' Black/Black', ' walnut', ' 47-53mm / L', ' ST-2', ' 1 Black', ' Transparent Smoke', \" Custom Shop 60's\", ' Semicircle', ' black guitar stand', ' chrome', ' Texas Special', ' lply White', ' Bubinga', ' 6 Pattern', ' 4Ply Purple Pearl', ' Raven Black', ' Navajo Red', ' Unbleached', ' Black/Red Checker', ' blue lagoon', ' 1 Male to 2 Female', ' Natural w/ Graphic', ' Circles', ' Slatz', ' Extra Light 3 Pack', ' Pink Colorful', ' 12 String', ' fiesta red', ' Black/White Shell', ' Camo Green', ' C7', ' Black w/ Black Pickguard', ' Shell', ' Black/Yellow', ' Cobalt Blue', ' Sunburst Dreadnought', ' Bright Red', ' Pixel', ' 8 color set', ' GREEN', ' Black R3', ' Gold on Cherry', ' Light/Medium Yellow', ' Black White Shell', ' JCM', ' 5050Strip Light kit', ' Copper', ' Red Pearl', ' gold', ' Lite Brown/White', ' daphne blue', ' 1 to 8', ' w800', ' Strength 3.5', ' Db', ' 4Ply Pearl Bronze', ' Light 10-46', ' Checkmate', ' Olympic White', ' Pearl Green', ' Bucket Mute', ' Plexi-Drive Deluxe Overdrive', ' Violin Bridge', ' Aged White 3 Ply', ' FT-2', ' Transmitter', ' Golden', ' Mixed', ' E', ' CP-12', ' Green/Black', ' Black - Gloss Finish', ' D3', ' DynaRock T2', ' V19', ' Knot 1 Gold/Forest', ' Chrome - 13 inch', ' Skinny Top Heavy Bottom 6 Pack', ' Pearl Purple', ' Black & Silver', ' Black-White', ' Butterscotch Vintage Gloss', ' Light Blue Flowers', ' 4oz. Bottle', ' Black with Vanilla Cream Pickguard', ' Blue Swirl Pearl', ' Sgt. Peppers', ' Glossy Black 1 Ply', ' Pickguard-C6', ' GREEN/GOLD Keys', ' Receiver*1 & Transmitter*7', ' wood guitar hanger', ' Satin Fireburst', ' HS308V', ' Surreal Salvador Dali Inspired', ' Metal Rovner Alto Mouthpiece', ' Sheesham and Lacewood', ' Mic Tripod Stand - 1 Pack', ' White Pearl', ' MM-141', ' Big Button Gold', ' 1 Channel 1Handheld+1Boday Pack,Bluetooth,MP3 Player+Recorder', ' Left-Handed, Sunburst', ' Basic Kit (Natural)', ' Amber Tiger Stripe Cajon', ' BLACK MOTO', ' 10 Cables', ' Professional Bag', ' 3Ply White', ' Silver + Black', ' DMK-7', ' Blueburst', ' Shell Black white', ' Black/Pink', ' Black & Red', ' Gold on Forest', ' Up In Flames', ' Closed Hole with engraved flower', ' Metallic Silver', ' White Accents', ' Chrome Rack', ' Skull and Bones', ' Dec Buffer Booster', ' Rosewood/Black', ' Silver Burst', ' Ex. Light 9-42', ' 5c', ' Satin Silver', ' light blue', ' Natural color', ' Clear Glossy', ' Alien Green', ' Black Classic', ' Rock Light 9.5-44', ' Sage', ' Surf Green with Tortoise Pickguard', ' Parchment', ' Strength 2.25', ' Matte Coffee Dream', ' Maple Fretboard', ' 6-z Type', ' 16\" Rain Stick (Black)', ' Cartoon Lightning', ' Gray Pearl', ' NATURAL', ' style5', ' Tobacco Brown Sunburst', ' Racing Stripe Red', ' TENOR-DJ200GK-P6I', ' Red Blackburst', ' Rosewood - Bass', ' Sparkle Pink', ' Red-B', ' 8', ' Blue Metallic', ' Wood and Black', ' 01-Standard Kit', ' Worn Satin Ebony', ' 7c', ' Large', ' Kidney Button Black', ' Light Blue', ' Multicolour', ' Brushed Aluminum', ' Gloss Black', ' Black Red', ' BLACK W/ WHITE LIGHTNING BOLT', ' size: 3', ' Ivory', ' Tan/Black', ' Black 1.0', ' Zebra Stripe', ' Mod Core', ' Blue TSA', ' Anodized Violet', ' Metal Material', ' Jawbreaker', ' Red & White', ' Vocal C', ' Hennessey 7200G Strap Locks Gold', ' Satine Wood and Golden Colored Metal Handle.', ' Chrome', ' Low F#', ' Alien Green & Bebop Blue', ' Walnut Satin', ' Mode A Blue', ' Police Line', ' Celtic Thistle', ' Blue', ' 2 Cables', ' Clear matt', ' 37 mm', ' TENOR-DJ405AB-P14I', ' Strap-B5', ' Custom Light 3 Pack', ' .550 in. Diameter', ' Black color', ' Birch', ' Gold Chrome 2.0', ' LSR305', ' Dark Teak', ' TV Yellow', ' White Black Red Blue', ' Yellow & White', ' black', ' Slim', ' 3-Color Sunburst', ' Zebra Stripes', ' Black/Abalone Inlay', ' Yellow Guitar Pick', ' Rose Gold', ' Chrome - 19inch', ' surf green', ' Mahogany-Brown', ' Cymbal Bacon', ' VHF with 2 mic', ' SEA BLUE/SILVER Keys', ' Midnight Wine', ' Hybrid Slinky 6 Pack', ' Eggshell', ' Medium', ' Skinny Top Heavy Bottom 3 Pack', ' Thirty Something Overdrive', ' Black, 0.88mm', ' Z3712', ' Yellow Monterey', ' 3-Piece Artist Series Shaker Set (Soft, Medium, Loud)', ' Tube Pusher', ' Classic Tweed', ' Third Eye', ' golden', ' Beatlemania', ' soprano mahogany', ' Y Splitter', ' 18LED Par Light', ' HY-Rosewood Color', ' Black-037', ' Blue interior', ' Silver Nickel', ' Candy Apple', ' 3Ply Parchment', ' 1.00mm', ' w20', ' Hawaii', ' Gilded', ' (12 Pack) Red / Char', ' Logo', ' Wave', ' lply Cream', ' Light-Heavy 6 Pack', ' Quilt Maple', ' Black-dual', ' Green-c5', ' MA-10 Black', ' Blue/Red', ' 3 tone sunburst (HH)', ' Rose wood color', ' gold laquer/silver keys', ' Jazz Stripe 2', ' Trans Black', ' Transparent Blue Burst', ' Ox Blood', ' Natural + Learn to Play Guitar DVD', ' Medium-Light Gauge', ' Guitar Bulk', ' Brown Tortoise', ' Jam Cajon', ' bronze', ' 18LEDs par light', ' Black Pearl Finish', ' Zebrawood', ' Chrome/Abalone Inlay', ' Green Dip', ' w500', ' 1.35 | White', ' mahogany tattoo', ' MS-Purple capo', ' Yellow type 1-Left Handed', ' Gold Top Dark Back', ' black color', ' Hula', ' Deluxe Drive', ' black Metallic', ' Blue + Learn to Play Guitar DVD', ' 52', ' black engraved flower/silver keys', 'S', \" Sgt. Pepper's 50th\", ' Red/Silver', ' Red/Black', ' honey', ' Anodized Red', ' Cup Mute', ' Dark Gray', ' Purple Pearl', ' Clear Orange', ' Dfp210 / Birch Handle With Soft Rubber H', ' Rust', ' MM-242 with adaptor', ' Daphne Blue with Vanilla Cream Pickguard', ' MI0255', ' Metallic Red', ' Sunburst Streak', ' Rooftop', ' Accoustic or Wide Body', ' Satin Black', ' Natural wood color', ' Strap-B6', ' pink', ' White, 1 Pack', ' Silver multicolored', ' Single Small 5 in. H x 5 in. Dia.', ' pick with holder', ' National Style Yellow', ' GRAMMA', ' Transparent Blue', ' Lavender', ' 1.14 | White', ' Imperial Paisley', ' Z4981', ' BLACK NICKEL/SILVER Keys', ' LED Strip Connector-2', ' Seafoam', ' Stone (White)', ' Quadura White', ' WHITE W/BLACK MUSIC NOTES', ' Sheesham w/Nickle Plated ferrule sole', ' Silver/Black', ' .73 | White', ' WHITE MOTO', ' Pcak of 1', ' Antique Burst', ' Van Gogh', ' TB Sunburst', ' Replacement Batteries', ' Classic Wood', ' Union Jack', ' Agate Black', ' Vintage Sunburst Vintage Gloss', ' Saugerties', ' Lucite', ' Varnish', ' Blue Flowers', ' 3 Pack Multi Color', ' BW', ' Voodoo', ' TENOR-DJ101SG-AW', ' Walnut Flat', ' Throat Chakra', ' Aqua Pearl', ' BWB', ' MS7701B - Black', ' Custom Shop 62', ' Black, Light Gray, and Dark Gray', ' Confetti', ' Aspen Green', ' Pale Yellow', ' Candy Apple Red', ' DT-4', ' 05-String Action Ruler', ' NB35', ' 18\" Vintage Sand Trash Crash', ' Medium  12-54', ' Classical Yellow-Left Handed', ' Adapters', ' 20 ft.', ' Charcoal Gray', ' DSLR', ' Black and White', ' Yellow Coral', ' Cool White', ' Black With Wite Dot', ' Black w/ Brass Rivets', ' White-Red', ' Custom Shop 54', ' Heavy Purple', ' Amber', ' Insanity', ' Medium 3 Pack', ' Banana', ' Gold,black,chrome', ' Duo Sea/Dusk', ' Light Gauge (.009-.042)', ' White/Red', ' Ocean Blue Metallic', ' Red Mahogany', ' Multicolor', ' Pink-Blue', ' Greenburst', ' NICKEL/LACQUER Keys', ' Soft', ' Lite', ' Yellow Pottery', ' Peacock Blue', ' 1ply Cream', ' Funk Machine', ' Stained Glass', ' Red White Blue', ' Torino Red', ' Strength 2', ' Beige interior', ' Black w/silver trim', ' Celtic Cross 1\"', ' Electric Guitar', ' Oak', ' Electric or Narrow Body', ' 14\" Crash', ' Blue Burst Streak', ' 10 pack Fit 32-35mm Pipe', ' Rosewood color', ' 4Ply Yellow Black', ' Upgrade Auto Lock Design', ' White Album', ' Sherwood Green Metallic', ' Black/Gray', ' Black/White', ' Viola Bridge', ' Black/Brown', ' Brown Sunburst', ' Vintage Sunburst Perimeter Satin', ' Tweed', ' Vintage Burst Satin', ' .60 | Black', ' Walnut-Coloured', ' Leaf (Green)', ' 3/4 Size Medium', ' Gold Bold Finish Amber Xylonite Button', ' Small Button Chrome', ' White Body', ' Black w/Chrome', ' 1 Transmitter+7 Receiver', ' Black Universal Capo', ' Aluminum - Black', ' Red 2 Pcs', ' Wide', ' TENOR-DJ101SG-AS', ' Honey', ' Country Style V1.1(Double Shoulder Straps)', ' Celtic Grey', ' Hootenanny 2', ' Battery Powered 12LEDs Par Lights', ' black and red', ' Black Tuner w/ Black Mic', ' TinyTune Pro Stage', ' Bright Amber', ' 3Ply Ivory', ' Control Knob-10', ' Hootenanny 3', ' Knob Ends', ' Neon Green', ' Guitar tunner-Blue', ' Brushed Silver', ' Pink/Magenta (60\" Height)', ' RGBA-RGB Amber', ' Brown-Purple 2\" 6pcs', ' 4/4 Size', ' 3C Rich Tone Gold Plated', ' Guitar capo-black', ' Gold on Black', ' Nato Back & Sides', ' style2', ' Jet Black', ' sea foam', ' Receiver*6 and Transmitter*2', ' chorme', ' Caramel/Gold Stitching', ' Gold Tweed', ' 57/62', ' Rosewood Fretboard 2', ' Pearlexcent White', ' Green', ' Light', ' Nautical 1\"', ' Purple Flowers', ' Gold Plated Black Button', ' PO-12', ' Brown Tortoise Shell', ' Camo', ' Bebop Blue', ' 3 Pack', ' Black Nickel R2', ' Black+Blue+Silver', ' Bass Freak Graphic', ' Black/Silver', ' Dark Blue', ' Smoked Skull', ' Retractable Brushes', ' Male to 2 Female', ' Natural Type 2', ' White, Brown, and Yellow', ' Speakon', ' Jackson', ' Chestnut Brown', ' Dark Blue Metallic', ' Black - 6inch', ' Mini Power Supply', ' DM-80', ' Black Moto', ' Rosewood Back & Sides', ' Ole Bluey', ' Natural Wood', ' Blue + DVD + Accessories', ' Strap-B1', ' #2-for Saxophone', ' MudGuard', ' 7x10W 8/13CH', ' 3-TZ Type', ' Regular Gauge (.010-.046)', ' Red on Black', ' Starlight Blue', ' wm58', ' Mode A Blak', ' Pickguard-C4', ' Mini Ego Compressor', ' TENOR-DJ313GK', ' Control Knob-1', ' Black/Red', ' Rose red', ' Special Florentine', ' Blue/Silver', ' 10\" x 6\" Popcorn', ' WHITE W/BLACK LIGHTNING BOLT', ' Direct Drive Cajon Pedal', ' 16\" Trash Crash', ' Transparent Red', ' Mini Wood Bongos', ' 2 tone sunburst', ' No.9', ' Burgundy/Charcoal', ' ', ' Control Knob-2', ' Black Pearloid', ' RGB 50cm', ' Bronze Metallic', ' purple', ' Ruby', ' Artist Series Shaker (Soft)', ' Aubergine, Grass Green, Orange, Sky Blue', ' Black - SN-5', ' Ebonite', ' Black with Grill Cloth', ' Aloha', ' Hennessey 7300B Strap Locks Black', ' Denim', ' 4ply Tortoise Shell', ' Long Scale Acoustic Bass', ' blue stand', ' HS308L', ' Silver Mirror', ' Natural-Left Handed 1', ' Multi', ' leather', ' Cream Tip', \" Super 250's\", ' Yellow type 1-Right Handed', ' 4Ply Red Tortoise', ' Sunburst color', ' Root Beer Metallic', ' Light Burst', ' Pink Floral Pattern', ' Trans-pink-a', ' Ukulele Black Ebony', ' Type 3', ' Clear/Transparent', ' Strength 2.5', ' wooden/black', ' Key of A', ' Chocolate Satin', ' Red/White/Blue', ' Satin Gold', ' Transparent Purple Burst', ' Chestnut', ' Black 2018 Model', ' black/gold keys', ' Tie-Dye', ' Transparent Green', ' Gold Sparkle', \" Sgt. Pepper's\", ' 4 string', ' Cherry Satin', ' Mini5 Rhythm Amplifier, Ivory', ' Metallic Black', ' Red, 1 Pack', ' Metall', ' Guitar White Bone', ' w801', ' Brown Strap, Brass Button', ' 4ply White Pearl', ' Black Neck Plate', ' Vine Design', ' (Black)', ' Gun Black', ' Red Flower', ' Tabacco Flat', ' Hootenanny 1', ' Kidney Button Chrome', ' Orange Blaze', ' Black Tip', ' Black MIDI (2015 Release)', ' Charcoal Frost Metallic', ' Tortoise', ' Output: DC 9V, 400mA', ' Black + Silver', ' 1 Transmitter+5 Receiver Battery in', ' 1MD Most Metal Soprano Sax', ' 3-Z Type', ' wireless battery 12 LED Par light', ' Violin', ' Splatter Black', ' Black Nickel R3', ' Extension', ' G', ' 4Ply Black Pearl', ' Double Slope', ' 16\" Crash', ' Traditional Brown'}\n",
      "Size:: {' 20ft', ' Extra Heavy', ' 06', ' SM58S On/Off Switch', ' RGBW 64 Led 10 Watt Stage Laser Light', ' Super Light, 8-String, 09-80', ' 9\"', ' Standard Dreadnought', ' Balanced Super Light (9-42)', ' Solid Top', ' Electric Guitar - Rectangular', ' 61 Note', ' 1 Quart', ' 1-Pack', ' 015 FT', ' 11\"', ' EA', ' 335', ' 5 PK', \" 8-38'\", ' .036 gauge', ' 92/8 Custom Light | MSP4050', ' 40-95', ' 10 Foot', ' Custom Light, 45-105', ' Light, 32-130 (6-String)', ' 0.5 Feet (3-Pack)', ' Mid-Size Acoustic', ' 10 Pcs', ' 20 FT', ' 3U Rack Space - Shallow', ' Trumpet Fiber', ' 6U Rack Space - Standard', ' Dreadnought', ' 1/4', ' 60 FT', ' 8-Channel, 30-ft', ' Medium, Long Scale (.050-.105)', ' 3.0mm Large Pointed Tip', ' 80/20 Bronze', ' Bundle w/ Cables', ' Tenor Low G', ' Heavy Duty, Sturdy', ' Group I', ' 15\" woofer', ' Hard Tension', ' Portable Guitar Stand', ' 1.90 mm', ' 43 X 6', ' 5B', ' 50 Ft 2-Pack', ' Heavy, Pink', \" 1'\", ' 0.72 mm', ' 2.00 mm', ' 48 Pack - California Clear', ' 4-channel', ' 12cm', ' 61-Note', ' Concert Ukulele', ' 2.5\" Wide', ' 14-in.', ' 25Ft 4 Pack', ' 18 Ft', ' Heavy, 14-59', ' Protects 1 Mouthpiece', ' 16 inch', ' .88 mm', ' Acoustic Guitar Bag', ' 2 Pieces', ' Extra Heavy, 12-60', ' 1- 1 Standard end', ' 400 Watt', ' .059 gauge', ' x4', ' MS7 Microphone Stand', ' HD Light (.013-.053)', ' Electric Guitar + Amp', ' Medium, 50-135 (5-String)', ' 30\"', ' 25Ft 8 Pack', ' Pro LP Style', ' #9', ' Custom Light, 32-135 (6-String)', ' .90mm', ' Mix5', ' 10 output', ' Mini', ' Ka-15sK5', ' 2 TX / 1 RX System', ' 3', ' Frailing', ' Regular Light, 7-String, 10-59', ' 0.45 mm', ' 12 LED RGB 3 IN 1 Stage Lighting', ' Bass Guitar Bag', ' Extra-Super Light, 8-39', ' Acoustic Bass Guitar', ' 2.50 x 4.00 x 31.00', ' Medium/Heavy', ' 16.70 x 17.70 x 39.80 inches', ' Standard 2', ' 6Ft 2Pack', ' 8-Channel 25 ft', ' 2.0mm', ' Small (25.25\"-40.25\")', ' Dark Matter Distortion', ' .80mm', ' Stratocaster - 11 Hole (Modern)', ' Light (8-40)', ' 500 watts', ' 1/4 Size', ' 51', ' 12 inch, 40 W', ' Standard 1', ' On Stage Maple 7A Nylon Drumsticks 12 Pairs', ' LCD STAND WITH WHEELS', ' Ground Fogger', ' PA System', ' 1-meter', ' SUPER', ' Includes Lav and Handheld Mics', ' 1.20 mm', ' Regular Light, Balanced Tension, 10-46', ' Lt. Top/Hvy. Bottom, 10-52', ' 50 Pcs', ' T40RP', ' UR44', ' 100-Pack', ' 3-Hard, Filed', ' Mono 3-way', ' 3ft', ' Single Guitar', ' 11-50', ' 24\"', ' 23\"x 21\"x 6\"', ' X-Long', ' 13.0\" x 11.0\"', ' Medium (.013-.056)', ' 6 Space, 14\"', ' New version', ' Large Pointed Tip', ' 100 FT', ' Medium, Balanced Tension, 11-50', ' Big', ' 3/4 Size', ' 1.52 mm', \" 9.0'' x 12.0''\", ' Extra Receivers', ' .072 gauge', ' 18.5\"x 15\"x 6.5\"', ' Small', ' 0.63 mm', ' 3-Hard, Unfiled', ' Suede Strap', ' 10 FOOT MOLDED END', ' 3 ft', ' Princeton Reverb', ' 1.3mm', ' 12\" Pair', ' I Pick Jesus (12 Pack)', ' 20 - Feet', ' 6-pack 15cm', ' 16 Space, 20\"', ' 35 Feet 2 PK', ' Acoustic Guitar', ' 1.5mm', ' 075 Ft', ' 3 Ft.', ' 4-String', ' Strength 3', ' One Bottle', ' 12', ' 13 inch', ' 10\", 12\" & 14\"', ' Super Light, 09-42', ' 21inch', ' Full-size 4/4', ' Super Light, 9-42', ' Electric Guitar Padded Gig Bag', ' 1.26 mm', ' 1 Pack', ' 6 ft', ' 3/4 Size, Right-Handed', ' 3 Feet 2-Pack', ' 0.50mm', ' 5-Piece', ' Extra Large', ' 6-input', ' 4PC', ' 20x18 Bass Drum', ' 8-channel + USB', ' 2-Pack', ' 4U Rack Space', ' 16 Feet', ' 15 Feet RA Female', ' !Only Bluetooth 2.0', ' 1ft', ' 007', ' 6U Rack Space - Shallow', ' 12 FT', ' Custom Light, 11-52', ' 3-pack', ' 30-Heavy', '1', ' Silver', ' 50 on String', ' Assorted', ' 12 Channels', ' Kit', ' 14\" Pedalboard+Bag', ' 50 ft', ' 100 Pack', ' 15-foot', ' Lt B, Long Scale (.130)', ' On Stage Hickory 5B Nylon Drumsticks 12 Pairs', ' 16inch-WithBag', ' 800 Series', ' Strength 4', ' XLR Female', ' 1 Pair', ' 1x12', ' .025', ' 3.0mm Large Round Tip', ' 17 Key', ' Pineapple', ' #8', ' Baritone Medium, 14-68', ' Hall of Fame Mini Reverb', ' 1\"', ' 1/8 Scale', ' 20 Foot', ' Desk', ' Right Handed', ' 13 Series', ' Medium-Light', ' 40-115', ' Power', ' 24 Pack - California Clear', ' Group II', ' Medium/Light', ' 6 Ft', ' 6 + 2 channels', ' 1.14mm', ' 20  Feet', \" 9-46'\", ' 2 Pack Cymbal Stands', ' Regular Light, 12-String, 10-46', ' Light, 12-String, 10-47', ' Medium (10-46)', ' 1-Quart', ' Channel N3', ' Ukulele', ' Rudy Sarzo Signature Acoustic Bass Padded Gig Bag', ' Polytune Mini', ' 10 watts', ' 5AN', ' 5BB', ' 3U (5.25\")', ' 355 - Medium', ' 4.75 oz', ' 1/4-size', ' 0.80mm', ' Aluminum Mute', ' 4-Holder Guitar Stand', ' 12\" - 14\"', ' 25 Feet 2 Pack', ' 12 inch', ' Extended Base', ' UR28M', ' 2.5\" Thick (12 Pack)', ' 18 Ft 2 Pack', ' 11W, 1 PACK', ' 1 PK', ' 4.0\" Wide', ' EON618S Subwoofer', ' 6-inch', ' 19\" Length', ' Pack 1', ' Vibrolux Reverb', ' D#', ' 1 Foot', ' 5pc Standard Set', ' Four Pairs', ' Rack Mount', ' 3 PACk', ' Flashback', ' Tom 16 x 16\" (hgt x dia)', ' 12 String Light | M190', ' 20 Pack', ' Up to 22\" Cymbals', ' 4U', ' 5.0', ' 50\" Long - Dual Compartment', ' 7 Inch', ' Set', ' 28inch', ' 3-INCH', ' 48 Pack - Assorted Colors', ' 10U Rack Space - Standard', ' 4/4-size', ' 45', ' Kick 18 x 22\" (hgt x dia)', ' 14 inch', ' 8PC', ' Jazz Light, 7-String, 11-65', ' 15 ft', ' .73 mm', ' 2 meters', ' 88 Note Slimline', ' 200 watts', ' 3 Space, 10\"', ' 41L x 16W x 6D 61 - 76 keys', ' 15\" Speakers', ' 358 - Heavy', ' Extra-Hard', ' 200 patterns', ' Custom Light, 45-105 (2-Pack)', ' 3.0mm Round Tip', ' 2 Pack', ' 58\" Long - Single Compartment', ' 110 LB', ' Strength 3.5+', ' Baritone', ' 7AB', ' 24-Inch (Tall)', ' 30cm', ' Medium gauge', ' 6.5\"', ' 13-inch', ' Skinny Top Heavy Bottom', ' CONCERT', ' 10 PK', ' 50 Ft.', ' Combo Clip', ' FT-12C', ' Super Light, 40-125 (5-String)', ' 5.6 oz', ' 6 FT', ' F', ' Drum Throne', ' Head', ' Heavy, 55-110', ' 6 String', ' Tripod', ' RC-3 Loop Station', ' Ex. Light (.010-.047)', ' Portable Guitar Stand - 2 Pack', ' 346 - Heavy', ' UPC-535', ' UR824', ' 43', ' 2', ' T20RP', ' 15cm', ' Height adjusts from 28\" to 52\"', ' 75 Feet 2 PK', ' 16 Inch', ' 100 patterns', ' 70W', ' 1pcs', ' 0.80 mm', ' Acoustic Guitar Padded Gig Bag', ' Standard Size Acoustic', ' 44-Key', ' 7A', ' 49-Note', ' 10mm Gig Bag', ' 000-size Adirondack', ' 10x8 Tom', ' 15 Ft', ' 3-Pack Universal Clip', ' 80/20 Extra Light | MSP3000', ' Triple Guitar Stand', ' 2U Rack Space - Rolling', ' 50 Feet 2 Pack', ' RC-30 Loop Station', ' Slim 76-Note', ' Soprano Ukulele', ' Banjo', ' 3Ft 4 Pack', ' 6.8 oz', ' Power 5A', ' 12U Rack Space - Standard', ' Small Medium Large X-Large 2X-Large', ' 6\" Length', ' 0.5 Feet (2-Pack)', ' 12 Inch', ' On Stage Maple 7A Wood Drumsticks 12 Pairs', ' 5pc Fusion Set', ' On Stage Maple 5B Wood Drumsticks 12 Pairs', ' 1 Space, Vent', ' 1/2-size', ' 25 Feet RA Female', ' 8-Channel / 2-Bus', ' Trombone Fiber', ' Strength 5.0', ' 25-key', ' 1.07mm', ' Medium, 50-105 (2-Pack)', ' 5BN', ' Light, 9-20', ' 10x9 Tom', ' 1 Feet 2 Pack', ' Keyboard Stand', ' Large/Extra Thick', ' 40 Watts', ' 3-Soft, Unfiled', ' 27 Inches - 39 Inches', ' .013 Inch', ' 6cm', ' TWO PACK', ' 21\"', ' n/a', ' Double, Pack of 2', ' K7', ' On Stage Maple 5B Nylon Drumsticks 12 Pairs', ' Cymbal Stand', ' Triple Guitar', ' 35ft', ' 20-inch', ' Carbon 4/4 - Full Size', ' 30 Pcs', ' 8-Channel', ' 16-inch', ' Bluegrass Lt. Top/Med. Bottom, 12-56', ' Moderate', ' Single PCS', ' 6.6ft/2M', ' 12 + 2 channels', ' .015', ' .71mm', ' Super Light, Soldered Twists, 09-42', ' 1000U', ' 20 Inch', ' Xtra Tall w/ Leveling Leg', ' Protects 3 Mouthpieces', ' 6 output', ' 346 - Medium', ' 5-String', ' Medium-Hard', ' 16\"', ' .88mm Green', ' Snap Hook', ' 1.5mm | Grip', ' Light (.010-.046)', ' 24\"x36\"', ' Rudy Sarzo Signature Electric Bass Padded Gig Bag', ' MSP600 Microphone Stand 6-Pack', ' 1/10 Size', ' 45-130tw', ' 10 feet', ' 24x18 Bass Drum', ' 12\", 13\" & 16\"', ' Bass', ' 3 FT', ' DD-3 Digital Delay', ' 4/4-size (full-size)', ' A500K', ' 7C', ' 40-100', ' Classical Guitar', ' 12 Foot', ' Jazz Bass - 10 Hole', ' concert', ' 10 FOOT METAL END', ' Light, 10-46', ' Headset and Lavaliere', ' 1-pack', ' Medium (.011-.040)', ' 8 Pack', ' Pro', ' Large Vents', ' 25 Feet', ' One Set', ' 100 Ft', ' 75W LED', ' 4PCS 18 X 3W', ' Strength 3.0', ' 10-46', ' 4 Cables', ' 24-inch', ' 40 Feet 2 PK', ' Semi Acoustic', ' 6-Inch', ' A-Framed Stand, 2-PACK', ' Jazz Extra Light, 10-49', ' 10 Pack', \" 4.0'' x 12.0''\", ' 14-Inch', ' 3.0', ' 21X20X9', ' a mode', ' 1/2 Classical', ' 16.5ft/5M', ' 10 FT / straight - rectangular', ' Medium Tension', ' 18\"x14\" Bass Drum Bag', ' w/ 10\" Throne', ' 5PCS 18 X 1W', ' 32 Keys', ' 15\"', ' 10-Medium', ' 12 Pack', ' 14\" Snare Drum Bag', ' 1.07 mm', ' 26\"Tenor', ' 14x14 Tom', ' Extra-Heavy', ' Medium, 50-105 (Double Ball End)', ' 0.66mm', ' 1 Ft', ' 16x14 Tom', ' 20 Space, 20\" Table', ' 0.94 mm', ' 11-42', ' 4/4 Scale', ' 1/4 Scale', ' Single Guitar Stand', ' 4-Channel', ' 50 Foot', ' Mono 4-way', ' 20 FT / straight - straight', ' Regular', ' 7-Inch', ' 35\" x 19\" x 3\"', ' 16 Ohm', ' Super Light, 8-String, 09-65', ' Baritone (Deluxe)', ' 10-input', ' 1 Fader Control Surface', ' Gig Bags', ' Concert Mahogany', ' MN01-Black', ' Soprano - 2 Pack', ' 1 Feet 2-Pack', ' L', \" 18'\", ' 2.0-Hard, Unfiled', ' 9-42', ' Trumpet Bell', ' 020 FT', ' On Stage Hickory 5A Nylon Drumsticks 12 Pairs', ' Telecaster - 5 Hole', ' Guitar', ' Slim 61-Note', ' 50 Feet', ' Light/Medium', ' 25 Pack', ' Lt. Top/Hvy. Bottom, 8-String, 10-74', ' 2 Pcs', ' 3-pin Male XLR', ' 6Ft 8 Pack', ' Light, 45-100 (Double Ball End)', ' 12-54', ' 12-in.', ' 28\" x 16\" x 4\"', ' 10 Watts', ' 3 Pair', ' 3 Feet 2 Pack', ' 4 PACK', ' Bridge Pin-6Bk-6Wt-Stringwinder', ' 6 Foot', ' 12\" woofer BATTERY', ' 3Ft 8 Pack', ' 1.50mm', ' 40 watts', ' 3L3R', ' Classical', ' 21 inches', ' 1 Polish', ' Key of G', ' 2U Rack Space - Shallow', ' 2 * 18 * 3 W', ' 7-Piece', ' Super Light, 7-String, 09-54', ' Extra Light .010 .014 .023 .030 .039 .047', ' 15inch-WithBag', ' .73mm | Smooth', ' 10cm', ' 358 - Medium', ' Stratocaster - 11 Hole', \" 3'\", ' .73mm', ' 3-Pack with Adapter', ' 3.5\"', ' Large Short', ' 22cm', ' 2pcs', ' 4 Channel', ' Super Light, 40-95', ' SMS6000 Single', ' 8 inch', ' 80/20 Custom Light | MSP3050', '5', ' 5/8', ' Dual 12 inch', ' 10\", 12\" & 16\"', ' Ukulele/Mandolin/Violin', ' w/ Legacy Accessories', ' Extra Super Light, 35-95', ' 3-inch', ' 12-String Guitar', ' Xtra Tall', ' 61-key', ' 6U', ' Bridge', ' Dreadnaught Adirondack', ' 10ft Angle', ' 3.5+', ' 50-ft Cable', ' Heavy Weight, Double-Braced', ' ACH-3', ' tall', ' High-Strung/Nashville Tuning, 10-27', ' Med. Blues/Jazz, 11-49', ' Wireless Remote', ' Soprano', ' 35 Feet', ' 8-inch', ' SR10 - 10\" 12\" 2x14\"', ' Skinny Top - Heavy Bottom', ' 1 Gallon (128 Oz.)', ' Keyboard & Power Supply', ' 250k', ' 5 pack', ' .50mm', ' Super Reverb', ' 1Ft 2-Pack', ' Short', ' 20 Space, 20\"', ' Light Gray', ' Double', ' 42 x 3.5 x 4mm', ' 700W', ' BARITONE', ' 2.0', ' 025 Ft', ' 6.6 Feet', ' 22.5 x 11.5 x 4-Inches', ' Heavy, 12-54', ' 5 feet', ' .0095-20', ' 10 keys Light Yellow', ' 5 Feet', ' 76 - 88 Keys', ' 5b', ' Bluegrass', ' Med. Top/Hvy. Bottom, 11-52', ' 10-Pack', 'F', ' 3in. x 6in. x 0.25in.', ' 25-Key', ' Single Pair', ' 3C', ' 1/8 Size', ' 300 watts', ' 8\" Single Row', ' 5AB', ' 8-Channel 100 ft', ' Stratocaster - 8 Hole', ' 42 X 3.5', ' 25ft', ' Upgraded', ' 3 Inch', ' Medium, 11-40', ' 3 Ft - 10 Pk', ' 80 watt', ' M7', ' 3/4 Scale', ' 0.500 Foot (6 Inch)', ' 50-Feet', ' Light (12-String), 10-47', ' 25 ft ra / f', ' Tripod Guitar Stand', ' 6in', ' 6 Meter 3', ' 12U Rack Space', ' 45-105', ' 7-String', ' Regular Light, 10-45', ' Fiberglass Case', ' Lt B, Long Scale (.130tw)', ' 2ft', ' 4', ' 92/8 High Tuning | MSPHT10', ' 5U (8.75\")', ' 60 Pack', ' Various', ' LU-21 Baritone', ' Flashback Mini', ' ROCKN', ' Microphone Stand', ' DMX512 Controller', ' 010 FT', ' 44', ' 2 PACK', ' 1.35mm', ' Junior', ' 6ft', ' 6 Feet', ' 8-Channel, 10-ft', ' 1 Pcs', ' Heavy (10-48)', ' 45-100', ' Slinky', ' Light, 45-130 (5-String)', ' 5.4 oz', ' 20\" Kick', ' Combo', ' 10PC', ' .017 gauge', ' 6x Mic Stands w/ Bag', ' 13.1 Feet', ' 14\" - 16\"', ' On Stage Maple 5A Wood Drumsticks 12 Pairs', ' 1.90mm', ' 12-inch', ' 32ft', ' 14 Inch', ' 25 ft', ' Med. Blues/Jazz Rock, 11-49', ' Single Kit', ' 18x16 Tom', ' 6', ' One Guitar', ' 3/4', ' Hi-Hat Stand', ' 1.5 Foot (18 Inch)', ' \" Phone Plug', ' 1202FX', ' Ring Slide', ' Regular Light, Wound 3rd, 10-46', ' Small: For Ukulele/Violin', ' 12 Feet, 2 Pack', ' Tall', 't', ' Soprano Ukulele Case', ' 20 watt', ' Strength: 3', ' 1/10', ' 12 Ft', ' 20\"', ' 12\" woofer', ' UPC-500', ' DD-7 Digital Delay', ' Slim Long 88-Note', ' 10\" - 12\"', ' Bundle w/ Amplifier', ' 30 Ft', ' 2-Channel', ' 3 foot', ' Custom Medium, 11-22', ' 15 FT', ' Full Size', ' 12-input', ' Regular Light Plus, 10.5-48', ' 35W', ' 18 LED', ' Aluminum alloy capo', ' 22\"x46\"', ' Allegro 2', ' Esquire', ' Cust. Lt. (.011-.052)', ' 22\"', ' SM57-LC Instrument', ' 2 Headset & 2 Lapel', ' T50RP', ' 25 Ft 2 Pack', ' 10-foot', ' 20 pack', ' Suede Strap & Pick Sampler', ' Ballistic Nylon', ' Channel D', ' SMS6000 Pair', ' Strength: 2', ' Pedal', ' L6', ' 70 W, No remote function', ' Full-sized keys', ' 3/4 Size Classical', ' 4pcs', ' 2 Pcs / Pack', ' 0.5 Feet 2 Pack', ' 9.5\"x 9.25\"x 2.75\"', ' 10-Inch', ' Includes Lav Mic', ' 30 Channel', ' 50 Ft - 1 Pk', ' 10 Ft 2 Pack', ' 8 Inch', ' 8\" x 14 1/2\"', ' 8-Channel 50 ft', ' 10\"', ' 12\"', ' 1 ft', ' 1 Gallon', ' .020 Inch', ' 006 Ft', ' 1.4mm | Grip', ' 2 pcs Pack', ' SD-1 Super Overdrive', ' super', ' 3 Ft 2-Pack', ' Case', ' Metal Hook', ' 15-inch', ' 12U Pop Up Rack', ' Medium, 13-56', ' 800W', ' 12 LED Par Lights RGB Light', ' 9W portable water effect light', ' Med. Top/X-Hvy. Bottom, 11-56', ' 346 - Thin', ' 50-105', ' 4/4', ' Acoustic Mini Jumbo Guitar Bag', ' .022 gauge', ' Cardioid', ' 15-in.', ' 5-Inch (pair)', ' 23/24in', ' 11-in.', ' Bluegrass, 12-56', ' 50ft', ' Concert', ' Full', ' 1-Gallon', ' 1/16', ' Lt Medium, Long Scale (.045-.105)', ' .0105 gauge', ' Electric Concert', ' 4-Inch', ' 18-Inch', ' Mix8', ' 6 Feet 2 Pack', ' 1.08mm', ' 1 PC', ' 3/4 Size, Left-Handed', ' MT-1', ' 8 Channel', ' 15 Ft 2 Pack', ' 1/2 Scale', ' Tenor', ' 15ft', ' 14\" x 36\"', 'e', ' 55-105', ' 2 Space, 10\"', ' Custom Light, 45-135 (5-String)', ' UPC-424', ' 60W', ' 10 FT', \" 25'\", ' 45-125', ' On Ear', ' 30 ft', ' 6 foot', ' 0.94mm', ' Kick Drum Bass Pedal', ' 16x16 Tom', ' .018', ' 1x15\" 150W', ' Desktop Amplifier', ' 5\"', ' One Hand Clutch', ' Tripod - 2 Pack', ' N4', ' 24 Pack', ' 003 Ft', ' 22\" Slinger', ' 37-Key', ' 6 Pack with Adapter', ' 18-inch', ' 88-Key', ' 1.4mm | Smooth', ' Med. Top/X-Hvy Bottom, 11-56', ' 8 * 18 * 3 W', ' 1 Cable', ' Light, 10-44', ' 0.56 mm', ' 400 watts', ' Extra Super Light, 08-38', ' Bb', ' Super Light, 40-95 (2-Pack)', ' Long Scale', ' 12 Channel', ' 000-size Sitka', ' 3 Space, 14\"', ' MIDI4+', ' with T1 ToneMatch', ' 6-String', ' .0095 gauge', ' Guitar/Bass', ' 5.0mm Large Pointed Tip', ' 1 piece', ' TENOR', ' 5ft', ' 20 ft', ' Medium/Light (9-42)', ' 20ft Straight', ' Thin Line', ' Snare 5.5 x 14\" (hgt x dia)', ' Thin gauge', ' 1.0mm', ' 5-Inch', ' Strength: 2.5', ' Normal Tension', ' 1.52mm', ' Full Set', ' Pro Series Music Stand with Accessories', ' 54 Key', ' 3.0mm', ' 50', ' MPS2-072', ' Soprano/Concert', ' 12-52', ' Medium C (.032)', ' Thick', ' 16cm', ' 3 PK', ' 13-in.', ' Les Paul', ' Lt. Top/Med. Bottom, 12-56', ' 10-Feet', ' 36\"', ' 2\" Width', ' 12 inches Panels', ' 5-String Bass', ' 22-Inch (Regular)', ' Drum set', ' 2PC', ' 10 Ft', ' 26 Inch', ' remote control', ' VLH30', ' 18.5-in-withBag', ' Body Pack System', ' A-Framed Stand', ' EON612 Speaker', ' High-Strung/Nashville Tuning, 10-26', ' 8-Inch (pair)', ' Bundle w/ Power Supply', ' 10.4\" x 13.0\"', ' Keyboard Stand Adapter', ' 5-Pack', ' Standard - Powered', ' Channel N2', ' 4-pin Female Connector', ' 25-Feet', ' Dual Transmitter', ' Concert Electric', ' 24\" Cymbal Bag', ' 4 Gallon Case', ' 2U (3.5\")', ' 5 ft', ' Acoustic', ' 3\" Width', ' Furry', ' 5a', ' Medium (27.5\"-44.25\")', ' 21-in.', ' 1 Quart (32 Oz.)', ' Base Model', ' Size 1/2', ' 5A', ' Hybrid', ' 5 Keys Rosewood', ' 1 PACK', ' 500k', ' 0.88mm', ' 10.2ft/3.1M', ' 3 Foot', ' Telecaster - 8 Hole', ' Medium, Wound Third, 13-56', ' 25 Feet, 2 Pack', ' DS-1 Distortion', ' 2.0mm | Grip', ' Extra-Hard Tension', ' 2x12', ' .88mm | Grip', ' THREE PACK', ' 3-Medium, Unfiled', ' Two Guitars', ' 025 FT', ' On Stage Hickory 5B Wood Drumsticks 12 Pairs', ' 26in', ' 16', ' 13\", 18\" Set', ' Hot Rod Deville 4x10', ' 10 ft', ' 19\"', ' Full-sized', ' Not Even', ' 1', ' 10 keys Red Wood', ' Deluxe Case', ' 2U Rack Space', ' Soprano Sized', ' 10-48', ' 000 Adirondack', ' Acoustic/Classical Guitar 41 Inch', ' 1.5 Feet RA Female', ' .46mm', ' 14\", 16\", 18\" Set', ' Light, 32-130 (8-String)', ' Version 3', ' 26\"', ' 5-inch', ' Light, 45-100 (2-Pack)', ' 1 Handheld & 1 Lapel, 1 Headset', ' 42\" Long Sub Pole - Dual Compartment', ' Custom Light', ' Rock Tom Pack (10\", 12\", 16\")', ' 42 x 6 x 3mm', ' Bass Guitar - Rectangular', ' 2 Feet', ' Remote Hi-Hat Stand', ' 4 Pack,No remote function', ' 49-key', ' .38mm', ' Two Pack', ' Universal', ' 8 pcs Pack', ' 11-52', ' Collectors Tin', ' Strat/Tele Electric', ' 54W', ' 0.63mm', ' 6 feet', ' 88 LB', ' 6 Pcs / Pack', ' Version 2', ' 8 Packs', ' Tele', ' 1.3mm, 30 Pack', ' Light .012 .016 .025 .032 .042 .054', ' Left Handed', ' Flashback Delay', ' Strength 3.0+', ' Tenor Sized', ' 4 Space, 17\"', ' Key of E', ' Piccolo Bass, 20-52', ' ABL-3', ' Super Light, 9-41', ' 25 Foot', ' .018 Inch', ' 1x10\" 40W', ' 10-ft Cable', ' 13x11 Tom', ' 15 Foot', ' 80/20 12 String Extra Light | MSP3600', ' Cymbal Straight Stands 2 Pack', ' 3.0mm Pointed Tip', ' one size', ' Tenor w/ Electronics', ' 17.00 x 15.50 x 40.00 inches', ' StampOnly', ' Lightweight, Single-Braced', ' LU-21 Concert', ' LU-11 Soprano', ' 1-Channel', ' Jazz Bass - 11 Hole', ' 16\" Drumhead Black Suede', ' #7', ' Channel K', ' 3 Ft', ' 22 Inch', ' 22\" Backpack', ' 12x10 Tom', ' 16 Space, 12\"', ' 3-Pack', ' Baritone Light, 13-62', ' Medium Weight, Single-Braced', ' .018 gauge', ' 13\" Hi hat Pair', ' 4U Rack Space - Rolling', ' Affinity', ' 1 Space, 8-Punch', ' 25 feet', ' Pro Strat & Tele Style', ' 0.72mm', ' 6ft/ 1.8m', ' EON610 Speaker', ' 4/4 size', ' 12 Feet', ' 5/8\"', ' 21in', ' 50\" Long - Single Compartment', ' 8 + 2 channels', ' 15  Feet', ' 20 FT / straight - rectangular', ' 18\"x 18\"x 5.5\"', ' WI-921 & WI-922', ' 14\" Hi hat Pair', ' Blues Deluxe', ' Key of C', ' F ree', ' 20 feet', ' 1.5 ft', ' 2.5', ' Extra Light (7-38)', ' 7 Pack', ' Jazz Bass LH - 10 Hole', ' Blues Junior', ' 4-pad', ' Tenor/Hawaiian', ' Concert Size', ' 8\" Trombone Bell', ' Tenor w/ Gloss Finish', ' REGULAR', ' 13-56', ' Steel Hardware Cart', ' 30  Feet', ' 3.5', ' 5C', ' Backplates (0991324000)', ' Jazz Light, 11-50', ' One Size', ' 0.46', ' 6-pack 30cm', ' Bundle w/ Gig Bag', ' Heaviest (12-54)', ' 3.00 mm', ' 50 feet', ' Body Rez', ' Keyboard Only', ' 8pcs 18 X 3W uplighting dj lighting', ' 20\" Cymbal Bag', ' 23-in.', ' Large Round Tip', ' 5.25\"', ' Single', ' 40 Watt', ' 802FX', ' 1000 Watt', ' 10-inch', ' Electric Bass', ' 10-Heavy', ' 22.5\" x 17.8\"', ' 06ft', ' 8-pad', ' 8\" woofer', ' Balanced Light (10-48)', ' CD-60S', ' PRO 14 - 8 inputs (2 mic pres) / 6 outputs', ' Bundle w/ Hard Case', ' 15 Feet', ' 8U Rack Space', ' 1/32', ' 1pc 54x3W LED Stage Lights', ' No Case', ' 4 inch', ' Hot Rod Deluxe', ' 7-Guitar Rack', ' Music Stand', ' 4U (7\")', ' Snare Drum Stand', ' 6 Space, 20\"', ' Group IV', \" 100'\", \" 10'\", ' 4pcs 18 X 3W uplighting dj lighting', ' .73mm Orange', ' .60 mm', ' Headset', ' 45W', ' 4.5\"', ' 8PCS 18 X 3W', ' Connector-free', ' Rock & Blues', ' Regular Light, Soldered Twists, 10-46', ' Twin Reverb', ' Strength 1.5', ' 8-Inch', ' Single Tier', ' 355 - Heavy', ' 3.00 x 3.00 x 26.30 inches', ' 20\"x25\"', ' 8-Pack', ' Two-Pack', ' 5-inch Woofer', ' Beginner bundle', ' 5 Case Rack', ' 2 Space, 17\"', ' 10 Feet', ' Channel N1', ' Hawaiian-Concert', ' Handheld', ' Extra Light, 10-48', ' 20 Ft.', ' Polytune', ' Full Set: 4 Strings (G-D-A-E)', ' -inch', ' 20 Ft', ' Short Scale', ' Light, 12-52', ' 9.5\"', ' 10\" Double Row', ' 7an', ' 25k', ' 355 - Thin', ' On Stage Hickory 7A Nylon Drumsticks 12 Pairs', ' Regular Light, 10-46', ' 4U Rack Space - Powered', ' .012 - .054', ' 5 pcs Pack', ' 19 inch', ' .013 gauge', ' #4', ' 60 watts', ' Bundle w/ Tuner', ' 22-inch', ' 88 Keys', ' .019 gauge', ' 18 inch Premium version', ' 1602FX', ' 1 Piece', ' 15 Watt', ' .008 gauge', ' 88 Note Large', ' Lt./Med. (.012-.056)', ' On Stage Hickory 2B Wood Drumsticks 12 Pairs', ' 600 Series', ' Super Lt B, Lng Scale (.125)', ' Medium (Balance Tension), 0135-056', ' 10 inch, 20 W', ' Light, 45-100', ' Super Light, Balanced Tension, 09-40', ' Lt. Top/Hvy Bottom, 10-52', ' Medium-Soft', ' 7a', ' 3-pack 15cm', ' Medium, Blue', ' Resophonic Guitar, 16-56', ' Custom Light, 40-100', ' 6-String Bass', ' 6 PK', ' 150 Watt', ' 20 Ft. Right Angle', ' 12 Space, 12\"', ' 30 Inch', ' Ebony', ' Lightweight, Double-Braced', ' 1.5ft', ' 20ft Angle', ' 6 PACK', ' 13\" x 50\"', ' N1', ' 4.80in. x 3.20in. x 1.80in.', ' Baritone Ukulele Case', ' 10-50', ' Large Format 12\" Speakers', ' OU2 Concert', ' Light (.012-.053)', ' 14-inch', ' 351 - Heavy', ' 16U Rack Space', ' Med. Top/Hvy Bottom, 11-52', ' Light  (.010-.034)', ' Size 3/4', ' Standard Profile', ' 25-Pack', ' 16-pad', ' 22x18 Bass Drum', ' Super', ' 1Ft 2Pack', ' 40 watt', ' Super Light', ' Light Tension', ' MSP300 Microphone Stand 3-Pack', ' 24 Inch', ' 12 String, Medium (.012-.053)', ' Size 1/4', ' SN6', ' Round Tip', ' Single Transmitter/VHF', ' 70W, 1 PACK', ' 24 Pack - Assorted Colors', ' 3/4-size', ' Standard', ' MANDO', \" Extends 2.62' Feet\", ' Heavier', ' 8-inch Woofer', ' 6-Pack', ' Snare Stand', ' .011 gauge', ' 1 TX / 1 RX System', ' 18\"', ' J1: 554-590 MHz', ' 15.5\"x 15\"x 5.5.\"', ' Size 4/4 (Full Size)', ' 61 Note Keyboard', ' 49-Key', ' 4 Strings: AAEE', ' Medium Light', ' 7.5\\'\\' x 9.1\"', ' Single Stand', ' 2-channel', ' Pro Series Music Stand', ' 1/2', ' HYBRID', ' Music Stand Bundle', ' Light, 45-130 (5-String, 2-Pack)', ' 0.50 mm', ' Presentation', ' 20 Watts', ' P115', ' Lt Medium, Long Scale (.045-.135)', ' Backplates', ' Single Transmitter', ' soprano', ' Group V', ' 6-inch Woofer', ' 30 Feet', ' 5 PCS / Pack', \" Extends: 3.9' Feet\", ' Beefy', ' 6\"', ' 25 on String', ' Pinky Slide', ' SM58-LC Vocal', ' 6 Inch', \" 15.0'' x 15.0''\", ' 18 inch', ' Boom Stand', ' 4 Pack', ' 1 Set', ' 16-Channel, 10-ft', ' 8\" Speaker', ' Acoustic Dreadnought', ' 8 Channels', ' Cymbal Boom Stand', ' Pro Junior', ' 25-ft Cable', ' Super Light (.009-.042)', ' CD-60SCE', ' 14\"', ' 20\"x 20\"x 5.5\"', ' 900 Series', ' 12-Inch', ' Concert (Deluxe)', ' 2 Foot', ' Heavy gauge', ' 12-Pack', ' Bass Guitar', ' 25 Ft', ' Extra Heavy Drop', ' Medium, 50-105', ' 22\" Kick', ' Custom Light .011 .015 .023 .032 .042 .052', ' 20 watts', ' 7/8 Size', ' 1/32 Size', ' 2 PC', ' One Size fits Most', ' 100 ft', ' 1000', ' Old Version', ' 1.00 mm', ' Light, 45-130 (5-String, Double Ball End)', ' Extra Light, 10-47', ' Light, 12-53', ' 20-input', ' 9 Inch', ' Acoustic Mini Jumbo', ' 12 String', ' Double Lavalier (for Cameras, Recorders, etc)', ' 1/8', ' On Stage Maple 2B Wood Drumsticks 12 Pairs', ' Med. Blues Jazz Rock, 11-49', ' .88mm | Smooth', ' 015 Ft', ' 21\"Soprano', ' One Sticker', ' 1.0mm | Smooth', \" 18.6'\", ' 3-inch Woofer', ' Cedar', ' MI0658', ' Strength 3.5', ' 30-Medium', ' 60 Pcs', ' 358 - Thin', ' Super Light Plus, 9.5-44', ' Pro Series Music Stand Bag & Gear Bag', ' 75 watts', ' 12 + 2 channel', \" 6'\", ' 351 - Extra Heavy', ' Jazz Light, 12-52', ' 700 Series', ' Heavy Tension', ' 4/4 - Full Size', ' 20\"x30\"', ' Flashback X4', ' 101 Mixed Picks', ' Size 4/4 (full size)', \" 5'\", ' 21\"x 18.5\"x 7\"', ' 26inch', ' Thin', ' 30 Watt', ' Double Electric Guitar Padded Gig Bag', ' 15 Inch', ' Two Stands', ' 2000U', ' 61 Key', ' Med B, Long Scale (.135)', ' 75', ' UR242', ' Concert Sized', ' 5 oz', ' 15', ' Small Vents', ' 351 - Medium', ' 18 Feet', ' 0.45mm', ' Slim 88-Note', ' 61 Keys', ' Strength 1.0', ' 351 - Thin', ' 3 Ft 2 Pack', ' Channel N5', ' On Stage Hickory 5A Wood Drumsticks 12 Pairs', ' Dynamic Handheld System', ' 16-channel', ' Over Ear', ' 4U Rack Space - Shallow', ' 3X12.8X10.8', ' 10 Cables', ' 100 Watt', ' 2000', ' 15 inch', ' Heavy Weight, Tripod Base', \" 15'\", ' Adult Size (Medium)', ' 0.6', ' 7.5\"', ' Hard', ' Short Base', ' 13\", 14\", 18\" Set', ' Electric', ' 2x10\" 450W', ' Channel N4', ' 0.60mm', ' Dual Speaker Stand Bag', ' 6-Channel / 2-Bus', ' Extra Light', ' 61-76 Keys', ' 1.5', ' Double Tom Drum Stand', ' 010 Ft', ' 1/8-size', ' Pointed Tip', ' Light, 9-20 (Ball End)', ' Jazz Light, 12-51', ' 8', ' 5 inch', ' Three-Pack', ' .020 gauge', ' 30 FT', ' 20-foot', ' Large', ' 12 Feet 2 Pack', ' FMT-206RC', ' 8-Channel 30 ft', ' 8 String', ' Up to 24\" Cymbals', ' 20 Feet', ' Jazz Medium, 13-56', ' .012 gauge', ' WI-922', ' 6x4', ' 8 Space, 20\"', ' 25-foot', ' Acoustic Electric Tenor', ' Backplates (0991320000)', ' Acoustic Jumbo', ' EON615 Speaker', ' 2 Cables', ' 12 oz', ' Strength 5', ' 6.5\" Speaker', ' hook', ' 6-foot', ' Key of Bb', ' Single Transmitter/VHF Vertical Receiver', ' MT-5', ' A Frame', ' 3 Space, 20\"', ' 8\"', ' 10U Rack Space', ' XXL', ' Pro Series Music Stand Bundle', ' On Stage Maple 2B Nylon Drumsticks 12 Pairs', ' Precision Bass - 13 Hole', ' 18W, RGB', ' 3 Feet', ' LSR305', ' 60', ' XL', ' 5-Guitar Rack', ' 1.40mm', ' 8-Channel, 100-ft', ' 5-Channel / 2-Bus', ' On Stage Hickory 2B Nylon Drumsticks 12 Pairs', ' Light (Balanced Tension), 12-52', ' Tenor Banjo, 9-30', ' 6U Rack Space', ' 9 String', ' 2.0-Medium, Filed', ' 4 Inch', ' MojoMojo Overdrive', ' POWER', ' .015 Inch', ' 5 String Set: G-D-A-E-E', ' 3/4 size', ' 16-Channel, 30-ft', ' 10 inch', ' Medium Tip', ' Medium', ' 3-Soft, Filed', ' 3U Rack Space - Rolling', ' 0.56mm', ' Single Pack', ' 2.0-Hard, Filed', ' 30 - Light/Heavy', ' Heavier (11-50)', ' 4.5 meters', ' CD-140SCE', ' 0.5 Feet', ' Old Model', ' MIDI1', ' Tenor Ukulele Case', ' 13\"', ' 50 Medium', ' Double Guitar', ' 30-Light', ' Deluxe Reverb', ' 100 Feet', ' 1.00mm', ' 76-Note', ' True Medium, 13-56', ' 3 Sets Light', ' M-size', ' 8pcs 54x3W LED Stage Lights', ' 8x8 Tom', ' DMX512 Control', ' x1', ' Tenor Ukulele', ' Single Lavalier (for Phones & Cameras)', ' .96mm', ' 6 Pack', ' Mandolin', ' 8-38', ' 23\"/24\" Concert', ' 10ft Straight', ' 58\" Long - Dual Compartment', ' 4-inch Woofer', ' 0.38 mm', ' Strength: 3.5', ' StampWithPad', ' M-size Twin-reed', ' Dual 15 inch', ' UPC-688', ' 16-input', ' Strength 2.0', ' 6 Ft 2-Pack', ' Guitar Wall Mount Hooks', ' 60W LED', ' Dark Gray', ' Lt B, Ex Long Scale (.130tw)', ' 4x4', ' Super 7A', ' 9.8 Feet', ' 24\" Backpack', ' Light, Wound Third, 12-52', ' .010 gauge', ' 18 Foot', ' Learn to Play Kit', ' .080 gauge', ' 10ft', ' 5  Feet', ' E String', ' 30 feet', ' 050 Ft', ' 1/2\"', ' Straight Stand', ' MN01-XL Black', ' Snare 6.5 x 14\" (hgt x dia)', ' 5W', ' Heavy', ' 12-channel', ' Long', ' 20 ft ra / f', ' #2', ' 2 Space, 12\"', ' 1pc', ' 1PC', ' 14x12 Tom', ' 5.0mm Large Round Tip', ' 8 Fader Control Surface', ' 4 String', ' PRO 40 - 20 inputs (8 mic pres) / 20 outputs', ' Medium, 7-String, 11-64', ' 6pcs', ' Version 1', ' Super Lt. (.009-.042)', ' .020', ' Dreadnaught Sitka', ' 3-pack 30cm', ' 0.38mm', ' 11-49', ' Dreadnought Guitar', ' Strength 4.0', ' 18\" x 13\" x 3\"', ' Pro - Powered', ' 8W', ' Super-Light, Red', ' .46 mm', ' Blues/Jazz Rock, 11-48', ' Full Size, Right-Handed', ' .96mm | Grip', ' 7', ' Cymbal Boom Stands 2 Pack', ' 1.14 mm', ' 50 Feet, 2 Pack', ' 2 Packs', ' 3-Guitar Rack', ' 1 foot', ' 44.50in. x 4.75in. x 4.75in.', ' Bluegrass Lt.Top/Med. Bottom, 12-56', ' Extra Long 88-Note', ' 2L2R', ' .88mm', ' Resophonic, 16-56', ' 4 Space, 14\"', ' Double Pack', ' 2 PK', ' DS-2 Turbo Distortion', \" 20'\", ' LU-21 Tenor', ' 22.3\" x 15.0\"', ' 80/20 Medium | MSP3200', ' 5.5\"', ' 20 Watt', ' 10\" woofer', ' 12 x 3W', ' Three Guitars', ' 40W', ' 13.1\"x 6.25\"x 6\" (X-AIR)', ' 22\" Cymbal Bag', ' /w 2nd Tier', ' Super Light Plus, 095-44', ' SINGLE', ' OU2E Concert Electric', ' 10 FT / straight - straight', ' Power 5B', ' Small Format 12\" Speakers', ' 1.5mm | Smooth', ' Light, Orange', ' 10  Feet', ' Soft', ' 1 Ft 2 Pack', ' 4 Space, 20\"', ' Normal', ' 20\" Pedalboard+Bag', ' 000 Sitka', ' Acoustic 3/4 Size', ' Strength 2', ' 7.7 x 5.7 x 3 inches', ' 10-Light', ' 58-110', ' 2 Pair', ' 88-Note', ' 75 Foot', ' 8-Channel, 50-ft', ' 1/2 Size', ' Electric Guitar', ' Viola', ' 16 Channel', ' 2 piece', ' 17\"', ' N6', ' 3-Medium, Filed', ' Extra', ' Electric Guitar Bag', ' Jumbo', ' Electric Bass Guitar Padded Gig Bag', ' X-Large', ' 49L x 17W x 6D 88 key', ' Concert Ukulele Case', ' Extra Short Scale', ' Single Transmitter/UHF', ' 5.0mm Round Tip', ' 6 pack', ' 1.5 meter', ' Drumstick Bag', ' Female Coupler', ' 1.3mm | Grip', ' 20 Feet RA Female', ' 800 watts', ' Pack of 2', ' RC-1 Loop Station', ' TRS', ' Adapter', ' 200 Pcs', ' Super Light Top/Reg. Bottom, 09-46', ' B', ' 10 pcs Pack', ' 75 Heavy', ' 6 inches', ' 12 String, Heavy (.013-.056)', ' Les Paul Guitar', ' Learn to Play kit', ' 1.3mm | Smooth', ' 4/4 Size', ' 12 String Extra Light | M180', ' 3/4 Size Acoustic', ' 451 - Extra Heavy', ' KA15S W/TUNER', ' 50 Feet 2 PK', ' 9-40', ' MIDI2+', ' 4 oz', ' Hand Held Mics', ' Mix12FX', ' 32-Key', ' 358 - Extra Heavy', ' 10 Inch', ' Double Kick', ' 16-Inch', ' Medium, 11-49', ' PO-14', ' 6 Ft.', ' Light', ' 4-inch', ' Omni Lavalier Microphone', ' 100 watts', ' 1.5 Feet', ' 14cm', ' 3 Pack', ' 2U Rack Space - Standard', ' 0.833 Foot (10 Inch)', ' 3 feet', ' MPK Mini', ' 12\"x 12\"x 5.5\"', ' Baritone Sized', ' 3 Space, Vent', ' 12 Space, Pocket-20\"', ' Ebony With Pearl Dot', ' 4 Packs', ' 12 LED 60 Watt RGB Strobe Light', ' Medium, 11-45', \" 15''~16.5''-size\", ' H7', ' .013', ' full-size', ' 6 Pairs', ' Group III', ' Condenser Handheld System', ' Accessory Bundle', ' Med. Blues/Jazz Rock, Wound 3rd, 11-49', ' 9-46', ' Standard Tom Pack (12\", 13\", 16\")', ' 4-channel + USB', ' Stratocaster LH - 11 Hole', ' 1.20mm', ' 075 FT', ' ADL-3', ' 30 per Pad', ' None', ' 61-Key', ' #1', ' 4 * 18 * 3 W', ' Battery Lavalier', ' 15 feet', ' 2 FT', ' ', ' On Stage Maple 5A Nylon Drumsticks 12 Pairs', ' 49 Keys', ' 1.0mm | Grip', ' With Bell', ' Custom Medium', ' 12x9 Tom', ' Med. Top/Hvy. Bottom, 12-String, 12-54', ' Extra Light, 12-String, 9-45', ' EXTRA', ' 50-foot', ' Double Guitar Stand', ' 6 Ft, 2 Pack', ' 8 Space, 14\"', ' 13 Inch', ' Medium, 12-String, 12-52', ' Vented', ' 1 Gallon (128 oz.)', ' 8 Ohm', ' Affinity HSS', ' Multi', ' Baritone, 16-70', ' 16-in.', ' 25 FT', ' Dual Transmitter/VHF', ' A0496', ' 1 Feet', ' 50 watts', ' Extra Super Light Plus, 8.5-39', ' 0.73mm', ' Single Set', ' Strength 2.5', ' 3 PACK', ' 120 watt', ' Key of A', ' 0.917 Foot (11 Inch)', ' Key of D', ' .009 gauge', ' 88 Key', ' Ditto Looper', ' 25 Ft.', ' 15-Inch', ' Protects 4 Mouthpieces', ' .73mm | Grip', ' Large Long', ' 3\"', ' 20cm', ' Pkg of 1', ' 100ft', ' 18 Inch', ' Medium, 10-23', ' 12-String', ' 76 Note Keyboard', ' 4U Rack Space - Standard', ' 1 Space, Blank', ' 10-52', ' 3cm', ' 2.0-Soft, Filed', ' Cardioid Lavalier Microphone', ' Stratocaster HH - 11 Hole', ' SOPRANO', ' 1 Pack,No remote function', ' Triple', ' Irish Tenor Banjo, 12-36', ' 5.0mm Pointed Tip', ' 1.26mm', ' .60mm', ' .94mm', ' 6 inch', ' 23\"', ' 30-Assorted', ' type 2', ' 76 Note', ' Fusion Tom Pack (10\", 12\", 14\")', ' 14U Rack Space', ' Violin', ' 75 Feet', ' 2-Handheld', ' Mini-sized keys', ' .0225 Inch', ' Heaviest', ' 050 FT', ' 15 ft ra / f', ' 2.0-Medium, Unfiled', ' 12 Space, 20\"', ' 10 Feet 1 Right Angle'}\n",
      "Length:: {' 20ft', ' 10', ' 6.6 feet', ' 28.00', ' 22.00', ' 6 Feet 2 Pack', ' 1 Feet', ' 10ft - Right Angle to Straight', ' 12', ' 14', ' 15 feet', ' 10ft - Straight to Straight', ' 16ft', ' 2 Feet', ' 20 Foot', ' 15 Feet', ' 75ft', '1', ' 20 Feet', '0', 't', ' ', ' 12 Foot', ' 6 inch', ' 3ft', ' 6.6 Feet', ' 20ft - Straight to Straight', ' 25ft', ' 9.9 feet', ' 6ft', ' 15ft', ' 3M', ' 5 feet', ' 43', ' 25 Foot', ' 30 Feet', ' 150ft', 'e', ' 3 Foot', ' 20', ' 6 ft', ' 9', \" 10'\", ' 50-foot', ' 10 Foot', ' 10 Feet', ' 18 inch', ' 18', ' 1.5ft', ' 5 Feet', ' 9.8 Feet', ' 30', ' 25 Feet', ' 25 feet', ' 24.00', ' 50ft', ' 100ft', ' 3 Feet', ' 3 Feet 2 Pack', ' 6', ' 6 Foot', ' 20ft - Right Angle to Straight', ' 21', 'f', \" 20'\", ' 10 feet', ' 6 Feet', ' 18 Foot', ' 16 Feet', ' 21.00', ' 15 ft', ' 10ft'}\n",
      "Configuration:: {' Laurel Fretboard', ' Keyboard', ' Accessory Pack', ' Stand, Headphone & Power Supply', ' Rosewood Fretboard', ' Software Bundle', ' Basic', ' Right Handed', ' Brass', ' Solid Top', ' Guitar with Case', ' Piano and Stand', ' Drum Kit', 'i', ' Without Cymbals', ' Acoustic-Electric', ' LED bar', ' P16-M', ' Guitar Only', ' Media Pack - Bolt Stand', ' Stand, Headphone, Power Supply & Software', ' Ukulele', ' Stand, Headphones & Power Supply', ' Base', ' Acoustic', ' ', ' Flute', ' Advanced Bundle', ' Workstation', 'e', ' Frozen Bundle', ' Trumpet only', 'r', ' Soprano', ' XENYX 1202FX', ' Keyboard & Power Supply', ' Drum Shell Pack', 'c', ' Standard Pack', ' Maple Fretboard', ' Electric Guitar', 'p', ' Voltmeter', ' Essentials Bundle', ' Bolt Stand Pack', ' Intermediate Bundle', ' Gigmaker Package', ' World Tour Adapter for Casio Keyboards', ' AMPLIFi', ' Interface', ' Microphone', ' Cork Grease', ' System', 'o', ' Processor', ' Controller', ' Digital Piano Only', ' Bundle w/ Headphones', 'h', ' Casio Adapter for Casio Keyboards', ' Silver', ' Starter Pack', ' Pedal', ' Bundle w/ Stand', ' Single Unit', ' Speaker', ' Guitar', ' Piano Only', ' Mixer', ' Deluxe', ' Digital Piano', ' Keyboard Bench', 'n', ' Headphone Amp', ' Receiver only', ' UMC204HD', 'M', ' Hardware Pack', ' Left Handed', ' All Solid'}\n",
      "Style Name:: {' Alto Saxophone', 'u', 'w', ' Short', '/', 'C', ' SMS-20', ' SMS-22', 'H', ' Standard Depth', 'd', 'a', ' Strength 2.5', 't', ' Keyboard Stand', 'Y', ' ', ' Swivel Hook', ' Tenor Saxophone', ' 2558A - Blue Steel Electric LTHB', 'i', 'S', ' Tuba / Tenor Saxophone', ' SMS-32', 'y', ' Side Key Risers', ' Grip', 'e', 's', ' Powerstroke P3 Coated Top Clear Dot Snare/Tom', ' Compact / Practice', ' Hanging Style w/ Self Closing Security Yoke and Locking Legs', ' GA-1 Guitar/Bass Tuner', 'r', 'L', 'k', 'n', ' Strength 3.5', 'g', 'f', ' Red, Wood', 'l', 'o', 'c', ' Trombone / Alto Sax / Clarinet', ' Mega', ' SMS-30', ' Ambassador Coated Bass'}\n",
      "Model Number:: {' AC30C2X', 'C', '8', ' SM823E', '1', ' ', ' AC15C1X', ' AC15C1', ' AC10C1', ' SM813M', ' CM4158', ' SM825E', ' SM812M', '4', '5', ' SM811M', ' SM824E', ' SM822E', ' AC30C2', 'M', ' AC4C1BL'}\n",
      "Item Package Quantity:: {' 8', ' 10', ' 2', ' 3', ' ', ' 12', ' 4', ' 100', ' 1', ' 25', '1'}\n",
      "Package Quantity:: {' 8', ' 10', ' 2', ' 3', ' ', ' 12', ' 4', ' 100', ' 1', ' 25', '1'}\n",
      "Product Packaging:: {'t', 'g', 'P', ' ', 'd', ' Standard Packaging', 'r', 'k', 'i', 'c', 'S', 'n', 'a'}\n",
      "Item Display Length:: {'0', ' 28.00', ' ', '4', ' 22.00', '2', ' 21.00', '.'}\n",
      "Package Type:: {'t', 'g', 'P', ' ', 'd', ' Standard Packaging', 'r', 'k', 'i', 'c', 'S', 'n', 'a', ' Frustration-Free Packaging'}\n",
      "Edition:: {'P', ' Trial', ' ', ' Professional', 'r', ' Pro', 'o'}\n",
      "Platform:: {' PC Disc', ' PC Download', 's', 'P', ' ', 'D', 'C', 'i', 'c'}\n",
      "style name:: {'t', 'g', ' 5-String', ' 4-String', ' ', '-', '5', 'r', 'i', 'S', ' Guitar', 'n'}\n",
      "Platform for Display:: {' Physical box & Code', 's', 'P', 'e', ' ', 'b', 'C', 'a', 'l', 'o', 'i', 'h', 'x', '&', 'c', 'd', 'y'}\n",
      "Number of Items:: {' ', ' 1', '1'}\n",
      "Color Name:: {' Black Party Light', 't', 'g', 'P', ' ', 'a', 'r', 'L', ' Dark Black', 'l', 'k', 'c', 'y', 'i', 'h', 'B'}\n",
      "Size Name:: {'3', ' ', ' 6FT', ' 3FT', ' 10FT', 'F', ' 15FT', 'T'}\n"
     ]
    }
   ],
   "source": [
    "# style field \n",
    "styles = {}\n",
    "\n",
    "for review in parse(data_path): \n",
    "    if 'style' in review: \n",
    "        for k, v in review['style'].items(): \n",
    "            if k in styles:\n",
    "                styles[k].add(v) \n",
    "            else: \n",
    "                styles[k] = set(v) \n",
    "\n",
    "for k, v in styles.items(): \n",
    "    print(f\"{k}: {v}\")"
   ]
  },
  {
   "cell_type": "markdown",
   "id": "b001f8b6",
   "metadata": {},
   "source": [
    "The style field does likely contain info relevant to recommendation tips. "
   ]
  },
  {
   "cell_type": "markdown",
   "id": "173eff41",
   "metadata": {},
   "source": [
    "# 2. Graph Build"
   ]
  },
  {
   "cell_type": "code",
   "execution_count": 22,
   "id": "7b747f86",
   "metadata": {},
   "outputs": [],
   "source": [
    "G = create_graph(data_path)"
   ]
  },
  {
   "cell_type": "markdown",
   "id": "c1d042eb",
   "metadata": {},
   "source": [
    "# 3. Recommendation Mining "
   ]
  },
  {
   "cell_type": "markdown",
   "id": "13cf7ec9",
   "metadata": {},
   "source": [
    "## 3.1. Create Utility Matrix  for lookups "
   ]
  },
  {
   "cell_type": "markdown",
   "id": "b84e4d9a",
   "metadata": {},
   "source": [
    "Makes more sense to create the Utility Matrix U only once so we can check it as needed. "
   ]
  },
  {
   "cell_type": "code",
   "execution_count": 25,
   "id": "d154eb35",
   "metadata": {},
   "outputs": [],
   "source": [
    "import pandas as pd \n",
    "\n",
    "def create_utility_matrix(graph): \n",
    "    data = [] \n",
    "    for user, product, review in G.edges(data=True): \n",
    "        rating = review.get('overall') \n",
    "        if rating is not None: \n",
    "            data.append((product, user, rating))\n",
    "\n",
    "    df = pd.DataFrame(data, columns=['product_id', 'user_id', 'rating']) \n",
    "\n",
    "    utility_matrix = df.pivot(index='product_id', columns='user_id', values='rating') \n",
    "\n",
    "    return utility_matrix \n",
    "        "
   ]
  },
  {
   "cell_type": "code",
   "execution_count": 26,
   "id": "5219e8a2",
   "metadata": {},
   "outputs": [],
   "source": [
    "U = create_utility_matrix(G)"
   ]
  },
  {
   "cell_type": "code",
   "execution_count": 27,
   "id": "abac3bb9",
   "metadata": {},
   "outputs": [
    {
     "data": {
      "text/html": [
       "<div>\n",
       "<style scoped>\n",
       "    .dataframe tbody tr th:only-of-type {\n",
       "        vertical-align: middle;\n",
       "    }\n",
       "\n",
       "    .dataframe tbody tr th {\n",
       "        vertical-align: top;\n",
       "    }\n",
       "\n",
       "    .dataframe thead th {\n",
       "        text-align: right;\n",
       "    }\n",
       "</style>\n",
       "<table border=\"1\" class=\"dataframe\">\n",
       "  <thead>\n",
       "    <tr style=\"text-align: right;\">\n",
       "      <th>user_id</th>\n",
       "      <th>A0072193KFP6LUHKEXLT</th>\n",
       "      <th>A0096681Y127OL1H8W3U</th>\n",
       "      <th>A0103849GBVWICKXD4T6</th>\n",
       "      <th>A0279100VZXR9A2495P4</th>\n",
       "      <th>A0600727NK5MAF66IOY5</th>\n",
       "      <th>A0727497OR0PPNFLFPDV</th>\n",
       "      <th>A07936821FOVJO6NP4Q8</th>\n",
       "      <th>A0833006NJW9KRF77ZFY</th>\n",
       "      <th>A0955928C2RRWOWZN7UC</th>\n",
       "      <th>A10044ECXDUVKS</th>\n",
       "      <th>...</th>\n",
       "      <th>AZYCGMFCK9AIM</th>\n",
       "      <th>AZYJTD9J82V5I</th>\n",
       "      <th>AZYP4FQ2L2C4O</th>\n",
       "      <th>AZZ3WYDJ0XNZW</th>\n",
       "      <th>AZZCLFV6V8693</th>\n",
       "      <th>AZZM5MUOG0LRK</th>\n",
       "      <th>AZZT9G4MJFCHD</th>\n",
       "      <th>AZZX23UGJGKTT</th>\n",
       "      <th>AZZZ3LGTCGUZF</th>\n",
       "      <th>AZZZG8PGB1FS0</th>\n",
       "    </tr>\n",
       "    <tr>\n",
       "      <th>product_id</th>\n",
       "      <th></th>\n",
       "      <th></th>\n",
       "      <th></th>\n",
       "      <th></th>\n",
       "      <th></th>\n",
       "      <th></th>\n",
       "      <th></th>\n",
       "      <th></th>\n",
       "      <th></th>\n",
       "      <th></th>\n",
       "      <th></th>\n",
       "      <th></th>\n",
       "      <th></th>\n",
       "      <th></th>\n",
       "      <th></th>\n",
       "      <th></th>\n",
       "      <th></th>\n",
       "      <th></th>\n",
       "      <th></th>\n",
       "      <th></th>\n",
       "      <th></th>\n",
       "    </tr>\n",
       "  </thead>\n",
       "  <tbody>\n",
       "    <tr>\n",
       "      <th>0739079891</th>\n",
       "      <td>NaN</td>\n",
       "      <td>NaN</td>\n",
       "      <td>NaN</td>\n",
       "      <td>NaN</td>\n",
       "      <td>NaN</td>\n",
       "      <td>NaN</td>\n",
       "      <td>NaN</td>\n",
       "      <td>NaN</td>\n",
       "      <td>NaN</td>\n",
       "      <td>NaN</td>\n",
       "      <td>...</td>\n",
       "      <td>NaN</td>\n",
       "      <td>NaN</td>\n",
       "      <td>NaN</td>\n",
       "      <td>NaN</td>\n",
       "      <td>NaN</td>\n",
       "      <td>NaN</td>\n",
       "      <td>NaN</td>\n",
       "      <td>NaN</td>\n",
       "      <td>NaN</td>\n",
       "      <td>NaN</td>\n",
       "    </tr>\n",
       "    <tr>\n",
       "      <th>0786615206</th>\n",
       "      <td>NaN</td>\n",
       "      <td>NaN</td>\n",
       "      <td>NaN</td>\n",
       "      <td>NaN</td>\n",
       "      <td>NaN</td>\n",
       "      <td>NaN</td>\n",
       "      <td>NaN</td>\n",
       "      <td>NaN</td>\n",
       "      <td>NaN</td>\n",
       "      <td>NaN</td>\n",
       "      <td>...</td>\n",
       "      <td>NaN</td>\n",
       "      <td>NaN</td>\n",
       "      <td>NaN</td>\n",
       "      <td>NaN</td>\n",
       "      <td>NaN</td>\n",
       "      <td>NaN</td>\n",
       "      <td>NaN</td>\n",
       "      <td>NaN</td>\n",
       "      <td>NaN</td>\n",
       "      <td>NaN</td>\n",
       "    </tr>\n",
       "    <tr>\n",
       "      <th>1480360295</th>\n",
       "      <td>NaN</td>\n",
       "      <td>NaN</td>\n",
       "      <td>NaN</td>\n",
       "      <td>NaN</td>\n",
       "      <td>NaN</td>\n",
       "      <td>NaN</td>\n",
       "      <td>NaN</td>\n",
       "      <td>NaN</td>\n",
       "      <td>NaN</td>\n",
       "      <td>NaN</td>\n",
       "      <td>...</td>\n",
       "      <td>NaN</td>\n",
       "      <td>NaN</td>\n",
       "      <td>NaN</td>\n",
       "      <td>NaN</td>\n",
       "      <td>NaN</td>\n",
       "      <td>NaN</td>\n",
       "      <td>NaN</td>\n",
       "      <td>NaN</td>\n",
       "      <td>NaN</td>\n",
       "      <td>NaN</td>\n",
       "    </tr>\n",
       "    <tr>\n",
       "      <th>1928571018</th>\n",
       "      <td>NaN</td>\n",
       "      <td>NaN</td>\n",
       "      <td>NaN</td>\n",
       "      <td>NaN</td>\n",
       "      <td>NaN</td>\n",
       "      <td>NaN</td>\n",
       "      <td>NaN</td>\n",
       "      <td>NaN</td>\n",
       "      <td>NaN</td>\n",
       "      <td>NaN</td>\n",
       "      <td>...</td>\n",
       "      <td>NaN</td>\n",
       "      <td>NaN</td>\n",
       "      <td>NaN</td>\n",
       "      <td>NaN</td>\n",
       "      <td>NaN</td>\n",
       "      <td>NaN</td>\n",
       "      <td>NaN</td>\n",
       "      <td>NaN</td>\n",
       "      <td>NaN</td>\n",
       "      <td>NaN</td>\n",
       "    </tr>\n",
       "    <tr>\n",
       "      <th>9792372326</th>\n",
       "      <td>NaN</td>\n",
       "      <td>NaN</td>\n",
       "      <td>NaN</td>\n",
       "      <td>NaN</td>\n",
       "      <td>NaN</td>\n",
       "      <td>NaN</td>\n",
       "      <td>NaN</td>\n",
       "      <td>NaN</td>\n",
       "      <td>NaN</td>\n",
       "      <td>NaN</td>\n",
       "      <td>...</td>\n",
       "      <td>NaN</td>\n",
       "      <td>NaN</td>\n",
       "      <td>NaN</td>\n",
       "      <td>NaN</td>\n",
       "      <td>NaN</td>\n",
       "      <td>NaN</td>\n",
       "      <td>NaN</td>\n",
       "      <td>NaN</td>\n",
       "      <td>NaN</td>\n",
       "      <td>NaN</td>\n",
       "    </tr>\n",
       "  </tbody>\n",
       "</table>\n",
       "<p>5 rows × 27530 columns</p>\n",
       "</div>"
      ],
      "text/plain": [
       "user_id     A0072193KFP6LUHKEXLT  A0096681Y127OL1H8W3U  A0103849GBVWICKXD4T6  \\\n",
       "product_id                                                                     \n",
       "0739079891                   NaN                   NaN                   NaN   \n",
       "0786615206                   NaN                   NaN                   NaN   \n",
       "1480360295                   NaN                   NaN                   NaN   \n",
       "1928571018                   NaN                   NaN                   NaN   \n",
       "9792372326                   NaN                   NaN                   NaN   \n",
       "\n",
       "user_id     A0279100VZXR9A2495P4  A0600727NK5MAF66IOY5  A0727497OR0PPNFLFPDV  \\\n",
       "product_id                                                                     \n",
       "0739079891                   NaN                   NaN                   NaN   \n",
       "0786615206                   NaN                   NaN                   NaN   \n",
       "1480360295                   NaN                   NaN                   NaN   \n",
       "1928571018                   NaN                   NaN                   NaN   \n",
       "9792372326                   NaN                   NaN                   NaN   \n",
       "\n",
       "user_id     A07936821FOVJO6NP4Q8  A0833006NJW9KRF77ZFY  A0955928C2RRWOWZN7UC  \\\n",
       "product_id                                                                     \n",
       "0739079891                   NaN                   NaN                   NaN   \n",
       "0786615206                   NaN                   NaN                   NaN   \n",
       "1480360295                   NaN                   NaN                   NaN   \n",
       "1928571018                   NaN                   NaN                   NaN   \n",
       "9792372326                   NaN                   NaN                   NaN   \n",
       "\n",
       "user_id     A10044ECXDUVKS  ...  AZYCGMFCK9AIM  AZYJTD9J82V5I  AZYP4FQ2L2C4O  \\\n",
       "product_id                  ...                                                \n",
       "0739079891             NaN  ...            NaN            NaN            NaN   \n",
       "0786615206             NaN  ...            NaN            NaN            NaN   \n",
       "1480360295             NaN  ...            NaN            NaN            NaN   \n",
       "1928571018             NaN  ...            NaN            NaN            NaN   \n",
       "9792372326             NaN  ...            NaN            NaN            NaN   \n",
       "\n",
       "user_id     AZZ3WYDJ0XNZW  AZZCLFV6V8693  AZZM5MUOG0LRK  AZZT9G4MJFCHD  \\\n",
       "product_id                                                               \n",
       "0739079891            NaN            NaN            NaN            NaN   \n",
       "0786615206            NaN            NaN            NaN            NaN   \n",
       "1480360295            NaN            NaN            NaN            NaN   \n",
       "1928571018            NaN            NaN            NaN            NaN   \n",
       "9792372326            NaN            NaN            NaN            NaN   \n",
       "\n",
       "user_id     AZZX23UGJGKTT  AZZZ3LGTCGUZF  AZZZG8PGB1FS0  \n",
       "product_id                                               \n",
       "0739079891            NaN            NaN            NaN  \n",
       "0786615206            NaN            NaN            NaN  \n",
       "1480360295            NaN            NaN            NaN  \n",
       "1928571018            NaN            NaN            NaN  \n",
       "9792372326            NaN            NaN            NaN  \n",
       "\n",
       "[5 rows x 27530 columns]"
      ]
     },
     "execution_count": 27,
     "metadata": {},
     "output_type": "execute_result"
    }
   ],
   "source": [
    "U.head() "
   ]
  },
  {
   "cell_type": "code",
   "execution_count": 28,
   "id": "5d7cb6d4",
   "metadata": {},
   "outputs": [
    {
     "data": {
      "text/plain": [
       "user_id\n",
       "A0072193KFP6LUHKEXLT    10616\n",
       "A0096681Y127OL1H8W3U    10581\n",
       "A0103849GBVWICKXD4T6    10615\n",
       "A0279100VZXR9A2495P4    10615\n",
       "A0600727NK5MAF66IOY5    10616\n",
       "                        ...  \n",
       "AZZM5MUOG0LRK           10612\n",
       "AZZT9G4MJFCHD           10612\n",
       "AZZX23UGJGKTT           10613\n",
       "AZZZ3LGTCGUZF           10615\n",
       "AZZZG8PGB1FS0           10615\n",
       "Length: 27530, dtype: int64"
      ]
     },
     "execution_count": 28,
     "metadata": {},
     "output_type": "execute_result"
    }
   ],
   "source": [
    "U.isnull().sum()"
   ]
  },
  {
   "cell_type": "code",
   "execution_count": 29,
   "id": "d7ed6a6d",
   "metadata": {},
   "outputs": [
    {
     "name": "stdout",
     "output_type": "stream",
     "text": [
      "27530\n",
      "10620\n"
     ]
    }
   ],
   "source": [
    "print(len(U.columns)) \n",
    "print(len(U.index))"
   ]
  },
  {
   "cell_type": "markdown",
   "id": "f8220e14",
   "metadata": {},
   "source": [
    "<h2> <i> User-User Collaborative Filtering </i> </h2>\n",
    "\n",
    "<b> Goal </b> \n",
    "\n",
    "Given a user u, we want to return a vector of items with top-r highest predicted rating. \n",
    "\n",
    "<b> Procedure </b>\n",
    "\n",
    "Given user u, generate a similarity vector with all other users with cosine similarity metric. \n",
    "\n",
    "Then, for each item i that u has not reviewed, generate u's predicted rating for i by: \n",
    "\n",
    "1. Finding set N of top-k users most similar to u who have also rated i. Consult the existing similarity vector to do so. \n",
    "\n",
    "2. Generate predicted rating based on N set. \n",
    "\n",
    "Repeat this for all items not rated by u. Find the min top-r highest ratings. For straight ties return all?   \n",
    "\n",
    "Would I think make sense to create a single lookup for this so we only have to do it once. Repeat the process for all users. "
   ]
  },
  {
   "cell_type": "markdown",
   "id": "21ce84ab",
   "metadata": {},
   "source": [
    "## 3.2. Create Similarity Matrix (S)"
   ]
  },
  {
   "cell_type": "code",
   "execution_count": 32,
   "id": "f11c4d01",
   "metadata": {},
   "outputs": [],
   "source": [
    "from sklearn.metrics.pairwise import cosine_similarity \n",
    "from sklearn.impute import SimpleImputer \n",
    "\n",
    "def create_similarity_matrix(UM): \n",
    "    # transpose Utility Matrix \n",
    "    user_item_matrix = UM.T \n",
    "    # Impute missing values \n",
    "    imputer = SimpleImputer(strategy='constant', fill_value=0) \n",
    "    user_item_filled = imputer.fit_transform(user_item_matrix) \n",
    "    # Compute cosine similarity between users \n",
    "    user_similarity = cosine_similarity(user_item_filled) \n",
    "    # DataFrame for quick lookups \n",
    "    user_similarity_df = pd.DataFrame(\n",
    "        user_similarity, \n",
    "        index=user_item_matrix.index, \n",
    "        columns=user_item_matrix.index \n",
    "    )\n",
    "    return user_similarity_df "
   ]
  },
  {
   "cell_type": "code",
   "execution_count": 33,
   "id": "2dbb6b11",
   "metadata": {},
   "outputs": [],
   "source": [
    "# call to create the similarity matrix \n",
    "S = create_similarity_matrix(U) "
   ]
  },
  {
   "cell_type": "code",
   "execution_count": null,
   "id": "489bb612",
   "metadata": {},
   "outputs": [],
   "source": [
    "S.head()"
   ]
  },
  {
   "cell_type": "markdown",
   "id": "d4faf678",
   "metadata": {},
   "source": [
    "## 3.3. Create Prediction Matrix (P) "
   ]
  },
  {
   "cell_type": "code",
   "execution_count": 36,
   "id": "ad32750e",
   "metadata": {},
   "outputs": [],
   "source": [
    "import time \n",
    "\n",
    "def predict_ratings(utility_matrix, similarity_matrix, k_only=True, k=5): \n",
    "    \"\"\"\n",
    "    Function to compute a predicted ratings matrix based on a utility matrix and similarity matrix. \n",
    "    Args: \n",
    "        utility_matrix: pd.DatFrame. Utility Matrix of users' ratings of items in the form of a pandas DataFrame. \n",
    "        similarity_matrix: pd.DataFrame. Similarity Matrix between users' ratings of items in the form of a pandas DataFrame. \n",
    "        k_only: bool, default True. If True, compute similarity based only on topk most similar users. If False, compute similarity based on all users with similarity > 0 who have also rated the item. \n",
    "        k: int. number of most similar users for computing ratings. \n",
    "    \"\"\"\n",
    "    # matrix to store predicted ratings\n",
    "    prediction_matrix = utility_matrix.copy() \n",
    "    start = time.time() \n",
    "    # iterate through users\n",
    "    for idx, user in enumerate(utility_matrix.columns): \n",
    "        # get similarity vector for this user \n",
    "        user_sim = similarity_matrix[user] \n",
    "        # iterate through products\n",
    "        for product in utility_matrix.index: \n",
    "            # skip already rated items \n",
    "            if not pd.isna(utility_matrix.at[product, user]): \n",
    "                continue \n",
    "            # Find users who rated this product \n",
    "            raters = utility_matrix.loc[product].dropna() \n",
    "            if raters.empty: \n",
    "                continue \n",
    "            # Get similarities of those users to current user \n",
    "            similarities = user_sim[raters.index] \n",
    "            if k_only: \n",
    "                # Select top-k most similar users\n",
    "                N_sim = similarities.sort_values(ascending=False).head(k) \n",
    "            else: \n",
    "                # select all users with similarity greater than 0 \n",
    "                N_sim = similarities[similarities > 0] \n",
    "            # Filter to users who rated the product \n",
    "            N_ratings = raters[N_sim.index] \n",
    "            # Compute weighted average of ratings\n",
    "            numerator = (N_sim * N_ratings).sum() \n",
    "            denominator = N_sim.sum() \n",
    "\n",
    "            if denominator > 0: \n",
    "                r_hat = numerator / denominator \n",
    "                prediction_matrix.at[product, user] = r_hat \n",
    "        \n",
    "        # predict time to generate the matrix \n",
    "        if idx == 0: \n",
    "            user_time = time.time() - start \n",
    "            remaining_users = len(similarity_matrix.index) - 1 \n",
    "            predicted_latency = remaining_users * user_time \n",
    "            print(\"Seconds to compute for first user:\", user_time) \n",
    "            print(\"Minutes predicted to compute matrix:\", predicted_latency // 60)\n",
    "\n",
    "    return prediction_matrix \n"
   ]
  },
  {
   "cell_type": "markdown",
   "id": "cd1c71e9",
   "metadata": {},
   "source": [
    "Create the prediction matrix. "
   ]
  },
  {
   "cell_type": "markdown",
   "id": "a9f585f5",
   "metadata": {},
   "source": [
    "Serious latency issue not yet resolved. Not worth executing until issue resolved."
   ]
  },
  {
   "cell_type": "code",
   "execution_count": 35,
   "id": "aee26d69",
   "metadata": {},
   "outputs": [
    {
     "ename": "KeyboardInterrupt",
     "evalue": "",
     "output_type": "error",
     "traceback": [
      "\u001b[31m---------------------------------------------------------------------------\u001b[39m",
      "\u001b[31mKeyboardInterrupt\u001b[39m                         Traceback (most recent call last)",
      "\u001b[36mCell\u001b[39m\u001b[36m \u001b[39m\u001b[32mIn[35]\u001b[39m\u001b[32m, line 1\u001b[39m\n\u001b[32m----> \u001b[39m\u001b[32m1\u001b[39m P = \u001b[43mpredict_ratings\u001b[49m\u001b[43m(\u001b[49m\u001b[43mU\u001b[49m\u001b[43m,\u001b[49m\u001b[43m \u001b[49m\u001b[43mS\u001b[49m\u001b[43m,\u001b[49m\u001b[43m \u001b[49m\u001b[43mk_only\u001b[49m\u001b[43m=\u001b[49m\u001b[38;5;28;43;01mFalse\u001b[39;49;00m\u001b[43m)\u001b[49m \n",
      "\u001b[36mCell\u001b[39m\u001b[36m \u001b[39m\u001b[32mIn[34]\u001b[39m\u001b[32m, line 22\u001b[39m, in \u001b[36mpredict_ratings\u001b[39m\u001b[34m(utility_matrix, similarity_matrix, k_only, k)\u001b[39m\n\u001b[32m     20\u001b[39m     \u001b[38;5;28;01mcontinue\u001b[39;00m \n\u001b[32m     21\u001b[39m \u001b[38;5;66;03m# Find users who rated this product \u001b[39;00m\n\u001b[32m---> \u001b[39m\u001b[32m22\u001b[39m raters = \u001b[43mutility_matrix\u001b[49m\u001b[43m.\u001b[49m\u001b[43mloc\u001b[49m\u001b[43m[\u001b[49m\u001b[43mproduct\u001b[49m\u001b[43m]\u001b[49m\u001b[43m.\u001b[49m\u001b[43mdropna\u001b[49m\u001b[43m(\u001b[49m\u001b[43m)\u001b[49m \n\u001b[32m     23\u001b[39m \u001b[38;5;28;01mif\u001b[39;00m raters.empty: \n\u001b[32m     24\u001b[39m     \u001b[38;5;28;01mcontinue\u001b[39;00m \n",
      "\u001b[36mFile \u001b[39m\u001b[32mc:\\Users\\bened\\anaconda3\\envs\\SINA-AT3\\Lib\\site-packages\\pandas\\core\\series.py:5900\u001b[39m, in \u001b[36mSeries.dropna\u001b[39m\u001b[34m(self, axis, inplace, how, ignore_index)\u001b[39m\n\u001b[32m   5897\u001b[39m \u001b[38;5;28mself\u001b[39m._get_axis_number(axis \u001b[38;5;129;01mor\u001b[39;00m \u001b[32m0\u001b[39m)\n\u001b[32m   5899\u001b[39m \u001b[38;5;28;01mif\u001b[39;00m \u001b[38;5;28mself\u001b[39m._can_hold_na:\n\u001b[32m-> \u001b[39m\u001b[32m5900\u001b[39m     result = \u001b[43mremove_na_arraylike\u001b[49m\u001b[43m(\u001b[49m\u001b[38;5;28;43mself\u001b[39;49m\u001b[43m)\u001b[49m\n\u001b[32m   5901\u001b[39m \u001b[38;5;28;01melse\u001b[39;00m:\n\u001b[32m   5902\u001b[39m     \u001b[38;5;28;01mif\u001b[39;00m \u001b[38;5;129;01mnot\u001b[39;00m inplace:\n",
      "\u001b[36mFile \u001b[39m\u001b[32mc:\\Users\\bened\\anaconda3\\envs\\SINA-AT3\\Lib\\site-packages\\pandas\\core\\dtypes\\missing.py:725\u001b[39m, in \u001b[36mremove_na_arraylike\u001b[39m\u001b[34m(arr)\u001b[39m\n\u001b[32m    723\u001b[39m     \u001b[38;5;28;01mreturn\u001b[39;00m arr[notna(arr)]\n\u001b[32m    724\u001b[39m \u001b[38;5;28;01melse\u001b[39;00m:\n\u001b[32m--> \u001b[39m\u001b[32m725\u001b[39m     \u001b[38;5;28;01mreturn\u001b[39;00m arr[\u001b[43mnotna\u001b[49m\u001b[43m(\u001b[49m\u001b[43mnp\u001b[49m\u001b[43m.\u001b[49m\u001b[43masarray\u001b[49m\u001b[43m(\u001b[49m\u001b[43marr\u001b[49m\u001b[43m)\u001b[49m\u001b[43m)\u001b[49m]\n",
      "\u001b[36mFile \u001b[39m\u001b[32mc:\\Users\\bened\\anaconda3\\envs\\SINA-AT3\\Lib\\site-packages\\pandas\\core\\dtypes\\missing.py:457\u001b[39m, in \u001b[36mnotna\u001b[39m\u001b[34m(obj)\u001b[39m\n\u001b[32m    380\u001b[39m \u001b[38;5;28;01mdef\u001b[39;00m\u001b[38;5;250m \u001b[39m\u001b[34mnotna\u001b[39m(obj: \u001b[38;5;28mobject\u001b[39m) -> \u001b[38;5;28mbool\u001b[39m | npt.NDArray[np.bool_] | NDFrame:\n\u001b[32m    381\u001b[39m \u001b[38;5;250m    \u001b[39m\u001b[33;03m\"\"\"\u001b[39;00m\n\u001b[32m    382\u001b[39m \u001b[33;03m    Detect non-missing values for an array-like object.\u001b[39;00m\n\u001b[32m    383\u001b[39m \n\u001b[32m   (...)\u001b[39m\u001b[32m    455\u001b[39m \u001b[33;03m    Name: 1, dtype: bool\u001b[39;00m\n\u001b[32m    456\u001b[39m \u001b[33;03m    \"\"\"\u001b[39;00m\n\u001b[32m--> \u001b[39m\u001b[32m457\u001b[39m     res = \u001b[43misna\u001b[49m\u001b[43m(\u001b[49m\u001b[43mobj\u001b[49m\u001b[43m)\u001b[49m\n\u001b[32m    458\u001b[39m     \u001b[38;5;28;01mif\u001b[39;00m \u001b[38;5;28misinstance\u001b[39m(res, \u001b[38;5;28mbool\u001b[39m):\n\u001b[32m    459\u001b[39m         \u001b[38;5;28;01mreturn\u001b[39;00m \u001b[38;5;129;01mnot\u001b[39;00m res\n",
      "\u001b[36mFile \u001b[39m\u001b[32mc:\\Users\\bened\\anaconda3\\envs\\SINA-AT3\\Lib\\site-packages\\pandas\\core\\dtypes\\missing.py:178\u001b[39m, in \u001b[36misna\u001b[39m\u001b[34m(obj)\u001b[39m\n\u001b[32m    101\u001b[39m \u001b[38;5;28;01mdef\u001b[39;00m\u001b[38;5;250m \u001b[39m\u001b[34misna\u001b[39m(obj: \u001b[38;5;28mobject\u001b[39m) -> \u001b[38;5;28mbool\u001b[39m | npt.NDArray[np.bool_] | NDFrame:\n\u001b[32m    102\u001b[39m \u001b[38;5;250m    \u001b[39m\u001b[33;03m\"\"\"\u001b[39;00m\n\u001b[32m    103\u001b[39m \u001b[33;03m    Detect missing values for an array-like object.\u001b[39;00m\n\u001b[32m    104\u001b[39m \n\u001b[32m   (...)\u001b[39m\u001b[32m    176\u001b[39m \u001b[33;03m    Name: 1, dtype: bool\u001b[39;00m\n\u001b[32m    177\u001b[39m \u001b[33;03m    \"\"\"\u001b[39;00m\n\u001b[32m--> \u001b[39m\u001b[32m178\u001b[39m     \u001b[38;5;28;01mreturn\u001b[39;00m \u001b[43m_isna\u001b[49m\u001b[43m(\u001b[49m\u001b[43mobj\u001b[49m\u001b[43m)\u001b[49m\n",
      "\u001b[36mFile \u001b[39m\u001b[32mc:\\Users\\bened\\anaconda3\\envs\\SINA-AT3\\Lib\\site-packages\\pandas\\core\\dtypes\\missing.py:207\u001b[39m, in \u001b[36m_isna\u001b[39m\u001b[34m(obj, inf_as_na)\u001b[39m\n\u001b[32m    205\u001b[39m     \u001b[38;5;28;01mreturn\u001b[39;00m \u001b[38;5;28;01mFalse\u001b[39;00m\n\u001b[32m    206\u001b[39m \u001b[38;5;28;01melif\u001b[39;00m \u001b[38;5;28misinstance\u001b[39m(obj, (np.ndarray, ABCExtensionArray)):\n\u001b[32m--> \u001b[39m\u001b[32m207\u001b[39m     \u001b[38;5;28;01mreturn\u001b[39;00m \u001b[43m_isna_array\u001b[49m\u001b[43m(\u001b[49m\u001b[43mobj\u001b[49m\u001b[43m,\u001b[49m\u001b[43m \u001b[49m\u001b[43minf_as_na\u001b[49m\u001b[43m=\u001b[49m\u001b[43minf_as_na\u001b[49m\u001b[43m)\u001b[49m\n\u001b[32m    208\u001b[39m \u001b[38;5;28;01melif\u001b[39;00m \u001b[38;5;28misinstance\u001b[39m(obj, ABCIndex):\n\u001b[32m    209\u001b[39m     \u001b[38;5;66;03m# Try to use cached isna, which also short-circuits for integer dtypes\u001b[39;00m\n\u001b[32m    210\u001b[39m     \u001b[38;5;66;03m#  and avoids materializing RangeIndex._values\u001b[39;00m\n\u001b[32m    211\u001b[39m     \u001b[38;5;28;01mif\u001b[39;00m \u001b[38;5;129;01mnot\u001b[39;00m obj._can_hold_na:\n",
      "\u001b[36mFile \u001b[39m\u001b[32mc:\\Users\\bened\\anaconda3\\envs\\SINA-AT3\\Lib\\site-packages\\pandas\\core\\dtypes\\missing.py:300\u001b[39m, in \u001b[36m_isna_array\u001b[39m\u001b[34m(values, inf_as_na)\u001b[39m\n\u001b[32m    298\u001b[39m         result = ~np.isfinite(values)\n\u001b[32m    299\u001b[39m     \u001b[38;5;28;01melse\u001b[39;00m:\n\u001b[32m--> \u001b[39m\u001b[32m300\u001b[39m         result = \u001b[43mnp\u001b[49m\u001b[43m.\u001b[49m\u001b[43misnan\u001b[49m\u001b[43m(\u001b[49m\u001b[43mvalues\u001b[49m\u001b[43m)\u001b[49m\n\u001b[32m    302\u001b[39m \u001b[38;5;28;01mreturn\u001b[39;00m result\n",
      "\u001b[31mKeyboardInterrupt\u001b[39m: "
     ]
    }
   ],
   "source": [
    "P = predict_ratings(U, S, k_only=False) "
   ]
  },
  {
   "cell_type": "markdown",
   "id": "bda1f1bc",
   "metadata": {},
   "source": [
    "Save as CSV to avoid recomputing"
   ]
  },
  {
   "cell_type": "code",
   "execution_count": null,
   "id": "59370828",
   "metadata": {},
   "outputs": [],
   "source": [
    "path = os.path.join(project_dir, \"data\", \"Prediction_Matrix.csv\") \n",
    "P.to_csv(path)"
   ]
  },
  {
   "cell_type": "markdown",
   "id": "17040edb",
   "metadata": {},
   "source": [
    "Reload Prediction Matrix"
   ]
  },
  {
   "cell_type": "code",
   "execution_count": null,
   "id": "11e15b76",
   "metadata": {},
   "outputs": [],
   "source": [
    "path = os.path.join(project_dir, \"data\", \"Prediction_Matrix.csv\") \n",
    "P = pd.read_csv(path) "
   ]
  },
  {
   "cell_type": "markdown",
   "id": "80cfb6ea",
   "metadata": {},
   "source": [
    "## 3.4. Top-r recommendations lookup"
   ]
  },
  {
   "cell_type": "code",
   "execution_count": null,
   "id": "174867a0",
   "metadata": {},
   "outputs": [],
   "source": [
    "def get_top_recs(prediction_matrix, utility_matrix, users=None, r=5): \n",
    "    recommendations = {} \n",
    "    for user in prediction_matrix.columns: \n",
    "        # Filter for items not actually rated by user\n",
    "        user_preds = prediction_matrix[user][utility_matrix[user].isna()] \n",
    "        # sort by predicted rating \n",
    "        top_r_items = user_preds.sort_values(ascending=False).head(r) \n",
    "        recommendations[user] = top_r_items.index.tolist() \n",
    "    for user in users: \n",
    "        user_preds = prediction_matrix[user][utility_matrix[user].isna()] \n",
    "    return recommendations\n",
    "\n",
    "recs = get_top_recs(P, U) "
   ]
  },
  {
   "cell_type": "markdown",
   "id": "5bb08103",
   "metadata": {},
   "source": [
    "# 4. LLM Prompting"
   ]
  },
  {
   "cell_type": "markdown",
   "id": "c4ce9112",
   "metadata": {},
   "source": [
    "Given some user u identified by their user_id and k desired recommendatio0ns, we want to do the following: \n",
    "\n",
    "1. Get the product_ids (p, q etc.) of those k products from the recs lookup. \n",
    "2. Find the N set of users who have rated p and are most similar to u. \n",
    "3. Finding p review samples: \n",
    "    a. If N is insufficiently large, say below three, also find the highest ratings for p with the most votes.  \n",
    "    b. Regardless of how big N is, find the review of p with highest rating and most votes. \n",
    "4. u review sample: Find user u's review with highest rating. \n",
    "    "
   ]
  },
  {
   "cell_type": "code",
   "execution_count": null,
   "id": "083129f2",
   "metadata": {},
   "outputs": [],
   "source": [
    "def find_prompt_info(user_id, graph=G, top_p=1, similarity_matrix=S, recommendations_lookup=recs): \n",
    "    recommended_products = recommendations_lookup[user_id][:top_p] \n",
    "    # get similarity vector for this user \n",
    "    sim_vector = similarity_matrix[user_id]  \n",
    "    "
   ]
  }
 ],
 "metadata": {
  "kernelspec": {
   "display_name": "SINA-AT3",
   "language": "python",
   "name": "python3"
  },
  "language_info": {
   "codemirror_mode": {
    "name": "ipython",
    "version": 3
   },
   "file_extension": ".py",
   "mimetype": "text/x-python",
   "name": "python",
   "nbconvert_exporter": "python",
   "pygments_lexer": "ipython3",
   "version": "3.11.11"
  }
 },
 "nbformat": 4,
 "nbformat_minor": 5
}

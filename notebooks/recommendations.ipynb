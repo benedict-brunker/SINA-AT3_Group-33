{
 "cells": [
  {
   "cell_type": "markdown",
   "id": "824384b5",
   "metadata": {},
   "source": [
    "Idea: supplement a traditional recommendation system with an LLM that generates a customized recommendation tip for each recommendation. \n",
    "\n",
    "Demonstration: user either picks a specific node in the network or a random one. Generate info about this user. Generate the product recommendation with tip (top-k times). If ambitious we could set up a user-friendly front-end demo with an app or something. "
   ]
  },
  {
   "cell_type": "markdown",
   "id": "4cc90c2a",
   "metadata": {},
   "source": [
    "TODO: \n",
    "\n",
    "- build graph  - [x] \n",
    "- recommendation algorithm, which must return for a User u: - [x]\n",
    "    - top-k recommended products p1, p2 etc.\n",
    "    - N set of most similar users v\n",
    "- From this we find for each  \n",
    "    - Product pi and User ui:\n",
    "        - M set of top-l highest rated and most helpful reviews for pi by ui\n",
    "- O set of u's reviews with highest rating of products q, r etc. that were also rated highly by the M set users, i.e. products on which the similarity is based. This is to give the LLM (a) info about which products u likes and (b) u's writing style. \n",
    "- Prompt packaging: \n",
    "    - We generate a prompt that contains the following information:\n",
    "        1. Description of task. \n",
    "        2. M set sorted by rating and helpfulness. \n",
    "        3. O set sorted by rating. \n",
    "\n"
   ]
  },
  {
   "cell_type": "markdown",
   "id": "ce330fb8",
   "metadata": {},
   "source": [
    "# 0. Functions and Global Directories"
   ]
  },
  {
   "cell_type": "code",
   "execution_count": 67,
   "id": "b7ba3bdf",
   "metadata": {},
   "outputs": [
    {
     "name": "stdout",
     "output_type": "stream",
     "text": [
      "c:\\Users\\bened\\DataScience\\Autumn 2025\\SINA\\assignments\\3\n",
      "True\n"
     ]
    }
   ],
   "source": [
    "import os \n",
    "import gzip \n",
    "import json\n",
    "import networkx as nx \n",
    "import numpy as np\n",
    "\n",
    "cwd = os.getcwd()\n",
    "project_dir = os.path.dirname(cwd)\n",
    "print(project_dir) \n",
    "data_dir = os.path.join(project_dir, \"data\")\n",
    "data_path = os.path.join(data_dir, \"Musical_Instruments_5.json.gz\") \n",
    "print(os.path.exists(data_path))\n",
    "lookups_dir = os.path.join(project_dir, \"lookups\") \n",
    "graphs_dir = os.path.join(project_dir, \"graph\") "
   ]
  },
  {
   "cell_type": "code",
   "execution_count": 68,
   "id": "e4544478",
   "metadata": {},
   "outputs": [
    {
     "data": {
      "text/plain": [
       "['.env',\n",
       " '.git',\n",
       " '.gitignore',\n",
       " 'data',\n",
       " 'environment.yml',\n",
       " 'graph',\n",
       " 'info',\n",
       " 'lookups',\n",
       " 'notebooks',\n",
       " 'reading',\n",
       " 'scripts',\n",
       " 'setup']"
      ]
     },
     "execution_count": 68,
     "metadata": {},
     "output_type": "execute_result"
    }
   ],
   "source": [
    "os.listdir(project_dir)"
   ]
  },
  {
   "cell_type": "code",
   "execution_count": 14,
   "id": "371f5588",
   "metadata": {},
   "outputs": [],
   "source": [
    "def parse(path): \n",
    "    g = gzip.open(path, 'r') \n",
    "    for l in g:\n",
    "        yield json.loads(l) "
   ]
  },
  {
   "cell_type": "code",
   "execution_count": 15,
   "id": "ea3ddecd",
   "metadata": {},
   "outputs": [],
   "source": [
    "def create_graph(path): \n",
    "\n",
    "    product_keys = ['image', 'style']\n",
    "    edge_keys = ['overall', 'verified', 'vote', 'reviewText', 'summary', 'reviewTime', 'unixReviewTime']\n",
    "\n",
    "    G = nx.DiGraph() \n",
    "    for idx, review in enumerate(parse(path)):  \n",
    "        \n",
    "        # -- EXTRACT NODE IDs AND ATTRIBUTES --- \n",
    "        user_id = review['reviewerID'] \n",
    "        if 'reviewerName' in review:\n",
    "            user_name = review.get('reviewerName', None) \n",
    "        \n",
    "        product_id = review['asin'] \n",
    "\n",
    "        # --- USER NODE --- \n",
    "        if G.has_node(user_id): \n",
    "            # Node exists; check names \n",
    "            current_name = G.nodes[user_id].get('reviewerName', None) \n",
    "\n",
    "            if user_name:  # if the dict has a reviewerName (not None) \n",
    "                if not current_name:  # and the node corresponding to that reviewerID does not have a name already\n",
    "                    G.nodes[user_id]['reviewerName'] = user_name  # name reviewer \n",
    "                # else if there's a conflict between node's current name and name on this review\n",
    "                elif user_name != current_name: \n",
    "                    # add an additional name attribute\n",
    "                    name_keys = [k for k in G.nodes[user_id] if 'Name' in k] # by first checking how many names the node already has \n",
    "                    count = len(name_keys) \n",
    "                    key = \"secondName\" if count == 2 else f\"{count}thName\" \n",
    "                    G.nodes[user_id][key] = user_name \n",
    "                # if user_name is None we do nothing\n",
    "        # if no existing node for this user_id, create a new one \n",
    "        else: \n",
    "            G.add_node(user_id, bipartite='user') \n",
    "            if user_name: \n",
    "                G.nodes[user_id]['reviewerName'] = user_name \n",
    "        \n",
    "        # --- PRODUCT NODES --- \n",
    "        if not G.has_node(product_id): \n",
    "            product_attributes = {k:v for k, v in review.items() if k in product_keys}\n",
    "            G.add_node(\n",
    "                product_id, \n",
    "                bipartite='product',\n",
    "                **product_attributes\n",
    "                ) \n",
    "        # check if review has attributes not already stored in in this node \n",
    "        else: \n",
    "            for k in product_keys: \n",
    "                val = review.get(k, None) \n",
    "                if val is not None and k not in G.nodes[product_id]: \n",
    "                    G.nodes[product_id][k] = val\n",
    "        # --- REVIEW EDGES (User-Review->Product) --- \n",
    "        edge_attributes = {k:v for k, v in review.items() if k in edge_keys}\n",
    "        G.add_edge(\n",
    "            user_id, \n",
    "            product_id, \n",
    "            type='Reviewed',\n",
    "            id=idx, \n",
    "            **edge_attributes\n",
    "        )\n",
    "\n",
    "    return G"
   ]
  },
  {
   "cell_type": "markdown",
   "id": "da5118cd",
   "metadata": {},
   "source": [
    "# 1. Data Inspection"
   ]
  },
  {
   "cell_type": "markdown",
   "id": "e09dbae6",
   "metadata": {},
   "source": [
    "## 1.0. Dimensions"
   ]
  },
  {
   "cell_type": "markdown",
   "id": "2007ea0c",
   "metadata": {},
   "source": [
    "### 1.0.0. Total number of reviews"
   ]
  },
  {
   "cell_type": "code",
   "execution_count": 16,
   "id": "537fb573",
   "metadata": {},
   "outputs": [
    {
     "name": "stdout",
     "output_type": "stream",
     "text": [
      "231392 reviews total in data.\n"
     ]
    }
   ],
   "source": [
    "num = 0 \n",
    "for review in parse(data_path): \n",
    "    num += 1 \n",
    "print(f\"{num} reviews total in data.\")"
   ]
  },
  {
   "cell_type": "markdown",
   "id": "8da031ec",
   "metadata": {},
   "source": [
    "### 1.0.1. Total number of distinct products"
   ]
  },
  {
   "cell_type": "code",
   "execution_count": 17,
   "id": "58ac2a03",
   "metadata": {},
   "outputs": [
    {
     "name": "stdout",
     "output_type": "stream",
     "text": [
      "10620 distinct products in data.\n"
     ]
    }
   ],
   "source": [
    "distinct_products = set() \n",
    "for review in parse(data_path): \n",
    "    if 'asin' in review: \n",
    "        distinct_products.add(review.get('asin', None)) \n",
    "print(f\"{len(distinct_products)} distinct products in data.\")"
   ]
  },
  {
   "cell_type": "markdown",
   "id": "18a8d9e4",
   "metadata": {},
   "source": [
    "### 1.0.2. Total number of distinct reviewer IDs. "
   ]
  },
  {
   "cell_type": "code",
   "execution_count": 18,
   "id": "ae8620f3",
   "metadata": {},
   "outputs": [
    {
     "name": "stdout",
     "output_type": "stream",
     "text": [
      "27530 distinct reviewers in data.\n"
     ]
    }
   ],
   "source": [
    "distinct_reviewers = set() \n",
    "for review in parse(data_path): \n",
    "    if 'reviewerID' in review: \n",
    "        distinct_reviewers.add(review.get('reviewerID', None)) \n",
    "print(f\"{len(distinct_reviewers)} distinct reviewers in data.\")"
   ]
  },
  {
   "cell_type": "markdown",
   "id": "8a1e77b8",
   "metadata": {},
   "source": [
    "### 1.0.3. Top Reviewers"
   ]
  },
  {
   "cell_type": "code",
   "execution_count": null,
   "id": "9204a6d3",
   "metadata": {},
   "outputs": [],
   "source": [
    "from collections import Counter \n",
    "\n"
   ]
  },
  {
   "cell_type": "markdown",
   "id": "6981668f",
   "metadata": {},
   "source": [
    "## 1.1. Possible Keys (-> attributes)"
   ]
  },
  {
   "cell_type": "code",
   "execution_count": 113,
   "id": "5eaa2403",
   "metadata": {},
   "outputs": [
    {
     "name": "stdout",
     "output_type": "stream",
     "text": [
      "{'reviewTime', 'reviewerName', 'style', 'summary', 'verified', 'overall', 'reviewText', 'vote', 'asin', 'reviewerID', 'image', 'unixReviewTime'}\n"
     ]
    }
   ],
   "source": [
    "# inspect possible keys \n",
    "keys = set() \n",
    "\n",
    "for review in parse(data_path): \n",
    "    for k in review.keys(): \n",
    "        if k not in keys: \n",
    "            keys.add(k) \n",
    "\n",
    "print(keys) "
   ]
  },
  {
   "cell_type": "markdown",
   "id": "65f29f53",
   "metadata": {},
   "source": [
    "## 1.2. ReviewTime"
   ]
  },
  {
   "cell_type": "code",
   "execution_count": 5,
   "id": "5cc231cf",
   "metadata": {},
   "outputs": [
    {
     "name": "stdout",
     "output_type": "stream",
     "text": [
      "10 30, 2016\n",
      "06 30, 2016\n",
      "05 9, 2016\n",
      "04 10, 2016\n",
      "02 6, 2016\n",
      "01 2, 2016\n",
      "06 21, 2015\n",
      "03 28, 2015\n",
      "03 19, 2015\n",
      "03 15, 2015\n"
     ]
    }
   ],
   "source": [
    "# inspect reviewTime field \n",
    "for idx, review in enumerate(parse(data_path)): \n",
    "    if idx==10: \n",
    "        break \n",
    "    elif 'reviewTime' in review: \n",
    "        print(review['reviewTime'])"
   ]
  },
  {
   "cell_type": "markdown",
   "id": "6c171553",
   "metadata": {},
   "source": [
    "format: MM DD, YYYY  \n",
    "\n",
    "Since we have Unix already this is likely not needed for any computational task. "
   ]
  },
  {
   "cell_type": "markdown",
   "id": "6f04197a",
   "metadata": {},
   "source": [
    "## 1.3. Style"
   ]
  },
  {
   "cell_type": "code",
   "execution_count": 6,
   "id": "42fc01a0",
   "metadata": {},
   "outputs": [
    {
     "name": "stdout",
     "output_type": "stream",
     "text": [
      "Format:: {' Misc. Supplies', 'S', ' Wireless Phone Accessory', 'M', ' CD-ROM', ' Software Download', 'u', ' DVD-ROM', 'c', ' Audio CD', ' Paperback', 'l', 'e', 's', ' Electronics', ' ', 'p', 'i', '.'}\n",
      "style:: {' 49 Key', ' AUD ATR1500', ' GXL3000BP', ' G3X', ' B Band', ' TVHF: 179.400 MHz & 180.600 MHz', ' 200 W, 8 Ohm', ' 8PreX - 26 in / 28 out', ' 4FX', ' Dirt Transmitter Fuzz', ' GX7 1000W Amp', ' Line/Inst level input switchable, 4 ch rackmount', ' 25-Pin to 8XLRM, 5 ft', ' HT Venue Club 40 Combo Amplifier', ' Tone Job', ' Supercardioid', ' 2Pre - 10 in / 4 out', ' Bluetooth Enabled', ' 5-Watt Limited Edition', ' Pedal', ' 200 W, 4 Ohm', ' MG15 Stack', ' Loudbox Artist Cover', ' 4-Piece Drum Pack', ' Straight to Right Angle', ' NP-2', ' Archer Overdrive/Boost', ' G3', ' Lightning', ' C9', ' 7.2-inch', ' No Bluetooth', ' H4n (2015 model)', ' 5\" Monitor Speaker', ' 18W PAR', ' Korg ELECTRIBES Sample Based Production Station', ' 15 Watt Amp', ' Headphone', ' APC Key 25', ' AK-DR11C', ' CHS-30', ' Tumnus Deluxe', ' PG48-XLR', ' Tremolo', ' H9: 512-542 MHz', ' COOLSWITCH', ' OBEY4 D-Fi', ' Fog machine', ' G1Xon', ' Micro Boompole', ' MX400XL', ' PA Speaker System', ' No DMX Control', ' SubDude-II', ' Hummingbird', ' Digital Recorder', ' 30 watt', ' RCA to XLR interface', ' MKE 400 Microphone', ' MV88 Only', ' SSH-6', ' Reverb', ' K10/K10.2 Tote Bag', ' XLR3F to XLR3F Gender Changer', ' Cardiod Condenser (Pair)', ' Thunder Bass', ' 2 channel, Mono/Stereo switchable', ' 2B Modeling Bass Guitar Effects Pedal', ' Audio Interface', ' UM Pro 30 - Discontinued Model (Smoke)', ' MG10CF', ' Blast Blocker', ' Double-X Keyboard Stand', ' Ground Control Pro', ' with Bluetooth', ' Metal', ' 400 watts; 12\" Speaker', ' Spark Digital', ' Digital', ' Fixed Boom, Tripod Base', ' 100-Watt Head', ' 1500W', ' Standard XLR', ' PG48-QTR', ' R16', ' Microphone', ' DP-03SD', ' 4-XLRF, Duplex AC', ' AmpDude', ' Creative Reference Multimedia Monitors', ' 6 Inch (6 Pack)', ' MX418', ' ToneLab ST Modeling Effect Processor', ' 300-Watt', ' 8-XLRF, 2-SpeakOn', ' 1G Modeling Guitar Effects Pedal', ' US-4x4', ' GXL3000', ' Pedal Tuner', ' Levitation', ' Arrows', ' 100 Pack', ' No LED Lights', ' XLR3F to 1/4\" TRS', ' Duet-iOS with Apogee Assure', ' 150 watt', ' Launchpad Pro', ' 6-in-1', ' Only Guitar', ' CLP-10', ' TS808', ' PRO 26 - 18 inputs (4 mic pres) / 8 outputs', ' Lunchbox Junior Amp', ' Sonar Artist', ' SC3 TRRS-TRS Adaptor', ' Pro-Right Angle', ' R8', ' UM Pro 20 - Discontinued Model (Clear)', ' Dispatch M. Delay/Reverb', ' 10\" Powered Speaker', ' Premium SuperCardioid Dynamic Handheld', ' 15\" Powered Speaker', ' Loudspeaker', ' BNC', ' OBEY4', ' Single Stand with Hydraulic Auto-Lift', ' Chorus', ' M-Track 2x2M - 2 channel + 5-Pin MIDI', ' Vocal Headset', ' 3 Channel Bluetooth', ' GXL1200', ' Handheld cardiod', ' AR8 - 4 Mic Pres', ' 75th Anniversary Edition', ' Ditto', ' Style III', ' T68: 171.105 MHz & 171.905 MHz', ' BETA87A', ' Condenser', ' Round Base', ' Mojo Diamond', ' CX Control Switcher', ' Power adapter', ' 400WL', ' Instrument', ' Dynamic Vocal', ' SlimPARbag', ' Two Instrument/Guitar Microphones', ' Without Bluetooth', ' On/Off Switch Included', ' Speaker Stand', ' DC Jack 16 Foot Extention', ' MG100HCFX', ' Wind Instrument', ' 7-Piece Drum Pack', ' TouchMix-8 Digital Mixer', ' 15-Watt Head', ' 3-Sided', ' Extension Cab', ' Receiver', ' B-250', ' CLP-15', ' H4n (2009 model)', ' PG58QTR', ' for Lunchbox Junior Amp', ' Boompole', ' 750 watts power', ' 6\" Monitor Speaker', ' 125 W', ' Red/Ebony', ' DeadCat Windshield', ' 8Pre - 18 in / 20 out', ' Large Diaphragm Multipattern', ' DR-22WL', ' Headphones and Pop Filter Bundle', ' CHS-60', ' AC30', ' T57: 171.045 MHz & 171.845 MHz', ' Active Dynamic', ' Loudbox Performer', ' Afterneath Delay/Reverb', ' Two Handheld Microphones / Channels B/D', ' M-Track 2x2 - 2 channel', ' Bows', ' 2 Channel', ' XLR3F to XLR3M Power Switch', ' SubDude-HT', ' 250 watts; 10\" Speaker', ' 250-Watt', ' Direct Box', ' DSLR Recorder', ' 1000W', ' K12/K12.2 Tote Bag', 'e', ' Replacement Needle', ' 15\" dual speaker', ' RP-Series Semi-Open Headphones', ' US Version', ' ', ' Launchpad Mini', ' Latching Right Angle', ' Pitchblack Pro Rackmount Tuner', ' CHS-50', ' Z55 Professional Reference Headphones', ' HGTR-015R 15 ft', ' Amp, Extension Cabinet and Power Supply', ' Head', ' DeadCat VMPR Windshield', ' Handheld supercardioid', ' Harmony Frequency', ' Terminated for PRO88W', ' AUD ATR1100', ' Mini Kaoss Pad', ' 2-Sided', ' Coupler', ' DR-44WL', ' LG2-203-6/BK', ' D: 656.125-678.500 MHz', ' With On/Off Switch', ' DP-008EX', ' 40-Watt Combo', ' With Bluetooth', ' Passive', ' TS808DX', ' SuperCardioid Dynamic Side Address', ' 50mm/2 Cables/2 Earpad Sets', ' TS9B', ' Ditto X4', ' 18 AWG', ' US-20x20', ' Straight End', ' CTK-4200 Keyboard', ' TS9DX', ' 2G Modeling Guitar Effects Pedal', ' PG58XLR', ' 600I', ' Microphone cable', ' 4Pre - 18 in / 8 out', ' 350-Watt', ' CHS-40', ' 700W', ' Mini Bass Amplifier', ' Sabbra Cadabra Booster', ' HGTR-005R 5 ft', ' LK-175', ' 75 watt', ' Large Diaphragm Infinitely Adjustable', ' Kaoss Pad KP3', ' SC7 Patch Cable', ' Boomstand and Pop Filter Bundle', ' Park Fuzz', ' SGH-6', ' Pitchblack Poly Polyphonic Pedal Tuner', ' R24', ' MG15CFX', ' ZLX-15P', ' Spot', ' MXL V67G HE', ' Patch', ' MX418D', ' 100-Watt', ' Beam', ' SOLO', ' 8 Ohm', ' 14 AWG', ' Legend 1275', ' Acapulco Gold Fuzz V2', ' Wireless Mic System', ' LE Mahogany 60 Watt Two Way', ' HGTR-010R 10 ft', ' 12-Inch/1,200 Watts', ' Jerry Douglas Aura Pedal', ' 25-Key', ' H10: 542-572 MHz', ' RE320', ' XLR-to-USB Adapter', ' V847A Wah Wah Pedal with AC Jack', ' The Wizard', ' PG81XLR', ' Pitchblack Pedal Tuner', ' Fitness Headset', ' DP-24SD', ' T13: 169.445 MHz & 170.245 MHz', ' J3: 572-596 MHz', ' Lunchbox Acoustic Amp', ' 2-Channel', ' Apple Lightning Connector', ' Straight, Stackable base', ' 150 W, 32 Ohm', ' with XLR connectors', ' CD-VT2', ' Supercardioid (Pitch Black)', ' 12 Inch', ' 1,100-Watt', ' Korg PLUGKEYBK -Channel Audio Plug-In', ' 150-Watt', ' Built-in RCA Output', ' ToneDEQ Preamp EQ', ' 1350 watts power', ' G4: 470-494 MHz', ' EXH-6', ' Wired Mic Desktop Stand', ' XLR3F to XLR3M Ground Lifter', ' Single', ' Straight, Standard Base', ' mio10', ' 4-XLRF, 2 1/4\" Jacks', ' 150 W, 8 Ohm', ' With Cable', ' Liquid Saffire 56 - 28 inputs (8 mic pres) / 28 outputs', ' K12: 614-638 MHz', \" 15' XLR-QTR Cable\", ' 12\" speaker', ' 350 W, 16 Ohm', ' Cable Kit', ' Mel 9', ' 25 Pack', ' MX300', ' 2 x 8 Foot Stand', ' Guitar Pedal System', ' Instrument/Guitar Microphone', ' SC4 TRS-TRRS Adaptor', ' WS7 Deluxe Windshield', ' ID Stand with Boom Arm', 'k', ' Lavalier Microphone', ' US-2x2', ' Arpanoid', ' Controller', ' .45 Caliber Overdrive', ' Pair of stands + bag + XLR Cables', ' TRIOPLUS', ' Blue Note Tour Series', ' 1:1 transformer isolation', ' 75 W, 16 Ohm', ' MXL V67GS', ' No Switch', ' Launchpad', ' K12 Speaker', ' Straight to Straight', ' Cable Not Included', ' Fission Bass FX Pedal', ' 61-Key', ' EVM12L Zakk Wylde', ' CH-06', ' 4 Ohm', ' Amp', ' 61 Keys', ' 25-Pin to TRS, 5 ft', ' Archer Ikon V1', ' 4-Channel', ' Echo', ' Key 9', ' UM Pro 20 - Discontinued Model (Smoke)', ' 300 watts power', ' WrapAround', ' DeadKitten Windshield', ' 4-XLRF', ' LX49', ' Combo', ' Without On/Off Switch', ' Night Wire', ' Four Receivers', ' CLP-35HC', ' 400 W, 8 Ohm', ' 8\" Monitor Speaker', ' MX200', ' TRIO', ' Monitor Speaker', ' AUD ATR1300', ' Party Bundle', ' 150 W', ' 8.6-inch Circular', ' Two Mic Pres', ' TouchMix-16 Digital Mixer', ' 1B Modeling Bass Guitar Effects Pedal', ' PRO 40 - 20 inputs (8 mic pres) / 20 outputs', ' For Wired Mics', ' Straight to Angle', ' CHS-FR4', ' Acoustic Guitar Amplifier', ' Sparkle Drive MOD', ' Union Jack', ' Switch', ' Bass Guitar', ' ETX-35P', ' Dynamic Instrument', ' XLR out', ' V-Bar Clamp', ' Channel C', ' Channel P', ' Grand Orbiter', ' MV51 Only', ' MXL V67I', ' SoundCage', ' ZLX-12P', ' Version 2', ' Terminated for A-T Wireless', ' ToneLab EX Modeling Effect Processor', ' Power Kit', ' RE20', ' LGI-201-10/BK', ' 20 Key Eclipse Controller', ' K10 Speaker', ' CH-02', 'r', ' B1on', ' 450 watts power', ' DeadCat GO Windshield', '1', ' 6 Foot Stand', ' 44VSL', ' Control Surface-Artist Transport', ' Amplifier', ' Limited Edition HT Club 40 Deluxe', ' Private Jack', ' B1Xon', ' Single Stand', ' Studio Monitor', ' Mini Kaoss Pad 2', ' Dual Channel', ' Speaker Sub Pole', ' Talons Overdrive', ' 1000-Watt', ' Talisman Plate Reverb', ' PG81-LC', ' Original THR', ' Interface, Mic & Headphones', ' Clip Included', ' LX61', ' Komplete 10 Ultimate', ' 32.4.2AI - 32 Mic Pres', ' Aura Spectrum DI Pedal', ' LGI-202-10/BK', ' Interstellar Orbiter', ' MXL V67G', ' 8.6-inch Crystal', ' Regular', ' Tumnus V2', ' SM58', ' Blue Note Overdrive', ' Zoom F8 (2015 version)', ' Single-Channel', ' HP1100', ' No RCA Output', ' Handheld Cardiod', ' IKON Overdrive/Boost', ' 16.0.2 - 12 Mic Pres', ' Handheld Super-Cardioid', ' Speaker Cranker', ' 6 Inch', ' RAH Overdrive', ' Standard 3.5mm', ' Antichthon Fuzz Tremolo', ' MG15CF', ' Pedalboard', ' CD-RW900 MKII', ' 775 watts power', ' More Dense', ' Angle to Angle', ' 68', ' RP-Series Damped Semi-Open Headphones', ' Guitar-Gibson', ' HDMI', ' HP800', ' Compressor/Limiter/Gate', ' EKX-15SP', ' GXL2200BP', ' Animal Overdrive', ' K-Series Sub Pole', ' Fat Buffer Dynamic', ' iQ7', ' US-16x08', ' Clean', ' 75-Watt', ' GCX Audio Switcher', ' 61 Key', ' Two Receivers', ' 16 Ohm', ' 75 W, 8 Ohm', ' Large Diaphragm Supercardiod', ' MX418S', ' Refurbished', ' 25 Keys', ' 49-Key', ' CHS-DUO', ' MXL R144 HE', ' CSIDMAN Delay', ' Ragin Cajun', ' Belle Epoch Tape Echo', ' RP6-G3', ' MP218', ' MX400', ' 15-Watt Combo', ' Isolation Pad', ' Guitar', ' CH-31', ' Kaossilator 2', ' Straight to Right-Angle', ' Phono Cartridge', ' 65', ' Mini DI box with 1/4\" input / XLR male output', ' 350 W, 8 Ohm', ' JAM', ' 5 Channel', ' J10: 584-608 MHz', ' FC-1 Controller', ' Guitar- Fender', ' DeadWombat Windshield', ' 16.4.2AI - 16 Mic Pres', ' Komplete 10', ' Karaoke Machine', ' Karma Suture Germanium', ' Topanga Spring Reverb', ' 1 Piece', ' Bluetooth Amp', ' UM Pro 10 - Discontinued Model (Clear)', ' 49 Keys', ' 22VSL', ' R101 Button Controller', ' DC Jack 4 Way Splitter', ' BOING Spring Reverb', ' Straight, Tripod base', ' 1 Pair', ' AK-DR11G MKII', ' GXL2200', 'S', ' Mikey Digital Lightning', ' Acoustic', ' With Bag', ' Built-in Effects', ' HC33 Analog Bass Chorus', ' SOS Buffer V1', ' Right Angled', ' Lightstrip', ' DIRTY RAT', ' 350 watts power', ' Delay', ' XLRM 5P', ' Controller only', ' Lambda', ' GX3 300W Amp', ' Lunchbox Amp', ' H8: 518-542 MHz', ' UM Pro 10 - Discontinued Model (Red)', ' With DMX Control', ' Patch Bay', ' K10/K10.2 Outdoor Cover', ' MXL R144', ' WS9 Deluxe Windshield', ' GXL1200BP', ' DeadCat VMP Windshield', ' CD-GT2', ' WASHFX', ' 45 Caliber Overdrive V1', ' Mini Guitar Amplifier', ' Great GRAMMA', ' UM Pro 20 - Current Model', ' Junior', ' MSH-6', ' Single-X Keyboard Stand', ' CHS-SP4', ' DP-32SD', ' Kit I-Black', ' 21-Rack', ' Handheld', \" 15' XLR-XLR Cable\", ' Origin Cardioid Microphone', ' Ch. 321', ' Supercardioid (Chrome)', ' Pitchblack+ Advanced Pedal Tuner', ' Rockaway Archer V1', ' Gray Channel Overdrive', ' V845 Classic Wah Wah Pedal', ' No Cable', ' Wireless MIDI Controller', ' CTK-4200 Premium Pack', ' CLP-02', ' Instrument/Guitar', ' Mini Boompole', ' Bellows Fuzz', ' Bit Commander V2', ' MudGuard', ' MG101CFX', ' PG56-LC', ' Analog', ' CLP-03', ' BubbleKing', ' Inline volume control', ' LX88', ' Event', ' 1 channel with ground lift', ' Active', ' HP600', ' Reignmaker', ' Pair of stands with air cushion lowering', ' K12.2 12\" Loudspeaker', ' Komp. 10 Ult. Upgrade', ' Handheld/Lavalier Microphone Combo', ' Galileo Booster', ' Chameleon', ' 300 W, 8 Ohm', ' Recorder', ' Microphone only', ' RAT2', ' Korg Volca OKGO', ' Control Surface-S3 Controller', ' 15\" speaker', ' Screw Kit-2', ' Classic Rock', ' PG56-XLR', ' (2) Effect Lights', ' Legend 1258', ' Overdrive', ' Without cable', ' Interface Only', ' Additional Mic', ' Lead', ' SuperCardioid Side Address Vintage', ' Style I', ' MXL V67N', ' SOS Signal Buffer', ' Loudbox Performer Cover', ' 25-Watt', ' Tactical Ethernet', ' Blackbird', ' RT-0008-00', ' Channel R', ' M3 Condenser Microphone', ' MXL 770', ' Single Channel', ' Echorec Multi-Head Delay', ' Cardioid', ' Two Handheld Microphones / Channels P/R', ' 400I', ' Ramrod', ' SFT Overdrive', ' 650 watts power', ' 15-Inch/1,400 Watts', ' V3 Amplifier', ' SM86', ' 100 watts; 8\" Speaker', ' 3-Pin XLR', ' DEUCETONE RAT', ' V4 Amplifier', ' Recorder only', ' Wired', 'a', ' Guitar Amplifier', ' Microphone Only', ' XLR to USB Signal Adapter', ' XLRF 5P', ' APC Mini', ' 40mm with Leather Earpads', ' Stage Light Cable', ' UM Pro 30 - Current Model', ' TURBO RAT', ' Aura 16 Pedal', ' 6-Channel', ' 25-Pin to TRS, 10 ft', ' 500-Watt', ' AC30VR', ' SV100-WA', ' Lavalier Micro', ' 3-Channel', ' Mic', ' Headworn', ' 8.6-Inch Black', ' Boing Spring Reverb V1', ' Kaossilator', ' C: 541.500-566.375 MHz', ' 45mm with Leather Earpads', ' 8-Rack', ' HPACA1 (Coiled)', ' Compressor', ' M2 Condenser Microphone', ' Compressor/Limiter', ' Loudbox Artist', ' ZLX-15-Cover', ' Space Spiral', ' DLS Overdrive', ' 1818VSL', ' Subwoofer', ' Heart Attack', ' Korg ELECTRIBE2SRD electribe Sampler in ESX Red with V2.0 Software', ' WSVM Pop Filter Windshield', ' RP8-G3', ' microKORG', ' M1 Dynamic Microphone', ' 2 Speaker Stands with Carry Bag', ' Alpha', ' Venue', ' 15-Watt', ' 25 Keys (Mini)', ' 1 FT', ' Straight, Tripod Base', ' Krush Frequency', ' Falcon', ' Fuzz Master General', ' LM5 Lavalier', ' UM Pro 30 - Discontinued Model (Clear)', ' Telescoping Boom, Tripod Base', ' Two Lavalier Microphones', ' Fixed Boom, Tripod base', ' USB Interface with Effects', ' HGTR-020R 20 ft', ' TS808 pro', ' Guitar Pedal Only', ' B9', ' Sonar Platinum', ' Roating ball', ' 525 watts power', ' PG48-LC', ' 30-Pin', ' mio', ' HL77 Bass Looper', ' ZLX-12-Cover', ' M15: 662-686 MHz', ' MG50CFX', ' Cable + 3-Pin DMX Connector', ' International Version', ' Wireless', ' Limited Edition - Green', ' Pedal only', ' 18 Inch', ' iQ6', ' JAM 96k', ' 4 Inputs', ' K12/K12.2 Outdoor Cover', ' Formula 5F6 Overdrive', ' Conference', ' SuperCardioid Dynamic Snare', ' The Tonker', ' Gray', 'p', ' Tentacle', ' FATRAT', ' 50-Watt', ' Lunchbox Cab', ' One Receiver', ' 2-Pack', ' Compressor/Gate', ' Kaossilator Pro', ' Wireless Mic Desktop Stand', ' DP-006', ' PG58-LC', ' Red White and Blues', ' EVM12L Classic', ' WS6 Deluxe Windshield', ' Music Controller', ' 25 Keys, Mini', ' BETA58A', ' AR12 - 8 Mic Pres', ' EW 112P System', ' LM10 Lavalier', ' Lavalier', ' Control Surface-Artist Mix Surface', ' MXL V67Q', ' MG30CFX', ' XYH-5', ' Instrument cable', ' Cardioid Dynamic Kick', ' AUD ATR1200', ' Bluetooth Adapter/ Amp', ' Headset/Instrument Microphone Combo', ' GX5 500W Amp', ' Boutique', ' Speaker', ' Gray w/ ST1000-10 Stand', ' AS32 Stand Mounted', ' DUET-IOS-MAC', ' Ditto X2', ' MP226', ' Dual Direct Box', ' HPASCA1 (Straight)', ' 500 W, 8 Ohm', ' Non-Wireless', ' New', ' XLRF-XLRM', ' Standard Mixer', ' OBEY3', ' MG102CFX', ' Two Headset Microphones', ' UM Pro 10 - Current Model', ' HD HD', ' Pair of Stands with Bag', ' 40mm', ' TM-PC1-2', ' Loudbox Mini Cover', ' LE Black and White 60 Watt Two Way', ' Cable Included', ' GRAMMA', ' K8 Speaker', ' 4 Woofer', ' AR16 - 12 Mic Pres', ' ID Boom Arm Only', ' 2 x 6.5 Foot Stand + 1/4\" Cable Kit', ' The Depths Modulation', '0', ' ETX-15P', ' for Lunchbox Amp or Lunchbox Cab', ' DC Switch', ' Spatial Delivery', ' TS9', 'K', ' 4-XLRF, 2-SpeakOn', ' Bass', ' Wall Charger-Black', ' 70-Watt', ' T24: 169.505 MHz & 170.305 MHz', ' Palisades Overdrive', ' 86 LED PAR', ' Version 1', ' Sea Machine', ' 16-Rack', ' H4n Pro (2016 model)', ' Kaoss Pad Quad', ' 3 Woofer', ' No LED Array', ' A Band', ' High Gain', ' Religious Dove', ' Microphone + In-Ear Headphones', ' Straight', ' for Lunchbox Acoustic Amp', ' Studio Microphone', ' 5FX', ' Extension Cabinet', ' Sonar Professional', ' Cannabis Rex', ' Right Angle', ' Channel D', ' Compact Desktop', ' G1on', ' SV100-W', ' AC15VR', ' Small Diaphragm Cardioid and Omni', ' 35-Watt', ' Sound Panel', ' The Dude', ' Premium pair of stands with bag', ' H5: 518-542 MHz', ' Mini Amp', ' Standard', ' Blues', ' Quick Fade', ' HGTR-025R 25 ft', ' (4) Larger Slimpar Lights', ' 12\" Powered Speaker', ' Speakers', ' No Bag', ' NP-1', ' Ribbon Side Address', ' Loudbox Mini', ' 2 Inputs', ' Premium 7-Piece Drum Pack', ' Spirit Multi-Pattern Microphone', ' 12-Rack', ' 300 W, 4 Ohm', ' AS22 Stand Mounted - Folding', ' One Mic Pre', ' Mini THR', ' ETX-15SP-Cover', ' Clothes-Pin Style Clip', ' CD-RW901 MKII', ' 25-Pin to 8 XLRM, 10 ft'}\n",
      "Style:: {' Slim-Line USB Controller', ' OMEN-6 2012', ' Symphonic Wa Wa', ' Mandolin Pickup', ' Emperor X Coated', ' Black, Wood', ' Secure Headstock Yoke and Support Arms', ' 400 Ser Single Chain', ' (6) Wired Microphones (Case)', ' 2674 - Blue Steel Bass ML', ' STILETTO EXTREME-4', ' MV200', ' Neon Pink, Wood', ' Neon Yellow, Wood', ' Premium Pack', ' Gauge 10-46', ' Quick Release - 3 Pack', ' Deluxe Tripod', ' 5550113515', 'u', ' P45', ' Comfort Bar', ' Double-Braced', ' Jazz Bass V', ' Medium Hard', ' FM 10G Amp', ' Snakes Mosaic', ' AT90CD Phonograph Cartridge', ' Violin / Viola / Cello Bow Case', ' Weighted Base', ' Standard Tripod w/ Telescoping Boom', ' Straight to Right Angle', ' Loudbox Artist Cover', ' RSP20', ' 100 Pack,Extra Heavy', ' Short Hex Rod', ' Mickey Mouse (2016)', ' 300 Series', ' Hawaiian Tattoo', ' 2562 - Blue Steel Electric MED', ' Double', ' Woven', ' Bari Sax', ' Soft Case', ' Mike Portnoy Signature', ' Emperor Coated Tom/Snare', ' Affinity PJ', ' Normal Tension', ' SMS-40', ' Nickel NY Steel', ' Planes', ' Professional', ' E253', ' E453', ' GZR-PJ', ' Steel String', ' S770', ' Minnie Mouse', ' KC411616N - 41x16x6 in.', ' Mini Acoustic', ' 6 STRING', ' Anti-Vibe, Wood', ' Stereo VideoMic X', ' Maintain Replacement Packets - 3-pack', ' Pro Mag Plus', ' Classic 5A', ' 2034 - Light', ' Trombone', ' Claifornia', ' 2505 - NickelSteel Electric MED', ' Humbucking', ' Combo Organ', ' Stage Light Stand', ' 2672 - Blue Steel Bass LT', ' 2552 - Blue Steel Electric LT', ' No Gig Bag', ' Special Short Scale', ' Triple', ' Trombone / Alto Sax / Clarinet', ' Fretless', ' USA Graphic', ' All Solid-Mandolin Only', ' Db', ' Sweep Wire Brush', ' Standard Pack', ' Alto Sax Reed- Strength 2.5', ' Maintain Replacement Packets - 12-pack', ' Finding Dory', ' Sharp', ' Fixed Boom, Tripod Base', ' Ax', ' Resonator', ' 12 String Dreadnought', ' BASS GUITAR', ' Slim-Line USB Drum Pad Controller', ' CP300', ' Nylon', ' microKEY air 61', ' Light weight, double-braced', ' Blasted', ' Floor Stand', ' Extra Long -Open Hook', ' 1/2 Size', ' Concept XF Direct Drive', ' Microphone', ' Straight / Practice', 'l', ' Pinstripe Coated Tom/Snare', 's', ' Direct Drive', ' Sledgehammer Pro Clip-On Tuner', ' Thumb Rest Cushion', ' Sustain and Soft', ' 400 Watts Peak', ' Acoustic Guitar Case', ' XLR Female to RCA Male', ' Little Monster Brush', ' 61 Note', ' Platinum Stage EQ/DI', ' Transport Deluxe', ' SMS-50', 'i', ' microKORG S', ' Engineered Wood Fretboard', ' YRS-20', 'o', ' Scott Johnson Practice Sticks', ' 76 Note', ' 800 Ser Straight Stand', ' HSS Stratocaster', ' Rattler', \" 50's\", ' Standard (Universal Fit)', ' Only Guitar', ' 12 Fret', 'P', ' 2 Speaker Stands w/ Carry Bag', ' A-MODEL MANDOLIN', ' Standard Shape', ' 0992215000', ' HA-40 Hawaiian Tuner', ' CompactKit 4', ' Shallow Depth', ' Dual Bass', ' 37 velocity-sensitive full-sized keys', ' Travel', ' Clear Standard', ' Surge Protector', ' 3 pack', ' 23 Canes', ' OUTFIT', ' Left-Handed', ' S970', ' C7', ' Profile 88', ' Normal Tension, 1/2', ' Boom Stand', ' 80/20 Bronze', ' KSA7575+ U-Mount Attachment', ' Custom Shop', ' Special', ' Acoustic OM or Classical Guitar', ' Regular Light', ' Holds 1 Pair', ' With Gig Bag', ' Chorus', ' Volume Expression Pedal', ' B', ' 3011 - ProMag Plus XM', ' B Bass 6-String Form Fit', ' Classic 7A', ' Rock Sizes', ' 4 String Set', ' Vintage Modified PJ', ' S88 88-Key Keyboard', ' SSS Stratocaster', ' Single Bass - Silver Series', ' Nylon Strap (Black)', ' RS320', ' Frozen (2015)', ' Gig Bag (Thick Protective Padding)', ' Floor Tom', ' Hi-Hat', ' Forward 7A', ' Soprano', ' Stratocaster Body', ' 12 STRING', ' Speaker Stand', ' Small Body Acoustic Bag', ' Extra Light', ' Analog Synthesizer', ' SM6 Shockmount w/ Pop Filter', ' 61-Keys', ' Tenor with Cutaway and Electronics', ' 2678 - Blue Steel Bass LT', ' Snare Stand', ' Rebound 7A', ' Thinline Telecaster', ' Wood Tip', ' Red Stars Acoustic Guitar', ' Cymbal, Black', ' Bronco', ' Custom Extruded', ' PARLOR GUITAR', ' Alto Sax Reed- Strength 2.0', ' Concert', ' FM Synthesizer', ' Mesh Drum Head', ' Nato Body', ' MST1000 U-Mount Microphone Stand Tray', ' .013-.056', ' Electric Guitar - Ash', ' Acoustic Dreadnaught - Ash', ' Spruce', ' Etherwave Theremin Std.', ' 0992119000', ' Trumpet', ' BG20DN - Electric Bass', ' 73-Keys', ' Educational Bundle', ' Metal Swivel Snap', ' 3-Piece Delux Soprano', ' 3 Pack', ' 2676 - Blue Steel Bass MED', ' Band of Gypsys (Heavy)', ' Medium', ' MV300', ' Starter Bundle', ' Clip-On', ' Deluxe Telecaster', ' 3/4 Size', ' Etherwave Theremin Kit', ' Extra light', ' Praying Hands', ' Light Tension', ' Wavedrum Dynamic Percussion Synthesizer', ' Hard Shell Case', ' Red', ' Two-sided', ' Double Brace', ' Humidifier', ' Polish Cloth', ' Concert Acoustic Electric', ' Embossed', ' Nickel Plated Steel', ' System Blue DC50', ' KT-9', ' EW400', ' AT95E Cartridge', 'e', ' 4 string', ' S61 61-Key Keyboard', ' Double Bass - Gold Series', ' Josh Freese', ' Concept Maple', ' Souls of Distortion', ' Extra Heavy', ' Hanging Style w/ Saftety Strap', ' ', ' 11\" OPENBACK BANJO', ' LK-280', ' Fingerstyle', ' Pop Filter with Stablizing Arm', ' Clear', ' Without 6 Months of Fender Play', ' Western Eagle', ' 112V', ' 100 Series', ' Holds 2-3 Mutes', ' Single Row Jingles', ' D', ' Jazz', ' Gauge 09-42', ' GZR-P', ' Tenor/Baritone', ' Stand', ' (4) Wireless Mic Systems (Case)', ' Basket Weave', ' Monotron Duo Analog Ribbon Synthesizer', ' 12\" Weighted Base - Deluxe Height Adjust', ' 6 pack', ' 5-String, Long Scale', ' Core', ' Absorber Shield', ' TS212', ' Protect', ' Extra Long Electric', ' Steel String Guitar', \" 50's Telecaster\", ' SM3 CameraShoe Shockmount', ' 8 String Baritone', ' LCD Screen', ' Strength 2', ' FM 15G Amp', ' Single Shaker', ' Hard Case', ' 3-Pack', ' Nylon Strap (Tan)', ' Double Bass Bag', ' Short Scale', ' microKEY air 25', ' Rebound 5A', ' Pre-Treated', ' Maple Fingerboard', ' Coated Rock', ' Controlled Sound X Coated Black Dot Snare', ' Strength 1.5', ' CTK-2400 Premium Pack', ' West Coast Seattle Boy (Heavy)', ' Tenor', ' 49 Note', ' Chain Drive', ' Acoustic Guitar Bag', ' Deluxe', ' Ukulele with Case', ' DREADNAUGHT GUITAR', ' Folk', ' Full Size', ' 6 String Baritone', ' Strat Neck - 22', ' Metal Style I', ' Straight End', ' 18\" Crash/Ride', ' 100 Pack,Heavy', ' Holds 2 Pairs', ' Abbey Road', ' NANOWEB Coating', ' Natural, Wood', ' X10E, 1.11mm , A=442', ' 500 Watts Peak', ' Trumpet w/ Mute', ' Anti-Vibe, Nylon', ' CP4', ' Mini', ' 600I', ' Black - Short', ' Custom Light', ' E353', ' Acoustic Electric Guitar', ' Pinstripe Coated Bass', ' Loop', ' 2038 - Medium', ' Restore Conditioning Packets - 3-pack', ' XLR Male to RCA Male', ' OMEN-8 2012', ' 5B Nylon Tip', ' Medium weight, single-braced', ' Electric Guitar', ' Single Wireless System (Nylon)', ' Faded', ' 700 Ser Straight Stand', ' Skinny Top Heavy Bottom', ' 23 Canes Dual Row', ' PDDT800-04 Round', ' Single Electric - Gold Series', 't', \" Skull n' Bones\", ' 10-Pack', ' Planet Lock', ' Classical Guitar', ' Pickup Covers', ' Rich Redmond Signature', ' Sparkling Green', ' nanoKEY Studio', ' Stereo/Pan', ' Red Set (.010 1/2-.050)', ' Tour', ' FA-100', ' Silver Series Gig Bag', ' Classic', ' Super Long Scale', ' System Blue DC27 \"Scooter\"', ' WK7600', ' GBA500N - 1/2 Size Acoustic Guitar', ' 76-Key', ' Tie On', ' S49 49-Key Keyboard', ' Deluxe Sub Pole w/ 20mm Adapter', ' ER4P-T', ' Extra-Hard Tension', ' 25-Key', ' No Flash', ' FL-10 Flanger Pedal', ' Acoustic Electric Guitar Only', ' 3 Feet', ' Jim Root Tele', ' 2670 - Blue Steel Bass XL', ' 2557 - Blue Steel Electric DT', ' (5) Wireless Mic Systems (Nylon)', ' PT-M/M', ' SG - Brown', ' Warpig (.88mm)', ' Stereo', ' 2 Pack', ' V16 Bari Sax', ' Boom Cymbal Stand', ' Electric', ' Extending', ' E-9th Pedal Steel Tuning', ' Polish', ' STILETTO EXTREME-4 LH', ' Meet the Beatles', ' Mega Bone', ' J.D. Crowe (Studio)', ' Memphis (Medium)', ' Acoustic Dreadnaught', ' Solid Top-With Case', ' TOP ASSEMBLY ONLY', ' Tenor Sax', ' Bass VI', ' 80/20  NANOWEB Coating', ' Since 1951 T-Shirt', ' Seatbelt Strap (Black)', ' Electric - LED Edition', ' Banshee Talk Box Pedal', ' Double Chain Drive', ' .009-.046', ' Single Row', ' Standard Bone', ' Club', ' Electric - Vintage', ' 12', ' Light Top/Heavy Bottom', ' Swivel Hook', ' 6', ' Bold As Love (Medium)', ' SSS', ' New Fusion', ' Regular -Swivel Hook', ' CA-40 Chromatic Tuner', ' Guitalele', ' Single', ' 3016 - ProMag Grand XM', ' Lightweight Throne', ' Sizzler', ' Loog Electric Guitar', ' Cymbal, Natural', ' DU-200', ' EZ Grab Metal Slider', ' Ukulele', ' 88-Keys', ' M5', ' Ab', ' 6 Pack', ' Steal Your Face (Tan)', ' Mounted Tom', ' RISE 49', ' Guitar With Case', ' Stylophone Beatbox', ' Phosphor Bronze', ' Forward 5B', ' Rosewood Fretboard', ' Dark', ' Fretted', ' 3000 - Artist', ' Strength Medium-Hard', ' CP40', ' Big Band with Elastic Band', ' Nylon Strap (Strawberry)', ' Extreme', ' Monotron Analogue Ribbon Synthesizer', ' X0, 1.00mm, A=441', ' 5 String Set', ' Banjo Pickup', ' Heavy Tension', ' Loop End', ' Vintage Strat Neck', ' Rectified Black Nylon', ' System Blue DC17 Light Indoor', ' Regular -Metal Hook', 'm', ' Troy Sanders', ' Bold (Heavy)', ' 000 SIZE GUITAR', ' 2082 - Custom Light', ' DU-200C', ' Hear My Music (Medium)', ' COMPLETE STAND', ' Recital', ' 61-Key', ' 24\" Depth with Casters', ' Strength Hard', ' 72 Pack', ' Bass - Grey', ' Double Stand', ' Single Stand - 2 Pack', ' 3-Piece Set', ' EC-1000', ' Buzz Kill Gels', ' 5-String', ' Shaped Case', ' Cotton', ' Nyltech', ' Palm Key Risers', ' Hammer-Action Keys', ' Dual Electric', ' Silver D', ' Matt Freeman', ' 61 Keys', ' EC Guitar Form Fit', ' 20', ' Guitar Only', ' Mouthpiece 4C', ' Regular -Loop', ' Digital Piano', ' Clear Nylon', ' 5-pack', ' 400 Ser LH Single Chain', ' Series 13', ' Pro edition', ' Alto Sax Reed- Strength 3.0', ' Combo', ' Right Angle Ends', ' Thunderbird Bass', \" Europe '72\", ' Standard Tripod', ' ELECTRIC GUITAR', ' Standard Depth', ' Brilliant', ' Shira Kashi Oak 5B', ' TENOR GUITAR', ' Snare Drum', ' Classical', ' PDDT700 Round', ' Curved', ' Ambassador Coated Bass', ' TS210', ' HUSH Noise Reduction Pedal', ' Union Jack', ' DREADNOUGHT GUITAR', ' Eva Gardner', ' Violin', ' WK6600', ' Single Belt Drive', ' Medium Weight', ' Triple O Acoustic', ' Beginner Bundle', ' 13 Canes', ' Violin/Viola Pickup', ' Right Handed', ' Hot Rails', ' Light', ' DL38', ' Neil Peart 747', ' Baritone', ' Vinyl', ' Blackout Trucker', ' 72', ' Long', ' S/S/S', ' Mini Bone', ' TCL/Trouper', ' Leather End', ' Medium Tension', ' Leather', ' Midsize', \" 60's\", ' Neon Green, Wood', ' PDDT720 Tractor', ' Phos Br NANOWEB Coating', ' 7A Hickory', ' (2) Wireless Mic Systems (Nylon)', ' A-Frame Stand', ' Black', ' AL4', ' Single PCS', ' Rosewood', ' Solid Spruce Top', ' Ambassador Hazy Snare Side', ' Single Wireless System (Slim EVA)', ' Premium Abalone Inlay', ' Keyboard only', ' YRS-23', ' PT-M/M LH', ' Sgt. Peppers', ' 14 Fret', ' PDDT820-X Tractor', ' Tweed', ' Single Stand', ' 500 Ser Dual Chain', ' AW-2 Clip-On Guitar Tuner', ' KT-10', ' C5', ' Extra-Super Light', ' 1 pack', ' Strength Medium-Soft', ' Coated', ' Extended Support (Size Small)', ' Wavedrum Mini Dynamic Percussion Synthesizer', ' Traditional', ' Single Set', ' 4 STRING', ' Jazzmaster', ' Soprano/Alto', ' KC50S10N - 48x17x7 in.', ' D7M', ' Maple Fretboard', ' Shira Kashi Oak 5A', ' Signature (Medium)', ' 37 velocity-sensitive mini-sized keys', ' Wood Handle Whip', ' Concept Series Boom Stand', ' Jaguar/Jazzmaster', ' Light +', ' ER4P', ' 2550 - Blue Steel Electric XL', ' Anthology', ' Fretboard Conditioner', ' Trolls', ' Ambassador Clear', ' 700 Series boom Stand', ' Regular', ' Long Scale', ' Humidipak Maintain Kit', ' PRO 900', ' Jaguar', ' Theremini', ' Nickel', ' DL36', ' Double Braced', ' Hello Kitty', ' Bb Clarinet', ' Belt Drive', ' Short Cut', ' Pitchblack Custom Pedal Tuner', ' Hard Tension', ' 2032 - Extra Light', ' J.D. Crowe (Stage)', ' Quick Release - Single', ' 10-Packs', ' microKORG XL +', ' Gold Series', ' 5 String', ' Double Belt Drive', ' Restore', ' RS502T', ' Guitar with Case', ' JR2', ' Pedalboard', ' TA-40 Superdrive Pedal', ' 0992116000', ' Revolver', ' White', ' nanoKONTROL Studio', ' Single-sided', ' 5B Hickory', ' Dreadnought', ' TR-330', ' Korg Volca Keys', ' 1-Pack', ' AL3', ' Rock', ' 112J', ' Clarinet', ' PRO 750', ' Single Brace', ' Micro-Fiber', ' Vow Press Pedal', ' Bass Bow Case', ' .10-.050', ' 0992121000', ' SH6250 - 50 ft', ' 10 Pack,Heavy', ' Korg ELECTRIBE Synth Based Production Station', ' Traditional Brown', ' Alto Sax', ' Electric Guitar Case', ' Double Row Jingles', ' Metal Hook', ' Flute', ' Resophonic Guitar', ' Heavy Weight', ' Electric Bass', ' 3-Zone', ' 5 string', ' Case Bundle', ' Shock Mount with Casters', ' Acoustic Guitar', ' OBEY10', ' B Bass Form Fit', ' TS-30 Overdrive Pedal', ' Electric Guitar Bag', ' 49-Key', ' XLR Cable', ' Jazz Bass', ' 2500 - Nickelsteel Electric DT', 'd', ' Sustain Pedal with Half-Pedaling', ' 2 Conductor 100 ft', ' EC-1000 Evertune', ' Ambassador Coated Pack', ' Music Stand', ' Sizzle Ride w/ 6 Rivets', ' Soul Press Pedal', ' With Case', ' Guitar', ' Powerstroke P3 Coated Bass', ' Replacement Sponges - 3 Pack', ' Cedar', ' (12) Wired Microphones (Nylon)', ' M7', ' Webbing', ' Double Tom Stand', ' Classic 5B', ' 10 Pack,Light', ' For Small Controllers', ' Right-Handed', ' Acoustic/Electric Combo', ' Compact Sustain Pedal', ' Padded with Brass Corners', ' Nylon Strap (Purple/Grape)', ' Purple Dip, Nylon', ' AW-2G Clip-On Guitar Tuner', ' AT92ECD Phonograph Cartridge', ' Jumbo Acoustic', ' Acoustic Bass', ' Cutaway Electric', ' Solid Rosewood', ' 800 Series Boom Stand', ' Body Polish', ' Solid Mahogany', ' Long Hex Rod', ' Mahogany Body', ' PSR-E343 Portable Keyboard', ' Sop Sax', ' RISE 25', ' Hardware Pack', ' DGX-660', ' Regular -Open Hook', ' 5', 'S', ' 3/4\" Size Acoustic', ' Acoustic', ' Silver', ' Stars & Stripes', ' MSA7011 U-Mount Clamp-On Bookplate', ' Case (Lightweight EPS Foam Frame)', ' Delay', ' iPad mini', ' WK245', ' Rebound 5B', ' 800 Series 2 Leg', ' HELLRAISER C-1', ' Red, Nylon', ' 80/20  POLYWEB Coating', ' Single-Pair Stick Holder', ' Powerstroke P3 Coated Top Clear Dot Snare/Tom', ' Black Nylon', ' Slinky', ' 5A Nylon Tip', ' EC Guitar XL Form Fit', ' 0992109000', ' Neoprene', ' Concept Dual Chain', ' CHORUS', ' P255', ' Birch Heavy, Wood', ' GBCLASN - Classical Guitar', ' Les Paul', ' 25-Pack', ' Single Chain Drive', ' Acoustic-Electric', ' Clarinet only', ' APX Guitar', ' Korg Volca FM', ' Left Handed', ' Junior', ' Tombstone MH Form Fit', ' WG20DN - Dreadnought Acoustic', ' SA', ' Ambassador Coated', ' Medium Soft', ' Tuba / Tenor Saxophone', ' A-Frame', ' OBEY70', ' RESONATOR BANJO', \" Silver Collector's Series (Heavy)\", ' Dancing Bears', ' Albums', ' Stereo VideoMic Pro', ' Plus Snare Mesh Pad', ' Ball End', ' Left Handed Jazz Bass', ' Solid Sitka Spruce Top', ' Korg Volca Bass', ' ER4S', ' GA-40 Guitar/Bass Tuner', ' 2036 - Medium Light', ' BOTTOM ASSEMBLY ONLY', ' Large', ' X5, 1.05mm, A=441', ' Full-Size Keys', ' 88 Note', ' Contego PRO PAC Case', ' Coated Standard', ' Acoustic Quick Release', ' Bb', ' 9 STRING', ' Untreated', ' 6/12 String Dreadnought', ' 3-Piece Soprano', ' Universal', ' G', ' MH Guitar Form Fit', ' Breakout', ' Strength 2.5', ' 6-Point Valve Guard', ' Single Coil', ' Pro Mag Grand', ' Classic 2B', ' DL41', ' SH6220 - 20 ft', ' 8 STRING', ' 2081 - Light', ' Rubber Snare Head', ' Mini Electric', ' Vintage Noiseless', ' CP1', ' EG20DN - Electric Guitar', ' VDH Drink Holder', ' Maple', ' Chris Aiken', ' Super Light', ' VCYBB Cymbal Bag', ' Acoustic and Electric', ' Lightweight', ' Gauge 11-49', ' Monster Brush', ' Ride', ' Double Guitar Bag', ' Black Dip, Nylon', ' Cymbal', ' Extra Long -Swivel Hook', ' Seatbelt Strap (Silver Grey)', ' Combo Pack', ' 3-Piece Alto', ' 2558 - Blue Steel Electric LTHB', ' PG1', ' LK-265', ' Crash Ride', ' 300 Watts Peak', ' Open-G', ' 2503 - NickelSteel Electric REG', ' 3001 - Artist XM', ' Mylar Drum Head', ' Strength 3.5', ' BOOK PLATE WITH HOLES', ' 2008 - Extra Light', ' BA-40 Bluegrass Tuner', \" Hard Day's Night\", ' Spruce Top', ' 12\" Weighted Base', ' Single Channel', ' Key of A', ' Everyday', ' Hanging', ' Purple Dip, Wood', ' Tenor with Cutaway, Electronics, and Gig Bag', ' 4-String', ' 400I', ' Wide Shape', ' Coated Fusion', ' HOFBB20DN - Hofner Bass', ' Semi-Weighted Keys', ' Single Braced', ' Synth Only', ' V-Alexi Guitar Form Fit', ' Rosemary', ' KC18S10N - 38x15x6 in.', ' Scott Johnson Marching', ' Dbl Drop D', ' Bass - Black', ' 62 Custom', ' Assignable Sustain Pedal', ' Shine', ' CA-1 Chromatic Tuner', ' Finger Saver', ' Stratocaster', ' 2554 - Blue Steel Electric CL', ' Projection Ride', ' Stiffo', ' Mike Johnston', ' Powerstroke P3 Coated Tom', ' 12  Pack', ' Strength 3', ' Platinum Pro EQ/DI', ' HUSH Super C Noise Reduction Rack', ' 2679 - Blue Steel Bass ML', 'a', ' 2004 - Medium Light', ' RS720B', ' 2', ' V-Drum Set with Stand', ' 36 Pack', ' PG2', ' Single Channel with Ground Lift', ' Titanium', ' Strat Neck', ' 24 Pack', ' 2 Conductor 50 ft', ' Thin & Thick', ' Nylon Tip', ' Guitar & Amp Bundle', ' TS215', ' Les Paul - Brown', ' Deluxe Hard Case', ' Maple Green Dip, Wood', ' 0993116000', ' Blackout Baseball', ' Stylophone', ' 25-pack', ' Shorty HCT-SH-BL', ' Fusion Sizes', ' MV', ' YRS-24', ' 7A Nylon Tip', ' 100 Pack,Light', ' Tenor Ukulele', ' Rosewood Body', ' Emperor Coated Pack', ' GBELECN - Electric Guitar', ' Semi-Hollow Guitar - Black', ' .011-.052', ' Fusion', ' Nylon String', ' 2504 - NickelSteel Electric LTHB', ' A', ' iPad Music Stand Adaptor', ' ZLX-15-Cover', ' Slim-Line USB Keyboard', ' World Tour Graphic', ' GBBASSN - Bass Guitar', ' BSAG20DN - Acoustic-Electric Bass', ' P115', ' 12\" OPENBACK BANJO', ' Emperor Coated Bass', ' Mustang', ' Normal Tension, 3/4', ' 12 String', ' 335 Semi-Hollow - Brown', ' A5', ' Sustain', ' 2556 - Blue Steel Electric REG', ' 25\" Controllers', ' Piano', ' Solid Cedar Top', ' Mono', ' 10-pack', ' 2675 - Blue Steel Bass XM', ' E', ' F', ' CG20DN - Classical Guitar', ' 4 String', ' Ultra Light', ' SOPRANO UKULELE', ' 3.0', ' Straight Ends', ' Banjo', ' Mesh Snare Head', ' Gibson/Epiphone Explorer', ' Electric Ladyland (Heavy)', ' Key of G', ' Rosewood Fingerboard', ' 10 Pack,Extra Heavy', ' DM6 Nitro Kit', ' Receiver Only', ' Telescoping Boom, Tripod Base', ' Right Hand', ' PSR-E343 Premium Pack with eMedia Software', ' Kick Tower', 'C', ' Natural', ' 12 Pack', ' Frontline (Heavy)', ' Receiver & Stand Only', ' B5', ' B3', ' 0992234000', ' 700 Series', ' Clear Fusion', ' Manhasset M48 Symphony Music Stand AC48S', ' ZLX-12-Cover', ' Full-Color Screen', ' PRO 550', ' String Cleaner', ' Custom Telecaster', ' Round', ' Shira Kashi Oak 2B', ' Forward 5A', ' Double Electric - Gold Series', ' Hi-Hat Stand', ' Momentary Right Angle', ' Bass ProWinder', ' J5 Telecaster', 'p', ' Ash - Short', ' 5 STRING', ' CompactKit 7', ' Oblong Case', ' D5M', ' Electric Guitar - Black', ' Ukulele - Concert', ' Clip-Free', ' Right-Angle', ' KSA7575 Universal Attachment', ' B7', ' Spaceman', ' CTK3200', ' Semi-Hollow Guitar Bag', ' DU-200T', ' Rubber Pads', ' Mandolin', ' Carbon', ' 12-String Acoustic', ' Brazilwood', ' SA (Set of 3)', ' 2002 - Light', ' Concert Ukulele', ' Lemmy (1.14mm)', ' Bass - Ash', ' Junior -Swivel Hook', 'n', ' AT311EP Phonograph Cartridge', ' Triple Stand', ' Silver Series', ' Headlock', ' CHORUS and DELAY', ' Medium Scale', ' Adjustable Cup', ' SG', ' AW-2U Clip-On Ukulele Tuner', ' Software Bundle', ' Keyboard', ' Thin', ' FG127 Guitar', ' Bass Drum', ' Zil-Bel, Small', ' Multi-Pair Stick Holder', ' Mega Bone - Rolling Bag', ' 4 Conductor 100 ft', \" '57 Twin\", ' Strength Medium', ' Momentary Straight', ' C', ' For DDJ-SX/RX', ' Stewart Copeland', ' Key of C', ' DD65 Premium Pack', ' GBA750N - 3/4 Size Acoustic Guitar', ' 3-pack', ' Holds 4 Pairs', ' Drum', ' Controlled Sound Coated Black Dot Snare/Tom', ' Style I-Black', ' Electric Piano', ' For DDJ-SR', ' Heavy', ' 5A Hickory', ' Stereo VideoMic', ' Medium/Heavy', ' Mini Keys', ' CLASSICAL or RESOPHONIC GUITAR', ' Skulls', ' Integrated Flash', ' Loudbox Mini Cover', ' Thick', ' Classic Player', ' Synthetic', ' Double Braced w/ Extra Strength Tubing', ' AT95E/HSB Combo Kit', ' X-Long', ' Black - Long', ' Pro', ' Philharmonic', ' A7', ' X15E, 1.18mm, A=442', ' Black Dip, Wood', ' ESAG20DN-Semi-Hollow Guitar', ' (16) Wired Microphones', ' BDX22N - Dual Electric Basses', ' OBEY40', ' Mahogany', ' Standard with Casters', ' Powerstroke P3 Coated Snare/Tom', ' Zil-Bel, Large', ' DD65', ' HELP!', ' V String', ' 25-Packs', ' Humbucking with Microphone', ' Tie End', ' Gibson/Epiphone Flying V', ' Electric Bass Case', ' Bass', ' Stage Right Series', ' Holds up to 6 Mutes', ' Solid Engelman Spruce Top', ' Mesh Pads', ' Alto Sax Reed- Strength 1.5', ' Stereo VideoMic Pro Rycote', ' 600 Series', \" 50's Stratocaster\", ' MicroHUSH Noise Reduction Pedal', ' Johnny Marr', ' Upright Bass Pickup', ' (4) Wired Microphones (Nylon)', ' OMEN EXTREME-6 FR', ' Alto Sax Mouthpiece', ' Extra Light+', ' Black, Nylon', ' For DDJ-SZ/RZ', ' Straight', ' microKEY air 37', ' Clear Rock', ' Classic Player HH', ' Soprano Ukulele', ' 12-String Guitar', ' Korg Volca Beats', ' AL5', 'c', ' 60s Tribute', ' Tonemaster', ' Ash - Long', ' Gold', ' Disney Princess', ' DU-200B', ' Exotic Wood Top', ' Electric Bass Bag', ' FG1106 Guitar', ' HSS', ' EDX22N - Dual Electric Guitars', ' Silent Kick Pedal', ' Medium Light', ' Standard', ' Monotron Delay Analog Ribbon Synthesizer', ' Korg Volca Sample', ' Practice', ' 19\" Controllers', ' Rasta Man', ' 50s Tribute', ' BOOK PLATE WITHOUT HOLES', ' 25 velocity-sensitive mini-sized keys', ' Cup', ' Aluminum D', ' Nylon Strap (Blue)', ' RS420', ' 5-Pack', ' M9', ' Snare Kit', ' Premier Series', ' Straight Stand', ' Saxophone only', ' 335 Semi-Hollow', ' Gold Series Gig Bag', ' Guitar ProWinder', ' Venom Rock Club', ' Straight / All Aluminum', ' GBA100N - Acoustic Guitar', ' Dreadnought Acoustic', ' Banshee 2 Talk Box Pedal', ' Standard Sizes', ' Standard Sub Pole', ' Standard with Elastic Band', ' Original', ' 1 Pack', ' Valve Guard'}\n",
      "Color:: {' White Body', ' Hennessey 7300B Strap Locks Black', ' Music Stand Tablet Holder.', ' Blue, 1 Pack', ' Cordovan', ' Chrome Rack', ' Foam Wind Screen', ' Burgundy Sunrise', ' Retractable Brushes', ' 2 pack', ' Metal Gold', ' Birch', ' Strap-B15', ' Gold R3', ' Gold Bass Tuning Pegs', ' Full-Size Classical', ' 6CM-DR-3', ' Ruby', ' Round Teardrop', ' Che Guevara', ' 6 PACK', ' Chrome Plate Ivory Button', ' Daphne Blue with Vanilla Cream Pickguard', ' RED MOTO', ' Hawaii Flower', ' Ocean Blue Metallic', ' Beige interior', ' 4Ply Vintage Tortoise Shell', ' Black w/ Grommets', ' Gold,black,chrome', ' BR', ' Tan', ' .75mm', ' TENOR-DJ200AB-P6B', ' Regal Black', ' KING2603', ' 3ply Parchment', ' Dumbler Amp Simulator', ' Silver/Black', ' Black Leather', ' Charcoal 2\"', ' Silver 10 Pack', ' 4Ply Red Tortoise', ' C3', ' Medium  12-54', ' Black with Yellow Stripes', ' Strength 3.75', ' NICKEL', ' Beige', ' NATURAL', ' Green Dip', ' 6-SZ type', ' 2 Cables', ' CONFETTI', ' Navy Blue', ' Clear matt', ' 1 Channel, 1 Handheld, 1 BodyPack', ' Dfp720 Birch Handle With A Soft Yarn Hea', ' pick', ' Black Nickel R2', ' chocolate', ' GRAY', ' DJ-12 72x3x9mm', ' Pearl Blue', ' MM-141', ' Rock-n-Roll 9-46', ' 18\" Vintage Sand Trash Crash', ' Dark Blue Metallic', ' 14\" Crash', ' Purple Sunset', ' Stripes', ' SSA100B Black', ' C7', ' Red 2 Pcs', ' Vintage Burst Satin', ' Natural Gray Burst', ' Classic Yellow', ' 8', ' Solid Spruce', ' Blue Pearl', ' Chorus', ' Burgundy/Charcoal', ' mahogany', ' Metal Tenor in.NY in. Style Mouthpiece', ' Cranberry Red', ' Mock Tortoise', ' 18LEDs par light', ' Industrial', ' w20', ' red color', ' Basic Kit (Natural)', ' Red Sparkle', ' 3c', ' 7150 Pure Nickel', ' Tiedye 1\"', ' 4', ' Race Red', ' Rosewood Back & Sides', ' Ebony/Nickel', ' D3', ' Vivid Pink', ' BLACK MOTO', ' Natural Blonde Rim', ' RO', ' 4Ply Pearl Bronze', ' Multicolor', ' 4Ply Brown Tortoise', ' Agate Black', ' Satin Vintage Sunburst', ' Bone-3mm', ' Pcak of 1', \" X's & O's\", ' Celluloid', ' 3 Pack', ' WB008', ' White Bone', ' Sky (Blue)', ' Black 2\" 24pcs', ' 3ply cream', ' Gold on Brown', ' 5 Strings', ' Blue interior', ' Black, 10 Pack', ' Dark Red Burst', ' Yellow Black', ' Aged Pearl', ' Red Metallic', ' 38x3.5x5/4.5mm', ' 43.2x4.8x3.2mm', ' Light Blue Flowers', ' Classy Matte Silver', ' Black Pottery', ' Clear', \" Custom Shop '51 Nocaster\", ' Red Bandana', ' Stand', ' Light Teak', ' Natural-Left Handed 1', ' LOW F', ' Matte Natural', ' Silver 20 Pack', ' Forest Leaves Birds Butterfly', ' Quadura White', ' See Thru Black Cherry', ' Strength 1.5', ' Clear Veil', ' American Vintage 64', ' Latitude Tremolo Deluxe', ' Travel Didgeridoo', ' HY-1 Black', ' Hybrid Slinky 6 Pack', ' RGB 12LEDs Par Lights', ' Charcoal B', ' 1 Black', ' Purple Flowers', ' 7250 Nickel-Plated', ' Camouflage', ' Vintage Tortoise', ' 3C Rich Tone Gold Plated', ' Light Blue Burst', ' derby effect light', ' White Pearloid', ' Mini5 Rhythm Amplifier, Ivory', ' Mini5 Rhythm Amplifier, Black', ' Bronze', ' Small Desktop Microphone Stand', ' Silver on Black', ' Metal Rovner Alto Mouthpiece', ' Wall Fade', ' Z2', ' Vintage White', ' Control Knob-11', ' Premium', ' 1/2-3/4 Size', ' Jet Black', ' Classical Guitar', ' Pink.', ' Parchment', ' Brent Mason Hot Wired', ' Natural + Learn to Play Guitar DVD', ' Silver Burst', ' Left-Handed, Sunburst', ' 1 Year', ' Red-B', ' 8 Way Daisy Chain', ' YouMic', ' 5 ft.', ' Gun Black', ' 4Ply Red Pearl', ' MI0254', ' 2 Pack', ' 1 PAIR', ' Black Teeth', ' Ebonite', ' 5CM-DR-1', ' Black MIDI (2015 Release)', ' Silver/Blue', ' black engraved flower/silver keys', ' Sacral Chakra', ' Accoustic or Wide Body', ' Cool White', ' PO-12', ' 42x3.5x4.5/3.5mm', ' Single', ' Yellow Monterey', ' Semicircle', ' Violinburst', ' Blue Colorful', ' Effects Pack', ' Phosphor Bronze', ' Ice Blue/Charcoal', ' Fiesta Red', ' Rosewood Fretboard', ' Dark', ' Black Adjustable', ' MA-10 Black', ' Mini Wood Bongos', ' Metal Material', ' 8250 V-String', ' 24\" Rain Stick (Red)', ' Autumn Burst', ' Rattan', ' Lavender', ' Black with Aged White Pickguard', ' Black/Red', ' Professional Cymbal Bag', ' Epi Half Moon Chrome', ' 3Ply Parchment', ' Natural Kit', ' Abstract', ' Butterscotch Blonde', ' Abalone Pearl', ' Orange+Silver', ' Red Moon', ' Speakon - 1/4\"', ' Exotic Mahogany', ' Skinny Top Heavy Bottom 6 Pack', ' Dark Gray', ' Black-037', ' Dark Brown', ' Bohemia No.2', ' Dark Tortoise', ' Red Wine', ' Classical', ' Cherry', ' Caf Cajon with Snares', ' Pixel', ' Classic Brushes', ' Orange, 1.14mm', ' Gold on Forest', ' Coral Sunburst', ' BLK', ' Shell Black white', ' 10\" x 6\" Popcorn', ' WSN', ' Light', ' Single G String', ' Dual Channel 1 Handheld+1 BodyPack', ' Black Cotton', ' Narrow', ' 3Ply Ivory White', ' 18\" Extra Dry Dual Crash', ' LE Tennessee Red', ' Wine', ' Black 2-Pack (60\" Height)', ' Sgt. Peppers', ' black color', ' Rosewood Fretboard 2', ' Pointed Square', ' Cobalt Blue', ' C5', ' Gold Tweed', ' 1 pack', ' Black w/ Chrome', ' Pacific Walnut', ' White 2pcs', ' GT-5', ' TENOR-DJ233C-D3', ' Medium Gauge', ' Buckle Universal Desk Stand', ' 5C', ' Surreal Salvador Dali Inspired', ' Purple/Charcoal', ' Peace Love Music', ' leather', ' Plexi-Drive British Overdrive', ' Guitar Amber', ' VWHT', ' AT-355', ' 3C', ' Trans Amber', ' Wild Purple', ' MA-12 RoseWood Color', ' Traditional Sunburst', ' Black w/Chrome', ' Vintage', ' Small Button Gold', ' Unbleached', ' Traditional Brown', ' 0.88mm Plectrum - Green', ' .88mm | Green', ' Green color', ' 1 to 8', ' Lil Luber Ultra Nut Sauce Applicator', ' 1.00mm', ' 1400 hours', ' daphne blue', ' Faerie', ' Chrome 2.0', ' Sonic Blue', ' .50mm | Red', ' Midnight Sky Blue', ' Silver+Blue', ' 1000 hours', ' Junior 6 in. H x 5 in. and 4-1/4 in. Dia', ' Cream Tip', ' Am', ' Classic Black', ' Silver', ' Harmonizer', ' American Vintage 65', ' Satin Black', ' Orange Flower', ' Sunburst w/ Vanilla Cream Pickguard', ' Receiverx3( built-in battery)& Transmitterx1', ' Drum Stick Holder', ' Bazaar', ' 4Ply Blue Pearl', ' Brad Paisley Drive', ' Amber', ' Cool Coral', ' Natural Cutaway', ' Nohea', ' w500', ' Les Paul', ' Octpus', ' Epi Big Button Chrome', ' 76x3x13mm', ' Great GRAMMA', ' 6505 MH 20W', ' All Solid Acacia', ' Amber Burst', ' Flambe Red', ' Rechargeable Receiver-Silver', ' Black, 5 Pack', ' SUNBURST', ' Gloss Black', ' Low F#', ' Wired Mic', ' Denim', ' Flamed Maple Back & Sides', ' Insanity', ' Sunburst color', ' Western Horses', ' Type 2', ' Black Makanu21', ' Strap-B4', ' Basement', ' TENOR-DJ101AB-AS', ' Electric Bass Guitar', ' green', ' Black Star', ' G', ' Multi Colored', ' BLACK W/ WHITE LIGHTNING BOLT', ' 1 Male to 2 Female', ' Imperial Paisley', ' Knot 1 Gold/Forest', ' Mint Green', ' Silver Sand', ' Classic Rock', ' ABALONE', ' Worn Cherry', ' 1.35 | Black', ' Z4971', ' Peacock Blue', ' Midnight Wine', ' Sparkle Pink', ' Varnish', ' Celtic Knot 1\"', ' crimson transparent', ' Size 2', ' Burgundy interior', ' Titanium Black', ' Super Natural', ' Multi-Colored', ' Angled Patch Cable 6 in (Black)', ' California Weave', ' Key of A', ' HS308V', ' 4/4 Somewhat Flecked', ' w501', ' Satin Chrome', ' Anodized Red', ' TENOR-DJ405AB-P6B', ' bronze', ' Black A', ' Basic', ' With Pop Filter and Shock Moun', ' MI0704', ' Pickup-D3', ' mixed', ' Tweed (Lacquered)', ' Capo White', ' Surf Green with Tortoise Pickguard', ' 7x10W 8/13CH', ' Black, Yellow, and Brown', ' Logo', ' Mist Green', ' TENOR-DJ310NK-A1B', ' Tri Fade Burst', ' Anodized Silver', ' Vocal F', ' multi-coloured', ' Middle', ' 7x10W 4-In-1 8/13CH', ' Seafoam', ' Blue + Learn to Play Guitar DVD', ' Guitar tunner-White', ' 3 Way', ' Electric Blue', ' 3-tone Sunburst', ' Wave', ' Navajo Red', 'G', ' Nuclear Green', ' Natural Finish', ' Dyna Compressor', ' Yellow Guitar Pick', ' Black w/ Brass Rivets', ' Z3712', ' .73mm | Yellow', ' 12 String', ' Vintage Blonde', ' Black/Gold', ' Blue + DVD + Accessories', ' Black-White', ' Banjo', ' Rosewood Fingerboard', ' Flame', ' Off Center Groove', ' Closed Hole with engraved flower', ' Smoked Chrome', ' Abalone', ' Small Round', ' Rosewood Fretboard Block Inlay', ' Natural', ' black/gold keys', ' Rust', ' Style 2', ' Booster', ' Ivory/Black Dot', ' Gray', ' D Key', ' 4Ply Gray Pearl', ' 1ply Black', ' Natrual', ' Fits Metal Tenor Sax Mouthpieces', ' Mod Station', ' Passion Pink', ' 13\" x 3.5\" Piccolo', 'n', ' TENOR-DJ200AB-A1B', ' 4/4 Size', ' Skull and Bones', ' Silver Sparkle', ' Angel Wings', ' Orange Pearloid', \" Sgt. Pepper's\", ' Open Pore Vintage Burst', ' 1.35 | White', ' Platinum', ' Rock Star', ' Mod Core', ' Black 3 Ply (BWB)', ' gray', ' Worn Gold Top', ' Solid Redwood Claves', ' spruce', ' Army', ' 3ply Mint Green', ' Midnight Black', ' 1 Female to 2 Male', ' Single Unit', ' Red and Natural Stripe', ' 32 mm', ' original recipe', ' DMK-7', ' Ego Compressor', ' Transparent Red', ' Blue Metallic', ' Green Colorful', ' Glossy Black 1 Ply', \" Sgt. Pepper's 50th\", ' Tawny Stripe', ' Rosewood/Black', ' Chrome w/ Black Tip', ' 5050SMD 300LED RGB', ' Hawaii', ' Black with Red Foam', ' Medium-Light', ' Wood', ' Chocolate Satin', ' Alien Green', ' style3', ' Eb', ' Ebony - Black', ' 3-sz Type', ' Ebony/Gold', ' For violin / viola', ' Metallic Grey', ' Deep Blue', ' Brown', ' Black Steel', ' Tartan Plaid', ' Black/White Dot', ' 4Ply Yellow Black', ' Original', ' 43-47mm / M', ' Transparent Blue Sunburst', ' Half Moon Button Chrome', ' Multi Color', ' Deep Black', ' Gloss Natural', ' Black Accents', ' Calypso 1\"', ' 20 ft.', ' Foot Tambourine', ' Gilded', ' Surf Green with Aged White Pickguard', ' Indian 1\"', \" Black '65 Overdrive\", ' Pearl Parchment', 'u', ' Tie Dye', ' Clear Glossy', ' GREEN MOTO', ' Liquid Black with Software', ' Purple', ' lighting', ' AT-07', ' Dark Red', ' grey/silver', ' Blue/Red', ' Brown Tortoise Shell', ' 0.60mm Plectrum - Red', ' Matched Pair', ' Oblong shaped in transparent yellow', ' Sage', \" This military-standard waterproof hard case was specifically designed for the Zoom H6 recorders. The interior is custom cut high quality PE foam that includes space for the ultimate Zoom H6 recording setup. This includes pockets for the recorder, XYH-6 X/Y mic capsule, MSH-6 MS mic capsule, SGH-6 Shotgun mic capsule, EXH-6 Dual XLR/TRS Combo capsule, windscreen, memory cards, cables, and additional accessories. Not only does the SKB Zoom H6B case provide the ultimate protection for the recorder, it is backed by SKB's unsurpassed Lifetime Warranty.\", ' LSR305', ' 16\" Rain Stick (Black)', ' Hennessey 7300SL Strap Locks Silver', ' Black Sparkle', ' !other', ' darkgray', ' WHITE MOTO', ' Pink Colorful', ' 2-Color Sunburst', ' Db', ' blonde', ' Blackblood Skull', ' Citron Vanilla Cream w/ White Pickguard', ' 36LED Par Light', ' colorful', ' Aluminum Surface', ' Flat Capo Rosewood', ' BLACK/GOLD Keys', ' White, 1 Pack', ' JCM', ' Anodized Blue', ' Air Force Gray', ' (1) Van Gogh Starry Night Sunflowers Cafe Series', ' Wine (Burgundy)', ' Custom Shop 62', ' 1200 hours', ' Parchment Pearl', ' No.9', ' Vintage Weave', ' ZEBRA', ' Zebra Stripe', ' Alto Sax - Gold-Plated', ' Tweed Right Angle', ' Hawaii Blue', ' Transparent Purple Burst', ' Pickguard-C1', ' Stars & Straps', ' chrome', ' matt Yellow', ' Red on Black', ' Cocobolo Wood and Golden Colored Metal Handle.', ' 5050 Rgb Flexible Led Light T-shape 3-ends Female Connector', ' blue', ' 1.14mm | Purple', ' Striped Onyx', ' Green Pearl', ' RGBW 12LEDs Par Lights', ' Yellow with Tiger Flame', ' Russet', ' Jawbreaker', ' 12\" China', ' White-Black', ' Sand', ' Black Tuner w/ Black Mic', ' AW-3G2-WH White', \" Tweed '57 Overdrive\", ' Guitar Fingertip.1', ' Cherry Red', ' string ruler-A2', ' Black, Light Gray, and Metallic Blue', ' Key of F', ' Strap-B3', ' gold laquer/silver keys', ' Dead Draw', ' 2 Color Sunburst', ' Pinnacle Deluxe Distortion', ' Red', ' Pearl Green', ' Koa', ' Metallic Silver', 'e', ' 4 string', ' Mako Blue', ' On Stage GSA10BK Black Guitar Strap', ' ', ' blue lagoon', ' Black + White', ' Hootenanny 2', ' Zebra Stripes', ' White Dot', ' Stained Glass 1\"', ' Black & Gold', ' Pearl Grey', ' Electric or Narrow Body', ' Orange Blaze', ' style4', ' RGBA-RGB Amber', ' Gold Top Dark Back', ' Classic Wood', ' Twin Ukulele', ' Light-Heavy 3 Pack', ' Hennessey 7200C Strap Locks Chrome', ' Burgundy', ' White, Brown, and Yellow', ' Black & White Checker', ' Maple Fingerboard', ' Full Black', ' Gold Sparkle', ' mahogany tattoo', ' Transmitter', ' Camoflauge', ' Blue Moon', ' 3ply Cream', ' Guitar Bone Pins', ' Size 3', ' Rechargeable Receiver-Black', ' Charcoal Metallic', ' Original Vintage', ' Gold 2pcs', ' A0569', ' Intermediate', ' Black on White', ' Black- Satin Finish', ' 1.14 | White', ' Jewel Blue', ' Sunburst', ' 01-Standard Kit', ' n/a', ' Rotary Speaker Simulator', ' Shell', ' Big Button Chrome', ' Electric Guitar', ' Pure White', ' Bundle w/ Gig Bag', ' On Stage GSA10WT Guitar Strap White', ' 3C Silver Plated', ' OL', ' Belcat TRM-507', ' White/Laquer', ' natural satin', ' Van Gogh', ' .73 | White', ' Professional Bag', ' Stainless Steel/White', ' 1500 hours', ' CM-88', ' RAINBOW', ' Hennessey 7200G Strap Locks Gold', ' Dark Rosewood', ' Aged White', ' Extra Heavy Black', ' 3C Gold Plated', ' Safari Print', ' Light Burst', ' 15 ft.', ' Coffee', ' Red/White/Blue', ' 1', ' Orange Guitar Pick', ' Coffee Cutaway', ' OH Amber', ' size: 2', ' Gray Pearl', ' 5 Way', ' Royal', ' Black R3', ' Warm White, Pro', ' Bodypack Transmitter (2 Lavaliers)', ' Gold Tuner w/ Black Mic', ' Battery Powered 12LEDs Par Lights', ' Ukulele Black Ebony', ' Black Right Angle', ' Bit Crusher', ' Darker Yellow', ' SURF GREEN', ' Black-Ebony', ' Wall Washer Light 4CH', ' Cherry Satin', ' Chrome 3L3R', ' Honey', ' 12 Pack Wedge 1 Inch', ' Confetti', ' Yellow Blaze', ' Plexi-Drive Deluxe Overdrive', ' Big Button Black', ' Blue Pearloid', ' Mini Power Supply', ' Green', ' Vintage Butterscotch', ' Slim', ' Camo', ' Metallic Bronze', ' Medium/Heavy Blue', ' 3Ply White/Black/White', ' 4 Spaces', ' Pearl Yellow', ' Stainless Steel/Mock Tortoise', ' Ebony', ' Third Eye', ' CANDY APPLE RED', ' Chestnut Brown', ' Spark Painted Design', ' Single Small 5 in. H x 5 in. Dia.', ' Up In Flames', ' Guitar capo-black', ' Sapele color', ' CHECKER', ' Translucent Blue Satin', \" Fat 50's\", ' Gold Pearl', ' Natural Type 1', ' Red / Black', ' Rock Light 9.5-44', ' Daphne Blue', ' Bridge Black', ' Country Style V1.1(Double Shoulder Straps)', ' Honey Burst Satin', ' Black/Chrome', ' Baritone', ' Guitar White Bone', ' Black/Silver', ' Dark Violin Burst', ' teal', ' Chrome 2 Pcs', ' Tortoise Shell', ' Double Slope', \" Super 250's (3-Pack)\", ' Black Microphone Arm Stand', ' Weathered Black', ' Silver to Black Fade', ' BU', ' Tribal Wings', ' 2 Pick Holder+24Pick', ' 4Ply Light Blue Pearl', ' Black', ' 1ply Matte Black', ' Black With Wite Dot', ' Red Tortoise', ' Black Webbing', ' A500K', ' Bright Red', ' DB-3', ' Leopard', \" Pure Nickel 150's\", ' Arctic White', ' 3Ply Black/White/Black', ' 6-pack 0.3M', ' Jamaica', ' Black - Extra Large', ' Kidney Button Black', ' BLACK', ' Maple Fretboard', ' Solid Brass', ' Blue Sparkle', ' Rooftop', ' 3Ply Black', ' Anodized Green', ' TB Sunburst', ' Red/Charcoal', ' Trans Blue', ' Golden-White', ' Classic White', ' Wine Red Burst', ' Nickel', ' Ex. Light 9-42', ' DM-70', ' Red wood color', ' Anodized Violet', ' WHITE W/BLACK MUSIC NOTES', ' ST-2', ' Union Jack Flag', ' Dark Brown Tortoise', ' Strength 4', ' Extra Light 3 Pack', ' Turquoise Pearloid', ' Old Violin Sunburst', ' Tone A', ' White/Pink', ' CP-26', ' Celtic Grey', ' 1 Channel, 1 Hendheld,1 BodyPack,Blutooth', ' Lake Placid Blue', ' Heritage Cherry', ' Trans Cherryburst', ' Brown/Gloss', ' Copper Vein', ' Brown Strap, Brass Button', ' Transparent Smoke', ' Olive Drab Green', ' Wide Ribs', ' Receiver*3 and Transmitter*1', 'f', ' Alien Green & Bebop Blue', ' MultiColored', ' 1/4 TS Offset Jacks Pedal Connector (Silver)', ' 4 pack', ' Light 3 Pack', ' Rose wood color', ' GOLD Lacquer', ' TENOR-DJ200GK-P6I', ' C6', ' Brushed Chrome', ' Chrome Finish White Pearl Xylonite Button', ' Red Blackburst', ' Foot Shaker', ' BLUE', ' Tabacco Flat', ' Knob Ends', ' WB001 with Wired Headset', ' Strip Light', ' American Vintage 52', ' 6 PAIRS', ' 5c', ' Gold Chrome 2.0', ' 8-Inch Bell', ' Black/White', ' purple', ' Acoustic Bass', ' White/Silver', ' Black Chrome', ' Brushed Silver', ' Super Slinky 3 Pack', ' Mocha', ' Black 2.0', 'S', ' 4Ply Brown Pearl', ' (2) Vincent Van Gogh Almond Blossom Series', ' Stars & Stripes', ' Output: DC 9V, 400mA', ' White Album', ' Pink/Black', ' Jazz Wave', ' Sunburst with Aged White Pickguard', ' Raven Black', ' 3/4 Size Light', ' Classical Yellow-Left Handed', ' Duo Sky/Flame', ' Pink/Magenta (60\" Height)', ' Bronze Metallic', ' Translucent Black', ' Stone (White)', ' 3-pack 0.3M', ' Figured Natural', ' Liquid Black', ' Ox Blood', ' Left-Handed, Natural', ' Value not found', ' yellow', ' Receiver*1 & Transmitter*7', ' ACE-220', ' Amberburst', ' Twisted Tele', ' Chocolate', ' No.8', ' Hootenanny', ' White&Black', ' Bucket Mute', ' Control Knob-1', ' Bundle w/ Cables', ' Off Center Double Ridge', ' Black Neck Plate', ' Wizard', ' Orange Pearl', ' Black 2pcs', ' Police Line', ' BW', ' Black Pearl Finish', ' Metal Foot Rest', ' Summer Poncho', ' Green-c5', ' LED Strip Connector-2', ' Strength 2.5', ' Metal Foot Rest with Metal Extanation', ' Aged Cherry Burst', ' AG08 HS', ' for ST(Rosewood)', ' black Metallic', ' Black, Light Gray, and Dark Gray', ' Graphite Gray', ' Classic MH 20W', ' Receiver&#xFF08;built-in battery&#xFF09;', ' Satin Silver', ' Deluxe Kit (Burl Wood)', ' Straight Coupler 1/4 inch (Gold)', ' Hazel', ' Silver 5 Pack', ' Grey, 1.00mm', ' 5250 Short Scale Bass', ' Nickel/Plastic', ' Glow in the Dark Blue', ' 2pcs', ' Dynamic', ' Sugar Skull', ' MA-12 Wood color', ' Green Sparkle', ' Light 10-46', ' DT-4', ' Black/Red Checker', ' Hot Noiseless', ' Metal Blue', ' Exotic Zebrano', ' Artist Series Shaker (Soft)', ' Cinnamon', ' Wine Red', ' light blue', ' Tobacco Brown Sunburst', ' Black Tip', ' Yellow & White', ' natural', ' (12 Pack) Charcoal', ' CS67 Black', ' Steel', ' Low E', ' White Black Red Blue', ' Black and White', ' brown', ' Sea Green', ' Mahogany-Brown', ' Metallic KO', ' Vintage Wine Barrell', ' 24inch mahogany', ' 3/4 Size Medium', ' World Tour Graphic', ' Knobs 20 Pcs', ' black engraved flower/gold keys', ' red stand', ' Transparent', ' 18\" Jazz Extra Thin Crash', ' Ver. 09 Luna?', ' Artist Series Shaker (Medium)', ' Power Slinky 3 Pack', ' Strap-B5', ' Violin Bridge', ' style5', ' Single-Braced', ' 05-String Action Ruler', ' Ukulele Amber', ' silver-1', ' Rose', ' Black MIDI (New Release)', ' Hi-hat Tambourine', ' regatta', ' Metallic Copper', ' 15pcs', ' Vintage Sunburst Vintage Gloss', ' Clear/Transparent', ' Black Red', ' Black Walnut', ' White Flower', ' Antique Varnish', ' Brushed Black Chrome', ' Clear Orange', ' Peace', ' size: 3', ' Jazz Stripe 1', ' Burgundy Maroon', ' Pickguard-C7', ' 3ply Aged white', ' Groove', ' Flambe Blue', ' Slvr/Blk', ' National Pink', ' Dark Oak', ' Deluxe Drive', ' Stainless Steel/Black', ' Encore Scratch Remover', ' sea blue/gold keys', ' White-K056', ' Mode A Blak', ' Black-1', ' Tree of Life', ' Assorted', ' Receiver*1 and Transmitter*1', ' Medium Green', ' Red, 1 Pack', ' Tone E', ' Blue Burst', ' 4Ply Pearl Red', ' Strap-B14', ' Assorted Colors', ' ORANGE/GOLD Keys', ' Teal', ' Champagne Finish', ' Black & Silver', ' Chrome - 6inch', ' Black-3', ' GRAMMA', ' Vintage Tweed', ' Vintage Blond', ' Satin Honeyburst', ' MA-12-D', ' Padouk Wood and Golden Colored Metal Handle.', ' Viola Bridge', ' D Pouch - BLACK', ' 8 Space', ' 20 Pattern', ' Mahogany', ' Splatter Black', ' Original Version', ' Black, Yellow, and Red', ' Standard Gig Bag', ' White w/ Green Dot Bone', ' 60\" Rain stick (Black)', ' Fireburst Satin', ' Honey Amber', ' Pickguard-C5', ' Phantom Power Supply', ' Neon Green', ' Candy Apple', ' Paint', ' BLACK VELVET', ' 1ply Cream', ' Surf Green', ' F-F1', ' USA Flag', ' Yellow-Blue', ' Light Blue', ' black-1', ' 37 mm', ' Worn Brown', ' Dark Green', ' Green + Blue', ' Black Pearl', ' Regular Gauge (.010-.046)', ' Black NW-1500 Desktop Microphone', ' Gold/Black', ' Red, White, and Blue', ' Receiver*1 & Transmitter*1', ' Sunset Orange', ' With Pop Filter', ' Lite', ' Strength 2.25', ' Sunset Palms', ' Champagne', ' White Tip', ' 1 Cable', \" Hau'oli\", ' IVORY', ' .595 in. Diameter', ' Red - Yellow', ' golden', ' Chrome 1.0', ' Satin Varnish', ' Bordeaux Metallic', ' Light/Medium Yellow', ' Anodized', ' Big Button Gold', ' Cup Mute', ' Silk Grey', ' FT-016', ' Turquoise', ' Burgandy', ' Black MIDI', ' Tribal Sun', ' surf green', ' 10 Holes 40 Tones Key C', ' King Wood and Golden Colored Metal Handle.', ' Olive', ' Burgundy sand', ' ABS Material', ' Beefy Slinky 3 Pack', ' Oblong shaped in transparent orange', ' 4 Strings', ' chorme', ' Random', ' Dfp210 / Birch Handle With Soft Rubber H', ' Cymbal Accessory Pack', ' Tiger', ' 47-53mm / L', ' Antique Burst', ' style6', ' Flame Yellow Sunburst', ' Yellow type 1-Right Handed', ' Tiki', ' Medium Gauge (.011-.052)', ' Black with Design', ' Stock Yellow', ' Strap-B6', ' 3-TZ Type', ' Mode A Blue', ' Light Colors', ' Mint Green 3 Ply', ' Black-Right Handed', ' Natural Type 3', ' PO-20', ' Low D', ' Cello Bridge', ' Flame Transparent Purple Burst', ' (12 Pack) Purple/Char', ' 9x12W 4CH', ' Polished Nickel', ' 1 to 3', ' Medium 3 Pack', ' 4Ply Black Pearl', ' Multi', ' Standard Shape', ' Bohemia No.1', ' .50 | Black', ' AT-200D', ' Red Saugerties', ' 4Ply Pearl Parchment', ' 1Ply Cream', ' Mini Ego Compressor', ' Lav Clip', ' Black/White Checker', ' wm58', ' Zebra', ' 6 string', ' Dark Teak', ' VHF with 2 mic', ' GREEN', ' TENOR-DJ405AB-P14I', ' Black Top', ' 16\" Trash Crash', ' TENOR-DJ405AB-A2B', ' Guitar capo-gray', ' antique brown', ' Starlight Blue', ' 1 Transmitter+5 Receiver Battery in', ' 52', ' .88 | Black', ' style7', ' TENOR-DJ405GK-P14I', ' honey', ' Spruce', ' Amber Sunburst', ' Tribal', ' Pickguard-C4', ' 5 Way Daisy Chain', ' Silver Mirror', ' Black w/Black', ' Gold on Purple', ' Emerald Green', ' Guitar/Instrument Transmitter', ' Sheesham and Lacewood', ' Black Satin', ' Rainbow Colors', ' Silver Vein', ' Banana', ' TENOR-DJ312G', ' Glass(Clear)', ' 0', ' Quadura Black', ' On Stage GSA10BR Brown Guitar Strap', ' Charcoal', ' Black w/ Black Pickguard', ' Vacuum Stack', ' 5 Pack', ' 50mm Neck Chrome', ' Spider Graphic', ' Brown w/ Brass Rivets', ' Pink+Purple', ' Ivory and Black', ' Transparent Butterscotch', ' for RGBW', ' Olympic White', ' w801', ' fiesta red', ' Black 2\" 6pcs', ' Gold on Black', ' Bebop Blue', ' 9050 Flatwound', ' Yellow Burst', ' Rose Gold', ' Sheesham Cross Bar', ' Retro Sun', ' Handheld Microphone +BodypackTransmitter ( Lavalier + Headset)', ' With Phantom Power Kit', ' BLUE ROCKSTIX', ' Tenor', ' 3C Rich Tone Silver Plated', ' Hawaii Hibiscus and Palm', ' Jazz Stripe 2', ' white blonde', ' VSB', ' Acoustic EQLC-5 5-Band EQ Equalizer', ' Blue, Green, Red, Yellow', ' Bronze Shell', ' 3 tone sunburst', ' Plexi Tone', ' Cherry Sunburst', ' Pewter Sand', ' See Thru Purple Sunburst', ' One Color', ' Cymbal Bacon', ' Dark Green Rim', ' MS7701B - Black', ' 20\" Ride Cymbal', ' chrome and green', ' Blue TSA', ' Stained Glass', ' 4ply Vintage Tortoise', ' Type 1', ' WHITE/GOLD Keys', ' Satin Gold', ' TORTOISE SHELL', ' Blue/Silver', ' size: 2.5', ' Satine Wood and Golden Colored Metal Handle.', ' Vanilla Cream', ' Desert Sand', ' Type 3', ' Golden Brownie T1', ' Leaf (Green)', ' BLACK VELVET.', ' Natural-Brazilwood', ' Brass', ' Gold Semicircle Button', ' Lemon Drop', ' Brushed Bronze', ' Updated', ' Extra Slinky 3 Pack', ' black and brown', ' Tulip Button Chrome', ' Half Moon Button Black', ' Guitar tunner-Blue', ' 52mm Bridge Chrome', ' A0532', ' Yellow Coral', ' Gold Mirror 1 Ply', ' Black/Abalone Inlay', ' Black - 6inch', ' Ch Sunburst', ' Barbed Wire', ' Heavy Rock', ' Series PR4', ' Strap-B17', ' red', ' Antigua', ' BodypackTransmitter (2 Lavaliers + 2 Headsets)', ' Rainbow', ' TENOR-DJ313GK', ' Black Classic', ' Short / Small', ' Bamboo', ' DynaRock T2', ' Ukulele', ' Flaming Chopper', ' Black, Ebony', ' 3-Z Type', ' 44.07x4.98x9.3mm', ' Cognac Burst', ' C20', ' Lucite', ' Yellow', ' 3 Pack Multi Color', ' Blue Flower 1\"', ' Silver Metallic', ' Pointed Teardrop', ' Mode A Sliver', ' orange', ' Aloha', ' Satin Ebony', ' Renaissance Art', ' black gloss', ' Light Gray', ' Royal Blue', ' Cool Gray', ' Red Raspberry', ' Pinnacle Distortion', ' Precision Brushes', ' Red & Black', ' Black/Gray', ' Rosewood color', ' 9120 Tapewound', ' Chrome && Black', ' White Moto', ' 7350 Stainless Steel', ' 1Ply White', ' Solid Black (Snap Hook)', ' 1Pair', ' Pearl White Metallic', ' Classic Claves', ' Mixed', ' sea foam', ' Professional Studio Boom Arm Black', ' Lavender Pearl', ' 4Ply Purple Pearl', ' Gray Scales', ' Dragon', ' Wide', ' Y Splitter', ' 1Ply Black', ' Rubbed Vintage Burst Satin', ' MM-242', ' White/Black', \" Super 250's\", ' Stand+Bag', ' MS7701C - Chrome', ' Union Jack', ' Black Body', ' Pearl Red', ' 1 Transmitter+7 Receiver', ' Fire (Red)', ' MA-12 Blue and White Color', ' Purple, 0.60mm', ' Black White Shell', ' Triple Wreck Distortion', ' Receiver*6 and Transmitter*2', ' Slap Top Cajon Bag', ' L-40M', ' #2-for Saxophone', ' Black w/ White Dot Ebony', ' Greenwich', ' Gold 1.0', ' Orange', ' Vocal C', ' Strength 3.25', ' HS308L', ' Solid Spruce Top', ' Saugerties', ' Flatwound', ' 1.5 | White', ' GoldLeopard', ' Style1', ' Sheesham Cross Bar Double Layer', ' Black+Blue+Silver', ' Colorful Waves', ' Silver Mirror Acrylic', ' 1.14 | Black', ' Racing Stripe Red', ' FT-2', ' 6 Pattern', ' Black Pearloid', ' olympic white (HH)', ' Crown Chakra', ' Pale Yellow', ' Tie-Dye', ' White Pearl', ' Black & White', ' Black Tuner w/ Red Mic', ' Silver multicolored', ' Persimmon', ' Knot 1 Green/Black', ' Z Black', ' 1-Pack', ' 2 tone sunburst', ' Direct Drive Cajon Pedal', ' Chocolate/Gold Stitching', ' Pickup-D2', ' Citron Vanilla Cream', ' TENOR-DJ273N-SI', ' Flare (Orange)', ' N3', ' Rose red', ' Acoustic Guitar', ' Sunburst + Learn to Play Guitar DVD', ' Fits Large Metal Tenor Sax Mouthpieces', ' Z4981', ' MM-14FX', ' Flambe Yellow', ' Golden-B', ' Granite', ' w800', ' Chrome R3', ' Gold 2 Pcs', ' 6CM-DR-4', ' Accoustic and Electric Guitar', ' High F', ' Large Desktop Microphone Stand', ' Trans-pink-a', ' B500K', ' Large Professional Cajon Bag', ' Green, 0.53mm', ' C4', ' 1ply White', ' 3 Pairs', ' USA', ' Light-Heavy 6 Pack', ' Translucent Blue', ' black', ' Worn Satin Ebony', ' SS10 PAK Liquid Black', ' Pearl Purple', ' Heritage Cherry Vintage Gloss', ' Face Art', ' Music Stand Tablet Holder', ' Texas Special', ' Cream&Black', ' Mic Tripod Stand - 1 Pack', ' black guitar stand', ' Brown-Purple 2\" 6pcs', ' TENOR-DJ405GK-A2W', ' Black Nylon', ' wooden/black', ' Jam Cajon', ' Chrome w/ White Tip', ' Black+Gold', ' Left Handed', ' Purple/Silver keys', ' Black, 0.88mm', ' Mother of Pearl', ' Lite Brown/White', ' Black 2018 Model', ' Red Pearloid', ' BLACK NICKEL/SILVER Keys', ' NICKEL/LACQUER Keys', ' Nato Back & Sides', ' 15+ in.', ' style2', ' Brushed Aluminum', ' MudGuard', ' Large', ' two pack', ' TENOR-TSWCAMARANTH-S-S', ' Bb', ' Vintage Sunburst', ' .60 | Black', ' Upgrade Auto Lock Design', ' Red Cedar', ' Race Green', ' 3Ply Ivory', ' Aluminum - Black', ' Pink Moon', ' TENOR-DJ101SG-AS', ' Slatz', ' Ultimate Set', ' TENOR-DJ310GK-P1W', ' Maple', ' Velvet Fuzz', ' Clear Gloss', ' Black w/green trim', ' Pink-Blue', ' Sunset Blue', ' Unfinished', ' Marine Green', ' (24 Pack) Red / Char', ' gold', ' Safety Orange', ' Brushed Metallic Bronze', ' Basic Kit (Ovangkol)', ' Onyx Black', ' Red Pottery', ' Ruby Red', ' AW-3G2-BK Black', ' Padded Case', ' JF-31 Noise Gate', ' 14\" Trash Stack', ' Wooden Capo', ' black acoustic', \" Custom Shop 60's\", ' 10\" Splash', ' Mixed Pattern', ' Flag', ' Aqua Blue', ' .60mm | Orange', ' Flame Maple', ' CA', ' wm57', ' Black/Steel', ' Bass Freak Graphic', ' Zebrawood', ' MI0421', ' Sleek Metallic Black', ' Black with Vanilla Cream Pickguard', ' Original Bullets', ' Light Orange', ' Redburst', ' Mystic Blue', ' katy', ' Style 5', ' Blue Wave', ' Metal Medium Alto/Tenor Mouthpiece', ' Light Gauge', ' F', ' Black-dual', ' White+White+Black', ' Pearl Bronze', ' PURPLE', ' Cartoon Lightning', ' Police Blue', ' Navajo 1\"', ' White Skull', ' Control Knob-15', ' MOP Dots', ' White/Red', ' Vintage Amber', ' BCH', ' Key of A/Bb/C/D/E/F/G', ' Low F', ' 16\" Crash', ' Ivory With Black Dot', ' Sloped Ridge', ' Rustic', ' Shiny Black', ' Chrome/Abalone Inlay', ' Matte Coffee Dream', ' Throat Chakra', ' Camo Green', ' Satin Fireburst', ' Aubergine, Grass Green, Orange, Sky Blue', ' AUS 02', ' 57/62', ' 1 Transmitter+3 Receiver', ' Ver. 04 Solea', ' Super Light Red', ' Turbo Slap Top Cajon (Walnut)', ' Silver + Black', ' Ole Bluey', ' Gun Metal', ' TENOR-DJ233G-D3', ' Dark Blood Red', ' Lavalier', ' Kidney Button Chrome', ' 3ply White', ' Bundle w/ Hard Case', ' Cajon Foot Tambourine', ' Pearl White', ' TENOR-DJ315G', ' Candy Red', ' Black&Red', ' On Stage GSA10BLBST Guitar Strap Blue Burst', ' C', ' White Tuner w/ White Mic', ' Opaque Black', ' Tumnus Overdrive', ' Ice Blue', ' Transparent Blue Burst', ' Tex Mex', ' Pickup-D1', ' silver-2', ' Screw Adapters', ' Knot 1 Emerald/Tan', ' Speakon', ' 3/4 Somewhat Flecked', ' Skulls', ' Spalted Maple', ' SmartRig Di', ' Shell Blue Yellow', ' ABS - Black', ' National Style Yellow', ' Black-Phantom Power', ' (12 Pack) Red / Char', ' 10 pack Fit 32-35mm Pipe', ' 2 Space', ' Tan Leather', ' Mini5 Rhythm Amplifier, Classic', ' Red-White', ' Yellow Pottery', ' Black1-Ebony', ' Crme', ' Worn Honey Burst', ' C1', ' Special Florentine', ' 1 Transmitter+1 Receiver', ' Pearl Black Fade Metallic', ' Clear & Silver', ' Hennessey 7200B Strap Locks Black', ' ORANGE', ' Artist Series Shaker (Loud)', ' Gold', ' RED/GOLD Keys', ' 1.0 | White', ' Forest Green', ' Standard', ' Hawaiian Surfer', ' Ghrome', ' Violet', ' Red with Black Stripes', ' YELLOW', ' Aspen Green', ' Funk Machine', ' Hickory', ' Custom Light 3 Pack', ' string ruler-A1', ' Matte Black 1 Ply', ' 1.00mm Plectrum - Purple', ' Blue/Charcoal', ' Aged White 3 Ply', ' soprano mahogany', ' 1 Pack', ' B1', ' silver /gold keys', ' TinyTune Pro Stage', ' white', ' Vintage Black', ' Sienna Sunburst', ' Red & White', ' Red White Blue Flowers', ' Black B', ' Double-Braced', ' MS-Purple capo', ' Chrome - 13 inch', ' Natural, blond', ' candy apple red', ' White color', ' Candy Apple Red', ' Tulip Button Gold', ' silver', ' Black - SN-5', ' Medium-Light Gauge', ' Style2', ' Antique', ' Black color', ' wood guitar hanger', ' Bridge Position', ' Control Knob-2', ' Gold Plated Black Button', ' Gray with Black Foam', ' Silver Nickel', ' National Blue', ' Satin', ' Heritage Cherry Sunburst', ' Red/Silver', ' 72-Pack', ' Lime Green', ' 1/2 Somewhat Flecked', ' Brushed Black', ' DB-2', ' Yellow-Red', ' RGB 50cm', ' Midnight Blue', ' Alto Saxophone', ' Wood and Black', ' Gold 3L3R', ' Fluroescent Pink', ' Hula', ' USA Graphic', ' 8 color set', ' Shell Red Yellow', ' 3-Color Sunburst', ' 2 Channel:2 Handheld Mic with Bluetooth', ' Metallic SIlver', ' Sheesham w/Nickle Plated ferrule sole', ' Moss Green', ' Hand Oil Rubbed', ' R8RT, R10RT, R12RT & R16RT Multi-Cart', ' Nylon', ' Walnut Flat', ' Pink Floral Pattern', ' 3-Piece Artist Series Shaker Set (Soft, Medium, Loud)', ' Red Burst', ' Crosses', ' Blue Swirl Pearl', ' PINK', ' 3 tone sunburst (HH)', ' Sage Green Metallic', ' pink', ' Fits Slim Hard Rubber Tenor Sax Mouthpie', ' Black,White,Brown,Red', ' String Cajon', ' Black with Grill Cloth', ' Aqua', ' Delux', ' Circles', ' GT-6', ' Root Beer Metallic', ' Celtic', ' Green on Black', ' Quilt Maple', ' Tobacco', ' Mic Stand', ' Black + Silver', ' Black/Yellow', ' Thirty Something Overdrive', ' Multicolour', ' Maple - Bass', ' #1-for Saxophone', ' For Alto Sax', ' Pickguard-C8', ' Twin Violin', ' NB35', ' Dark Violin Sunburst', ' Natural wood color', ' Natural w/ Graphic', ' Ebony Vintage Gloss', ' 4 Ply White Pearl', ' 1.0mm | Blue', ' Soprano', ' Blue Flowers', ' Flame Yellow Burst', ' Black Kit', ' Receiver', ' American Vintage 63', ' Transparent Blue', ' 12W 4-In-1 15/21CH', ' Concert', ' B250K', ' Metallic Black', ' Dark Brown Rim', ' Trans Black', ' Sky Blue', ' Pink', ' Alpine White', ' 17 open hole', ' BLUE MOTO', ' BLACK//SILVER Keys', ' Strap-B1', ' Dark Blue', ' Medium', ' 7c', ' Cream', ' Black (5-Pack)', ' Bongo Cajon Kit (Natural)', ' Gold Knob', ' Red & Green & Blue', ' Trans Brazilia', ' .88 | White', ' Blue', ' Yellow Submarine', ' Black rails', ' Custom Shop 54', ' Control Knob-10', ' D', ' 4Ply Tortoise Shell', ' Rosewood - Bass', ' Ver. 07W ?Blanca?', ' Hootenanny 1', ' 6 Cables', ' Male to 2 Female', ' 6 Pack Multi Color', ' Metallic Blue', ' Motion Shaker', ' fiesta', ' Strength 2', ' Golden', ' Style 1', ' Black/White Shell', ' Grey', ' Bubinga', ' Transparent Lime', ' Gold Mirror', ' Knot 1 Yellow/Red', ' 3Ply Cream', ' CP-05', ' Skinny Top Heavy Bottom 3 Pack', ' Flamingo Sunrise', ' Walnut', ' 4Ply Vintage Tortoise', ' Coyote', ' SSA100W White', ' 3 Color Sunburst', ' wireless battery 12 LED Par light', ' 14\" x 5\" Wood Shell', ' Natural/Black', ' Size 4', ' Brown Tortoise', ' Vintage Sunburst Perimeter Satin', ' Pink Burst', ' Pearl Black', ' Aluminum Rack', ' Black Universal Capo', ' Transparent Green', ' TUSQ', ' American Eagle', ' Sherwood Green Metallic', ' 47-50 mm', ' 18K Gold Plate', ' Natural Type 2', ' Caramel/Gold Stitching', ' Country Style V2.0(Single Shoulder Strap)', ' Transparent Brown', ' 14 in.', ' Bowden Green', ' Black Strap, Brass button', ' No.4', ' Metall', ' SN1X', ' tan', ' Midnight Satin Black', ' Revolution', ' Black/Black', ' Tube Pusher', ' Classic', ' AC Stage', ' Nickel Plated', ' Glossy Black', ' 1MD Most Metal Soprano Sax', ' GREEN/GOLD Keys', ' Black/Nickel', ' .550 in. Diameter', ' Orange Red', ' 51mm Slide', ' 4 Ply Vintage Tortoise', ' Smiley Faces', ' AB', ' 10 Cables', ' BLACK NICKEL/GOLD Keys', ' Royal Bloom', ' Light Gauge (.009-.042)', ' TENOR-DJ102W-E2', ' Strap-B2', ' Pickguard-C6', ' Red/Black', ' Egg Shaker Set', ' Mocha Brown', ' RED', ' 24 pack 2\"', ' 5050 Strip Light Kit', ' Metallic Gold Nugget', ' Pearl purple', ' 2-Pack Large Microphone Stand', ' Ver. 01 Conde', ' 3D Country Style V3.0', ' TENOR-DJ235G-D4', ' Brown Shell', ' Tobacco Flat', ' Desert Burst', ' Green/Black', ' Red Mahogany', ' Indigo Orchid', ' Half Moon Button Gold', ' Brown Sunburst', ' 4Ply Pearl Blue', ' Pewter', ' Hard Tenor Mouthpiece', ' Olive Drab', ' Butterscotch Vintage Gloss', ' Black - 13inch', ' 4Ply White Pearl', ' 6-z Type', ' Chestnut', ' Tatoo', ' Uku', ' US Flag', ' TV Yellow', ' Tulip Button Black', ' Red Pearl', ' Brushed Nickel', ' Makah Burl', ' Brown Colorful', ' Red Flower', ' Gold Top', ' Beatlemania', ' 5 pack', ' Receiver*7 and Transmitter*1', ' 4Ply Pearl Black', ' Gecko Painted Design', ' Medium 6 X 5 in.', ' Black - Gloss Finish', ' WHITE W/BLACK LIGHTNING BOLT', ' Ver. 05 Soleares', ' Natural color', ' Pearl Mint', ' Charcoal 4 pack', ' Violin', ' Heavy Purple', ' Gecko', ' See Thru Black', ' Yellow color', ' 1.0 | Black', ' blue stand', ' Extra Large', ' Black, 20 Pack', ' Sunburst Streak', ' Purple Moto', ' Delay pedal', ' Bahama blue', ' Black Nickel R3', ' Concert Maracas', ' Black T-Bar', ' Rosewood', ' Lil Luber Ultra Nut Sauce Applicator & Encore Scratch Remover Kit', ' Tiger Stripe', ' Brushed Gold', ' Tweed', ' Greenburst', ' Hard Soprano Sax Mouthpiece', ' Torino Red', ' Black w/silver trim', ' Gold on Cherry', ' On Stage GSA10GR Grey Guitar Strap Soild', ' DM-80', ' Brown Leather', ' Coated', ' RGB 100cm', ' Traditional', \" Stainless Steel 350's\", ' Sheesham Black', ' Blueburst', ' Cello/Viola', ' Strength 2.75', ' Green Cutaway', ' Size 2.5', ' Mode A Black', ' C2', ' Guitar Bulk', ' Ivory', ' Receiver*1 & Transmitter*7-upgrade version', ' Forest', ' Duo Sea/Dusk', ' Fuchsia', ' 4ply White Pearl', ' Blue Rose Skulls', ' Charcoal Gray', ' Reversible', ' Mobile', ' Bulk', ' black-2', ' White', ' TENOR-DJ101SG-AW', ' Crimson Red Transparent', ' Receiverx7( built-in battery)& Transmitterx1', ' 3 way', ' 7 Pack', ' Light Brown', ' White with Black Ring', ' Natural Satin', ' DSLR', ' Grindstone Sparkle', ' Black Moon', ' 6 Space', ' 6-TZ Type', ' Nautical 1\"', ' Black w/ White Dot', ' Black-Carbon Fiber', ' Guitar Gauge', ' Rasta Stripes', ' Small Button Chrome', ' Extension', ' (Black)', ' Adapters', ' 11.75 in. x 7.9 in.', ' Tan/Tan', ' Solid Spruce Pro Series', ' 12\" Trash Stack', ' Guitar', ' Celtic Thistle', ' Carbon Fiber', ' Hawaii Coconut Pattern Black and White', ' TENOR-DJ235C-D4', ' Onyx', ' Chrome', ' .73 | Black', ' WHITE', ' Violin Bulk', ' Purple Pearloid', ' 4ply Parchment Pearl', ' Smokey Chrome', ' Navy', ' Shell Tiger Spot', ' Shell Green Black', ' AC-05', ' lply Cream', ' Off-White', ' Checkmate', ' Celtic Knot Multicolor 1\"', ' Char /Zebra', ' Hootenanny 3', ' Gloss Red', ' For Clarinet Or Soprano Sax', ' Small Button Black', ' Metallic Green', ' Satin Natural', ' Super Bullets', ' Guitar Capo Black', ' pick with holder', ' Mermaid', ' Dark Wood Streak', ' Blackberry Sunburst', ' PURPLE MOTO', ' Black/Brown', ' NO.1-0.46mm-20pc', ' Seafoam Green', ' Paisley Pattern In Dark Blue', ' Light Yellow', ' 4Ply Aged Pearl', ' Blue Burst Streak', ' Black & Red', ' 3 Cables', ' Decibel Plus', ' Alto Sax - Gilded', ' Replacement Batteries', ' Hawaii Yellow', ' Charcoal Frost Metallic', ' Cranberry', ' Tan/Black', ' Ver. 02 Alzapua', ' Sweet Leo O2', ' White-Red', ' Mic Tripod Stand - 2 Pack', ' Med. Light 11-50', ' Champange', ' SEA BLUE/SILVER Keys', ' Small', ' Oak', ' Gold Bold Finish Amber Xylonite Button', ' Receiver/Transmitter', ' Honey Burst', ' Vintage Noiseless', ' Walnut-Coloured', ' Metallic Red', ' Hennessey 7300R Strap Locks Red', ' Silver Mirror 1 Ply', ' Digital Delay', ' Dalmation Tortoise', ' Eggshell', ' Red + Gold', ' White Accents', ' Black Moto', ' Vine Design', ' 8\" Splash', ' Gold/Nickel', ' Soft', ' Nickel/Laquer', ' Olive/Charcoal', ' Walnut Sunburst', ' Strength 3.5', ' Super Set', ' Natural Wood', ' Orange Cream', ' White 5-Hole', ' On Stage GSA10BU Burgundy Guitar Strap', ' Transparent Black', ' Cherry  Satin', ' Red Guitar Pick', ' 3ply Black', ' MM-242 with adaptor', ' 7250 Nickel-Plated (V-String)', ' Type-2', ' Strength 3', ' (12 Pack) Burgundy/Char', ' Receiver*1 & Transmitter*3', ' Voodoo', ' Warm White', ' Barcelona', ' WHT', ' walnut', ' Black Metallic', ' Dec Buffer Booster', ' Tortoise', ' Sloped', ' 1.5 | Black', ' Chrome - 19inch', ' #3-for Flute', ' Parchment Pearl 4ply', ' A250K', ' Aged White Moto', \" Mino'Aka\", ' Angel Of Deth Graphic', ' Matte Black', ' black and red', ' A', ' 24LEDs par light', ' Neck Position', ' Black/Pink', ' Burgundy Sand', ' STBLK', ' Guitar Black Ebony', ' Bundle w/ Power Supply', ' Capo', ' E', ' Key of Low C', ' Guitar Pedal Board', ' Maple - Strat', ' olympic white', ' Key of G', ' 18\" Traditional Medium Crash', ' Butterscotch with Black Pickguard', ' Solid Black', ' Jackson', ' Gold Finish', ' Smoked Skull', ' Angled Pedal Connector 1/4 inch (Gold)', ' Ridge', ' Ivory w/ Black Dot', ' Round', ' Aqua Pearl', ' TENOR-DJ102G-AS', ' Honeyburst', ' BWB', ' Bright Amber', ' Agate Color', ' Matched Quad', ' Purple Pearl', ' Large Round', ' DMK-5', ' LAKE PLACID BLUE', ' 3Ply White', ' MI0255', ' Gold R2', ' 4oz. Bottle', ' C8', ' 3 PAIRS', ' Hot Pink', ' MI0450', ' RedIndian', ' Floral Pattern In Grey', ' Solid Mahogany Pro Series', ' .50mm', ' Coated 12', ' Tapestry', ' Light Violin Sunburst', ' Sapphire Blue Transparent', ' 3-Tone Sunburst', ' Tobacco Sunburst', ' DT-2', ' Black - 19inch', ' Quilt Tiger Eye', ' Yellow type 1-Left Handed', ' TENOR-DJ101S-AS', ' Sliver', ' Amber Tiger Stripe Cajon', ' Walnut Satin', ' Black 1.0', ' Red White Blue', ' Custom Shop 69', ' Quadura Deep Red', ' American Avenger', ' Oak Rim', ' lply White', ' AL-3 Rosewood Color', ' TinyTune', ' 9 LED', ' 1 Channel 1Handheld+1Boday Pack,Bluetooth,MP3 Player+Recorder', ' Black White Tweed', ' Trans Red', ' Pearlexcent White', ' Celtic Cross 1\"', ' Copper', ' AG08 JS', ' Euphoria Overdrive', ' C#/Db', ' Rosewood - Tele', ' Black Flowers', ' OCEAN TURQUOISE', ' 4ply Tortoise Shell', ' Ching Ring', ' 5050Strip Light kit', ' V19', ' 80/20', ' Medium Light', ' Flamed Maple', ' Blue Cutaway', ' Clarksdale Delta Overdrive', ' Gloss Blue', ' Rubbed White Satin', ' Tripod Mic Stand', ' Tomato Red', ' 6 ft.', ' CP-12', ' Classic Tweed', ' Sunburst Dreadnought', ' 10 ft.', ' Multi-Color', ' CP-18', ' V17', ' HY-Rosewood Color', ' 3Ply Mint Green', ' Cajon Backpack Bag', ' Long Scale Acoustic Bass', ' Bandana Red', ' Meet the Beatles', ' 18LED Par Light', 'r', ' Stars and Stripes', ' Anodized Gold'}\n",
      "Size:: {' Small: For Ukulele/Violin', ' 10 Feet 1 Right Angle', ' Medium, 50-135 (5-String)', ' 16\"', ' 12-channel', ' Med B, Long Scale (.135)', ' 22-inch', ' SM58S On/Off Switch', ' 16 Inch', ' Super Light, 9-42', ' Pedal', ' Acoustic Electric Tenor', ' 6 PACK', ' Moderate', ' 16-inch', ' 1.5 ft', ' SMS6000 Single', ' On Stage Maple 5A Wood Drumsticks 12 Pairs', ' 3-pin Male XLR', ' Heavy Weight, Double-Braced', ' Strength: 2.5', ' Keyboard Only', ' 75 Feet 2 PK', ' 6 Space, 14\"', ' 4-channel + USB', ' High-Strung/Nashville Tuning, 10-27', ' 1.3mm | Smooth', ' 24\"x36\"', ' 12 x 3W', ' 20 FT / straight - rectangular', ' 1.52 mm', ' Pro Series Music Stand', ' Extra-Hard', ' 16-input', ' Esquire', ' Flashback X4', ' 2U (3.5\")', ' Power 5B', ' 13x11 Tom', ' Princeton Reverb', ' MPS2-072', ' 8-channel + USB', ' Heaviest', ' 13\"', ' Super Light, 09-42', ' Flashback Delay', ' Custom Light, 32-135 (6-String)', ' Drumstick Bag', ' 2 Cables', ' Extra Light, 12-String, 9-45', ' 10\" Double Row', ' 1 Quart (32 Oz.)', ' 61 Note', ' 100 Pack', ' 2 * 18 * 3 W', ' 3\"', ' 15 Foot', ' 2x12', ' 14\" - 16\"', ' 6 inches', ' 8\" x 14 1/2\"', ' 26in', ' Heavy (10-48)', ' 26\"Tenor', ' 6 Pcs / Pack', ' 5b', ' 1pc', ' Jazz Bass - 11 Hole', ' 10 inch', ' 6x Mic Stands w/ Bag', ' 12-54', ' Single Pair', ' Boom Stand', ' 80/20 Bronze', ' 0.56 mm', ' 8', ' 30 Inch', ' 358 - Medium', ' B', ' Portable Guitar Stand', ' Piccolo Bass, 20-52', ' .0095-20', ' 1 piece', ' Baritone Light, 13-62', ' Up to 22\" Cymbals', ' 3.0mm Large Round Tip', ' 3.00 mm', ' 6 Pairs', ' 58\" Long - Single Compartment', ' 10\" woofer', ' Extra Light', ' 4', ' Med. Top/Hvy Bottom, 11-52', ' 3 Inch', ' Full-size 4/4', ' 1 PC', ' One Bottle', ' 3.0mm Round Tip', ' Light, 9-20', ' 75 watts', ' Medium-Hard', ' super', ' Mid-Size Acoustic', ' 5.0mm Large Round Tip', ' Ex. Light (.010-.047)', ' Medium (Balance Tension), 0135-056', ' 4 Strings: AAEE', ' On Stage Hickory 2B Nylon Drumsticks 12 Pairs', ' 8 Channels', ' T50RP', ' 8 + 2 channels', ' Medium/Light', ' 3 Pack', ' 8 Fader Control Surface', ' 11-in.', ' 4pcs 18 X 3W uplighting dj lighting', ' Snare 5.5 x 14\" (hgt x dia)', ' 7/8 Size', ' 22 Inch', ' SUPER', ' 1.0mm | Grip', ' WI-922', ' 5ft', ' Heavier (11-50)', ' 2000U', ' Light (8-40)', ' Bass Guitar - Rectangular', ' 1x15\" 150W', ' 50 Feet', ' 10 Foot', ' Lt B, Ex Long Scale (.130tw)', ' 1/4', ' 10cm', ' .38mm', ' 100 watts', ' 4 Pack', ' 50-Feet', ' 10 Watts', ' Strength 3.0', ' Light, Orange', ' 5 feet', ' Strength 1.5', ' 4U Rack Space - Standard', ' Single Transmitter/VHF', ' 9-40', ' Super Light Plus, 095-44', ' 1 Pcs', ' Baritone Sized', ' Slim 61-Note', ' tall', ' Fiberglass Case', ' Gig Bags', ' 4 Channel', ' 13.0\" x 11.0\"', ' .008 gauge', ' 3-Soft, Unfiled', ' 16 Feet', ' 3U (5.25\")', ' 25Ft 8 Pack', ' 6 Feet', ' 25 Feet RA Female', ' 000-size Sitka', ' Classical Guitar', ' Tenor Sized', ' Steel Hardware Cart', ' 8 Ohm', ' 30 Pcs', ' 25-Key', ' Acoustic/Classical Guitar 41 Inch', ' 15\"', ' Vibrolux Reverb', ' Pkg of 1', ' 2 Pack', ' 15-inch', ' 7A', ' Concert Electric', ' .46 mm', ' 1.90mm', ' 9-46', ' Medium, Wound Third, 13-56', ' EON610 Speaker', ' Acoustic 3/4 Size', ' 335', ' 14-inch', ' I Pick Jesus (12 Pack)', ' 2 Space, 10\"', ' 12', ' 30 ft', ' Round Tip', ' Custom Light, 45-105', ' Single', ' CD-60SCE', ' 6-pack 30cm', ' On Stage Maple 7A Wood Drumsticks 12 Pairs', ' 16 Space, 20\"', ' Jazz Bass - 10 Hole', ' 0.38 mm', ' 12 inch', ' Extra Heavy, 12-60', ' 20ft', ' Heavy Tension', ' Lightweight, Single-Braced', ' 4.5 meters', ' .013', ' .96mm', ' Semi Acoustic', ' 61 Keys', ' 40 watts', ' 10-input', ' Tenor Low G', \" 6'\", ' Lt B, Long Scale (.130tw)', ' 8\" Trombone Bell', '5', ' 15 Ft', ' 10ft Angle', ' 2-channel', ' 4 Packs', ' Strength 2.0', ' 0.94 mm', ' Dark Gray', ' 6cm', ' 1/2', ' Classical', ' 44.50in. x 4.75in. x 4.75in.', ' 3', ' Affinity', ' 23-in.', ' 13.1\"x 6.25\"x 6\" (X-AIR)', ' Bass Guitar', ' Light (.012-.053)', ' 4 Space, 17\"', ' MN01-Black', ' .012 - .054', ' Rack Mount', ' 5a', ' 12 LED Par Lights RGB Light', ' Light', ' 4 Gallon Case', ' .88mm | Grip', ' Version 2', ' 54 Key', ' Blues/Jazz Rock, 11-48', ' 3.0mm', ' 10 PK', ' Lt Medium, Long Scale (.045-.135)', ' Single Transmitter', ' Single PCS', ' 10 Pcs', ' Large/Extra Thick', ' 9.8 Feet', ' 6 Pack with Adapter', ' Ka-15sK5', ' 24\" Cymbal Bag', ' A-Framed Stand', ' 2 Packs', ' 8-inch', ' Acoustic Jumbo', ' 36\"', ' Thin gauge', ' Custom Light, 45-135 (5-String)', ' 24\"', ' 40-115', ' 5C', ' 25Ft 4 Pack', ' 16 Space, 12\"', ' 8pcs 18 X 3W uplighting dj lighting', ' 5 String Set: G-D-A-E-E', ' SOPRANO', ' Hard Tension', ' 21X20X9', ' Medium, 11-49', ' 1-Quart', ' 3C', ' 25 ft', ' Music Stand Bundle', ' LU-21 Baritone', ' 4-Inch', ' 3/4 size', ' 12\"', ' 1.20 mm', ' 4.80in. x 3.20in. x 1.80in.', ' 10-foot', ' .072 gauge', ' Xtra Tall', ' 80/20 Medium | MSP3200', ' 30 Ft', ' XLR Female', ' Metal Hook', ' 30 FT', ' 45W', ' 28inch', ' Med. Top/Hvy. Bottom, 11-52', ' 61 Key', ' Double, Pack of 2', ' 0.73mm', ' 1.00mm', ' 100 Feet', ' 3-pack 15cm', ' 3-inch', ' POWER', ' Pointed Tip', ' 49-key', ' 20 FT / straight - straight', ' 2 Pair', ' 13 inch', ' 10-Feet', ' Concert Ukulele Case', ' 5  Feet', ' Silver', ' 8-Channel, 50-ft', ' Pineapple', ' 000 Adirondack', ' 14\", 16\", 18\" Set', ' remote control', ' 50 Foot', ' Les Paul', ' Regular Light, 7-String, 10-59', ' .46mm', ' 61 Note Keyboard', ' 2 Pcs', ' On Stage Maple 2B Wood Drumsticks 12 Pairs', ' 50 Feet, 2 Pack', ' Custom Medium, 11-22', ' 5-inch Woofer', ' Lt./Med. (.012-.056)', ' 400 watts', ' Super Light, 8-String, 09-80', ' 10\", 12\" & 14\"', ' Tripod Guitar Stand', ' 1000', ' 25 Feet 2 Pack', \" 18.6'\", ' Double Electric Guitar Padded Gig Bag', ' On Stage Maple 5A Nylon Drumsticks 12 Pairs', ' 30-Assorted', ' Cymbal Boom Stand', ' 30 per Pad', ' Standard 1', ' 20 Space, 20\" Table', ' 3/4', ' Four Pairs', ' Headset', ' 1.08mm', ' Key of A', ' 4-String', ' 15inch-WithBag', ' Old Version', ' 6 ft', ' Tenor w/ Electronics', ' 4/4 - Full Size', ' 35 Feet', ' Single Guitar Stand', ' 0.5 Feet (3-Pack)', ' 25ft', ' 75 Foot', ' 16-Inch', ' 26inch', ' FT-12C', ' Includes Lav Mic', ' Mix5', ' Strength: 2', ' 1.0mm', ' MN01-XL Black', ' 30\"', ' Power', ' 20 FT', ' .73 mm', ' 1.3mm', \" 5'\", ' Tenor Ukulele', ' 25-foot', ' 6-Inch', ' 18\"x14\" Bass Drum Bag', ' .60 mm', ' 12-input', ' 3.5', ' 25-ft Cable', ' On Stage Hickory 5A Nylon Drumsticks 12 Pairs', ' 6 Ft 2-Pack', ' Hi-Hat Stand', ' 12 String', ' HYBRID', ' Custom Light, 40-100', ' Triple Guitar Stand', ' Banjo', ' 42\" Long Sub Pole - Dual Compartment', ' 20 Feet', ' 12 Pack', ' 2.0mm', ' Medium/Light (9-42)', ' 8-Channel / 2-Bus', ' 4.0\" Wide', ' 50', ' 18 inch Premium version', ' 40W', ' 3 foot', ' 18 Inch', ' 5U (8.75\")', ' 351 - Extra Heavy', ' 0.60mm', ' HD Light (.013-.053)', ' Light, Wound Third, 12-52', ' A-Framed Stand, 2-PACK', ' Pro - Powered', ' Mix8', ' Acoustic Dreadnought', ' 44', ' 16inch-WithBag', ' 8\" woofer', ' 12 oz', ' Desk', ' Dark Matter Distortion', ' w/ Legacy Accessories', ' 6-String Bass', ' 4/4 Size', ' 41L x 16W x 6D 61 - 76 keys', ' 10 inch, 20 W', ' Thin', ' Polytune Mini', ' 40 Watt', ' 20 Ft. Right Angle', ' 70 W, No remote function', ' Med. Blues/Jazz Rock, Wound 3rd, 11-49', ' Group V', ' Heaviest (12-54)', ' 20 Inch', ' 16.5ft/5M', ' 3-pack', ' ROCKN', ' 3 Ft', ' 050 FT', ' Ring Slide', ' 3 FT', ' 10 output', ' Thick', ' Extended Base', ' 800 Series', ' 8\"', ' Trumpet Fiber', ' On Stage Hickory 2B Wood Drumsticks 12 Pairs', ' Pro Series Music Stand Bundle', ' .025', ' 3U Rack Space - Shallow', ' 1 Feet 2-Pack', ' 76 - 88 Keys', ' 10  Feet', ' 6 Feet 2 Pack', ' 88-Key', ' 8 inch', ' Hand Held Mics', ' 12U Rack Space - Standard', ' Medium-Light', ' Kick 18 x 22\" (hgt x dia)', ' 12U Pop Up Rack', ' 8-Channel, 30-ft', ' 10-52', ' UR44', ' .96mm | Grip', ' Soprano Ukulele', ' 12 String Light | M190', ' 12-String Guitar', ' Med. Blues/Jazz Rock, 11-49', ' .0225 Inch', ' Tenor/Hawaiian', ' 9-42', ' 45-130tw', ' RC-30 Loop Station', ' 8-pad', ' Jazz Bass LH - 10 Hole', ' Light, 9-20 (Ball End)', ' 24 Pack - California Clear', \" 1'\", ' 3U Rack Space - Rolling', ' 13 Inch', ' 13 Series', ' 1 ft', ' Lt. Top/Hvy. Bottom, 8-String, 10-74', ' Dual Transmitter/VHF', ' 500 watts', ' On Stage Maple 2B Nylon Drumsticks 12 Pairs', ' 1 Feet 2 Pack', ' 200 patterns', ' 8-Channel 25 ft', ' Key of Bb', ' 5-Channel / 2-Bus', ' Pack of 2', ' 1 Space, 8-Punch', ' 6 String', ' 14\" Hi hat Pair', ' Normal Tension', ' Super Lt. (.009-.042)', ' M-size Twin-reed', ' 18 Ft', ' .88mm', ' 20 Ft.', ' On Stage Hickory 5B Wood Drumsticks 12 Pairs', ' Acoustic Mini Jumbo', ' .0105 gauge', ' LSR305', ' 5.6 oz', ' 58-110', ' KA15S W/TUNER', ' 1/32 Size', ' 2 Headset & 2 Lapel', ' 10 Pack', ' Double Pack', ' 0.50mm', ' Stratocaster HH - 11 Hole', ' 3in. x 6in. x 0.25in.', ' 20-foot', ' Medium, Long Scale (.050-.105)', ' 2U Rack Space - Rolling', ' 3-pack 30cm', ' 6-input', ' Accessory Bundle', ' D#', ' 32 Keys', ' 25 feet', ' 20 Feet RA Female', ' 16\" Drumhead Black Suede', ' 4-inch', ' 22\" Backpack', ' 3 Space, Vent', ' 15  Feet', ' 49-Note', ' 25 Ft', ' 30-Light', ' soprano', ' 1.5 Feet', ' 30 feet', ' Medium, 11-40', ' 76 Note', ' Group III', ' 2 pcs Pack', ' 006 Ft', ' 3 PACK', ' 15\" woofer', ' 50 Ft.', ' 1.0mm | Smooth', ' 110 LB', ' 26 Inch', ' Regular Light, Wound 3rd, 10-46', ' 8-Channel 30 ft', ' 25 Ft.', ' Full', ' 3 Feet 2-Pack', ' Full Set: 4 Strings (G-D-A-E)', ' Light, 10-46', ' 18 LED', ' 12cm', ' 1PC', ' 7-Guitar Rack', ' 7an', ' Heavier', ' Baritone Ukulele Case', ' 06', ' Snare Stand', ' 4U', ' E String', ' 3/4 Scale', ' 1-Gallon', ' 3-Hard, Unfiled', ' Short', ' Channel N2', ' None', ' 12 inch, 40 W', ' 7 Inch', ' Not Even', ' Super Light, 40-95', ' Hard', ' 12 Ft', ' Light (.010-.046)', ' Regular Light, Soldered Twists, 10-46', ' Strength 3.5+', ' 60W', ' 23\"x 21\"x 6\"', ' Super Light, Soldered Twists, 09-42', ' Medium-Soft', ' Light .012 .016 .025 .032 .042 .054', ' 11\"', ' 1pc 54x3W LED Stage Lights', ' 2.0', ' Light Tension', ' 5.0', 'e', \" 18'\", ' ', ' 2.0-Hard, Unfiled', ' 75 Feet', ' 13\" x 50\"', ' 2.00 mm', ' 24x18 Bass Drum', ' On Stage Maple 7A Nylon Drumsticks 12 Pairs', ' 58\" Long - Dual Compartment', ' 5pc Fusion Set', ' MSP600 Microphone Stand 6-Pack', ' 40 Watts', ' 5BN', ' 21\"x 18.5\"x 7\"', ' Med. Blues Jazz Rock, 11-49', ' 25 Feet, 2 Pack', ' Fusion Tom Pack (10\", 12\", 14\")', ' 1 PACK', ' 1- 1 Standard end', ' .73mm | Smooth', ' Bluegrass, 12-56', ' Mini', ' n/a', ' 25-key', ' One Size', ' 20 Pack', ' CD-60S', ' 2 Space, 17\"', ' Electric Guitar', \" 15''~16.5''-size\", ' Bundle w/ Gig Bag', ' 0.5 Feet (2-Pack)', ' 010 Ft', ' 40 Feet 2 PK', ' 24\" Backpack', ' 1 Gallon (128 Oz.)', ' Precision Bass - 13 Hole', ' 1/10', ' 32-Key', ' 5-Guitar Rack', ' 4 PACK', ' 3 Ft 2 Pack', ' 2 PK', ' Heavy Duty, Sturdy', ' Extra-Hard Tension', ' 3 Feet', ' 10-Light', ' 120 watt', ' 7a', ' Full-sized keys', ' 2-Channel', ' 003 Ft', ' 1', ' 18.5\"x 15\"x 6.5\"', ' Xtra Tall w/ Leveling Leg', ' Tall', ' Super Light, Balanced Tension, 09-40', ' 21\"', ' Balanced Super Light (9-42)', ' 7', ' Electric Guitar Padded Gig Bag', ' 1/32', ' .88 mm', ' 12 Space, 20\"', ' Channel N3', ' #7', ' 6 Pack', ' 92/8 Custom Light | MSP4050', ' LCD STAND WITH WHEELS', ' 8-Channel 50 ft', ' 25 Pack', ' 1.4mm | Grip', ' EON618S Subwoofer', ' 10 Ft', ' 355 - Medium', ' 3.5+', ' 4x4', ' 1 Gallon (128 oz.)', ' Cymbal Stand', ' 23\"/24\" Concert', ' 4 inch', ' Hot Rod Deluxe', ' 8pcs 54x3W LED Stage Lights', ' 13\" Hi hat Pair', ' 3.5\"', ' One Size fits Most', ' Rudy Sarzo Signature Acoustic Bass Padded Gig Bag', ' Super Light, 7-String, 09-54', ' 5-String', ' Dual 15 inch', ' 12\", 13\" & 16\"', ' Aluminum Mute', ' 4-Channel', ' 2-Handheld', ' Ebony', ' 1.3mm | Grip', ' Extra Receivers', ' 14\" Pedalboard+Bag', ' 1.20mm', ' 6 Foot', ' Light, 32-130 (6-String)', ' Hall of Fame Mini Reverb', ' 6x4', ' SN6', ' Right Handed', ' 6-inch', ' Baritone', ' Kick Drum Bass Pedal', ' 5.4 oz', ' Light (Balanced Tension), 12-52', ' Electric Guitar - Rectangular', ' Regular Light Plus, 10.5-48', '1', ' Strength: 3.5', ' Trumpet Bell', ' A500K', ' ACH-3', ' Remote Hi-Hat Stand', ' 12\" woofer', ' Single Stand', ' Two Guitars', ' Pinky Slide', ' Mono 4-way', ' Single Set', ' Mono 3-way', ' 10 FT', ' CONCERT', ' 15 ft ra / f', ' Regular', ' Solid Top', ' 50 Pcs', ' 075 Ft', ' 12 inches Panels', ' 5AB', ' 358 - Thin', ' Strength 4', ' 5-Inch (pair)', ' Bundle w/ Amplifier', ' full-size', ' Light, 45-100 (2-Pack)', ' 25 ft ra / f', ' 100 patterns', ' 1-Channel', ' 4/4-size', ' DMX512 Controller', ' 44-Key', ' 6Ft 8 Pack', ' 13-inch', ' Wireless Remote', ' 4U Rack Space - Powered', ' Single Tier', ' .017 gauge', ' Size 1/2', ' 15 ft', ' 16.70 x 17.70 x 39.80 inches', ' 10.2ft/3.1M', ' 3-Soft, Filed', ' 43 X 6', ' 10 FT / straight - rectangular', ' Bluegrass', \" 15'\", ' Regular Light, 10-45', ' /w 2nd Tier', ' 5\"', ' 18\"', ' L6', ' Guitar Wall Mount Hooks', ' 88 Note Large', ' Presentation', ' Medium, 50-105 (2-Pack)', ' Strength 1.0', ' Pack 1', ' Protects 4 Mouthpieces', ' 10 keys Light Yellow', ' Medium, 7-String, 11-64', ' 3-Pack with Adapter', ' Super', ' Backplates (0991324000)', ' 15ft', ' MIDI2+', ' 1 Pair', ' Backplates', ' x4', ' 4U Rack Space', ' 0.38mm', ' Acoustic', ' Large Pointed Tip', ' 6.6ft/2M', ' 20x18 Bass Drum', \" 3'\", ' 7.7 x 5.7 x 3 inches', ' 1Ft 2-Pack', ' 7.5\"', ' Size 4/4 (full size)', ' Baritone Medium, 14-68', ' 1-meter', ' 101 Mixed Picks', ' Heavy Weight, Tripod Base', ' 3-Guitar Rack', ' 25-Pack', ' 20-inch', ' Collectors Tin', ' .022 gauge', ' Size 1/4', ' Mini-sized keys', ' 24 Pack - Assorted Colors', ' 1 foot', ' 22\"', ' 11-49', ' .88mm | Smooth', ' 5 PCS / Pack', ' 60 FT', ' Custom Light, 45-105 (2-Pack)', ' 3/4 Size Acoustic', ' 10 Inch', ' Various', ' 6 output', ' 20 pack', ' 1.5 Foot (18 Inch)', ' Flashback Mini', ' 12 Channel', ' 4-channel', ' Bundle w/ Cables', ' 12 String Extra Light | M180', ' 15 Watt', ' Includes Lav and Handheld Mics', ' 0.6', ' Super Light, 40-95 (2-Pack)', ' 16-Channel, 10-ft', ' Les Paul Guitar', ' Lt. Top/Med. Bottom, 12-56', ' Universal', ' 3 ft', \" 10'\", ' 12-in.', ' 9W portable water effect light', ' UR824', ' UPC-424', ' Strength 2.5', ' 0.63mm', ' 1 Quart', ' 8U Rack Space', ' Medium Tip', ' 3Ft 4 Pack', ' 100 Ft', ' 50 Feet 2 Pack', ' 1/2 Classical', ' SR10 - 10\" 12\" 2x14\"', ' 2000', ' Medium gauge', ' EON612 Speaker', ' 12x9 Tom', ' 20\" Cymbal Bag', ' Full Size, Right-Handed', ' 6.8 oz', \" 25'\", ' Bluegrass Lt.Top/Med. Bottom, 12-56', ' Lt B, Long Scale (.130)', ' 2pcs', ' 80/20 12 String Extra Light | MSP3600', ' Single Kit', ' 16-channel', ' Extra Light, 10-47', ' 1.5', ' 40-95', \" Extends: 3.9' Feet\", ' 25 Ft 2 Pack', ' 50 Ft - 1 Pk', ' 8\" Speaker', ' 6 + 2 channels', ' UPC-500', ' 5 Case Rack', ' Beefy', ' UR28M', ' Snare Drum Stand', ' 3/4-size', ' 3/4 Size, Left-Handed', ' Electric Bass Guitar Padded Gig Bag', ' Viola', ' 14 Inch', ' 3Ft 8 Pack', ' 8-Channel, 10-ft', ' Case', ' 4.75 oz', ' 6\"', ' 1 PK', ' 5 Feet', ' Pro Strat & Tele Style', \" 20'\", ' Cymbal Straight Stands 2 Pack', ' 2.0-Soft, Filed', ' 1.40mm', ' 8PC', ' 11W, 1 PACK', ' 0.46', ' LU-21 Tenor', ' 3.0', ' 1.14mm', ' 20  Feet', ' Extra Light .010 .014 .023 .030 .039 .047', ' Jumbo', ' 75', ' 20ft Straight', ' Snap Hook', ' 8 String', ' Super Light Top/Reg. Bottom, 09-46', ' Base Model', ' Large Format 12\" Speakers', ' one size', ' 9 Inch', 'F', ' 32ft', ' 358 - Extra Heavy', ' 17 Key', ' Three Guitars', ' .018 gauge', ' Stratocaster LH - 11 Hole', ' Assorted', ' 30-Medium', ' 0.80mm', ' 22\"x46\"', ' Concert Ukulele', ' Carbon 4/4 - Full Size', ' 3 Space, 20\"', ' Double Lavalier (for Cameras, Recorders, etc)', ' 20\"x30\"', ' Extra', ' 18 Foot', ' Normal', ' 351 - Medium', ' 7-Piece', ' 8\" Single Row', ' 35W', ' Deluxe Reverb', ' 22\" Cymbal Bag', ' Concert Size', ' 13-56', ' 0.88mm', ' Heavy', ' 15-in.', ' 4 Space, 20\"', ' 5 PK', ' 14-in.', ' 10.4\" x 13.0\"', ' 12 Space, Pocket-20\"', ' 900 Series', ' 6.6 Feet', ' 2.0-Hard, Filed', ' Bass', ' 14U Rack Space', ' .080 gauge', ' 3-INCH', ' PA System', ' 2 FT', ' 4 Inch', ' Flashback', ' Pro Junior', ' Light/Medium', ' 50ft', ' EXTRA', ' 80/20 Custom Light | MSP3050', ' 20 Foot', ' 5A', ' 10 Feet', ' Vented', ' Extra Short Scale', ' 22-Inch (Regular)', ' 5-Pack', ' 10PC', ' 22cm', ' 1000 Watt', ' 1/4 Size', ' 1/16', ' Drum set', ' 10 keys Red Wood', ' 4PCS 18 X 3W', ' 10 Ft 2 Pack', ' Light, 45-100 (Double Ball End)', ' 13\", 14\", 18\" Set', ' 1 Cable', ' Acoustic Guitar Padded Gig Bag', ' .015 Inch', ' Connector-free', ' 12\" woofer BATTERY', ' 37-Key', ' 200 Pcs', ' 5.0mm Round Tip', ' 21-in.', ' EON615 Speaker', ' Super-Light, Red', ' Female Coupler', ' 14 inch', ' 3 Pair', ' 16cm', ' 0.56mm', ' SD-1 Super Overdrive', ' Large Short', ' w/ 10\" Throne', ' Standard Profile', ' Condenser Handheld System', ' Soprano Ukulele Case', ' Triple', ' 1 Ft 2 Pack', ' 70W, 1 PACK', ' 346 - Heavy', ' 12 Foot', ' 45-100', ' 50 feet', ' 2 PACK', ' #9', ' Telecaster - 8 Hole', ' Pro Series Music Stand with Accessories', ' 50 Feet 2 PK', ' 22.3\" x 15.0\"', ' N1', ' Multi', ' Heavy, 14-59', ' Tenor w/ Gloss Finish', ' MANDO', ' 19\" Length', ' Strength 3.0+', ' DD-7 Digital Delay', ' Kit', ' 7-Inch', ' 6-inch Woofer', ' 25 Feet', ' Rudy Sarzo Signature Electric Bass Padded Gig Bag', ' 4-Holder Guitar Stand', ' Light, 12-52', ' 20\" Pedalboard+Bag', ' LU-11 Soprano', ' 20cm', ' 80/20 Extra Light | MSP3000', ' 1202FX', ' 3 Space, 10\"', ' 5.0mm Large Pointed Tip', ' 10-Heavy', ' Medium, 50-105 (Double Ball End)', ' 6U Rack Space - Shallow', ' 1Ft 2Pack', ' 12U Rack Space', ' On Stage Hickory 5A Wood Drumsticks 12 Pairs', ' Light, 12-53', ' 3 Feet 2 Pack', ' 9.5\"x 9.25\"x 2.75\"', ' 15-foot', ' 6 inch', ' Single Lavalier (for Phones & Cameras)', ' ABL-3', ' 06ft', ' 4 * 18 * 3 W', ' Adapter', ' 2.5', ' 0.72 mm', ' 100ft', ' 14x14 Tom', \" 9.0'' x 12.0''\", ' -inch', ' 8-38', ' 3/4 Size', ' 8-Pack', ' Aluminum alloy capo', ' Key of E', ' 1/2 Scale', ' Small (25.25\"-40.25\")', ' Medium (10-46)', ' 4/4-size (full-size)', ' Body Rez', ' .94mm', ' 2 Foot', ' 88 Note Slimline', ' 10-Inch', ' 30-Heavy', ' MSP300 Microphone Stand 3-Pack', ' 800 watts', ' 4/4 Scale', ' DMX512 Control', ' Twin Reverb', ' Cust. Lt. (.011-.052)', ' 3L3R', ' X-Large', ' 15', ' Strength 4.0', ' 3-Pack', ' Concert Sized', ' Stratocaster - 8 Hole', ' 11-42', \" 9-46'\", ' Adult Size (Medium)', ' 2.5\" Wide', ' 3\" Width', ' 500k', ' Tenor', ' Medium, 50-105', ' 5.5\"', ' Acoustic Guitar Bag', ' Lt Medium, Long Scale (.045-.105)', ' WI-921 & WI-922', ' .71mm', ' 1/8 Scale', ' XL', ' Size 4/4 (Full Size)', ' 5.25\"', ' 1pcs', ' 5/8', ' 10x9 Tom', ' Furry', ' One Sticker', ' 4/4', ' Baritone, 16-70', ' Slim 88-Note', ' 0.917 Foot (11 Inch)', ' TRS', ' Custom Light', ' 1.50mm', ' 3 Space, 14\"', ' Light, 10-44', ' Regular Light, 12-String, 10-46', ' 80 watt', ' 45-105', ' Skinny Top Heavy Bottom', ' 13\", 18\" Set', ' 25k', ' 42 x 3.5 x 4mm', ' Soprano Sized', ' 10-Pack', ' 015 FT', ' 2\" Width', ' 1 Space, Vent', ' 27 Inches - 39 Inches', ' 8-Inch (pair)', ' 6in', ' 0.45mm', ' Concert Mahogany', ' MI0658', ' 6pcs', ' MPK Mini', ' 1.3mm, 30 Pack', ' Super Light, 9-41', ' 0.5 Feet', ' Resophonic, 16-56', ' 42 x 6 x 3mm', ' Medium, Blue', ' 0.833 Foot (10 Inch)', ' 12 LED RGB 3 IN 1 Stage Lighting', ' 358 - Heavy', ' Light, 12-String, 10-47', ' 10U Rack Space - Standard', ' Single Transmitter/UHF', ' Tenor Ukulele Case', ' Height adjusts from 28\" to 52\"', ' 14x12 Tom', ' 8 Packs', ' 20 ft ra / f', ' MIDI4+', ' 5BB', ' 12\" Pair', ' Skinny Top - Heavy Bottom', ' 19\"', ' 25-Feet', ' Ukulele', ' 4-pad', ' 20\" Kick', ' Stratocaster - 11 Hole', ' 20-input', ' 20 ft', ' 12 Feet, 2 Pack', ' 30 Watt', ' TENOR', ' 075 FT', ' 5-String Bass', ' 0.500 Foot (6 Inch)', ' Light Gray', ' Rock Tom Pack (10\", 12\", 16\")', ' Size 3/4', ' Med. Top/X-Hvy. Bottom, 11-56', ' 6-Pack', ' 2 Feet', ' 16x14 Tom', ' 61-Key', ' Suede Strap', ' Med. Top/Hvy. Bottom, 12-String, 12-54', ' On Stage Maple 5B Nylon Drumsticks 12 Pairs', ' 12\" - 14\"', ' .019 gauge', ' 50 on String', ' 20 - Feet', ' 5B', ' 2 meters', ' Combo', ' 8-inch Woofer', ' 2U Rack Space', ' 1.35mm', ' #4', ' Microphone Stand', ' 12\"x 12\"x 5.5\"', ' 4-inch Woofer', ' Hawaiian-Concert', ' 020 FT', ' 1.26 mm', ' 1.5mm | Smooth', ' .036 gauge', ' Blues Junior', ' 2 piece', ' Medium C (.032)', ' Frailing', ' 15\" Speakers', ' Long', ' Medium Tension', ' Medium, 13-56', ' 10-Medium', ' Polytune', ' N4', ' 17.00 x 15.50 x 40.00 inches', ' 1 TX / 1 RX System', ' Soprano - 2 Pack', ' Double Guitar', ' 8-Inch', ' 1 Space, Blank', ' 60W LED', ' Two-Pack', ' 451 - Extra Heavy', ' OU2 Concert', ' 6-Channel / 2-Bus', ' 12 String, Medium (.012-.053)', ' 11-52', ' 13.1 Feet', ' Short Base', ' Tripod', ' 50-ft Cable', ' 6 Inch', ' Dreadnought', ' 2x10\" 450W', ' 1-Pack', ' 0.72mm', ' 50\" Long - Dual Compartment', ' Thin Line', ' 7.5\\'\\' x 9.1\"', ' 800W', ' 0.5 Feet 2 Pack', ' XXL', ' Medium (27.5\"-44.25\")', ' 2.50 x 4.00 x 31.00', ' 0.50 mm', ' Acoustic Guitar', ' RGBW 64 Led 10 Watt Stage Laser Light', ' Dreadnaught Adirondack', ' 2.5\" Thick (12 Pack)', ' 75 Heavy', ' 49-Key', ' 1.5ft', ' 14cm', ' 25 Foot', ' 6ft', ' Music Stand', ' 4 Cables', ' 20ft Angle', ' Learn to Play Kit', ' Irish Tenor Banjo, 12-36', ' 16-Channel, 30-ft', ' 10 feet', ' Cedar', ' 4.5\"', ' 30  Feet', ' M7', ' 49 Keys', ' 35 Feet 2 PK', ' 10-46', ' .012 gauge', ' T20RP', ' Med. Blues/Jazz, 11-49', ' 15.5\"x 15\"x 5.5.\"', ' 9 String', ' 48 Pack - Assorted Colors', ' 3 PK', ' 3-Pack Universal Clip', ' Group IV', ' Extra Super Light, 35-95', ' 0.63 mm', ' Up to 24\" Cymbals', ' MT-1', ' Ukulele/Mandolin/Violin', ' Jazz Light, 12-51', ' 2.0-Medium, Unfiled', ' Left Handed', ' Standard Size Acoustic', ' Junior', ' Extra Light (7-38)', ' Slim Long 88-Note', ' 8 Pack', ' 0.45 mm', ' Light, 45-130 (5-String, Double Ball End)', ' Strength 5.0', ' 1.00 mm', ' Extra-Heavy', ' 5.0mm Pointed Tip', ' Allegro 2', ' 50 Medium', ' 2.0-Medium, Filed', ' UPC-688', ' Big', ' Large', ' Resophonic Guitar, 16-56', ' 88 Keys', ' 22\" Kick', ' Dreadnought Guitar', ' CD-140SCE', ' Bb', ' 10ft', ' Dreadnaught Sitka', \" 8-38'\", ' 2 Pieces', ' 22\" Slinger', ' 2 Pack Cymbal Stands', ' 20\"x 20\"x 5.5\"', ' 45-125', ' Bridge Pin-6Bk-6Wt-Stringwinder', ' DS-2 Turbo Distortion', ' 1.5mm', ' 20 watts', ' 21in', ' 025 Ft', ' 10\"', ' Concert (Deluxe)', ' Cardioid', ' 16-pad', ' Upgraded', ' Body Pack System', ' 28\" x 16\" x 4\"', ' 3 Ft.', ' 15-Inch', ' 15 Feet', ' 1.52mm', ' Pro Series Music Stand Bag & Gear Bag', ' 26\"', ' 1.90 mm', ' 2', ' Double Kick', ' 3-Medium, Unfiled', ' 6U', ' 3/4 Size, Right-Handed', ' 15 Ft 2 Pack', ' 24 Pack', ' 21inch', ' A Frame', ' Super Light (.009-.042)', ' 6 Ft', ' ADL-3', ' 14-Inch', ' 8 Channel', ' 30 Feet', ' No Case', ' 1.07mm', ' 000 Sitka', ' 61-76 Keys', ' Protects 3 Mouthpieces', ' F', ' Backplates (0991320000)', ' MT-5', ' 9.5\"', ' Full-sized', ' 88 Key', ' 12 + 2 channel', ' Ebony With Pearl Dot', ' 5 oz', ' Battery Lavalier', ' 12-inch', ' 1 Handheld & 1 Lapel, 1 Headset', ' 10-48', ' 1000U', ' Three-Pack', ' hook', ' Double Tom Drum Stand', ' Slim 76-Note', ' 8-Channel, 100-ft', ' Mandolin', ' Medium (.013-.056)', ' 10 ft', ' MIDI1', ' Rock & Blues', ' 6 Ft.', ' 23/24in', ' 4U (7\")', ' Version 3', ' Bundle w/ Hard Case', ' SM58-LC Vocal', ' 50 watts', ' 92/8 High Tuning | MSPHT10', ' Key of C', ' 10 FOOT METAL END', ' Set', ' Standard Tom Pack (12\", 13\", 16\")', ' Custom Medium', ' VLH30', ' Light  (.010-.034)', ' 5 ft', ' 60', ' X-Long', ' Tom 16 x 16\" (hgt x dia)', ' 25 FT', ' Pro', ' PRO 14 - 8 inputs (2 mic pres) / 6 outputs', ' Extra Super Light Plus, 8.5-39', ' 76 Note Keyboard', ' RC-1 Loop Station', ' #1', ' 12 FT', ' 3 Ft - 10 Pk', ' 346 - Medium', ' 10-ft Cable', ' 25 on String', ' Strength: 3', ' 22.5 x 11.5 x 4-Inches', ' Version 1', ' 3 PACk', ' .90mm', ' 12-String', ' Dual 12 inch', ' 2 Space, 12\"', ' Channel D', ' Custom Light .011 .015 .023 .032 .042 .052', ' Light, 45-130 (5-String, 2-Pack)', ' F ree', ' 18 Ft 2 Pack', ' 49L x 17W x 6D 88 key', ' 2U Rack Space - Shallow', ' Standard', ' Two Pack', ' 1/4 Scale', ' 15 FT', ' FMT-206RC', ' 4/4 size', ' 010 FT', ' \" Phone Plug', ' Keyboard Stand Adapter', ' 1/8-size', ' 8 pcs Pack', ' Guitar/Bass', ' 13-in.', ' 1 Pack', ' Channel K', ' 3-Hard, Filed', ' .018 Inch', ' 3 feet', \" Extends 2.62' Feet\", ' 20 feet', ' 14\" x 36\"', ' 2 Pcs / Pack', ' Protects 1 Mouthpiece', ' Medium, 11-45', ' T40RP', ' Light, 45-100', ' High-Strung/Nashville Tuning, 10-26', ' 18-inch', ' Medium, Balanced Tension, 11-50', ' Double', ' 60 Pcs', ' 17\"', ' 45', ' .0095 gauge', ' 1602FX', ' 70W', ' BARITONE', ' 8 * 18 * 3 W', ' Medium (.011-.040)', ' 1 Fader Control Surface', ' 015 Ft', ' Group I', ' 21 inches', ' Jazz Light, 11-50', ' 0.66mm', ' M-size', ' Old Model', ' 10-50', ' 50 Ft 2-Pack', ' Baritone (Deluxe)', ' 1/10 Size', ' 1/2 Size', ' SMS6000 Pair', ' A0496', ' 20 Space, 20\"', ' 1\"', ' 6U Rack Space', ' concert', ' Full Set', ' 24 Inch', ' 1.4mm | Smooth', ' 2U Rack Space - Standard', ' MS7 Microphone Stand', ' .011 gauge', ' Key of D', ' Two Stands', ' 1/2-size', ' .020 Inch', ' Acoustic Mini Jumbo Guitar Bag', ' 54W', ' StampWithPad', ' Portable Guitar Stand - 2 Pack', ' 4-pin Female Connector', ' Snare 6.5 x 14\" (hgt x dia)', ' Blues Deluxe', ' 42 X 3.5', ' 2ft', ' 10\" - 12\"', ' 88 LB', ' 4U Rack Space - Rolling', ' 346 - Thin', ' Soprano', ' 51', ' Cymbal Boom Stands 2 Pack', ' 16U Rack Space', ' 18W, RGB', ' 1 Feet', ' 351 - Thin', ' 1x12', ' Concert', ' With Bell', ' Super 7A', ' .059 gauge', ' 35ft', ' 16 Channel', ' Tripod - 2 Pack', ' 60 Pack', ' 1 Polish', ' Medium', ' 2.0mm | Grip', ' 1/2\"', ' 50 ft', ' 5AN', ' Jazz Light, 12-52', ' 3/4 Size Classical', ' Electric Guitar + Amp', ' 48 Pack - California Clear', ' Lt. Top/Hvy. Bottom, 10-52', ' Extra Heavy', ' Heavy, 55-110', ' 12 Feet', ' 5 inch', ' EA', ' 10U Rack Space', ' Head', ' Medium, 10-23', ' One Set', ' 6 pack', ' 3.0mm Large Pointed Tip', ' THREE PACK', ' 5W', ' Strength 2', ' 40-100', ' Short Scale', ' 40 watt', ' 9\"', ' Single Guitar', ' 12 + 2 channels', ' Extra Light, 10-48', ' Cardioid Lavalier Microphone', ' 5 pcs Pack', ' 3.0mm Pointed Tip', ' 6.5\"', ' Beginner bundle', ' Electric Concert', ' Combo Clip', ' Full Size', ' New version', ' Jazz Medium, 13-56', ' Ballistic Nylon', ' Medium Weight, Single-Braced', ' 15 inch', ' N6', ' 700W', ' OU2E Concert Electric', ' 8 Space, 14\"', ' True Medium, 13-56', ' .018', ' 6Ft 2Pack', 't', ' 2PC', ' 76-Note', ' Deluxe Case', ' 10\", 12\" & 16\"', ' 8 Inch', ' 20 Watts', ' Super Lt B, Lng Scale (.125)', ' 1.5 meter', ' .013 gauge', ' 6 Space, 20\"', ' Headset and Lavaliere', ' 10 Cables', ' UPC-535', ' 5pc Standard Set', ' 20 Watt', ' Electric', ' H7', ' with T1 ToneMatch', ' 4U Rack Space - Shallow', ' 12 Inch', ' Bridge', ' 12 Channels', ' 3-inch Woofer', ' 12 Feet 2 Pack', ' Balanced Light (10-48)', ' Acoustic Bass Guitar', ' 2 TX / 1 RX System', ' Hybrid', ' Electric Bass', ' 15 feet', ' 6', ' LU-21 Concert', ' Ground Fogger', ' 16-in.', ' 8-Channel', ' Standard 2', ' 24-Inch (Tall)', ' 6 PK', ' 18.5-in-withBag', ' 30 Channel', ' 6-foot', ' 8PCS 18 X 3W', ' 6 Meter 3', ' Extra Heavy Drop', ' 5-inch', ' 20\"', ' 24-inch', ' 16 inch', ' 5PCS 18 X 1W', ' 2 PC', ' Small Vents', ' 10 pcs Pack', ' Lightweight, Double-Braced', ' .73mm Orange', ' 0.94mm', ' 3ft', ' 5 pack', ' Jazz Extra Light, 10-49', ' Med. Top/X-Hvy Bottom, 11-56', \" 15.0'' x 15.0''\", ' J1: 554-590 MHz', ' Super Reverb', ' 10-inch', ' Super Light, 40-125 (5-String)', ' Standard - Powered', ' PRO 40 - 20 inputs (8 mic pres) / 20 outputs', \" 4.0'' x 12.0''\", ' Large Vents', ' 15 Inch', ' 10x8 Tom', ' Triple Guitar', ' Violin', ' .013 Inch', ' 20 Ft', ' Extra Large', ' Small Format 12\" Speakers', ' 3-Medium, Filed', ' Bass Guitar Bag', ' 18 inch', ' .60mm', ' 300 watts', ' 12-Inch', \" 100'\", ' 1/4-size', ' Bluegrass Lt. Top/Med. Bottom, 12-56', ' Large Round Tip', ' 22.5\" x 17.8\"', ' .020 gauge', ' PO-14', ' Double Guitar Stand', ' 14\"', ' DD-3 Digital Delay', ' 150 Watt', ' RC-3 Loop Station', ' .020', ' 4 Pack,No remote function', ' 20\"x25\"', ' Long Scale', ' 5-Piece', ' 100 FT', ' On Stage Hickory 7A Nylon Drumsticks 12 Pairs', ' x1', ' Keyboard & Power Supply', ' 2L2R', ' 88-Note', ' 6.5\" Speaker', ' 16', ' 200 watts', ' One Hand Clutch', ' On Stage Hickory 5B Nylon Drumsticks 12 Pairs', ' 7 Pack', ' 3X12.8X10.8', ' Light, 45-130 (5-String)', ' Extra Long 88-Note', ' 1x10\" 40W', ' Regular Light, Balanced Tension, 10-46', ' 6-pack 15cm', ' 18\"x 18\"x 5.5\"', ' Affinity HSS', ' 6 foot', ' Dynamic Handheld System', ' Jazz Light, 7-String, 11-65', ' 16 Ohm', ' Electric Guitar Bag', ' 5-Inch', ' 0.80 mm', ' .015', ' 1.5mm | Grip', ' Custom Light, 11-52', ' 6ft/ 1.8m', ' On Ear', ' 5/8\"', ' 250k', ' 100 Watt', ' Guitar', ' #2', ' StampOnly', ' 5 Keys Rosewood', ' 3 Foot', ' 3cm', ' .73mm | Grip', ' Stratocaster - 11 Hole (Modern)', ' 18\" x 13\" x 3\"', ' 1 Piece', ' Single Transmitter/VHF Vertical Receiver', ' .010 gauge', ' Regular Light, 10-46', ' Slinky', ' 6 Ft, 2 Pack', ' Over Ear', ' 6U Rack Space - Standard', ' Mix12FX', ' 1 Ft', ' #8', ' Bundle w/ Tuner', ' 16x16 Tom', ' Handheld', ' REGULAR', ' 1/8 Size', ' Strat/Tele Electric', ' 1/8', ' Heavy, Pink', ' 4pcs', ' Lt. Top/Hvy Bottom, 10-52', ' Power 5A', ' 1 Foot', ' Light (12-String), 10-47', ' 20 watt', ' 10ft Straight', ' 43', ' Hot Rod Deville 4x10', ' L', ' K7', ' 7C', ' Small', ' 8-Channel 100 ft', ' 8x8 Tom', ' Channel N4', ' 12 Space, 12\"', ' Super Light', ' 1.07 mm', ' 8W', ' Soft', ' 3 Sets Light', ' Strength 5', ' 18 Feet', ' 12x10 Tom', ' Suede Strap & Pick Sampler', ' Strength 3.5', ' Super Light, 8-String, 09-65', ' .73mm', ' Soprano/Concert', ' 30 - Light/Heavy', ' 12 String, Heavy (.013-.056)', ' 000-size Adirondack', ' 355 - Heavy', ' Channel N5', ' Extra Super Light, 08-38', ' 75W LED', ' TWO PACK', ' 55-105', ' 6 feet', ' 3 Ft 2-Pack', ' 12-Pack', ' Strength 3', ' .88mm Green', ' .80mm', ' 802FX', ' Dual Speaker Stand Bag', ' type 2', ' One Guitar', ' 60 watts', ' Extra-Super Light, 8-39', ' 4 oz', ' 1-pack', ' Medium, 12-String, 12-52', ' 7-String', ' Small Medium Large X-Large 2X-Large', ' 50\" Long - Single Compartment', ' 1 Pack,No remote function', ' On Stage Maple 5B Wood Drumsticks 12 Pairs', ' 18x16 Tom', ' 61-Note', ' P115', ' 1.14 mm', ' 15 Feet RA Female', ' 351 - Heavy', ' Channel N1', ' Bundle w/ Power Supply', ' 4 String', ' 100 ft', ' Key of G', ' 4 Space, 14\"', ' UR242', ' 3.00 x 3.00 x 26.30 inches', ' 1.5 Feet RA Female', ' 050 Ft', ' 15cm', ' 10 watts', ' 18-Inch', ' 61-key', ' 700 Series', ' MojoMojo Overdrive', ' 4PC', ' 400 Watt', ' 23\"', ' Dual Transmitter', ' Ditto Looper', ' 50-foot', ' 2-Pack', ' Super Light Plus, 9.5-44', ' Single Pack', ' Tele', ' Heavy gauge', ' Keyboard Stand', ' 14\" Snare Drum Bag', ' SINGLE', ' Omni Lavalier Microphone', ' DS-1 Distortion', ' 007', ' 22x18 Bass Drum', ' Pro LP Style', ' Light, 32-130 (8-String)', ' 1ft', ' Desktop Amplifier', ' 10 FT / straight - straight', ' .50mm', ' Drum Throne', ' 6 FT', ' 11-50', ' 12 LED 60 Watt RGB Strobe Light', ' 1.26mm', ' 8 Space, 20\"', ' 100-Pack', ' Medium/Heavy', ' Heavy, 12-54', ' 10 FOOT MOLDED END', ' !Only Bluetooth 2.0', ' 12-52', ' 19 inch', ' 7AB', ' Large Long', ' 1 Set', ' 50-105', ' Tenor Banjo, 9-30', ' 35\" x 19\" x 3\"', ' 025 FT', ' 6-String', ' Telecaster - 5 Hole', ' SM57-LC Instrument', ' 6\" Length', ' 600 Series', ' 21\"Soprano', ' Group II', ' 1 Gallon', ' 10mm Gig Bag', ' Trombone Fiber', ' Medium Light', ' Standard Dreadnought', ' .009 gauge', ' 30cm', ' 355 - Thin', ' Learn to Play kit', ' Straight Stand', ' a mode'}\n",
      "Length:: {'t', ' 20ft - Right Angle to Straight', ' 9.8 Feet', ' 6 inch', ' 10ft - Straight to Straight', ' 6 Feet', ' 6 ft', ' 30 Feet', ' 6 Feet 2 Pack', \" 20'\", ' 18', ' 43', ' 6.6 feet', ' 75ft', 'f', ' 15 Feet', ' 25ft', ' 100ft', ' 9', ' 24.00', ' 10ft', ' 3M', ' 5 feet', ' 14', ' 25 Feet', \" 10'\", ' 6 Foot', ' 20 Feet', ' 18 Foot', ' 15 ft', ' 1.5ft', ' 15 feet', ' 3 Feet', ' 20ft', ' 6', ' 21', ' 10', ' 22.00', ' 12 Foot', ' 21.00', ' 50ft', ' 25 feet', ' 25 Foot', ' 28.00', ' 6ft', ' 20 Foot', ' 10 Feet', 'e', ' 2 Feet', ' 9.9 feet', ' 150ft', ' ', ' 10 feet', ' 3 Foot', ' 30', ' 16ft', ' 18 inch', '0', ' 1 Feet', ' 50-foot', ' 10 Foot', ' 3ft', ' 15ft', '1', ' 20ft - Straight to Straight', ' 3 Feet 2 Pack', ' 10ft - Right Angle to Straight', ' 20', ' 12', ' 5 Feet', ' 6.6 Feet', ' 16 Feet'}\n",
      "Configuration:: {' Basic', ' Base', ' Maple Fretboard', ' Pedal', ' Keyboard Bench', ' Deluxe', ' Solid Top', ' Stand, Headphones & Power Supply', ' System', ' Keyboard & Power Supply', ' Starter Pack', ' Piano Only', ' Advanced Bundle', ' Guitar with Case', ' Receiver only', ' Without Cymbals', ' Electric Guitar', ' Trumpet only', ' Flute', ' Brass', ' Standard Pack', ' Accessory Pack', ' Headphone Amp', ' UMC204HD', ' Microphone', ' Guitar', ' Bundle w/ Stand', ' Voltmeter', 'p', 'i', 'h', 'o', ' Casio Adapter for Casio Keyboards', ' Hardware Pack', ' Silver', ' Bundle w/ Headphones', ' Acoustic', 'n', ' Ukulele', ' XENYX 1202FX', ' Laurel Fretboard', ' Processor', ' Software Bundle', ' Digital Piano Only', ' Keyboard', ' Rosewood Fretboard', ' Stand, Headphone & Power Supply', ' Speaker', ' Cork Grease', ' Controller', ' World Tour Adapter for Casio Keyboards', ' Acoustic-Electric', ' P16-M', ' Left Handed', ' Single Unit', ' Intermediate Bundle', ' Soprano', ' Guitar Only', ' Digital Piano', ' Media Pack - Bolt Stand', ' LED bar', ' Workstation', 'M', ' All Solid', ' Drum Kit', ' Drum Shell Pack', ' Interface', ' Stand, Headphone, Power Supply & Software', ' Piano and Stand', ' Gigmaker Package', 'c', ' Essentials Bundle', ' AMPLIFi', ' Right Handed', ' Frozen Bundle', 'e', ' ', ' Mixer', ' Bolt Stand Pack', 'r'}\n",
      "Style Name:: {'t', 'S', ' Alto Saxophone', 'n', ' Red, Wood', 'g', ' Trombone / Alto Sax / Clarinet', ' Keyboard Stand', 'f', ' SMS-22', ' Standard Depth', 'y', ' Powerstroke P3 Coated Top Clear Dot Snare/Tom', ' Grip', 'u', 'a', ' Compact / Practice', ' Hanging Style w/ Self Closing Security Yoke and Locking Legs', ' Ambassador Coated Bass', ' Strength 2.5', 'C', 'k', 'd', 'c', 'L', ' Tenor Saxophone', ' SMS-30', ' 2558A - Blue Steel Electric LTHB', '/', 'l', 'e', ' SMS-20', 's', ' Tuba / Tenor Saxophone', ' ', 'H', ' SMS-32', ' Strength 3.5', ' GA-1 Guitar/Bass Tuner', 'i', 'w', 'o', ' Mega', ' Short', 'Y', ' Swivel Hook', 'r', ' Side Key Risers'}\n",
      "Model Number:: {'5', ' AC10C1', ' CM4158', 'M', ' SM822E', ' SM812M', 'C', ' AC15C1X', ' SM813M', ' AC15C1', ' AC4C1BL', ' SM824E', '4', ' ', ' SM823E', ' SM825E', '8', ' AC30C2', ' AC30C2X', '1', ' SM811M'}\n",
      "Item Package Quantity:: {' 10', ' 4', ' 8', ' 3', ' 2', '1', ' ', ' 25', ' 100', ' 1', ' 12'}\n",
      "Package Quantity:: {' 10', ' 4', ' 8', ' 3', ' 2', '1', ' ', ' 25', ' 100', ' 1', ' 12'}\n",
      "Product Packaging:: {'t', 'S', 'a', 'P', 'i', 'n', 'g', 'k', ' ', ' Standard Packaging', 'd', 'c', 'r'}\n",
      "Item Display Length:: {'0', '4', ' ', ' 22.00', ' 28.00', ' 21.00', '2', '.'}\n",
      "Package Type:: {'t', 'S', 'a', 'P', 'i', 'n', 'g', 'k', ' ', ' Standard Packaging', 'd', 'c', 'r', ' Frustration-Free Packaging'}\n",
      "Edition:: {' Pro', 'P', ' Trial', ' Professional', 'o', ' ', 'r'}\n",
      "Platform:: {'P', 'i', 'D', 's', 'C', ' ', 'c', ' PC Download', ' PC Disc'}\n",
      "style name:: {'t', 'S', '5', ' 5-String', ' Guitar', 'i', 'n', ' 4-String', 'g', ' ', '-', 'r'}\n",
      "Platform for Display:: {'P', 'a', 'i', 'l', 'x', 's', '&', 'h', 'e', 'C', 'b', ' ', 'o', 'd', 'c', ' Physical box & Code', 'y'}\n",
      "Number of Items:: {'1', ' ', ' 1'}\n",
      "Color Name:: {'t', 'a', 'P', 'l', 'i', 'h', ' Dark Black', 'g', 'k', ' ', 'c', 'L', 'r', 'B', 'y', ' Black Party Light'}\n",
      "Size Name:: {' 10FT', ' 15FT', ' 6FT', 'T', ' 3FT', '3', ' ', 'F'}\n"
     ]
    }
   ],
   "source": [
    "# style field \n",
    "styles = {}\n",
    "\n",
    "for review in parse(data_path): \n",
    "    if 'style' in review: \n",
    "        for k, v in review['style'].items(): \n",
    "            if k in styles:\n",
    "                styles[k].add(v) \n",
    "            else: \n",
    "                styles[k] = set(v) \n",
    "\n",
    "for k, v in styles.items(): \n",
    "    print(f\"{k}: {v}\")"
   ]
  },
  {
   "cell_type": "markdown",
   "id": "b001f8b6",
   "metadata": {},
   "source": [
    "The style field does likely contain info relevant to recommendation tips. "
   ]
  },
  {
   "cell_type": "markdown",
   "id": "bdb84a1c",
   "metadata": {},
   "source": [
    "## 1.4. Overall"
   ]
  },
  {
   "cell_type": "code",
   "execution_count": null,
   "id": "109e86c6",
   "metadata": {},
   "outputs": [
    {
     "name": "stdout",
     "output_type": "stream",
     "text": [
      "Mean rating: 4.47\n",
      "Median rating: 4.47\n",
      "Max rating: 5.0\n",
      "Min rating: 4.47\n",
      "Standard deviation: inf\n"
     ]
    },
    {
     "name": "stderr",
     "output_type": "stream",
     "text": [
      "c:\\Users\\bened\\anaconda3\\envs\\SINA-AT3\\Lib\\site-packages\\numpy\\core\\_methods.py:152: RuntimeWarning: overflow encountered in reduce\n",
      "  arrmean = umr_sum(arr, axis, dtype, keepdims=True, where=where)\n"
     ]
    },
    {
     "data": {
      "text/plain": [
       "(array([  7465.,      0.,   7277.,      0.,      0.,  16030.,      0.,\n",
       "         38783.,      0., 161837.]),\n",
       " array([1.        , 1.40039062, 1.79980469, 2.19921875, 2.59960938,\n",
       "        3.        , 3.40039062, 3.80078125, 4.19921875, 4.6015625 ,\n",
       "        5.        ]),\n",
       " <BarContainer object of 10 artists>)"
      ]
     },
     "execution_count": 5,
     "metadata": {},
     "output_type": "execute_result"
    },
    {
     "data": {
      "image/png": "[encoded data removed]",
      "text/plain": [
       "<Figure size 640x480 with 1 Axes>"
      ]
     },
     "metadata": {},
     "output_type": "display_data"
    }
   ],
   "source": [
    "from matplotlib import pyplot as plt \n",
    "\n",
    "# collect all Overall values \n",
    "ratings = [] \n",
    "for review in parse(data_path): \n",
    "    if 'overall' in review: \n",
    "        ratings.append(np.float16(review.get('overall', np.nan))) "
   ]
  },
  {
   "cell_type": "code",
   "execution_count": 6,
   "id": "d07988c6",
   "metadata": {},
   "outputs": [
    {
     "name": "stdout",
     "output_type": "stream",
     "text": [
      "Mean rating: 4.47\n",
      "Median rating: 4.47\n",
      "Max rating: 5.0\n",
      "Min rating: 1.0\n",
      "Standard deviation: inf\n"
     ]
    },
    {
     "data": {
      "text/plain": [
       "(array([  7465.,      0.,   7277.,      0.,      0.,  16030.,      0.,\n",
       "         38783.,      0., 161837.]),\n",
       " array([1.        , 1.40039062, 1.79980469, 2.19921875, 2.59960938,\n",
       "        3.        , 3.40039062, 3.80078125, 4.19921875, 4.6015625 ,\n",
       "        5.        ]),\n",
       " <BarContainer object of 10 artists>)"
      ]
     },
     "execution_count": 6,
     "metadata": {},
     "output_type": "execute_result"
    },
    {
     "data": {
      "image/png": "[encoded data removed]",
      "text/plain": [
       "<Figure size 640x480 with 1 Axes>"
      ]
     },
     "metadata": {},
     "output_type": "display_data"
    }
   ],
   "source": [
    "\n",
    "# mean \n",
    "print(\"Mean rating:\", np.mean(ratings)) \n",
    "# median \n",
    "print(\"Median rating:\", np.mean(ratings)) \n",
    "# max \n",
    "print(\"Max rating:\", np.max(ratings)) \n",
    "# min \n",
    "print(\"Min rating:\", np.min(ratings)) \n",
    "# std \n",
    "print(\"Standard deviation:\", np.std(ratings))\n",
    "\n",
    "plt.hist(ratings) "
   ]
  },
  {
   "cell_type": "code",
   "execution_count": 7,
   "id": "718458d9",
   "metadata": {},
   "outputs": [
    {
     "name": "stdout",
     "output_type": "stream",
     "text": [
      "Sample of review ratings:\n",
      "1 : Great concept with great instructions and CDs.  The ukulele looks nice but the chords are frustratingly out of tune even with the strings tuned.\n",
      "2 : Had to return this item. After it had been tuned and sat overnight, the neck tore away from the body of the instrument. The instruction book is very good for beginners.\n",
      "3 : Good basic guide.\n",
      "4 : good starter set up\n",
      "5 : My 14 yr. old daughter already had a ukelele that I bought on Amazon a few years ago for about the same price ($34.95), but without all the accessories that this one comes with! She's planning to give this one to her best friend for her birthday soon. Learning to play a uke is pretty easy, and it makes it easier to learn to play the guitar later on!\n"
     ]
    }
   ],
   "source": [
    "# grab a sample of each rating value \n",
    "sample_set = {\n",
    "    1: \"\", \n",
    "    2: \"\", \n",
    "    3: \"\", \n",
    "    4: \"\", \n",
    "    5: \"\"\n",
    "}\n",
    "for review in parse(data_path): \n",
    "    if all(sample_set.values()):\n",
    "        break\n",
    "    elif 'overall' in review: \n",
    "        rating = int(review['overall']) \n",
    "        sample_set[rating] = review.get('reviewText', \"\") \n",
    "    else: \n",
    "        continue \n",
    "\n",
    "print(\"Sample of review ratings:\") \n",
    "for rating, review in sample_set.items(): \n",
    "    print(rating, \":\", review) \n",
    "        "
   ]
  },
  {
   "cell_type": "markdown",
   "id": "a7c8b511",
   "metadata": {},
   "source": [
    "Based on this very cursory overview, overall=3 seems like a reasonable cut-off point for forming a recommendation edge. (remember that we need to denormalize ratings values though). For a more rigorous approach we could integrate sentiment analysis. "
   ]
  },
  {
   "cell_type": "markdown",
   "id": "a0891ff4",
   "metadata": {},
   "source": [
    "## 1.5. Product Metadata "
   ]
  },
  {
   "cell_type": "code",
   "execution_count": 20,
   "id": "63c6198e",
   "metadata": {},
   "outputs": [],
   "source": [
    "from IPython.display import display, HTML \n",
    "\n",
    "data_dir = os.path.join(project_dir, \"data\")\n",
    "metadata_path = os.path.join(data_dir, \"meta_Musical_Instruments.json.gz\") \n",
    "\n",
    "def show_field(field, path=metadata_path, html=False, num_samples=1): \n",
    "    i = 0\n",
    "    for product in parse(metadata_path):\n",
    "        if i == num_samples: \n",
    "            break \n",
    "        elif product.get(field): \n",
    "            i += 1\n",
    "            if html: \n",
    "                display(HTML(product.get(field))) \n",
    "            else: \n",
    "                print(product.get(field)) \n",
    "        else: \n",
    "            continue"
   ]
  },
  {
   "cell_type": "code",
   "execution_count": 48,
   "id": "0c04e08f",
   "metadata": {},
   "outputs": [],
   "source": [
    "ignore_fields = [] "
   ]
  },
  {
   "cell_type": "code",
   "execution_count": 49,
   "id": "ca513610",
   "metadata": {},
   "outputs": [],
   "source": [
    "ignore_fields.append('asin') "
   ]
  },
  {
   "cell_type": "code",
   "execution_count": 50,
   "id": "34ded0f2",
   "metadata": {},
   "outputs": [],
   "source": [
    "# treat also_buy and also_view as edges rather than attributes\n",
    "ignore_fields.extend(['also_view', 'also_buy']) "
   ]
  },
  {
   "cell_type": "markdown",
   "id": "c37a37c7",
   "metadata": {},
   "source": [
    "### 1.5.0. Possible Keys"
   ]
  },
  {
   "cell_type": "markdown",
   "id": "e28f7520",
   "metadata": {},
   "source": [
    "Inspect possible keys"
   ]
  },
  {
   "cell_type": "code",
   "execution_count": 24,
   "id": "ab7637d1",
   "metadata": {},
   "outputs": [],
   "source": [
    "# inspect possible keys \n",
    "meta_keys = set() \n",
    "\n",
    "for product in parse(metadata_path): \n",
    "    for k in product.keys(): \n",
    "        if k not in meta_keys: \n",
    "            meta_keys.add(k) "
   ]
  },
  {
   "cell_type": "code",
   "execution_count": 25,
   "id": "6c2a2520",
   "metadata": {},
   "outputs": [
    {
     "name": "stdout",
     "output_type": "stream",
     "text": [
      "rank\n",
      "tech2\n",
      "main_cat\n",
      "tech1\n",
      "date\n",
      "brand\n",
      "also_view\n",
      "fit\n",
      "title\n",
      "imageURL\n",
      "price\n",
      "category\n",
      "details\n",
      "feature\n",
      "similar_item\n",
      "description\n",
      "also_buy\n",
      "asin\n",
      "imageURLHighRes\n"
     ]
    }
   ],
   "source": [
    "for key in meta_keys:\n",
    "    print(key)"
   ]
  },
  {
   "cell_type": "markdown",
   "id": "ceb9d1b0",
   "metadata": {},
   "source": [
    "### 1.5.1. feature"
   ]
  },
  {
   "cell_type": "code",
   "execution_count": 26,
   "id": "f5e2350c",
   "metadata": {},
   "outputs": [
    {
     "name": "stdout",
     "output_type": "stream",
     "text": [
      "['Wood percussion', 'Owl whistle*', 'Includes wooden scraper', 'Small 3\"', 'Age rating: 3+']\n"
     ]
    }
   ],
   "source": [
    "show_field('feature')"
   ]
  },
  {
   "cell_type": "markdown",
   "id": "28537801",
   "metadata": {},
   "source": [
    "keep feature field"
   ]
  },
  {
   "cell_type": "markdown",
   "id": "010a5f0a",
   "metadata": {},
   "source": [
    "### 1.5.2. fit"
   ]
  },
  {
   "cell_type": "code",
   "execution_count": 27,
   "id": "f72e751e",
   "metadata": {},
   "outputs": [
    {
     "data": {
      "text/html": [
       " class=\"a-normal a-align-center a-spacing-small\">\n",
       "        \n",
       "            <tr class=\"a-histogram-row\">\n",
       "                <td class=\"a-span3 a-nowrap\">\n",
       "                    <span class=\"a-color-secondary\">\n",
       "                        Too small\n",
       "                    </span>\n",
       "                </td>\n",
       "                <td class=\"a-span8\">\n",
       "                    <div class=\"a-meter\" aria-label=\"0%\"><div class=\"a-meter-bar\" style=\"width: 0%;\"></div></div>\n",
       "                </td> \n",
       "                <td class=\"a-span1 a-nowrap\">\n",
       "                    <span>0</span>\n",
       "                </td> \n",
       "            </tr>\n",
       "        \n",
       "            <tr class=\"a-histogram-row\">\n",
       "                <td class=\"a-span3 a-nowrap\">\n",
       "                    <span class=\"a-color-secondary\">\n",
       "                        Somewhat small\n",
       "                    </span>\n",
       "                </td>\n",
       "                <td class=\"a-span8\">\n",
       "                    <div class=\"a-meter\" aria-label=\"11%\"><div class=\"a-meter-bar\" style=\"width: 11%;\"></div></div>\n",
       "                </td> \n",
       "                <td class=\"a-span1 a-nowrap\">\n",
       "                    <span>1</span>\n",
       "                </td> \n",
       "            </tr>\n",
       "        \n",
       "            <tr class=\"a-histogram-row\">\n",
       "                <td class=\"a-span3 a-nowrap\">\n",
       "                    <span class=\"a-color-state a-text-bold\">\n",
       "                        Fits as expected\n",
       "                    </span>\n",
       "                </td>\n",
       "                <td class=\"a-span8\">\n",
       "                    <div class=\"a-meter\" aria-label=\"88%\"><div class=\"a-meter-bar\" style=\"width: 88%;\"></div></div>\n",
       "                </td> \n",
       "                <td class=\"a-span1 a-nowrap\">\n",
       "                    <span>8</span>\n",
       "                </td> \n",
       "            </tr>\n",
       "        \n",
       "            <tr class=\"a-histogram-row\">\n",
       "                <td class=\"a-span3 a-nowrap\">\n",
       "                    <span class=\"a-color-secondary\">\n",
       "                        Somewhat large\n",
       "                    </span>\n",
       "                </td>\n",
       "                <td class=\"a-span8\">\n",
       "                    <div class=\"a-meter\" aria-label=\"0%\"><div class=\"a-meter-bar\" style=\"width: 0%;\"></div></div>\n",
       "                </td> \n",
       "                <td class=\"a-span1 a-nowrap\">\n",
       "                    <span>0</span>\n",
       "                </td> \n",
       "            </tr>\n",
       "        \n",
       "            <tr class=\"a-histogram-row\">\n",
       "                <td class=\"a-span3 a-nowrap\">\n",
       "                    <span class=\"a-color-secondary\">\n",
       "                        Too large\n",
       "                    </span>\n",
       "                </td>\n",
       "                <td class=\"a-span8\">\n",
       "                    <div class=\"a-meter\" aria-label=\"0%\"><div class=\"a-meter-bar\" style=\"width: 0%;\"></div></div>\n",
       "                </td> \n",
       "                <td class=\"a-span1 a-nowrap\">\n",
       "                    <span>0</span>\n",
       "                </td> \n",
       "            </tr>\n",
       "        \n",
       "    "
      ],
      "text/plain": [
       "<IPython.core.display.HTML object>"
      ]
     },
     "metadata": {},
     "output_type": "display_data"
    }
   ],
   "source": [
    "show_field('fit', html=True)"
   ]
  },
  {
   "cell_type": "markdown",
   "id": "cfe40226",
   "metadata": {},
   "source": [
    "disregard fit"
   ]
  },
  {
   "cell_type": "code",
   "execution_count": 51,
   "id": "d4d1b9da",
   "metadata": {},
   "outputs": [],
   "source": [
    "ignore_fields.append('fit') "
   ]
  },
  {
   "cell_type": "markdown",
   "id": "6445e50e",
   "metadata": {},
   "source": [
    "### 1.5.3. rank"
   ]
  },
  {
   "cell_type": "code",
   "execution_count": 29,
   "id": "783b9ee6",
   "metadata": {},
   "outputs": [
    {
     "name": "stdout",
     "output_type": "stream",
     "text": [
      "['>#141,729 in Musical Instruments (See Top 100 in Musical Instruments)', '>#95 in Musical Instruments > Drums & Percussion > Hand Percussion > Folk & World > Latin Percussion > Guiros']\n"
     ]
    }
   ],
   "source": [
    "show_field('rank')"
   ]
  },
  {
   "cell_type": "markdown",
   "id": "91df5372",
   "metadata": {},
   "source": [
    "'rank' could be useful to selling the item. "
   ]
  },
  {
   "cell_type": "markdown",
   "id": "3044dc38",
   "metadata": {},
   "source": [
    "### 1.5.6. tech tables"
   ]
  },
  {
   "cell_type": "code",
   "execution_count": 31,
   "id": "cd6dfc76",
   "metadata": {},
   "outputs": [
    {
     "data": {
      "text/html": [
       " class=\"a-keyvalue prodDetTable\" role=\"presentation\">\n",
       "         \n",
       "           \n",
       "           \n",
       "           \n",
       "           <tbody><tr>\n",
       "            \n",
       "            \n",
       "              \n",
       "              \n",
       "               \n",
       "                <th class=\"a-color-secondary a-size-base prodDetSectionEntry\">\n",
       "                  Brand Name\n",
       "                </th>\n",
       "                \n",
       "              \n",
       "            \n",
       "            \n",
       "           \n",
       "            <td class=\"a-size-base\">\n",
       "              Teacher's Discovery\n",
       "            </td>\n",
       "            \n",
       "           </tr>\n",
       "           \n",
       "           \n",
       "           \n",
       "           <tr>\n",
       "            \n",
       "            \n",
       "              \n",
       "              \n",
       "               \n",
       "                <th class=\"a-color-secondary a-size-base prodDetSectionEntry\">\n",
       "                  Color\n",
       "                </th>\n",
       "                \n",
       "              \n",
       "            \n",
       "            \n",
       "           \n",
       "            <td class=\"a-size-base\">\n",
       "              _\n",
       "            </td>\n",
       "            \n",
       "           </tr>\n",
       "           \n",
       "           \n",
       "           \n",
       "           <tr>\n",
       "            \n",
       "            \n",
       "              \n",
       "              \n",
       "               \n",
       "                <th class=\"a-color-secondary a-size-base prodDetSectionEntry\">\n",
       "                  Manufacturer Part Number\n",
       "                </th>\n",
       "                \n",
       "              \n",
       "            \n",
       "            \n",
       "           \n",
       "            <td class=\"a-size-base\">\n",
       "              1Z0160\n",
       "            </td>\n",
       "            \n",
       "           </tr>\n",
       "           \n",
       "           \n",
       "          \n",
       "        </tbody>"
      ],
      "text/plain": [
       "<IPython.core.display.HTML object>"
      ]
     },
     "metadata": {},
     "output_type": "display_data"
    }
   ],
   "source": [
    "show_field('tech1', html=True)"
   ]
  },
  {
   "cell_type": "code",
   "execution_count": 32,
   "id": "2662d796",
   "metadata": {},
   "outputs": [
    {
     "data": {
      "text/html": [
       " class=\"a-keyvalue prodDetTable\" role=\"presentation\">\n",
       "         \n",
       "           \n",
       "           \n",
       "           \n",
       "           <tbody><tr>\n",
       "            \n",
       "            \n",
       "              \n",
       "              \n",
       "               \n",
       "                <th class=\"a-color-secondary a-size-base prodDetSectionEntry\">\n",
       "                  Brand Name\n",
       "                </th>\n",
       "                \n",
       "              \n",
       "            \n",
       "            \n",
       "           \n",
       "            <td class=\"a-size-base\">\n",
       "              Tascam\n",
       "            </td>\n",
       "            \n",
       "           </tr>\n",
       "           \n",
       "           \n",
       "           \n",
       "           <tr>\n",
       "            \n",
       "            \n",
       "              \n",
       "              \n",
       "               \n",
       "                <th class=\"a-color-secondary a-size-base prodDetSectionEntry\">\n",
       "                  Item model number\n",
       "                </th>\n",
       "                \n",
       "              \n",
       "            \n",
       "            \n",
       "           \n",
       "            <td class=\"a-size-base\">\n",
       "              DVW/D17A/KIT/H/TAS\n",
       "            </td>\n",
       "            \n",
       "           </tr>\n",
       "           \n",
       "           \n",
       "           \n",
       "           <tr>\n",
       "            \n",
       "            \n",
       "              \n",
       "              \n",
       "               \n",
       "                <th class=\"a-color-secondary a-size-base prodDetSectionEntry\">\n",
       "                  Item Weight\n",
       "                </th>\n",
       "                \n",
       "              \n",
       "            \n",
       "            \n",
       "           \n",
       "            <td class=\"a-size-base\">\n",
       "              3 pounds\n",
       "            </td>\n",
       "            \n",
       "           </tr>\n",
       "           \n",
       "           \n",
       "           \n",
       "           <tr>\n",
       "            \n",
       "            \n",
       "              \n",
       "              \n",
       "               \n",
       "                <th class=\"a-color-secondary a-size-base prodDetSectionEntry\">\n",
       "                  Product Dimensions\n",
       "                </th>\n",
       "                \n",
       "              \n",
       "            \n",
       "            \n",
       "           \n",
       "            <td class=\"a-size-base\">\n",
       "              23 x 25 x 15 inches\n",
       "            </td>\n",
       "            \n",
       "           </tr>\n",
       "           \n",
       "           \n",
       "           \n",
       "           <tr>\n",
       "            \n",
       "            \n",
       "              \n",
       "              \n",
       "               \n",
       "                <th class=\"a-color-secondary a-size-base prodDetSectionEntry\">\n",
       "                  Item Dimensions  L x W x H\n",
       "                </th>\n",
       "                \n",
       "              \n",
       "            \n",
       "            \n",
       "           \n",
       "            <td class=\"a-size-base\">\n",
       "              23 x 25 x 15 inches\n",
       "            </td>\n",
       "            \n",
       "           </tr>\n",
       "           \n",
       "           \n",
       "          \n",
       "        </tbody>"
      ],
      "text/plain": [
       "<IPython.core.display.HTML object>"
      ]
     },
     "metadata": {},
     "output_type": "display_data"
    }
   ],
   "source": [
    "show_field('tech2', html=True)"
   ]
  },
  {
   "cell_type": "markdown",
   "id": "640a36ac",
   "metadata": {},
   "source": [
    "disregard the two tech fields"
   ]
  },
  {
   "cell_type": "code",
   "execution_count": 52,
   "id": "d4e931be",
   "metadata": {},
   "outputs": [],
   "source": [
    "ignore_fields.extend(['tech1', 'tech2'])"
   ]
  },
  {
   "cell_type": "markdown",
   "id": "0beac2d9",
   "metadata": {},
   "source": [
    "### 1.5.7. similar_item"
   ]
  },
  {
   "cell_type": "code",
   "execution_count": 34,
   "id": "48d2e58e",
   "metadata": {},
   "outputs": [
    {
     "data": {
      "text/html": [
       " class=\"a-bordered a-horizontal-stripes  a-spacing-extra-large a-size-base comparison_table\">\n",
       "\n",
       "\n",
       "\n",
       "            \n",
       "            \n",
       "            \n",
       "            \n",
       "            \n",
       "            <tbody><tr class=\"comparison_table_image_row\">\n",
       "                <td class=\"comparison_table_first_col\"></td>\n",
       "\n",
       "\n",
       "                <th class=\"comparison_image_title_cell\" role=\"columnheader\">\n",
       "                    <div class=\"a-row a-spacing-top-micro\">\n",
       "                        <center>\n",
       "                             <img alt=\"Ukulele Chord Changer and Songbook Set\" src=\"https://images-na.ssl-images-amazon.com/images/I/41gv3nk3%2BwL._SL500_AC_SS350_.jpg\" id=\"comparison_image\" />\n",
       "                        </center>\n",
       "                    </div>\n",
       "                    <div class=\"a-row a-spacing-top-small\">\n",
       "                        <div id=\"comparison_title\" class=\"a-section a-spacing-none\">\n",
       "                            <span aria-hidden=\"true\" class=\"a-size-base a-color-base a-text-bold\">\n",
       "                                This item\n",
       "                            </span>\n",
       "                            <span aria-hidden=\"true\" class=\"a-size-base a-color-base\">Ukulele Chord Changer and Songbook Set</span>\n",
       "                        </div>\n",
       "                        \n",
       "                        \n",
       "                    </div>\n",
       "                </th>\n",
       "\n",
       "\n",
       "                \n",
       "                    <th class=\"comparison_image_title_cell comparable_item0\" role=\"columnheader\">\n",
       "                        <a class=\"a-link-normal\" target=\"_self\" rel=\"noopener\" href=\"/dp/B074XN2B21/ref=psdc_11968841_t1_0692218645\">\n",
       "                          <div class=\"a-row a-spacing-top-micro\">\n",
       "                            <center>\n",
       "                                <img alt=\"\" src=\"https://images-na.ssl-images-amazon.com/images/I/41CCa7POVYL._SL500_AC_SS350_.jpg\" aria-hidden=\"true\" id=\"comparison_image0\" />\n",
       "                            </center>\n",
       "                          </div>\n",
       "                          <div id=\"comparison_title0\" class=\"a-row a-spacing-top-small\">\n",
       "                            <span class=\"a-size-base\">BoloPick Felt Ukulele Picks Economy 12 Pack, Multi Fiesta</span>\n",
       "                          </div>\n",
       "                        </a>\n",
       "                        \n",
       "                        \n",
       "                            \n",
       "                            <div id=\"comparison_zeitgeist_section0\" class=\"a-row a-spacing-none a-spacing-top-micro\">\n",
       "                                \n",
       "\n",
       "\n",
       "\n",
       "\n",
       "\n",
       "\n",
       "\n",
       "\n",
       "\n",
       "\n",
       "\n",
       "<a class=\"comparison_zeitgeist\" href=\"/gp/bestsellers/musical-instruments/11968841/ref=psdczbs_11968841_t1_0692218645\" title=\"Ukulele Accessories\">\n",
       "    <i class=\"a-icon a-icon-addon comparison_zeitgeist_badge\"><span class=\"a-text-normal\">\n",
       "        #1 Best Seller\n",
       "    </span></i>\n",
       "    \n",
       "    \n",
       "</a>\n",
       "\n",
       "                            </div>\n",
       "                        \n",
       "                    </th>\n",
       "                \n",
       "                    <th class=\"comparison_image_title_cell comparable_item1\" role=\"columnheader\">\n",
       "                        <a class=\"a-link-normal\" target=\"_self\" rel=\"noopener\" href=\"/dp/B074CY4R1K/ref=psdc_11968841_t2_0692218645\">\n",
       "                          <div class=\"a-row a-spacing-top-micro\">\n",
       "                            <center>\n",
       "                                <img alt=\"\" src=\"https://images-na.ssl-images-amazon.com/images/I/41cDyZlF5PL._SL500_AC_SS350_.jpg\" aria-hidden=\"true\" id=\"comparison_image1\" />\n",
       "                            </center>\n",
       "                          </div>\n",
       "                          <div id=\"comparison_title1\" class=\"a-row a-spacing-top-small\">\n",
       "                            <span class=\"a-size-base\">CLOUDMUSIC Pineapple Ukulele Strap with Hook Hawaiian Tropical Design Ukulele Strap no drilling For Soprano Concert Tenor Ukulele (Pineapples in Blue)</span>\n",
       "                          </div>\n",
       "                        </a>\n",
       "                        \n",
       "                        \n",
       "                    </th>\n",
       "                \n",
       "                    <th class=\"comparison_image_title_cell comparable_item2\" role=\"columnheader\">\n",
       "                        <a class=\"a-link-normal\" target=\"_self\" rel=\"noopener\" href=\"/dp/B01LPMLHRG/ref=psdc_11968841_t3_0692218645\">\n",
       "                          <div class=\"a-row a-spacing-top-micro\">\n",
       "                            <center>\n",
       "                                <img alt=\"\" src=\"https://images-na.ssl-images-amazon.com/images/I/61WO4nuHMQL._SL500_AC_SS350_.jpg\" aria-hidden=\"true\" id=\"comparison_image2\" />\n",
       "                            </center>\n",
       "                          </div>\n",
       "                          <div id=\"comparison_title2\" class=\"a-row a-spacing-top-small\">\n",
       "                            <span class=\"a-size-base\">HOT SEAL 10MM Sponge Padding Waterproof Durable Colorful Conventional ukulele Case Bag with Storage  (23/24 in, Bohemia NO.2)</span>\n",
       "                          </div>\n",
       "                        </a>\n",
       "                        \n",
       "                        \n",
       "                    </th>\n",
       "                \n",
       "                    <th class=\"comparison_image_title_cell comparable_item3\" role=\"columnheader\">\n",
       "                        <a class=\"a-link-normal\" target=\"_self\" rel=\"noopener\" href=\"/dp/B06XFN2L1H/ref=psdc_11968841_t4_0692218645\">\n",
       "                          <div class=\"a-row a-spacing-top-micro\">\n",
       "                            <center>\n",
       "                                <img alt=\"\" src=\"https://images-na.ssl-images-amazon.com/images/I/516vhga-iPL._SL500_AC_SS350_.jpg\" aria-hidden=\"true\" id=\"comparison_image3\" />\n",
       "                            </center>\n",
       "                          </div>\n",
       "                          <div id=\"comparison_title3\" class=\"a-row a-spacing-top-small\">\n",
       "                            <span class=\"a-size-base\">Double Use Adjustable Nylon Ukulele Strap - Can be Use as Ukulele Neck Strap or Ukulele Shoulder Strap (BLACK)</span>\n",
       "                          </div>\n",
       "                        </a>\n",
       "                        \n",
       "                        \n",
       "                    </th>\n",
       "                \n",
       "            </tr>\n",
       "\n",
       "\n",
       "            <tr></tr>\n",
       "\n",
       "\n",
       "            \n",
       "            \n",
       "            <tr>\n",
       "                <td class=\"comparison_table_first_col\"></td>\n",
       "\n",
       "\n",
       "                <td class=\"comparison_add_to_cart_button\">\n",
       "                    \n",
       "                        \n",
       "                            \n",
       "                        \n",
       "                        \n",
       "                        \n",
       "                    \n",
       "                </td>\n",
       "\n",
       "\n",
       "                \n",
       "                    <td class=\"a-text-left comparison_add_to_cart_button comparable_item0\">\n",
       "                        \n",
       "                            \n",
       "                            \n",
       "                                <span id=\"comparison_add_to_cart_button0\" class=\"a-button a-spacing-small a-button-primary\"><span class=\"a-button-inner\"><a id=\"comparison_add_to_cart_button0-announce\" href=\"/gp/item-dispatch/ref=psdc_11968841_a1_0692218645?ie=UTF8&amp;itemCount=1&amp;nodeID=11091801&amp;offeringID.1=UK%252F3X8Wmm9ZiV5RTzWBhft%252BWwpBJHm2C%252BZdupUl7dZJGuK28qZls0EyOENmrWl%252BN58nE%252FHNTPGJpixaY%252B9VI1CY8q8yVd%252BkCo9ph0GeTD%252F64uMWVW%252BJl60MfOnT2MIHHhXV%252FVbA5Gkk9rvdq%252FK8%252BvA%253D%253D&amp;storeID=musical-instruments&amp;session-id=131-2701147-5306408&amp;submit.addToCart=addToCart&amp;signInToHUC=0\" class=\"a-button-text\" role=\"button\">Add to Cart</a></span></span>\n",
       "                            \n",
       "                        \n",
       "                    </td>\n",
       "                \n",
       "                    <td class=\"a-text-left comparison_add_to_cart_button comparable_item1\">\n",
       "                        \n",
       "                            \n",
       "                            \n",
       "                                <span id=\"comparison_add_to_cart_button1\" class=\"a-button a-spacing-small a-button-primary\"><span class=\"a-button-inner\"><a id=\"comparison_add_to_cart_button1-announce\" href=\"/gp/item-dispatch/ref=psdc_11968841_a2_0692218645?ie=UTF8&amp;itemCount=1&amp;nodeID=11091801&amp;offeringID.1=oS%252BGnm%252Fw0m0icY7H%252Fo2xaUwYeFvvR09VGuH0XOMfzlG5VOyIRTcwK5hyFwcfPsih96uTrgwlHk5cFu%252FroIfXiZ2%252FiM5pZ55gkdEGjlJmSvM9nfHI3NxZClUyBaaQ7xyhcsxBkptaHPNY1Z%252B%252BuBhMymz4CrFDywA8&amp;storeID=musical-instruments&amp;session-id=131-2701147-5306408&amp;submit.addToCart=addToCart&amp;signInToHUC=0\" class=\"a-button-text\" role=\"button\">Add to Cart</a></span></span>\n",
       "                            \n",
       "                        \n",
       "                    </td>\n",
       "                \n",
       "                    <td class=\"a-text-left comparison_add_to_cart_button comparable_item2\">\n",
       "                        \n",
       "                            \n",
       "                            \n",
       "                                <span id=\"comparison_add_to_cart_button2\" class=\"a-button a-spacing-small a-button-primary\"><span class=\"a-button-inner\"><a id=\"comparison_add_to_cart_button2-announce\" href=\"/gp/item-dispatch/ref=psdc_11968841_a3_0692218645?ie=UTF8&amp;itemCount=1&amp;nodeID=11091801&amp;offeringID.1=vBiRVuwHz3UI5yssIh3E5V3BDSM1k8QMkT4YuM6Ypo58qNXsebl01wa2S2ing0sJIsgOSB174M2PV1JCQvZQck4sjdQrJSeC9Urpnm4RBe1kDwFmDrClai55qJ8pZ4kid2aJRtCWCbv2gPCq%252FLg1JsufzT1tO4Oe&amp;storeID=musical-instruments&amp;session-id=131-2701147-5306408&amp;submit.addToCart=addToCart&amp;signInToHUC=0\" class=\"a-button-text\" role=\"button\">Add to Cart</a></span></span>\n",
       "                            \n",
       "                        \n",
       "                    </td>\n",
       "                \n",
       "                    <td class=\"a-text-left comparison_add_to_cart_button comparable_item3\">\n",
       "                        \n",
       "                            \n",
       "                            \n",
       "                                <span id=\"comparison_add_to_cart_button3\" class=\"a-button a-spacing-small a-button-primary\"><span class=\"a-button-inner\"><a id=\"comparison_add_to_cart_button3-announce\" href=\"/gp/item-dispatch/ref=psdc_11968841_a4_0692218645?ie=UTF8&amp;itemCount=1&amp;nodeID=11091801&amp;offeringID.1=xU7rIjF0tNOl760dL6qUvg%252Bh1%252BnQXTtywMB%252FQYP76uX5gaTY%252F2sVsqFLJtwgIpsQJPYRCTaoBR%252BkONzeUOf3%252FcdKkJ0qlGT%252BDlYeLWKbpQuosqloODftTsnxSN3NDUCgb0n17zO7S025zBDF9PET%252FmwepBRCVKlm&amp;storeID=musical-instruments&amp;session-id=131-2701147-5306408&amp;submit.addToCart=addToCart&amp;signInToHUC=0\" class=\"a-button-text\" role=\"button\">Add to Cart</a></span></span>\n",
       "                            \n",
       "                        \n",
       "                    </td>\n",
       "                \n",
       "            </tr>\n",
       "\n",
       "\n",
       "            <tr id=\"comparison_custormer_rating_row\">\n",
       "                \n",
       "                \n",
       "                \n",
       "                \n",
       "\n",
       "                <th class=\"comparison_attribute_name_column comparison_table_first_col\" role=\"rowheader\">\n",
       "                    <span class=\"a-size-base a-color-base\">Customer Rating</span>\n",
       "                </th>\n",
       "\n",
       "\n",
       "                <td class=\"comparison_baseitem_column\">\n",
       "                    \n",
       "                    \n",
       "                    \n",
       "                    <span>\n",
       "                        <span class=\"a-declarative\" data-action=\"a-popover\" data-a-popover=\"{&quot;max-width&quot;:&quot;700&quot;,&quot;closeButton&quot;:&quot;false&quot;,&quot;position&quot;:&quot;triggerBottom&quot;,&quot;url&quot;:&quot; /gp/customer-reviews/widgets/average-customer-review/popover/ref=acr_dpComparsion__popover?contextId=dpComparsion&amp;asin=0692218645 &quot;,&quot;restoreFocusOnHide&quot;:&quot;false&quot;}\">\n",
       "                            <i class=\"a-icon a-icon-star a-star-3-5 a-spacing-none\"><span class=\"a-icon-alt\">3 out of 5 stars</span></i>\n",
       "                        </span>\n",
       "                        <a class=\"a-link-normal\" target=\"_self\" rel=\"noopener\" href=\"/product-reviews/0692218645/ref=psdc_11968841_r0_0692218645?_encoding=UTF8&amp;showViewpoints=1\">(15)</a>\n",
       "                        <span class=\"a-letter-space\"></span>\n",
       "                    </span>\n",
       "                </td>\n",
       "\n",
       "\n",
       "                \n",
       "                    <td class=\"comparison_sim_items_column comparable_item0\">\n",
       "                        \n",
       "                        \n",
       "                        \n",
       "                        <span>\n",
       "                            <span class=\"a-declarative\" data-action=\"a-popover\" data-a-popover=\"{&quot;max-width&quot;:&quot;700&quot;,&quot;closeButton&quot;:&quot;false&quot;,&quot;position&quot;:&quot;triggerBottom&quot;,&quot;url&quot;:&quot; /gp/customer-reviews/widgets/average-customer-review/popover/ref=acr_dpComparsion__popover?contextId=dpComparsion&amp;asin=B074XN2B21 &quot;,&quot;restoreFocusOnHide&quot;:&quot;false&quot;}\">\n",
       "                                <i class=\"a-icon a-icon-star a-star-4-5 a-spacing-none\"><span class=\"a-icon-alt\">4 out of 5 stars</span></i>\n",
       "                            </span>\n",
       "                            <a class=\"a-link-normal\" target=\"_self\" rel=\"noopener\" href=\"/product-reviews/B074XN2B21/ref=psdc_11968841_r1_0692218645?_encoding=UTF8&amp;showViewpoints=1\">(32)</a>\n",
       "                            <span class=\"a-letter-space\"></span>\n",
       "                        </span>\n",
       "                    </td>\n",
       "                \n",
       "                    <td class=\"comparison_sim_items_column comparable_item1\">\n",
       "                        \n",
       "                        \n",
       "                        \n",
       "                        <span>\n",
       "                            <span class=\"a-declarative\" data-action=\"a-popover\" data-a-popover=\"{&quot;max-width&quot;:&quot;700&quot;,&quot;closeButton&quot;:&quot;false&quot;,&quot;position&quot;:&quot;triggerBottom&quot;,&quot;url&quot;:&quot; /gp/customer-reviews/widgets/average-customer-review/popover/ref=acr_dpComparsion__popover?contextId=dpComparsion&amp;asin=B074CY4R1K &quot;,&quot;restoreFocusOnHide&quot;:&quot;false&quot;}\">\n",
       "                                <i class=\"a-icon a-icon-star a-star-4 a-spacing-none\"><span class=\"a-icon-alt\">4 out of 5 stars</span></i>\n",
       "                            </span>\n",
       "                            <a class=\"a-link-normal\" target=\"_self\" rel=\"noopener\" href=\"/product-reviews/B074CY4R1K/ref=psdc_11968841_r2_0692218645?_encoding=UTF8&amp;showViewpoints=1\">(103)</a>\n",
       "                            <span class=\"a-letter-space\"></span>\n",
       "                        </span>\n",
       "                    </td>\n",
       "                \n",
       "                    <td class=\"comparison_sim_items_column comparable_item2\">\n",
       "                        \n",
       "                        \n",
       "                        \n",
       "                        <span>\n",
       "                            <span class=\"a-declarative\" data-action=\"a-popover\" data-a-popover=\"{&quot;max-width&quot;:&quot;700&quot;,&quot;closeButton&quot;:&quot;false&quot;,&quot;position&quot;:&quot;triggerBottom&quot;,&quot;url&quot;:&quot; /gp/customer-reviews/widgets/average-customer-review/popover/ref=acr_dpComparsion__popover?contextId=dpComparsion&amp;asin=B01LPMLHRG &quot;,&quot;restoreFocusOnHide&quot;:&quot;false&quot;}\">\n",
       "                                <i class=\"a-icon a-icon-star a-star-4-5 a-spacing-none\"><span class=\"a-icon-alt\">4 out of 5 stars</span></i>\n",
       "                            </span>\n",
       "                            <a class=\"a-link-normal\" target=\"_self\" rel=\"noopener\" href=\"/product-reviews/B01LPMLHRG/ref=psdc_11968841_r3_0692218645?_encoding=UTF8&amp;showViewpoints=1\">(86)</a>\n",
       "                            <span class=\"a-letter-space\"></span>\n",
       "                        </span>\n",
       "                    </td>\n",
       "                \n",
       "                    <td class=\"comparison_sim_items_column comparable_item3\">\n",
       "                        \n",
       "                        \n",
       "                        \n",
       "                        <span>\n",
       "                            <span class=\"a-declarative\" data-action=\"a-popover\" data-a-popover=\"{&quot;max-width&quot;:&quot;700&quot;,&quot;closeButton&quot;:&quot;false&quot;,&quot;position&quot;:&quot;triggerBottom&quot;,&quot;url&quot;:&quot; /gp/customer-reviews/widgets/average-customer-review/popover/ref=acr_dpComparsion__popover?contextId=dpComparsion&amp;asin=B06XFN2L1H &quot;,&quot;restoreFocusOnHide&quot;:&quot;false&quot;}\">\n",
       "                                <i class=\"a-icon a-icon-star a-star-4 a-spacing-none\"><span class=\"a-icon-alt\">4 out of 5 stars</span></i>\n",
       "                            </span>\n",
       "                            <a class=\"a-link-normal\" target=\"_self\" rel=\"noopener\" href=\"/product-reviews/B06XFN2L1H/ref=psdc_11968841_r4_0692218645?_encoding=UTF8&amp;showViewpoints=1\">(9)</a>\n",
       "                            <span class=\"a-letter-space\"></span>\n",
       "                        </span>\n",
       "                    </td>\n",
       "                \n",
       "            </tr>\n",
       "\n",
       "\n",
       "            <tr id=\"comparison_price_row\">\n",
       "                <th class=\"comparison_attribute_name_column comparison_table_first_col\" role=\"rowheader\">\n",
       "                    <span class=\"a-size-base a-color-base\">Price</span>\n",
       "                </th>\n",
       "\n",
       "\n",
       "                <td class=\"comparison_baseitem_column\">\n",
       "                    \n",
       "                        \n",
       "                            \n",
       "                                \n",
       "                                    <span class=\"a-color-price a-text-bold\">\n",
       "                                        From $32.00\n",
       "                                    </span>\n",
       "                                \n",
       "                                \n",
       "                            \n",
       "                        \n",
       "                        \n",
       "                        \n",
       "                        \n",
       "                    \n",
       "                </td>\n",
       "\n",
       "\n",
       "                \n",
       "                    <td class=\"comparison_sim_items_column comparable_item0\">\n",
       "                    \n",
       "                        \n",
       "                        \n",
       "                        \n",
       "                            \n",
       "                                \n",
       "                                    <span class=\"a-price\" data-a-size=\"l\" data-a-color=\"base\"><span class=\"a-offscreen\">$7.25</span><span aria-hidden=\"true\"><span class=\"a-price-symbol\">$</span><span class=\"a-price-whole\">7<span class=\"a-price-decimal\"></span></span><span class=\"a-price-fraction\">25</span></span></span>\n",
       "                                \n",
       "                                \n",
       "                            \n",
       "                        \n",
       "                    \n",
       "                    </td>\n",
       "                \n",
       "                    <td class=\"comparison_sim_items_column comparable_item1\">\n",
       "                    \n",
       "                        \n",
       "                        \n",
       "                        \n",
       "                            \n",
       "                                \n",
       "                                    <span class=\"a-price\" data-a-size=\"l\" data-a-color=\"base\"><span class=\"a-offscreen\">$10.99</span><span aria-hidden=\"true\"><span class=\"a-price-symbol\">$</span><span class=\"a-price-whole\">10<span class=\"a-price-decimal\"></span></span><span class=\"a-price-fraction\">99</span></span></span>\n",
       "                                \n",
       "                                \n",
       "                            \n",
       "                        \n",
       "                    \n",
       "                    </td>\n",
       "                \n",
       "                    <td class=\"comparison_sim_items_column comparable_item2\">\n",
       "                    \n",
       "                        \n",
       "                        \n",
       "                        \n",
       "                            \n",
       "                                \n",
       "                                    <span class=\"a-price\" data-a-size=\"l\" data-a-color=\"base\"><span class=\"a-offscreen\">$18.96</span><span aria-hidden=\"true\"><span class=\"a-price-symbol\">$</span><span class=\"a-price-whole\">18<span class=\"a-price-decimal\"></span></span><span class=\"a-price-fraction\">96</span></span></span>\n",
       "                                \n",
       "                                \n",
       "                            \n",
       "                        \n",
       "                    \n",
       "                    </td>\n",
       "                \n",
       "                    <td class=\"comparison_sim_items_column comparable_item3\">\n",
       "                    \n",
       "                        \n",
       "                        \n",
       "                        \n",
       "                            \n",
       "                                \n",
       "                                    <span class=\"a-price\" data-a-size=\"l\" data-a-color=\"base\"><span class=\"a-offscreen\">$10.95</span><span aria-hidden=\"true\"><span class=\"a-price-symbol\">$</span><span class=\"a-price-whole\">10<span class=\"a-price-decimal\"></span></span><span class=\"a-price-fraction\">95</span></span></span>\n",
       "                                \n",
       "                                \n",
       "                            \n",
       "                        \n",
       "                    \n",
       "                    </td>\n",
       "                \n",
       "            </tr>\n",
       "\n",
       "\n",
       "    \n",
       "                <tr id=\"comparison_shipping_info_row\">\n",
       "                    <th class=\"comparison_attribute_name_column comparison_table_first_col\" role=\"rowheader\">\n",
       "                        <span class=\"a-size-base a-color-base\">Shipping</span>\n",
       "                    </th>\n",
       "\n",
       "    \n",
       "                    <td class=\"comparison_baseitem_column\">\n",
       "                        \n",
       "                            \n",
       "                                <span class=\"a-color-secondary\"></span>\n",
       "                            \n",
       "                            \n",
       "                            \n",
       "                            \n",
       "                            \n",
       "                            \n",
       "                            \n",
       "                        \n",
       "                    </td>\n",
       "\n",
       "    \n",
       "                    \n",
       "                        <td class=\"comparison_sim_items_column comparable_item0\">\n",
       "                            \n",
       "                                \n",
       "                                \n",
       "                                    <span class=\"a-size-base a-color-base\">Eligible for FREE Shipping</span>\n",
       "                                \n",
       "                                \n",
       "                                \n",
       "                                \n",
       "                                \n",
       "                            \n",
       "                        </td>\n",
       "                    \n",
       "                        <td class=\"comparison_sim_items_column comparable_item1\">\n",
       "                            \n",
       "                                \n",
       "                                \n",
       "                                    <span class=\"a-size-base a-color-base\">Eligible for FREE Shipping</span>\n",
       "                                \n",
       "                                \n",
       "                                \n",
       "                                \n",
       "                                \n",
       "                            \n",
       "                        </td>\n",
       "                    \n",
       "                        <td class=\"comparison_sim_items_column comparable_item2\">\n",
       "                            \n",
       "                                \n",
       "                                \n",
       "                                    <span class=\"a-size-base a-color-base\">Eligible for FREE Shipping</span>\n",
       "                                \n",
       "                                \n",
       "                                \n",
       "                                \n",
       "                                \n",
       "                            \n",
       "                        </td>\n",
       "                    \n",
       "                        <td class=\"comparison_sim_items_column comparable_item3\">\n",
       "                            \n",
       "                                \n",
       "                                \n",
       "                                    <span class=\"a-size-base a-color-base\">Eligible for FREE Shipping</span>\n",
       "                                \n",
       "                                \n",
       "                                \n",
       "                                \n",
       "                                \n",
       "                            \n",
       "                        </td>\n",
       "                    \n",
       "                </tr>\n",
       "\n",
       "\n",
       "\n",
       "            <tr id=\"comparison_sold_by_row\">\n",
       "                <th class=\"comparison_attribute_name_column comparison_table_first_col\" role=\"rowheader\">\n",
       "                    <span class=\"a-size-base a-color-base\">Sold By</span>\n",
       "                </th>\n",
       "\n",
       "  \n",
       "                <td class=\"comparison_baseitem_column\">\n",
       "                    \n",
       "                        \n",
       "                            \n",
       "                                \n",
       "                                    Available from <a href=\"/gp/offer-listing/0692218645/ref=psdc_olp_11968841_a0_0692218645?ie=UTF8&amp;condition=all\">these sellers</a>\n",
       "                                \n",
       "                                \n",
       "                            \n",
       "                        \n",
       "                        \n",
       "                        \n",
       "                     \n",
       "                </td>\n",
       "\n",
       "\n",
       "                \n",
       "                    <td class=\"comparison_sim_items_column comparable_item0\">\n",
       "                         \n",
       "                            \n",
       "                         \n",
       "                             <a class=\"a-spacing-top-small a-link-normal\" target=\"_self\" rel=\"noopener\" href=\"/gp/help/seller/at-a-glance.html/ref=psdc_11968841_s1_0692218645?ie=UTF8&amp;seller=AC7S62IRRKG1Z&amp;isAmazonFulfilled=1\">BoloPick, LLC</a>\n",
       "                         \n",
       "                         \n",
       "                     </td>\n",
       "                \n",
       "                    <td class=\"comparison_sim_items_column comparable_item1\">\n",
       "                         \n",
       "                            \n",
       "                         \n",
       "                             <a class=\"a-spacing-top-small a-link-normal\" target=\"_self\" rel=\"noopener\" href=\"/gp/help/seller/at-a-glance.html/ref=psdc_11968841_s2_0692218645?ie=UTF8&amp;seller=A2LKJ9G3Z4ABY6&amp;isAmazonFulfilled=1\">CloudMusic Direct</a>\n",
       "                         \n",
       "                         \n",
       "                     </td>\n",
       "                \n",
       "                    <td class=\"comparison_sim_items_column comparable_item2\">\n",
       "                         \n",
       "                            \n",
       "                         \n",
       "                             <a class=\"a-spacing-top-small a-link-normal\" target=\"_self\" rel=\"noopener\" href=\"/gp/help/seller/at-a-glance.html/ref=psdc_11968841_s3_0692218645?ie=UTF8&amp;seller=A3B8U1EHRS52I2&amp;isAmazonFulfilled=1\">Sunny&amp;Quality</a>\n",
       "                         \n",
       "                         \n",
       "                     </td>\n",
       "                \n",
       "                    <td class=\"comparison_sim_items_column comparable_item3\">\n",
       "                         \n",
       "                            \n",
       "                         \n",
       "                             <a class=\"a-spacing-top-small a-link-normal\" target=\"_self\" rel=\"noopener\" href=\"/gp/help/seller/at-a-glance.html/ref=psdc_11968841_s4_0692218645?ie=UTF8&amp;seller=AUNJOD6SXS0TI&amp;isAmazonFulfilled=1\">ZSFLZS</a>\n",
       "                         \n",
       "                         \n",
       "                     </td>\n",
       "                \n",
       "             </tr>\n",
       "\n",
       "\n",
       "            \n",
       "                <tr>\n",
       "                    <th class=\"a-span3 comparison_attribute_name_column comparison_table_first_col\" role=\"rowheader\">\n",
       "                        <span class=\"a-size-base a-color-base\">Color</span>\n",
       "                    </th>\n",
       "                    \n",
       "\n",
       "                    <td class=\"comparison_baseitem_column\">\n",
       "                     \n",
       "                        \n",
       "                            \n",
       "                            \n",
       "                                 <span class=\"a-size-base a-color-base\">White</span>\n",
       "                            \n",
       "                        \n",
       "                    </td>\n",
       "\n",
       "\n",
       "                    \n",
       "                        <td class=\"comparison_sim_items_column comparable_item0\">\n",
       "                            \n",
       "                            \n",
       "                            \n",
       "                               \n",
       "                                  \n",
       "                                  \n",
       "                                      <span class=\"a-size-base a-color-base\">Multi Color Fiesta</span>\n",
       "                                  \n",
       "                               \n",
       "                        </td>\n",
       "                    \n",
       "                        <td class=\"comparison_sim_items_column comparable_item1\">\n",
       "                            \n",
       "                            \n",
       "                            \n",
       "                               \n",
       "                                  \n",
       "                                  \n",
       "                                      <span class=\"a-size-base a-color-base\">Pineapples</span>\n",
       "                                  \n",
       "                               \n",
       "                        </td>\n",
       "                    \n",
       "                        <td class=\"comparison_sim_items_column comparable_item2\">\n",
       "                            \n",
       "                            \n",
       "                            \n",
       "                               \n",
       "                                  \n",
       "                                  \n",
       "                                      <span class=\"a-size-base a-color-base\">Bohemia NO.2</span>\n",
       "                                  \n",
       "                               \n",
       "                        </td>\n",
       "                    \n",
       "                        <td class=\"comparison_sim_items_column comparable_item3\">\n",
       "                            \n",
       "                            \n",
       "                            \n",
       "                               \n",
       "                                  \n",
       "                                  \n",
       "                                      <span class=\"a-size-base a-color-base\">BLACK</span>\n",
       "                                  \n",
       "                               \n",
       "                        </td>\n",
       "                    \n",
       "                </tr>\n",
       "            \n",
       "       </tbody>"
      ],
      "text/plain": [
       "<IPython.core.display.HTML object>"
      ]
     },
     "metadata": {},
     "output_type": "display_data"
    }
   ],
   "source": [
    "show_field('similar_item', html=True)"
   ]
  },
  {
   "cell_type": "markdown",
   "id": "15b95e01",
   "metadata": {},
   "source": [
    "we'll disregard the similar_item field"
   ]
  },
  {
   "cell_type": "code",
   "execution_count": 53,
   "id": "7e2c2e49",
   "metadata": {},
   "outputs": [],
   "source": [
    "ignore_fields.append('similar_item') "
   ]
  },
  {
   "cell_type": "code",
   "execution_count": 36,
   "id": "5ce599ec",
   "metadata": {},
   "outputs": [
    {
     "data": {
      "text/plain": [
       "{'also_buy',\n",
       " 'also_view',\n",
       " 'asin',\n",
       " 'brand',\n",
       " 'category',\n",
       " 'date',\n",
       " 'description',\n",
       " 'details',\n",
       " 'feature',\n",
       " 'fit',\n",
       " 'imageURL',\n",
       " 'imageURLHighRes',\n",
       " 'main_cat',\n",
       " 'price',\n",
       " 'rank',\n",
       " 'similar_item',\n",
       " 'tech1',\n",
       " 'tech2',\n",
       " 'title'}"
      ]
     },
     "execution_count": 36,
     "metadata": {},
     "output_type": "execute_result"
    }
   ],
   "source": [
    "meta_keys"
   ]
  },
  {
   "cell_type": "markdown",
   "id": "a62d3eb8",
   "metadata": {},
   "source": [
    "### 1.5.8. main_cat"
   ]
  },
  {
   "cell_type": "code",
   "execution_count": 37,
   "id": "cfd36fe7",
   "metadata": {},
   "outputs": [
    {
     "name": "stdout",
     "output_type": "stream",
     "text": [
      "Musical Instruments\n"
     ]
    }
   ],
   "source": [
    "show_field('main_cat') "
   ]
  },
  {
   "cell_type": "code",
   "execution_count": 38,
   "id": "57721d91",
   "metadata": {},
   "outputs": [
    {
     "name": "stdout",
     "output_type": "stream",
     "text": [
      "Musical Instruments\n"
     ]
    }
   ],
   "source": [
    "for review in parse(metadata_path): \n",
    "    if review.get('main_cat'): \n",
    "        print(review.get('main_cat')) \n",
    "        break"
   ]
  },
  {
   "cell_type": "markdown",
   "id": "f58e4f1d",
   "metadata": {},
   "source": [
    "disregard main_cat"
   ]
  },
  {
   "cell_type": "code",
   "execution_count": 59,
   "id": "7f8b4f46",
   "metadata": {},
   "outputs": [],
   "source": [
    "ignore_fields.append('main_cat')"
   ]
  },
  {
   "cell_type": "markdown",
   "id": "ae698727",
   "metadata": {},
   "source": [
    "### 1.5.9. details"
   ]
  },
  {
   "cell_type": "markdown",
   "id": "5433ea3a",
   "metadata": {},
   "source": [
    "to be really meticulous we'd need to exclude any products with 'Discontinued by manufacturer' == 'Yes' in 'Details'"
   ]
  },
  {
   "cell_type": "code",
   "execution_count": 54,
   "id": "3211aaa5",
   "metadata": {},
   "outputs": [
    {
     "name": "stdout",
     "output_type": "stream",
     "text": [
      "{'Audio CD': '(June 24, 1997)', 'Number of Discs:': '1', 'Label:': 'Tooth & Nail Records', 'ASIN:': 'B000003ZGU'}\n",
      "{'Shipping Weight:': '3.2 ounces', 'ASIN:': 'B00002EIWR', 'Item model number:': '2026286', ' Date first listed on Amazon:': 'February 2, 2002', 'Discontinued by manufacturer:': 'Yes'}\n",
      "{'Shipping Weight:': '1.3 pounds', 'ASIN:': 'B00002K149', ' Date first listed on Amazon:': 'March 20, 2010'}\n"
     ]
    }
   ],
   "source": [
    "show_field('details', num_samples=3)"
   ]
  },
  {
   "cell_type": "code",
   "execution_count": 55,
   "id": "d999987f",
   "metadata": {},
   "outputs": [],
   "source": [
    "# disregard \n",
    "ignore_fields.append('details') "
   ]
  },
  {
   "cell_type": "code",
   "execution_count": 56,
   "id": "4f8842c9",
   "metadata": {},
   "outputs": [],
   "source": [
    "ignore_fields.append('date')"
   ]
  },
  {
   "cell_type": "code",
   "execution_count": 43,
   "id": "1b20d20c",
   "metadata": {},
   "outputs": [
    {
     "data": {
      "text/plain": [
       "{'also_buy',\n",
       " 'also_view',\n",
       " 'asin',\n",
       " 'brand',\n",
       " 'category',\n",
       " 'date',\n",
       " 'description',\n",
       " 'details',\n",
       " 'feature',\n",
       " 'fit',\n",
       " 'imageURL',\n",
       " 'imageURLHighRes',\n",
       " 'main_cat',\n",
       " 'price',\n",
       " 'rank',\n",
       " 'similar_item',\n",
       " 'tech1',\n",
       " 'tech2',\n",
       " 'title'}"
      ]
     },
     "execution_count": 43,
     "metadata": {},
     "output_type": "execute_result"
    }
   ],
   "source": [
    "meta_keys"
   ]
  },
  {
   "cell_type": "code",
   "execution_count": 44,
   "id": "2bc53a8d",
   "metadata": {},
   "outputs": [
    {
     "data": {
      "text/plain": [
       "['asin',\n",
       " 'also_view',\n",
       " 'also_buy',\n",
       " 'fit',\n",
       " 'rank',\n",
       " 'tech1',\n",
       " 'tech2',\n",
       " 'similar_item',\n",
       " 'main_cat',\n",
       " 'details',\n",
       " 'date']"
      ]
     },
     "execution_count": 44,
     "metadata": {},
     "output_type": "execute_result"
    }
   ],
   "source": [
    "ignore_fields"
   ]
  },
  {
   "cell_type": "code",
   "execution_count": 60,
   "id": "275bebce",
   "metadata": {},
   "outputs": [
    {
     "name": "stdout",
     "output_type": "stream",
     "text": [
      "['rank', 'brand', 'title', 'imageURL', 'price', 'category', 'feature', 'description', 'imageURLHighRes']\n"
     ]
    }
   ],
   "source": [
    "relevant_product_keys = [v for v in meta_keys if v not in ignore_fields]\n",
    "print(relevant_product_keys)"
   ]
  },
  {
   "cell_type": "code",
   "execution_count": 61,
   "id": "221afd4d",
   "metadata": {},
   "outputs": [],
   "source": [
    "# image URLs could be interesting to use but probably not needed for LLM \n",
    "relevant_product_keys.remove('imageURLHighRes') \n",
    "relevant_product_keys.remove('imageURL')"
   ]
  },
  {
   "cell_type": "markdown",
   "id": "173eff41",
   "metadata": {},
   "source": [
    "# 2. Graph Build"
   ]
  },
  {
   "cell_type": "code",
   "execution_count": 12,
   "id": "7b747f86",
   "metadata": {},
   "outputs": [],
   "source": [
    "G = create_graph(data_path)"
   ]
  },
  {
   "cell_type": "code",
   "execution_count": 9,
   "id": "3d2d7bef",
   "metadata": {},
   "outputs": [],
   "source": [
    "import pickle \n",
    "\n",
    "# pickle format for Python reloading \n",
    "with open(os.path.join(project_dir, \"graph\", \"concise_graph.pkl\"), 'wb') as f: \n",
    "    pickle.dump(G, f) "
   ]
  },
  {
   "cell_type": "code",
   "execution_count": 69,
   "id": "751fb46b",
   "metadata": {},
   "outputs": [
    {
     "data": {
      "text/plain": [
       "['graph.pkl', 'graphs.zip', 'graph_2.pkl']"
      ]
     },
     "execution_count": 69,
     "metadata": {},
     "output_type": "execute_result"
    }
   ],
   "source": [
    "os.listdir(graphs_dir)"
   ]
  },
  {
   "cell_type": "code",
   "execution_count": 76,
   "id": "c4ac6d21",
   "metadata": {},
   "outputs": [],
   "source": [
    "import pickle \n",
    "\n",
    "with open(os.path.join(graphs_dir, \"graph_2.pkl\"), 'rb') as f: \n",
    "    G = pickle.load(f)"
   ]
  },
  {
   "cell_type": "code",
   "execution_count": 71,
   "id": "5108cf5e",
   "metadata": {},
   "outputs": [
    {
     "name": "stdout",
     "output_type": "stream",
     "text": [
      "<class 'networkx.classes.digraph.DiGraph'>\n"
     ]
    }
   ],
   "source": [
    "print(type(G))"
   ]
  },
  {
   "cell_type": "code",
   "execution_count": 7,
   "id": "a172c579",
   "metadata": {},
   "outputs": [
    {
     "ename": "TypeError",
     "evalue": "GraphML does not support type <class 'dict'> as data values.",
     "output_type": "error",
     "traceback": [
      "\u001b[31m---------------------------------------------------------------------------\u001b[39m",
      "\u001b[31mKeyError\u001b[39m                                  Traceback (most recent call last)",
      "\u001b[36mFile \u001b[39m\u001b[32mc:\\Users\\bened\\anaconda3\\envs\\SINA-AT3\\Lib\\site-packages\\networkx\\readwrite\\graphml.py:456\u001b[39m, in \u001b[36mGraphML.get_xml_type\u001b[39m\u001b[34m(self, key)\u001b[39m\n\u001b[32m    455\u001b[39m \u001b[38;5;28;01mtry\u001b[39;00m:\n\u001b[32m--> \u001b[39m\u001b[32m456\u001b[39m     \u001b[38;5;28;01mreturn\u001b[39;00m \u001b[38;5;28;43mself\u001b[39;49m\u001b[43m.\u001b[49m\u001b[43mxml_type\u001b[49m\u001b[43m[\u001b[49m\u001b[43mkey\u001b[49m\u001b[43m]\u001b[49m\n\u001b[32m    457\u001b[39m \u001b[38;5;28;01mexcept\u001b[39;00m \u001b[38;5;167;01mKeyError\u001b[39;00m \u001b[38;5;28;01mas\u001b[39;00m err:\n",
      "\u001b[31mKeyError\u001b[39m: <class 'dict'>",
      "\nThe above exception was the direct cause of the following exception:\n",
      "\u001b[31mTypeError\u001b[39m                                 Traceback (most recent call last)",
      "\u001b[36mCell\u001b[39m\u001b[36m \u001b[39m\u001b[32mIn[7]\u001b[39m\u001b[32m, line 15\u001b[39m\n\u001b[32m     12\u001b[39m     \u001b[38;5;28;01mfor\u001b[39;00m k \u001b[38;5;129;01min\u001b[39;00m empty_keys: \n\u001b[32m     13\u001b[39m         \u001b[38;5;28;01mdel\u001b[39;00m G_xml.edges[u, v][k]\n\u001b[32m---> \u001b[39m\u001b[32m15\u001b[39m \u001b[43mnx\u001b[49m\u001b[43m.\u001b[49m\u001b[43mwrite_graphml\u001b[49m\u001b[43m(\u001b[49m\u001b[43mG_xml\u001b[49m\u001b[43m,\u001b[49m\u001b[43m \u001b[49m\u001b[43mos\u001b[49m\u001b[43m.\u001b[49m\u001b[43mpath\u001b[49m\u001b[43m.\u001b[49m\u001b[43mjoin\u001b[49m\u001b[43m(\u001b[49m\u001b[43mproject_dir\u001b[49m\u001b[43m,\u001b[49m\u001b[43m \u001b[49m\u001b[33;43m\"\u001b[39;49m\u001b[33;43mgraph\u001b[39;49m\u001b[33;43m\"\u001b[39;49m\u001b[43m,\u001b[49m\u001b[43m \u001b[49m\u001b[33;43m\"\u001b[39;49m\u001b[33;43mgraph.graphml\u001b[39;49m\u001b[33;43m\"\u001b[39;49m\u001b[43m)\u001b[49m\u001b[43m)\u001b[49m\n",
      "\u001b[36mFile \u001b[39m\u001b[32m<class 'networkx.utils.decorators.argmap'> compilation 5:5\u001b[39m, in \u001b[36margmap_write_graphml_lxml_1\u001b[39m\u001b[34m(G, path, encoding, prettyprint, infer_numeric_types, named_key_ids, edge_id_from_attribute)\u001b[39m\n\u001b[32m      3\u001b[39m \u001b[38;5;28;01mimport\u001b[39;00m\u001b[38;5;250m \u001b[39m\u001b[34;01mgzip\u001b[39;00m\n\u001b[32m      4\u001b[39m \u001b[38;5;28;01mimport\u001b[39;00m\u001b[38;5;250m \u001b[39m\u001b[34;01minspect\u001b[39;00m\n\u001b[32m----> \u001b[39m\u001b[32m5\u001b[39m \u001b[38;5;28;01mimport\u001b[39;00m\u001b[38;5;250m \u001b[39m\u001b[34;01mitertools\u001b[39;00m\n\u001b[32m      6\u001b[39m \u001b[38;5;28;01mimport\u001b[39;00m\u001b[38;5;250m \u001b[39m\u001b[34;01mre\u001b[39;00m\n\u001b[32m      7\u001b[39m \u001b[38;5;28;01mimport\u001b[39;00m\u001b[38;5;250m \u001b[39m\u001b[34;01mwarnings\u001b[39;00m\n",
      "\u001b[36mFile \u001b[39m\u001b[32mc:\\Users\\bened\\anaconda3\\envs\\SINA-AT3\\Lib\\site-packages\\networkx\\readwrite\\graphml.py:177\u001b[39m, in \u001b[36mwrite_graphml_lxml\u001b[39m\u001b[34m(G, path, encoding, prettyprint, infer_numeric_types, named_key_ids, edge_id_from_attribute)\u001b[39m\n\u001b[32m    166\u001b[39m \u001b[38;5;28;01mexcept\u001b[39;00m \u001b[38;5;167;01mImportError\u001b[39;00m:\n\u001b[32m    167\u001b[39m     \u001b[38;5;28;01mreturn\u001b[39;00m write_graphml_xml(\n\u001b[32m    168\u001b[39m         G,\n\u001b[32m    169\u001b[39m         path,\n\u001b[32m   (...)\u001b[39m\u001b[32m    174\u001b[39m         edge_id_from_attribute,\n\u001b[32m    175\u001b[39m     )\n\u001b[32m--> \u001b[39m\u001b[32m177\u001b[39m writer = \u001b[43mGraphMLWriterLxml\u001b[49m\u001b[43m(\u001b[49m\n\u001b[32m    178\u001b[39m \u001b[43m    \u001b[49m\u001b[43mpath\u001b[49m\u001b[43m,\u001b[49m\n\u001b[32m    179\u001b[39m \u001b[43m    \u001b[49m\u001b[43mgraph\u001b[49m\u001b[43m=\u001b[49m\u001b[43mG\u001b[49m\u001b[43m,\u001b[49m\n\u001b[32m    180\u001b[39m \u001b[43m    \u001b[49m\u001b[43mencoding\u001b[49m\u001b[43m=\u001b[49m\u001b[43mencoding\u001b[49m\u001b[43m,\u001b[49m\n\u001b[32m    181\u001b[39m \u001b[43m    \u001b[49m\u001b[43mprettyprint\u001b[49m\u001b[43m=\u001b[49m\u001b[43mprettyprint\u001b[49m\u001b[43m,\u001b[49m\n\u001b[32m    182\u001b[39m \u001b[43m    \u001b[49m\u001b[43minfer_numeric_types\u001b[49m\u001b[43m=\u001b[49m\u001b[43minfer_numeric_types\u001b[49m\u001b[43m,\u001b[49m\n\u001b[32m    183\u001b[39m \u001b[43m    \u001b[49m\u001b[43mnamed_key_ids\u001b[49m\u001b[43m=\u001b[49m\u001b[43mnamed_key_ids\u001b[49m\u001b[43m,\u001b[49m\n\u001b[32m    184\u001b[39m \u001b[43m    \u001b[49m\u001b[43medge_id_from_attribute\u001b[49m\u001b[43m=\u001b[49m\u001b[43medge_id_from_attribute\u001b[49m\u001b[43m,\u001b[49m\n\u001b[32m    185\u001b[39m \u001b[43m\u001b[49m\u001b[43m)\u001b[49m\n\u001b[32m    186\u001b[39m writer.dump()\n",
      "\u001b[36mFile \u001b[39m\u001b[32mc:\\Users\\bened\\anaconda3\\envs\\SINA-AT3\\Lib\\site-packages\\networkx\\readwrite\\graphml.py:747\u001b[39m, in \u001b[36mGraphMLWriterLxml.__init__\u001b[39m\u001b[34m(self, path, graph, encoding, prettyprint, infer_numeric_types, named_key_ids, edge_id_from_attribute)\u001b[39m\n\u001b[32m    744\u001b[39m \u001b[38;5;28mself\u001b[39m.attribute_types = defaultdict(\u001b[38;5;28mset\u001b[39m)\n\u001b[32m    746\u001b[39m \u001b[38;5;28;01mif\u001b[39;00m graph \u001b[38;5;129;01mis\u001b[39;00m \u001b[38;5;129;01mnot\u001b[39;00m \u001b[38;5;28;01mNone\u001b[39;00m:\n\u001b[32m--> \u001b[39m\u001b[32m747\u001b[39m     \u001b[38;5;28;43mself\u001b[39;49m\u001b[43m.\u001b[49m\u001b[43madd_graph_element\u001b[49m\u001b[43m(\u001b[49m\u001b[43mgraph\u001b[49m\u001b[43m)\u001b[49m\n",
      "\u001b[36mFile \u001b[39m\u001b[32mc:\\Users\\bened\\anaconda3\\envs\\SINA-AT3\\Lib\\site-packages\\networkx\\readwrite\\graphml.py:788\u001b[39m, in \u001b[36mGraphMLWriterLxml.add_graph_element\u001b[39m\u001b[34m(self, G)\u001b[39m\n\u001b[32m    786\u001b[39m \u001b[38;5;28;01mfor\u001b[39;00m node, d \u001b[38;5;129;01min\u001b[39;00m G.nodes(data=\u001b[38;5;28;01mTrue\u001b[39;00m):\n\u001b[32m    787\u001b[39m     \u001b[38;5;28;01mfor\u001b[39;00m k, v \u001b[38;5;129;01min\u001b[39;00m d.items():\n\u001b[32m--> \u001b[39m\u001b[32m788\u001b[39m         T = \u001b[38;5;28;43mself\u001b[39;49m\u001b[43m.\u001b[49m\u001b[43mget_xml_type\u001b[49m\u001b[43m(\u001b[49m\u001b[38;5;28;43mself\u001b[39;49m\u001b[43m.\u001b[49m\u001b[43mattr_type\u001b[49m\u001b[43m(\u001b[49m\u001b[43mk\u001b[49m\u001b[43m,\u001b[49m\u001b[43m \u001b[49m\u001b[33;43m\"\u001b[39;49m\u001b[33;43mnode\u001b[39;49m\u001b[33;43m\"\u001b[39;49m\u001b[43m,\u001b[49m\u001b[43m \u001b[49m\u001b[43mv\u001b[49m\u001b[43m)\u001b[49m\u001b[43m)\u001b[49m\n\u001b[32m    789\u001b[39m         \u001b[38;5;28mself\u001b[39m.get_key(\u001b[38;5;28mstr\u001b[39m(k), T, \u001b[33m\"\u001b[39m\u001b[33mnode\u001b[39m\u001b[33m\"\u001b[39m, node_default.get(k))\n\u001b[32m    790\u001b[39m \u001b[38;5;66;03m# Edges and data\u001b[39;00m\n",
      "\u001b[36mFile \u001b[39m\u001b[32mc:\\Users\\bened\\anaconda3\\envs\\SINA-AT3\\Lib\\site-packages\\networkx\\readwrite\\graphml.py:458\u001b[39m, in \u001b[36mGraphML.get_xml_type\u001b[39m\u001b[34m(self, key)\u001b[39m\n\u001b[32m    456\u001b[39m     \u001b[38;5;28;01mreturn\u001b[39;00m \u001b[38;5;28mself\u001b[39m.xml_type[key]\n\u001b[32m    457\u001b[39m \u001b[38;5;28;01mexcept\u001b[39;00m \u001b[38;5;167;01mKeyError\u001b[39;00m \u001b[38;5;28;01mas\u001b[39;00m err:\n\u001b[32m--> \u001b[39m\u001b[32m458\u001b[39m     \u001b[38;5;28;01mraise\u001b[39;00m \u001b[38;5;167;01mTypeError\u001b[39;00m(\n\u001b[32m    459\u001b[39m         \u001b[33mf\u001b[39m\u001b[33m\"\u001b[39m\u001b[33mGraphML does not support type \u001b[39m\u001b[38;5;132;01m{\u001b[39;00mkey\u001b[38;5;132;01m}\u001b[39;00m\u001b[33m as data values.\u001b[39m\u001b[33m\"\u001b[39m\n\u001b[32m    460\u001b[39m     ) \u001b[38;5;28;01mfrom\u001b[39;00m\u001b[38;5;250m \u001b[39m\u001b[34;01merr\u001b[39;00m\n",
      "\u001b[31mTypeError\u001b[39m: GraphML does not support type <class 'dict'> as data values."
     ]
    }
   ],
   "source": [
    "# .graphml format for interoperability with other graphing software like Gephi \n",
    "G_xml = G.copy() \n",
    "del G\n",
    "\n",
    "for node, attr in G_xml.nodes(data=True): \n",
    "    empty_keys = [k for k, v in attr.items() if v is None] \n",
    "    for k in empty_keys: \n",
    "        del G_xml.nodes[node][k]\n",
    "\n",
    "for u, v, attr in G_xml.edges(data=True): \n",
    "    empty_keys = [k for k, v in attr.items() if v is None] \n",
    "    for k in empty_keys: \n",
    "        del G_xml.edges[u, v][k]\n",
    "        \n",
    "nx.write_graphml(G_xml, os.path.join(project_dir, \"graph\", \"graph.graphml\"))"
   ]
  },
  {
   "cell_type": "code",
   "execution_count": 10,
   "id": "ed644f0c",
   "metadata": {},
   "outputs": [
    {
     "data": {
      "text/plain": [
       "['concise_graph.pkl', 'graph.graphml', 'graph.pkl']"
      ]
     },
     "execution_count": 10,
     "metadata": {},
     "output_type": "execute_result"
    }
   ],
   "source": [
    "graph_dir = os.path.join(project_dir, \"graph\") \n",
    "os.listdir(graph_dir) "
   ]
  },
  {
   "cell_type": "markdown",
   "id": "152238ad",
   "metadata": {},
   "source": [
    "## 2.2. Product Metadata"
   ]
  },
  {
   "cell_type": "code",
   "execution_count": 70,
   "id": "923f6ec7",
   "metadata": {},
   "outputs": [
    {
     "data": {
      "text/plain": [
       "{'also_buy',\n",
       " 'also_view',\n",
       " 'asin',\n",
       " 'brand',\n",
       " 'category',\n",
       " 'date',\n",
       " 'description',\n",
       " 'details',\n",
       " 'feature',\n",
       " 'fit',\n",
       " 'imageURL',\n",
       " 'imageURLHighRes',\n",
       " 'main_cat',\n",
       " 'price',\n",
       " 'rank',\n",
       " 'similar_item',\n",
       " 'tech1',\n",
       " 'tech2',\n",
       " 'title'}"
      ]
     },
     "execution_count": 70,
     "metadata": {},
     "output_type": "execute_result"
    }
   ],
   "source": [
    "meta_keys"
   ]
  },
  {
   "cell_type": "code",
   "execution_count": 72,
   "id": "71bf1030",
   "metadata": {},
   "outputs": [
    {
     "name": "stdout",
     "output_type": "stream",
     "text": [
      "['1119287111', '156477998X', '0470045558', '1908707240', 'B06XHHJ1TV', 'B015HVQDIY', 'B00Y7QWHUO', 'B073PXLX9R', '1454701374', 'B019ZIK26Y', 'B01FMMVML6', '1580175988', 'B072LC5SMF', '1544284519', '1615644598', 'B01CYTCOVM', 'B000XZYISM']\n"
     ]
    }
   ],
   "source": [
    "show_field('also_view')"
   ]
  },
  {
   "cell_type": "code",
   "execution_count": 73,
   "id": "91f7675a",
   "metadata": {},
   "outputs": [
    {
     "name": "stdout",
     "output_type": "stream",
     "text": [
      "['https://images-na.ssl-images-amazon.com/images/I/81CFp40F7XL._SY88.jpg', 'https://images-na.ssl-images-amazon.com/images/I/71K4yr41RXL._SY88.jpg', 'https://images-na.ssl-images-amazon.com/images/I/61TEjhxjm6L._SY88.jpg']\n"
     ]
    }
   ],
   "source": [
    "for node, data in G.nodes(data=True): \n",
    "    if data['bipartite'] == 'product' and 'image' in data:\n",
    "        print(data['image']) \n",
    "        break"
   ]
  },
  {
   "cell_type": "code",
   "execution_count": 74,
   "id": "4829d46f",
   "metadata": {},
   "outputs": [],
   "source": [
    "ignore_fields.extend(['imageURLHighRes', 'imageURL'])"
   ]
  },
  {
   "cell_type": "code",
   "execution_count": 75,
   "id": "5ffcc818",
   "metadata": {},
   "outputs": [
    {
     "data": {
      "text/plain": [
       "['asin',\n",
       " 'also_view',\n",
       " 'also_buy',\n",
       " 'fit',\n",
       " 'tech1',\n",
       " 'tech2',\n",
       " 'similar_item',\n",
       " 'details',\n",
       " 'date',\n",
       " 'main_cat',\n",
       " 'imageURLHighRes',\n",
       " 'imageURL']"
      ]
     },
     "execution_count": 75,
     "metadata": {},
     "output_type": "execute_result"
    }
   ],
   "source": [
    "ignore_fields"
   ]
  },
  {
   "cell_type": "code",
   "execution_count": 77,
   "id": "1c29f984",
   "metadata": {},
   "outputs": [],
   "source": [
    "# iterate through metadata \n",
    "for product in parse(metadata_path): \n",
    "    # check if product in graph \n",
    "    product_id = product.get('asin') \n",
    "    if not G.has_node(product_id): \n",
    "        continue \n",
    "    else:\n",
    "        attributes = {k:v for k, v in product.items() if k not in ignore_fields} \n",
    "        also_buy = product.get('also_buy', [])\n",
    "        also_view = product.get('also_view', []) \n",
    "        # check if node has image attribute \n",
    "        if 'image' not in G.nodes[product_id]:\n",
    "            # replace with high res if available, normal res if not, nothing if neither\n",
    "            if product.get('imageURLHighRes', None):\n",
    "                G.nodes[product_id]['image'] = product.get('imageURLHighRes') \n",
    "            elif product.get('imageURL', None): \n",
    "                G.nodes[product_id]['image'] = product.get('imageURL') \n",
    "        # add other available attributes \n",
    "        for k, v in attributes.items(): \n",
    "            G.nodes[product_id][k] = v\n",
    "        \n",
    "        # add also_buy and also_view edges \n",
    "        out_set = set(also_buy + also_view) \n",
    "        for v in out_set: \n",
    "            if not G.has_node(v): \n",
    "                continue\n",
    "            else: \n",
    "                edge_attributes = {} \n",
    "                if v in also_buy: \n",
    "                    edge_attributes['also_bought'] = True \n",
    "                if v in also_view: \n",
    "                    edge_attributes['also_viewed'] = True \n",
    "                \n",
    "                # if edge exists already, update with attributes\n",
    "                if G.has_edge(product_id, v): \n",
    "                    G.edges[product_id, v].update(edge_attributes) \n",
    "                else: \n",
    "                    # create new edge\n",
    "                    G.add_edge(product_id, v, **edge_attributes) \n"
   ]
  },
  {
   "cell_type": "code",
   "execution_count": 78,
   "id": "e382b749",
   "metadata": {},
   "outputs": [
    {
     "data": {
      "text/plain": [
       "{'bipartite': 'product',\n",
       " 'style': {'Size:': ' 1-Pack'},\n",
       " 'image': ['https://images-na.ssl-images-amazon.com/images/I/71UgrvhPErL._SY88.jpg',\n",
       "  'https://images-na.ssl-images-amazon.com/images/I/71cuWvPwm4L._SY88.jpg'],\n",
       " 'category': ['Musical Instruments',\n",
       "  'Live Sound & Stage',\n",
       "  'Stage & Studio Cables',\n",
       "  'Microphone Cables'],\n",
       " 'description': ['The CBI MLC Cables are built to last and priced to save you big money! An excellent Low-Z microphone cable, the CBI MLC offers high quality XLR male and female connectors and is compatible with any XLR connection-microphones, mixers, recorders. ..or anywhere else you need a high quality XLR connection.'],\n",
       " 'title': 'CBI MLC LowZ XLR Male to XLR Female Microphone Cable, 20 Feet',\n",
       " 'brand': 'CBI Cables',\n",
       " 'feature': ['Microphone cable for studio recording and live sound',\n",
       "  'High-quality XLR male and female connectors; 3-pin XLR male to XLR female',\n",
       "  'Protective metal housing; flexible PVC jacket with 6.0mm outer diameter',\n",
       "  'All copper conductors and inner copper spiral shielding; shielded cable reduces interference and excess noise',\n",
       "  'Measures 20-feet long; backed by a CBI Cables 10-Year Limited Warranty',\n",
       "  '<span class=\"a-size-base a-color-secondary\">\\n                Quantity: 1\\n            </span>',\n",
       "  '<span class=\"a-size-base a-color-secondary\">\\n                Length: 20 feet\\n            </span>',\n",
       "  '<span class=\"a-size-base a-color-secondary\">\\n                High Quality XLR Male and Female Connectors\\n            </span>',\n",
       "  '<span class=\"a-size-base a-color-secondary\">\\n                24-Gauge Wire\\n            </span>',\n",
       "  '<span class=\"a-size-base a-color-secondary\">\\n                Flexible Construction\\n            </span>',\n",
       "  '<span class=\"a-size-base a-color-secondary\">\\n                Durable Jacket\\n            </span>',\n",
       "  '<span class=\"a-size-base a-color-secondary\">\\n                Nickel-Plated Connectors\\n            </span>',\n",
       "  '<span class=\"a-size-base a-color-secondary\">\\n                Model: MLC20\\n            </span>'],\n",
       " 'rank': ['>#134 in Musical Instruments (See Top 100 in Musical Instruments)',\n",
       "  '>#4 in Musical Instruments > Recording Equipment > Stage & Studio Cables > Cables',\n",
       "  '>#44 in Musical Instruments > Live Sound & Stage'],\n",
       " 'price': '$9.95'}"
      ]
     },
     "execution_count": 78,
     "metadata": {},
     "output_type": "execute_result"
    }
   ],
   "source": [
    "G.nodes['B000VJJQUU']"
   ]
  },
  {
   "cell_type": "code",
   "execution_count": 81,
   "id": "4222bbe4",
   "metadata": {},
   "outputs": [],
   "source": [
    "with open(os.path.join(graphs_dir, \"graph_3.pkl\"), 'wb') as f: \n",
    "    pickle.dump(G, f) "
   ]
  },
  {
   "cell_type": "code",
   "execution_count": 82,
   "id": "42ab0ced",
   "metadata": {},
   "outputs": [
    {
     "data": {
      "text/plain": [
       "['graph.pkl', 'graphs.zip', 'graph_2.pkl', 'graph_3.pkl']"
      ]
     },
     "execution_count": 82,
     "metadata": {},
     "output_type": "execute_result"
    }
   ],
   "source": [
    "os.listdir(graphs_dir)"
   ]
  },
  {
   "cell_type": "markdown",
   "id": "3c050ee3",
   "metadata": {},
   "source": []
  },
  {
   "cell_type": "markdown",
   "id": "c1d042eb",
   "metadata": {},
   "source": [
    "# 3. Recommendation Mining "
   ]
  },
  {
   "cell_type": "markdown",
   "id": "13cf7ec9",
   "metadata": {},
   "source": [
    "## 3.1. Utility Matrix"
   ]
  },
  {
   "cell_type": "markdown",
   "id": "b84e4d9a",
   "metadata": {},
   "source": [
    "Makes more sense to create the Utility Matrix U only once so we can check it as needed. "
   ]
  },
  {
   "cell_type": "markdown",
   "id": "e3630ef1",
   "metadata": {},
   "source": [
    "### 3.1.1. Create"
   ]
  },
  {
   "cell_type": "code",
   "execution_count": 8,
   "id": "d154eb35",
   "metadata": {},
   "outputs": [],
   "source": [
    "import pandas as pd \n",
    "\n",
    "def create_utility_matrix(graph): \n",
    "    data = [] \n",
    "    for user, product, review in G.edges(data=True): \n",
    "        rating = review.get('overall') \n",
    "        if rating is not None: \n",
    "            data.append((product, user, rating))\n",
    "\n",
    "    df = pd.DataFrame(data, columns=['product_id', 'user_id', 'rating']) \n",
    "\n",
    "    utility_matrix = df.pivot(index='product_id', columns='user_id', values='rating') \n",
    "\n",
    "    return utility_matrix \n",
    "        "
   ]
  },
  {
   "cell_type": "code",
   "execution_count": 9,
   "id": "5219e8a2",
   "metadata": {},
   "outputs": [],
   "source": [
    "U = create_utility_matrix(G)"
   ]
  },
  {
   "cell_type": "code",
   "execution_count": 10,
   "id": "abac3bb9",
   "metadata": {},
   "outputs": [
    {
     "data": {
      "text/html": [
       "<div>\n",
       "<style scoped>\n",
       "    .dataframe tbody tr th:only-of-type {\n",
       "        vertical-align: middle;\n",
       "    }\n",
       "\n",
       "    .dataframe tbody tr th {\n",
       "        vertical-align: top;\n",
       "    }\n",
       "\n",
       "    .dataframe thead th {\n",
       "        text-align: right;\n",
       "    }\n",
       "</style>\n",
       "<table border=\"1\" class=\"dataframe\">\n",
       "  <thead>\n",
       "    <tr style=\"text-align: right;\">\n",
       "      <th>user_id</th>\n",
       "      <th>A0072193KFP6LUHKEXLT</th>\n",
       "      <th>A0096681Y127OL1H8W3U</th>\n",
       "      <th>A0103849GBVWICKXD4T6</th>\n",
       "      <th>A0279100VZXR9A2495P4</th>\n",
       "      <th>A0600727NK5MAF66IOY5</th>\n",
       "      <th>A0727497OR0PPNFLFPDV</th>\n",
       "      <th>A07936821FOVJO6NP4Q8</th>\n",
       "      <th>A0833006NJW9KRF77ZFY</th>\n",
       "      <th>A0955928C2RRWOWZN7UC</th>\n",
       "      <th>A10044ECXDUVKS</th>\n",
       "      <th>...</th>\n",
       "      <th>AZYCGMFCK9AIM</th>\n",
       "      <th>AZYJTD9J82V5I</th>\n",
       "      <th>AZYP4FQ2L2C4O</th>\n",
       "      <th>AZZ3WYDJ0XNZW</th>\n",
       "      <th>AZZCLFV6V8693</th>\n",
       "      <th>AZZM5MUOG0LRK</th>\n",
       "      <th>AZZT9G4MJFCHD</th>\n",
       "      <th>AZZX23UGJGKTT</th>\n",
       "      <th>AZZZ3LGTCGUZF</th>\n",
       "      <th>AZZZG8PGB1FS0</th>\n",
       "    </tr>\n",
       "    <tr>\n",
       "      <th>product_id</th>\n",
       "      <th></th>\n",
       "      <th></th>\n",
       "      <th></th>\n",
       "      <th></th>\n",
       "      <th></th>\n",
       "      <th></th>\n",
       "      <th></th>\n",
       "      <th></th>\n",
       "      <th></th>\n",
       "      <th></th>\n",
       "      <th></th>\n",
       "      <th></th>\n",
       "      <th></th>\n",
       "      <th></th>\n",
       "      <th></th>\n",
       "      <th></th>\n",
       "      <th></th>\n",
       "      <th></th>\n",
       "      <th></th>\n",
       "      <th></th>\n",
       "      <th></th>\n",
       "    </tr>\n",
       "  </thead>\n",
       "  <tbody>\n",
       "    <tr>\n",
       "      <th>0739079891</th>\n",
       "      <td>NaN</td>\n",
       "      <td>NaN</td>\n",
       "      <td>NaN</td>\n",
       "      <td>NaN</td>\n",
       "      <td>NaN</td>\n",
       "      <td>NaN</td>\n",
       "      <td>NaN</td>\n",
       "      <td>NaN</td>\n",
       "      <td>NaN</td>\n",
       "      <td>NaN</td>\n",
       "      <td>...</td>\n",
       "      <td>NaN</td>\n",
       "      <td>NaN</td>\n",
       "      <td>NaN</td>\n",
       "      <td>NaN</td>\n",
       "      <td>NaN</td>\n",
       "      <td>NaN</td>\n",
       "      <td>NaN</td>\n",
       "      <td>NaN</td>\n",
       "      <td>NaN</td>\n",
       "      <td>NaN</td>\n",
       "    </tr>\n",
       "    <tr>\n",
       "      <th>0786615206</th>\n",
       "      <td>NaN</td>\n",
       "      <td>NaN</td>\n",
       "      <td>NaN</td>\n",
       "      <td>NaN</td>\n",
       "      <td>NaN</td>\n",
       "      <td>NaN</td>\n",
       "      <td>NaN</td>\n",
       "      <td>NaN</td>\n",
       "      <td>NaN</td>\n",
       "      <td>NaN</td>\n",
       "      <td>...</td>\n",
       "      <td>NaN</td>\n",
       "      <td>NaN</td>\n",
       "      <td>NaN</td>\n",
       "      <td>NaN</td>\n",
       "      <td>NaN</td>\n",
       "      <td>NaN</td>\n",
       "      <td>NaN</td>\n",
       "      <td>NaN</td>\n",
       "      <td>NaN</td>\n",
       "      <td>NaN</td>\n",
       "    </tr>\n",
       "    <tr>\n",
       "      <th>1480360295</th>\n",
       "      <td>NaN</td>\n",
       "      <td>NaN</td>\n",
       "      <td>NaN</td>\n",
       "      <td>NaN</td>\n",
       "      <td>NaN</td>\n",
       "      <td>NaN</td>\n",
       "      <td>NaN</td>\n",
       "      <td>NaN</td>\n",
       "      <td>NaN</td>\n",
       "      <td>NaN</td>\n",
       "      <td>...</td>\n",
       "      <td>NaN</td>\n",
       "      <td>NaN</td>\n",
       "      <td>NaN</td>\n",
       "      <td>NaN</td>\n",
       "      <td>NaN</td>\n",
       "      <td>NaN</td>\n",
       "      <td>NaN</td>\n",
       "      <td>NaN</td>\n",
       "      <td>NaN</td>\n",
       "      <td>NaN</td>\n",
       "    </tr>\n",
       "    <tr>\n",
       "      <th>1928571018</th>\n",
       "      <td>NaN</td>\n",
       "      <td>NaN</td>\n",
       "      <td>NaN</td>\n",
       "      <td>NaN</td>\n",
       "      <td>NaN</td>\n",
       "      <td>NaN</td>\n",
       "      <td>NaN</td>\n",
       "      <td>NaN</td>\n",
       "      <td>NaN</td>\n",
       "      <td>NaN</td>\n",
       "      <td>...</td>\n",
       "      <td>NaN</td>\n",
       "      <td>NaN</td>\n",
       "      <td>NaN</td>\n",
       "      <td>NaN</td>\n",
       "      <td>NaN</td>\n",
       "      <td>NaN</td>\n",
       "      <td>NaN</td>\n",
       "      <td>NaN</td>\n",
       "      <td>NaN</td>\n",
       "      <td>NaN</td>\n",
       "    </tr>\n",
       "    <tr>\n",
       "      <th>9792372326</th>\n",
       "      <td>NaN</td>\n",
       "      <td>NaN</td>\n",
       "      <td>NaN</td>\n",
       "      <td>NaN</td>\n",
       "      <td>NaN</td>\n",
       "      <td>NaN</td>\n",
       "      <td>NaN</td>\n",
       "      <td>NaN</td>\n",
       "      <td>NaN</td>\n",
       "      <td>NaN</td>\n",
       "      <td>...</td>\n",
       "      <td>NaN</td>\n",
       "      <td>NaN</td>\n",
       "      <td>NaN</td>\n",
       "      <td>NaN</td>\n",
       "      <td>NaN</td>\n",
       "      <td>NaN</td>\n",
       "      <td>NaN</td>\n",
       "      <td>NaN</td>\n",
       "      <td>NaN</td>\n",
       "      <td>NaN</td>\n",
       "    </tr>\n",
       "  </tbody>\n",
       "</table>\n",
       "<p>5 rows × 27530 columns</p>\n",
       "</div>"
      ],
      "text/plain": [
       "user_id     A0072193KFP6LUHKEXLT  A0096681Y127OL1H8W3U  A0103849GBVWICKXD4T6  \\\n",
       "product_id                                                                     \n",
       "0739079891                   NaN                   NaN                   NaN   \n",
       "0786615206                   NaN                   NaN                   NaN   \n",
       "1480360295                   NaN                   NaN                   NaN   \n",
       "1928571018                   NaN                   NaN                   NaN   \n",
       "9792372326                   NaN                   NaN                   NaN   \n",
       "\n",
       "user_id     A0279100VZXR9A2495P4  A0600727NK5MAF66IOY5  A0727497OR0PPNFLFPDV  \\\n",
       "product_id                                                                     \n",
       "0739079891                   NaN                   NaN                   NaN   \n",
       "0786615206                   NaN                   NaN                   NaN   \n",
       "1480360295                   NaN                   NaN                   NaN   \n",
       "1928571018                   NaN                   NaN                   NaN   \n",
       "9792372326                   NaN                   NaN                   NaN   \n",
       "\n",
       "user_id     A07936821FOVJO6NP4Q8  A0833006NJW9KRF77ZFY  A0955928C2RRWOWZN7UC  \\\n",
       "product_id                                                                     \n",
       "0739079891                   NaN                   NaN                   NaN   \n",
       "0786615206                   NaN                   NaN                   NaN   \n",
       "1480360295                   NaN                   NaN                   NaN   \n",
       "1928571018                   NaN                   NaN                   NaN   \n",
       "9792372326                   NaN                   NaN                   NaN   \n",
       "\n",
       "user_id     A10044ECXDUVKS  ...  AZYCGMFCK9AIM  AZYJTD9J82V5I  AZYP4FQ2L2C4O  \\\n",
       "product_id                  ...                                                \n",
       "0739079891             NaN  ...            NaN            NaN            NaN   \n",
       "0786615206             NaN  ...            NaN            NaN            NaN   \n",
       "1480360295             NaN  ...            NaN            NaN            NaN   \n",
       "1928571018             NaN  ...            NaN            NaN            NaN   \n",
       "9792372326             NaN  ...            NaN            NaN            NaN   \n",
       "\n",
       "user_id     AZZ3WYDJ0XNZW  AZZCLFV6V8693  AZZM5MUOG0LRK  AZZT9G4MJFCHD  \\\n",
       "product_id                                                               \n",
       "0739079891            NaN            NaN            NaN            NaN   \n",
       "0786615206            NaN            NaN            NaN            NaN   \n",
       "1480360295            NaN            NaN            NaN            NaN   \n",
       "1928571018            NaN            NaN            NaN            NaN   \n",
       "9792372326            NaN            NaN            NaN            NaN   \n",
       "\n",
       "user_id     AZZX23UGJGKTT  AZZZ3LGTCGUZF  AZZZG8PGB1FS0  \n",
       "product_id                                               \n",
       "0739079891            NaN            NaN            NaN  \n",
       "0786615206            NaN            NaN            NaN  \n",
       "1480360295            NaN            NaN            NaN  \n",
       "1928571018            NaN            NaN            NaN  \n",
       "9792372326            NaN            NaN            NaN  \n",
       "\n",
       "[5 rows x 27530 columns]"
      ]
     },
     "execution_count": 10,
     "metadata": {},
     "output_type": "execute_result"
    }
   ],
   "source": [
    "U.head() "
   ]
  },
  {
   "cell_type": "code",
   "execution_count": 32,
   "id": "5d7cb6d4",
   "metadata": {},
   "outputs": [
    {
     "data": {
      "text/plain": [
       "user_id\n",
       "A0072193KFP6LUHKEXLT    10616\n",
       "A0096681Y127OL1H8W3U    10581\n",
       "A0103849GBVWICKXD4T6    10615\n",
       "A0279100VZXR9A2495P4    10615\n",
       "A0600727NK5MAF66IOY5    10616\n",
       "                        ...  \n",
       "AZZM5MUOG0LRK           10612\n",
       "AZZT9G4MJFCHD           10612\n",
       "AZZX23UGJGKTT           10613\n",
       "AZZZ3LGTCGUZF           10615\n",
       "AZZZG8PGB1FS0           10615\n",
       "Length: 27530, dtype: int64"
      ]
     },
     "execution_count": 32,
     "metadata": {},
     "output_type": "execute_result"
    }
   ],
   "source": [
    "U.isnull().sum()"
   ]
  },
  {
   "cell_type": "code",
   "execution_count": 12,
   "id": "d7ed6a6d",
   "metadata": {},
   "outputs": [
    {
     "name": "stdout",
     "output_type": "stream",
     "text": [
      "27530\n",
      "10620\n"
     ]
    }
   ],
   "source": [
    "print(len(U.columns)) \n",
    "print(len(U.index))"
   ]
  },
  {
   "cell_type": "code",
   "execution_count": null,
   "id": "c29b2395",
   "metadata": {},
   "outputs": [],
   "source": [
    "U.to_csv(os.path.join(project_dir, \"lookups\", \"Utility_Matrix.csv\")) "
   ]
  },
  {
   "cell_type": "code",
   "execution_count": 34,
   "id": "e73b7e90",
   "metadata": {},
   "outputs": [],
   "source": [
    "from scipy import sparse \n",
    "from os.path import join\n",
    "\n",
    "# fill na with 0s \n",
    "U_zeroed = U.fillna(0) \n",
    "U_sparse = sparse.csr_matrix(U_zeroed.values) \n",
    "\n",
    "product_index = U.index.to_list() \n",
    "user_columns = U.columns.to_list() \n",
    "\n",
    "lookups_dir = join(project_dir, \"lookups\") \n",
    "\n",
    "sparse.save_npz(join(lookups_dir, \"utility_matrix.npz\"), U_sparse) \n",
    "# np.save(join(lookups_dir, \"product_index.npy\"), product_index) \n",
    "# np.save(join(lookups_dir, \"user_columns.npy\"), user_columns) "
   ]
  },
  {
   "cell_type": "code",
   "execution_count": 38,
   "id": "e2d6b61c",
   "metadata": {},
   "outputs": [
    {
     "data": {
      "text/plain": [
       "<Compressed Sparse Row sparse matrix of dtype 'float64'\n",
       "\twith 35 stored elements and shape (1, 27530)>"
      ]
     },
     "execution_count": 38,
     "metadata": {},
     "output_type": "execute_result"
    }
   ],
   "source": [
    "U_sparse[0][0]"
   ]
  },
  {
   "cell_type": "markdown",
   "id": "bc3a7882",
   "metadata": {},
   "source": [
    "### 3.2.2. Reload "
   ]
  },
  {
   "cell_type": "code",
   "execution_count": 11,
   "id": "37a002b7",
   "metadata": {},
   "outputs": [
    {
     "data": {
      "text/plain": [
       "['lookups.zip',\n",
       " 'prediction_matrix.npz',\n",
       " 'product_index.npy',\n",
       " 'similarity_matrix.npz',\n",
       " 'top5_recs',\n",
       " 'user_columns.npy',\n",
       " 'utility_matrix.npz']"
      ]
     },
     "execution_count": 11,
     "metadata": {},
     "output_type": "execute_result"
    }
   ],
   "source": [
    "os.listdir(lookups_dir)"
   ]
  },
  {
   "cell_type": "code",
   "execution_count": 4,
   "id": "7fdbfc5f",
   "metadata": {},
   "outputs": [
    {
     "data": {
      "text/html": [
       "<div>\n",
       "<style scoped>\n",
       "    .dataframe tbody tr th:only-of-type {\n",
       "        vertical-align: middle;\n",
       "    }\n",
       "\n",
       "    .dataframe tbody tr th {\n",
       "        vertical-align: top;\n",
       "    }\n",
       "\n",
       "    .dataframe thead th {\n",
       "        text-align: right;\n",
       "    }\n",
       "</style>\n",
       "<table border=\"1\" class=\"dataframe\">\n",
       "  <thead>\n",
       "    <tr style=\"text-align: right;\">\n",
       "      <th></th>\n",
       "      <th>A0072193KFP6LUHKEXLT</th>\n",
       "      <th>A0096681Y127OL1H8W3U</th>\n",
       "      <th>A0103849GBVWICKXD4T6</th>\n",
       "      <th>A0279100VZXR9A2495P4</th>\n",
       "      <th>A0600727NK5MAF66IOY5</th>\n",
       "      <th>A0727497OR0PPNFLFPDV</th>\n",
       "      <th>A07936821FOVJO6NP4Q8</th>\n",
       "      <th>A0833006NJW9KRF77ZFY</th>\n",
       "      <th>A0955928C2RRWOWZN7UC</th>\n",
       "      <th>A10044ECXDUVKS</th>\n",
       "      <th>...</th>\n",
       "      <th>AZYCGMFCK9AIM</th>\n",
       "      <th>AZYJTD9J82V5I</th>\n",
       "      <th>AZYP4FQ2L2C4O</th>\n",
       "      <th>AZZ3WYDJ0XNZW</th>\n",
       "      <th>AZZCLFV6V8693</th>\n",
       "      <th>AZZM5MUOG0LRK</th>\n",
       "      <th>AZZT9G4MJFCHD</th>\n",
       "      <th>AZZX23UGJGKTT</th>\n",
       "      <th>AZZZ3LGTCGUZF</th>\n",
       "      <th>AZZZG8PGB1FS0</th>\n",
       "    </tr>\n",
       "  </thead>\n",
       "  <tbody>\n",
       "    <tr>\n",
       "      <th>0739079891</th>\n",
       "      <td>0</td>\n",
       "      <td>0</td>\n",
       "      <td>0</td>\n",
       "      <td>0</td>\n",
       "      <td>0</td>\n",
       "      <td>0</td>\n",
       "      <td>0</td>\n",
       "      <td>0</td>\n",
       "      <td>0</td>\n",
       "      <td>0</td>\n",
       "      <td>...</td>\n",
       "      <td>0</td>\n",
       "      <td>0</td>\n",
       "      <td>0</td>\n",
       "      <td>0</td>\n",
       "      <td>0</td>\n",
       "      <td>0</td>\n",
       "      <td>0</td>\n",
       "      <td>0</td>\n",
       "      <td>0</td>\n",
       "      <td>0</td>\n",
       "    </tr>\n",
       "    <tr>\n",
       "      <th>0786615206</th>\n",
       "      <td>0</td>\n",
       "      <td>0</td>\n",
       "      <td>0</td>\n",
       "      <td>0</td>\n",
       "      <td>0</td>\n",
       "      <td>0</td>\n",
       "      <td>0</td>\n",
       "      <td>0</td>\n",
       "      <td>0</td>\n",
       "      <td>0</td>\n",
       "      <td>...</td>\n",
       "      <td>0</td>\n",
       "      <td>0</td>\n",
       "      <td>0</td>\n",
       "      <td>0</td>\n",
       "      <td>0</td>\n",
       "      <td>0</td>\n",
       "      <td>0</td>\n",
       "      <td>0</td>\n",
       "      <td>0</td>\n",
       "      <td>0</td>\n",
       "    </tr>\n",
       "    <tr>\n",
       "      <th>1480360295</th>\n",
       "      <td>0</td>\n",
       "      <td>0</td>\n",
       "      <td>0</td>\n",
       "      <td>0</td>\n",
       "      <td>0</td>\n",
       "      <td>0</td>\n",
       "      <td>0</td>\n",
       "      <td>0</td>\n",
       "      <td>0</td>\n",
       "      <td>0</td>\n",
       "      <td>...</td>\n",
       "      <td>0</td>\n",
       "      <td>0</td>\n",
       "      <td>0</td>\n",
       "      <td>0</td>\n",
       "      <td>0</td>\n",
       "      <td>0</td>\n",
       "      <td>0</td>\n",
       "      <td>0</td>\n",
       "      <td>0</td>\n",
       "      <td>0</td>\n",
       "    </tr>\n",
       "    <tr>\n",
       "      <th>1928571018</th>\n",
       "      <td>0</td>\n",
       "      <td>0</td>\n",
       "      <td>0</td>\n",
       "      <td>0</td>\n",
       "      <td>0</td>\n",
       "      <td>0</td>\n",
       "      <td>0</td>\n",
       "      <td>0</td>\n",
       "      <td>0</td>\n",
       "      <td>0</td>\n",
       "      <td>...</td>\n",
       "      <td>0</td>\n",
       "      <td>0</td>\n",
       "      <td>0</td>\n",
       "      <td>0</td>\n",
       "      <td>0</td>\n",
       "      <td>0</td>\n",
       "      <td>0</td>\n",
       "      <td>0</td>\n",
       "      <td>0</td>\n",
       "      <td>0</td>\n",
       "    </tr>\n",
       "    <tr>\n",
       "      <th>9792372326</th>\n",
       "      <td>0</td>\n",
       "      <td>0</td>\n",
       "      <td>0</td>\n",
       "      <td>0</td>\n",
       "      <td>0</td>\n",
       "      <td>0</td>\n",
       "      <td>0</td>\n",
       "      <td>0</td>\n",
       "      <td>0</td>\n",
       "      <td>0</td>\n",
       "      <td>...</td>\n",
       "      <td>0</td>\n",
       "      <td>0</td>\n",
       "      <td>0</td>\n",
       "      <td>0</td>\n",
       "      <td>0</td>\n",
       "      <td>0</td>\n",
       "      <td>0</td>\n",
       "      <td>0</td>\n",
       "      <td>0</td>\n",
       "      <td>0</td>\n",
       "    </tr>\n",
       "  </tbody>\n",
       "</table>\n",
       "<p>5 rows × 27530 columns</p>\n",
       "</div>"
      ],
      "text/plain": [
       "            A0072193KFP6LUHKEXLT  A0096681Y127OL1H8W3U  A0103849GBVWICKXD4T6  \\\n",
       "0739079891                     0                     0                     0   \n",
       "0786615206                     0                     0                     0   \n",
       "1480360295                     0                     0                     0   \n",
       "1928571018                     0                     0                     0   \n",
       "9792372326                     0                     0                     0   \n",
       "\n",
       "            A0279100VZXR9A2495P4  A0600727NK5MAF66IOY5  A0727497OR0PPNFLFPDV  \\\n",
       "0739079891                     0                     0                     0   \n",
       "0786615206                     0                     0                     0   \n",
       "1480360295                     0                     0                     0   \n",
       "1928571018                     0                     0                     0   \n",
       "9792372326                     0                     0                     0   \n",
       "\n",
       "            A07936821FOVJO6NP4Q8  A0833006NJW9KRF77ZFY  A0955928C2RRWOWZN7UC  \\\n",
       "0739079891                     0                     0                     0   \n",
       "0786615206                     0                     0                     0   \n",
       "1480360295                     0                     0                     0   \n",
       "1928571018                     0                     0                     0   \n",
       "9792372326                     0                     0                     0   \n",
       "\n",
       "            A10044ECXDUVKS  ...  AZYCGMFCK9AIM  AZYJTD9J82V5I  AZYP4FQ2L2C4O  \\\n",
       "0739079891               0  ...              0              0              0   \n",
       "0786615206               0  ...              0              0              0   \n",
       "1480360295               0  ...              0              0              0   \n",
       "1928571018               0  ...              0              0              0   \n",
       "9792372326               0  ...              0              0              0   \n",
       "\n",
       "            AZZ3WYDJ0XNZW  AZZCLFV6V8693  AZZM5MUOG0LRK  AZZT9G4MJFCHD  \\\n",
       "0739079891              0              0              0              0   \n",
       "0786615206              0              0              0              0   \n",
       "1480360295              0              0              0              0   \n",
       "1928571018              0              0              0              0   \n",
       "9792372326              0              0              0              0   \n",
       "\n",
       "            AZZX23UGJGKTT  AZZZ3LGTCGUZF  AZZZG8PGB1FS0  \n",
       "0739079891              0              0              0  \n",
       "0786615206              0              0              0  \n",
       "1480360295              0              0              0  \n",
       "1928571018              0              0              0  \n",
       "9792372326              0              0              0  \n",
       "\n",
       "[5 rows x 27530 columns]"
      ]
     },
     "execution_count": 4,
     "metadata": {},
     "output_type": "execute_result"
    }
   ],
   "source": [
    "from scipy import sparse\n",
    "import pandas as pd\n",
    "import os\n",
    "\n",
    "U_sparse = sparse.load_npz(os.path.join(lookups_dir, \"utility_matrix.npz\")) \n",
    "user_cols = np.load(os.path.join(lookups_dir, \"user_index.npy\"), allow_pickle=True)\n",
    "product_index = np.load(os.path.join(lookups_dir, \"product_index.npy\"), allow_pickle=True) \n",
    "\n",
    "U = pd.DataFrame.sparse.from_spmatrix(\n",
    "    U_sparse, \n",
    "    index=product_index, \n",
    "    columns=user_cols\n",
    ")\n",
    "U.head()"
   ]
  },
  {
   "cell_type": "code",
   "execution_count": 36,
   "id": "9e41618c",
   "metadata": {},
   "outputs": [
    {
     "name": "stdout",
     "output_type": "stream",
     "text": [
      "Min: 1.0\n",
      "Max: 5.0\n",
      "Mean: 4.470623665334283\n",
      "Median: 5.0\n",
      "Standard Deviation: 0.9810620650832315\n"
     ]
    }
   ],
   "source": [
    "U_data = U_sparse.data\n",
    "U_values = U_data[~np.isnan(U_data)]\n",
    "\n",
    "print(\"Min:\", U_values.min()) \n",
    "print(\"Max:\", U_values.max()) \n",
    "print(\"Mean:\", U_values.mean()) \n",
    "print(\"Median:\", np.median(U_values)) \n",
    "print(\"Standard Deviation:\", U_values.std()) "
   ]
  },
  {
   "cell_type": "code",
   "execution_count": 15,
   "id": "c8460fc0",
   "metadata": {},
   "outputs": [
    {
     "data": {
      "text/plain": [
       "['prediction_matrix.npz',\n",
       " 'P_cols.npy',\n",
       " 'P_rows.npy',\n",
       " 'similarity_matrix.npz',\n",
       " 'S_cols.npy',\n",
       " 'S_rows.npy',\n",
       " 'utility_matrix.npz',\n",
       " 'U_cols.npy',\n",
       " 'U_rows.npy']"
      ]
     },
     "execution_count": 15,
     "metadata": {},
     "output_type": "execute_result"
    }
   ],
   "source": [
    "os.listdir(lookups_dir)"
   ]
  },
  {
   "cell_type": "markdown",
   "id": "f8220e14",
   "metadata": {},
   "source": [
    "## 3.2. Similarity\n",
    "\n",
    "<b> Goal </b> \n",
    "\n",
    "Given a user u, we want to return a vector of items with top-r highest predicted rating. \n",
    "\n",
    "<b> Procedure </b>\n",
    "\n",
    "Given user u, generate a similarity vector with all other users with cosine similarity metric. \n",
    "\n",
    "Then, for each item i that u has not reviewed, generate u's predicted rating for i by: \n",
    "\n",
    "1. Finding set N of top-k users most similar to u who have also rated i. Consult the existing similarity vector to do so. \n",
    "\n",
    "2. Generate predicted rating based on N set. \n",
    "\n",
    "Repeat this for all items not rated by u. Find the min top-r highest ratings. For straight ties return all?   \n",
    "\n",
    "Would I think make sense to create a single lookup for this so we only have to do it once. Repeat the process for all users. "
   ]
  },
  {
   "cell_type": "markdown",
   "id": "21ce84ab",
   "metadata": {},
   "source": [
    "## 3.2.1. Create Similarity Matrix (S)"
   ]
  },
  {
   "cell_type": "code",
   "execution_count": 5,
   "id": "f11c4d01",
   "metadata": {},
   "outputs": [],
   "source": [
    "from sklearn.metrics.pairwise import cosine_similarity \n",
    "from sklearn.impute import SimpleImputer \n",
    "\n",
    "def create_similarity_matrix(U, CF='user'):\n",
    "    if CF == 'user': \n",
    "        # transpose Utility Matrix \n",
    "        matrix = U.T \n",
    "    elif CF == 'item': \n",
    "        matrix = U \n",
    "    else: \n",
    "        raise ValueError(\"CF parameter takes 'user' (default) for user-user collaborative filtering, or 'item' for item-item collaborative filtering.\")\n",
    "    \n",
    "    # Impute missing values \n",
    "    imputer = SimpleImputer(strategy='constant', fill_value=0) \n",
    "    matrix_filled = imputer.fit_transform(matrix) \n",
    "    # Compute cosine similarity between users \n",
    "    similarity = cosine_similarity(matrix_filled) \n",
    "    # DataFrame for quick lookups \n",
    "    similarity_df = pd.DataFrame(\n",
    "        similarity, \n",
    "        index=matrix.index, \n",
    "        columns=matrix.index \n",
    "    )\n",
    "    return similarity_df "
   ]
  },
  {
   "cell_type": "markdown",
   "id": "b87fd0ea",
   "metadata": {},
   "source": [
    "#### 3.2.1.1. User-User (S) "
   ]
  },
  {
   "cell_type": "code",
   "execution_count": 81,
   "id": "2dbb6b11",
   "metadata": {},
   "outputs": [
    {
     "ename": "KeyboardInterrupt",
     "evalue": "",
     "output_type": "error",
     "traceback": [
      "\u001b[31m---------------------------------------------------------------------------\u001b[39m",
      "\u001b[31mKeyboardInterrupt\u001b[39m                         Traceback (most recent call last)",
      "\u001b[36mCell\u001b[39m\u001b[36m \u001b[39m\u001b[32mIn[81]\u001b[39m\u001b[32m, line 2\u001b[39m\n\u001b[32m      1\u001b[39m \u001b[38;5;66;03m# call to create the similarity matrix \u001b[39;00m\n\u001b[32m----> \u001b[39m\u001b[32m2\u001b[39m S = \u001b[43mcreate_similarity_matrix\u001b[49m\u001b[43m(\u001b[49m\u001b[43mU\u001b[49m\u001b[43m)\u001b[49m \n",
      "\u001b[36mCell\u001b[39m\u001b[36m \u001b[39m\u001b[32mIn[76]\u001b[39m\u001b[32m, line 17\u001b[39m, in \u001b[36mcreate_similarity_matrix\u001b[39m\u001b[34m(U, CF)\u001b[39m\n\u001b[32m     15\u001b[39m matrix_filled = imputer.fit_transform(matrix) \n\u001b[32m     16\u001b[39m \u001b[38;5;66;03m# Compute cosine similarity between users \u001b[39;00m\n\u001b[32m---> \u001b[39m\u001b[32m17\u001b[39m similarity = \u001b[43mcosine_similarity\u001b[49m\u001b[43m(\u001b[49m\u001b[43mmatrix_filled\u001b[49m\u001b[43m)\u001b[49m \n\u001b[32m     18\u001b[39m \u001b[38;5;66;03m# DataFrame for quick lookups \u001b[39;00m\n\u001b[32m     19\u001b[39m similarity_df = pd.DataFrame(\n\u001b[32m     20\u001b[39m     similarity, \n\u001b[32m     21\u001b[39m     index=matrix.index, \n\u001b[32m     22\u001b[39m     columns=matrix.index \n\u001b[32m     23\u001b[39m )\n",
      "\u001b[36mFile \u001b[39m\u001b[32mc:\\Users\\bened\\anaconda3\\envs\\SINA-AT3\\Lib\\site-packages\\sklearn\\utils\\_param_validation.py:216\u001b[39m, in \u001b[36mvalidate_params.<locals>.decorator.<locals>.wrapper\u001b[39m\u001b[34m(*args, **kwargs)\u001b[39m\n\u001b[32m    210\u001b[39m \u001b[38;5;28;01mtry\u001b[39;00m:\n\u001b[32m    211\u001b[39m     \u001b[38;5;28;01mwith\u001b[39;00m config_context(\n\u001b[32m    212\u001b[39m         skip_parameter_validation=(\n\u001b[32m    213\u001b[39m             prefer_skip_nested_validation \u001b[38;5;129;01mor\u001b[39;00m global_skip_validation\n\u001b[32m    214\u001b[39m         )\n\u001b[32m    215\u001b[39m     ):\n\u001b[32m--> \u001b[39m\u001b[32m216\u001b[39m         \u001b[38;5;28;01mreturn\u001b[39;00m \u001b[43mfunc\u001b[49m\u001b[43m(\u001b[49m\u001b[43m*\u001b[49m\u001b[43margs\u001b[49m\u001b[43m,\u001b[49m\u001b[43m \u001b[49m\u001b[43m*\u001b[49m\u001b[43m*\u001b[49m\u001b[43mkwargs\u001b[49m\u001b[43m)\u001b[49m\n\u001b[32m    217\u001b[39m \u001b[38;5;28;01mexcept\u001b[39;00m InvalidParameterError \u001b[38;5;28;01mas\u001b[39;00m e:\n\u001b[32m    218\u001b[39m     \u001b[38;5;66;03m# When the function is just a wrapper around an estimator, we allow\u001b[39;00m\n\u001b[32m    219\u001b[39m     \u001b[38;5;66;03m# the function to delegate validation to the estimator, but we replace\u001b[39;00m\n\u001b[32m    220\u001b[39m     \u001b[38;5;66;03m# the name of the estimator by the name of the function in the error\u001b[39;00m\n\u001b[32m    221\u001b[39m     \u001b[38;5;66;03m# message to avoid confusion.\u001b[39;00m\n\u001b[32m    222\u001b[39m     msg = re.sub(\n\u001b[32m    223\u001b[39m         \u001b[33mr\u001b[39m\u001b[33m\"\u001b[39m\u001b[33mparameter of \u001b[39m\u001b[33m\\\u001b[39m\u001b[33mw+ must be\u001b[39m\u001b[33m\"\u001b[39m,\n\u001b[32m    224\u001b[39m         \u001b[33mf\u001b[39m\u001b[33m\"\u001b[39m\u001b[33mparameter of \u001b[39m\u001b[38;5;132;01m{\u001b[39;00mfunc.\u001b[34m__qualname__\u001b[39m\u001b[38;5;132;01m}\u001b[39;00m\u001b[33m must be\u001b[39m\u001b[33m\"\u001b[39m,\n\u001b[32m    225\u001b[39m         \u001b[38;5;28mstr\u001b[39m(e),\n\u001b[32m    226\u001b[39m     )\n",
      "\u001b[36mFile \u001b[39m\u001b[32mc:\\Users\\bened\\anaconda3\\envs\\SINA-AT3\\Lib\\site-packages\\sklearn\\metrics\\pairwise.py:1749\u001b[39m, in \u001b[36mcosine_similarity\u001b[39m\u001b[34m(X, Y, dense_output)\u001b[39m\n\u001b[32m   1746\u001b[39m \u001b[38;5;28;01melse\u001b[39;00m:\n\u001b[32m   1747\u001b[39m     Y_normalized = normalize(Y, copy=\u001b[38;5;28;01mTrue\u001b[39;00m)\n\u001b[32m-> \u001b[39m\u001b[32m1749\u001b[39m K = \u001b[43msafe_sparse_dot\u001b[49m\u001b[43m(\u001b[49m\u001b[43mX_normalized\u001b[49m\u001b[43m,\u001b[49m\u001b[43m \u001b[49m\u001b[43mY_normalized\u001b[49m\u001b[43m.\u001b[49m\u001b[43mT\u001b[49m\u001b[43m,\u001b[49m\u001b[43m \u001b[49m\u001b[43mdense_output\u001b[49m\u001b[43m=\u001b[49m\u001b[43mdense_output\u001b[49m\u001b[43m)\u001b[49m\n\u001b[32m   1751\u001b[39m \u001b[38;5;28;01mreturn\u001b[39;00m K\n",
      "\u001b[36mFile \u001b[39m\u001b[32mc:\\Users\\bened\\anaconda3\\envs\\SINA-AT3\\Lib\\site-packages\\sklearn\\utils\\extmath.py:211\u001b[39m, in \u001b[36msafe_sparse_dot\u001b[39m\u001b[34m(a, b, dense_output)\u001b[39m\n\u001b[32m    203\u001b[39m     ret = a @ b\n\u001b[32m    205\u001b[39m \u001b[38;5;28;01mif\u001b[39;00m (\n\u001b[32m    206\u001b[39m     sparse.issparse(a)\n\u001b[32m    207\u001b[39m     \u001b[38;5;129;01mand\u001b[39;00m sparse.issparse(b)\n\u001b[32m    208\u001b[39m     \u001b[38;5;129;01mand\u001b[39;00m dense_output\n\u001b[32m    209\u001b[39m     \u001b[38;5;129;01mand\u001b[39;00m \u001b[38;5;28mhasattr\u001b[39m(ret, \u001b[33m\"\u001b[39m\u001b[33mtoarray\u001b[39m\u001b[33m\"\u001b[39m)\n\u001b[32m    210\u001b[39m ):\n\u001b[32m--> \u001b[39m\u001b[32m211\u001b[39m     \u001b[38;5;28;01mreturn\u001b[39;00m \u001b[43mret\u001b[49m\u001b[43m.\u001b[49m\u001b[43mtoarray\u001b[49m\u001b[43m(\u001b[49m\u001b[43m)\u001b[49m\n\u001b[32m    212\u001b[39m \u001b[38;5;28;01mreturn\u001b[39;00m ret\n",
      "\u001b[36mFile \u001b[39m\u001b[32mc:\\Users\\bened\\anaconda3\\envs\\SINA-AT3\\Lib\\site-packages\\scipy\\sparse\\_compressed.py:1181\u001b[39m, in \u001b[36m_cs_matrix.toarray\u001b[39m\u001b[34m(self, order, out)\u001b[39m\n\u001b[32m   1179\u001b[39m     y = out.T\n\u001b[32m   1180\u001b[39m M, N = x._swap(x._shape_as_2d)\n\u001b[32m-> \u001b[39m\u001b[32m1181\u001b[39m \u001b[43mcsr_todense\u001b[49m\u001b[43m(\u001b[49m\u001b[43mM\u001b[49m\u001b[43m,\u001b[49m\u001b[43m \u001b[49m\u001b[43mN\u001b[49m\u001b[43m,\u001b[49m\u001b[43m \u001b[49m\u001b[43mx\u001b[49m\u001b[43m.\u001b[49m\u001b[43mindptr\u001b[49m\u001b[43m,\u001b[49m\u001b[43m \u001b[49m\u001b[43mx\u001b[49m\u001b[43m.\u001b[49m\u001b[43mindices\u001b[49m\u001b[43m,\u001b[49m\u001b[43m \u001b[49m\u001b[43mx\u001b[49m\u001b[43m.\u001b[49m\u001b[43mdata\u001b[49m\u001b[43m,\u001b[49m\u001b[43m \u001b[49m\u001b[43my\u001b[49m\u001b[43m)\u001b[49m\n\u001b[32m   1182\u001b[39m \u001b[38;5;28;01mreturn\u001b[39;00m out\n",
      "\u001b[31mKeyboardInterrupt\u001b[39m: "
     ]
    }
   ],
   "source": [
    "# call to create the similarity matrix \n",
    "S = create_similarity_matrix(U) "
   ]
  },
  {
   "cell_type": "code",
   "execution_count": null,
   "id": "b4e26afd",
   "metadata": {},
   "outputs": [],
   "source": [
    "S.dtype"
   ]
  },
  {
   "cell_type": "code",
   "execution_count": 15,
   "id": "489bb612",
   "metadata": {},
   "outputs": [
    {
     "data": {
      "text/html": [
       "<div>\n",
       "<style scoped>\n",
       "    .dataframe tbody tr th:only-of-type {\n",
       "        vertical-align: middle;\n",
       "    }\n",
       "\n",
       "    .dataframe tbody tr th {\n",
       "        vertical-align: top;\n",
       "    }\n",
       "\n",
       "    .dataframe thead th {\n",
       "        text-align: right;\n",
       "    }\n",
       "</style>\n",
       "<table border=\"1\" class=\"dataframe\">\n",
       "  <thead>\n",
       "    <tr style=\"text-align: right;\">\n",
       "      <th>user_id</th>\n",
       "      <th>A0072193KFP6LUHKEXLT</th>\n",
       "      <th>A0096681Y127OL1H8W3U</th>\n",
       "      <th>A0103849GBVWICKXD4T6</th>\n",
       "      <th>A0279100VZXR9A2495P4</th>\n",
       "      <th>A0600727NK5MAF66IOY5</th>\n",
       "      <th>A0727497OR0PPNFLFPDV</th>\n",
       "      <th>A07936821FOVJO6NP4Q8</th>\n",
       "      <th>A0833006NJW9KRF77ZFY</th>\n",
       "      <th>A0955928C2RRWOWZN7UC</th>\n",
       "      <th>A10044ECXDUVKS</th>\n",
       "      <th>...</th>\n",
       "      <th>AZYCGMFCK9AIM</th>\n",
       "      <th>AZYJTD9J82V5I</th>\n",
       "      <th>AZYP4FQ2L2C4O</th>\n",
       "      <th>AZZ3WYDJ0XNZW</th>\n",
       "      <th>AZZCLFV6V8693</th>\n",
       "      <th>AZZM5MUOG0LRK</th>\n",
       "      <th>AZZT9G4MJFCHD</th>\n",
       "      <th>AZZX23UGJGKTT</th>\n",
       "      <th>AZZZ3LGTCGUZF</th>\n",
       "      <th>AZZZG8PGB1FS0</th>\n",
       "    </tr>\n",
       "    <tr>\n",
       "      <th>user_id</th>\n",
       "      <th></th>\n",
       "      <th></th>\n",
       "      <th></th>\n",
       "      <th></th>\n",
       "      <th></th>\n",
       "      <th></th>\n",
       "      <th></th>\n",
       "      <th></th>\n",
       "      <th></th>\n",
       "      <th></th>\n",
       "      <th></th>\n",
       "      <th></th>\n",
       "      <th></th>\n",
       "      <th></th>\n",
       "      <th></th>\n",
       "      <th></th>\n",
       "      <th></th>\n",
       "      <th></th>\n",
       "      <th></th>\n",
       "      <th></th>\n",
       "      <th></th>\n",
       "    </tr>\n",
       "  </thead>\n",
       "  <tbody>\n",
       "    <tr>\n",
       "      <th>A0072193KFP6LUHKEXLT</th>\n",
       "      <td>1.0</td>\n",
       "      <td>0.0</td>\n",
       "      <td>0.0</td>\n",
       "      <td>0.0</td>\n",
       "      <td>0.0</td>\n",
       "      <td>0.0</td>\n",
       "      <td>0.0</td>\n",
       "      <td>0.0</td>\n",
       "      <td>0.0</td>\n",
       "      <td>0.0</td>\n",
       "      <td>...</td>\n",
       "      <td>0.0</td>\n",
       "      <td>0.0</td>\n",
       "      <td>0.0</td>\n",
       "      <td>0.0</td>\n",
       "      <td>0.0</td>\n",
       "      <td>0.000000</td>\n",
       "      <td>0.0</td>\n",
       "      <td>0.0</td>\n",
       "      <td>0.0</td>\n",
       "      <td>0.14602</td>\n",
       "    </tr>\n",
       "    <tr>\n",
       "      <th>A0096681Y127OL1H8W3U</th>\n",
       "      <td>0.0</td>\n",
       "      <td>1.0</td>\n",
       "      <td>0.0</td>\n",
       "      <td>0.0</td>\n",
       "      <td>0.0</td>\n",
       "      <td>0.0</td>\n",
       "      <td>0.0</td>\n",
       "      <td>0.0</td>\n",
       "      <td>0.0</td>\n",
       "      <td>0.0</td>\n",
       "      <td>...</td>\n",
       "      <td>0.0</td>\n",
       "      <td>0.0</td>\n",
       "      <td>0.0</td>\n",
       "      <td>0.0</td>\n",
       "      <td>0.0</td>\n",
       "      <td>0.000000</td>\n",
       "      <td>0.0</td>\n",
       "      <td>0.0</td>\n",
       "      <td>0.0</td>\n",
       "      <td>0.00000</td>\n",
       "    </tr>\n",
       "    <tr>\n",
       "      <th>A0103849GBVWICKXD4T6</th>\n",
       "      <td>0.0</td>\n",
       "      <td>0.0</td>\n",
       "      <td>1.0</td>\n",
       "      <td>0.0</td>\n",
       "      <td>0.0</td>\n",
       "      <td>0.0</td>\n",
       "      <td>0.0</td>\n",
       "      <td>0.0</td>\n",
       "      <td>0.0</td>\n",
       "      <td>0.0</td>\n",
       "      <td>...</td>\n",
       "      <td>0.0</td>\n",
       "      <td>0.0</td>\n",
       "      <td>0.0</td>\n",
       "      <td>0.0</td>\n",
       "      <td>0.0</td>\n",
       "      <td>0.000000</td>\n",
       "      <td>0.0</td>\n",
       "      <td>0.0</td>\n",
       "      <td>0.0</td>\n",
       "      <td>0.00000</td>\n",
       "    </tr>\n",
       "    <tr>\n",
       "      <th>A0279100VZXR9A2495P4</th>\n",
       "      <td>0.0</td>\n",
       "      <td>0.0</td>\n",
       "      <td>0.0</td>\n",
       "      <td>1.0</td>\n",
       "      <td>0.0</td>\n",
       "      <td>0.0</td>\n",
       "      <td>0.0</td>\n",
       "      <td>0.0</td>\n",
       "      <td>0.0</td>\n",
       "      <td>0.0</td>\n",
       "      <td>...</td>\n",
       "      <td>0.0</td>\n",
       "      <td>0.0</td>\n",
       "      <td>0.0</td>\n",
       "      <td>0.0</td>\n",
       "      <td>0.0</td>\n",
       "      <td>0.161796</td>\n",
       "      <td>0.0</td>\n",
       "      <td>0.0</td>\n",
       "      <td>0.0</td>\n",
       "      <td>0.00000</td>\n",
       "    </tr>\n",
       "    <tr>\n",
       "      <th>A0600727NK5MAF66IOY5</th>\n",
       "      <td>0.0</td>\n",
       "      <td>0.0</td>\n",
       "      <td>0.0</td>\n",
       "      <td>0.0</td>\n",
       "      <td>1.0</td>\n",
       "      <td>0.0</td>\n",
       "      <td>0.0</td>\n",
       "      <td>0.0</td>\n",
       "      <td>0.0</td>\n",
       "      <td>0.0</td>\n",
       "      <td>...</td>\n",
       "      <td>0.0</td>\n",
       "      <td>0.0</td>\n",
       "      <td>0.0</td>\n",
       "      <td>0.0</td>\n",
       "      <td>0.0</td>\n",
       "      <td>0.000000</td>\n",
       "      <td>0.0</td>\n",
       "      <td>0.0</td>\n",
       "      <td>0.0</td>\n",
       "      <td>0.00000</td>\n",
       "    </tr>\n",
       "  </tbody>\n",
       "</table>\n",
       "<p>5 rows × 27530 columns</p>\n",
       "</div>"
      ],
      "text/plain": [
       "user_id               A0072193KFP6LUHKEXLT  A0096681Y127OL1H8W3U  \\\n",
       "user_id                                                            \n",
       "A0072193KFP6LUHKEXLT                   1.0                   0.0   \n",
       "A0096681Y127OL1H8W3U                   0.0                   1.0   \n",
       "A0103849GBVWICKXD4T6                   0.0                   0.0   \n",
       "A0279100VZXR9A2495P4                   0.0                   0.0   \n",
       "A0600727NK5MAF66IOY5                   0.0                   0.0   \n",
       "\n",
       "user_id               A0103849GBVWICKXD4T6  A0279100VZXR9A2495P4  \\\n",
       "user_id                                                            \n",
       "A0072193KFP6LUHKEXLT                   0.0                   0.0   \n",
       "A0096681Y127OL1H8W3U                   0.0                   0.0   \n",
       "A0103849GBVWICKXD4T6                   1.0                   0.0   \n",
       "A0279100VZXR9A2495P4                   0.0                   1.0   \n",
       "A0600727NK5MAF66IOY5                   0.0                   0.0   \n",
       "\n",
       "user_id               A0600727NK5MAF66IOY5  A0727497OR0PPNFLFPDV  \\\n",
       "user_id                                                            \n",
       "A0072193KFP6LUHKEXLT                   0.0                   0.0   \n",
       "A0096681Y127OL1H8W3U                   0.0                   0.0   \n",
       "A0103849GBVWICKXD4T6                   0.0                   0.0   \n",
       "A0279100VZXR9A2495P4                   0.0                   0.0   \n",
       "A0600727NK5MAF66IOY5                   1.0                   0.0   \n",
       "\n",
       "user_id               A07936821FOVJO6NP4Q8  A0833006NJW9KRF77ZFY  \\\n",
       "user_id                                                            \n",
       "A0072193KFP6LUHKEXLT                   0.0                   0.0   \n",
       "A0096681Y127OL1H8W3U                   0.0                   0.0   \n",
       "A0103849GBVWICKXD4T6                   0.0                   0.0   \n",
       "A0279100VZXR9A2495P4                   0.0                   0.0   \n",
       "A0600727NK5MAF66IOY5                   0.0                   0.0   \n",
       "\n",
       "user_id               A0955928C2RRWOWZN7UC  A10044ECXDUVKS  ...  \\\n",
       "user_id                                                     ...   \n",
       "A0072193KFP6LUHKEXLT                   0.0             0.0  ...   \n",
       "A0096681Y127OL1H8W3U                   0.0             0.0  ...   \n",
       "A0103849GBVWICKXD4T6                   0.0             0.0  ...   \n",
       "A0279100VZXR9A2495P4                   0.0             0.0  ...   \n",
       "A0600727NK5MAF66IOY5                   0.0             0.0  ...   \n",
       "\n",
       "user_id               AZYCGMFCK9AIM  AZYJTD9J82V5I  AZYP4FQ2L2C4O  \\\n",
       "user_id                                                             \n",
       "A0072193KFP6LUHKEXLT            0.0            0.0            0.0   \n",
       "A0096681Y127OL1H8W3U            0.0            0.0            0.0   \n",
       "A0103849GBVWICKXD4T6            0.0            0.0            0.0   \n",
       "A0279100VZXR9A2495P4            0.0            0.0            0.0   \n",
       "A0600727NK5MAF66IOY5            0.0            0.0            0.0   \n",
       "\n",
       "user_id               AZZ3WYDJ0XNZW  AZZCLFV6V8693  AZZM5MUOG0LRK  \\\n",
       "user_id                                                             \n",
       "A0072193KFP6LUHKEXLT            0.0            0.0       0.000000   \n",
       "A0096681Y127OL1H8W3U            0.0            0.0       0.000000   \n",
       "A0103849GBVWICKXD4T6            0.0            0.0       0.000000   \n",
       "A0279100VZXR9A2495P4            0.0            0.0       0.161796   \n",
       "A0600727NK5MAF66IOY5            0.0            0.0       0.000000   \n",
       "\n",
       "user_id               AZZT9G4MJFCHD  AZZX23UGJGKTT  AZZZ3LGTCGUZF  \\\n",
       "user_id                                                             \n",
       "A0072193KFP6LUHKEXLT            0.0            0.0            0.0   \n",
       "A0096681Y127OL1H8W3U            0.0            0.0            0.0   \n",
       "A0103849GBVWICKXD4T6            0.0            0.0            0.0   \n",
       "A0279100VZXR9A2495P4            0.0            0.0            0.0   \n",
       "A0600727NK5MAF66IOY5            0.0            0.0            0.0   \n",
       "\n",
       "user_id               AZZZG8PGB1FS0  \n",
       "user_id                              \n",
       "A0072193KFP6LUHKEXLT        0.14602  \n",
       "A0096681Y127OL1H8W3U        0.00000  \n",
       "A0103849GBVWICKXD4T6        0.00000  \n",
       "A0279100VZXR9A2495P4        0.00000  \n",
       "A0600727NK5MAF66IOY5        0.00000  \n",
       "\n",
       "[5 rows x 27530 columns]"
      ]
     },
     "execution_count": 15,
     "metadata": {},
     "output_type": "execute_result"
    }
   ],
   "source": [
    "S.head()"
   ]
  },
  {
   "cell_type": "markdown",
   "id": "df2d1db0",
   "metadata": {},
   "source": [
    "#### 3.2.1.2. Item-Item (I) "
   ]
  },
  {
   "cell_type": "code",
   "execution_count": 6,
   "id": "5dc00a93",
   "metadata": {},
   "outputs": [],
   "source": [
    "I = create_similarity_matrix(U, CF='item')"
   ]
  },
  {
   "cell_type": "code",
   "execution_count": 79,
   "id": "27b8fb5d",
   "metadata": {},
   "outputs": [
    {
     "data": {
      "text/html": [
       "<div>\n",
       "<style scoped>\n",
       "    .dataframe tbody tr th:only-of-type {\n",
       "        vertical-align: middle;\n",
       "    }\n",
       "\n",
       "    .dataframe tbody tr th {\n",
       "        vertical-align: top;\n",
       "    }\n",
       "\n",
       "    .dataframe thead th {\n",
       "        text-align: right;\n",
       "    }\n",
       "</style>\n",
       "<table border=\"1\" class=\"dataframe\">\n",
       "  <thead>\n",
       "    <tr style=\"text-align: right;\">\n",
       "      <th></th>\n",
       "      <th>0739079891</th>\n",
       "      <th>0786615206</th>\n",
       "      <th>1480360295</th>\n",
       "      <th>1928571018</th>\n",
       "      <th>9792372326</th>\n",
       "      <th>B00000J50W</th>\n",
       "      <th>B00001W0DH</th>\n",
       "      <th>B00001W0DT</th>\n",
       "      <th>B00004TT3S</th>\n",
       "      <th>B00004UE29</th>\n",
       "      <th>...</th>\n",
       "      <th>B01HECB4AG</th>\n",
       "      <th>B01HED0HO4</th>\n",
       "      <th>B01HG0FXAI</th>\n",
       "      <th>B01HG293XO</th>\n",
       "      <th>B01HGLUP14</th>\n",
       "      <th>B01HHJXKRG</th>\n",
       "      <th>B01HHZAU3W</th>\n",
       "      <th>B01HI1VM28</th>\n",
       "      <th>B01HI5M4GW</th>\n",
       "      <th>B01HIDOPP2</th>\n",
       "    </tr>\n",
       "  </thead>\n",
       "  <tbody>\n",
       "    <tr>\n",
       "      <th>0739079891</th>\n",
       "      <td>1.000000</td>\n",
       "      <td>0.0</td>\n",
       "      <td>0.037687</td>\n",
       "      <td>0.0</td>\n",
       "      <td>0.0</td>\n",
       "      <td>0.0</td>\n",
       "      <td>0.0</td>\n",
       "      <td>0.0</td>\n",
       "      <td>0.0</td>\n",
       "      <td>0.0</td>\n",
       "      <td>...</td>\n",
       "      <td>0.0</td>\n",
       "      <td>0.0</td>\n",
       "      <td>0.0</td>\n",
       "      <td>0.0</td>\n",
       "      <td>0.0</td>\n",
       "      <td>0.0</td>\n",
       "      <td>0.0</td>\n",
       "      <td>0.0</td>\n",
       "      <td>0.0</td>\n",
       "      <td>0.0</td>\n",
       "    </tr>\n",
       "    <tr>\n",
       "      <th>0786615206</th>\n",
       "      <td>0.000000</td>\n",
       "      <td>1.0</td>\n",
       "      <td>0.000000</td>\n",
       "      <td>0.0</td>\n",
       "      <td>0.0</td>\n",
       "      <td>0.0</td>\n",
       "      <td>0.0</td>\n",
       "      <td>0.0</td>\n",
       "      <td>0.0</td>\n",
       "      <td>0.0</td>\n",
       "      <td>...</td>\n",
       "      <td>0.0</td>\n",
       "      <td>0.0</td>\n",
       "      <td>0.0</td>\n",
       "      <td>0.0</td>\n",
       "      <td>0.0</td>\n",
       "      <td>0.0</td>\n",
       "      <td>0.0</td>\n",
       "      <td>0.0</td>\n",
       "      <td>0.0</td>\n",
       "      <td>0.0</td>\n",
       "    </tr>\n",
       "    <tr>\n",
       "      <th>1480360295</th>\n",
       "      <td>0.037687</td>\n",
       "      <td>0.0</td>\n",
       "      <td>1.000000</td>\n",
       "      <td>0.0</td>\n",
       "      <td>0.0</td>\n",
       "      <td>0.0</td>\n",
       "      <td>0.0</td>\n",
       "      <td>0.0</td>\n",
       "      <td>0.0</td>\n",
       "      <td>0.0</td>\n",
       "      <td>...</td>\n",
       "      <td>0.0</td>\n",
       "      <td>0.0</td>\n",
       "      <td>0.0</td>\n",
       "      <td>0.0</td>\n",
       "      <td>0.0</td>\n",
       "      <td>0.0</td>\n",
       "      <td>0.0</td>\n",
       "      <td>0.0</td>\n",
       "      <td>0.0</td>\n",
       "      <td>0.0</td>\n",
       "    </tr>\n",
       "    <tr>\n",
       "      <th>1928571018</th>\n",
       "      <td>0.000000</td>\n",
       "      <td>0.0</td>\n",
       "      <td>0.000000</td>\n",
       "      <td>1.0</td>\n",
       "      <td>0.0</td>\n",
       "      <td>0.0</td>\n",
       "      <td>0.0</td>\n",
       "      <td>0.0</td>\n",
       "      <td>0.0</td>\n",
       "      <td>0.0</td>\n",
       "      <td>...</td>\n",
       "      <td>0.0</td>\n",
       "      <td>0.0</td>\n",
       "      <td>0.0</td>\n",
       "      <td>0.0</td>\n",
       "      <td>0.0</td>\n",
       "      <td>0.0</td>\n",
       "      <td>0.0</td>\n",
       "      <td>0.0</td>\n",
       "      <td>0.0</td>\n",
       "      <td>0.0</td>\n",
       "    </tr>\n",
       "    <tr>\n",
       "      <th>9792372326</th>\n",
       "      <td>0.000000</td>\n",
       "      <td>0.0</td>\n",
       "      <td>0.000000</td>\n",
       "      <td>0.0</td>\n",
       "      <td>1.0</td>\n",
       "      <td>0.0</td>\n",
       "      <td>0.0</td>\n",
       "      <td>0.0</td>\n",
       "      <td>0.0</td>\n",
       "      <td>0.0</td>\n",
       "      <td>...</td>\n",
       "      <td>0.0</td>\n",
       "      <td>0.0</td>\n",
       "      <td>0.0</td>\n",
       "      <td>0.0</td>\n",
       "      <td>0.0</td>\n",
       "      <td>0.0</td>\n",
       "      <td>0.0</td>\n",
       "      <td>0.0</td>\n",
       "      <td>0.0</td>\n",
       "      <td>0.0</td>\n",
       "    </tr>\n",
       "  </tbody>\n",
       "</table>\n",
       "<p>5 rows × 10620 columns</p>\n",
       "</div>"
      ],
      "text/plain": [
       "            0739079891  0786615206  1480360295  1928571018  9792372326  \\\n",
       "0739079891    1.000000         0.0    0.037687         0.0         0.0   \n",
       "0786615206    0.000000         1.0    0.000000         0.0         0.0   \n",
       "1480360295    0.037687         0.0    1.000000         0.0         0.0   \n",
       "1928571018    0.000000         0.0    0.000000         1.0         0.0   \n",
       "9792372326    0.000000         0.0    0.000000         0.0         1.0   \n",
       "\n",
       "            B00000J50W  B00001W0DH  B00001W0DT  B00004TT3S  B00004UE29  ...  \\\n",
       "0739079891         0.0         0.0         0.0         0.0         0.0  ...   \n",
       "0786615206         0.0         0.0         0.0         0.0         0.0  ...   \n",
       "1480360295         0.0         0.0         0.0         0.0         0.0  ...   \n",
       "1928571018         0.0         0.0         0.0         0.0         0.0  ...   \n",
       "9792372326         0.0         0.0         0.0         0.0         0.0  ...   \n",
       "\n",
       "            B01HECB4AG  B01HED0HO4  B01HG0FXAI  B01HG293XO  B01HGLUP14  \\\n",
       "0739079891         0.0         0.0         0.0         0.0         0.0   \n",
       "0786615206         0.0         0.0         0.0         0.0         0.0   \n",
       "1480360295         0.0         0.0         0.0         0.0         0.0   \n",
       "1928571018         0.0         0.0         0.0         0.0         0.0   \n",
       "9792372326         0.0         0.0         0.0         0.0         0.0   \n",
       "\n",
       "            B01HHJXKRG  B01HHZAU3W  B01HI1VM28  B01HI5M4GW  B01HIDOPP2  \n",
       "0739079891         0.0         0.0         0.0         0.0         0.0  \n",
       "0786615206         0.0         0.0         0.0         0.0         0.0  \n",
       "1480360295         0.0         0.0         0.0         0.0         0.0  \n",
       "1928571018         0.0         0.0         0.0         0.0         0.0  \n",
       "9792372326         0.0         0.0         0.0         0.0         0.0  \n",
       "\n",
       "[5 rows x 10620 columns]"
      ]
     },
     "execution_count": 79,
     "metadata": {},
     "output_type": "execute_result"
    }
   ],
   "source": [
    "I.head() "
   ]
  },
  {
   "cell_type": "markdown",
   "id": "b739d61a",
   "metadata": {},
   "source": [
    "### 3.2.2. Convert to sparse format and save"
   ]
  },
  {
   "cell_type": "code",
   "execution_count": null,
   "id": "e915cede",
   "metadata": {},
   "outputs": [],
   "source": [
    "# convert to a more efficient format before saving \n",
    "from scipy import sparse \n",
    "\n",
    "S_sparse = sparse.csr_matrix(S.values) \n",
    "\n",
    "# save labels separately \n",
    "S_rows = S.index.tolist() \n",
    "S_cols = S.columns.tolist() \n",
    "\n",
    "lookups_dir = os.path.join(project_dir, \"lookups\") \n",
    "\n",
    "sparse.save_npz(os.path.join(lookups_dir, \"similarity_matrix.npz\"), S_sparse) "
   ]
  },
  {
   "cell_type": "code",
   "execution_count": 7,
   "id": "687b8983",
   "metadata": {},
   "outputs": [],
   "source": [
    "# convert to a more efficient format before saving \n",
    "from scipy import sparse \n",
    "\n",
    "I_sparse = sparse.csr_matrix(I.values) \n",
    "\n",
    "sparse.save_npz(os.path.join(lookups_dir, \"item_similarity_matrix.npz\"), I_sparse) "
   ]
  },
  {
   "cell_type": "markdown",
   "id": "4dfc77cd",
   "metadata": {},
   "source": [
    "### 3.2.3. Reload"
   ]
  },
  {
   "cell_type": "code",
   "execution_count": 83,
   "id": "68f9b8b0",
   "metadata": {},
   "outputs": [
    {
     "data": {
      "text/plain": [
       "['lookups.zip',\n",
       " 'prediction_matrix.npz',\n",
       " 'product_index.npy',\n",
       " 'similarity_matrix.npz',\n",
       " 'top5_recs.json',\n",
       " 'user_columns.npy',\n",
       " 'utility_matrix.npz']"
      ]
     },
     "execution_count": 83,
     "metadata": {},
     "output_type": "execute_result"
    }
   ],
   "source": [
    "os.listdir(lookups_dir)"
   ]
  },
  {
   "cell_type": "code",
   "execution_count": 84,
   "id": "d6ccaa7c",
   "metadata": {},
   "outputs": [
    {
     "data": {
      "text/html": [
       "<div>\n",
       "<style scoped>\n",
       "    .dataframe tbody tr th:only-of-type {\n",
       "        vertical-align: middle;\n",
       "    }\n",
       "\n",
       "    .dataframe tbody tr th {\n",
       "        vertical-align: top;\n",
       "    }\n",
       "\n",
       "    .dataframe thead th {\n",
       "        text-align: right;\n",
       "    }\n",
       "</style>\n",
       "<table border=\"1\" class=\"dataframe\">\n",
       "  <thead>\n",
       "    <tr style=\"text-align: right;\">\n",
       "      <th></th>\n",
       "      <th>A0072193KFP6LUHKEXLT</th>\n",
       "      <th>A0096681Y127OL1H8W3U</th>\n",
       "      <th>A0103849GBVWICKXD4T6</th>\n",
       "      <th>A0279100VZXR9A2495P4</th>\n",
       "      <th>A0600727NK5MAF66IOY5</th>\n",
       "      <th>A0727497OR0PPNFLFPDV</th>\n",
       "      <th>A07936821FOVJO6NP4Q8</th>\n",
       "      <th>A0833006NJW9KRF77ZFY</th>\n",
       "      <th>A0955928C2RRWOWZN7UC</th>\n",
       "      <th>A10044ECXDUVKS</th>\n",
       "      <th>...</th>\n",
       "      <th>AZYCGMFCK9AIM</th>\n",
       "      <th>AZYJTD9J82V5I</th>\n",
       "      <th>AZYP4FQ2L2C4O</th>\n",
       "      <th>AZZ3WYDJ0XNZW</th>\n",
       "      <th>AZZCLFV6V8693</th>\n",
       "      <th>AZZM5MUOG0LRK</th>\n",
       "      <th>AZZT9G4MJFCHD</th>\n",
       "      <th>AZZX23UGJGKTT</th>\n",
       "      <th>AZZZ3LGTCGUZF</th>\n",
       "      <th>AZZZG8PGB1FS0</th>\n",
       "    </tr>\n",
       "  </thead>\n",
       "  <tbody>\n",
       "    <tr>\n",
       "      <th>A0072193KFP6LUHKEXLT</th>\n",
       "      <td>1.0</td>\n",
       "      <td>0</td>\n",
       "      <td>0</td>\n",
       "      <td>0</td>\n",
       "      <td>0</td>\n",
       "      <td>0</td>\n",
       "      <td>0</td>\n",
       "      <td>0</td>\n",
       "      <td>0</td>\n",
       "      <td>0</td>\n",
       "      <td>...</td>\n",
       "      <td>0</td>\n",
       "      <td>0</td>\n",
       "      <td>0</td>\n",
       "      <td>0</td>\n",
       "      <td>0</td>\n",
       "      <td>0</td>\n",
       "      <td>0</td>\n",
       "      <td>0</td>\n",
       "      <td>0</td>\n",
       "      <td>0.14602</td>\n",
       "    </tr>\n",
       "    <tr>\n",
       "      <th>A0096681Y127OL1H8W3U</th>\n",
       "      <td>0</td>\n",
       "      <td>1.0</td>\n",
       "      <td>0</td>\n",
       "      <td>0</td>\n",
       "      <td>0</td>\n",
       "      <td>0</td>\n",
       "      <td>0</td>\n",
       "      <td>0</td>\n",
       "      <td>0</td>\n",
       "      <td>0</td>\n",
       "      <td>...</td>\n",
       "      <td>0</td>\n",
       "      <td>0</td>\n",
       "      <td>0</td>\n",
       "      <td>0</td>\n",
       "      <td>0</td>\n",
       "      <td>0</td>\n",
       "      <td>0</td>\n",
       "      <td>0</td>\n",
       "      <td>0</td>\n",
       "      <td>0</td>\n",
       "    </tr>\n",
       "    <tr>\n",
       "      <th>A0103849GBVWICKXD4T6</th>\n",
       "      <td>0</td>\n",
       "      <td>0</td>\n",
       "      <td>1.0</td>\n",
       "      <td>0</td>\n",
       "      <td>0</td>\n",
       "      <td>0</td>\n",
       "      <td>0</td>\n",
       "      <td>0</td>\n",
       "      <td>0</td>\n",
       "      <td>0</td>\n",
       "      <td>...</td>\n",
       "      <td>0</td>\n",
       "      <td>0</td>\n",
       "      <td>0</td>\n",
       "      <td>0</td>\n",
       "      <td>0</td>\n",
       "      <td>0</td>\n",
       "      <td>0</td>\n",
       "      <td>0</td>\n",
       "      <td>0</td>\n",
       "      <td>0</td>\n",
       "    </tr>\n",
       "    <tr>\n",
       "      <th>A0279100VZXR9A2495P4</th>\n",
       "      <td>0</td>\n",
       "      <td>0</td>\n",
       "      <td>0</td>\n",
       "      <td>1.0</td>\n",
       "      <td>0</td>\n",
       "      <td>0</td>\n",
       "      <td>0</td>\n",
       "      <td>0</td>\n",
       "      <td>0</td>\n",
       "      <td>0</td>\n",
       "      <td>...</td>\n",
       "      <td>0</td>\n",
       "      <td>0</td>\n",
       "      <td>0</td>\n",
       "      <td>0</td>\n",
       "      <td>0</td>\n",
       "      <td>0.161796</td>\n",
       "      <td>0</td>\n",
       "      <td>0</td>\n",
       "      <td>0</td>\n",
       "      <td>0</td>\n",
       "    </tr>\n",
       "    <tr>\n",
       "      <th>A0600727NK5MAF66IOY5</th>\n",
       "      <td>0</td>\n",
       "      <td>0</td>\n",
       "      <td>0</td>\n",
       "      <td>0</td>\n",
       "      <td>1.0</td>\n",
       "      <td>0</td>\n",
       "      <td>0</td>\n",
       "      <td>0</td>\n",
       "      <td>0</td>\n",
       "      <td>0</td>\n",
       "      <td>...</td>\n",
       "      <td>0</td>\n",
       "      <td>0</td>\n",
       "      <td>0</td>\n",
       "      <td>0</td>\n",
       "      <td>0</td>\n",
       "      <td>0</td>\n",
       "      <td>0</td>\n",
       "      <td>0</td>\n",
       "      <td>0</td>\n",
       "      <td>0</td>\n",
       "    </tr>\n",
       "  </tbody>\n",
       "</table>\n",
       "<p>5 rows × 27530 columns</p>\n",
       "</div>"
      ],
      "text/plain": [
       "                      A0072193KFP6LUHKEXLT  A0096681Y127OL1H8W3U  \\\n",
       "A0072193KFP6LUHKEXLT                   1.0                     0   \n",
       "A0096681Y127OL1H8W3U                     0                   1.0   \n",
       "A0103849GBVWICKXD4T6                     0                     0   \n",
       "A0279100VZXR9A2495P4                     0                     0   \n",
       "A0600727NK5MAF66IOY5                     0                     0   \n",
       "\n",
       "                      A0103849GBVWICKXD4T6  A0279100VZXR9A2495P4  \\\n",
       "A0072193KFP6LUHKEXLT                     0                     0   \n",
       "A0096681Y127OL1H8W3U                     0                     0   \n",
       "A0103849GBVWICKXD4T6                   1.0                     0   \n",
       "A0279100VZXR9A2495P4                     0                   1.0   \n",
       "A0600727NK5MAF66IOY5                     0                     0   \n",
       "\n",
       "                      A0600727NK5MAF66IOY5  A0727497OR0PPNFLFPDV  \\\n",
       "A0072193KFP6LUHKEXLT                     0                     0   \n",
       "A0096681Y127OL1H8W3U                     0                     0   \n",
       "A0103849GBVWICKXD4T6                     0                     0   \n",
       "A0279100VZXR9A2495P4                     0                     0   \n",
       "A0600727NK5MAF66IOY5                   1.0                     0   \n",
       "\n",
       "                      A07936821FOVJO6NP4Q8  A0833006NJW9KRF77ZFY  \\\n",
       "A0072193KFP6LUHKEXLT                     0                     0   \n",
       "A0096681Y127OL1H8W3U                     0                     0   \n",
       "A0103849GBVWICKXD4T6                     0                     0   \n",
       "A0279100VZXR9A2495P4                     0                     0   \n",
       "A0600727NK5MAF66IOY5                     0                     0   \n",
       "\n",
       "                      A0955928C2RRWOWZN7UC  A10044ECXDUVKS  ...  \\\n",
       "A0072193KFP6LUHKEXLT                     0               0  ...   \n",
       "A0096681Y127OL1H8W3U                     0               0  ...   \n",
       "A0103849GBVWICKXD4T6                     0               0  ...   \n",
       "A0279100VZXR9A2495P4                     0               0  ...   \n",
       "A0600727NK5MAF66IOY5                     0               0  ...   \n",
       "\n",
       "                      AZYCGMFCK9AIM  AZYJTD9J82V5I  AZYP4FQ2L2C4O  \\\n",
       "A0072193KFP6LUHKEXLT              0              0              0   \n",
       "A0096681Y127OL1H8W3U              0              0              0   \n",
       "A0103849GBVWICKXD4T6              0              0              0   \n",
       "A0279100VZXR9A2495P4              0              0              0   \n",
       "A0600727NK5MAF66IOY5              0              0              0   \n",
       "\n",
       "                      AZZ3WYDJ0XNZW  AZZCLFV6V8693  AZZM5MUOG0LRK  \\\n",
       "A0072193KFP6LUHKEXLT              0              0              0   \n",
       "A0096681Y127OL1H8W3U              0              0              0   \n",
       "A0103849GBVWICKXD4T6              0              0              0   \n",
       "A0279100VZXR9A2495P4              0              0       0.161796   \n",
       "A0600727NK5MAF66IOY5              0              0              0   \n",
       "\n",
       "                      AZZT9G4MJFCHD  AZZX23UGJGKTT  AZZZ3LGTCGUZF  \\\n",
       "A0072193KFP6LUHKEXLT              0              0              0   \n",
       "A0096681Y127OL1H8W3U              0              0              0   \n",
       "A0103849GBVWICKXD4T6              0              0              0   \n",
       "A0279100VZXR9A2495P4              0              0              0   \n",
       "A0600727NK5MAF66IOY5              0              0              0   \n",
       "\n",
       "                      AZZZG8PGB1FS0  \n",
       "A0072193KFP6LUHKEXLT        0.14602  \n",
       "A0096681Y127OL1H8W3U              0  \n",
       "A0103849GBVWICKXD4T6              0  \n",
       "A0279100VZXR9A2495P4              0  \n",
       "A0600727NK5MAF66IOY5              0  \n",
       "\n",
       "[5 rows x 27530 columns]"
      ]
     },
     "execution_count": 84,
     "metadata": {},
     "output_type": "execute_result"
    }
   ],
   "source": [
    "S_sparse = sparse.load_npz(os.path.join(lookups_dir, \"similarity_matrix.npz\"))\n",
    "user_index = np.load(os.path.join(lookups_dir, \"user_columns.npy\"), allow_pickle=True) \n",
    "\n",
    "S = pd.DataFrame.sparse.from_spmatrix(\n",
    "    S_sparse, \n",
    "    index=user_index,\n",
    "    columns=user_index\n",
    ")\n",
    "S.head()"
   ]
  },
  {
   "cell_type": "code",
   "execution_count": 45,
   "id": "934170ff",
   "metadata": {},
   "outputs": [
    {
     "name": "stdout",
     "output_type": "stream",
     "text": [
      "0.000926909859467827\n",
      "1.0000000000000007\n",
      "float64\n"
     ]
    }
   ],
   "source": [
    "S_data = S_sparse.data \n",
    "print(S_data.min()) \n",
    "print(S_data.max()) \n",
    "print(S_data.dtype)"
   ]
  },
  {
   "cell_type": "code",
   "execution_count": 47,
   "id": "d5328892",
   "metadata": {},
   "outputs": [
    {
     "name": "stdout",
     "output_type": "stream",
     "text": [
      "False\n"
     ]
    }
   ],
   "source": [
    "print(any(np.isnan(S_data)))"
   ]
  },
  {
   "cell_type": "markdown",
   "id": "d4faf678",
   "metadata": {},
   "source": [
    "## 3.3. Predicted Recommendations "
   ]
  },
  {
   "cell_type": "markdown",
   "id": "2ef173a9",
   "metadata": {},
   "source": [
    "### 3.3.1. Create Prediction Matrix (P)"
   ]
  },
  {
   "cell_type": "markdown",
   "id": "69839218",
   "metadata": {},
   "source": [
    "High latency -- just skip to reloading. \n",
    "\n",
    "If you'd like to recreate the matrix, I recommend using scripts/compute_prediction_matrix.py "
   ]
  },
  {
   "cell_type": "code",
   "execution_count": null,
   "id": "1d9da2d3",
   "metadata": {},
   "outputs": [],
   "source": [
    "# import time \n",
    "\n",
    "# def keep_top_k(sim_row): \n",
    "#     top_k = sim_row.nlargest(k) \n",
    "#     return sim_row.where(sim_row.index.isin(top_k.index), 0) \n",
    "\n",
    "# def predict_ratings_fast(utility_matrix, similarity_matrix, k_only=True, k=5): \n",
    "#     # fill nulls of U with 0s for computation\n",
    "#     utility_filled = utility_matrix.fillna(0) \n",
    "#     # if k_only specified, compute for only k most similar users\n",
    "#     if k_only: \n",
    "#         S_topk = similarity_matrix.apply(keep_top_k, axis=1)\n",
    "#     # otherwise just use underlying S directly\n",
    "#     else: \n",
    "#         S_topk = similarity_matrix.copy() \n",
    "#     # fill nulls of S with 0s\n",
    "#     S_topk = S_topk.fillna(0) \n",
    "#     S_norm = S_topk.div(S_topk.sum(axis=0), axis=1).fillna(0) \n",
    "\n",
    "#     predicted = utility_filled.dot(S_norm) \n",
    "\n",
    "#     # Preserve original ratings\n",
    "#     predicted = predicted.where(utility_matrix.isna(), utility_matrix) \n",
    "\n",
    "#     return predicted "
   ]
  },
  {
   "cell_type": "code",
   "execution_count": null,
   "id": "696c25f6",
   "metadata": {},
   "outputs": [
    {
     "ename": "MemoryError",
     "evalue": "Unable to allocate 5.65 GiB for an array with shape (27530, 27530) and data type float64",
     "output_type": "error",
     "traceback": [
      "\u001b[31m---------------------------------------------------------------------------\u001b[39m",
      "\u001b[31mMemoryError\u001b[39m                               Traceback (most recent call last)",
      "\u001b[36mCell\u001b[39m\u001b[36m \u001b[39m\u001b[32mIn[20]\u001b[39m\u001b[32m, line 1\u001b[39m\n\u001b[32m----> \u001b[39m\u001b[32m1\u001b[39m P = \u001b[43mpredict_ratings_fast\u001b[49m\u001b[43m(\u001b[49m\u001b[43mU\u001b[49m\u001b[43m,\u001b[49m\u001b[43m \u001b[49m\u001b[43mS\u001b[49m\u001b[43m,\u001b[49m\u001b[43m \u001b[49m\u001b[43mk_only\u001b[49m\u001b[43m=\u001b[49m\u001b[38;5;28;43;01mFalse\u001b[39;49;00m\u001b[43m)\u001b[49m \n",
      "\u001b[36mCell\u001b[39m\u001b[36m \u001b[39m\u001b[32mIn[19]\u001b[39m\u001b[32m, line 12\u001b[39m, in \u001b[36mpredict_ratings_fast\u001b[39m\u001b[34m(utility_matrix, similarity_matrix, k_only, k)\u001b[39m\n\u001b[32m     10\u001b[39m     S_topk = similarity_matrix.apply(keep_top_k, axis=\u001b[32m1\u001b[39m)\n\u001b[32m     11\u001b[39m \u001b[38;5;28;01melse\u001b[39;00m: \n\u001b[32m---> \u001b[39m\u001b[32m12\u001b[39m     S_topk = \u001b[43msimilarity_matrix\u001b[49m\u001b[43m.\u001b[49m\u001b[43mcopy\u001b[49m\u001b[43m(\u001b[49m\u001b[43m)\u001b[49m \n\u001b[32m     14\u001b[39m S_topk = S_topk.fillna(\u001b[32m0\u001b[39m) \n\u001b[32m     15\u001b[39m S_norm = S_topk.div(S_topk.sum(axis=\u001b[32m0\u001b[39m), axis=\u001b[32m1\u001b[39m).fillna(\u001b[32m0\u001b[39m) \n",
      "\u001b[36mFile \u001b[39m\u001b[32mc:\\Users\\bened\\anaconda3\\envs\\SINA-AT3\\Lib\\site-packages\\pandas\\core\\generic.py:6811\u001b[39m, in \u001b[36mNDFrame.copy\u001b[39m\u001b[34m(self, deep)\u001b[39m\n\u001b[32m   6662\u001b[39m \u001b[38;5;129m@final\u001b[39m\n\u001b[32m   6663\u001b[39m \u001b[38;5;28;01mdef\u001b[39;00m\u001b[38;5;250m \u001b[39m\u001b[34mcopy\u001b[39m(\u001b[38;5;28mself\u001b[39m, deep: bool_t | \u001b[38;5;28;01mNone\u001b[39;00m = \u001b[38;5;28;01mTrue\u001b[39;00m) -> Self:\n\u001b[32m   6664\u001b[39m \u001b[38;5;250m    \u001b[39m\u001b[33;03m\"\"\"\u001b[39;00m\n\u001b[32m   6665\u001b[39m \u001b[33;03m    Make a copy of this object's indices and data.\u001b[39;00m\n\u001b[32m   6666\u001b[39m \n\u001b[32m   (...)\u001b[39m\u001b[32m   6809\u001b[39m \u001b[33;03m    dtype: int64\u001b[39;00m\n\u001b[32m   6810\u001b[39m \u001b[33;03m    \"\"\"\u001b[39;00m\n\u001b[32m-> \u001b[39m\u001b[32m6811\u001b[39m     data = \u001b[38;5;28;43mself\u001b[39;49m\u001b[43m.\u001b[49m\u001b[43m_mgr\u001b[49m\u001b[43m.\u001b[49m\u001b[43mcopy\u001b[49m\u001b[43m(\u001b[49m\u001b[43mdeep\u001b[49m\u001b[43m=\u001b[49m\u001b[43mdeep\u001b[49m\u001b[43m)\u001b[49m\n\u001b[32m   6812\u001b[39m     \u001b[38;5;28mself\u001b[39m._clear_item_cache()\n\u001b[32m   6813\u001b[39m     \u001b[38;5;28;01mreturn\u001b[39;00m \u001b[38;5;28mself\u001b[39m._constructor_from_mgr(data, axes=data.axes).__finalize__(\n\u001b[32m   6814\u001b[39m         \u001b[38;5;28mself\u001b[39m, method=\u001b[33m\"\u001b[39m\u001b[33mcopy\u001b[39m\u001b[33m\"\u001b[39m\n\u001b[32m   6815\u001b[39m     )\n",
      "\u001b[36mFile \u001b[39m\u001b[32mc:\\Users\\bened\\anaconda3\\envs\\SINA-AT3\\Lib\\site-packages\\pandas\\core\\internals\\managers.py:593\u001b[39m, in \u001b[36mBaseBlockManager.copy\u001b[39m\u001b[34m(self, deep)\u001b[39m\n\u001b[32m    590\u001b[39m     \u001b[38;5;28;01melse\u001b[39;00m:\n\u001b[32m    591\u001b[39m         new_axes = \u001b[38;5;28mlist\u001b[39m(\u001b[38;5;28mself\u001b[39m.axes)\n\u001b[32m--> \u001b[39m\u001b[32m593\u001b[39m res = \u001b[38;5;28;43mself\u001b[39;49m\u001b[43m.\u001b[49m\u001b[43mapply\u001b[49m\u001b[43m(\u001b[49m\u001b[33;43m\"\u001b[39;49m\u001b[33;43mcopy\u001b[39;49m\u001b[33;43m\"\u001b[39;49m\u001b[43m,\u001b[49m\u001b[43m \u001b[49m\u001b[43mdeep\u001b[49m\u001b[43m=\u001b[49m\u001b[43mdeep\u001b[49m\u001b[43m)\u001b[49m\n\u001b[32m    594\u001b[39m res.axes = new_axes\n\u001b[32m    596\u001b[39m \u001b[38;5;28;01mif\u001b[39;00m \u001b[38;5;28mself\u001b[39m.ndim > \u001b[32m1\u001b[39m:\n\u001b[32m    597\u001b[39m     \u001b[38;5;66;03m# Avoid needing to re-compute these\u001b[39;00m\n",
      "\u001b[36mFile \u001b[39m\u001b[32mc:\\Users\\bened\\anaconda3\\envs\\SINA-AT3\\Lib\\site-packages\\pandas\\core\\internals\\managers.py:363\u001b[39m, in \u001b[36mBaseBlockManager.apply\u001b[39m\u001b[34m(self, f, align_keys, **kwargs)\u001b[39m\n\u001b[32m    361\u001b[39m         applied = b.apply(f, **kwargs)\n\u001b[32m    362\u001b[39m     \u001b[38;5;28;01melse\u001b[39;00m:\n\u001b[32m--> \u001b[39m\u001b[32m363\u001b[39m         applied = \u001b[38;5;28;43mgetattr\u001b[39;49m\u001b[43m(\u001b[49m\u001b[43mb\u001b[49m\u001b[43m,\u001b[49m\u001b[43m \u001b[49m\u001b[43mf\u001b[49m\u001b[43m)\u001b[49m\u001b[43m(\u001b[49m\u001b[43m*\u001b[49m\u001b[43m*\u001b[49m\u001b[43mkwargs\u001b[49m\u001b[43m)\u001b[49m\n\u001b[32m    364\u001b[39m     result_blocks = extend_blocks(applied, result_blocks)\n\u001b[32m    366\u001b[39m out = \u001b[38;5;28mtype\u001b[39m(\u001b[38;5;28mself\u001b[39m).from_blocks(result_blocks, \u001b[38;5;28mself\u001b[39m.axes)\n",
      "\u001b[36mFile \u001b[39m\u001b[32mc:\\Users\\bened\\anaconda3\\envs\\SINA-AT3\\Lib\\site-packages\\pandas\\core\\internals\\blocks.py:796\u001b[39m, in \u001b[36mBlock.copy\u001b[39m\u001b[34m(self, deep)\u001b[39m\n\u001b[32m    794\u001b[39m refs: BlockValuesRefs | \u001b[38;5;28;01mNone\u001b[39;00m\n\u001b[32m    795\u001b[39m \u001b[38;5;28;01mif\u001b[39;00m deep:\n\u001b[32m--> \u001b[39m\u001b[32m796\u001b[39m     values = values.copy()\n\u001b[32m    797\u001b[39m     refs = \u001b[38;5;28;01mNone\u001b[39;00m\n\u001b[32m    798\u001b[39m \u001b[38;5;28;01melse\u001b[39;00m:\n",
      "\u001b[31mMemoryError\u001b[39m: Unable to allocate 5.65 GiB for an array with shape (27530, 27530) and data type float64"
     ]
    }
   ],
   "source": [
    "# P = predict_ratings_fast(U, S, k_only=False) "
   ]
  },
  {
   "cell_type": "markdown",
   "id": "17040edb",
   "metadata": {},
   "source": [
    "### 3.3.2. Reload Prediction Matrix"
   ]
  },
  {
   "cell_type": "code",
   "execution_count": 14,
   "id": "ab821117",
   "metadata": {},
   "outputs": [
    {
     "data": {
      "text/plain": [
       "['lookups.zip',\n",
       " 'prediction_matrix.npz',\n",
       " 'product_index.npy',\n",
       " 'similarity_matrix.npz',\n",
       " 'top5_recs',\n",
       " 'user_columns.npy',\n",
       " 'utility_matrix.npz']"
      ]
     },
     "execution_count": 14,
     "metadata": {},
     "output_type": "execute_result"
    }
   ],
   "source": [
    "lookups_dir = os.path.join(os.path.dirname(os.getcwd()), \"lookups\") \n",
    "os.listdir(lookups_dir)"
   ]
  },
  {
   "cell_type": "code",
   "execution_count": 84,
   "id": "11e15b76",
   "metadata": {},
   "outputs": [],
   "source": [
    "from scipy import sparse\n",
    "import pandas as pd\n",
    "\n",
    "lookups_dir = os.path.join(os.path.dirname(os.getcwd()), \"lookups\") \n",
    "\n",
    "P_sparse = sparse.load_npz(os.path.join(lookups_dir, \"prediction_matrix.npz\")) \n",
    "product_index = np.load(os.path.join(lookups_dir, \"product_index.npy\"), allow_pickle=True) \n",
    "user_index = np.load(os.path.join(lookups_dir, \"user_index.npy\"), allow_pickle=True) "
   ]
  },
  {
   "cell_type": "code",
   "execution_count": null,
   "id": "7b2defb7",
   "metadata": {},
   "outputs": [
    {
     "name": "stdout",
     "output_type": "stream",
     "text": [
      "Min value: 2.4887408e-06\n",
      "Max value: 4.427174\n",
      "Mean: 0.010540024\n",
      "Standard deviation: 0.023050444\n"
     ]
    },
    {
     "data": {
      "image/png": "[encoded data removed]",
      "text/plain": [
       "<Figure size 800x500 with 1 Axes>"
      ]
     },
     "metadata": {},
     "output_type": "display_data"
    }
   ],
   "source": [
    "from matplotlib import pyplot as plt\n",
    "\n",
    "data = P_sparse.data\n",
    "data = data[data > 0] \n",
    "\n",
    "print(\"Min value:\", data.min()) \n",
    "print(\"Max value:\", data.max()) \n",
    "print(\"Mean:\", data.mean()) \n",
    "print(\"Standard deviation:\", data.std()) \n",
    "\n",
    "plt.figure(figsize=(8, 5)) \n",
    "plt.hist(\n",
    "    data, \n",
    "    bins=20, \n",
    "    edgecolor='black', \n",
    "    color='skyblue' \n",
    ")\n",
    "plt.title(\"Distribution of Predicted Ratings (non-zero)\") \n",
    "plt.xlabel(\"Predicted Score\") \n",
    "plt.ylabel(\"Frequency\") \n",
    "plt.grid(axis='y', linestyle='--', alpha=0.7) \n",
    "plt.tight_layout() \n",
    "plt.show() "
   ]
  },
  {
   "cell_type": "code",
   "execution_count": 85,
   "id": "50ddfb24",
   "metadata": {},
   "outputs": [
    {
     "data": {
      "text/html": [
       "<div>\n",
       "<style scoped>\n",
       "    .dataframe tbody tr th:only-of-type {\n",
       "        vertical-align: middle;\n",
       "    }\n",
       "\n",
       "    .dataframe tbody tr th {\n",
       "        vertical-align: top;\n",
       "    }\n",
       "\n",
       "    .dataframe thead th {\n",
       "        text-align: right;\n",
       "    }\n",
       "</style>\n",
       "<table border=\"1\" class=\"dataframe\">\n",
       "  <thead>\n",
       "    <tr style=\"text-align: right;\">\n",
       "      <th></th>\n",
       "      <th>A0072193KFP6LUHKEXLT</th>\n",
       "      <th>A0096681Y127OL1H8W3U</th>\n",
       "      <th>A0103849GBVWICKXD4T6</th>\n",
       "      <th>A0279100VZXR9A2495P4</th>\n",
       "      <th>A0600727NK5MAF66IOY5</th>\n",
       "      <th>A0727497OR0PPNFLFPDV</th>\n",
       "      <th>A07936821FOVJO6NP4Q8</th>\n",
       "      <th>A0833006NJW9KRF77ZFY</th>\n",
       "      <th>A0955928C2RRWOWZN7UC</th>\n",
       "      <th>A10044ECXDUVKS</th>\n",
       "      <th>...</th>\n",
       "      <th>AZYCGMFCK9AIM</th>\n",
       "      <th>AZYJTD9J82V5I</th>\n",
       "      <th>AZYP4FQ2L2C4O</th>\n",
       "      <th>AZZ3WYDJ0XNZW</th>\n",
       "      <th>AZZCLFV6V8693</th>\n",
       "      <th>AZZM5MUOG0LRK</th>\n",
       "      <th>AZZT9G4MJFCHD</th>\n",
       "      <th>AZZX23UGJGKTT</th>\n",
       "      <th>AZZZ3LGTCGUZF</th>\n",
       "      <th>AZZZG8PGB1FS0</th>\n",
       "    </tr>\n",
       "  </thead>\n",
       "  <tbody>\n",
       "    <tr>\n",
       "      <th>0739079891</th>\n",
       "      <td>0.001417</td>\n",
       "      <td>0.002249</td>\n",
       "      <td>0</td>\n",
       "      <td>0</td>\n",
       "      <td>0</td>\n",
       "      <td>0</td>\n",
       "      <td>0.005686</td>\n",
       "      <td>0</td>\n",
       "      <td>0</td>\n",
       "      <td>0.002617</td>\n",
       "      <td>...</td>\n",
       "      <td>0.012907</td>\n",
       "      <td>0</td>\n",
       "      <td>0</td>\n",
       "      <td>0.00569</td>\n",
       "      <td>0.005153</td>\n",
       "      <td>0</td>\n",
       "      <td>0</td>\n",
       "      <td>0</td>\n",
       "      <td>0</td>\n",
       "      <td>0</td>\n",
       "    </tr>\n",
       "    <tr>\n",
       "      <th>0786615206</th>\n",
       "      <td>0</td>\n",
       "      <td>0.006382</td>\n",
       "      <td>0</td>\n",
       "      <td>0</td>\n",
       "      <td>0</td>\n",
       "      <td>0</td>\n",
       "      <td>0</td>\n",
       "      <td>0</td>\n",
       "      <td>0</td>\n",
       "      <td>0.001126</td>\n",
       "      <td>...</td>\n",
       "      <td>0</td>\n",
       "      <td>0</td>\n",
       "      <td>0</td>\n",
       "      <td>0</td>\n",
       "      <td>0</td>\n",
       "      <td>0</td>\n",
       "      <td>0</td>\n",
       "      <td>0</td>\n",
       "      <td>0</td>\n",
       "      <td>0</td>\n",
       "    </tr>\n",
       "    <tr>\n",
       "      <th>1480360295</th>\n",
       "      <td>0.007739</td>\n",
       "      <td>0.002601</td>\n",
       "      <td>0</td>\n",
       "      <td>0</td>\n",
       "      <td>0</td>\n",
       "      <td>0</td>\n",
       "      <td>0.003764</td>\n",
       "      <td>0.027382</td>\n",
       "      <td>0.00357</td>\n",
       "      <td>0.003489</td>\n",
       "      <td>...</td>\n",
       "      <td>0.020344</td>\n",
       "      <td>0.001097</td>\n",
       "      <td>0</td>\n",
       "      <td>0.001751</td>\n",
       "      <td>0</td>\n",
       "      <td>0</td>\n",
       "      <td>0.000882</td>\n",
       "      <td>0</td>\n",
       "      <td>0</td>\n",
       "      <td>0.019288</td>\n",
       "    </tr>\n",
       "    <tr>\n",
       "      <th>1928571018</th>\n",
       "      <td>0.002</td>\n",
       "      <td>0.000598</td>\n",
       "      <td>0</td>\n",
       "      <td>0</td>\n",
       "      <td>0</td>\n",
       "      <td>0</td>\n",
       "      <td>0.000778</td>\n",
       "      <td>0</td>\n",
       "      <td>0</td>\n",
       "      <td>0.000233</td>\n",
       "      <td>...</td>\n",
       "      <td>0</td>\n",
       "      <td>0</td>\n",
       "      <td>0</td>\n",
       "      <td>0.000692</td>\n",
       "      <td>0.007247</td>\n",
       "      <td>0</td>\n",
       "      <td>0</td>\n",
       "      <td>0</td>\n",
       "      <td>0</td>\n",
       "      <td>0.001216</td>\n",
       "    </tr>\n",
       "    <tr>\n",
       "      <th>9792372326</th>\n",
       "      <td>0</td>\n",
       "      <td>0</td>\n",
       "      <td>0</td>\n",
       "      <td>0</td>\n",
       "      <td>0</td>\n",
       "      <td>0</td>\n",
       "      <td>0</td>\n",
       "      <td>0</td>\n",
       "      <td>0</td>\n",
       "      <td>0.001631</td>\n",
       "      <td>...</td>\n",
       "      <td>0</td>\n",
       "      <td>0.022063</td>\n",
       "      <td>0</td>\n",
       "      <td>0.000986</td>\n",
       "      <td>0</td>\n",
       "      <td>0</td>\n",
       "      <td>0.002676</td>\n",
       "      <td>0.030343</td>\n",
       "      <td>0.015025</td>\n",
       "      <td>0.008067</td>\n",
       "    </tr>\n",
       "  </tbody>\n",
       "</table>\n",
       "<p>5 rows × 27530 columns</p>\n",
       "</div>"
      ],
      "text/plain": [
       "            A0072193KFP6LUHKEXLT  A0096681Y127OL1H8W3U  A0103849GBVWICKXD4T6  \\\n",
       "0739079891              0.001417              0.002249                     0   \n",
       "0786615206                     0              0.006382                     0   \n",
       "1480360295              0.007739              0.002601                     0   \n",
       "1928571018                 0.002              0.000598                     0   \n",
       "9792372326                     0                     0                     0   \n",
       "\n",
       "            A0279100VZXR9A2495P4  A0600727NK5MAF66IOY5  A0727497OR0PPNFLFPDV  \\\n",
       "0739079891                     0                     0                     0   \n",
       "0786615206                     0                     0                     0   \n",
       "1480360295                     0                     0                     0   \n",
       "1928571018                     0                     0                     0   \n",
       "9792372326                     0                     0                     0   \n",
       "\n",
       "            A07936821FOVJO6NP4Q8  A0833006NJW9KRF77ZFY  A0955928C2RRWOWZN7UC  \\\n",
       "0739079891              0.005686                     0                     0   \n",
       "0786615206                     0                     0                     0   \n",
       "1480360295              0.003764              0.027382               0.00357   \n",
       "1928571018              0.000778                     0                     0   \n",
       "9792372326                     0                     0                     0   \n",
       "\n",
       "            A10044ECXDUVKS  ...  AZYCGMFCK9AIM  AZYJTD9J82V5I  AZYP4FQ2L2C4O  \\\n",
       "0739079891        0.002617  ...       0.012907              0              0   \n",
       "0786615206        0.001126  ...              0              0              0   \n",
       "1480360295        0.003489  ...       0.020344       0.001097              0   \n",
       "1928571018        0.000233  ...              0              0              0   \n",
       "9792372326        0.001631  ...              0       0.022063              0   \n",
       "\n",
       "            AZZ3WYDJ0XNZW  AZZCLFV6V8693  AZZM5MUOG0LRK  AZZT9G4MJFCHD  \\\n",
       "0739079891        0.00569       0.005153              0              0   \n",
       "0786615206              0              0              0              0   \n",
       "1480360295       0.001751              0              0       0.000882   \n",
       "1928571018       0.000692       0.007247              0              0   \n",
       "9792372326       0.000986              0              0       0.002676   \n",
       "\n",
       "            AZZX23UGJGKTT  AZZZ3LGTCGUZF  AZZZG8PGB1FS0  \n",
       "0739079891              0              0              0  \n",
       "0786615206              0              0              0  \n",
       "1480360295              0              0       0.019288  \n",
       "1928571018              0              0       0.001216  \n",
       "9792372326       0.030343       0.015025       0.008067  \n",
       "\n",
       "[5 rows x 27530 columns]"
      ]
     },
     "execution_count": 85,
     "metadata": {},
     "output_type": "execute_result"
    }
   ],
   "source": [
    "P = pd.DataFrame.sparse.from_spmatrix(\n",
    "    P_sparse,\n",
    "    index=product_index,\n",
    "    columns=user_index \n",
    ")\n",
    "P.head() "
   ]
  },
  {
   "cell_type": "markdown",
   "id": "3701a7c4",
   "metadata": {},
   "source": [
    "Assess distribution of recommendation scores"
   ]
  },
  {
   "cell_type": "code",
   "execution_count": 18,
   "id": "d1e3d6c1",
   "metadata": {},
   "outputs": [],
   "source": [
    "min = P.min() "
   ]
  },
  {
   "cell_type": "markdown",
   "id": "ef24f412",
   "metadata": {},
   "source": [
    "Along with the raw recommendations score we'll also create an approximate predicted rating by denormalizing the values. "
   ]
  },
  {
   "cell_type": "code",
   "execution_count": null,
   "id": "6a0c9e47",
   "metadata": {},
   "outputs": [],
   "source": []
  },
  {
   "cell_type": "markdown",
   "id": "c6620efd",
   "metadata": {},
   "source": [
    "### 3.3.3. Encode Recommendations into Graph"
   ]
  },
  {
   "cell_type": "code",
   "execution_count": 86,
   "id": "b90c4e40",
   "metadata": {},
   "outputs": [],
   "source": [
    "def add_recommendation_edges(graph=G, prediction_matrix=P, min_score=2.5): \n",
    "    best_edges = {} \n",
    "\n",
    "    for product in P.index: \n",
    "        for user in P.columns: \n",
    "            score = P.at[product, user]\n",
    "            # always add a recommendation is predicted rating >= 2.5\n",
    "            if score >= min_score: \n",
    "                G.add_edge(\n",
    "                    product, \n",
    "                    user, \n",
    "                    edge_type='Recommended',\n",
    "                    weight=score\n",
    "                )\n",
    "            # else keep track of the highest predicted rating (always add at least one recommendation for each user)\n",
    "            else: \n",
    "                if (user not in best_edges or score > best_edges[user][1]): \n",
    "                    best_edges[user] = (product, score) \n",
    "    \n",
    "    # add best available recommendation for users without one \n",
    "    existing_recommendees = {\n",
    "        v for _, v, d in G.edges(data=True) if d.get('edge_type') == 'Recommended'\n",
    "    }\n",
    "    for user, (product, score) in best_edges.items(): \n",
    "        if user not in existing_recommendees: \n",
    "            G.add_edge(\n",
    "                product,\n",
    "                user,\n",
    "                edge_type='Recommended', \n",
    "                weight=score\n",
    "            )\n",
    "    return G\n",
    "\n",
    "G = add_recommendation_edges()"
   ]
  },
  {
   "cell_type": "code",
   "execution_count": 87,
   "id": "d9ca697d",
   "metadata": {},
   "outputs": [],
   "source": [
    "import pickle \n",
    "\n",
    "graphs_dir = os.path.join(project_dir, \"graph\") \n",
    "with open(os.path.join(graphs_dir, \"graph_3.pkl\"), 'wb') as f: \n",
    "    pickle.dump(G, f) "
   ]
  },
  {
   "cell_type": "markdown",
   "id": "e19258ed",
   "metadata": {},
   "source": [
    "### 3.3.4. Reload Graph"
   ]
  },
  {
   "cell_type": "code",
   "execution_count": 12,
   "id": "47f28462",
   "metadata": {},
   "outputs": [
    {
     "name": "stdout",
     "output_type": "stream",
     "text": [
      "<class 'networkx.classes.digraph.DiGraph'>\n"
     ]
    }
   ],
   "source": [
    "import pickle \n",
    "\n",
    "graphs_dir = os.path.join(project_dir, \"graph\")\n",
    "with open(os.path.join(graphs_dir, \"graph_2.pkl\"), 'rb') as f: \n",
    "    G = pickle.load(f) \n",
    "\n",
    "print(type(G)) "
   ]
  },
  {
   "cell_type": "code",
   "execution_count": 20,
   "id": "4afff8ff",
   "metadata": {},
   "outputs": [
    {
     "ename": "NameError",
     "evalue": "name 'data_dir' is not defined",
     "output_type": "error",
     "traceback": [
      "\u001b[31m---------------------------------------------------------------------------\u001b[39m",
      "\u001b[31mNameError\u001b[39m                                 Traceback (most recent call last)",
      "\u001b[36mCell\u001b[39m\u001b[36m \u001b[39m\u001b[32mIn[20]\u001b[39m\u001b[32m, line 1\u001b[39m\n\u001b[32m----> \u001b[39m\u001b[32m1\u001b[39m os.listdir(\u001b[43mdata_dir\u001b[49m)\n",
      "\u001b[31mNameError\u001b[39m: name 'data_dir' is not defined"
     ]
    }
   ],
   "source": [
    "os.listdir(data_dir)"
   ]
  },
  {
   "cell_type": "code",
   "execution_count": null,
   "id": "144daa28",
   "metadata": {},
   "outputs": [],
   "source": [
    "data_dir = os.path.join(project_dir, \"data\")\n",
    "metadata_path = os.path.join(data_dir, \"meta_Musical_Instruments.json.gz\") \n",
    "\n",
    "# keep 'also_buy' and 'also_bought' fields separate -- treat as edges\n",
    "edge_fields = ['also_buy', 'also_viewed']\n",
    "for review in parse(metadata_path): \n",
    "    # check if node exists for 'asin' field \n",
    "    product_id = review.get('asin', None) \n",
    "    if not G.has_node(product_id): \n",
    "        continue \n",
    "    else: \n",
    "\n",
    "        edge"
   ]
  },
  {
   "cell_type": "markdown",
   "id": "80cfb6ea",
   "metadata": {},
   "source": [
    "## 3.4. Top-r recommendations lookup"
   ]
  },
  {
   "cell_type": "code",
   "execution_count": 11,
   "id": "ab2d9595",
   "metadata": {},
   "outputs": [
    {
     "data": {
      "text/html": [
       "<div>\n",
       "<style scoped>\n",
       "    .dataframe tbody tr th:only-of-type {\n",
       "        vertical-align: middle;\n",
       "    }\n",
       "\n",
       "    .dataframe tbody tr th {\n",
       "        vertical-align: top;\n",
       "    }\n",
       "\n",
       "    .dataframe thead th {\n",
       "        text-align: right;\n",
       "    }\n",
       "</style>\n",
       "<table border=\"1\" class=\"dataframe\">\n",
       "  <thead>\n",
       "    <tr style=\"text-align: right;\">\n",
       "      <th></th>\n",
       "      <th>A0072193KFP6LUHKEXLT</th>\n",
       "      <th>A0096681Y127OL1H8W3U</th>\n",
       "      <th>A0103849GBVWICKXD4T6</th>\n",
       "      <th>A0279100VZXR9A2495P4</th>\n",
       "      <th>A0600727NK5MAF66IOY5</th>\n",
       "      <th>A0727497OR0PPNFLFPDV</th>\n",
       "      <th>A07936821FOVJO6NP4Q8</th>\n",
       "      <th>A0833006NJW9KRF77ZFY</th>\n",
       "      <th>A0955928C2RRWOWZN7UC</th>\n",
       "      <th>A10044ECXDUVKS</th>\n",
       "      <th>...</th>\n",
       "      <th>AZYCGMFCK9AIM</th>\n",
       "      <th>AZYJTD9J82V5I</th>\n",
       "      <th>AZYP4FQ2L2C4O</th>\n",
       "      <th>AZZ3WYDJ0XNZW</th>\n",
       "      <th>AZZCLFV6V8693</th>\n",
       "      <th>AZZM5MUOG0LRK</th>\n",
       "      <th>AZZT9G4MJFCHD</th>\n",
       "      <th>AZZX23UGJGKTT</th>\n",
       "      <th>AZZZ3LGTCGUZF</th>\n",
       "      <th>AZZZG8PGB1FS0</th>\n",
       "    </tr>\n",
       "  </thead>\n",
       "  <tbody>\n",
       "    <tr>\n",
       "      <th>0739079891</th>\n",
       "      <td>0</td>\n",
       "      <td>0</td>\n",
       "      <td>0</td>\n",
       "      <td>0</td>\n",
       "      <td>0</td>\n",
       "      <td>0</td>\n",
       "      <td>0</td>\n",
       "      <td>0</td>\n",
       "      <td>0</td>\n",
       "      <td>0</td>\n",
       "      <td>...</td>\n",
       "      <td>0</td>\n",
       "      <td>0</td>\n",
       "      <td>0</td>\n",
       "      <td>0</td>\n",
       "      <td>0</td>\n",
       "      <td>0</td>\n",
       "      <td>0</td>\n",
       "      <td>0</td>\n",
       "      <td>0</td>\n",
       "      <td>0</td>\n",
       "    </tr>\n",
       "    <tr>\n",
       "      <th>0786615206</th>\n",
       "      <td>0</td>\n",
       "      <td>0</td>\n",
       "      <td>0</td>\n",
       "      <td>0</td>\n",
       "      <td>0</td>\n",
       "      <td>0</td>\n",
       "      <td>0</td>\n",
       "      <td>0</td>\n",
       "      <td>0</td>\n",
       "      <td>0</td>\n",
       "      <td>...</td>\n",
       "      <td>0</td>\n",
       "      <td>0</td>\n",
       "      <td>0</td>\n",
       "      <td>0</td>\n",
       "      <td>0</td>\n",
       "      <td>0</td>\n",
       "      <td>0</td>\n",
       "      <td>0</td>\n",
       "      <td>0</td>\n",
       "      <td>0</td>\n",
       "    </tr>\n",
       "    <tr>\n",
       "      <th>1480360295</th>\n",
       "      <td>0</td>\n",
       "      <td>0</td>\n",
       "      <td>0</td>\n",
       "      <td>0</td>\n",
       "      <td>0</td>\n",
       "      <td>0</td>\n",
       "      <td>0</td>\n",
       "      <td>0</td>\n",
       "      <td>0</td>\n",
       "      <td>0</td>\n",
       "      <td>...</td>\n",
       "      <td>0</td>\n",
       "      <td>0</td>\n",
       "      <td>0</td>\n",
       "      <td>0</td>\n",
       "      <td>0</td>\n",
       "      <td>0</td>\n",
       "      <td>0</td>\n",
       "      <td>0</td>\n",
       "      <td>0</td>\n",
       "      <td>0</td>\n",
       "    </tr>\n",
       "    <tr>\n",
       "      <th>1928571018</th>\n",
       "      <td>0</td>\n",
       "      <td>0</td>\n",
       "      <td>0</td>\n",
       "      <td>0</td>\n",
       "      <td>0</td>\n",
       "      <td>0</td>\n",
       "      <td>0</td>\n",
       "      <td>0</td>\n",
       "      <td>0</td>\n",
       "      <td>0</td>\n",
       "      <td>...</td>\n",
       "      <td>0</td>\n",
       "      <td>0</td>\n",
       "      <td>0</td>\n",
       "      <td>0</td>\n",
       "      <td>0</td>\n",
       "      <td>0</td>\n",
       "      <td>0</td>\n",
       "      <td>0</td>\n",
       "      <td>0</td>\n",
       "      <td>0</td>\n",
       "    </tr>\n",
       "    <tr>\n",
       "      <th>9792372326</th>\n",
       "      <td>0</td>\n",
       "      <td>0</td>\n",
       "      <td>0</td>\n",
       "      <td>0</td>\n",
       "      <td>0</td>\n",
       "      <td>0</td>\n",
       "      <td>0</td>\n",
       "      <td>0</td>\n",
       "      <td>0</td>\n",
       "      <td>0</td>\n",
       "      <td>...</td>\n",
       "      <td>0</td>\n",
       "      <td>0</td>\n",
       "      <td>0</td>\n",
       "      <td>0</td>\n",
       "      <td>0</td>\n",
       "      <td>0</td>\n",
       "      <td>0</td>\n",
       "      <td>0</td>\n",
       "      <td>0</td>\n",
       "      <td>0</td>\n",
       "    </tr>\n",
       "  </tbody>\n",
       "</table>\n",
       "<p>5 rows × 27530 columns</p>\n",
       "</div>"
      ],
      "text/plain": [
       "            A0072193KFP6LUHKEXLT  A0096681Y127OL1H8W3U  A0103849GBVWICKXD4T6  \\\n",
       "0739079891                     0                     0                     0   \n",
       "0786615206                     0                     0                     0   \n",
       "1480360295                     0                     0                     0   \n",
       "1928571018                     0                     0                     0   \n",
       "9792372326                     0                     0                     0   \n",
       "\n",
       "            A0279100VZXR9A2495P4  A0600727NK5MAF66IOY5  A0727497OR0PPNFLFPDV  \\\n",
       "0739079891                     0                     0                     0   \n",
       "0786615206                     0                     0                     0   \n",
       "1480360295                     0                     0                     0   \n",
       "1928571018                     0                     0                     0   \n",
       "9792372326                     0                     0                     0   \n",
       "\n",
       "            A07936821FOVJO6NP4Q8  A0833006NJW9KRF77ZFY  A0955928C2RRWOWZN7UC  \\\n",
       "0739079891                     0                     0                     0   \n",
       "0786615206                     0                     0                     0   \n",
       "1480360295                     0                     0                     0   \n",
       "1928571018                     0                     0                     0   \n",
       "9792372326                     0                     0                     0   \n",
       "\n",
       "            A10044ECXDUVKS  ...  AZYCGMFCK9AIM  AZYJTD9J82V5I  AZYP4FQ2L2C4O  \\\n",
       "0739079891               0  ...              0              0              0   \n",
       "0786615206               0  ...              0              0              0   \n",
       "1480360295               0  ...              0              0              0   \n",
       "1928571018               0  ...              0              0              0   \n",
       "9792372326               0  ...              0              0              0   \n",
       "\n",
       "            AZZ3WYDJ0XNZW  AZZCLFV6V8693  AZZM5MUOG0LRK  AZZT9G4MJFCHD  \\\n",
       "0739079891              0              0              0              0   \n",
       "0786615206              0              0              0              0   \n",
       "1480360295              0              0              0              0   \n",
       "1928571018              0              0              0              0   \n",
       "9792372326              0              0              0              0   \n",
       "\n",
       "            AZZX23UGJGKTT  AZZZ3LGTCGUZF  AZZZG8PGB1FS0  \n",
       "0739079891              0              0              0  \n",
       "0786615206              0              0              0  \n",
       "1480360295              0              0              0  \n",
       "1928571018              0              0              0  \n",
       "9792372326              0              0              0  \n",
       "\n",
       "[5 rows x 27530 columns]"
      ]
     },
     "execution_count": 11,
     "metadata": {},
     "output_type": "execute_result"
    }
   ],
   "source": [
    "U.head()"
   ]
  },
  {
   "cell_type": "code",
   "execution_count": 12,
   "id": "174867a0",
   "metadata": {},
   "outputs": [],
   "source": [
    "def get_top_recs(prediction_matrix, utility_matrix, users=None, r=5): \n",
    "    \"\"\"\n",
    "    Creates a lookup dict for top-r (default 5) recommended products for each user.\n",
    "    If users set to None (default), compute the full lookup. \n",
    "        To get top recs for specific user(s), pass a list of User IDs to users. \n",
    "    \"\"\"\n",
    "    recommendations = {} \n",
    "    if users is None: \n",
    "        for user in prediction_matrix.columns: \n",
    "            # Filter for items not actually rated by user\n",
    "            user_preds = prediction_matrix[user][utility_matrix[user] == 0] \n",
    "            top_r_items = user_preds.sort_values(ascending=False).head(r) \n",
    "            recommendations[user] = top_r_items.index.tolist() \n",
    "    elif isinstance(users, str): \n",
    "        user_preds = prediction_matrix[user][utility_matrix[user] == 0] \n",
    "        top_r_items = user_preds.sort_values(ascending=False).head(r)\n",
    "        recommendations[user] = top_r_items.index.tolist() \n",
    "    elif isinstance(users, list): \n",
    "        for user in users: \n",
    "            user_preds = prediction_matrix[user][utility_matrix[user] == 0] \n",
    "            top_r_items = user_preds.sort_values(ascending=False).head(r) \n",
    "            recommendations[user] = top_r_items.index.tolist()  \n",
    "    else: \n",
    "        print(\"TypeError: users parameter must be None, a string, or list of strings giving User IDs.\")\n",
    "        return False\n",
    "    \n",
    "    return recommendations\n",
    "\n",
    "recs = get_top_recs(P, U) "
   ]
  },
  {
   "cell_type": "code",
   "execution_count": 14,
   "id": "25911e74",
   "metadata": {},
   "outputs": [],
   "source": [
    "# save the recs lookup (json) \n",
    "with open(os.path.join(lookups_dir, \"top5_recs.json\"), 'w') as f: \n",
    "    json.dump(recs, f) "
   ]
  },
  {
   "cell_type": "code",
   "execution_count": 7,
   "id": "849a5697",
   "metadata": {},
   "outputs": [],
   "source": [
    "# reload recs lookup \n",
    "lookups_dir = os.path.join(project_dir, \"lookups\")\n",
    "with open(os.path.join(lookups_dir, \"top5_recs\"), 'r') as f: \n",
    "    recs = json.load(f) "
   ]
  },
  {
   "cell_type": "markdown",
   "id": "5bb08103",
   "metadata": {},
   "source": [
    "# 4. LLM Prompting"
   ]
  },
  {
   "cell_type": "markdown",
   "id": "c4ce9112",
   "metadata": {},
   "source": [
    "Given some user u identified by their user_id and k desired recommendations, we want to do the following: \n",
    "\n",
    "1. Get the product_ids (p, q etc.) of those k products from the recs lookup. \n",
    "2. Find the N set of users who have rated p and are most similar to u. \n",
    "3. Finding p review samples: \n",
    "    a. If N is insufficiently large, say below three, also find the highest ratings for p with the most votes.  \n",
    "    b. Regardless of how big N is, find the review of p with highest rating and most votes. \n",
    "4. u review sample: Find user u's review with highest rating. \n",
    "    "
   ]
  },
  {
   "cell_type": "markdown",
   "id": "02c36449",
   "metadata": {},
   "source": [
    "## 4.1. Collect Prompt Info"
   ]
  },
  {
   "cell_type": "markdown",
   "id": "dcf1b6bd",
   "metadata": {},
   "source": [
    "### 4.1.1. From lookups"
   ]
  },
  {
   "cell_type": "code",
   "execution_count": 19,
   "id": "a6209699",
   "metadata": {},
   "outputs": [
    {
     "name": "stdout",
     "output_type": "stream",
     "text": [
      "A0072193KFP6LUHKEXLT ['B002UAF1PW', 'B000RNB720', 'B0002E1G5C', 'B0002E1J3Q', 'B0006LOBA8']\n"
     ]
    }
   ],
   "source": [
    "for r, v in recs.items():\n",
    "    print(r, v)\n",
    "    break"
   ]
  },
  {
   "cell_type": "markdown",
   "id": "e8e83b24",
   "metadata": {},
   "source": [
    "to make this even more sophisticated you could use item-item similarity in a complementary way to find the most similar item to the recommended product that user has reviewed. Can also use product info directly. "
   ]
  },
  {
   "cell_type": "code",
   "execution_count": 78,
   "id": "a5180af4",
   "metadata": {},
   "outputs": [
    {
     "data": {
      "text/html": [
       "<div>\n",
       "<style scoped>\n",
       "    .dataframe tbody tr th:only-of-type {\n",
       "        vertical-align: middle;\n",
       "    }\n",
       "\n",
       "    .dataframe tbody tr th {\n",
       "        vertical-align: top;\n",
       "    }\n",
       "\n",
       "    .dataframe thead th {\n",
       "        text-align: right;\n",
       "    }\n",
       "</style>\n",
       "<table border=\"1\" class=\"dataframe\">\n",
       "  <thead>\n",
       "    <tr style=\"text-align: right;\">\n",
       "      <th></th>\n",
       "      <th>0739079891</th>\n",
       "      <th>0786615206</th>\n",
       "      <th>1480360295</th>\n",
       "      <th>1928571018</th>\n",
       "      <th>9792372326</th>\n",
       "      <th>B00000J50W</th>\n",
       "      <th>B00001W0DH</th>\n",
       "      <th>B00001W0DT</th>\n",
       "      <th>B00004TT3S</th>\n",
       "      <th>B00004UE29</th>\n",
       "      <th>...</th>\n",
       "      <th>B01HECB4AG</th>\n",
       "      <th>B01HED0HO4</th>\n",
       "      <th>B01HG0FXAI</th>\n",
       "      <th>B01HG293XO</th>\n",
       "      <th>B01HGLUP14</th>\n",
       "      <th>B01HHJXKRG</th>\n",
       "      <th>B01HHZAU3W</th>\n",
       "      <th>B01HI1VM28</th>\n",
       "      <th>B01HI5M4GW</th>\n",
       "      <th>B01HIDOPP2</th>\n",
       "    </tr>\n",
       "  </thead>\n",
       "  <tbody>\n",
       "    <tr>\n",
       "      <th>0739079891</th>\n",
       "      <td>1.000000</td>\n",
       "      <td>0.0</td>\n",
       "      <td>0.037687</td>\n",
       "      <td>0.0</td>\n",
       "      <td>0.0</td>\n",
       "      <td>0.0</td>\n",
       "      <td>0.0</td>\n",
       "      <td>0.0</td>\n",
       "      <td>0.0</td>\n",
       "      <td>0.0</td>\n",
       "      <td>...</td>\n",
       "      <td>0.0</td>\n",
       "      <td>0.0</td>\n",
       "      <td>0.0</td>\n",
       "      <td>0.0</td>\n",
       "      <td>0.0</td>\n",
       "      <td>0.0</td>\n",
       "      <td>0.0</td>\n",
       "      <td>0.0</td>\n",
       "      <td>0.0</td>\n",
       "      <td>0.0</td>\n",
       "    </tr>\n",
       "    <tr>\n",
       "      <th>0786615206</th>\n",
       "      <td>0.000000</td>\n",
       "      <td>1.0</td>\n",
       "      <td>0.000000</td>\n",
       "      <td>0.0</td>\n",
       "      <td>0.0</td>\n",
       "      <td>0.0</td>\n",
       "      <td>0.0</td>\n",
       "      <td>0.0</td>\n",
       "      <td>0.0</td>\n",
       "      <td>0.0</td>\n",
       "      <td>...</td>\n",
       "      <td>0.0</td>\n",
       "      <td>0.0</td>\n",
       "      <td>0.0</td>\n",
       "      <td>0.0</td>\n",
       "      <td>0.0</td>\n",
       "      <td>0.0</td>\n",
       "      <td>0.0</td>\n",
       "      <td>0.0</td>\n",
       "      <td>0.0</td>\n",
       "      <td>0.0</td>\n",
       "    </tr>\n",
       "    <tr>\n",
       "      <th>1480360295</th>\n",
       "      <td>0.037687</td>\n",
       "      <td>0.0</td>\n",
       "      <td>1.000000</td>\n",
       "      <td>0.0</td>\n",
       "      <td>0.0</td>\n",
       "      <td>0.0</td>\n",
       "      <td>0.0</td>\n",
       "      <td>0.0</td>\n",
       "      <td>0.0</td>\n",
       "      <td>0.0</td>\n",
       "      <td>...</td>\n",
       "      <td>0.0</td>\n",
       "      <td>0.0</td>\n",
       "      <td>0.0</td>\n",
       "      <td>0.0</td>\n",
       "      <td>0.0</td>\n",
       "      <td>0.0</td>\n",
       "      <td>0.0</td>\n",
       "      <td>0.0</td>\n",
       "      <td>0.0</td>\n",
       "      <td>0.0</td>\n",
       "    </tr>\n",
       "    <tr>\n",
       "      <th>1928571018</th>\n",
       "      <td>0.000000</td>\n",
       "      <td>0.0</td>\n",
       "      <td>0.000000</td>\n",
       "      <td>1.0</td>\n",
       "      <td>0.0</td>\n",
       "      <td>0.0</td>\n",
       "      <td>0.0</td>\n",
       "      <td>0.0</td>\n",
       "      <td>0.0</td>\n",
       "      <td>0.0</td>\n",
       "      <td>...</td>\n",
       "      <td>0.0</td>\n",
       "      <td>0.0</td>\n",
       "      <td>0.0</td>\n",
       "      <td>0.0</td>\n",
       "      <td>0.0</td>\n",
       "      <td>0.0</td>\n",
       "      <td>0.0</td>\n",
       "      <td>0.0</td>\n",
       "      <td>0.0</td>\n",
       "      <td>0.0</td>\n",
       "    </tr>\n",
       "    <tr>\n",
       "      <th>9792372326</th>\n",
       "      <td>0.000000</td>\n",
       "      <td>0.0</td>\n",
       "      <td>0.000000</td>\n",
       "      <td>0.0</td>\n",
       "      <td>1.0</td>\n",
       "      <td>0.0</td>\n",
       "      <td>0.0</td>\n",
       "      <td>0.0</td>\n",
       "      <td>0.0</td>\n",
       "      <td>0.0</td>\n",
       "      <td>...</td>\n",
       "      <td>0.0</td>\n",
       "      <td>0.0</td>\n",
       "      <td>0.0</td>\n",
       "      <td>0.0</td>\n",
       "      <td>0.0</td>\n",
       "      <td>0.0</td>\n",
       "      <td>0.0</td>\n",
       "      <td>0.0</td>\n",
       "      <td>0.0</td>\n",
       "      <td>0.0</td>\n",
       "    </tr>\n",
       "  </tbody>\n",
       "</table>\n",
       "<p>5 rows × 10620 columns</p>\n",
       "</div>"
      ],
      "text/plain": [
       "            0739079891  0786615206  1480360295  1928571018  9792372326  \\\n",
       "0739079891    1.000000         0.0    0.037687         0.0         0.0   \n",
       "0786615206    0.000000         1.0    0.000000         0.0         0.0   \n",
       "1480360295    0.037687         0.0    1.000000         0.0         0.0   \n",
       "1928571018    0.000000         0.0    0.000000         1.0         0.0   \n",
       "9792372326    0.000000         0.0    0.000000         0.0         1.0   \n",
       "\n",
       "            B00000J50W  B00001W0DH  B00001W0DT  B00004TT3S  B00004UE29  ...  \\\n",
       "0739079891         0.0         0.0         0.0         0.0         0.0  ...   \n",
       "0786615206         0.0         0.0         0.0         0.0         0.0  ...   \n",
       "1480360295         0.0         0.0         0.0         0.0         0.0  ...   \n",
       "1928571018         0.0         0.0         0.0         0.0         0.0  ...   \n",
       "9792372326         0.0         0.0         0.0         0.0         0.0  ...   \n",
       "\n",
       "            B01HECB4AG  B01HED0HO4  B01HG0FXAI  B01HG293XO  B01HGLUP14  \\\n",
       "0739079891         0.0         0.0         0.0         0.0         0.0   \n",
       "0786615206         0.0         0.0         0.0         0.0         0.0   \n",
       "1480360295         0.0         0.0         0.0         0.0         0.0   \n",
       "1928571018         0.0         0.0         0.0         0.0         0.0   \n",
       "9792372326         0.0         0.0         0.0         0.0         0.0   \n",
       "\n",
       "            B01HHJXKRG  B01HHZAU3W  B01HI1VM28  B01HI5M4GW  B01HIDOPP2  \n",
       "0739079891         0.0         0.0         0.0         0.0         0.0  \n",
       "0786615206         0.0         0.0         0.0         0.0         0.0  \n",
       "1480360295         0.0         0.0         0.0         0.0         0.0  \n",
       "1928571018         0.0         0.0         0.0         0.0         0.0  \n",
       "9792372326         0.0         0.0         0.0         0.0         0.0  \n",
       "\n",
       "[5 rows x 10620 columns]"
      ]
     },
     "execution_count": 78,
     "metadata": {},
     "output_type": "execute_result"
    }
   ],
   "source": [
    "I.head()"
   ]
  },
  {
   "cell_type": "code",
   "execution_count": 116,
   "id": "e977d535",
   "metadata": {},
   "outputs": [],
   "source": [
    "relevant_review_keys = [\n",
    "    'overall',\n",
    "    'reviewText',\n",
    "    'summary',\n",
    "    'vote',\n",
    "    'verified'  # still don't know what this means! but it seems important!\n",
    "]"
   ]
  },
  {
   "cell_type": "code",
   "execution_count": 147,
   "id": "62e29073",
   "metadata": {},
   "outputs": [],
   "source": [
    "# helper to rank reviews by similarity score \n",
    "def rank_reviews(reviews, similarity_vector): \n",
    "    # sort by similarity \n",
    "    sorted_keys = sorted(\n",
    "        reviews,\n",
    "        key=lambda x: similarity_vector[x],\n",
    "        reverse=True \n",
    "        )\n",
    "    # replace IDs with ranks \n",
    "    ranked_reviews = {\n",
    "        rank + 1: reviews[key] for rank, key in enumerate(sorted_keys)\n",
    "    }\n",
    "    return ranked_reviews"
   ]
  },
  {
   "cell_type": "code",
   "execution_count": 148,
   "id": "3e545264",
   "metadata": {},
   "outputs": [],
   "source": [
    "# Helper Function \n",
    "def collect_reviews(user_id, product_id, similarity='user', utility_matrix=U, item_matrix=I, user_matrix=S, graph=G, num_reviews=1): \n",
    "    \n",
    "    if similarity == 'user': # looking for similar users to user_id who have rated product_id\n",
    "        relevant_nodes = utility_matrix.loc[product_id][utility_matrix.loc[product_id] > 0].index.tolist()\n",
    "        print(f\"Users who have rated {product_id}: {relevant_nodes}\") \n",
    "        similarity_vector = user_matrix.loc[relevant_nodes, user_id] \n",
    "        similar_nodes = similarity_vector.sort_values(ascending=False).index.tolist()\n",
    "        print(f\"Users who have rated {product_id} most similar to {user_id}: {similar_nodes}\")\n",
    "        target_node = product_id # we'll be looking for the reviews of product_id from the users in similar_nodes\n",
    "\n",
    "    elif similarity == 'item':  # looking for similar products to product_id rated by user_id\n",
    "        relevant_nodes = utility_matrix.loc[:, user_id].gt(0).index.tolist()\n",
    "        print(f\"Products rated by {user_id}: {relevant_nodes}\") \n",
    "        similarity_vector = item_matrix.loc[relevant_nodes, product_id]\n",
    "        similar_nodes = similarity_vector.sort_values(ascending=False).index.tolist() \n",
    "        print(f\"Products rated by {user_id} most similar to {product_id}: {similar_nodes}\")\n",
    "        target_node = user_id # we'll be looking for reviews of similar_nodes (items) from the user_id\n",
    "    else: \n",
    "        raise ValueError(\"nodetype parameter must be 'user' (default) or 'item'\")\n",
    "    \n",
    "    done = False\n",
    "    rating_to_beat = 0 \n",
    "    reviews = {}\n",
    "\n",
    "    for s in similar_nodes: \n",
    "\n",
    "        if done: \n",
    "            return reviews \n",
    "        # if reviews contains the number of reviews needed, check whether they're all five star ratings \n",
    "        elif len(reviews) == num_reviews: \n",
    "            num_good_reviews = 0 \n",
    "            for r in reviews: \n",
    "                if num_good_reviews == num_reviews: \n",
    "                    done = True \n",
    "                    break\n",
    "                if reviews[r]['overall'] != 5: \n",
    "                    rating_to_beat = reviews[r]['overall']\n",
    "                    break \n",
    "                elif reviews[r]['overall'] == 5:\n",
    "                    num_good_reviews += 1 \n",
    "                else:  # if no overall rating, remove this review \n",
    "                    del reviews[r] \n",
    "        \n",
    "        if not graph.has_node(s): \n",
    "            print(f\"Node {s} not in graph\") \n",
    "            continue \n",
    "        # Now we want to find \n",
    "        # collect the edge set of node s \n",
    "        ## if s is user node, we want the out set \n",
    "        ## if s is an item node, we want the in set\n",
    "        edges = (\n",
    "            graph.out_edges(s, data=True) \n",
    "            if similarity == 'user'  # for user similarity we want out edges\n",
    "            else graph.in_edges(s, data=True) # and in edges for item similarity\n",
    "        )\n",
    "        # iterate through source, target and edge in the edge set of s\n",
    "        # if similarity is USER, the edge set is the out set of similar users and the target node is product_id\n",
    "        ## which means the product_id (target_node) is v \n",
    "\n",
    "        # conversely, if similarity is ITEM, the edge set is the in set of similar items \n",
    "        ## and the target_node is the user_id\n",
    "        ## which means the the user_id is u\n",
    "        for u, v, data in edges: \n",
    "            if similarity == 'user': \n",
    "                connected_node = v \n",
    "                key = u\n",
    "            else: \n",
    "                connected_node = u \n",
    "                key = v \n",
    "            if connected_node != target_node: \n",
    "                continue \n",
    "            if 'reviewText' not in data: \n",
    "                continue \n",
    "            if data.get('overall') > rating_to_beat: \n",
    "                review_info = {k:v for k, v in data.items() if k in relevant_review_keys}\n",
    "                # key reviews with IDs -- we'll use later to rank \n",
    "                reviews[key] = review_info\n",
    "\n",
    "                if len(reviews) > num_reviews: \n",
    "                    sorted_keys = sorted(reviews, key=lambda x: reviews[x]['overall']) \n",
    "                    top_keys = sorted_keys[1:] \n",
    "                    reviews = {k: reviews[k] for k in top_keys}\n",
    "    \n",
    "    # sort reviews by similarity and rank them \n",
    "    ranked_reviews = rank_reviews(reviews, similarity_vector) \n",
    "\n",
    "    return ranked_reviews"
   ]
  },
  {
   "cell_type": "markdown",
   "id": "d950385f",
   "metadata": {},
   "source": [
    "structure of info: \n",
    "{\n",
    "    product: {}, \n",
    "    reviews:{\n",
    "        similar_users: {\n",
    "\n",
    "        },\n",
    "        similar_items: {\n",
    "            \n",
    "        },\n",
    "        most_helpful: {\n",
    "            \n",
    "        }\n",
    "    }\n",
    "}"
   ]
  },
  {
   "cell_type": "code",
   "execution_count": 150,
   "id": "1ec552aa",
   "metadata": {},
   "outputs": [],
   "source": [
    "def find_most_helpful_review(product_id): \n",
    "    \"\"\"\n",
    "    Find the most helpful review (by votes) for this product.\n",
    "    \"\"\"\n",
    "    # collect the edge set of product_id \n",
    "    in_edges = G.in_edges(product_id, data=True)\n",
    "\n",
    "    for rating in range(5, 0, -1): \n",
    "        most_votes = -1 \n",
    "        most_helpful = None\n",
    "\n",
    "        for _, _, review in in_edges: \n",
    "            # find most helpful five star review \n",
    "            if review.get('overall') == rating:\n",
    "                votes = review.get('votes', 0) \n",
    "                if votes > most_votes: \n",
    "                    most_votes = votes\n",
    "                    most_helpful = {k:v for k, v in review.items() if k in relevant_review_keys}\n",
    "        \n",
    "        if most_helpful:\n",
    "            return most_helpful\n",
    "        \n",
    "    return None"
   ]
  },
  {
   "cell_type": "code",
   "execution_count": 129,
   "id": "58d3eb43",
   "metadata": {},
   "outputs": [
    {
     "data": {
      "text/plain": [
       "['title', 'brand', 'price', 'category', 'description', 'feature']"
      ]
     },
     "execution_count": 129,
     "metadata": {},
     "output_type": "execute_result"
    }
   ],
   "source": [
    "relevant_product_keys"
   ]
  },
  {
   "cell_type": "code",
   "execution_count": 160,
   "id": "b8ba6f0d",
   "metadata": {},
   "outputs": [],
   "source": [
    "def find_prompt_info(user_id, graph=G, num_product_reviews=1, num_user_reviews=1, utility_matrix=U, user_similarity_matrix=S, item_similarity_matrix=I, recommendations=recs): \n",
    "    \n",
    "    recommended_product_id = recommendations[user_id][0] \n",
    "    product_reviews = collect_reviews(user_id, recommended_product_id, similarity='user', num_reviews=num_user_reviews) # review of product by similar user \n",
    "    item_reviews = collect_reviews(user_id, recommended_product_id, similarity='item', num_reviews=num_product_reviews)  # reviews by user of similar products \n",
    "    most_helpful_review = find_most_helpful_review(recommended_product_id) \n",
    "    product_info = {\n",
    "        k: v for k, v in G.nodes[recommended_product_id].items() if k in relevant_product_keys\n",
    "    }\n",
    "    # structure info in consistent format \n",
    "    info = {\n",
    "        'Product': product_info, \n",
    "        'Reviews by similar users': product_reviews, \n",
    "        'Helpful review of product': most_helpful_review,\n",
    "        'Reviews of similar products by user': item_reviews \n",
    "    }\n",
    "    return info"
   ]
  },
  {
   "cell_type": "code",
   "execution_count": null,
   "id": "babb3b23",
   "metadata": {},
   "outputs": [
    {
     "name": "stdout",
     "output_type": "stream",
     "text": [
      "Users who have rated B000VJJQUU: ['A10B2J2IRQXBWA', 'A10GEUIRKB6WQJ', 'A10H615T69FJT4', 'A10O6D8F6G4TN8', 'A119H0Z9AF1L78', 'A119J10N0ZEFOB', 'A11GSNHJ26G56T', 'A11KPE3KW3YPLF', 'A129WUT5OMBKG', 'A12CYWQEQWQUE0', 'A12H5NU4NG1GNW', 'A12Q5YQ9VUE163', 'A131C7U5KW268Z', 'A1358HZ2HE6LA3', 'A13BPPMZLBI7LY', 'A13HLORCSR19S0', 'A13MAQOLZNYWLP', 'A13MKC6BVQBYSC', 'A13NIA1DSNNIUA', 'A13XL99Q9M0CB7', 'A13XSFKDUZ7ZAT', 'A14618U5UKIWMK', 'A146LB7C4FUTCW', 'A14K7OOWZJ4ZK3', 'A14OABQ58FB54B', 'A14UND9QWWFJPI', 'A1515RYM86ZU62', 'A15N31K8F1UENK', 'A15PJ8G2B4N6ZV', 'A15YE9AKU4EDYH', 'A163GZFH3J6T5A', 'A1641Z2K8ZUOL0', 'A167RWG02GMUST', 'A16CZHEQUDUE57', 'A16GCM56JY94GF', 'A16GTJ7UN87CFD', 'A16HKNQ3M60UD7', 'A16RWC9FSN572J', 'A16Y9KZ7B3978F', 'A177KOBV19LGSZ', 'A17JRGKZIPT7RK', 'A17NXIPGUUKWDU', 'A17TPFX11NPH3L', 'A1803TC7DCT5ZA', 'A180P22KX8C782', 'A1831MF6FFQ00O', 'A188E2GA1IYVVV', 'A18DBN6BBQK13J', 'A18ODRWLQLSLVD', 'A18PJ1OKFN0W0X', 'A18UX27TFQ9BFN', 'A18W0VKTFN2B0H', 'A19CVVY6HU1APW', 'A19CXLF2PUJGGH', 'A1A2BZKU9QK20P', 'A1A4LJ4WFOT37B', 'A1A4W1RI6VFH3T', 'A1A5IXTBDM3MAT', 'A1A5VAHNR8XGA', 'A1A6VRGDEUFSPQ', 'A1A8C7DVH8PP6M', 'A1ADX1FWYD22NH', 'A1AFJNTPRIAXLQ', 'A1AJMRKDHFP006', 'A1AYYN6YUIDWVG', 'A1B1GP7RU43UL', 'A1B9Q3SNKI6T5V', 'A1BFND0XY70CQ9', 'A1BRQWQI5NRXAZ', 'A1C666MXUKA0O3', 'A1CES889B0OQ4A', 'A1CF3OE9OX06IM', 'A1CQ1KR2T5MSMJ', 'A1DETXO0UFU76R', 'A1DJ1OA62A4Q4Z', 'A1DL1OW2STMLPD', 'A1DLZY0L0J4YZF', 'A1DM34L2CW44ZM', 'A1DVUFG2QSJ6IK', 'A1EFXXRDV40C4E', 'A1EH95FQOVIYM', 'A1EI797LPJMZ86', 'A1EO4AHCY2SK2N', 'A1EO4IMWS73FQ2', 'A1EO6D8DS6DQ2', 'A1ESRK4S36EGQG', 'A1F7JCOYHNQNAP', 'A1FD3K0KTZWMPL', 'A1FKWX29IGBHPP', 'A1FOD0DJQOFXLC', 'A1FP6Z585WR0B4', 'A1FVW47U1G96QV', 'A1FWY4DM8A1VYK', 'A1G3EUCK0QT5BV', 'A1G7CK4D8HAW5K', 'A1GAAWN546NYD9', 'A1GF7RV1OQCJBQ', 'A1GX17ISGKEX7H', 'A1GXCHDB0D66T', 'A1HAHPVY5LDEC0', 'A1HFGFWRZIRAVU', 'A1HLQB1K9BI545', 'A1HQTQQXV5P2UG', 'A1IB5DQUVZRO1N', 'A1IE4SLQ0VM53U', 'A1IEUWQJOFCHNH', 'A1IO6TD4Y3PYC5', 'A1IR3NR4KRPIJ1', 'A1IT2SOE3NP20R', 'A1J44U25X547CG', 'A1JAWQHWLLYK56', 'A1JCFCPGEYT1L4', 'A1JIP2TE3CL51K', 'A1JTATZ03PPIY1', 'A1K5BHC4LS2XWY', 'A1K6EBWW0BRCBP', 'A1KPMS8GTBY49L', 'A1KSXB82PETMIW', 'A1KUU0ZVI3LZXR', 'A1L3PYFPNPLJM2', 'A1L46HSISUIDB4', 'A1L4JT3B0GRK01', 'A1L8BU0WB7T3MA', 'A1LLKRI07I04BP', 'A1LW5YFC9GX6RL', 'A1LYOXW8ZTPA01', 'A1LYX8DU1QNUDT', 'A1M51MQ01N5N6G', 'A1MRH1V10HBEST', 'A1N2NTJZNA8T4', 'A1N2QI1JT5DNCH', 'A1N6ROM53NNEVA', 'A1N9JFU9O7N7XN', 'A1NA7T75JQ6QBW', 'A1NJNR8PQP8ON3', 'A1NOELD0FUS78X', 'A1NQDMZ1AVZ5AQ', 'A1O3194NCSTI1U', 'A1O35JXR3CWD8W', 'A1O4EQRFYAI7RQ', 'A1OUZU0PQV36PS', 'A1P6NQT3V6KD3K', 'A1PG77AKXFNNG2', 'A1PS58VAS1AGOK', 'A1Q94IXHEGQDV7', 'A1QEMVFSH0KLKB', 'A1QG2MJ6C41DFN', 'A1QH74HPDVL5IQ', 'A1QR87W5B9YOR6', 'A1R233YLWSRBTC', 'A1RZ0D6BJ7OUD1', 'A1S09GB59O1BM1', 'A1S0EMQG59D5JF', 'A1S0NIJ5PDREYV', 'A1SMX5YG96L5IO', 'A1SY9CIT5IBBDM', 'A1T2IJL93H4731', 'A1T7JUKXSDX9QS', 'A1T9A8YD2FU9UF', 'A1TK7TIQ0ZAKAY', 'A1UMI6B6K96WJD', 'A1UXZPP332RUXC', 'A1V3KMV9RIIUJD', 'A1VHLHX9UYU17M', 'A1VM1B3YLC3DCW', 'A1VVLZ5OFEL19B', 'A1W0V14HR5LOUM', 'A1WGP2LPBHQAE7', 'A1WK0Q1AECHI8P', 'A1WKBDWJ61T8ZZ', 'A1WRYXKWNTOOYA', 'A1WV5O8K2RZK04', 'A1WYT3KKDLFOYO', 'A1X1T6KDG95JXJ', 'A1X4P2GHY7OOYV', 'A1X53YO24OG45S', 'A1X91R579U739U', 'A1XDNN6XM1U65X', 'A1XJJ8H8EEP76', 'A1XL7R4E5WXCXD', 'A1XXS0OSY2JLHW', 'A1Y200FSB7XBP3', 'A1Y33BVZAV4XB', 'A1Y9PFRAF62YGC', 'A1YJIWBQOKBXJQ', 'A1YPNGHR0GHHIM', 'A1YR0VH4PTJ3M3', 'A1YR0VT7016GM3', 'A1Z3E1A2XZ5BK5', 'A1ZGT5FX1XST81', 'A1ZIIVDDY70ACF', 'A1ZLQYBJ4TSONA', 'A202WUJ5CPIJYA', 'A20F93E4V50HCB', 'A20N363LNX2CWJ', 'A20UN9T96FA9WE', 'A20ZEXDL7U3GBE', 'A210Y6CTSV1R8A', 'A216E14RU84OSJ', 'A21AIWGKF63IK0', 'A21BEV3A7G5XI7', 'A21NY4LQ940JO2', 'A223XHHKGMON2J', 'A22B7PW3WWHI2M', 'A22BB7U34L00R', 'A22M4VXWCVSTWD', 'A22UURIMHMNWWL', 'A22YOMYMVV0DAG', 'A231WOW3CUGQ6A', 'A23HNAJN7J6SFZ', 'A23HTMUV9IN9GH', 'A23XEWSTEVVVCN', 'A24BIN8W2RM9Y3', 'A24H1KWT2YM078', 'A24OFZF6POQRDK', 'A24YEUAVPKT1VV', 'A25086I44475I2', 'A250ZR43XAKXX4', 'A25HNCSHBYB8JZ', 'A26516K0JFT5TS', 'A267K9D13J1AN4', 'A26N6WRMHKL6Y3', 'A26QVWU6AL85TN', 'A26TYV50ELKHR2', 'A26V27VEMTJ3T6', 'A273KCH4QQ8VR0', 'A27C38HLIA4444', 'A27GPJSZDRQ1ZW', 'A281PPSMOTWXZ0', 'A283YGGWLCKP3G', 'A2857CRNKDJH0H', 'A28DIGD2YJCWXZ', 'A29H86KCH7048E', 'A29HT6HP6S552V', 'A29WV8G0XGEGF9', 'A29ZFMCYAGA3V5', 'A2A025RLCAQ9HW', 'A2A533PMIEJ6AW', 'A2A7QA5YMPIU3C', 'A2AC3WEXSIOQQ7', 'A2AD67Z2PNAZ45', 'A2AM4SM8ZA1D9W', 'A2AMYCGVGY1XCL', 'A2ATH8K5YVADDF', 'A2B4U33TDJTZLQ', 'A2C00NNG1ZQQG2', 'A2C7NX8UJ3EXE', 'A2CHQH95XQUY4E', 'A2CKE9KNXIBGOP', 'A2D0F87RY5YMHN', 'A2D6AIP9WP3GGP', 'A2D7Y0GK354OLM', 'A2D9K8GXNX33PP', 'A2DY8KVAEJHIOI', 'A2E2YZ1QDKE3L8', 'A2ELAPWJ8ULLIF', 'A2EZ7D5TYV37NY', 'A2F0TEK5I15QK8', 'A2F88QX3Q2HTA7', 'A2F8KWLPC9KWQI', 'A2F8XW2W1TAHP7', 'A2F9NRMPE5CRGS', 'A2FF6EXRTWY0R', 'A2FFM54C4DV42P', 'A2G5RJ32R8COLV', 'A2GDLPZ2FW3XHF', 'A2GNKYINIPHSRO', 'A2GXOSQWNG7MTZ', 'A2GYVEA1KSUAAG', 'A2H3LDV2MF3FTV', 'A2H82PQNM9B6H1', 'A2H8F8VUDY8M7M', 'A2HH8P4Y3W1CH0', 'A2HMZU2K3SAO8T', 'A2I1CK0RXI0X0Y', 'A2I3IQBMSV72ET', 'A2ICG4I3HJX2S7', 'A2IHGW4S28L89G', 'A2ITNKQMD3JFQI', 'A2IY5WS8E24JNL', 'A2JEQHW3R2F4NP', 'A2JLMABPEZE1Q8', 'A2JM6OPQUDJLBS', 'A2JQX3TWT2YI5P', 'A2JS87DD1ELU9J', 'A2K3W40WI49NQR', 'A2K6LMYI2O8ZT', 'A2K9VJ17K8LSQV', 'A2KEHYZUJOM3W6', 'A2KFKEME4A9ATW', 'A2KFPPHHNYARD1', 'A2KXWFHN1VNLR1', 'A2LKSDQUSSVQME', 'A2LNA5ETMSGJY6', 'A2LSIGPM9FBVXZ', 'A2LUYECS1M308Z', 'A2M0K849FVWZ64', 'A2M8BPK8L2D8D0', 'A2MIOBOW9TV62R', 'A2MK5QBEWG4Z0B', 'A2MMDOLNKO21C9', 'A2MZTGMCF9CJE5', 'A2N1EEI49MMTGI', 'A2N81950LERXPS', 'A2NOQXIP9XJYU3', 'A2NXKP16SQNPVD', 'A2O1W5ZCTU34Y1', 'A2OBT4PQ1BY62N', 'A2OG101XQEVB65', 'A2OJED0KMQ4WCN', 'A2P1MQQCU2R5MW', 'A2P4W5RK3R9GPK', 'A2P924QJ8N0QO0', 'A2PDZIPPN4IO95', 'A2QCWQEF4IBLCM', 'A2QMJGWXCCJD4B', 'A2QR5C8DXZQK38', 'A2R82IFCS2YYCG', 'A2RPTVPBKW4VPK', 'A2S3AFW7JZDQEQ', 'A2S6RT6RLMR480', 'A2SRBZZ4QW20Z8', 'A2STZVV3MR8712', 'A2SZMNFE3ZEBQ7', 'A2TDB72HK3GTR1', 'A2TJMHUNKAZYNX', 'A2U8L4HI2JCD04', 'A2UEKQ3LJS74IU', 'A2UJJN3OMYGHQ9', 'A2ULLRPWYYZAKI', 'A2UMGY7A3QNCUZ', 'A2UN6DOBSYY80L', 'A2UUMXNVDRA63H', 'A2UVZ1NFSG1SKX', 'A2V6NEJM4LWPEU', 'A2VBCU96CJH3HU', 'A2VC3I7T2WV1TP', 'A2VS9AKSIA487A', 'A2VTQ8JCD7201U', 'A2VWNZNFV8QCP0', 'A2W1GTJ39LWPL9', 'A2W3KJFYFHN1FA', 'A2W5O77I1YZRY7', 'A2W7OKS9JVTEUP', 'A2WGB63CVE2MDF', 'A2WJRYFPMI1DN8', 'A2WKI9BMGZTH5F', 'A2WPLSOJ2C7AVH', 'A2WTBW73RGETFI', 'A2WYNQYNJGDLLP', 'A2X68NVO0SGCMC', 'A2XS56P1RPFC5K', 'A2YGWCX3DQ6ER0', 'A2YZH43XKEVE0Q', 'A2Z1L7ZNJK4HIG', 'A2Z6U9LVEO5BI9', 'A2ZA2UWE1GJ26K', 'A2ZJ9CFB5QJ6N5', 'A30HB33D6V0N6B', 'A30J791OQS1LU', 'A30Z70CRZBPMTG', 'A310J941C9VYCL', 'A314K8DY1JPY5Y', 'A31JDZO6PBIVHZ', 'A31QKIF9FM5PM8', 'A31RBG6XIBN965', 'A32GPM4OCM6MO1', 'A32TE8OJSVNS6D', 'A32WUBHHIJ934M', 'A335U3GS0AY2QC', 'A33Y23ZIH4KOOQ', 'A343OPX4N49P5O', 'A34AJKMVLJCOSI', 'A34F6ZXJEW99SR', 'A34NHATAJNM9YR', 'A34PZPXBT0BCHG', 'A34TEK5B72UHXL', 'A3536XSKF3H1P5', 'A35I370B8ALAVW', 'A35O0E66TJG8E', 'A35XH3958HHDS8', 'A35XRT4BW4I6UD', 'A36YLC611BT0FG', 'A37LL64Z0KE390', 'A37P7KYEXELBAD', 'A37U8RQDGW261Y', 'A380JWFKHJLKY7', 'A3882FOERZ3XT4', 'A38HWS1AL4GY3U', 'A38J9LZN1MZ078', 'A38R7ZRN84U1SB', 'A38VKNSXU9POUM', 'A38W7LSJ09QECR', 'A39FUVRA0LM40F', 'A39KC1FTFJ6WE7', 'A3ADSZR7QAQ5U', 'A3AJENOPSH608', 'A3ALG5BHY1I9IC', 'A3B1GVZKUY3352', 'A3BIMAUO4JKCRJ', 'A3BM5Z585ZUCU2', 'A3BMUBUC1N77U8', 'A3BPWTEXC1BS2V', 'A3BWO8DLHGU436', 'A3C0TNYYBSVZPC', 'A3C3ZMIJFO1WKA', 'A3CLQ56JS04DRH', 'A3CQV5C69Z6OMJ', 'A3D9BI0F54N3J4', 'A3DA2FF1ELW2WV', 'A3DKDQPY9SLNTR', 'A3DKYX8I772DJQ', 'A3DNL4U0UPLYL9', 'A3DQZ9IOKVH51C', 'A3E2GHZPBVX6LE', 'A3E57Q7V46X6X2', 'A3ERC9E53FD7U4', 'A3FCY941QW3TA0', 'A3FM5P6PLK1ZRK', 'A3FXFSQDUMFQQK', 'A3FZKOJBP8T83Y', 'A3G5M1ZF2AZGMH', 'A3GCK01QQV74GD', 'A3GM7ELHWU8JZ', 'A3GOS8Y7DV0E4X', 'A3GRIQ6737WBKJ', 'A3HLUURIK5G0X', 'A3HMCUOKHSBDND', 'A3I5T73P0VKSI7', 'A3IKOEE8Z3T6BH', 'A3J18JGIR0AG8K', 'A3J478XY6J9FY5', 'A3J86E56Y1L3J7', 'A3JCZPN4SB7KY2', 'A3JFI1PBIZ26FS', 'A3JI5W2PXDK9OD', 'A3JUZUH8CYDVVM', 'A3KAKOQNR2WCMS', 'A3KC3R651RVH8M', 'A3KCNMHRCN3BA2', 'A3KE4YOGY8GF89', 'A3KLA39CHK9JHV', 'A3KT76JQ3GN5BP', 'A3KZ6CXRIGUTXX', 'A3LD23Z6C5LI40', 'A3LDLV1GWQJLEQ', 'A3LEO2ED2UAW03', 'A3LKX142133ORF', 'A3LLEF35QS6GJH', 'A3LLLGJUSC52JY', 'A3LNKY0M80C1OL', 'A3NDGGX7CWV8RT', 'A3NKYJCQBSA4LU', 'A3O48JIXUS8XCX', 'A3O85NKPI23ZBH', 'A3OS5W1YXIL1XH', 'A3OVMUI8NMHPHF', 'A3OYUI6MUA8LCE', 'A3P3MTPHV23TVX', 'A3P4EFJO8KDIVY', 'A3P5MQ99KR31J8', 'A3PKSVVC8XOKE0', 'A3QUY9C3L4I95V', 'A3QVALQO47X1P3', 'A3R8TPM1N7HFS4', 'A3RHBMM05HKM8I', 'A3RNEERTLM60IF', 'A3ROFDX81WN3VN', 'A3RUXTIR7OEZVG', 'A3RZ1VS1KIQ3MP', 'A3RZQVOGIYWCWS', 'A3SNWLQ2Y33Z0Q', 'A3SPIQM0W5EOVH', 'A3SQD2JFTGR64X', 'A3SXFP684N95P', 'A3T8HR8KSPGMHE', 'A3TBODJ58FX5K8', 'A3TBTRRK100RIZ', 'A3TFR17GPJIOQE', 'A3TJ5PJXQH65PO', 'A3TOP2R1UNOMUX', 'A3TXB363AEN799', 'A3TY54T5QG26ID', 'A3U40AW20PGZLQ', 'A3U9JB9KQB4EQ3', 'A3UG5SOVI7F1ZC', 'A3US2KEQYNBETM', 'A3V14K81PDSJV4', 'A3V8ZFSL0DTVAH', 'A3VCR3ET7HX5FI', 'A3VIGSR9ESTTPD', 'A3VK8ZKJ0ZZLZG', 'A3VPD286DDWCG4', 'A40BEWU748YYI', 'A5CKV0TF5O1YC', 'A5GL51UMWV37W', 'A5LGWU3H8WQG1', 'A5NNI3K7MUE28', 'A5Q8HPPRY3ZLT', 'A6BDY8JOCTIAA', 'A6UPLIR8XU5V2', 'A6VPW9ELUQGN', 'A6WBUC3RARQIQ', 'A7491OAWX3LPQ', 'A7HVVEESK9QP8', 'A7UMEPWWXB8AJ', 'A87O31RDVOEU1', 'A87TN24ZY7AWD', 'A8AHHVI2NTTC8', 'A8NU826NB1J22', 'A94QU4C90B1AX', 'A9757HG3YNRK8', 'A99K7S15XOQ45', 'A9OQFOCCCXZR7', 'A9RW5S2SBJXBL', 'A9WP0ASJS7EC6', 'A9Y1KP2UK2U9V', 'A9YNEQV8HDWU1', 'AABU584WKQ728', 'AAEIBZRP499ZJ', 'AAH7PGOFBQMT4', 'AB3MJ8BA04KHN', 'AB53ELYYQJKZ9', 'ABAVS401ADLUC', 'ABBLAI9V904E7', 'ABZIWSRNVVCX9', 'ACFS3GDC4XKAD', 'ACSX8HHLP5ZOV', 'ACTDOWPDCFW7R', 'ACZHLLAUZ71JH', 'AD2YS0MZSE9TH', 'ADCTKIGU5HP5P', 'ADI3C68M90EKS', 'ADRAB7F3AI7OL', 'ADXA8XY9ORDNN', 'AEDJYV5Z497C2', 'AETQIN7OH0RL9', 'AF8WL82GNXMM6', 'AFB6C94VUJSFM', 'AFS3FQR5JSDVJ', 'AFUXZPI2XFHG9', 'AG0LPI8LN5U9K', 'AG2ZFUVEHRW2A', 'AGJH8QF7G4BZJ', 'AGTM3LQNUOHMH', 'AH0XON4XDOF2C', 'AH605KBE30GV0', 'AH6BWZKE4FQ01', 'AHAWKYIV2S1G4', 'AHPSMZ9KPU7EB', 'AHTDK34FT3L1H', 'AI41R3PRWRQ7X', 'AI60V1BAK876O', 'AI6ZHRJAX6IRD', 'AI82VEZNUO41Q', 'AIJQ533DHUFU', 'AIKS3CFPMRQYC', 'AILKGRMLEMGXC', 'AIQL2OO9AJO9N', 'AIR1587LHP1ZM', 'AJ0PG46QD33RD', 'AJ3M99YY3F35X', 'AJCHGS1GND4OA', 'AJJMW8KO9KAOE', 'AJMCY5PLK3DC', 'AJO2ZXB2MZ8HF', 'AJQX858JWAHDZ', 'AJW7EF12W620G', 'AKC6SGNF2K5GB', 'AKCN46OIE3VUL', 'AKNRMN1SSSA1G', 'AKQHNTUAL056P', 'AKRVGYMLQI6UX', 'AL8K7SWTLZ12X', 'ALEFGB3G2BYG8', 'ALJ9VBRQ86GJN', 'ALQU5INTDDHZB', 'AM6NGG5YN4OXK', 'AM7ID8ASPQAFS', 'AMBZLWLLPQ7ZG', 'AMC5Y9SMC96Z1', 'AMC91DV72CJ13', 'AMMUHGRR9GF82', 'AN3ILH8NOGNH4', 'AN569ADWV2U0R', 'AN782R82FYCCK', 'AN886YAXWD1WE', 'ANC6WJ56HMOQH', 'ANJNXT8W5QFRY', 'ANM3G840QMKPO', 'ANVCQCFE2V15U', 'ANWVSM3AZ7ULL', 'AO8SHQ1S41GF4', 'AOLEDY32MEMK7', 'AOQENWYQ3OLNB', 'AORCR26194FPK', 'AOZ34IPAYZMU8', 'APGO0NJEN2PQF', 'AQ6YTFVC6W064', 'AQE2GIAC7INDR', 'AQIRE2KE1C0SC', 'AQO1PT97KTVB0', 'ARF6T1O5G8CLX', 'AS002BAI6G2BO', 'AS1ZVSX5FA84W', 'AS421KUEDNJ5V', 'ASC1XFAYHI1H7', 'ASZ85329EDPMK', 'ATCC0INFYE0U0', 'ATJN91PH28F6T', 'ATLVMWZ7LF6Z1', 'ATY1RM0NAU1Y7', 'AU4HQFUN58YIW', 'AUG2H7FYXUAC2', 'AUIAEGMOXMMKE', 'AUOOUDU9O3GKQ', 'AUVUBABBGNNS4', 'AV3OFYPY5K1VI', 'AV5OA1XGL6AAU', 'AVD77QWI7VR39', 'AVJFS5IT76FTZ', 'AW3OEIJXZL0MN', 'AW6A4PPENVZY3', 'AWC7FA0382BWW', 'AWJL8161PJVYK', 'AWP0JM6XEVGIE', 'AWXOJVE37VQFY', 'AXD16EYGOBY0J', 'AXF6IRG7KILY8', 'AXFNC11IE5NYW', 'AXG5H0ZQ7F1YE', 'AXWEQHTXQWR7Q', 'AYCHL0PKSVDZY', 'AYVI04W3T3LOW', 'AZ2DE109HU33', 'AZ5CVBGVNQ6BK', 'AZ7I02O9H40EO']\n",
      "Users who have rated B000VJJQUU most similar to AJOL97TLAXCG9: ['A7UMEPWWXB8AJ', 'ABAVS401ADLUC', 'A3ALG5BHY1I9IC', 'AGJH8QF7G4BZJ', 'A1WGP2LPBHQAE7', 'A29ZFMCYAGA3V5', 'AWXOJVE37VQFY', 'A2R82IFCS2YYCG', 'A3B1GVZKUY3352', 'A188E2GA1IYVVV', 'A1YR0VH4PTJ3M3', 'AABU584WKQ728', 'A29HT6HP6S552V', 'A1JCFCPGEYT1L4', 'A3FZKOJBP8T83Y', 'A1EFXXRDV40C4E', 'A1JTATZ03PPIY1', 'A31JDZO6PBIVHZ', 'A13NIA1DSNNIUA', 'A35O0E66TJG8E', 'A1K6EBWW0BRCBP', 'A3E57Q7V46X6X2', 'A163GZFH3J6T5A', 'A2V6NEJM4LWPEU', 'A2W5O77I1YZRY7', 'A1C666MXUKA0O3', 'AXWEQHTXQWR7Q', 'A3ERC9E53FD7U4', 'A3IKOEE8Z3T6BH', 'A3J18JGIR0AG8K', 'A3J86E56Y1L3J7', 'A3J478XY6J9FY5', 'A3HMCUOKHSBDND', 'A3DKYX8I772DJQ', 'A3JCZPN4SB7KY2', 'A3JFI1PBIZ26FS', 'A3JI5W2PXDK9OD', 'A3I5T73P0VKSI7', 'A3GRIQ6737WBKJ', 'A3DNL4U0UPLYL9', 'A3HLUURIK5G0X', 'A3DQZ9IOKVH51C', 'A3GOS8Y7DV0E4X', 'A3GM7ELHWU8JZ', 'A3GCK01QQV74GD', 'A3G5M1ZF2AZGMH', 'A3FXFSQDUMFQQK', 'A3E2GHZPBVX6LE', 'A3FM5P6PLK1ZRK', 'A3FCY941QW3TA0', 'A3JUZUH8CYDVVM', 'A10B2J2IRQXBWA', 'A3KAKOQNR2WCMS', 'A3KC3R651RVH8M', 'A3P3MTPHV23TVX', 'A3P4EFJO8KDIVY', 'A3P5MQ99KR31J8', 'A3PKSVVC8XOKE0', 'A3QUY9C3L4I95V', 'A3QVALQO47X1P3', 'A3R8TPM1N7HFS4', 'A3RHBMM05HKM8I', 'A3RNEERTLM60IF', 'A3ROFDX81WN3VN', 'A3RUXTIR7OEZVG', 'A3RZ1VS1KIQ3MP', 'A3RZQVOGIYWCWS', 'A3SNWLQ2Y33Z0Q', 'A3SPIQM0W5EOVH', 'A3SQD2JFTGR64X', 'A3SXFP684N95P', 'A3OYUI6MUA8LCE', 'A3OVMUI8NMHPHF', 'A3OS5W1YXIL1XH', 'A3LDLV1GWQJLEQ', 'A3KCNMHRCN3BA2', 'A3KE4YOGY8GF89', 'A3KLA39CHK9JHV', 'A3DA2FF1ELW2WV', 'A3KT76JQ3GN5BP', 'A3KZ6CXRIGUTXX', 'A3LD23Z6C5LI40', 'A3LEO2ED2UAW03', 'A3O85NKPI23ZBH', 'A3LKX142133ORF', 'A3LLEF35QS6GJH', 'A3LLLGJUSC52JY', 'A3LNKY0M80C1OL', 'A3NDGGX7CWV8RT', 'A3NKYJCQBSA4LU', 'A3O48JIXUS8XCX', 'A3DKDQPY9SLNTR', 'A3BPWTEXC1BS2V', 'A3D9BI0F54N3J4', 'A2Z6U9LVEO5BI9', 'A2WTBW73RGETFI', 'A2WYNQYNJGDLLP', 'A2X68NVO0SGCMC', 'A2XS56P1RPFC5K', 'A2YGWCX3DQ6ER0', 'A2YZH43XKEVE0Q', 'A2Z1L7ZNJK4HIG', 'A2ZA2UWE1GJ26K', 'A32GPM4OCM6MO1', 'A2ZJ9CFB5QJ6N5', 'A30HB33D6V0N6B', 'A30J791OQS1LU', 'A30Z70CRZBPMTG', 'A310J941C9VYCL', 'A314K8DY1JPY5Y', 'A31QKIF9FM5PM8', 'A2WPLSOJ2C7AVH', 'A2WKI9BMGZTH5F', 'A2WJRYFPMI1DN8', 'A2WGB63CVE2MDF', 'A2UEKQ3LJS74IU', 'A2UJJN3OMYGHQ9', 'A2ULLRPWYYZAKI', 'A2UMGY7A3QNCUZ', 'A2UN6DOBSYY80L', 'A2UUMXNVDRA63H', 'A2UVZ1NFSG1SKX', 'A2VBCU96CJH3HU', 'A2VC3I7T2WV1TP', 'A2VS9AKSIA487A', 'A2VTQ8JCD7201U', 'A2VWNZNFV8QCP0', 'A2W1GTJ39LWPL9', 'A2W3KJFYFHN1FA', 'A2W7OKS9JVTEUP', 'A31RBG6XIBN965', 'A32TE8OJSVNS6D', 'A3CQV5C69Z6OMJ', 'A3AJENOPSH608', 'A38J9LZN1MZ078', 'A38R7ZRN84U1SB', 'A38VKNSXU9POUM', 'A38W7LSJ09QECR', 'A39FUVRA0LM40F', 'A39KC1FTFJ6WE7', 'A3ADSZR7QAQ5U', 'A3BIMAUO4JKCRJ', 'A32WUBHHIJ934M', 'A3BM5Z585ZUCU2', 'A3BMUBUC1N77U8', 'A3TBODJ58FX5K8', 'A3BWO8DLHGU436', 'A3C0TNYYBSVZPC', 'A3C3ZMIJFO1WKA', 'A3CLQ56JS04DRH', 'A38HWS1AL4GY3U', 'A3882FOERZ3XT4', 'A380JWFKHJLKY7', 'A37U8RQDGW261Y', 'A335U3GS0AY2QC', 'A33Y23ZIH4KOOQ', 'A343OPX4N49P5O', 'A34AJKMVLJCOSI', 'A34F6ZXJEW99SR', 'A34NHATAJNM9YR', 'A34PZPXBT0BCHG', 'A34TEK5B72UHXL', 'A3536XSKF3H1P5', 'A35I370B8ALAVW', 'A35XH3958HHDS8', 'A35XRT4BW4I6UD', 'A36YLC611BT0FG', 'A37LL64Z0KE390', 'A37P7KYEXELBAD', 'A3T8HR8KSPGMHE', 'A3U40AW20PGZLQ', 'A3TBTRRK100RIZ', 'AN886YAXWD1WE', 'AMBZLWLLPQ7ZG', 'AMC5Y9SMC96Z1', 'AMC91DV72CJ13', 'AMMUHGRR9GF82', 'AN3ILH8NOGNH4', 'AN569ADWV2U0R', 'AN782R82FYCCK', 'ANC6WJ56HMOQH', 'AOZ34IPAYZMU8', 'ANJNXT8W5QFRY', 'ANM3G840QMKPO', 'ANVCQCFE2V15U', 'ANWVSM3AZ7ULL', 'AO8SHQ1S41GF4', 'AOLEDY32MEMK7', 'AOQENWYQ3OLNB', 'AM7ID8ASPQAFS', 'AM6NGG5YN4OXK', 'ALQU5INTDDHZB', 'ALJ9VBRQ86GJN', 'AJ0PG46QD33RD', 'AJ3M99YY3F35X', 'AJCHGS1GND4OA', 'AJJMW8KO9KAOE', 'AJMCY5PLK3DC', 'AJO2ZXB2MZ8HF', 'AJQX858JWAHDZ', 'AJW7EF12W620G', 'AKC6SGNF2K5GB', 'AKCN46OIE3VUL', 'AKNRMN1SSSA1G', 'AKQHNTUAL056P', 'AKRVGYMLQI6UX', 'AL8K7SWTLZ12X', 'ALEFGB3G2BYG8', 'AORCR26194FPK', 'APGO0NJEN2PQF', 'A3TFR17GPJIOQE', 'AWP0JM6XEVGIE', 'AV5OA1XGL6AAU', 'AVD77QWI7VR39', 'AVJFS5IT76FTZ', 'AW3OEIJXZL0MN', 'AW6A4PPENVZY3', 'AWC7FA0382BWW', 'AWJL8161PJVYK', 'AXD16EYGOBY0J', 'AQ6YTFVC6W064', 'AXF6IRG7KILY8', 'AXFNC11IE5NYW', 'AXG5H0ZQ7F1YE', 'AYCHL0PKSVDZY', 'AYVI04W3T3LOW', 'AZ2DE109HU33', 'AZ5CVBGVNQ6BK', 'AV3OFYPY5K1VI', 'AUVUBABBGNNS4', 'AUOOUDU9O3GKQ', 'AUIAEGMOXMMKE', 'AQE2GIAC7INDR', 'AQIRE2KE1C0SC', 'AQO1PT97KTVB0', 'ARF6T1O5G8CLX', 'AS002BAI6G2BO', 'AS1ZVSX5FA84W', 'AS421KUEDNJ5V', 'ASC1XFAYHI1H7', 'ASZ85329EDPMK', 'ATCC0INFYE0U0', 'ATJN91PH28F6T', 'ATLVMWZ7LF6Z1', 'ATY1RM0NAU1Y7', 'AU4HQFUN58YIW', 'AUG2H7FYXUAC2', 'AIR1587LHP1ZM', 'AIQL2OO9AJO9N', 'AILKGRMLEMGXC', 'A87O31RDVOEU1', 'A5Q8HPPRY3ZLT', 'A6BDY8JOCTIAA', 'A6UPLIR8XU5V2', 'A6VPW9ELUQGN', 'A6WBUC3RARQIQ', 'A7491OAWX3LPQ', 'A7HVVEESK9QP8', 'A87TN24ZY7AWD', 'AIKS3CFPMRQYC', 'A8AHHVI2NTTC8', 'A8NU826NB1J22', 'A94QU4C90B1AX', 'A9757HG3YNRK8', 'A99K7S15XOQ45', 'A9OQFOCCCXZR7', 'A9RW5S2SBJXBL', 'A5NNI3K7MUE28', 'A5LGWU3H8WQG1', 'A5GL51UMWV37W', 'A5CKV0TF5O1YC', 'A3TJ5PJXQH65PO', 'A3TOP2R1UNOMUX', 'A3TXB363AEN799', 'A3TY54T5QG26ID', 'A2TJMHUNKAZYNX', 'A3U9JB9KQB4EQ3', 'A3UG5SOVI7F1ZC', 'A3US2KEQYNBETM', 'A3V14K81PDSJV4', 'A3V8ZFSL0DTVAH', 'A3VCR3ET7HX5FI', 'A3VIGSR9ESTTPD', 'A3VK8ZKJ0ZZLZG', 'A3VPD286DDWCG4', 'A40BEWU748YYI', 'A9WP0ASJS7EC6', 'A9Y1KP2UK2U9V', 'A9YNEQV8HDWU1', 'AFB6C94VUJSFM', 'AFUXZPI2XFHG9', 'AG0LPI8LN5U9K', 'AG2ZFUVEHRW2A', 'AGTM3LQNUOHMH', 'AH0XON4XDOF2C', 'AH605KBE30GV0', 'AH6BWZKE4FQ01', 'AHAWKYIV2S1G4', 'AHPSMZ9KPU7EB', 'AHTDK34FT3L1H', 'AI41R3PRWRQ7X', 'AI60V1BAK876O', 'AI6ZHRJAX6IRD', 'AI82VEZNUO41Q', 'AIJQ533DHUFU', 'AFS3FQR5JSDVJ', 'AF8WL82GNXMM6', 'AAEIBZRP499ZJ', 'AETQIN7OH0RL9', 'AAH7PGOFBQMT4', 'AB3MJ8BA04KHN', 'AB53ELYYQJKZ9', 'ABBLAI9V904E7', 'ABZIWSRNVVCX9', 'ACFS3GDC4XKAD', 'ACSX8HHLP5ZOV', 'ACTDOWPDCFW7R', 'ACZHLLAUZ71JH', 'AD2YS0MZSE9TH', 'ADCTKIGU5HP5P', 'ADI3C68M90EKS', 'ADRAB7F3AI7OL', 'ADXA8XY9ORDNN', 'AEDJYV5Z497C2', 'A2U8L4HI2JCD04', 'A2RPTVPBKW4VPK', 'A2TDB72HK3GTR1', 'A1JIP2TE3CL51K', 'A1IE4SLQ0VM53U', 'A1IEUWQJOFCHNH', 'A1IO6TD4Y3PYC5', 'A1IR3NR4KRPIJ1', 'A1IT2SOE3NP20R', 'A1J44U25X547CG', 'A1JAWQHWLLYK56', 'A1K5BHC4LS2XWY', 'A1LW5YFC9GX6RL', 'A1KPMS8GTBY49L', 'A1KSXB82PETMIW', 'A1KUU0ZVI3LZXR', 'A1L3PYFPNPLJM2', 'A1L46HSISUIDB4', 'A1L4JT3B0GRK01', 'A1L8BU0WB7T3MA', 'A1IB5DQUVZRO1N', 'A1HQTQQXV5P2UG', 'A1HLQB1K9BI545', 'A1HFGFWRZIRAVU', 'A1ESRK4S36EGQG', 'A1F7JCOYHNQNAP', 'A1FD3K0KTZWMPL', 'A1FKWX29IGBHPP', 'A1FOD0DJQOFXLC', 'A1FP6Z585WR0B4', 'A1FVW47U1G96QV', 'A1FWY4DM8A1VYK', 'A1G3EUCK0QT5BV', 'A1G7CK4D8HAW5K', 'A1GAAWN546NYD9', 'A1GF7RV1OQCJBQ', 'A1GX17ISGKEX7H', 'A1GXCHDB0D66T', 'A1HAHPVY5LDEC0', 'A1LLKRI07I04BP', 'A1LYOXW8ZTPA01', 'A1EO4IMWS73FQ2', 'A1S0NIJ5PDREYV', 'A1QG2MJ6C41DFN', 'A1QH74HPDVL5IQ', 'A1QR87W5B9YOR6', 'A1R233YLWSRBTC', 'A1RZ0D6BJ7OUD1', 'A1S09GB59O1BM1', 'A1S0EMQG59D5JF', 'A1SMX5YG96L5IO', 'A1LYX8DU1QNUDT', 'A1SY9CIT5IBBDM', 'A1T2IJL93H4731', 'A1T7JUKXSDX9QS', 'A1T9A8YD2FU9UF', 'A1TK7TIQ0ZAKAY', 'A1UMI6B6K96WJD', 'A1UXZPP332RUXC', 'A1QEMVFSH0KLKB', 'A1Q94IXHEGQDV7', 'A1PS58VAS1AGOK', 'A1PG77AKXFNNG2', 'A1M51MQ01N5N6G', 'A1MRH1V10HBEST', 'A1N2NTJZNA8T4', 'A1N2QI1JT5DNCH', 'A1N6ROM53NNEVA', 'A1N9JFU9O7N7XN', 'A1NA7T75JQ6QBW', 'A1NJNR8PQP8ON3', 'A1NOELD0FUS78X', 'A1NQDMZ1AVZ5AQ', 'A1O3194NCSTI1U', 'A1O35JXR3CWD8W', 'A1O4EQRFYAI7RQ', 'A1OUZU0PQV36PS', 'A1P6NQT3V6KD3K', 'A1EO6D8DS6DQ2', 'A1EO4AHCY2SK2N', 'A1VHLHX9UYU17M', 'A15YE9AKU4EDYH', 'A146LB7C4FUTCW', 'A14K7OOWZJ4ZK3', 'A14OABQ58FB54B', 'A14UND9QWWFJPI', 'A1515RYM86ZU62', 'A15N31K8F1UENK', 'A15PJ8G2B4N6ZV', 'A1641Z2K8ZUOL0', 'A17JRGKZIPT7RK', 'A167RWG02GMUST', 'A16CZHEQUDUE57', 'A16GCM56JY94GF', 'A16GTJ7UN87CFD', 'A16HKNQ3M60UD7', 'A16RWC9FSN572J', 'A16Y9KZ7B3978F', 'A14618U5UKIWMK', 'A13XSFKDUZ7ZAT', 'A13XL99Q9M0CB7', 'A13MKC6BVQBYSC', 'A10H615T69FJT4', 'A10O6D8F6G4TN8', 'A119H0Z9AF1L78', 'A119J10N0ZEFOB', 'A11GSNHJ26G56T', 'A11KPE3KW3YPLF', 'A129WUT5OMBKG', 'A12CYWQEQWQUE0', 'A12H5NU4NG1GNW', 'A12Q5YQ9VUE163', 'A131C7U5KW268Z', 'A1358HZ2HE6LA3', 'A13BPPMZLBI7LY', 'A13HLORCSR19S0', 'A13MAQOLZNYWLP', 'A177KOBV19LGSZ', 'A17NXIPGUUKWDU', 'A1EI797LPJMZ86', 'A1CF3OE9OX06IM', 'A1AJMRKDHFP006', 'A1AYYN6YUIDWVG', 'A1B1GP7RU43UL', 'A1B9Q3SNKI6T5V', 'A1BFND0XY70CQ9', 'A1BRQWQI5NRXAZ', 'A1CES889B0OQ4A', 'A1CQ1KR2T5MSMJ', 'A17TPFX11NPH3L', 'A1DETXO0UFU76R', 'A1DJ1OA62A4Q4Z', 'A1DL1OW2STMLPD', 'A1DLZY0L0J4YZF', 'A1DM34L2CW44ZM', 'A1DVUFG2QSJ6IK', 'A1EH95FQOVIYM', 'A1AFJNTPRIAXLQ', 'A1ADX1FWYD22NH', 'A1A8C7DVH8PP6M', 'A1A6VRGDEUFSPQ', 'A1803TC7DCT5ZA', 'A180P22KX8C782', 'A1831MF6FFQ00O', 'A18DBN6BBQK13J', 'A18ODRWLQLSLVD', 'A18PJ1OKFN0W0X', 'A18UX27TFQ9BFN', 'A18W0VKTFN2B0H', 'A19CVVY6HU1APW', 'A19CXLF2PUJGGH', 'A1A2BZKU9QK20P', 'A1A4LJ4WFOT37B', 'A1A4W1RI6VFH3T', 'A1A5IXTBDM3MAT', 'A1A5VAHNR8XGA', 'A1V3KMV9RIIUJD', 'A1VM1B3YLC3DCW', 'A2SZMNFE3ZEBQ7', 'A2I1CK0RXI0X0Y', 'A2GXOSQWNG7MTZ', 'A2GYVEA1KSUAAG', 'A2H3LDV2MF3FTV', 'A2H82PQNM9B6H1', 'A2H8F8VUDY8M7M', 'A2HH8P4Y3W1CH0', 'A2HMZU2K3SAO8T', 'A2I3IQBMSV72ET', 'A2JS87DD1ELU9J', 'A2ICG4I3HJX2S7', 'A2IHGW4S28L89G', 'A2ITNKQMD3JFQI', 'A2IY5WS8E24JNL', 'A2JEQHW3R2F4NP', 'A2JLMABPEZE1Q8', 'A2JM6OPQUDJLBS', 'A2GNKYINIPHSRO', 'A2GDLPZ2FW3XHF', 'A2G5RJ32R8COLV', 'A2FFM54C4DV42P', 'A2CKE9KNXIBGOP', 'A2D0F87RY5YMHN', 'A2D6AIP9WP3GGP', 'A2D7Y0GK354OLM', 'A2D9K8GXNX33PP', 'A2DY8KVAEJHIOI', 'A2E2YZ1QDKE3L8', 'A2ELAPWJ8ULLIF', 'A2EZ7D5TYV37NY', 'A2F0TEK5I15QK8', 'A2F88QX3Q2HTA7', 'A2F8KWLPC9KWQI', 'A2F8XW2W1TAHP7', 'A2F9NRMPE5CRGS', 'A2FF6EXRTWY0R', 'A2JQX3TWT2YI5P', 'A2K3W40WI49NQR', 'A2C7NX8UJ3EXE', 'A2PDZIPPN4IO95', 'A2O1W5ZCTU34Y1', 'A2OBT4PQ1BY62N', 'A2OG101XQEVB65', 'A2OJED0KMQ4WCN', 'A2P1MQQCU2R5MW', 'A2P4W5RK3R9GPK', 'A2P924QJ8N0QO0', 'A2QCWQEF4IBLCM', 'A2K6LMYI2O8ZT', 'A2QMJGWXCCJD4B', 'A2QR5C8DXZQK38', 'A10GEUIRKB6WQJ', 'A2S3AFW7JZDQEQ', 'A2S6RT6RLMR480', 'A2SRBZZ4QW20Z8', 'A2STZVV3MR8712', 'A2NXKP16SQNPVD', 'A2NOQXIP9XJYU3', 'A2N81950LERXPS', 'A2N1EEI49MMTGI', 'A2K9VJ17K8LSQV', 'A2KEHYZUJOM3W6', 'A2KFKEME4A9ATW', 'A2KFPPHHNYARD1', 'A2KXWFHN1VNLR1', 'A2LKSDQUSSVQME', 'A2LNA5ETMSGJY6', 'A2LSIGPM9FBVXZ', 'A2LUYECS1M308Z', 'A2M0K849FVWZ64', 'A2M8BPK8L2D8D0', 'A2MIOBOW9TV62R', 'A2MK5QBEWG4Z0B', 'A2MMDOLNKO21C9', 'A2MZTGMCF9CJE5', 'A2CHQH95XQUY4E', 'A2C00NNG1ZQQG2', 'A1VVLZ5OFEL19B', 'A20N363LNX2CWJ', 'A1YR0VT7016GM3', 'A1Z3E1A2XZ5BK5', 'A1ZGT5FX1XST81', 'A1ZIIVDDY70ACF', 'A1ZLQYBJ4TSONA', 'A202WUJ5CPIJYA', 'A20F93E4V50HCB', 'A20UN9T96FA9WE', 'A22BB7U34L00R', 'A20ZEXDL7U3GBE', 'A210Y6CTSV1R8A', 'A216E14RU84OSJ', 'A21AIWGKF63IK0', 'A21BEV3A7G5XI7', 'A21NY4LQ940JO2', 'A223XHHKGMON2J', 'A1YPNGHR0GHHIM', 'A1YJIWBQOKBXJQ', 'A1Y9PFRAF62YGC', 'A1Y33BVZAV4XB', 'A1W0V14HR5LOUM', 'A1WK0Q1AECHI8P', 'A1WKBDWJ61T8ZZ', 'A1WRYXKWNTOOYA', 'A1WV5O8K2RZK04', 'A1WYT3KKDLFOYO', 'A1X1T6KDG95JXJ', 'A1X4P2GHY7OOYV', 'A1X53YO24OG45S', 'A1X91R579U739U', 'A1XDNN6XM1U65X', 'A1XJJ8H8EEP76', 'A1XL7R4E5WXCXD', 'A1XXS0OSY2JLHW', 'A1Y200FSB7XBP3', 'A22B7PW3WWHI2M', 'A22M4VXWCVSTWD', 'A2B4U33TDJTZLQ', 'A29WV8G0XGEGF9', 'A27C38HLIA4444', 'A27GPJSZDRQ1ZW', 'A281PPSMOTWXZ0', 'A283YGGWLCKP3G', 'A2857CRNKDJH0H', 'A28DIGD2YJCWXZ', 'A29H86KCH7048E', 'A2A025RLCAQ9HW', 'A22UURIMHMNWWL', 'A2A533PMIEJ6AW', 'A2A7QA5YMPIU3C', 'A2AC3WEXSIOQQ7', 'A2AD67Z2PNAZ45', 'A2AM4SM8ZA1D9W', 'A2AMYCGVGY1XCL', 'A2ATH8K5YVADDF', 'A273KCH4QQ8VR0', 'A26V27VEMTJ3T6', 'A26TYV50ELKHR2', 'A26QVWU6AL85TN', 'A22YOMYMVV0DAG', 'A231WOW3CUGQ6A', 'A23HNAJN7J6SFZ', 'A23HTMUV9IN9GH', 'A23XEWSTEVVVCN', 'A24BIN8W2RM9Y3', 'A24H1KWT2YM078', 'A24OFZF6POQRDK', 'A24YEUAVPKT1VV', 'A25086I44475I2', 'A250ZR43XAKXX4', 'A25HNCSHBYB8JZ', 'A26516K0JFT5TS', 'A267K9D13J1AN4', 'A26N6WRMHKL6Y3', 'AZ7I02O9H40EO']\n",
      "Products rated by AJOL97TLAXCG9: ['0739079891', '0786615206', '1480360295', '1928571018', '9792372326', 'B00000J50W', 'B00001W0DH', 'B00001W0DT', 'B00004TT3S', 'B00004UE29', 'B00004UE2D', 'B00004Y2UT', 'B00004Y2V1', 'B00004Y2V2', 'B00005ML71', 'B000068NSS', 'B000068NSX', 'B000068NTC', 'B000068NTU', 'B000068NUO', 'B000068NUQ', 'B000068NUW', 'B000068NUX', 'B000068NVJ', 'B000068NW8', 'B000068NW9', 'B000068NYM', 'B000068NYP', 'B000068NYU', 'B000068NZB', 'B000068NZD', 'B000068NZG', 'B000068O29', 'B000068O2P', 'B000068O35', 'B000068O3X', 'B000068O4F', 'B000068O58', 'B000068O59', 'B000068OAT', 'B000068OAY', 'B000068OEW', 'B000068OHN', 'B00006HO3L', 'B00006HO3R', 'B00006HOLL', 'B00006I51S', 'B00006I51V', 'B00006I523', 'B00006I5R7', 'B00006I5SA', 'B00006I5SC', 'B00006I5SD', 'B00006J04Z', 'B00006JPCM', 'B00006JPD5', 'B00006LVF1', 'B00006M0WJ', 'B0000775FY', 'B0000775FZ', 'B0000775G0', 'B000084T91', 'B00008B5DZ', 'B00008W2LW', 'B000095SAO', 'B00009J580', 'B00009MK3A', 'B00009W40D', 'B00009W40F', 'B00009W40G', 'B00009W40H', 'B00009W40L', 'B00009W5SC', 'B00009X45L', 'B0000AJQ42', 'B0000AQRSR', 'B0000AQRSS', 'B0000AQRST', 'B0000AQRSU', 'B0000CBILJ', 'B0000DD4ME', 'B0000TP57E', 'B0000WODSS', 'B0000WODT2', 'B0000WOEGY', 'B0000WR5EW', 'B0000WS0RI', 'B0000WS0SC', 'B0000WS42Y', 'B0000WS6QI', 'B0000WS6UY', 'B0000WS6V8', 'B0000WSA4Q', 'B00012F7G4', 'B00013BMT4', 'B00015H0X4', 'B000165DSM', 'B000189NWC', 'B000189NZY', 'B000189YD0', 'B00018CXV0', 'B0001ARCFA', 'B0001DBZNM', 'B0001FTVD6', 'B0001MHYLA', 'B0001MHYLK', 'B0001MHZKK', 'B0001MHZN2', 'B0001QHWM2', 'B0001Z99R4', 'B00021NWAC', 'B00022OA48', 'B000246SKU', 'B000246SZK', 'B00029HDT0', 'B0002A2RTU', 'B0002BACAA', 'B0002BACAK', 'B0002BACB4', 'B0002BACBO', 'B0002BBNCQ', 'B0002BBOOS', 'B0002BG14G', 'B0002BG2AY', 'B0002BG2BS', 'B0002BG2DQ', 'B0002BG2I6', 'B0002BG2R2', 'B0002BG2S6', 'B0002BG4I4', 'B0002BG4MA', 'B0002BG4S4', 'B0002CYU9I', 'B0002CZPZG', 'B0002CZQJQ', 'B0002CZQKA', 'B0002CZQKK', 'B0002CZQUK', 'B0002CZQZU', 'B0002CZR3G', 'B0002CZR40', 'B0002CZR7W', 'B0002CZRDQ', 'B0002CZRJ0', 'B0002CZRRC', 'B0002CZRTK', 'B0002CZRTU', 'B0002CZSEE', 'B0002CZSEY', 'B0002CZSJO', 'B0002CZSKI', 'B0002CZSQM', 'B0002CZSQW', 'B0002CZSRQ', 'B0002CZST4', 'B0002CZSTE', 'B0002CZSUI', 'B0002CZSZ8', 'B0002CZSZI', 'B0002CZT0C', 'B0002CZT0M', 'B0002CZT1G', 'B0002CZT2A', 'B0002CZTHA', 'B0002CZTI4', 'B0002CZTIO', 'B0002CZTRA', 'B0002CZTXO', 'B0002CZU1U', 'B0002CZU56', 'B0002CZU9C', 'B0002CZU9W', 'B0002CZUD8', 'B0002CZUDS', 'B0002CZUIS', 'B0002CZUK6', 'B0002CZUTM', 'B0002CZUTW', 'B0002CZUU6', 'B0002CZUUG', 'B0002CZUUQ', 'B0002CZUV0', 'B0002CZV1E', 'B0002CZV46', 'B0002CZV64', 'B0002CZV6O', 'B0002CZV78', 'B0002CZV82', 'B0002CZV8C', 'B0002CZV8W', 'B0002CZVA0', 'B0002CZVAK', 'B0002CZVG4', 'B0002CZVHI', 'B0002CZVI2', 'B0002CZVK0', 'B0002CZVKA', 'B0002CZVKK', 'B0002CZVS2', 'B0002CZVU0', 'B0002CZVUA', 'B0002CZVUU', 'B0002CZVVY', 'B0002CZVW8', 'B0002CZVWI', 'B0002CZVWS', 'B0002CZVX2', 'B0002CZVYQ', 'B0002CZVZK', 'B0002CZVZU', 'B0002CZW0Y', 'B0002CZW3G', 'B0002CZWK4', 'B0002CZWKE', 'B0002CZWMM', 'B0002CZWRW', 'B0002CZWXQ', 'B0002CZWYU', 'B0002CZX5S', 'B0002CZX62', 'B0002CZXLM', 'B0002CZXNU', 'B0002CZXOE', 'B0002CZXS0', 'B0002CZYFC', 'B0002CZYHK', 'B0002CZYUC', 'B0002CZYUM', 'B0002CZYW0', 'B0002CZYY8', 'B0002CZYYS', 'B0002CZZ38', 'B0002CZZ60', 'B0002CZZ7O', 'B0002CZZDS', 'B0002CZZGA', 'B0002CZZJ2', 'B0002CZZLU', 'B0002CZZNI', 'B0002CZZV0', 'B0002CZZW4', 'B0002D0096', 'B0002D00B4', 'B0002D00BE', 'B0002D00BO', 'B0002D00F0', 'B0002D00FK', 'B0002D00H8', 'B0002D00HS', 'B0002D00QE', 'B0002D00QO', 'B0002D00TG', 'B0002D014K', 'B0002D017M', 'B0002D01EA', 'B0002D01IG', 'B0002D01IQ', 'B0002D01JA', 'B0002D01JK', 'B0002D01JU', 'B0002D01K4', 'B0002D01KO', 'B0002D01PY', 'B0002D01Q8', 'B0002D0208', 'B0002D023K', 'B0002D0244', 'B0002D02BM', 'B0002D02IU', 'B0002D02J4', 'B0002D02MG', 'B0002D02NA', 'B0002D02NK', 'B0002D02RQ', 'B0002D02SA', 'B0002D02T4', 'B0002D035C', 'B0002D03AW', 'B0002D03B6', 'B0002D03G6', 'B0002D03VG', 'B0002D03X4', 'B0002D03Y8', 'B0002D03ZC', 'B0002D04YC', 'B0002D04Z6', 'B0002D0500', 'B0002D050U', 'B0002D05FU', 'B0002D05KA', 'B0002D05Q4', 'B0002D05QY', 'B0002D05RS', 'B0002D05T6', 'B0002D05V4', 'B0002D05WS', 'B0002D05X2', 'B0002D06DQ', 'B0002D06EK', 'B0002D06EU', 'B0002D06GI', 'B0002D06IG', 'B0002D0708', 'B0002D072G', 'B0002D072Q', 'B0002D07A8', 'B0002D080C', 'B0002D082K', 'B0002D0870', 'B0002D087A', 'B0002D08C0', 'B0002D08IE', 'B0002D08KM', 'B0002D08OI', 'B0002D08OS', 'B0002D08UW', 'B0002D09M4', 'B0002D09MY', 'B0002D09Q0', 'B0002D09Y2', 'B0002D0A5A', 'B0002D0A8M', 'B0002D0AB4', 'B0002D0ACS', 'B0002D0AEQ', 'B0002D0ALY', 'B0002D0AO6', 'B0002D0APA', 'B0002D0B4K', 'B0002D0B4U', 'B0002D0B54', 'B0002D0B5Y', 'B0002D0BPE', 'B0002D0BQ8', 'B0002D0BRW', 'B0002D0BSQ', 'B0002D0BTU', 'B0002D0BZY', 'B0002D0C08', 'B0002D0C12', 'B0002D0C1M', 'B0002D0C1W', 'B0002D0C26', 'B0002D0C2G', 'B0002D0C3A', 'B0002D0C3K', 'B0002D0C5I', 'B0002D0C8U', 'B0002D0CA8', 'B0002D0CCG', 'B0002D0CCQ', 'B0002D0CEO', 'B0002D0CGM', 'B0002D0CGW', 'B0002D0CH6', 'B0002D0CKI', 'B0002D0CL2', 'B0002D0CLC', 'B0002D0CMG', 'B0002D0CNA', 'B0002D0CNK', 'B0002D0COE', 'B0002D0CQC', 'B0002D0CSA', 'B0002D0CSU', 'B0002D0CWQ', 'B0002D0CYE', 'B0002D0D1G', 'B0002D0D52', 'B0002D0D7K', 'B0002D0D98', 'B0002D0DCA', 'B0002D0DLQ', 'B0002D0DR0', 'B0002D0DVQ', 'B0002D0DWA', 'B0002D0DWK', 'B0002D0DX4', 'B0002D0DXE', 'B0002D0E1A', 'B0002D0E8I', 'B0002D0E9M', 'B0002D0EB0', 'B0002D0EBU', 'B0002D0EC4', 'B0002D0EJC', 'B0002D0EJW', 'B0002D0EK6', 'B0002D0ELA', 'B0002D0ELU', 'B0002D0EM4', 'B0002D0EMO', 'B0002D0EN8', 'B0002D0FD2', 'B0002D0FHS', 'B0002D0FL4', 'B0002D0FXW', 'B0002D0G90', 'B0002D0GFY', 'B0002D0GU4', 'B0002D0H80', 'B0002D0H9O', 'B0002D0HCQ', 'B0002D0HGW', 'B0002D0HNK', 'B0002D0HO4', 'B0002D0HW6', 'B0002D0HXA', 'B0002D0HY4', 'B0002D0HZI', 'B0002D0I0C', 'B0002D0I34', 'B0002D0IK2', 'B0002D0IKC', 'B0002D0IU2', 'B0002D0J4C', 'B0002D0J6K', 'B0002D0JEW', 'B0002D0JIS', 'B0002D0JR4', 'B0002D0JX8', 'B0002D0JXI', 'B0002D0JZ6', 'B0002D0JZQ', 'B0002D0K00', 'B0002D0K5K', 'B0002D0K6O', 'B0002D0K9Q', 'B0002D0KBE', 'B0002D0KCI', 'B0002D0KCS', 'B0002D0KG4', 'B0002D0KJG', 'B0002D0KLO', 'B0002D0KR8', 'B0002D0KXM', 'B0002D0L36', 'B0002D0L4A', 'B0002D0L4K', 'B0002D0L5E', 'B0002D0LBI', 'B0002D0LCC', 'B0002D0LCM', 'B0002D0LKY', 'B0002D0LM2', 'B0002D0LMW', 'B0002D0LO0', 'B0002D0LOU', 'B0002D0LP4', 'B0002D0LPY', 'B0002D0LQI', 'B0002D0LSG', 'B0002D0LYA', 'B0002D0LZ4', 'B0002D0M94', 'B0002D0MFI', 'B0002D0MGC', 'B0002D0MHG', 'B0002D0MHQ', 'B0002D0MI0', 'B0002D0MIK', 'B0002D0MIU', 'B0002D0MJO', 'B0002D0MJY', 'B0002D0MLM', 'B0002D0MOY', 'B0002D0MQC', 'B0002D0N70', 'B0002D0N7A', 'B0002D0N7K', 'B0002D0NJ8', 'B0002D0NM0', 'B0002D0NRK', 'B0002D0NRU', 'B0002D0O42', 'B0002D0O56', 'B0002D0O8I', 'B0002D0OPG', 'B0002D0OTM', 'B0002D0OYW', 'B0002D0P0U', 'B0002D0P1Y', 'B0002D0P32', 'B0002D0P96', 'B0002D0P9G', 'B0002D0PA0', 'B0002D0PAU', 'B0002D0PJ6', 'B0002D0Q2W', 'B0002D0Q7C', 'B0002D0Q7W', 'B0002D0Q8Q', 'B0002D0Q90', 'B0002D0Q9K', 'B0002D0QAE', 'B0002D0QF4', 'B0002D0QW2', 'B0002D0QYK', 'B0002D0R5I', 'B0002D0R76', 'B0002D15JU', 'B0002D15K4', 'B0002DNRA0', 'B0002DNUHK', 'B0002DNUHU', 'B0002DNUIO', 'B0002DNUIY', 'B0002DNUWK', 'B0002DNUY8', 'B0002DNW5A', 'B0002DUPVY', 'B0002DUPZU', 'B0002DUQ0E', 'B0002DUQ2W', 'B0002DUQ3G', 'B0002DUQ72', 'B0002DUQOU', 'B0002DURGW', 'B0002DURHG', 'B0002DUS16', 'B0002DUS8E', 'B0002DUVD6', 'B0002DUVJ0', 'B0002DUVLI', 'B0002DUVMW', 'B0002DUVQI', 'B0002DUVU4', 'B0002DUVUO', 'B0002DUVWC', 'B0002DUVWM', 'B0002DUWWQ', 'B0002DV0CM', 'B0002DV0CW', 'B0002DV0DG', 'B0002DV0G8', 'B0002DV5SG', 'B0002DV6J4', 'B0002DV6JO', 'B0002DV6TO', 'B0002DV7OI', 'B0002DV7U2', 'B0002DV7Z2', 'B0002DV7ZM', 'B0002DV87Y', 'B0002DV88I', 'B0002DV8AQ', 'B0002DVASQ', 'B0002DVAX6', 'B0002DVB9Y', 'B0002DVBD0', 'B0002DVBEE', 'B0002DVBEY', 'B0002DVBG2', 'B0002DVBJE', 'B0002DVBJY', 'B0002DVBQW', 'B0002DVCAM', 'B0002DVCB6', 'B0002DVCQ6', 'B0002DVD7E', 'B0002DVDII', 'B0002DVM8E', 'B0002DVMZ2', 'B0002DWQNE', 'B0002DXAW0', 'B0002DXGUQ', 'B0002DXQH4', 'B0002E1F6C', 'B0002E1F9Y', 'B0002E1G5C', 'B0002E1G98', 'B0002E1H9W', 'B0002E1HNI', 'B0002E1HZQ', 'B0002E1I0A', 'B0002E1I1O', 'B0002E1IKA', 'B0002E1IO6', 'B0002E1IW8', 'B0002E1J3Q', 'B0002E1MLA', 'B0002E1NF0', 'B0002E1NK0', 'B0002E1NNC', 'B0002E1NP0', 'B0002E1NPA', 'B0002E1NQE', 'B0002E1NQY', 'B0002E1NWI', 'B0002E1NWS', 'B0002E1O2W', 'B0002E1O3G', 'B0002E1O4U', 'B0002E1O5E', 'B0002E1O6S', 'B0002E1O90', 'B0002E1P2Q', 'B0002E1P4E', 'B0002E1P4O', 'B0002E1P5I', 'B0002E1P5S', 'B0002E1TAY', 'B0002E1TB8', 'B0002E1U76', 'B0002E1UBM', 'B0002E1UDK', 'B0002E1UEO', 'B0002E1UNU', 'B0002E1URQ', 'B0002E1UTY', 'B0002E1V8Y', 'B0002E1VOI', 'B0002E1VUW', 'B0002E1VWK', 'B0002E1VYI', 'B0002E1VYS', 'B0002E2688', 'B0002E26LK', 'B0002E28I6', 'B0002E28ZO', 'B0002E28ZY', 'B0002E291C', 'B0002E29M6', 'B0002E2ACK', 'B0002E2C5A', 'B0002E2EOE', 'B0002E2FOS', 'B0002E2FPW', 'B0002E2G24', 'B0002E2G2E', 'B0002E2G2O', 'B0002E2G3S', 'B0002E2G5Q', 'B0002E2G7E', 'B0002E2G7Y', 'B0002E2GMY', 'B0002E2GNI', 'B0002E2GO2', 'B0002E2GP6', 'B0002E2KJS', 'B0002E2KMA', 'B0002E2KPC', 'B0002E2KQG', 'B0002E2LWY', 'B0002E2LZG', 'B0002E2M00', 'B0002E2M32', 'B0002E2ML4', 'B0002E2MQE', 'B0002E2N9K', 'B0002E2NCM', 'B0002E2NEK', 'B0002E2NFO', 'B0002E2O2Q', 'B0002E2OTE', 'B0002E2Q1K', 'B0002E2Q1U', 'B0002E2QBU', 'B0002E2QGA', 'B0002E2QSS', 'B0002E2S1I', 'B0002E2S1S', 'B0002E2SA4', 'B0002E2SAO', 'B0002E2STK', 'B0002E2SW2', 'B0002E2T08', 'B0002E2TTO', 'B0002E2TVM', 'B0002E2UC0', 'B0002E2UD4', 'B0002E2UUW', 'B0002E2VV0', 'B0002E2WVY', 'B0002E2YEY', 'B0002E2YMG', 'B0002E2YWG', 'B0002E2YZS', 'B0002E2Z8O', 'B0002E2Z98', 'B0002E366Y', 'B0002E372M', 'B0002E3754', 'B0002E37GS', 'B0002E37MM', 'B0002E37PY', 'B0002E37QS', 'B0002E37T0', 'B0002E382Q', 'B0002E3830', 'B0002E384O', 'B0002E38B2', 'B0002E38BM', 'B0002E38BW', 'B0002E38DK', 'B0002E38DU', 'B0002E38UI', 'B0002E38WQ', 'B0002E3920', 'B0002E39C0', 'B0002E3A8S', 'B0002E3AHY', 'B0002E3B6Y', 'B0002E3B78', 'B0002E3B7I', 'B0002E3B7S', 'B0002E3CHC', 'B0002E3CK4', 'B0002E3CKY', 'B0002E3CX6', 'B0002E3D12', 'B0002E3D44', 'B0002E3D62', 'B0002E3D6W', 'B0002E3D9Y', 'B0002E3DAS', 'B0002E3DC6', 'B0002E3DLM', 'B0002E3DNK', 'B0002E3DNU', 'B0002E3DRQ', 'B0002E3FBA', 'B0002E3FCO', 'B0002E3G82', 'B0002E3GBY', 'B0002E3GEG', 'B0002E3GEQ', 'B0002E3GLY', 'B0002E3GO6', 'B0002E3GV4', 'B0002E3GXC', 'B0002E3KPQ', 'B0002E3L4G', 'B0002E3L50', 'B0002E3L8C', 'B0002E3LFU', 'B0002E3LLO', 'B0002E3M0E', 'B0002E3M18', 'B0002E3MRW', 'B0002E3MXG', 'B0002E3N1M', 'B0002E3N4Y', 'B0002E4Y2E', 'B0002E4Y9C', 'B0002E4YH4', 'B0002E4YI8', 'B0002E4Z8M', 'B0002E4Z9G', 'B0002E4ZIW', 'B0002E4ZJG', 'B0002E4ZKU', 'B0002E4ZQ4', 'B0002E50DQ', 'B0002E50WC', 'B0002E50XG', 'B0002E513U', 'B0002E5158', 'B0002E5162', 'B0002E516M', 'B0002E51C6', 'B0002E51FS', 'B0002E51NK', 'B0002E51PI', 'B0002E51UI', 'B0002E51ZS', 'B0002E520C', 'B0002E5266', 'B0002E528E', 'B0002E5298', 'B0002E529S', 'B0002E52AW', 'B0002E52JI', 'B0002E52MK', 'B0002E52OI', 'B0002E52RU', 'B0002E52VQ', 'B0002E53DS', 'B0002E53JW', 'B0002E53WY', 'B0002E54FK', 'B0002E54YQ', 'B0002E54ZU', 'B0002E550E', 'B0002E5518', 'B0002E551S', 'B0002E558Q', 'B0002E55FO', 'B0002E5680', 'B0002E568K', 'B0002E56EY', 'B0002E56H6', 'B0002E56HQ', 'B0002E56IA', 'B0002E56LC', 'B0002E56MG', 'B0002E56Q2', 'B0002E57D4', 'B0002E57DY', 'B0002E582O', 'B0002E583I', 'B0002E594G', 'B0002E596E', 'B0002E59AA', 'B0002E59B4', 'B0002EJQMC', 'B0002EJRD0', 'B0002EJS9S', 'B0002EJVL8', 'B0002EJVUY', 'B0002EK70W', 'B0002EKADG', 'B0002EKBJO', 'B0002EKJVY', 'B0002EKKSG', 'B0002EKNDS', 'B0002EKNQ0', 'B0002F4M4I', 'B0002F4MJ8', 'B0002F4MKC', 'B0002F4MKM', 'B0002F4MKW', 'B0002F4ML6', 'B0002F4MSO', 'B0002F4N0Q', 'B0002F4N4M', 'B0002F4NB0', 'B0002F4NII', 'B0002F4NMY', 'B0002F4TBO', 'B0002F4TCI', 'B0002F4TF0', 'B0002F4TJ6', 'B0002F4TJG', 'B0002F4TJQ', 'B0002F4TKA', 'B0002F4TKU', 'B0002F4TN2', 'B0002F4UG8', 'B0002F4UYU', 'B0002F4V30', 'B0002F4V5S', 'B0002F4V8K', 'B0002F4VBM', 'B0002F4VC6', 'B0002F4VDK', 'B0002F4VGC', 'B0002F4VIK', 'B0002F4VIU', 'B0002F4VJY', 'B0002F4VNU', 'B0002F4VTE', 'B0002F4VTY', 'B0002F4VU8', 'B0002F4WC0', 'B0002F4WD4', 'B0002F4WFM', 'B0002F4Y78', 'B0002F4Y8W', 'B0002F4Y96', 'B0002F4YDC', 'B0002F4YF0', 'B0002F4YFA', 'B0002F4YGY', 'B0002F4YH8', 'B0002F4YQY', 'B0002F4YRS', 'B0002F4ZMC', 'B0002F4ZMM', 'B0002F4ZMW', 'B0002F4ZN6', 'B0002F4ZTU', 'B0002F50VW', 'B0002F5152', 'B0002F519I', 'B0002F51DO', 'B0002F51HK', 'B0002F51L6', 'B0002F51WA', 'B0002F51WK', 'B0002F51X4', 'B0002F51XE', 'B0002F51XY', 'B0002F51YS', 'B0002F527O', 'B0002F5288', 'B0002F528I', 'B0002F52A6', 'B0002F52AG', 'B0002F52EW', 'B0002F52TW', 'B0002F52U6', 'B0002F53LE', 'B0002F53XC', 'B0002F5472', 'B0002F5490', 'B0002F5562', 'B0002F557Q', 'B0002F5580', 'B0002F56MA', 'B0002F5792', 'B0002F57WY', 'B0002F57XS', 'B0002F585K', 'B0002F5882', 'B0002F58G4', 'B0002F58J6', 'B0002F58NC', 'B0002F58SM', 'B0002F58T6', 'B0002F58UA', 'B0002F58YG', 'B0002F5918', 'B0002F594K', 'B0002F59F4', 'B0002F59LI', 'B0002F59SQ', 'B0002F59WC', 'B0002F59ZY', 'B0002F5ABC', 'B0002F5ANK', 'B0002F5BFC', 'B0002F5BFW', 'B0002F5BG6', 'B0002F5BKW', 'B0002F5BXE', 'B0002F5BZ2', 'B0002F5C7O', 'B0002F5C7Y', 'B0002F5CQK', 'B0002F5D8M', 'B0002F5DGE', 'B0002F5E72', 'B0002F5EPO', 'B0002F5F44', 'B0002F5F6M', 'B0002F5F9O', 'B0002F5FFI', 'B0002F5FFS', 'B0002F5G66', 'B0002F5GXO', 'B0002F5GYS', 'B0002F5GZW', 'B0002F5HBK', 'B0002F5HE2', 'B0002F5HVA', 'B0002F5IW8', 'B0002F6HXW', 'B0002F6I3G', 'B0002F6J4E', 'B0002F6JFS', 'B0002F6JGW', 'B0002F6JH6', 'B0002F6JHG', 'B0002F6K4I', 'B0002F6K52', 'B0002F6NH2', 'B0002F6NJA', 'B0002F6PHU', 'B0002F6PJ8', 'B0002F6PKM', 'B0002F6PKW', 'B0002F6SEU', 'B0002F6SF4', 'B0002F6SGI', 'B0002F6SGS', 'B0002F6SH2', 'B0002F6SHC', 'B0002F6SHM', 'B0002F6SI6', 'B0002F6U2A', 'B0002F6UA2', 'B0002F6VTW', 'B0002F6VU6', 'B0002F6VZQ', 'B0002F6W1Y', 'B0002F6W5U', 'B0002F6W78', 'B0002F6WD2', 'B0002F6WO6', 'B0002F6WR8', 'B0002F6XL8', 'B0002F6ZJS', 'B0002F6ZK2', 'B0002F704W', 'B0002F714G', 'B0002F71BO', 'B0002F71CS', 'B0002F71OG', 'B0002F71OQ', 'B0002F71PK', 'B0002F71Q4', 'B0002F71QY', 'B0002F7290', 'B0002F729A', 'B0002F73KI', 'B0002F73OY', 'B0002F73TE', 'B0002F73YO', 'B0002F73YY', 'B0002F73Z8', 'B0002F73ZI', 'B0002F7402', 'B0002F740C', 'B0002F740W', 'B0002F7416', 'B0002F741G', 'B0002F741Q', 'B0002F742A', 'B0002F742U', 'B0002F7466', 'B0002F747K', 'B0002F748E', 'B0002F74CU', 'B0002F74GG', 'B0002F74IE', 'B0002F752Y', 'B0002F75EM', 'B0002F75K6', 'B0002F75LA', 'B0002F75LU', 'B0002F75TW', 'B0002F75VA', 'B0002F76QY', 'B0002F76T6', 'B0002F7722', 'B0002F772C', 'B0002F77B8', 'B0002F77L8', 'B0002F77LI', 'B0002F77OK', 'B0002F77OU', 'B0002F77PE', 'B0002F77PO', 'B0002F77PY', 'B0002F77Q8', 'B0002F77Z4', 'B0002F783A', 'B0002F786W', 'B0002F787G', 'B0002F787Q', 'B0002F788U', 'B0002F78NK', 'B0002F78OE', 'B0002F78P8', 'B0002F78QC', 'B0002F78QW', 'B0002F797K', 'B0002F79CU', 'B0002F79E8', 'B0002F79KW', 'B0002F79N4', 'B0002F79YS', 'B0002F7A06', 'B0002F7A1A', 'B0002F7ABA', 'B0002F7AFG', 'B0002F7AR4', 'B0002F7AT2', 'B0002F7BAA', 'B0002F7C6I', 'B0002F7ENY', 'B0002F7GPK', 'B0002F7GSW', 'B0002F7GT6', 'B0002F7IEE', 'B0002F7IIK', 'B0002F7IN0', 'B0002F7IOO', 'B0002F7IQ2', 'B0002F7IV2', 'B0002F7IVW', 'B0002F7J3O', 'B0002F7J98', 'B0002F7JGG', 'B0002F7KAG', 'B0002F7KG0', 'B0002F7KJM', 'B0002F7KK6', 'B0002F7L0K', 'B0002F7L28', 'B0002F7ME0', 'B0002FDKIW', 'B0002FO2IO', 'B0002FO3LU', 'B0002FO57C', 'B0002FO5BI', 'B0002FO7LQ', 'B0002FO8BK', 'B0002FO8CY', 'B0002FO8E2', 'B0002FO8M4', 'B0002FO9QY', 'B0002FO9RI', 'B0002FO9RS', 'B0002FOAB8', 'B0002FOBJY', 'B0002FOBOY', 'B0002FOD74', 'B0002FOGFI', 'B0002FOHTI', 'B0002FOHWA', 'B0002FOIO2', 'B0002FOLPI', 'B0002FONX8', 'B0002FONXS', 'B0002FONYM', 'B0002FOXD8', 'B0002FOZCM', 'B0002FP04E', 'B0002FP1DY', 'B0002FP1LG', 'B0002FP1Z2', 'B0002FP364', 'B0002GFMMI', 'B0002GFMNM', 'B0002GFNC2', 'B0002GFOEY', 'B0002GFP66', 'B0002GFP9I', 'B0002GFPA2', 'B0002GFPAM', 'B0002GFQ10', 'B0002GFQ1K', 'B0002GFQ2O', 'B0002GFQKQ', 'B0002GFRBE', 'B0002GFTH6', 'B0002GFTIK', 'B0002GFTIU', 'B0002GFTJE', 'B0002GFTJO', 'B0002GFU2A', 'B0002GGN58', 'B0002GH8LQ', 'B0002GIKF4', 'B0002GIRAC', 'B0002GIRKM', 'B0002GIRP2', 'B0002GIRTI', 'B0002GISE2', 'B0002GIUY0', 'B0002GIV1W', 'B0002GIVF8', 'B0002GIW3Y', 'B0002GIWES', 'B0002GIWZM', 'B0002GJ2J2', 'B0002GJ2T2', 'B0002GJ3E6', 'B0002GJ3ZA', 'B0002GJ4AY', 'B0002GJ6FC', 'B0002GJEO0', 'B0002GJGUM', 'B0002GJHYM', 'B0002GJI3C', 'B0002GJILE', 'B0002GJJDQ', 'B0002GJKGC', 'B0002GJNGE', 'B0002GJNNC', 'B0002GJR10', 'B0002GJRYC', 'B0002GJT40', 'B0002GJT68', 'B0002GJTOK', 'B0002GJUIU', 'B0002GJVOI', 'B0002GKYZI', 'B0002GL0LA', 'B0002GL2YK', 'B0002GL2Z4', 'B0002GL5S8', 'B0002GL7ZO', 'B0002GLBKK', 'B0002GLCKE', 'B0002GLCRC', 'B0002GLDQM', 'B0002GLHMM', 'B0002GLM90', 'B0002GLMAY', 'B0002GLMEK', 'B0002GLMPE', 'B0002GMFOQ', 'B0002GMGW2', 'B0002GMGYA', 'B0002GMH7G', 'B0002GMIVG', 'B0002GMJH4', 'B0002GML40', 'B0002GML5Y', 'B0002GNSUQ', 'B0002GNT0U', 'B0002GNUYU', 'B0002GNY2S', 'B0002GNYBE', 'B0002GNYSM', 'B0002GNYUU', 'B0002GNZD6', 'B0002GO1QQ', 'B0002GO4ZY', 'B0002GO50I', 'B0002GO512', 'B0002GO8QY', 'B0002GO9LI', 'B0002GO9MC', 'B0002GODI2', 'B0002GODLO', 'B0002GODY6', 'B0002GOE5Y', 'B0002GOK08', 'B0002GTZMQ', 'B0002GTZR6', 'B0002GU0S4', 'B0002GU0W0', 'B0002GU47G', 'B0002GU4VM', 'B0002GUC14', 'B0002GUE1W', 'B0002GVEKW', 'B0002GW000', 'B0002GW3Y8', 'B0002GWFEQ', 'B0002GWFFA', 'B0002GWK5U', 'B0002GWKKA', 'B0002GWMWG', 'B0002GWNMU', 'B0002GWNNE', 'B0002GWNNY', 'B0002GWPRS', 'B0002GWQ90', 'B0002GWRHQ', 'B0002GWRIK', 'B0002GWRQM', 'B0002GWVEU', 'B0002GWW8A', 'B0002GWXKC', 'B0002GX5NG', 'B0002GX6TE', 'B0002GX6V2', 'B0002GX6XU', 'B0002GX74S', 'B0002GX8PQ', 'B0002GXB62', 'B0002GXF8Q', 'B0002GXHRA', 'B0002GXIX8', 'B0002GXPRM', 'B0002GXQ2Q', 'B0002GXQF8', 'B0002GXSWE', 'B0002GXV3A', 'B0002GXW5W', 'B0002GXYVO', 'B0002GXZK4', 'B0002GY0Z8', 'B0002GY10M', 'B0002GY64S', 'B0002GY6UM', 'B0002GY7E2', 'B0002GY7MO', 'B0002GY86Y', 'B0002GY89G', 'B0002GY986', 'B0002GY9Y0', 'B0002GYHZQ', 'B0002GYSNC', 'B0002GYW4C', 'B0002GYX50', 'B0002GYX5K', 'B0002GYY5O', 'B0002GYYCW', 'B0002GYYD6', 'B0002GYYDG', 'B0002GYYDQ', 'B0002GYYEA', 'B0002GYYFO', 'B0002GYYI6', 'B0002GZ052', 'B0002GZ64M', 'B0002GZ84K', 'B0002GZ8ZY', 'B0002GZBLU', 'B0002GZBNS', 'B0002GZCSM', 'B0002GZHPA', 'B0002GZIWC', 'B0002GZK02', 'B0002GZKWU', 'B0002GZLX8', 'B0002GZLY2', 'B0002GZLZQ', 'B0002GZM00', 'B0002GZMYG', 'B0002GZNQI', 'B0002GZNQS', 'B0002GZOS0', 'B0002GZOSA', 'B0002GZQ2Y', 'B0002GZQEM', 'B0002GZQG0', 'B0002GZQGU', 'B0002GZSI6', 'B0002GZSKY', 'B0002GZSMW', 'B0002GZSNG', 'B0002GZSNQ', 'B0002GZSR2', 'B0002GZSWW', 'B0002GZSXG', 'B0002GZT0S', 'B0002GZT1C', 'B0002GZTT4', 'B0002GZUG6', 'B0002GZUTI', 'B0002GZV56', 'B0002GZV5Q', 'B0002GZV9M', 'B0002GZWZ0', 'B0002GZWZU', 'B0002GZZNY', 'B0002H00NS', 'B0002H00O2', 'B0002H013W', 'B0002H02I6', 'B0002H02IG', 'B0002H03I0', 'B0002H03YY', 'B0002H04NE', 'B0002H05BA', 'B0002H05C4', 'B0002H06K0', 'B0002H06KK', 'B0002H06L4', 'B0002H06X2', 'B0002H07CW', 'B0002H07FY', 'B0002H09OI', 'B0002H0A3S', 'B0002H0BZU', 'B0002H0FZ6', 'B0002H0GF0', 'B0002H0GUA', 'B0002H0H68', 'B0002H0JZ2', 'B0002H0JZC', 'B0002H0KG0', 'B0002H0KGU', 'B0002H0LDW', 'B0002H0LQO', 'B0002H0M7W', 'B0002H0MQS', 'B0002H0N26', 'B0002H0NOE', 'B0002H0NSU', 'B0002H0POC', 'B0002H0QGE', 'B0002H0RBS', 'B0002H0RCC', 'B0002H0RFY', 'B0002H0RG8', 'B0002H0RN6', 'B0002H0RS6', 'B0002H0RUY', 'B0002H0RXQ', 'B0002H0S4O', 'B0002H0S80', 'B0002H0S9E', 'B0002H0SAI', 'B0002H0SKS', 'B0002H0SSK', 'B0002H0SWQ', 'B0002H0SYE', 'B0002HLL8Q', 'B0002HU87G', 'B0002HU8G2', 'B0002HU8GM', 'B0002HU8I0', 'B0002I6L3A', 'B0002I7328', 'B0002I73PU', 'B0002I8Y6W', 'B0002I8Y76', 'B0002I8YH6', 'B0002I9MPO', 'B0002I9PH4', 'B0002I9R90', 'B0002IHDYG', 'B0002IHFGW', 'B0002IHFHQ', 'B0002IHFI0', 'B0002IHFJ4', 'B0002IHFVM', 'B0002IHGAC', 'B0002IHGXY', 'B0002IHGY8', 'B0002IHGZ2', 'B0002IHP0S', 'B0002IHUS0', 'B0002II66U', 'B0002II67E', 'B0002II6LK', 'B0002II6V0', 'B0002II728', 'B0002II72S', 'B0002II7H8', 'B0002II7WS', 'B0002II8A4', 'B0002II98A', 'B0002IJD76', 'B0002IJEES', 'B0002IL3G0', 'B0002IL48M', 'B0002IL4B4', 'B0002IL4TG', 'B0002IL5V8', 'B0002IP47O', 'B0002IP47Y', 'B0002IP49M', 'B0002IP4AG', 'B0002IP4B0', 'B0002IZLNQ', 'B0002J1JKY', 'B0002J4IX4', 'B0002J4IXY', 'B0002J4JTW', 'B0002J6GL6', 'B0002J6H2Y', 'B0002J6I8C', 'B0002J6IM8', 'B0002J92RQ', 'B0002JEUXM', 'B0002JF5CM', 'B0002JKOZA', 'B0002JKXJW', 'B0002JL2D8', 'B0002JL36O', 'B0002KMTLG', 'B0002KR1C8', 'B0002KX5E6', 'B0002KYTAA', 'B0002KYXTM', 'B0002KZ6LQ', 'B0002KZAK8', 'B0002KZAKS', 'B0002KZAM6', 'B0002KZB0W', 'B0002KZDD2', 'B0002KZDG4', 'B0002KZDIM', 'B0002KZDKA', 'B0002KZDKU', 'B0002KZDLE', 'B0002KZDM8', 'B0002KZDN2', 'B0002KZDOG', 'B0002KZE5Y', 'B0002KZE7C', 'B0002KZE7M', 'B0002KZE8G', 'B0002KZE9A', 'B0002KZE9U', 'B0002KZEAE', 'B0002KZEAO', 'B0002KZEB8', 'B0002KZEK4', 'B0002KZELI', 'B0002KZEMC', 'B0002KZEOU', 'B0002KZEQS', 'B0002KZERW', 'B0002KZF4Y', 'B0002KZF76', 'B0002KZF7Q', 'B0002KZF8U', 'B0002KZFXU', 'B0002KZFYE', 'B0002KZG02', 'B0002KZH9C', 'B0002KZHBU', 'B0002KZHCE', 'B0002KZHF6', 'B0002KZHP6', 'B0002KZHQA', 'B0002KZHRO', 'B0002KZHTC', 'B0002KZHTW', 'B0002KZIKU', 'B0002KZIMI', 'B0002KZINM', 'B0002KZISM', 'B0002KZIT6', 'B0002KZITQ', 'B0002KZIU0', 'B0002KZIV4', 'B0002KZIW8', 'B0002KZIYG', 'B0002KZJB8', 'B0002KZJH2', 'B0002KZK4O', 'B0002KZQ34', 'B0002KZQ8E', 'B0002KZQ9S', 'B0002KZQFC', 'B0002KZRXS', 'B0002KZTN6', 'B0002KZW9W', 'B0002L03RM', 'B0002L03TA', 'B0002L51D8', 'B0002L51NS', 'B0002L51QU', 'B0002L52FU', 'B0002L52QY', 'B0002L537W', 'B0002LD2WK', 'B0002M2U2C', 'B0002M3OUO', 'B0002M3OUY', 'B0002M6A7I', 'B0002M6AIC', 'B0002M6B2M', 'B0002M6B36', 'B0002M6SAM', 'B0002M71VC', 'B0002M728O', 'B0002M728Y', 'B0002M72JS', 'B0002M7MTS', 'B0002MDTVS', 'B0002MJCLO', 'B0002MJTYY', 'B0002MJTZ8', 'B0002MRCLQ', 'B0002MS7MO', 'B0002MS7NI', 'B0002MS7NS', 'B0002MS7O2', 'B0002MSKWG', 'B0002MSPBM', 'B0002MSPFI', 'B0002MSRFG', 'B0002MSSUK', 'B0002MSTCW', 'B0002MSVDY', 'B0002MT6RY', 'B0002NIADE', 'B0002NIMA0', 'B0002NIP98', 'B0002NIPW0', 'B0002NIRIC', 'B0002NN3FY', 'B0002NQPHM', 'B0002NQQCQ', 'B0002NQSB0', 'B0002NRFIK', 'B0002NRTL8', 'B0002NYKLU', 'B0002O7L2O', 'B0002ODPDI', 'B0002OJPE6', 'B0002OKGNK', 'B0002OMLTC', 'B0002OMOGC', 'B0002OMOIU', 'B0002OOMTY', 'B0002OOMU8', 'B0002OOMW6', 'B0002OOMWQ', 'B0002OON48', 'B0002OON4S', 'B0002OOVOU', 'B0002OP0WC', 'B0002OP7UC', 'B0002OP7VQ', 'B0002OP7XY', 'B0002OP82O', 'B0002OP87E', 'B0002OPGBW', 'B0002OPGC6', 'B0002OPGD0', 'B0002OPGDA', 'B0002OPGDK', 'B0002OPGEO', 'B0002ORP8E', 'B0002ORP8O', 'B0002ORP8Y', 'B0002ORPBG', 'B0002ORPK2', 'B0002ORPLG', 'B0002ORPN4', 'B0002ORPP2', 'B0002ORPU2', 'B0002OS9FC', 'B0002OSCPO', 'B0002PBS7M', 'B0002PCMP4', 'B0002PYXA6', 'B0002PZ3A0', 'B0002PZ3BY', 'B0002PZBNO', 'B0002PZG5C', 'B0002Q0V3S', 'B0002Q22E4', 'B0002Q2DE8', 'B0002QNDCO', 'B0002T54L4', 'B0002T67K6', 'B0002T67KG', 'B0002TJO92', 'B0002TKIRY', 'B0002TKL9E', 'B0002TKLI0', 'B0002TTN3Y', 'B0002TXR9K', 'B0002V8R5M', 'B0002VB8AS', 'B0002VRPE6', 'B0002VSAUO', 'B0002VSRR0', 'B0002VSRRA', 'B0002WSKA8', 'B0002X6GU8', 'B0002XKYXI', 'B0002XKZ0A', 'B0002XMH1A', 'B0002Y7LTW', 'B0002Z2C90', 'B0002Z2C9A', 'B0002Z2CZO', 'B0002Z2D08', 'B0002Z2D0I', 'B0002Z3N8E', 'B0002Z3N8O', 'B0002Z3N8Y', 'B0002Z82LM', 'B0002ZGE44', 'B0002ZGENA', 'B0002ZO3JM', 'B0002ZO3JW', 'B0002ZO3LK', 'B0002ZO3LU', 'B0002ZO3NI', 'B0002ZO3O2', 'B0002ZO5WM', 'B0002ZO5Z4', 'B0002ZO5ZY', 'B0002ZO608', 'B0002ZO60I', 'B0002ZO6TY', 'B0002ZPK0S', 'B0002ZPK4Y', 'B0002ZPLP2', 'B000300Y9O', 'B00030679K', 'B00030CGOK', 'B00030CLL8', 'B00061P832', 'B00061ZM2Y', 'B00062G0RE', 'B00062GRXQ', 'B00062IH7A', 'B00062IIDI', 'B00063678A', 'B00063678K', 'B000637LUS', 'B000637LV2', 'B000637LVC', 'B00064ABSG', 'B00064L1HG', 'B00064SYY4', 'B00064TZYW', 'B00065LM2E', 'B00065Q1BQ', 'B00065VQN4', 'B000667682', 'B0006676A0', 'B00066EJVO', 'B00066U2S8', 'B00066UML0', 'B00066UMPG', 'B00067G66Y', 'B00067JJ8Q', 'B00067JJ9K', 'B00067JSFK', 'B00067JSMI', 'B00067R1R2', 'B00069FEZG', 'B0006A9M3K', 'B0006AZN4W', 'B0006B05W6', 'B0006BFQUM', 'B0006BFQUW', 'B0006BFS4Q', 'B0006DONOK', 'B0006FL8PK', 'B0006GEYX2', 'B0006GQ57K', 'B0006GR3RQ', 'B0006GR3S0', 'B0006GR3SA', 'B0006GR4A2', 'B0006GR4KW', 'B0006GR4L6', 'B0006GSEME', 'B0006GSEMY', 'B0006H92QK', 'B0006I935Y', 'B0006IQLF4', 'B0006IQLHM', 'B0006IQN34', 'B0006IQNBG', 'B0006IQNCK', 'B0006IQNCU', 'B0006IQND4', 'B0006IQNDO', 'B0006IQNES', 'B0006IQNFC', 'B0006IQNHA', 'B0006LOBA8', 'B0006LXW9E', 'B0006MON14', 'B0006MQ19G', 'B0006NDF6C', 'B0006NDF76', 'B0006NDF8A', 'B0006NMUEU', 'B0006NMUGI', 'B0006NMUHM', 'B0006NMUI6', 'B0006NMUJU', 'B0006O2WFQ', 'B0006OCG20', 'B0006ODWUU', 'B0006OHVMK', 'B0006OK30W', 'B0006ORDTG', 'B0006UGE9K', 'B0006UGEK4', 'B0006UGEM2', 'B0006UGEOK', 'B0006UGEOU', 'B0006UGEQS', 'B0006V6S5E', 'B0006V6SB8', 'B0006V6SBS', 'B0006V95XQ', 'B0006VP8HI', 'B0006VWY9I', 'B0006VWYB6', 'B0006VYYFU', 'B0006VYYGE', 'B0006Z15VW', 'B0006Z4B68', 'B0006Z4B6I', 'B0006ZL2VA', 'B0006ZL2ZG', 'B0006ZNA4W', 'B0006ZNAZ6', 'B0006ZNBGE', 'B0006ZNBLY', 'B0006ZP91E', 'B0006ZP950', 'B0006ZPAAO', 'B0006ZPACC', 'B0006ZPAEU', 'B0006ZRMUU', 'B0006ZRMV4', 'B0006ZST84', 'B0006ZSTI4', 'B0006ZUZOU', 'B0006ZXFWO', 'B0006ZXFZQ', 'B0006ZXG00', 'B0006ZXG0A', 'B0006ZXG0K', 'B0006ZXVCI', 'B00074B62A', 'B00074B67A', 'B00074B67K', 'B00074B67U', 'B00074IITO', 'B00074WFO8', 'B00076AGJC', 'B00076R384', 'B00076TH92', 'B00076UXA4', 'B00076W14U', 'B00076XOXC', 'B00076XOXM', 'B000788VSI', 'B000788VUG', 'B00078NM3W', 'B000792SBS', 'B00079DRUO', 'B00079OUNM', 'B00079P7T8', 'B00079R5SE', 'B00079R5SO', 'B00079R5SY', 'B0007ACT9S', 'B0007ACTA2', 'B0007CXIG4', 'B0007CXIJ6', 'B0007CXINW', 'B0007DA7S0', 'B0007DBMNY', 'B0007DBMO8', 'B0007DBMOI', 'B0007G966G', 'B0007GDTX2', 'B0007GGUGA', 'B0007IQUWM', 'B0007KPI28', 'B0007KPI2S', 'B0007KU9YA', 'B0007KVLGA', 'B0007KVR82', 'B0007L712C', 'B0007L8A5O', 'B0007L8AI6', 'B0007L8BB2', 'B0007L9NS2', 'B0007LCMFS', 'B0007M424G', 'B0007M424Q', 'B0007M6A5K', 'B0007NKU3C', 'B0007NQH98', 'B0007OGTGS', 'B0007ORM0K', 'B0007P34Z6', 'B0007P3528', 'B0007P8KB4', 'B0007QKR28', 'B0007R2DEM', 'B0007R2E8W', 'B0007R2EAK', 'B0007RA6LE', 'B0007SL856', 'B0007SL85G', 'B0007SL85Q', 'B0007SL860', 'B0007SL86A', 'B0007SL86K', 'B0007TYPY6', 'B0007TYPYG', 'B0007TYPYQ', 'B0007TYPZA', 'B0007TYQ0E', 'B0007TYQ7W', 'B0007V2A8C', 'B0007V5Z2A', 'B0007W21RG', 'B0007WLWMG', 'B0007WLWRQ', 'B0007WPCKE', 'B0007WPHC2', 'B0007WQZGY', 'B0007X90HY', 'B0007XE8YO', 'B0007XJWJK', 'B0007XQXCE', 'B0007XRMO2', 'B0007XTOCA', 'B0007XY8TO', 'B0007Y09VO', 'B0007Y0A72', 'B0007Y18UA', 'B0007Y2CYG', 'B0007Y2D0O', 'B0007Y2ZSE', 'B0007Y3XGW', 'B0007Y3XHQ', 'B0007Y60HG', 'B0007Y88GC', 'B0007Y8GSM', 'B0007YLXJQ', 'B0007Z7VSW', 'B0007ZCHKE', 'B0007ZEY46', 'B0007ZEY8W', 'B00080KNH2', 'B00081MV94', 'B0008F6O9I', 'B0008FUWEG', 'B0008G26JO', 'B0008JHE84', 'B000931TKS', 'B00095NVZM', 'B00095VIMU', 'B000960KNW', 'B000978D58', 'B000979TV0', 'B00097BLAC', 'B00097BMZ6', 'B00097CJ76', 'B00097DC0E', 'B00099QVXM', 'B0009A37XI', 'B0009AJ2SC', 'B0009AL82A', 'B0009DXEEM', 'B0009E6JZC', 'B0009E6RQS', 'B0009EG5II', 'B0009EQMZE', 'B0009EQOHA', 'B0009EU01G', 'B0009EW1RM', 'B0009EW2OY', 'B0009FC928', 'B0009FC93M', 'B0009FC94Q', 'B0009FC950', 'B0009FC964', 'B0009FCD0G', 'B0009FH4CI', 'B0009FJ1NS', 'B0009FUPJM', 'B0009FUTHU', 'B0009FUTNE', 'B0009FUUOM', 'B0009FUUOW', 'B0009FZWLS', 'B0009FZWMW', 'B0009G009G', 'B0009G0AXM', 'B0009G0ELA', 'B0009G0EMO', 'B0009G1E0K', 'B0009GH13Y', 'B0009GI65Q', 'B0009GI7NC', 'B0009GUOQA', 'B0009GYIL2', 'B0009GZG9K', 'B0009H76U6', 'B0009IIBJK', 'B0009JPR8C', 'B0009JR9YC', 'B0009K9MUA', 'B0009O116Y', 'B0009PL43I', 'B0009QTQ32', 'B0009QTQ3M', 'B0009QX16K', 'B0009QYQCS', 'B0009R0A2C', 'B0009R3I8A', 'B0009R5NF6', 'B0009RHAT8', 'B0009RLDUU', 'B0009RLE5Y', 'B0009RM4DK', 'B0009RNMZ4', 'B0009RP0CM', 'B0009S5JMM', 'B0009SXWLC', 'B0009T2FQ4', 'B0009TD5X6', 'B0009V457O', 'B0009V458I', 'B0009V8430', 'B0009V8YXA', 'B0009V9WCM', 'B0009V9WPO', 'B0009V9XBC', 'B0009W0BDA', 'B0009X9H9I', 'B0009XH4HU', 'B0009Y6B0U', 'B000A0P0B4', 'B000A15XIS', 'B000A1BD96', 'B000A1BMLA', 'B000A1HU1G', 'B000A2HDXA', 'B000A2HOB6', 'B000A39GUC', 'B000A39GUW', 'B000A39X32', 'B000A3XEQY', 'B000A3ZCRS', 'B000A42R2U', 'B000A46O60', 'B000A6AEVO', 'B000A6ASQU', 'B000A6GTDQ', 'B000A7BWYG', 'B000A7E798', 'B000A7PQIO', 'B000A82NK2', 'B000A85JUS', 'B000A85JVM', 'B000A85JWG', 'B000A8J3N2', 'B000AADIWC', 'B000AAGM0M', 'B000AAOU10', 'B000AAPNJI', 'B000AAPRBW', 'B000AC6DVS', 'B000ACGXFY', 'B000AJKMBS', 'B000AJR50Y', 'B000AKO2WC', 'B000AKSUP2', 'B000AL39IE', 'B000ALK8R4', 'B000AN097Q', 'B000AQDSMQ', 'B000AQHJQ2', 'B000ARH3M6', 'B000ARHBN2', 'B000ARHGSC', 'B000ARJHG6', 'B000ARLFYI', 'B000AS7QJU', 'B000AS7R7G', 'B000ASEF4O', 'B000ATOFS4', 'B000ATSIJ6', 'B000AUV2ES', 'B000AXQHH2', 'B000AXQHK4', 'B000AXSFOK', 'B000AXW9QA', 'B000AYFZN8', 'B000AYWSI8', 'B000B1E46Y', 'B000B1FEPO', 'B000B4597Y', 'B000B5L2OC', 'B000B5L4E0', 'B000B5QK08', 'B000B663JU', 'B000B68WEE', 'B000B6AGCA', 'B000B6DHAI', 'B000B6DHAS', 'B000B6DHB2', 'B000B6DTY2', 'B000B6DU0K', 'B000B6FADU', 'B000B6FBA2', 'B000B7EJJK', 'B000B85FV0', 'B000BBDBF4', 'B000BBEQZ8', 'B000BBQPBG', 'B000BBRZ3S', 'B000BBS3B6', 'B000BBYSIS', 'B000BCZ8YK', 'B000BD31ZW', 'B000BGX5TG', 'B000BH437S', 'B000BHCUNM', 'B000BHFYGM', 'B000BIQOOW', 'B000BJMHVA', 'B000BKJPQY', 'B000BKTC08', 'B000BKXF4M', 'B000BKY8CU', 'B000BLRVOQ', 'B000BMFJ9Y', 'B000BMHLHC', 'B000BN6488', 'B000BNQ75S', 'B000BNR8BU', 'B000BNSYHW', 'B000BO8ZGQ', 'B000BOQYCS', 'B000BQ79W0', 'B000BQTCC0', 'B000BQTCDO', 'B000BSITGI', 'B000BSMKPY', 'B000BTKHCQ', 'B000BU42LM', 'B000BU5UZ4', 'B000BU5V58', 'B000BU5VLW', 'B000BUBHMY', 'B000BUCV3S', 'B000BUDO48', 'B000BUDOKM', 'B000BUGNNM', 'B000BUGO7W', 'B000BVN582', 'B000BVS7WQ', 'B000BW2D84', 'B000BW78A2', 'B000BW8WGG', 'B000BWBY2U', 'B000BWCK7S', 'B000BWE4MC', 'B000BWE56W', 'B000BWEM42', 'B000BWI79I', 'B000BY31GK', 'B000BYPJ1U', 'B000BZG0C6', 'B000BZIYY8', 'B000CBE3G4', 'B000CBE3GE', 'B000CBXZXG', 'B000CBZY7G', 'B000CC5PBU', 'B000CC5PC4', 'B000CCIVCA', 'B000CCJP4I', 'B000CCMWVG', 'B000CCN152', 'B000CCN15M', 'B000CCS3UA', 'B000CCSWPQ', 'B000CCSWQA', 'B000CCXLTS', 'B000CD1R7K', 'B000CD1R84', 'B000CD3QY2', 'B000CD3QYC', 'B000CD3QYM', 'B000CD3QYW', 'B000CDT4VQ', 'B000CDUDQG', 'B000CEMQVK', 'B000CF4RN4', 'B000CGB31W', 'B000CHJTG2', 'B000CHU3A8', 'B000CMU0S8', 'B000CN9MLS', 'B000COEMV2', 'B000CPSGD6', 'B000CPSGDG', 'B000CQ56XS', 'B000CSPNNE', 'B000CZ0R3S', 'B000CZ0R74', 'B000CZ0RHY', 'B000CZ0RII', 'B000CZ0RJ2', 'B000CZ0RJC', 'B000CZ0RK6', 'B000CZ0RKG', 'B000CZ0RL0', 'B000CZ0RLA', 'B000CZ0RLK', 'B000CZ0RLU', 'B000CZ0RME', 'B000DT91OY', 'B000DZB8CQ', 'B000DZEUSU', 'B000DZLWIG', 'B000DZXTFK', 'B000DZXTG4', 'B000E0PPG0', 'B000E0PPH4', 'B000E0TVDI', 'B000E17J9U', 'B000E1DUQ6', 'B000E1P9MY', 'B000E1P9N8', 'B000E1PXDE', 'B000E1VOMI', 'B000E2F3UQ', 'B000E3FY0E', 'B000E3XAZK', 'B000E3XAZU', 'B000E3ZDUA', 'B000E5CYPK', 'B000EB68VK', 'B000EE8YPK', 'B000EEGAKQ', 'B000EEH9P6', 'B000EEHAA0', 'B000EEHAB4', 'B000EEHAN2', 'B000EEHATG', 'B000EEHAY6', 'B000EEHBM2', 'B000EEHD0W', 'B000EEHD20', 'B000EEHD4I', 'B000EEHEW4', 'B000EEHEYW', 'B000EEHFC8', 'B000EEHFJG', 'B000EEHFPK', 'B000EEHG6S', 'B000EEHGWW', 'B000EEHHBW', 'B000EEHHVW', 'B000EEHI02', 'B000EEHI5C', 'B000EEHI7U', 'B000EEHI98', 'B000EEHIJI', 'B000EEHJ24', 'B000EEHJS8', 'B000EEHKL4', 'B000EEHKVY', 'B000EEHL5Y', 'B000EEHL7M', 'B000EEHLP4', 'B000EEHM8U', 'B000EEHMDU', 'B000EEHMM6', 'B000EEHMXA', 'B000EEHN9S', 'B000EEHNP2', 'B000EEHOJM', 'B000EEI6QW', 'B000EEJ3KK', 'B000EEJ3S2', 'B000EEJ4ZE', 'B000EEJ5MG', 'B000EEJ5XK', 'B000EEJ5ZS', 'B000EEJ6C0', 'B000EEJ76A', 'B000EEJ7NS', 'B000EEJ7Q0', 'B000EEJ8IM', 'B000EEJ8MS', 'B000EEJ8TQ', 'B000EEJ8VE', 'B000EEJ97C', 'B000EEJ9AY', 'B000EEJ9P4', 'B000EEJ9UY', 'B000EEJAFS', 'B000EEJAR6', 'B000EEJAVM', 'B000EEJAWQ', 'B000EEJB4I', 'B000EEJB66', 'B000EEJBGQ', 'B000EEJBHU', 'B000EEJBZC', 'B000EEJCQU', 'B000EEJDLE', 'B000EEJDNM', 'B000EEJE2M', 'B000EEJE4K', 'B000EEJECC', 'B000EEJEFO', 'B000EEJF4O', 'B000EEJFN0', 'B000EEJFY4', 'B000EEJGK2', 'B000EEJGRK', 'B000EEJH8S', 'B000EEJH9C', 'B000EEJI00', 'B000EEJI7S', 'B000EEJJ5Y', 'B000EEJJI6', 'B000EEJKSA', 'B000EEK4VM', 'B000EEL29U', 'B000EEL3S0', 'B000EEL43O', 'B000EEL4YI', 'B000EEL50Q', 'B000EEL56A', 'B000EEL5W4', 'B000EEL6CS', 'B000EEL6H8', 'B000EEL6PK', 'B000EEL6RS', 'B000EEL6VO', 'B000EEL7B8', 'B000EEL7OA', 'B000EEL84Y', 'B000EELA0Q', 'B000EELA3I', 'B000EELB8W', 'B000EELBHI', 'B000EELBQ4', 'B000EELBQE', 'B000EELCB8', 'B000EELCSQ', 'B000EELDLM', 'B000EELEX4', 'B000EELF7O', 'B000EELFGU', 'B000EELFI8', 'B000EELFOM', 'B000EELFTW', 'B000EELG1Y', 'B000EELG82', 'B000EELGLY', 'B000EELID0', 'B000EELIEE', 'B000EEN8EM', 'B000EEN8I8', 'B000EEN9OG', 'B000EENA4U', 'B000EENACC', 'B000EENAGS', 'B000EENAMC', 'B000EENANG', 'B000EENB12', 'B000EENBDU', 'B000EENBQ2', 'B000EENDII', 'B000EENEEQ', 'B000EENFIG', 'B000EENFPE', 'B000EENGBM', 'B000EENH5W', 'B000EENH84', 'B000EENHAW', 'B000EENHJ8', 'B000EENI1K', 'B000EENJPA', 'B000EENK5O', 'B000EENL6C', 'B000EENLA8', 'B000EENLDU', 'B000EENMKM', 'B000EENMQG', 'B000EENMUC', 'B000EEZPYS', 'B000EFOUJ8', 'B000EH4UHS', 'B000EHUYR8', 'B000EIE6WG', 'B000EIK9GS', 'B000EJTXZU', 'B000EMB3HS', 'B000EMJGFE', 'B000EMLL84', 'B000EMLLFC', 'B000EMPR1G', 'B000EMPR5C', 'B000EMPRVG', 'B000EO6N08', 'B000EPVXWU', 'B000ETIXLA', 'B000ETOUAS', 'B000EVG7IO', 'B000EVXKZC', 'B000EW1LLG', 'B000EWAE0A', 'B000EXIMFI', 'B000EY765E', 'B000F17HOQ', 'B000F2GMBY', 'B000F35SG8', 'B000F3FQOW', 'B000F3FQP6', 'B000F3HAGY', 'B000F3HK78', 'B000F3HK7I', 'B000F3KSOU', 'B000F3KTGM', 'B000F3L61O', 'B000F3QTNY', 'B000F511QW', 'B000F54O7K', 'B000F6FUIG', 'B000F9J5GQ', 'B000F9JCHS', 'B000FB6TV8', 'B000FCCM9U', 'B000FCCMGI', 'B000FCPIQY', 'B000FDU2UK', 'B000FET3DG', 'B000FFWZKI', 'B000FG795I', 'B000FIP3G8', 'B000FIZISQ', 'B000FJ1NWA', 'B000FJ9CFA', 'B000FK7FUS', 'B000FKIO6M', 'B000FL3W04', 'B000FL571Q', 'B000FLFB30', 'B000FLH5N4', 'B000FLHSAY', 'B000FLLUU8', 'B000FMDIXY', 'B000FOGZF0', 'B000FP6XJ2', 'B000FP92IQ', 'B000FP94Z2', 'B000FPPZLE', 'B000FPQFKO', 'B000FUJ7KE', 'B000FVCC4G', 'B000FVZUFO', 'B000FVZUMM', 'B000FYUVV4', 'B000FZ1KF4', 'B000FZ27EM', 'B000FZZ0CI', 'B000G0ATGE', 'B000G0J2K8', 'B000G13JR4', 'B000G16GZ6', 'B000G1E59U', 'B000G1KDIW', 'B000G20YOO', 'B000G30GK0', 'B000G3KNT4', 'B000G3MV1W', 'B000G85S8K', 'B000G87L9Y', 'B000G8BAZ0', 'B000G8BD16', 'B000G8BD20', 'B000GAOZVO', 'B000GAQPN0', 'B000GASJEI', 'B000GASJES', 'B000GASJF2', 'B000GATTLA', 'B000GATTM4', 'B000GAXAF6', 'B000GAXAFG', 'B000GAXAFQ', 'B000GAXAG0', 'B000GAXAGA', 'B000GAYH4E', 'B000GBAR5G', 'B000GBWN7Q', 'B000GDNXIW', 'B000GE403I', 'B000GE7OE0', 'B000GEPC44', 'B000GFCYPS', 'B000GFPKAO', 'B000GFYTAQ', 'B000GG4AWM', 'B000GG4B0S', 'B000GG4B1C', 'B000GGV2DM', 'B000GH01N8', 'B000GHRU00', 'B000GKZ1IU', 'B000GRI3BU', 'B000GRO5QW', 'B000GSJYLM', 'B000GT44C0', 'B000GT89NA', 'B000GUBOYU', 'B000GUDMAO', 'B000GUR8V8', 'B000GZZOPA', 'B000H01KMA', 'B000H0425W', 'B000H28IPA', 'B000H28JBS', 'B000H28LB6', 'B000H28NQ4', 'B000H28NRS', 'B000H29I72', 'B000H2BCQ2', 'B000H2D814', 'B000H58HN0', 'B000H7GSMU', 'B000H98JXY', 'B000HA65W0', 'B000HAU1B6', 'B000HE7M3M', 'B000HG7GKY', 'B000HG82AW', 'B000HG8978', 'B000HGJF8K', 'B000HGWTJ2', 'B000HHUHBI', 'B000HQ89P0', 'B000HQMS2U', 'B000HRVTA6', 'B000HT4RSA', 'B000HVIZEU', 'B000HZCG4G', 'B000HZGFMA', 'B000I1YLG0', 'B000I2215M', 'B000I23TO4', 'B000I23VG0', 'B000I5W7K8', 'B000I6KE4S', 'B000I96494', 'B000IGZJ16', 'B000IKSIOM', 'B000IL32GU', 'B000IO8XFM', 'B000IO9HAW', 'B000IOFO5E', 'B000IXNE3E', 'B000J03ARG', 'B000J0N5TY', 'B000J36ETE', 'B000J3L02U', 'B000J40GEW', 'B000J4I9VO', 'B000J5SYPY', 'B000J5UEGQ', 'B000J5WB4E', 'B000J5Y214', 'B000J5Y282', 'B000JBY182', 'B000JC9D9I', 'B000JCH2T6', 'B000JCM33Q', 'B000JJJBMA', 'B000JKR86U', 'B000JKRFUE', 'B000JKSQW0', 'B000JKVLE0', 'B000JKVMJ4', 'B000JLMXSC', 'B000JLU26W', 'B000JM46FY', 'B000JUXKR6', 'B000JWX4P2', 'B000K2HBTQ', 'B000K2O1ZI', 'B000K6682I', 'B000K669EA', 'B000K669LS', 'B000K66A12', 'B000K66A6C', 'B000K67UCK', 'B000K67VG0', 'B000K67VNS', 'B000K67VRO', 'B000K67YC6', 'B000K67YD0', 'B000K69UM8', 'B000K69V5E', 'B000K69V6I', 'B000K6B13Y', 'B000K6B29W', 'B000K6B2DI', 'B000K6B44U', 'B000K6B4E0', 'B000K6B59Y', 'B000K6CR5A', 'B000K6CS40', 'B000K9JPB6', 'B000KFX0J8', 'B000KGW0CK', 'B000KGYAYQ', 'B000KHPJD6', 'B000KI0YXU', 'B000KIPD5E', 'B000KIPT26', 'B000KIPTE4', 'B000KIPUQG', 'B000KIPUQQ', 'B000KIRT38', 'B000KIRT6A', 'B000KIRT74', 'B000KIRT9C', 'B000KITQK2', 'B000KITQKM', 'B000KITQNY', 'B000KIVM9U', 'B000KIVMEK', 'B000KIVMFE', 'B000KMEKAY', 'B000KN0BYM', 'B000KUA8EI', 'B000KUA8G6', 'B000KUA8GQ', 'B000KUBOBE', 'B000KUCQXY', 'B000KUD2G4', 'B000KUENNU', 'B000KVZS2Y', 'B000KW2YEI', 'B000KWBQYM', 'B000KY156E', 'B000KYMTIM', 'B000KYRRSY', 'B000L01SRI', 'B000L3FPUG', 'B000L6GD04', 'B000L7MNUM', 'B000LARZVQ', 'B000LAT0AK', 'B000LBOTN2', 'B000LCRP14', 'B000LFCXL8', 'B000LGA2K6', 'B000LIEPDE', 'B000LJ2WAQ', 'B000LJ8GI8', 'B000LNC0DQ', 'B000LP9L36', 'B000LPNRQ8', 'B000LPNS8A', 'B000LPNVLE', 'B000LPOSDY', 'B000LPOWTO', 'B000LPP6XU', 'B000LPSODY', 'B000LPSQGO', 'B000LPUSJM', 'B000LPUTUA', 'B000LPUV8K', 'B000LPWHSM', 'B000LQ0QJS', 'B000LQ187C', 'B000LQ29UC', 'B000LQ29XE', 'B000LQ3COE', 'B000LQ5XW8', 'B000LQLDM2', 'B000LXTKMK', 'B000M0TNC4', 'B000M23OQ8', 'B000M3DZHA', 'B000M3HST6', 'B000M74WXM', 'B000MCKAT2', 'B000MCKAU6', 'B000MFK1VQ', 'B000MFK1ZW', 'B000MG5VBA', 'B000MJ406Y', 'B000MJ40D2', 'B000MJ9E92', 'B000MJ9EBA', 'B000ML4KT4', 'B000MO2QJM', 'B000MTRWWI', 'B000MVYOZY', 'B000MWF2K4', 'B000MWWT6E', 'B000MYIIRG', 'B000N27C8I', 'B000N3458W', 'B000N3ZK36', 'B000N5MK8M', 'B000N5T6IY', 'B000N5YEDG', 'B000N94RP2', 'B000NAXCC0', 'B000NAXDH4', 'B000NB2D7O', 'B000NE3JZ6', 'B000NE4UN6', 'B000NFWB18', 'B000NGG3HU', 'B000NGVQKO', 'B000NGVQSQ', 'B000NHB9BE', 'B000NJ2TIE', 'B000NJY60S', 'B000NJY61C', 'B000NKKHVE', 'B000NLRWEI', 'B000NM0Y9W', 'B000NM2GJ8', 'B000NNX5P6', 'B000NRO79K', 'B000NT9SH4', 'B000NTEUWM', 'B000NTEVKS', 'B000NTYERS', 'B000NTZOV8', 'B000NUXNWE', 'B000NUYAI0', 'B000NV2PQI', 'B000NW8JIU', 'B000NZKGEM', 'B000O0ZCTK', 'B000O52BHQ', 'B000O56IC0', 'B000OD6NR2', 'B000OE2G54', 'B000OF3G34', 'B000OKH7I4', 'B000OLPNG6', 'B000OLVXP6', 'B000OMG0KI', 'B000OQI2CI', 'B000OR186E', 'B000OR2DMM', 'B000OR2G8S', 'B000OR2QA6', 'B000OR2QX8', 'B000OR2S9A', 'B000OR2T0I', 'B000OR4GZE', 'B000OR4WCQ', 'B000OR58LU', 'B000OR591E', 'B000OR5928', 'B000OR5VV2', 'B000OR66MU', 'B000OR6GYS', 'B000OR6J40', 'B000OR6WJC', 'B000OR86WS', 'B000OR88JE', 'B000OR89H0', 'B000ORAGDA', 'B000ORWFR0', 'B000OT8PAE', 'B000OUUG78', 'B000OY0KWA', 'B000OY3Q9Y', 'B000OY4WA6', 'B000OY4WBA', 'B000OY707S', 'B000OY7UMS', 'B000OZWDI8', 'B000P0SSMM', 'B000P0WT0E', 'B000P0XBS8', 'B000P1G0VW', 'B000P1RB9C', 'B000P3RY3S', 'B000P3WCPS', 'B000P3WE60', 'B000P3YFTO', 'B000P40JQG', 'B000P4FBQO', 'B000P5H55I', 'B000P5JULA', 'B000P5LVNU', 'B000P5LVSK', 'B000P5LWWA', 'B000P5NXWM', 'B000P5NXWW', 'B000P5OTA2', 'B000P5OU0G', 'B000P5OUBU', 'B000P5OUC4', 'B000P5OUCE', 'B000P5OUE2', 'B000P5OULA', 'B000P5PKT6', 'B000P5PKTG', 'B000P5RVRU', 'B000P5V2UM', 'B000P5WTQS', 'B000P5ZQFY', 'B000P5ZRQC', 'B000P61P30', 'B000P63QHS', 'B000P63U74', 'B000P8DR6Q', 'B000PAPO9W', 'B000PFLKAY', 'B000PGMSZY', 'B000PGS5M4', 'B000PHLYNA', 'B000PHPJMM', 'B000PLZAE0', 'B000PNVHFY', 'B000PO30QM', 'B000PQX5WY', 'B000PR3JEM', 'B000PTF0E2', 'B000PTQCNK', 'B000PWU9CC', 'B000Q847M8', 'B000Q87DAQ', 'B000Q8QAKA', 'B000QCNA72', 'B000QCON9Q', 'B000QDLKF0', 'B000QDLOTM', 'B000QDLPHS', 'B000QDNS1Y', 'B000QDPSQ2', 'B000QDPSQC', 'B000QDRQZI', 'B000QGCJU2', 'B000QIVUF0', 'B000QPH1CO', 'B000QPHCB4', 'B000R0ARQU', 'B000R27VSK', 'B000R49SWK', 'B000R4KX88', 'B000R4LQ4S', 'B000R4LQ70', 'B000R9V09Y', 'B000RBEYR2', 'B000REM56Q', 'B000RIGPNQ', 'B000RJ6M4W', 'B000RK0CZ6', 'B000RKAFIU', 'B000RKL8R2', 'B000RKVH0K', 'B000RKWTPC', 'B000RLBYZW', 'B000RLF7GO', 'B000RLF7HI', 'B000RLGRB8', 'B000RLI76G', 'B000RLI7BQ', 'B000RLKOT4', 'B000RMQM4E', 'B000RN3WZK', 'B000RN53EI', 'B000RN53LQ', 'B000RNB720', 'B000RO28J0', 'B000RO6C1K', 'B000RO6LY8', 'B000RPRBSW', 'B000RPUMII', 'B000RPWNS0', 'B000RTPBWQ', 'B000RVWY42', 'B000RVYMWE', 'B000RVYOPO', 'B000RVYPQ2', 'B000RVYV20', 'B000RVZ3TA', 'B000RVZV4C', 'B000RVZXAO', 'B000RVZXSG', 'B000RW04R0', 'B000RW0560', 'B000RW06CS', 'B000RW077M', 'B000RW0FPQ', 'B000RW0GT6', 'B000RW0O02', 'B000RW0QFU', 'B000RW1M1C', 'B000RW1NVG', 'B000RW2DLA', 'B000RW2DUQ', 'B000RW3K9O', 'B000RW4WSM', 'B000RW5US8', 'B000RWBPAU', 'B000RWJ228', 'B000RWJQRE', 'B000RXN6SS', 'B000RXN6TM', 'B000RXN6XI', 'B000RXPN0W', 'B000RXPQSQ', 'B000RXXX6I', 'B000RY68PA', 'B000RY91I6', 'B000RYE10Y', 'B000RYE5Y6', 'B000RYP83I', 'B000RYPN38', 'B000RYUUD6', 'B000RYYM9E', 'B000RZPYZE', 'B000S1BFNC', 'B000S5JFZI', 'B000S5JGVG', 'B000S5JKRQ', 'B000S5MVJK', 'B000S5MW6C', 'B000S5MW80', 'B000S5Q2EK', 'B000S5RZEQ', 'B000S5V510', 'B000S7268E', 'B000S8CX7M', 'B000S91BI8', 'B000S95JT0', 'B000S9A34Q', 'B000S9IAZA', 'B000SAGSRQ', 'B000SBBEGA', 'B000SBBYTW', 'B000SHQ1QC', 'B000SI1NZK', 'B000SJJCX4', 'B000SKHSRU', 'B000SKMKEG', 'B000SKQD7G', 'B000SLP5M4', 'B000SLP5SS', 'B000SMEUD8', 'B000SMLJI2', 'B000SMPQDG', 'B000SMVH1G', 'B000SOYOTQ', 'B000SQC7UW', 'B000SSMJG2', 'B000SSQXV4', 'B000SSSUT2', 'B000SSZ7P2', 'B000SZUI6S', 'B000SZVQ5K', 'B000T02VZI', 'B000T03JDQ', 'B000T04DB8', 'B000T07FKY', 'B000T0A78G', 'B000T0A7EA', 'B000T0B5HS', 'B000T0CR9S', 'B000T4BC1I', 'B000T4IJZU', 'B000T4JDKA', 'B000T4KMUK', 'B000T4KZDO', 'B000T4LX4Y', 'B000T4OB6G', 'B000T4R4KQ', 'B000T4SI1K', 'B000T50RSQ', 'B000T517Y4', 'B000T5MQV2', 'B000T5PPQA', 'B000T7SGDC', 'B000T9G86C', 'B000T9K8ZO', 'B000T9LML8', 'B000T9MZPA', 'B000T9NKEU', 'B000T9PE9E', 'B000TAHFCC', 'B000TGHVGQ', 'B000TGJZ1K', 'B000TGLYL4', 'B000TGSM6E', 'B000TLQQOO', 'B000TNBFS4', 'B000TO8ND8', 'B000TZTPQ6', 'B000TZVCWG', 'B000U0DU34', 'B000U0OTW0', 'B000U1RZ0W', 'B000U1UOP0', 'B000U1WQB0', 'B000U6QTV8', 'B000UAPH5I', 'B000UB1N3M', 'B000UC900Y', 'B000UE3LA2', 'B000UF3SEA', 'B000UFJOEI', 'B000UFNNZO', 'B000UGBIFU', 'B000UGYYTW', 'B000UH5V3E', 'B000UJE6UG', 'B000UJEGT2', 'B000UJFR4A', 'B000UJHHLQ', 'B000UJHV4Y', 'B000UJLLE0', 'B000UMFQHA', 'B000UMHIXK', 'B000UMJP04', 'B000UMLDA4', 'B000UP8S0Y', 'B000UPFXZ2', 'B000UQ3Q4G', 'B000UUNS9U', 'B000UV8I7Q', 'B000UWI8FM', 'B000UXDETQ', 'B000UXIEPU', 'B000UXQG3W', 'B000UY9ODK', 'B000UYTD5Y', 'B000UZ4QY6', 'B000UZBR3O', 'B000V0ATWS', 'B000V0GTAO', 'B000V1K7FG', 'B000V1S2X0', 'B000V1S33Y', 'B000V4YFLA', 'B000V5VE40', 'B000V6767I', 'B000V6E01I', 'B000V6FY8Q', 'B000V6GB24', 'B000V8AWF4', 'B000V8GA46', 'B000V8KLAA', 'B000VB4AMM', 'B000VBC5CY', 'B000VC5QRY', 'B000VE49KW', 'B000VE65E0', 'B000VJJQUU', 'B000VJTZSI', 'B000VJZOKG', 'B000VJZOLK', 'B000VMRECE', 'B000VNVX5C', 'B000VO1EA0', 'B000VO1YSM', 'B000VO6DBU', 'B000VOBU9U', 'B000VPFO7S', 'B000VPFOFK', 'B000VPHC5U', 'B000VPLI6O', 'B000VPLI82', 'B000VPLI9G', 'B000VR1VE6', 'B000VR6HCM', 'B000VRG6L4', 'B000VSKPZG', 'B000VSM4MS', 'B000VTDE6W', 'B000VTFQCM', 'B000VTGZA4', 'B000VTH1MU', 'B000VTH526', 'B000VTHSP0', 'B000VTIT7Q', 'B000VTIT9O', 'B000VTIYTO', 'B000VTKLX6', 'B000VTM7MO', 'B000VTMSP0', 'B000VTMSRI', 'B000VTPQWW', 'B000VTPR08', 'B000VTRXUK', 'B000VUHQFG', 'B000VUJWU8', 'B000VUNEZM', 'B000VVP7IS', 'B000VVW9JI', 'B000VXF2I6', 'B000VXKUL0', 'B000VY7HTM', 'B000VY7HV0', 'B000VYDGZ6', 'B000VYHKO4', 'B000VZ4HRG', 'B000VZ8WC2', 'B000VZYS66', 'B000W00X1Y', 'B000W02786', 'B000W0EQ5S', 'B000W2YBNS', 'B000W348OO', 'B000W4VR9M', 'B000W5DAVO', 'B000W5MRW2', 'B000W72MDE', 'B000W77SC4', 'B000W89OP2', 'B000WA3DLG', 'B000WA4B1W', 'B000WA8KYG', 'B000WB511A', 'B000WBBJHA', 'B000WBP3QI', 'B000WCPE20', 'B000WDU4EM', 'B000WDVBRQ', 'B000WE0E7S', 'B000WEADEW', 'B000WEATBY', 'B000WEH44Y', 'B000WEQVDY', 'B000WF1AMU', 'B000WGJ71U', 'B000WIOGLO', 'B000WIRFD0', 'B000WITAWO', 'B000WJ3NN0', 'B000WKT0Z4', 'B000WKT0ZO', 'B000WKW59C', 'B000WKW8EY', 'B000WKW8GW', 'B000WM8V9I', 'B000WMAOE8', 'B000WMCEKK', 'B000WME8C2', 'B000WN4J9S', 'B000WOY5YQ', 'B000WS1Q4E', 'B000WS1QC6', 'B000WS3GRE', 'B000WTWXFE', 'B000WXD0XY', 'B000WY1JYU', 'B000WY3HPO', 'B000WYCS7M', 'B000WYEJPQ', 'B000WZKBGG', 'B000X0BTEI', 'B000X1QPT6', 'B000X1R0YU', 'B000X1WD56', 'B000X2T5EM', 'B000X2VNTW', 'B000X31R2E', 'B000X3LAR6', 'B000X6YA5C', 'B000X7QKOK', 'B000X8CC2S', 'B000XEFN1Y', 'B000XFVDG2', 'B000XG18XY', 'B000XHHKQM', 'B000XI6O2W', 'B000XIA0J0', 'B000XLZGNM', 'B000XNLXNM', 'B000XNQCYM', 'B000XP0CMS', 'B000XPJT7C', 'B000XPLY3Y', 'B000XPLYCU', 'B000XPNPZE', 'B000XPNQVM', 'B000XPNRVQ', 'B000XPNRWK', 'B000XPNTXW', 'B000XPNU68', 'B000XPNWU2', 'B000XPNYT6', 'B000XPO0IU', 'B000XPO2R4', 'B000XPO3EG', 'B000XPO43G', 'B000XPPR2S', 'B000XPPT58', 'B000XPPW6E', 'B000XPPWEG', 'B000XPQ1YG', 'B000XPQ2IQ', 'B000XPRNSO', 'B000XPRP96', 'B000XPRPUA', 'B000XPRQCC', 'B000XPRRFI', 'B000XPRSSE', 'B000XPRT4M', 'B000XPRUX2', 'B000XPRX5C', 'B000XPRYP6', 'B000XPRZPA', 'B000XPSI10', 'B000XPSIVA', 'B000XQ8VGQ', 'B000XQCMJS', 'B000XROMP4', 'B000XT3IFW', 'B000XT8JTM', 'B000XUUXB8', 'B000XXUV2G', 'B000XYFBMK', 'B000XZMY7O', 'B000XZUOPS', 'B000XZURPA', 'B000XZUUKC', 'B000XZUYY4', 'B000XZUZSE', 'B000XZV3EY', 'B000XZV3GM', 'B000XZV9R0', 'B000XZVAZ6', 'B000XZWS4I', 'B000XZWTVU', 'B000XZWUZA', 'B000XZWZFU', 'B000XZYXTG', 'B000XZZ0Y8', 'B000XZZ42Q', 'B000XZZ6F6', 'B000Y014ZG', 'B000Y016BS', 'B000Y01ENI', 'B000Y01FYQ', 'B000Y01MX0', 'B000Y01UXM', 'B000Y01Y2O', 'B000Y01YOW', 'B000Y02374', 'B000Y024PK', 'B000Y02BWQ', 'B000Y02I6A', 'B000Y03ZIK', 'B000Y040ZC', 'B000Y041WY', 'B000Y08846', 'B000Y0AEFW', 'B000Y1TQ78', 'B000Y30NAA', 'B000Y3580U', 'B000Y35C8S', 'B000Y5036M', 'B000Y60NFC', 'B000Y7LVES', 'B000Y7NUUQ', 'B000Y7O0GO', 'B000Y7O0Y6', 'B000Y7Q0M6', 'B000Y7T9CE', 'B000YC05AE', 'B000YC4QJU', 'B000YDAV3E', 'B000YDDWJO', 'B000YDYEDW', 'B000YE8L7G', 'B000YF2FGS', 'B000YF9U02', 'B000YFG0A0', 'B000YHJYZG', 'B000YID5OG', 'B000YIF4JU', 'B000YIH0VU', 'B000YK9XBI', 'B000YOLXL2', 'B000YPCI1K', 'B000YQ8UW0', 'B000YVYBYQ', 'B000YXOJBO', 'B000YYVLAK', 'B000YZOBM4', 'B000Z08U7U', 'B000Z0CI7S', 'B000Z0FE5G', 'B000Z20J2M', 'B000Z2OC2U', 'B000Z2OC34', 'B000Z31G3M', 'B000Z31GCS', 'B000Z33HM0', 'B000Z33HYI', 'B000Z33ICY', 'B000Z34EMM', 'B000Z36EIO', 'B000Z36F06', 'B000Z38DV0', 'B000Z38F4A', 'B000Z40S2G', 'B000Z44854', 'B000Z4M9NC', 'B000Z5VB4O', 'B000Z7567A', 'B000Z76V06', 'B000Z78NQG', 'B000Z7C9G6', 'B000Z7C9T8', 'B000Z7EMX4', 'B000Z7HN08', 'B000Z7INAW', 'B000Z7JJAU', 'B000Z7JK72', 'B000Z7LLQ0', 'B000Z7LLR4', 'B000Z8CUX2', 'B000Z8U0IY', 'B000ZGVW9M', 'B000ZJTPLG', 'B000ZJWZYU', 'B000ZKSYPS', 'B000ZLOGAE', 'B000ZLOGCC', 'B000ZLRL6A', 'B000ZLRT80', 'B000ZMVAXO', 'B000ZMYRJS', 'B000ZMZ8QE', 'B000ZNKELC', 'B000ZQ67V0', 'B000ZQ6OEA', 'B000ZQAB8A', 'B000ZQAE7I', 'B000ZRXJY2', 'B000ZSWUCS', 'B000ZU4GTQ', 'B000ZV3T8Y', 'B00101WA4C', 'B00102VV46', 'B00102VW6S', 'B00102XVN0', 'B00102XXUQ', 'B00102XXZG', 'B00102ZN40', 'B001032GK8', 'B001032HZW', 'B001032IDS', 'B00104AK6O', 'B00105Q4CW', 'B00105V5MQ', 'B001063C94', 'B00106OTJG', 'B0010B078S', 'B0010BQ3FY', 'B0010C44XQ', 'B0010CAN36', 'B0010CDSOM', 'B0010CGJQG', 'B0010CHSZM', 'B0010CJ4L8', 'B0010CKEHG', 'B0010CMJ4C', 'B0010CPAHU', 'B0010CR7SA', 'B0010CTD5U', 'B0010CV55Q', 'B0010CYHW4', 'B0010CZ8GS', 'B0010D2XR4', 'B0010DJ51G', 'B0010DKD26', 'B0010DXSSC', 'B0010EADBG', 'B0010EBEL4', 'B0010EKRYO', 'B0010GKX0K', 'B0010GNU9Q', 'B0010GVDW2', 'B0010HAKVQ', 'B0010HCI66', 'B0010HCICK', 'B0010HDS1U', 'B0010HDS7O', 'B0010HGCTU', 'B0010HHAXC', 'B0010HHEEM', 'B0010HL5B0', 'B0010HLE8O', 'B0010HS0PY', 'B0010HS0QI', 'B0010K6TWM', 'B0010K6TXQ', 'B0010KCP98', 'B0010KGD4Q', 'B0010KTC26', 'B0010SHU18', 'B0010SR8G0', 'B0010SZIQM', 'B0010V1QA6', 'B0010VQO8A', 'B0010X2L8U', 'B0010XSZ3A', 'B0010Z3L14', 'B001123EC2', 'B00112D91S', 'B001132AR6', 'B00113LUTA', 'B00113NY9Y', 'B00113P17M', 'B00113ZULE', 'B001140OZ0', 'B00114LCKG', 'B00114WS6S', 'B00114YSM0', 'B00117TFL6', 'B00118Q8CE', 'B00118W6JI', 'B00119MJM6', 'B00119QDPA', 'B0011BF32C', 'B0011FOEQ4', 'B0011FORIE', 'B0011FQK5C', 'B0011FUIPA', 'B0011G656K', 'B0011LTT86', 'B0011U7WPO', 'B0011V4AEY', 'B0011W5LTQ', 'B0011WFZHY', 'B0011WHG5S', 'B0011WJ638', 'B0011XDEPS', 'B0011YVHXS', 'B0011Z87I0', 'B00121WJL4', 'B00121ZGA0', 'B00122FD48', 'B00123APCW', 'B00125OD9Q', 'B00125VMKY', 'B00125W47E', 'B00126E3Z4', 'B00126HUFE', 'B00126HUGS', 'B00126JWT6', 'B00126LTFG', 'B00126MY96', 'B00126OWGO', 'B00127HZG2', 'B00127HZI0', 'B00127LS1U', 'B00128WK1G', 'B0012F2WT4', 'B0012FE1SO', 'B0012GR6YE', 'B0012HKP6O', 'B0012HMBXE', 'B0012HPGUO', 'B0012HQEKK', 'B0012I8F60', 'B0012I8GMS', 'B0012MIVW4', 'B0012N8EG6', 'B0012NGG48', 'B0012NS7HM', 'B0012OO9YG', 'B0012PTJAE', 'B0012Q7B5S', 'B0012Q9DTK', 'B0012QB6AO', 'B0012SO47E', 'B0012T6FSO', 'B0012T82MQ', 'B0012TBIAE', 'B0012XZ7NY', 'B00130M446', 'B001325RGG', 'B00132EJJW', 'B00132EJKG', 'B001338GSG', 'B001338HYY', 'B001338JEW', 'B00133A19S', 'B00134T67K', 'B00135HFK4', 'B00135HGH6', 'B00135TTRQ', 'B001383XS4', 'B001383XT8', 'B0013BPQ9U', 'B0013CF3M4', 'B0013CG6RK', 'B0013CY00A', 'B0013G2I2S', 'B0013G8G24', 'B0013I3ADC', 'B0013LOCQI', 'B0013LRYD6', 'B0013MLBFM', 'B0013MS0RE', 'B0013MSIA8', 'B0013N3VWM', 'B0013NDBS6', 'B0013NFZHQ', 'B0013NG4LW', 'B0013O4OZ4', 'B0013O746K', 'B0013O8UR2', 'B0013O95VM', 'B0013RJNJS', 'B0013UUILC', 'B0013V1BYY', 'B0013XUAB2', 'B0013XWB14', 'B0013XXX8O', 'B0013Y0340', 'B0013YGMRC', 'B00143XEH8', 'B00144GT0G', 'B0014598WQ', 'B00145CU8A', 'B00145EVJ6', 'B00149FSH6', 'B0014A2RC4', 'B0014BOXZC', 'B0014C97KW', 'B0014ID036', 'B0014ID03Q', 'B0014IEBM0', 'B0014IK2IM', 'B0014J9TOY', 'B0014MYSD8', 'B0014MYSII', 'B0014MYSRY', 'B0014MYTJ6', 'B0014MYTQO', 'B0014N0D40', 'B0014N0DAO', 'B0014N0DBI', 'B0014N0DGS', 'B0014N268G', 'B0014N475G', 'B0014N5T8A', 'B0014SRYJW', 'B0014STI7S', 'B0014WWNUS', 'B0014X2BE0', 'B00150WENK', 'B00151UVZ2', 'B00154KSA2', 'B00154OJOI', 'B00158CEIM', 'B00158FIVW', 'B0015B0EB8', 'B0015B0OZO', 'B0015CM64U', 'B0015GTHGG', 'B0015GTOSW', 'B0015ICZMM', 'B0015ISYQI', 'B0015J6ZAY', 'B0015MCGG8', 'B0015MJE22', 'B0015NT6KQ', 'B0015P6HSS', 'B0015QAWKQ', 'B0015QF5OY', 'B0015RIN6U', 'B0015UEBUO', 'B0015URXIG', 'B0015VEZ22', 'B0015XIAYY', 'B0015YM828', 'B0015ZBMK6', 'B00160PRBU', 'B00162VU7I', 'B00162VUP0', 'B00162VV68', 'B00162VV6S', 'B00162VV7W', 'B00162VVN6', 'B00162VVVS', 'B00162XTZO', 'B00162XUOY', 'B00162XVCK', 'B00162XVNY', 'B00162ZSW6', 'B00162ZSWQ', 'B001631N9M', 'B001633DGS', 'B001633DH2', 'B001633DI6', 'B00164KP0O', 'B00166B1O6', 'B00166BQ1E', 'B00166GG82', 'B00166QCKE', 'B00166XRVQ', 'B00167356C', 'B001677QO4', 'B00167IWR4', 'B00167QUWI', 'B00167UQLO', 'B00167UQMI', 'B00167XGNE', 'B00167ZKOC', 'B00169KU7C', 'B0016ARZ9C', 'B0016BFBO2', 'B0016BKT1M', 'B0016BS8J2', 'B0016H25PE', 'B0016H8RY2', 'B0016H8S1O', 'B0016H8S28', 'B0016H9RH8', 'B0016HDP4Y', 'B0016HDP58', 'B0016LVAOC', 'B0016MFJCA', 'B0016MFJDO', 'B0016MHIWE', 'B0016MIZ80', 'B0016MJ1T2', 'B0016ML1C2', 'B0016MLUKU', 'B0016MN1U2', 'B0016MN4I6', 'B0016MOC28', 'B0016OIIX0', 'B0016OMSYU', 'B0016QTHBU', 'B0016RTDIG', 'B0016ZQXKY', 'B0016ZT60S', 'B0016ZU5ZI', 'B0016ZZKJO', 'B0017002U0', 'B0017024Y2', 'B00170250A', 'B00170BD5S', 'B00170GDPS', 'B00170R5AU', 'B001715G5K', 'B001727KOY', 'B00172EAD8', 'B00172TQ3C', 'B00172UV6S', 'B00172UVAO', 'B00172UVG8', 'B00172YM40', 'B00172YM9U', 'B001731R6A', 'B00173875Y', 'B00175RNR0', 'B00178GVHU', 'B00178IXYY', 'B00178JDCK', 'B00178LDW8', 'B00178M23C', 'B001792BAU', 'B001796V0G', 'B0017D4ELU', 'B0017H4EBG', 'B0017HX32M', 'B0017HX336', 'B0017HZ47Y', 'B0017I0KE0', 'B0017I2CNM', 'B0017I2CO6', 'B0017I2CPA', 'B0017JIWXA', 'B0017KCPL4', 'B0017N5C9I', 'B0017OK4RC', 'B0017OS7JY', 'B0017PLYCK', 'B0017PRWJY', 'B0017R3732', 'B0017SZ4OG', 'B0017T7XCG', 'B0017TU0E4', 'B0017VQXKC', 'B0017WG55Y', 'B0017Z53I6', 'B00181ER7C', 'B00181T20O', 'B00181YT9S', 'B00184YBCA', 'B00185WNXS', 'B001865TYC', 'B00186FIN4', 'B00186FKXC', 'B00186HCX8', 'B00186J790', 'B00186J7JA', 'B00186JFW4', 'B00186L9X2', 'B00187YQU4', 'B001891ANI', 'B0018A21QC', 'B0018A5R5O', 'B0018BK23K', 'B0018BMJZY', 'B0018CEOA6', 'B0018D84YC', 'B0018GR9VI', 'B0018K16L8', 'B0018L62CK', 'B0018L62DE', 'B0018LZBTU', 'B0018LZZC8', 'B0018O0VRO', 'B0018P99LW', 'B0018PW0NQ', 'B0018PW1L2', 'B0018PXVZM', 'B0018S4DEM', 'B0018S4X2Y', 'B0018S6EJO', 'B0018SJLFS', 'B0018SNCVM', 'B0018STLBC', 'B0018STX4C', 'B0018SVNPY', 'B0018SW7MC', 'B0018SY3CY', 'B0018SY8CE', 'B0018SYGH6', 'B0018SYGNA', 'B0018SYGR6', 'B0018SYT00', 'B0018T3OCI', 'B0018T61SC', 'B0018T62KE', 'B0018TAEF8', 'B0018TAITA', 'B0018TBECU', 'B0018TBEPW', 'B0018TC3I4', 'B0018TC7BW', 'B0018TC7J4', 'B0018TDGF8', 'B0018TDHHK', 'B0018TDULI', 'B0018TE09Y', 'B0018TE454', 'B0018TF0O8', 'B0018TF0Q6', 'B0018TFBOC', 'B0018TFBTC', 'B0018TFC46', 'B0018TG8HQ', 'B0018THTJC', 'B0018TIAA4', 'B0018TIADQ', 'B0018TIAL8', 'B0018TIB2G', 'B0018TIYIM', 'B0018TJHO2', 'B0018TKBA6', 'B0018TQHCM', 'B00191WMQE', 'B0019335UO', 'B001942176', 'B001943W4C', 'B001943W92', 'B001986E34', 'B0019A637Y', 'B0019ABOO6', 'B0019EJXNG', 'B0019ERKMW', 'B0019FX5F2', 'B0019FYE34', 'B0019H6750', 'B0019ICXE8', 'B0019LQRT2', 'B0019NKIXQ', 'B0019QI62S', 'B0019R4TRI', 'B0019R8U7I', 'B0019UJ1P0', 'B0019ZHDD2', 'B001A2FICC', 'B001A4WINW', 'B001A5C2DM', 'B001A5G9V8', 'B001A5GSDC', 'B001A5J2EY', 'B001A6G6CY', 'B001A6IGDG', 'B001AEA0G4', 'B001AEBZOA', 'B001AG3ZI2', 'B001AGYG6M', 'B001AH83UG', 'B001AHC2YE', 'B001AIQGUO', 'B001AJKIFW', 'B001AK5GTO', 'B001AK9AWI', 'B001AL0TZO', 'B001ANI6FW', 'B001ANZTCK', 'B001AQ0GPM', 'B001AS5DQC', 'B001AS6OYC', 'B001ASOP4S', 'B001AUSOAW', 'B001AVSAU0', 'B001AVW1IC', 'B001AVW1IW', 'B001AWDFCM', 'B001AWUVX8', 'B001AWUW3C', 'B001AWWN7U', 'B001AWY4WW', 'B001AX06KK', 'B001AX7CXY', 'B001AZJTGK', 'B001B116GO', 'B001B132JS', 'B001B16ATC', 'B001B1Q5C4', 'B001B2MWNY', 'B001B2SA30', 'B001B3L8KG', 'B001B5DBEA', 'B001B6Z2L4', 'B001B82JUO', 'B001B850DM', 'B001B9JZ78', 'B001BAHF6U', 'B001BAJ5OU', 'B001BAJNE2', 'B001BAJO46', 'B001BALDCW', 'B001BAMO5W', 'B001BAMOAM', 'B001BAMOE8', 'B001BDTNBM', 'B001BET8IO', 'B001BFR7EK', 'B001BJCC5K', 'B001BJWCXC', 'B001BM7TY6', 'B001BP58CI', 'B001BR7N8I', 'B001BS13GU', 'B001BXXMSC', 'B001BYK41O', 'B001BYLWD8', 'B001BZ3L4K', 'B001C1A5C4', 'B001C1A6CI', 'B001C1C8GK', 'B001C1C8TW', 'B001C57Q1I', 'B001C5EWC4', 'B001C74GLY', 'B001CC3CV4', 'B001CCMP0S', 'B001CDSDDU', 'B001CEB6RO', 'B001CGXM6K', 'B001CITVNQ', 'B001CIZA7W', 'B001CIZA8G', 'B001CJ17GY', 'B001CJ2QZU', 'B001CJ2R04', 'B001CJ45KY', 'B001CKFG10', 'B001CKFS3Q', 'B001CM7U5I', 'B001CQ8VJS', 'B001CWHI1Y', 'B001D02914', 'B001D7UYBO', 'B001D9Z07K', 'B001DC9MJY', 'B001DD465I', 'B001DDU8PU', 'B001DE5YY4', 'B001DIRSBM', 'B001DJTB0C', 'B001DJW4OC', 'B001DJZNHW', 'B001DTNKNG', 'B001DW6RJC', 'B001E33176', 'B001E36H8Q', 'B001E3BSKS', 'B001E3SFKO', 'B001E43SK0', 'B001E4I8J6', 'B001E6VIOQ', 'B001E70C5G', 'B001E7EN3S', 'B001E95KEC', 'B001E95KEW', 'B001E95KFQ', 'B001E95KG0', 'B001E95KHO', 'B001E95KJC', 'B001E96UMS', 'B001E96UNC', 'B001E9X7X8', 'B001E9Z0Z6', 'B001EA1UC2', 'B001EBISR6', 'B001EBYQAO', 'B001EC5ECW', 'B001ECQONU', 'B001ECQOO4', 'B001ECQQ8I', 'B001ECQQB0', 'B001EEO8IQ', 'B001EH77R2', 'B001EHWD0I', 'B001EIMZXW', 'B001EKECC2', 'B001EL6I8W', 'B001EL9DL6', 'B001ELJTCY', 'B001ELP5WM', 'B001ELVCDS', 'B001ENZ3F4', 'B001EO4DAO', 'B001EO9UFM', 'B001EOXCOW', 'B001EQTY74', 'B001ER0M0G', 'B001ESK5NO', 'B001EW5YQS', 'B001EWN72Q', 'B001EYJRFA', 'B001EZIEVW', 'B001F2PHO6', 'B001F4P9UG', 'B001F4QHL6', 'B001F4SGXS', 'B001F4SHBY', 'B001F4TQD2', 'B001F7NX60', 'B001F7Z40I', 'B001F8KNOE', 'B001F9LFMW', 'B001FA9WW6', 'B001FB5YY0', 'B001FB5Z1C', 'B001FB5Z3U', 'B001FB5Z4E', 'B001FB5Z6C', 'B001FB5Z8K', 'B001FB5Z8U', 'B001FB5Z94', 'B001FB5Z9E', 'B001FB5Z9O', 'B001FB63H2', 'B001FB63HC', 'B001FB63HW', 'B001FB63I6', 'B001FB63IQ', 'B001FD9L9C', 'B001FDBUIW', 'B001FDBV8G', 'B001FIMZIG', 'B001FO7P9O', 'B001FPKHNO', 'B001FSJC2S', 'B001FSJC5A', 'B001FSJC5K', 'B001FSZR4U', 'B001FUDJK2', 'B001FWYASA', 'B001FWYAX0', 'B001FWYB0W', 'B001FWYB48', 'B001FWYB4I', 'B001FWYB4S', 'B001FXQDVQ', 'B001G3TJXO', 'B001G3VAZ4', 'B001G3VC6Q', 'B001G411MK', 'B001G43G96', 'B001G4Z49G', 'B001G53NZC', 'B001G7BRW6', 'B001G7C17Q', 'B001G7F6TG', 'B001G7F7L8', 'B001G7FJ8E', 'B001G7H8B0', 'B001G7HA22', 'B001G7UWIQ', 'B001G7X0ZI', 'B001G9ANIS', 'B001G9G670', 'B001GAFVNE', 'B001GAQY3K', 'B001GCWILU', 'B001GD07SK', 'B001GDJQTG', 'B001GF9AOK', 'B001GF9AS6', 'B001GG9WAQ', 'B001GGYF4E', 'B001GH4H3W', 'B001GJEHHQ', 'B001GL3B4Y', 'B001GMVBEK', 'B001GMXFW6', 'B001GTB814', 'B001GZ91MQ', 'B001GZFYLI', 'B001H2P294', 'B001H2QCMU', 'B001H31IGY', 'B001H3EV9K', 'B001H42HD6', 'B001H5KP0M', 'B001H5OSCI', 'B001HGOXDG', 'B001HJ2HQS', 'B001HN7VKG', 'B001HN9UWI', 'B001HNA6ZI', 'B001HNC02U', 'B001HNE622', 'B001HQ9TD0', 'B001HS0X8S', 'B001HXII80', 'B001I1PWTY', 'B001I2GY1I', 'B001I51JNS', 'B001I84CLQ', 'B001I85Z80', 'B001I8A4TU', 'B001I8ITQA', 'B001I9T67U', 'B001I9V8NK', 'B001IA07SG', 'B001IAHN92', 'B001ICVM2O', 'B001IFZF06', 'B001IKBM62', 'B001IPUIT4', 'B001IPUJJI', 'B001IUQ99M', 'B001IYODDC', 'B001IZIFGW', 'B001J1JRN0', 'B001J1K536', 'B001J1LG2U', 'B001J1O2JY', 'B001J1PYG4', 'B001J1RXQ8', 'B001J1SX94', 'B001J2K1W0', 'B001J3WBL8', 'B001J5RYXQ', 'B001J6YNBG', 'B001J8EZ4Y', 'B001J8INY2', 'B001J8LJWK', 'B001JDQQSM', 'B001JI2KHS', 'B001JJ90K2', 'B001JJB2GM', 'B001JJFR8Q', 'B001JJSP30', 'B001JL4WUS', 'B001JNARF0', 'B001JQE960', 'B001JQFYAU', 'B001JS7K8C', 'B001JS9GYS', 'B001JVRNVS', 'B001JYNDNM', 'B001KACZJI', 'B001KD2CPC', 'B001KF1F12', 'B001KI4A7U', 'B001KIU7LI', 'B001KJF0BE', 'B001KJF0DC', 'B001KJJO9S', 'B001KL10A2', 'B001KLW2WM', 'B001KM3JOQ', 'B001KNI1PM', 'B001KNSSB4', 'B001KQ5AYO', 'B001KXEJLW', 'B001KXKGBY', 'B001KYGNT2', 'B001KZ0S9W', 'B001KZH6WE', 'B001L0VH3W', 'B001L5U0Y4', 'B001L5U0Z8', 'B001L8IILI', 'B001L8IJ0I', 'B001L8IJ6C', 'B001L8IJDU', 'B001L8IJSA', 'B001L8IKGQ', 'B001L8IKLG', 'B001L8KE06', 'B001L8KGFE', 'B001L8MBBQ', 'B001L8MBCU', 'B001L8MDKK', 'B001L8NFCU', 'B001L8NGJ2', 'B001L8NGYW', 'B001L8NHOQ', 'B001L8PHUI', 'B001L8PIFW', 'B001L8PIPW', 'B001L8PKDC', 'B001LG2L5Y', 'B001LG7TUG', 'B001LG9YU4', 'B001LNN2DC', 'B001LNN2E6', 'B001LNN2GY', 'B001LNN30E', 'B001LNN30O', 'B001LNN31S', 'B001LNN322', 'B001LNO9I4', 'B001LNO9IE', 'B001LNO9IY', 'B001LNO9J8', 'B001LNO9JI', 'B001LNO9QG', 'B001LO6Q7K', 'B001LQU5W0', 'B001LRJ6KG', 'B001LRLE60', 'B001LTTP1E', 'B001LTZZAO', 'B001LTZZSG', 'B001LU1SFO', 'B001LU2THU', 'B001LU2X7Q', 'B001LU37C6', 'B001LU399M', 'B001LU39F6', 'B001LXMXU0', 'B001LYDI6C', 'B001M59AS0', 'B001M5CZO6', 'B001MLYWV4', 'B001MMYSWQ', 'B001MMYVZU', 'B001MTKAD0', 'B001MW61ZS', 'B001MW6WB6', 'B001MW9TF2', 'B001MW9U1U', 'B001MX39RU', 'B001MX3WWC', 'B001MX5ZEU', 'B001MX7O3K', 'B001MX9K5K', 'B001MXAPC2', 'B001MXCY58', 'B001MXG49U', 'B001MXJZX2', 'B001MZQEZ2', 'B001MZUB92', 'B001MZUCR8', 'B001MZUD7C', 'B001MZW546', 'B001MZZNTK', 'B001N0LI3Y', 'B001N3LZ9I', 'B001N3SCS0', 'B001NC5TF0', 'B001ND6S4A', 'B001NEBLLY', 'B001NEKCQ4', 'B001NFIDHI', 'B001NFPGDC', 'B001NH87MC', 'B001NI6OCQ', 'B001NI6OJE', 'B001NIC6X2', 'B001NPDRTM', 'B001NPDRUG', 'B001NPDS5U', 'B001NTX914', 'B001NVPO7Y', 'B001NXDSJS', 'B001NXDSK2', 'B001NXDSKM', 'B001NXDSKW', 'B001NXKHA6', 'B001NXXD0C', 'B001NYNY4G', 'B001O1RTJY', 'B001O207KG', 'B001O4JX5O', 'B001O5VZ0E', 'B001O8UAV6', 'B001O9X51W', 'B001OAGQ80', 'B001OBRLAQ', 'B001ODMYO2', 'B001OFVAHC', 'B001OHXCXU', 'B001OI4SYQ', 'B001OI52FK', 'B001OI6D4O', 'B001OI6LP0', 'B001OIDXVU', 'B001OLW0J8', 'B001OLZYUU', 'B001OMI3N4', 'B001OMI40G', 'B001OMI41A', 'B001OQC70K', 'B001OQC746', 'B001OQC75K', 'B001OSSOGE', 'B001OSUT30', 'B001OSW7Q2', 'B001OSW9LA', 'B001OTZ8DA', 'B001OXEDA0', 'B001P33HVK', 'B001P3QJJM', 'B001P3SN82', 'B001P3XFPI', 'B001P5HL3S', 'B001P7QSE4', 'B001P8LXDY', 'B001PB3VUY', 'B001PB3WOO', 'B001PB42NO', 'B001PGMNRG', 'B001PGXHWQ', 'B001PGXHXA', 'B001PGXI2A', 'B001PGXI34', 'B001PGXIBG', 'B001PGXIG6', 'B001PGXIIE', 'B001PGXIJS', 'B001PGXIK2', 'B001PGXILG', 'B001PGXIQG', 'B001PGXISE', 'B001PGXIVG', 'B001PGXIZW', 'B001PGXJJW', 'B001PGXJWY', 'B001PGXK46', 'B001PGXKC8', 'B001PGXKE6', 'B001PKHLPG', 'B001PKJDCA', 'B001PKW4K8', 'B001PLG084', 'B001PLLQPQ', 'B001PLLQRY', 'B001PMVEGG', 'B001PPXFAG', 'B001PPZF5E', 'B001PT1AQS', 'B001PYK1BS', 'B001PZ79LC', 'B001PZD394', 'B001Q3KSBQ', 'B001Q3KSRU', 'B001Q3KSZW', 'B001Q3KT06', 'B001Q3KT0G', 'B001Q3KT4M', 'B001Q3KTH4', 'B001Q3KTLU', 'B001Q4PDHO', 'B001Q5S99M', 'B001Q5SGJK', 'B001Q5WMC2', 'B001Q5XYJC', 'B001Q6037W', 'B001Q8DJO4', 'B001Q8QPA4', 'B001Q9EE4W', 'B001Q9F34W', 'B001Q9F360', 'B001QATT0K', 'B001QCM3OM', 'B001QCXSDW', 'B001QCXSGE', 'B001QIL87O', 'B001QJGYIG', 'B001QJOI8E', 'B001QMM63K', 'B001QOGLW0', 'B001QTGRGK', 'B001QUL9OY', 'B001QUPFV2', 'B001QVLUAQ', 'B001QWBM62', 'B001QXCYZY', 'B001QYMM5A', 'B001R2I12Y', 'B001R2K3YS', 'B001R2KCOY', 'B001R2LQWQ', 'B001R2MJ2W', 'B001R2NR3C', 'B001R2O0BK', 'B001R2OSIU', 'B001R2POHE', 'B001R2QGOY', 'B001R2QTP0', 'B001R2RA4E', 'B001R2TEWU', 'B001R5G70O', 'B001R6G514', 'B001R747SG', 'B001R76D42', 'B001RAAIRW', 'B001RBH20C', 'B001RBQFCI', 'B001REJX1U', 'B001RF61VY', 'B001RF88J2', 'B001RF8GT4', 'B001RFBEPM', 'B001RFBMNQ', 'B001RFBMOU', 'B001RFDBXK', 'B001RFDH5C', 'B001RIY5NM', 'B001RIZELE', 'B001RMDQCY', 'B001RMDQD8', 'B001RMFSDE', 'B001RMH6JS', 'B001RNH8YA', 'B001RNHD86', 'B001RNHDF4', 'B001RNHE80', 'B001RNHF4I', 'B001RNHFJI', 'B001RNHG2Y', 'B001RNHG6K', 'B001RNOHHG', 'B001RNZQH6', 'B001ROW362', 'B001ROZT8G', 'B001RTTCAC', 'B001RTTCPW', 'B001RTTCQG', 'B001RXY44C', 'B001SAKLQ4', 'B001SBN6BA', 'B001SEQQG4', 'B001SGWKR6', 'B001SN7QXW', 'B001SN7QZU', 'B001SN7R5O', 'B001SN7V82', 'B001SN7VAA', 'B001SQAJ8S', 'B001T0HFMQ', 'B001T21J80', 'B001T9O5VG', 'B001T9O60Q', 'B001TJLYO2', 'B001TLRJAI', 'B001TMCVDW', 'B001TOG6WW', 'B001TOI5QM', 'B001TX2ZJQ', 'B001TY0FK6', 'B001U0ORN0', 'B001U0OWSU', 'B001U1QLO2', 'B001U2IH6Q', 'B001U3W2B6', 'B001U5JFNM', 'B001U5NYD4', 'B001U5PCFM', 'B001U70FQ6', 'B001U7ANU4', 'B001U7RQBS', 'B001UANV5A', 'B001UAVN6E', 'B001UJCDBO', 'B001UJERGS', 'B001UJH0XU', 'B001UK1PJ4', 'B001UNVJ06', 'B001UNVJ24', 'B001UO3MQY', 'B001UWGS6M', 'B001V5FYAE', 'B001V5JKB8', 'B001V5K2ME', 'B001V5K2R4', 'B001V5K2RE', 'B001V5K2RO', 'B001V5K2RY', 'B001V5K2S8', 'B001V5K2SI', 'B001V5K2SS', 'B001V5K2T2', 'B001V6BW4U', 'B001V6I13A', 'B001V6M1N6', 'B001V7M7RK', 'B001V7RNII', 'B001V7RNIS', 'B001V7RNJ2', 'B001V7RNJW', 'B001V8F7SA', 'B001V9XDUS', 'B001VC22G6', 'B001VEHXFE', 'B001VFT1YO', 'B001VIOCK4', 'B001VMG5K0', 'B001VMOD2C', 'B001VNHYHW', 'B001VNTBZU', 'B001VO7FPC', 'B001VOE2HG', 'B001VS3V92', 'B001VS84N0', 'B001W3BM24', 'B001W99HE8', 'B001W9AXBO', 'B001WAKUEI', 'B001WLSYW2', 'B001WM6WNE', 'B001WMC6WU', 'B001WMFREO', 'B001WMFSTI', 'B001XJBWXG', 'B001XURLDA', 'B001XWD3LC', 'B001ZIQEYW', 'B002021HIK', 'B002026DLG', 'B002026DR0', 'B0020288LO', 'B00202CIY2', 'B00204BL84', 'B0020YH3DQ', 'B0020YHXM2', 'B0021ESJ1A', 'B0021EVDOK', 'B0021VIMQU', 'B0021VPOHA', 'B0022MXW0O', 'B0022RQP1C', 'B0023BYDHK', 'B0023C6H64', 'B0023GNP9W', 'B0023LQE7M', 'B00240BI14', 'B002433RXI', 'B00243FPTM', 'B0024702P0', 'B002474FI0', 'B00247PMV4', 'B002497ZJ4', 'B00249PHYO', 'B0025P9OB4', 'B0025PDOM4', 'B0025PM6DM', 'B0025V1REU', 'B0025VLQVE', 'B0025VLQVO', 'B0025VLQY6', 'B0025Y536A', 'B00260IWWU', 'B00263JCE4', 'B00263JCSK', 'B00266HBSU', 'B00266J8C2', 'B00266N6L6', 'B00267OCTA', 'B00267QD8S', 'B00267QEAK', 'B0026FCKTG', 'B0026GDPJO', 'B0026IC6RY', 'B0026IC6S8', 'B0026IC6XI', 'B0026KAUOI', 'B0026RB0G8', 'B0026RTFPQ', 'B0026XH8IQ', 'B00275F2GS', 'B00275G6PY', 'B00275G6Y0', 'B00275G74E', 'B00275G74O', 'B00275G7MG', 'B00275G8D4', 'B0027842S4', 'B002792GCW', 'B0027B1VDU', 'B0027B41P0', 'B0027DO66M', 'B0027EH4FQ', 'B0027I28E4', 'B0027LSWTQ', 'B0027LUYHO', 'B0027M070W', 'B0027M30Z6', 'B0027OPLCE', 'B0027UVTQA', 'B0027V760M', 'B0027XJPO0', 'B0027ZMRCU', 'B0027ZYMMS', 'B00282WZG0', 'B0028448A4', 'B002860LI0', 'B0028GWJCG', 'B0028LDR68', 'B0028QYSB6', 'B0028R8ACS', 'B0028RCZSS', 'B0028WT6WQ', 'B0029086IW', 'B00298JJH6', 'B0029F21MO', 'B0029F21NS', 'B0029L7JRA', 'B0029L7KRY', 'B0029NG4P6', 'B0029NGGHM', 'B0029PJ4BU', 'B0029RGLVO', 'B0029RKDFO', 'B0029RKM78', 'B0029RPOCQ', 'B0029RQQ3C', 'B0029RRGHC', 'B0029RRGNG', 'B0029RVWUO', 'B0029SYO0S', 'B0029UV6VG', 'B0029WOLRU', 'B002A0WSS0', 'B002A3KSZW', 'B002A66PVU', 'B002A7PA0G', 'B002A7UE8O', 'B002AEMUJ8', 'B002AEQSUA', 'B002AF4I24', 'B002AGUPV6', 'B002AKCK38', 'B002AKKO72', 'B002AKKO7C', 'B002AKKO90', 'B002AKKO9K', 'B002AKKOF4', 'B002AKKOFY', 'B002AKONB0', 'B002AKTLVM', 'B002AKTPA4', 'B002AKTRYS', 'B002AKVQK6', 'B002AMU9G6', 'B002AMU9UC', 'B002AOA5NG', 'B002AQNGIU', 'B002AT4UJQ', 'B002AVYWBU', 'B002B333LW', 'B002B3CFP2', 'B002B55TRG', 'B002B8EWVW', 'B002B96OSA', 'B002BAW0GE', 'B002BAZNHW', 'B002BK55H0', 'B002BO53LO', 'B002BRQS6A', 'B002BSH9SU', 'B002BUEKCG', 'B002BXLZ7Q', 'B002BZX76G', 'B002C49EAE', 'B002C4N8TM', 'B002C4OUMQ', 'B002C4QWXQ', 'B002C4QWZO', 'B002C4SM5W', 'B002C4SP3G', 'B002C741B8', 'B002C741BI', 'B002CJWAI2', 'B002CM1HG0', 'B002CM3I08', 'B002CMEJ2O', 'B002CMLPYO', 'B002CMLPYY', 'B002CMLQ0M', 'B002CMLQ8E', 'B002CVUNMA', 'B002CVUNO8', 'B002CVUNXE', 'B002CWQTXG', 'B002DC8OE2', 'B002DP1FTU', 'B002DQ3YP2', 'B002DYJEMQ', 'B002E2R81G', 'B002E5C49E', 'B002EAHOJE', 'B002EB68RC', 'B002EDM9AU', 'B002EOUN4S', 'B002EOUOK6', 'B002EWM1EA', 'B002EWPX54', 'B002EWV7Q8', 'B002EWV8IU', 'B002EWV8NA', 'B002FL2L1I', 'B002FOFWA2', 'B002G1UT4S', 'B002G1UT5C', 'B002G22AV2', 'B002GHBYXW', 'B002GHBYZ0', 'B002GHBZ54', 'B002GIHRMI', 'B002GRBA2M', 'B002GUED8M', 'B002GYWBIM', 'B002GYWBJ6', 'B002GYWBJG', 'B002GYWBK0', 'B002GYWBKK', 'B002HF483G', 'B002HFAAVA', 'B002HFC6P8', 'B002HFDP9E', 'B002HFDPVW', 'B002HFEB3I', 'B002HFFIIK', 'B002HFFUGK', 'B002HFQ88Y', 'B002HHLNXC', 'B002HHLO18', 'B002HHM34K', 'B002HHM3AY', 'B002HJBJPM', 'B002HM0JMS', 'B002HMRBII', 'B002HQQ02W', 'B002IC1D4U', 'B002IIY3M8', 'B002IJJVFG', 'B002IJK0HY', 'B002IKLITW', 'B002ISDD1K', 'B002J0KEYQ', 'B002J0KEZA', 'B002JCSP40', 'B002JR2XMA', 'B002KEAT78', 'B002KG9LX4', 'B002KGT81E', 'B002KI8X40', 'B002KLEGJ8', 'B002L2E1TQ', 'B002L2JS0I', 'B002LFCDPM', 'B002LVQM9E', 'B002M8GBDI', 'B002M8GBT2', 'B002MKTQO2', 'B002MVEW7M', 'B002N19O2Y', 'B002N4XMJ2', 'B002N4Z934', 'B002N4ZBE6', 'B002NA9UPQ', 'B002NB6FX0', 'B002NF6H66', 'B002NG7DEK', 'B002NGMBGA', 'B002NGMBGK', 'B002NLSCPE', 'B002NLW570', 'B002NM076A', 'B002NM0HHY', 'B002NM2T48', 'B002NM7KKQ', 'B002NTSS8W', 'B002NTWV9E', 'B002NUC09O', 'B002O0IIG2', 'B002OLYPAO', 'B002ONLW8A', 'B002ONMWUM', 'B002OO333Q', 'B002P3KINE', 'B002PAW6AU', 'B002PD6T6O', 'B002PEBB48', 'B002PEGZ1C', 'B002PXA2CQ', 'B002Q0WSMK', 'B002Q0WTAG', 'B002Q0WTC4', 'B002Q0WTCE', 'B002Q0WTDS', 'B002Q0WU3W', 'B002Q7FWZ8', 'B002QGU4QG', 'B002QHXX7W', 'B002QXLJ6S', 'B002QZ402Q', 'B002R02CTI', 'B002R9ILOY', 'B002RC9QOK', 'B002RGPQJ0', 'B002RXXOX8', 'B002S1I164', 'B002S54DF8', 'B002SCZRX8', 'B002SQJL9U', 'B002SSA79G', 'B002SSUR3C', 'B002SW35KA', 'B002T45X1G', 'B002TQSQOA', 'B002TTKI84', 'B002TUTUIM', 'B002U7JGVA', 'B002UAF1PW', 'B002UK5EDG', 'B002UR1C6C', 'B002URT2BY', 'B002UXFV40', 'B002UXS4JO', 'B002VIPUVS', 'B002VJBNBI', 'B002VJOIII', 'B002VKAUR0', 'B002VOOOKA', 'B002VRCUQ2', 'B002VRXR9G', 'B002VX0DCE', 'B002VYJDYW', 'B002W0Z8DU', 'B002WJC4QU', 'B002WJHFXC', 'B002WLIY4O', 'B002X8Y4SQ', 'B002XUCZI0', 'B002XZOZ7O', 'B002YOJF4W', 'B002YVSGA4', 'B002YWHIIE', 'B002Z88RJ6', 'B002ZSE9ES', 'B00302HH5G', 'B00302R9M2', 'B0030CIEYY', 'B0030FZ6V0', 'B0030UP5UM', 'B0030US0M2', 'B0030YAZFI', 'B0030YAZLC', 'B0030YD3IY', 'B0031XRLRI', 'B00321M84K', 'B0032TN7DS', 'B0033290CQ', 'B0033AI4KW', 'B0033PSGSW', 'B0033PSLSM', 'B00346F8NG', 'B003552MFI', 'B0035CI7GE', 'B0035HIL0G', 'B0035JCJUM', 'B0035K9WTC', 'B0035LCFRM', 'B0035RQFSG', 'B00365FIXA', 'B00365FJ34', 'B00365FJ52', 'B00365USKI', 'B0036B8A2K', 'B0036BN66A', 'B0036ECH0S', 'B0036FFDSK', 'B0036FUJRU', 'B0036JGMZ4', 'B0036LA8I4', 'B0036TGVE6', 'B0036UTTBC', 'B0037036QA', 'B0037BS73Q', 'B0037G7AGG', 'B0037GRGGU', 'B0037M62KA', 'B0037M62Y6', 'B0037MA738', 'B0037ME202', 'B0037ME3G0', 'B0037NVSYY', 'B0037TCW6G', 'B0037Z6POU', 'B0037Z6PP4', 'B00387G1UA', 'B0038BRR3G', 'B0038MTH8S', 'B0038SA772', 'B0038YX39A', 'B0039KA9G8', 'B0039ONN5S', 'B0039PPW60', 'B0039RCLRQ', 'B0039RGLZE', 'B0039RPWJU', 'B0039RW6UI', 'B0039RWELE', 'B003A02OFQ', 'B003A02P46', 'B003A02PAU', 'B003A02PMS', 'B003A7GM20', 'B003AAEGZ2', 'B003AJVKDO', 'B003AM913M', 'B003AM913W', 'B003AM914G', 'B003AOULM0', 'B003AQ1X7A', 'B003AQ4UDY', 'B003ATFN0U', 'B003AYC290', 'B003AYDQKE', 'B003AYE2RU', 'B003AYE658', 'B003AYE7VG', 'B003AYEAHC', 'B003AYI89I', 'B003AYIAXW', 'B003AYIBB8', 'B003AYJF04', 'B003AYJU5O', 'B003AYJVIA', 'B003AYK14S', 'B003AYK7JM', 'B003AYLWF0', 'B003AYNCJY', 'B003AYNF3W', 'B003AYNHGW', 'B003AYNI8E', 'B003AYO23Y', 'B003AYP9B8', 'B003AYRBWI', 'B003AYRGA0', 'B003AYRUSI', 'B003AYTN2Y', 'B003B01PL4', 'B003B01QSG', 'B003B06BFY', 'B003B085TY', 'B003B09HV4', 'B003B0APDS', 'B003B0BTJW', 'B003B0CCW0', 'B003B0DTZO', 'B003B0I09Y', 'B003B0JKWK', 'B003B0JPDO', 'B003B0YDRM', 'B003B10DIY', 'B003B10DKW', 'B003B10HEY', 'B003B12LK2', 'B003B15A78', 'B003B178M8', 'B003B1DQ3S', 'B003B1E0I8', 'B003B1GEW8', 'B003B1GEXW', 'B003B1GY8M', 'B003B1KTGK', 'B003B1MSTG', 'B003B1OU4W', 'B003B1PAJG', 'B003B1PETC', 'B003B1RGQQ', 'B003B95ETO', 'B003BFYDBS', 'B003BG6KXQ', 'B003BGXW50', 'B003BGZ9BK', 'B003BLOSCG', 'B003BLOSGM', 'B003BMGYZ4', 'B003BQ1Y82', 'B003BQ2DKK', 'B003BQ91Y6', 'B003C2V8D6', 'B003CRZ0IA', 'B003CTL4A6', 'B003D2O15W', 'B003D33W3I', 'B003D3OCDM', 'B003D3OCDW', 'B003DC78FW', 'B003DKN6LE', 'B003DKRC2S', 'B003DOAGB8', 'B003DX96TW', 'B003DY5Q4K', 'B003E0Y08Q', 'B003E1EN32', 'B003E1GLJG', 'B003E1LEBG', 'B003E70FME', 'B003EUQL9C', 'B003EUX2QM', 'B003EV58EK', 'B003F1HVDU', 'B003F1IGBQ', 'B003F1PRFO', 'B003F2X13I', 'B003FO2JHA', 'B003FO6E6M', 'B003FRMRC4', 'B003FXM6II', 'B003FXO8MK', 'B003G8V8LS', 'B003GBBG58', 'B003GEF0YS', 'B003GY776M', 'B003H0D2MI', 'B003H7AX5K', 'B003H8MXQQ', 'B003H8XAMM', 'B003H916I6', 'B003H93MH4', 'B003H95272', 'B003H95LWI', 'B003HEOOR6', 'B003HF2Z6M', 'B003HG7NZE', 'B003HGFRO8', 'B003HGIUG0', 'B003HGPEWI', 'B003HGR6VA', 'B003HGYYV0', 'B003HH7TKC', 'B003HHLZNE', 'B003HR30FU', 'B003HR375S', 'B003HZNP4S', 'B003HZPC0S', 'B003I6L7B4', 'B003IEQQN0', 'B003IJ7BL6', 'B003INZ0DI', 'B003JEAHES', 'B003JFTDMY', 'B003JFTE5U', 'B003JFZ562', 'B003JIMG52', 'B003JNLKYK', 'B003JNOGDW', 'B003KISCCW', 'B003KJ0ZD0', 'B003KPN02M', 'B003KVKT0M', 'B003KVKX62', 'B003KX4SC0', 'B003KXEDVQ', 'B003KYGVWE', 'B003KZ42EC', 'B003KZ7G2M', 'B003KZYGHK', 'B003LQ2Z8A', 'B003LTRPZA', 'B003LWD6JQ', 'B003MB7156', 'B003ML6LW0', 'B003MLBEW2', 'B003MLFCMA', 'B003MNO5GM', 'B003MQN9M0', 'B003MW6JW6', 'B003MWWX80', 'B003N7BCFE', 'B003NWYRLU', 'B003O2G9FQ', 'B003O4GRMY', 'B003OFQBKQ', 'B003OSO2AY', 'B003OSXND6', 'B003OXKO10', 'B003OYOXJI', 'B003P15MTK', 'B003P198Q8', 'B003P2V9OG', 'B003PNFM7A', 'B003POL4Z8', 'B003QIHMN6', 'B003QKBVYK', 'B003QTM9O2', 'B003R2BW9Q', 'B003R3R06E', 'B003R6WRY6', 'B003R70OA4', 'B003R71KX4', 'B003R7KU4E', 'B003R7KUHG', 'B003R7KUL2', 'B003R7KUOO', 'B003R9PCVI', 'B003RB3Z60', 'B003RG0T0A', 'B003RPK4BK', 'B003RQH5OI', 'B003S3S0DU', 'B003S7LTI4', 'B003S7T49K', 'B003SNXH1A', 'B003SO5OZQ', 'B003SOR6UC', 'B003SP184G', 'B003SQGSPY', 'B003SQK1HK', 'B003SREMHO', 'B003SRHFIW', 'B003SZLJ40', 'B003T74O8K', 'B003TE7336', 'B003THDD2S', 'B003TIV8A6', 'B003TLSN74', 'B003TLY9HM', 'B003TNM67A', 'B003TO6C6K', 'B003TSEFKQ', 'B003TSEFLA', 'B003TU0VNY', 'B003TU7N4Y', 'B003TU9CL6', 'B003U0MQYU', 'B003U3GBK2', 'B003U4RXTY', 'B003UI49CO', 'B003UNCENK', 'B003USDT1G', 'B003USFXOM', 'B003UYY05O', 'B003V3C5Z6', 'B003V5WI24', 'B003V8BE6M', 'B003V8WC54', 'B003VAI08A', 'B003VTQBR8', 'B003VWC840', 'B003VYBNIU', 'B003WRG9SK', 'B003WUHW7O', 'B003WY23EW', 'B003WZQ69O', 'B003WZS2KU', 'B003XDQXGQ', 'B003XJ6GC6', 'B003XJLLCQ', 'B003XKFHFM', 'B003XKOK0K', 'B003XLR2FY', 'B003XNTQWO', 'B003Y3ASW0', 'B003Y4JD0M', 'B003Y56124', 'B003Y569DA', 'B003Y5BVN8', 'B003YCUGJ6', 'B003YFSE60', 'B003YIXJTE', 'B003YKSKBE', 'B003YOT0BO', 'B003YOT65E', 'B003YU4J2I', 'B003YU6NY0', 'B003YU6NYU', 'B003YU8NY8', 'B003YUCU7O', 'B003ZAOQBQ', 'B003ZCP9RO', 'B003ZJLNIQ', 'B003ZU1ARE', 'B003ZU43XC', 'B003ZUEQLG', 'B003ZVBO8I', 'B003ZVVSHK', 'B003ZWETMU', 'B004038MYE', 'B00403NKA0', 'B00404E7VK', 'B00404LL64', 'B00407ZR66', 'B0040CDQVO', 'B0040DNDC0', 'B0040YZEJ4', 'B0040ZNMNI', 'B0041T4DK4', 'B0041T4DM2', 'B0041T53KI', 'B0042EZH6W', 'B0042F1L4S', 'B0042GBDLI', 'B00434LPU8', 'B00434YRX0', 'B0043517PA', 'B00436L05Q', 'B00436OLUC', 'B0043C599S', 'B0043E9DMK', 'B0043FGEIU', 'B0043IDZ02', 'B0043ISZXY', 'B0043NO2WM', 'B0043NP280', 'B0043NP2P8', 'B0043NQVFS', 'B0043NQVJY', 'B0043NUP7I', 'B0043RZ9QQ', 'B0043UKJ4K', 'B0043UNRG2', 'B0043USE9M', 'B0043UVY30', 'B0043WF8PI', 'B0043WJJ2G', 'B0043WKRIG', 'B0043X72QK', 'B00449H53S', 'B0044COBIW', 'B0044R1M0M', 'B0044RQLGW', 'B0044UANVI', 'B0044ZKN54', 'B004500966', 'B004508LA2', 'B00450BX2U', 'B00452V2SI', 'B0045EP4WG', 'B0045EP4XA', 'B0045EP4XU', 'B0045I3JLK', 'B0045N5B2A', 'B0045N780I', 'B0045YXVJO', 'B00460AIY8', 'B0046LGQV6', 'B0046LNZV0', 'B0046VXQQE', 'B0046XSEA0', 'B00474PAAK', 'B0047B4WB6', 'B0047B4WSO', 'B0047CF6EW', 'B0047D31FM', 'B0047DWT3M', 'B0047JP1D6', 'B0047V9MIE', 'B0047YYT9S', 'B0048072SG', 'B0048DDHSC', 'B004988JLG', 'B00499G85Y', 'B0049B3G1Q', 'B0049B3Z5S', 'B0049BQURS', 'B0049BUX6M', 'B0049P5U7A', 'B0049QHY1Y', 'B0049S1AJY', 'B0049S9FVE', 'B0049T1NVS', 'B0049Z4UQ2', 'B004A15AZ0', 'B004A15AZA', 'B004A15B0O', 'B004A4PSEU', 'B004A8ZNC8', 'B004A908TK', 'B004ACP09A', 'B004AE3W8E', 'B004AOI7FC', 'B004ARZPN6', 'B004ATUNQI', 'B004B42EQY', 'B004B46J5Q', 'B004B46JM4', 'B004B46L4A', 'B004B4902K', 'B004B4B11I', 'B004B4D4TU', 'B004B4S6HA', 'B004B8NGIA', 'B004BA83ZO', 'B004BILXNA', 'B004BJPL6Y', 'B004BR20OM', 'B004BU24N6', 'B004BZU4OW', 'B004C4UQZE', 'B004CG2V28', 'B004CNJ2E6', 'B004CNUZ9M', 'B004CUQD8M', 'B004CYEPBK', 'B004CYEPD8', 'B004CZF78E', 'B004D15AKM', 'B004D18I7Y', 'B004D18ILK', 'B004D1FHMS', 'B004D1FHYG', 'B004D1ZBZQ', 'B004D3DEL2', 'B004D8KX7K', 'B004D97TQC', 'B004DAM4CK', 'B004DEHJZ8', 'B004DF0EN6', 'B004DMX5O4', 'B004DN5ZJQ', 'B004DNV9MS', 'B004DOXJU2', 'B004DR3MTM', 'B004DR5E9I', 'B004DR5EMK', 'B004E2DTD0', 'B004E4LU0W', 'B004E58IL0', 'B004E8DN30', 'B004EBR5VI', 'B004EDZ4SM', 'B004EF86QM', 'B004EGRWZM', 'B004EJF3PU', 'B004FEF54S', 'B004FEF55M', 'B004FEH79O', 'B004FFAPEW', 'B004FOKE9E', 'B004FPEGT2', 'B004GBYIXE', 'B004GCOS9W', 'B004GHI5ZK', 'B004GNUAO8', 'B004GTJHBY', 'B004GYM7IE', 'B004H4BO4Q', 'B004H4DNQS', 'B004H6PC4M', 'B004HJ9COU', 'B004HNXZ6M', 'B004HTC7D8', 'B004HZGR5Q', 'B004I1DOGE', 'B004I6ZGWO', 'B004I6ZUU2', 'B004I903OM', 'B004I928J0', 'B004IA8F50', 'B004ID01FE', 'B004IEBTIQ', 'B004IK5M0G', 'B004INAVEU', 'B004INGEB4', 'B004IP5VNO', 'B004IQEWKG', 'B004ISK48S', 'B004ISK49C', 'B004ISK4B0', 'B004ISLGKS', 'B004IYSRB8', 'B004J0A264', 'B004J22WLK', 'B004J24YZ2', 'B004J25XX4', 'B004J27QXY', 'B004J953TQ', 'B004J96JTO', 'B004J9AKMQ', 'B004JJ6ME6', 'B004JPPO94', 'B004K1UKH8', 'B004K9RT8I', 'B004K9VUZQ', 'B004KCL5LW', 'B004KCNJR0', 'B004KE2D84', 'B004KJJ0ZS', 'B004KLZPA0', 'B004KNTU72', 'B004KSKUA8', 'B004L06ZCM', 'B004L08FDY', 'B004L7EXG0', 'B004L7I6WM', 'B004L7KJQI', 'B004L9IJP4', 'B004L9KLT6', 'B004L9P9MA', 'B004LBAGNA', 'B004LG72W8', 'B004LG93KC', 'B004LLV04E', 'B004LRP562', 'B004LRZC6A', 'B004LU9HEA', 'B004LWH79A', 'B004LY1R2Q', 'B004LYGAA0', 'B004LYKMWC', 'B004LZ57LC', 'B004LZ57LW', 'B004M14I06', 'B004M16VBU', 'B004M1A4FO', 'B004M4PC3U', 'B004M73CX4', 'B004M8GR3U', 'B004M8R9J6', 'B004M8UZ3S', 'B004M91ZQI', 'B004M9CKVM', 'B004M9Y7KO', 'B004MECVYI', 'B004MF39YS', 'B004MF4SK2', 'B004MF76RO', 'B004MM8J8M', 'B004MN9GWY', 'B004MNAYOI', 'B004MNCN7Y', 'B004MNEGBK', 'B004MQSV04', 'B004MTCHEM', 'B004MVZ4XG', 'B004MW5B8I', 'B004MW5B8S', 'B004N1G268', 'B004N1K4BM', 'B004NCSIO6', 'B004NDJRN6', 'B004NFPZLM', 'B004NFQ3QS', 'B004NFTAPY', 'B004NIFYCE', 'B004NMQ2A8', 'B004NNVPC2', 'B004NRVUMI', 'B004NSVKLS', 'B004NU42PM', 'B004O07XJS', 'B004O09XA0', 'B004OK1G64', 'B004OK63SA', 'B004OR9Q32', 'B004OZ0BLU', 'B004P023VK', 'B004P0MWCU', 'B004P4PZHA', 'B004PFWYL4', 'B004PFWZHM', 'B004PIB1IS', 'B004PJ414I', 'B004PJG5SS', 'B004PJLQSM', 'B004PKCH0M', 'B004QJSWUQ', 'B004QP2RGU', 'B004QXFQO2', 'B004R91GJE', 'B004R9OVHS', 'B004RE5OHE', 'B004REW0X0', 'B004RQJ0S6', 'B004RTHGHU', 'B004RV30N2', 'B004RV6PBG', 'B004RVFDZU', 'B004RVFGSY', 'B004S1YQ1G', 'B004SBLE3O', 'B004SL34IM', 'B004STXT2K', 'B004STXTWK', 'B004STXXTE', 'B004STXY3E', 'B004SX1BCG', 'B004T1TJN0', 'B004T6M93W', 'B004T8YILG', 'B004TGVRDA', 'B004THB6DA', 'B004THB6PI', 'B004THB824', 'B004THB8OW', 'B004THBHAW', 'B004THBHR0', 'B004TM31QK', 'B004TP4IZU', 'B004TXS7Z4', 'B004U0JTC6', 'B004U0JTDK', 'B004U0JTHG', 'B004U0JTI0', 'B004U2HT9Y', 'B004U48VA8', 'B004UA91FQ', 'B004UAH5HC', 'B004UDM37Q', 'B004UIDJ7Y', 'B004UIDJBK', 'B004UIFXRI', 'B004UJHTEM', 'B004UJHXUC', 'B004UJO41S', 'B004UJWBL8', 'B004UNL1P6', 'B004UNQ4US', 'B004UOE3G4', 'B004UOE3JQ', 'B004UU435Y', 'B004UVSXSQ', 'B004V07LL6', 'B004V4Q7OE', 'B004V9GOMY', 'B004VAQURM', 'B004VCDLE0', 'B004VCW556', 'B004VDD4L4', 'B004VDD4SW', 'B004VDD5J0', 'B004VDD5U4', 'B004VDD63A', 'B004VFTSO4', 'B004VKIING', 'B004VM5R7Y', 'B004VMOVBC', 'B004VQAI2Y', 'B004VQAI5Q', 'B004VQDAQK', 'B004VSQ574', 'B004VSQ5LU', 'B004VSQ5Q0', 'B004VVFZHW', 'B004VXGW7W', 'B004W1PQ7K', 'B004W25PY8', 'B004W6KR7E', 'B004W94LEQ', 'B004W95TA6', 'B004WBO5WC', 'B004WDQ5CS', 'B004WDQ5LY', 'B004WF5TIM', 'B004WFIMZE', 'B004WFXM8Q', 'B004WMJRW4', 'B004WMUQFQ', 'B004WNZMSQ', 'B004WOQ5OU', 'B004WQOFBI', 'B004WWEYI6', 'B004WZ4ZNM', 'B004X2JFZC', 'B004X2LE1U', 'B004X2MX60', 'B004X7OIRC', 'B004X7UP5G', 'B004XDQFJ0', 'B004XDZ9HY', 'B004XGXU4A', 'B004XITWCM', 'B004XJ4IZ2', 'B004XJCLI8', 'B004XJNIWG', 'B004XLATPI', 'B004XLFKIO', 'B004XLFKK2', 'B004XLFKO8', 'B004XNK7AI', 'B004XOMLSS', 'B004XOYDZW', 'B004XSX2A0', 'B004XUQKPC', 'B004XWDYO0', 'B004XY92VC', 'B004Y0ZU3O', 'B004Y3ZM2U', 'B004Y3ZRHA', 'B004Y9YQS0', 'B004YGMOSC', 'B004YHAYC4', 'B004YHAYD8', 'B004YHTNVC', 'B004YPRPJ6', 'B004YUP41W', 'B004YUQ49S', 'B004Z17008', 'B004Z5GPSW', 'B004Z85LJS', 'B004Z8ORXO', 'B004Z8VQ2O', 'B004Z99490', 'B004ZELFWY', 'B004ZGAUZ0', 'B004ZH0PPY', 'B004ZHHIVI', 'B004ZJ7CGW', 'B004ZKIHVU', 'B004ZPDNJ6', 'B004ZZVHGW', 'B004ZZVHSU', 'B00501IST4', 'B00502EE78', 'B005036E34', 'B00504BLJU', 'B00504BLLI', 'B00506UC3O', 'B00508JFE4', 'B0050AGZBI', 'B0050ALN2E', 'B0050CHFFQ', 'B0050DDKDQ', 'B0050DDKJ0', 'B0050DDKTA', 'B0050DDKYU', 'B0050DIHAC', 'B0050F3ZJS', 'B0050G7VR4', 'B0050J2644', 'B0050J3MN8', 'B0050JC2QQ', 'B0050JHNHO', 'B0050K86A6', 'B0050P09WY', 'B005111CNM', 'B00512I21Q', 'B00514H7L0', 'B0051B16D8', 'B0051CN96O', 'B0051F37GS', 'B0051G404K', 'B0051HN2PW', 'B0051LMLUA', 'B0051M6JJI', 'B0051MOJ6I', 'B0051MOJ86', 'B0051MQUXS', 'B0051PNVL4', 'B0051SJ5PM', 'B0051TZAGE', 'B0051TZBO0', 'B0051TZBTU', 'B0051VILXG', 'B0051WAJ5S', 'B0051WAM1O', 'B0051Y0S6Q', 'B0051Y0SKC', 'B0051Y0SM0', 'B0052745WK', 'B005298L46', 'B0052A29DY', 'B0052B9LGQ', 'B0052BFLB0', 'B0052FU602', 'B0052JG42W', 'B0052M18WA', 'B0052M19V0', 'B0052M1C0I', 'B0052NNJ1C', 'B0052QOTFE', 'B0052QOU08', 'B0052S3RZU', 'B0052S3T9O', 'B0052S3TDK', 'B0052S3WFU', 'B0052S3WGE', 'B0052S3WVY', 'B0052S3YC6', 'B0052ST704', 'B0052TGJOU', 'B0052TT19U', 'B0052U1I9A', 'B0052VE89G', 'B0052VJNIC', 'B0052VJP3U', 'B00534392Y', 'B00534397O', 'B00534NRCQ', 'B0053CUHMG', 'B0053ODOY2', 'B0053Y45E0', 'B0053YAWVK', 'B0053ZK4Z8', 'B00540JMF0', 'B00542YQSQ', 'B00545A7T0', 'B00548S19U', 'B00548S4OW', 'B0054E6KY2', 'B0054IKKXA', 'B0054JGI0I', 'B0054K92RI', 'B0054QM4D6', 'B0054QM6UM', 'B0054QM76K', 'B0054RDV9Q', 'B0054RFKCW', 'B0054S8ZXW', 'B0054TQ0GA', 'B00551V4OA', 'B00551VDIM', 'B00553GBU0', 'B00557KN28', 'B00557ZF7Q', 'B0055826SQ', 'B005585Q42', 'B0055BMQG0', 'B0055CHT8O', 'B0055D6PTC', 'B0055DCWKS', 'B0055E88FA', 'B0055OIXN2', 'B0055V7UR0', 'B00563VQN6', 'B0056BXQFE', 'B0056N2ANG', 'B0056XAWOU', 'B0057E3H1I', 'B0057ECZ9I', 'B0057FX3I4', 'B0057GPLWE', 'B0057HX3R8', 'B0057IPQG8', 'B0057IPQT0', 'B0057IVDQ0', 'B0057IVGVM', 'B0057IVHGG', 'B0057IVKT0', 'B0057OIVMS', 'B0057OIW5Y', 'B0057RL6DQ', 'B0057RUKOC', 'B0057RV4K6', 'B0057RXGBQ', 'B0057YBE18', 'B005865X0S', 'B0058D7Y2G', 'B0058D7YSU', 'B0058DATZ0', 'B0058ECQ46', 'B0058FJZ6W', 'B0058GZTVG', 'B0058MJX4O', 'B0058MJXNA', 'B0058MJY20', 'B0058SYD9I', 'B0058TAG8O', 'B0059HV94K', 'B0059ZTYQM', 'B0059ZUTW0', 'B005A09I7Q', 'B005A0OO16', 'B005AGGZ8K', 'B005AIVN3U', 'B005AL3RG8', 'B005AQPU5Y', 'B005AT3CBU', 'B005AT3D82', 'B005AT3DWS', 'B005AW0V9I', 'B005BE170W', 'B005BEHR7E', 'B005BFYQWC', 'B005BLWOPM', 'B005BQOQQC', 'B005BSOVRY', 'B005BSOW32', 'B005BSOW82', 'B005C3ZXTS', 'B005C88XMC', 'B005CACVFU', 'B005CBYJXQ', 'B005CERXFO', 'B005CP07S8', 'B005CQ30A4', 'B005CQ98LE', 'B005CQ99MC', 'B005CRF060', 'B005CTJMF8', 'B005CUEJOQ', 'B005CX4GLE', 'B005CXMPQW', 'B005CXV6PI', 'B005D7SZW0', 'B005DBEAM0', 'B005DIJQEA', 'B005DJOI8I', 'B005DJOIPQ', 'B005DLN5QC', 'B005DM7G84', 'B005DSSZHO', 'B005DUR7U8', 'B005DVF15A', 'B005E0CPRM', 'B005E2Y0KK', 'B005EDMCMC', 'B005EHILV4', 'B005EHIM7M', 'B005EHIN12', 'B005EHINAS', 'B005EHINFI', 'B005EHINIK', 'B005EHINKS', 'B005EHINSK', 'B005EIQON0', 'B005EIQP52', 'B005EJND24', 'B005EK8HX8', 'B005ELUNE8', 'B005EQHURG', 'B005ES7VSW', 'B005ETZ6DI', 'B005ETZBF6', 'B005ETZC7I', 'B005ETZE5S', 'B005ETZF9S', 'B005ETZN72', 'B005EU6KYG', 'B005EZTQQ0', 'B005F12DAO', 'B005F3H6MC', 'B005F560Z4', 'B005F58BT2', 'B005F5TP2Y', 'B005F5TP6U', 'B005F66FRQ', 'B005F672JQ', 'B005FIFM14', 'B005FIYB2K', 'B005FKF1PY', 'B005FKF1RW', 'B005FKF3N4', 'B005FKF3P2', 'B005FKF7IU', 'B005FLZ7D4', 'B005FNCLMM', 'B005FO1WBC', 'B005FPXM0U', 'B005FQO0RI', 'B005FQO13Q', 'B005FUWTRC', 'B005FXLI30', 'B005G4CPF8', 'B005G59WP8', 'B005G6CZRE', 'B005GCXTHS', 'B005GGTVVC', 'B005GHKIM2', 'B005GJIV2Y', 'B005GLL8PY', 'B005GSZ3BC', 'B005GWJU2Q', 'B005GWK1QU', 'B005GXMKHW', 'B005GZ86ZA', 'B005H2007E', 'B005H3TH4A', 'B005H7KY52', 'B005H7L528', 'B005HGM1HC', 'B005HGM1HW', 'B005HH2GCQ', 'B005HJAH2A', 'B005HMNSCS', 'B005HMNT0Y', 'B005HN20J4', 'B005HNGFU4', 'B005HSP122', 'B005HTCOE4', 'B005I2YJKC', 'B005I2YL7I', 'B005I7JDBW', 'B005IB37LA', 'B005IHD95I', 'B005IHLSTM', 'B005INZV3U', 'B005IU3RMA', 'B005IVUVH8', 'B005IVUWDG', 'B005J2PXWY', 'B005J3EZZY', 'B005J3RW9A', 'B005J3S1WW', 'B005J3S276', 'B005J5MUKY', 'B005J9FS0Y', 'B005JPWNVU', 'B005JTV358', 'B005JW9JJW', 'B005JYDFYU', 'B005K5IVU6', 'B005KC0II2', 'B005KKELFK', 'B005KME0Z4', 'B005KPDRKA', 'B005KR15HU', 'B005L2R7FS', 'B005L2UID6', 'B005L2UO8U', 'B005L6KJGS', 'B005LG0XRS', 'B005LG0XTG', 'B005LMPB9M', 'B005LMWCJO', 'B005LOJEZC', 'B005LR0ETO', 'B005LRAUHK', 'B005LTRALW', 'B005LTRBLG', 'B005LTRCC4', 'B005LTRCNI', 'B005LV91VW', 'B005LVJRIE', 'B005LVYH9I', 'B005LYLSD8', 'B005LYUTWY', 'B005LZ1V1Q', 'B005LZH692', 'B005LZQTKE', 'B005M02VNW', 'B005M0MUQK', 'B005M3591K', 'B005M35BSQ', 'B005M35DDO', 'B005M36GGM', 'B005M4X1HI', 'B005MHHGZS', 'B005MIEJNE', 'B005MII5MK', 'B005MMXSMI', 'B005MMZZZQ', 'B005MR6IHK', 'B005MR6JLA', 'B005MTDPBK', 'B005MYXBRS', 'B005MYZCFM', 'B005N2BW7K', 'B005N2E8A8', 'B005N2EALA', 'B005N2RGJ8', 'B005N4N2BM', 'B005N4N2GC', 'B005N5597Q', 'B005N8T3Z2', 'B005N8UUSQ', 'B005NACC6M', 'B005NAP9LW', 'B005NEMRIG', 'B005NF71ZE', 'B005NG0C9K', 'B005NH6U4U', 'B005NIVLX4', 'B005NIVPIU', 'B005NKZZ02', 'B005NZ05J8', 'B005O2HJWG', 'B005O658VQ', 'B005O6OBLY', 'B005OBV8JW', 'B005ODB4QW', 'B005ODB566', 'B005OEBVYQ', 'B005OEBVZU', 'B005OEBWIG', 'B005OEM43S', 'B005OFBJYM', 'B005OQ4N7Q', 'B005OQ77ZQ', 'B005OTWIUW', 'B005OUE3FO', 'B005OWGUZ8', 'B005OZE9SA', 'B005P3I112', 'B005P4NV9I', 'B005P4NVF2', 'B005P4NVJI', 'B005P4XHV0', 'B005P9BRXK', 'B005PFQ0QS', 'B005PGGU9O', 'B005PIISLK', 'B005PNY0NU', 'B005PNY6V6', 'B005PQ1AIU', 'B005PUAEEW', 'B005PWPUW6', 'B005PXZ8E0', 'B005Q1XR8U', 'B005Q22HV2', 'B005Q9Z5XW', 'B005QIZIYO', 'B005QKNUOW', 'B005QM6UE2', 'B005RVSKKO', 'B005S09IVY', 'B005SGA8DU', 'B005SGAF7O', 'B005SGBHU8', 'B005SGBIC0', 'B005SGCIF6', 'B005SGDK6W', 'B005SGDN14', 'B005SGF28G', 'B005SN7304', 'B005SUM1PO', 'B005SUN7R0', 'B005SURBZE', 'B005SURLUO', 'B005SURX20', 'B005SUS2C0', 'B005SUS2YS', 'B005SUSO5U', 'B005SUSWWU', 'B005SUSXGA', 'B005SUT5NA', 'B005SUT62K', 'B005SUT8CI', 'B005SUT9I6', 'B005SUT9UY', 'B005SUTAF8', 'B005SUTYI6', 'B005SUU3U4', 'B005SUU4AS', 'B005SUVENO', 'B005SUVFXI', 'B005SUVOZW', 'B005SUVSRG', 'B005SUW2NK', 'B005SUX1BC', 'B005SUY4E0', 'B005SUY9H2', 'B005SUYA0S', 'B005SUYBD4', 'B005SUYK44', 'B005SUYS0A', 'B005SVFN6W', 'B005T600D2', 'B005T800V2', 'B005THAYPA', 'B005TJUP7K', 'B005TO9EPY', 'B005TY7CYO', 'B005TY7DAM', 'B005TY7DO8', 'B005TZ702M', 'B005UJQ2SK', 'B005UJQ2TY', 'B005UMNYS8', 'B005UMO4FU', 'B005UPZ4WY', 'B005UPZLGS', 'B005UQWT6W', 'B005V01JG8', 'B005VKSIHQ', 'B005VLR6XC', 'B005VLWHP4', 'B005VM5Z5C', 'B005WBESYG', 'B005WBK1CE', 'B005WFTJPK', 'B005WFTZWW', 'B005WJU0LI', 'B005WPU8ZA', 'B005XDCMBY', 'B005XKAH8W', 'B005YD2Q0A', 'B005YG6JZK', 'B005YYO0OE', 'B005YYO0QM', 'B005YYO0S0', 'B005YYO1O8', 'B005YYO2LA', 'B005Z8F8FY', 'B005ZH5V3Y', 'B005ZV5K0O', 'B00600QSS2', 'B0060GSO06', 'B00615M2CC', 'B00619KROS', 'B0061FSZZ0', 'B0061OPQK8', 'B0061XXSVS', 'B0061ZUKWG', 'B0061ZUKXA', 'B0062IWNCC', 'B0062NUUW2', 'B0062RMHRO', 'B006348STW', 'B00634LK8I', 'B0063LX2KU', 'B0063M1VA2', 'B0063R6YIG', 'B00646MZHK', 'B006498LWU', 'B0064BDH6I', 'B0064BFM8O', 'B0064BFNME', 'B0064CF56C', 'B0064CFBCK', 'B0064CFCHO', 'B0064EGI34', 'B0064RCBB4', 'B0064RFT4A', 'B0064RGHWI', 'B0064RGVH4', 'B0064RN4FG', 'B0064RQEDU', 'B0064RR9J8', 'B0064RRBZ0', 'B0064RTS0G', 'B0064RTSUQ', 'B0064RTUP4', 'B0064RU0W6', 'B0064RYHVQ', 'B0064RZHOM', 'B0064S0FHU', 'B0064S0PBQ', 'B0064ZFBMW', 'B00653XX46', 'B00656776S', 'B0065CBYUM', 'B0065KNZZ6', 'B0065KO1T0', 'B0065KP3JW', 'B0065KP4O6', 'B0065KP6IK', 'B0065KPIO2', 'B0065KPUL8', 'B0065KQ00I', 'B0065LKLOI', 'B0065P9B8G', 'B00669UEP0', 'B0067NYO4M', 'B0067S8IZ8', 'B0067VXPJY', 'B0068FIWJC', 'B0069M5U6C', 'B0069R0U3U', 'B0069VZHP2', 'B0069XMZWS', 'B0069Y0M4U', 'B006AVA3TQ', 'B006BC3K3A', 'B006BF6RT6', 'B006BLEZD0', 'B006CUVZBA', 'B006DIA77E', 'B006FHMTJW', 'B006FKNVTQ', 'B006G1RX6G', 'B006GCNUHQ', 'B006GFFPLM', 'B006GLEIZU', 'B006GX0TWE', 'B006GXZHBW', 'B006H510AG', 'B006H5119Q', 'B006HNQQ66', 'B006HNRXV8', 'B006HR1H1Q', 'B006HZS8D8', 'B006I37X4Y', 'B006I380PK', 'B006I387UI', 'B006IU53TO', 'B006J0P0AU', 'B006JA3BS8', 'B006JVNTXO', 'B006JZPTYM', 'B006K1OFI6', 'B006K1SPNW', 'B006KJ97KE', 'B006KSM7ZM', 'B006KVTSOW', 'B006KW37ZW', 'B006KX3W0G', 'B006LCCUTU', 'B006M42ZM4', 'B006MB9700', 'B006MB97OQ', 'B006MGYNGI', 'B006MH1GAS', 'B006MH1OOQ', 'B006MID1FU', 'B006MPUTBC', 'B006MPUTH6', 'B006MPUY1C', 'B006MVECVE', 'B006OB3BUA', 'B006OFZPW8', 'B006OH6QNS', 'B006OJC7LG', 'B006PU262E', 'B006PV5VGQ', 'B006Q7X7AQ', 'B006QLW5XC', 'B006QP00BC', 'B006QSSUK2', 'B006QUGBVK', 'B006R16NPM', 'B006RQC1CQ', 'B006SOKW32', 'B006U5JWQW', 'B006UOSUDE', 'B006UOSUW0', 'B006VSM8WS', 'B006W11TT2', 'B006W5IKG8', 'B006WAB40M', 'B006WAB4DE', 'B006WAVPEM', 'B006WAVPR4', 'B006WAVQ50', 'B006WAVQKA', 'B006WBHI1U', 'B006WP70Z0', 'B006WPGZAG', 'B006X0R8LU', 'B006X0TBLA', 'B006X0TD5E', 'B006X0U1W8', 'B006X0UE48', 'B006X0UTW0', 'B006X735PQ', 'B006XFM41E', 'B006XXT8EW', 'B006XYAR0U', 'B006XYEZBW', 'B006Y2BI04', 'B006Y2FUW6', 'B006YTZOOS', 'B006YV31JG', 'B006Z6JQGC', 'B006Z6VIZO', 'B006Z76XY4', 'B006Z7HYLA', 'B006Z87CJ8', 'B006Z89FUM', 'B006Z9D9UI', 'B006Z9UX2K', 'B006ZBZBEI', 'B006ZBZBL6', 'B006ZBZCTC', 'B006ZGZEU4', 'B006ZLZO72', 'B006ZMKJ7G', 'B006ZYGUY0', 'B00708NMWS', 'B0070TWD2C', 'B00713R2ZK', 'B00715CUGE', 'B0071AWVLS', 'B0071CN89A', 'B0071CTDP8', 'B0071DS89E', 'B0071ML4N2', 'B0071NO7I0', 'B0071V3BES', 'B0071V3D1O', 'B0071V3E9U', 'B00721BB44', 'B00721BK2M', 'B00721CJA4', 'B00721CN9G', 'B00721D2ZU', 'B00721Z05A', 'B00721Z3ZC', 'B00724Y5R6', 'B00724YB8Y', 'B00724YG0M', 'B00724YJJ0', 'B00724YJN6', 'B00724YM7E', 'B00724YYYA', 'B00724Z6AQ', 'B00724ZBT2', 'B00724ZCL4', 'B00724ZD40', 'B00724ZKUM', 'B00726195K', 'B0072BBBGW', 'B0072BOUQU', 'B0072DKYFO', 'B0072JBCTK', 'B0072LXG2Y', 'B0073A4FM4', 'B0073AMZE4', 'B0073AN11U', 'B0073AN19C', 'B0073AU51E', 'B0073B587E', 'B0073EQXO8', 'B0073EYDX6', 'B0073F4YG6', 'B0073K9B9G', 'B0073K9BHS', 'B0073K9CCW', 'B0073M4XK6', 'B0073SSQ4O', 'B0073SSR16', 'B0073V7PXO', 'B0073WGCZA', 'B0073XCXHA', 'B0073XCYO2', 'B0073XCZ3C', 'B0073XH0AA', 'B0073XH0SC', 'B0073XH0WS', 'B00740B4RC', 'B00740B8E6', 'B00743L6V8', 'B00743L6ZO', 'B00743L866', 'B00743L8E8', 'B00743LAWS', 'B00749TV2S', 'B00749TZ7Y', 'B0074EVT7I', 'B0074GK2RO', 'B0074IRF7C', 'B0074NIY6S', 'B0074NN8AU', 'B007536YJG', 'B007566BLE', 'B0075DMYC2', 'B0075DNS9A', 'B0075DNT0S', 'B0075DO5K6', 'B0075DS728', 'B0075J8APQ', 'B0075R7RD4', 'B0075X0GCW', 'B00765A9U8', 'B0076CGVF8', 'B0076N0KCW', 'B0076ON66S', 'B0076Q0GZA', 'B00771QSA6', 'B007723JF2', 'B00777BA0I', 'B0077AMR7A', 'B0077AMRWU', 'B0077AMUFY', 'B0077CTYY2', 'B0077CZ7OS', 'B0077HSP38', 'B0077QSY76', 'B0077R2FLQ', 'B0077RKJ32', 'B0077SNDPM', 'B0077U7YQO', 'B007855B40', 'B0078E67P8', 'B0078FWI0A', 'B0078OR4G4', 'B0078YFA1A', 'B00797YYV8', 'B0079GPEY0', 'B0079GRHT0', 'B0079JSATS', 'B0079KQE0Y', 'B0079KQEOK', 'B0079SUMG8', 'B0079X65MS', 'B007ACTMFU', 'B007AGR5JQ', 'B007AGR6KE', 'B007AGRV3G', 'B007AH1SMK', 'B007BKCD34', 'B007BR5PWI', 'B007BYWMUY', 'B007BYZ6C0', 'B007C820YC', 'B007COCMZI', 'B007CODF5E', 'B007CRBQPW', 'B007CSXUNM', 'B007CXB3FE', 'B007D5DHQY', 'B007DCC9RA', 'B007DHN3MU', 'B007DJ4NN6', 'B007DS8E1O', 'B007E69TPA', 'B007EV6NBI', 'B007EV6RFK', 'B007EYG04A', 'B007F43362', 'B007FIHSEG', 'B007FIHSHS', 'B007FJ7RFU', 'B007FRLU2I', 'B007G4H0ME', 'B007G7I1ME', 'B007G7IIU4', 'B007GDTM26', 'B007HNFCNS', 'B007I9IMCY', 'B007IBE15E', 'B007IE5EPC', 'B007IE5EQ6', 'B007IE5GNW', 'B007IE5JGG', 'B007IE5ODO', 'B007IE5P8I', 'B007IE5QL4', 'B007IE5QP0', 'B007IE5SQW', 'B007IE5TPM', 'B007IE5TQ6', 'B007IE5TQG', 'B007IE5UT2', 'B007IE5XSK', 'B007IG8I26', 'B007IHYBV2', 'B007IO8LYS', 'B007IODP4O', 'B007IV136Y', 'B007IVUOXM', 'B007IVWCDM', 'B007J49C40', 'B007J49C6S', 'B007J4AAA0', 'B007J4AGNG', 'B007J4AHBW', 'B007JLG5JI', 'B007JN600A', 'B007JW093K', 'B007JW19X4', 'B007JX8O0Y', 'B007K3EGWI', 'B007K3EGXW', 'B007K7LY4M', 'B007K7LYHY', 'B007KD054G', 'B007KP0NAK', 'B007KP11R4', 'B007KZQMZA', 'B007KZQND6', 'B007KZQNE0', 'B007L0CH8K', 'B007L58HNE', 'B007L58I2E', 'B007L590PS', 'B007L5VXA8', 'B007MS3DZM', 'B007OM950S', 'B007P7816G', 'B007PDRVOI', 'B007PDRZP8', 'B007PR4JLM', 'B007PSJVGE', 'B007PZ5F3K', 'B007PZY9QE', 'B007Q0C3RK', 'B007Q27BH0', 'B007QB57WM', 'B007RN4UJK', 'B007RWUOQ4', 'B007RWXWSG', 'B007S7GGX8', 'B007SBH8HW', 'B007SNKIDQ', 'B007SNUBW4', 'B007SQZJ64', 'B007ST2E8C', 'B007SZJEJ8', 'B007T9Z79O', 'B007V3PVNA', 'B007VCV4SW', 'B007VDDAK6', 'B007VQIBB6', 'B007VT5X78', 'B007W294X8', 'B007WBEVNM', 'B007WBEVVE', 'B007WDX2J4', 'B007WG2QJ8', 'B007WREIQQ', 'B007X5CG4S', 'B007X60AZ4', 'B007X77ZHE', 'B007XH9432', 'B007XKCOQ8', 'B007YWHIP2', 'B007YYNGTM', 'B007Z1FVZG', 'B007ZBYKNA', 'B007ZH2T6Y', 'B007ZWSRXS', 'B007ZXWQ8E', 'B0080NT456', 'B0080OLP3E', 'B0080OLPNY', 'B0081GR8ZA', 'B0081JDW8Y', 'B0081KUUXI', 'B0082CS84S', 'B0082JYRWI', 'B00839Z3MA', 'B0083EF5NM', 'B0083EFB4A', 'B0083EG1M6', 'B0083EGLJO', 'B0083EKHVW', 'B0083EKNE8', 'B0083FTVB8', 'B0083T6DVA', 'B00846UG1U', 'B0084QSDF6', 'B0085545YO', 'B0085ECHXQ', 'B0085GYT30', 'B0085H75S0', 'B0085M6SUQ', 'B0086RJ9U6', 'B00871VO5Y', 'B0087HEO64', 'B0087UPT1U', 'B0087UPW8U', 'B0087UPWA8', 'B0087UPXM0', 'B0087UPZ2I', 'B0088748HI', 'B008876Y4S', 'B0089NNAZ2', 'B0089SZ85M', 'B008A51HHM', 'B008B2AA1I', 'B008BEEN9G', 'B008DCOOA4', 'B008DCOOBI', 'B008DRALA6', 'B008E0ZS0K', 'B008F4URVA', 'B008F4URXI', 'B008FDSWJ0', 'B008FJXGKO', 'B008GWLDVO', 'B008H3ZVUQ', 'B008H51464', 'B008HZEW54', 'B008I5QT9K', 'B008J7WS88', 'B008JCV91K', 'B008JZ7GIW', 'B008KWRRMO', 'B008LMS4MK', 'B008MEAPHE', 'B008N9F5UA', 'B008NN6X0C', 'B008O516L0', 'B008PAI7AW', 'B008QT2S7A', 'B008R2X1O0', 'B008R7F32I', 'B008TNAI0M', 'B008UD3P88', 'B008UD3QGO', 'B008UQ80AS', 'B008UYZBG6', 'B008V1O0IS', 'B008VU6INE', 'B008XAXQAK', 'B008XAXWOA', 'B008XB188Q', 'B008XDQ0QE', 'B008XF16LQ', 'B008XLITXS', 'B008XONH46', 'B008Y4OT9W', 'B008YAHZTC', 'B008YDTVW8', 'B008YOMVDS', 'B008YQLH5O', 'B008YTY9EC', 'B008Z82J8A', 'B008Z8IW18', 'B008ZC9PV0', 'B008ZPO5W6', 'B008ZUWNUC', 'B008ZVMW3Y', 'B008ZXAL1C', 'B008ZXIUQU', 'B009016B7G', 'B00903HPQ0', 'B0090F4P70', 'B0090NJI88', 'B0090QVVPI', 'B0090X6KOS', 'B0090Z498U', 'B009115NPG', 'B009115NQA', 'B00911X218', 'B0091C02PQ', 'B0091C03YG', 'B0091CE0HM', 'B0091JFGEQ', 'B0091Q1DDC', 'B0091VGEEU', 'B0091WCUZG', 'B00923G9Q0', 'B0092LDRJY', 'B0092LWHI6', 'B0092M2AQE', 'B0092M2EZQ', 'B0092S3XEQ', 'B0092V7EJ8', 'B0092V7WJ0', 'B0092X3RQU', 'B0092XAFUG', 'B0092XFYWU', 'B0093DW0SA', 'B0093UPDBO', 'B0093UPG48', 'B0093WG18Q', 'B0093WG19A', 'B0093WM8EM', 'B00940TIBE', 'B00945UFES', 'B00945UFGG', 'B00946ZJN4', 'B0094AHWPS', 'B0094D3JI4', 'B0094D3L4Q', 'B0094EJRF2', 'B0094EMO7K', 'B0094I5SPG', 'B0094KNESM', 'B0094NVV5C', 'B0094O5S7I', 'B0094P4F4O', 'B0095B2OQI', 'B0095D2A1A', 'B0095D5BF2', 'B0095D7P0G', 'B0095DRRFO', 'B0095F4I4U', 'B0095OKOPI', 'B0095SUQRU', 'B00961XNOO', 'B00967UN50', 'B0096FQT8W', 'B009703N6M', 'B00973N9NQ', 'B00973UEZC', 'B00974Q96E', 'B00975F4WS', 'B00979RZTO', 'B0097X01OQ', 'B00987CF9A', 'B0098DCS8M', 'B0098DFNY8', 'B0098F3CN0', 'B0098F5IF0', 'B0098FSYPG', 'B0098FT3YC', 'B0098G3PU4', 'B0098GIST2', 'B0098JO3H0', 'B0098RJP0W', 'B0098S1R9I', 'B0098SJYD4', 'B0098SPL0E', 'B0098SW1NO', 'B0098T59YQ', 'B0098UBFEI', 'B0098ULU1G', 'B0098VHUEG', 'B0098WN3PU', 'B0098WW9GY', 'B0098X01ZO', 'B0098YJYYC', 'B009994QJE', 'B0099DDYVQ', 'B0099DKEJQ', 'B0099DNZMY', 'B0099JJBXK', 'B0099L20MW', 'B0099MPHA8', 'B0099RW19S', 'B0099XQBD4', 'B009A06V5E', 'B009A0EVNI', 'B009A3JEZK', 'B009A3PYQ8', 'B009A4O7UG', 'B009A4WB1I', 'B009A7T9DS', 'B009AARY2I', 'B009AF7TBY', 'B009AGFYWY', 'B009AJXPTU', 'B009AL8GCY', 'B009ALD8EA', 'B009ALYIO4', 'B009AM3L78', 'B009AQ4736', 'B009AQIZYS', 'B009AQUD5M', 'B009AQZM30', 'B009ARD8O4', 'B009AS1EO4', 'B009AS1FLG', 'B009B15N0Q', 'B009B3JR4W', 'B009B3QK1K', 'B009B5MX0K', 'B009BZAQQI', 'B009BZDCS2', 'B009C3NIR8', 'B009C3UU5Q', 'B009C42TK4', 'B009CBEKUY', 'B009CIIWQA', 'B009CN8WZ6', 'B009CPFPFO', 'B009D3WT0E', 'B009DD97AO', 'B009DER0MA', 'B009DO2PPC', 'B009DQF14C', 'B009DRUOSE', 'B009DTT7RQ', 'B009DV5NJ0', 'B009DYPWBG', 'B009E087UM', 'B009EM7MZG', 'B009EMIU66', 'B009ETVMTQ', 'B009EU8M5C', 'B009F8UA30', 'B009F8UAVM', 'B009F9V28Q', 'B009FKHV62', 'B009FKQS98', 'B009FKZNVM', 'B009FL6ZZE', 'B009FTWFM8', 'B009FTWH5S', 'B009FUEPBG', 'B009FX3LTU', 'B009G1SHS6', 'B009G4F1HS', 'B009G87IIY', 'B009GAZ58M', 'B009GB5KAY', 'B009GDNPKO', 'B009GS6Z3S', 'B009GSKW1Y', 'B009GT0KNI', 'B009GU4UHY', 'B009GUP744', 'B009H3YLMY', 'B009HK2ALG', 'B009HO2PYO', 'B009HVQJBW', 'B009I033I4', 'B009I4R4TY', 'B009IWNWGU', 'B009J8DXQW', 'B009J8DYGG', 'B009J8DZ6K', 'B009JATNVY', 'B009K2T1NQ', 'B009K2T4H4', 'B009KNZU9Y', 'B009KS2Z9C', 'B009LFOTNY', 'B009MAISA8', 'B009MBNDUC', 'B009MBT68U', 'B009MBTCKW', 'B009MDMQJ4', 'B009MIBIWK', 'B009OMTVAA', 'B009P261B6', 'B009P6D4TO', 'B009P8CPS8', 'B009PNTL0S', 'B009QU3MKK', 'B009RUCWT6', 'B009RVCOAW', 'B009S814U0', 'B009SS6A8Q', 'B009SSOLRI', 'B009SXXOVM', 'B009UQZ7A8', 'B009US27BS', 'B009US97AM', 'B009VXD4T6', 'B009VXVALU', 'B009WS7SWY', 'B009WS7V5I', 'B009WU5SV0', 'B009XDZM0S', 'B009XI4Y0M', 'B009XI4YWK', 'B009Y223GO', 'B009Y26LMQ', 'B009YAKLS8', 'B009YAR24E', 'B009YCI62Y', 'B009YRL4OG', 'B009YT5ZZS', 'B009ZW3WFE', 'B009ZX8ZJG', 'B00A0OQ1TU', 'B00A270MZO', 'B00A2V9MS8', 'B00A2V9PW6', 'B00A3ZXGL2', 'B00A4C9GSG', 'B00A4ELYXE', 'B00A4NRWCC', 'B00A6COHN8', 'B00A6D50L0', 'B00A6GQJD0', 'B00A6H1X3A', 'B00A6VON2Y', 'B00A6VVIDQ', 'B00A710AUW', 'B00A7190M6', 'B00A7K7FN8', 'B00A7KC9NO', 'B00A7MXBXE', 'B00A8O3VCW', 'B00A926MUQ', 'B00A9CGRVA', 'B00A9I706U', 'B00A9JUGME', 'B00A9K386E', 'B00AA68MEK', 'B00AA69K5K', 'B00AA69MBM', 'B00AAEQIH0', 'B00AAJJLE2', 'B00AAK31YW', 'B00AAXO706', 'B00AAY0BLE', 'B00AAZOQ4Q', 'B00ABA76FQ', 'B00ABG7GE6', 'B00ABJI1OM', 'B00ABLI0IC', 'B00ABMCHOO', 'B00AC5AXSM', 'B00ACFAULC', 'B00ACGMOA6', 'B00AD6OHT6', 'B00ADHKKZK', 'B00ADP3ID8', 'B00AE0T76Y', 'B00AE7D2HM', 'B00AEDGZOI', 'B00AEOULE2', 'B00AEYUZ98', 'B00AF40QAU', 'B00AFC0U6C', 'B00AFCM7RM', 'B00AFDOI0K', 'B00AFOMX7O', 'B00AFTZ2JK', 'B00AG8Y354', 'B00AGJKKH8', 'B00AH4VGL6', 'B00AH83RDM', 'B00AH9X13M', 'B00AHEW7W8', 'B00AHEWBM4', 'B00AHFXH30', 'B00AHKX866', 'B00AHKXCUI', 'B00AHKXPFA', 'B00AHL2X98', 'B00AHL2ZBO', 'B00AJF81NY', 'B00AJHA5H2', 'B00AJHBJ9U', 'B00AJHE5E6', 'B00AJHGXSM', 'B00AJHHWIC', 'B00AK7SKL4', 'B00AKHACKQ', 'B00AKPH4OK', 'B00AL77P8W', 'B00ALLX5FA', 'B00ALZ6WRO', 'B00AMB7NPC', 'B00AMJX4HU', 'B00AMSS3K4', 'B00AMWO44O', 'B00AN9LRVE', 'B00ANP5JMG', 'B00ANRZ8LQ', 'B00ANTTSFQ', 'B00AO3PM92', 'B00APS5EE4', 'B00APZ3WCS', 'B00AQ4U58W', 'B00AQ4U76M', 'B00AQBT3GK', 'B00AQBT40K', 'B00AQBT52W', 'B00AQZH7K0', 'B00AR0A4KY', 'B00AR2PN8U', 'B00ARAR8MQ', 'B00ARCAFNI', 'B00ASKGOES', 'B00ASOTCSY', 'B00AT9IV1W', 'B00AT9IV80', 'B00ATABRJE', 'B00ATL2X46', 'B00ATP5KF6', 'B00ATPD9T0', 'B00ATPGNJS', 'B00ATPO0B6', 'B00ATXJNHY', 'B00AUBG7X8', 'B00AV37F40', 'B00AW4TPJQ', 'B00AW7FTL6', 'B00AW7GA0U', 'B00AW91CPG', 'B00AWKF9RM', 'B00AWMR9SC', 'B00AX89MSA', 'B00AXE52KG', 'B00AXEDVJA', 'B00AY7XQNM', 'B00AY8MAMO', 'B00AZ98TVS', 'B00AZ98Z8U', 'B00AZIAQWY', 'B00AZM8YLA', 'B00AZNR6W2', 'B00AZUAORE', 'B00AZVS6XW', 'B00B054NVG', 'B00B0Y59XS', 'B00B1FFPYO', 'B00B1GF1OW', 'B00B1LZ3CC', 'B00B1TZCCA', 'B00B1VB0G0', 'B00B1YOENI', 'B00B20BN80', 'B00B28HDH2', 'B00B28HH32', 'B00B2HDB4C', 'B00B2IQYKO', 'B00B2N3XU8', 'B00B3DXHFS', 'B00B3JKWW8', 'B00B3K4YTY', 'B00B3K9LMO', 'B00B3PB0PK', 'B00B3PB118', 'B00B3PB11I', 'B00B3PB12M', 'B00B3PB12W', 'B00B3PB136', 'B00B3PB1G8', 'B00B42M3RG', 'B00B4IRD6Q', 'B00B4MPPZS', 'B00B4OFNMQ', 'B00B4OFPQK', 'B00B4OWHRA', 'B00B4VYKVE', 'B00B4WN5G4', 'B00B4XDWB6', 'B00B59A5VO', 'B00B5FSYR0', 'B00B5I9GYW', 'B00B5IC91Y', 'B00B5ILTDS', 'B00B5LANBY', 'B00B5LAVOI', 'B00B5LCADS', 'B00B5LCV2I', 'B00B5LDMH6', 'B00B5LDWTY', 'B00B5LDWVW', 'B00B5LEAFE', 'B00B5LEB6W', 'B00B5LEH8E', 'B00B5LEWKM', 'B00B5LFEMC', 'B00B5OY8BW', 'B00B5S93OK', 'B00B5SDFRG', 'B00B5SKWBS', 'B00B5U9IFC', 'B00B5X2W4I', 'B00B5ZX9FM', 'B00B6KMDU8', 'B00B6WZGHS', 'B00B7ALFUQ', 'B00B7CKL1I', 'B00B7DN59W', 'B00B7FW7IA', 'B00B7MF6EA', 'B00B8EFAPC', 'B00B8EFPM0', 'B00B8HY7J4', 'B00B8QC8CI', 'B00B8QC9O0', 'B00B8WM1R4', 'B00B8ZFDQW', 'B00B9060X6', 'B00B915M84', 'B00B973RIU', 'B00B9FMP9O', 'B00B9G8CVS', 'B00B9ICM1M', 'B00B9IQKQK', 'B00B9LBVN4', 'B00B9ORMSE', 'B00B9QOMCG', 'B00BA0PDHE', 'B00BAEJQ8C', 'B00BAKPZ4U', 'B00BANSY7M', 'B00BARTW3I', 'B00BARTW42', 'B00BARTW4C', 'B00BAXJEAS', 'B00BAYQKU4', 'B00BAYRLBG', 'B00BB2QBLI', 'B00BBE6X3W', 'B00BBF8RV2', 'B00BBRM00E', 'B00BBU0350', 'B00BBVXW16', 'B00BC3OVHM', 'B00BCAUG8S', 'B00BCC1UAO', 'B00BCL96T2', 'B00BDBMMEM', 'B00BDFQCXA', 'B00BEBE6Z4', 'B00BEIC3DO', 'B00BEML5PM', 'B00BEOHQA8', 'B00BESRB8Q', 'B00BEYDFA8', 'B00BF1KQ20', 'B00BF7XDO2', 'B00BF82I9W', 'B00BFN58WQ', 'B00BFNACAY', 'B00BFWIZGI', 'B00BFYH0CG', 'B00BFYHKJO', 'B00BFZPRI4', 'B00BG4AQSK', 'B00BG4OGC2', 'B00BGEZGXU', 'B00BGZ10UM', 'B00BHCMFXU', 'B00BHJC3UI', 'B00BHJNC4E', 'B00BHK2UHI', 'B00BHMSE3K', 'B00BHN05H2', 'B00BHO8KW8', 'B00BHRCFJO', 'B00BIBBJ46', 'B00BIBBKJA', 'B00BIBBLTO', 'B00BINPI1Y', 'B00BIP88O6', 'B00BIRR1TC', 'B00BJ6MWBO', 'B00BJ7QUCU', 'B00BJ8Q49S', 'B00BJ92TTQ', 'B00BJL8D7Q', 'B00BJL8QW8', 'B00BJLAX2O', 'B00BJLC4BM', 'B00BJLC50M', 'B00BJTGILG', 'B00BK3V6QS', 'B00BKVHIUI', 'B00BKXN9LS', 'B00BL12HBC', 'B00BL6JC7Y', 'B00BL6JDUA', 'B00BLEU43M', 'B00BLJYWMQ', 'B00BLNXOVM', 'B00BLQ0EKI', 'B00BLQ7M4E', 'B00BLQTZDA', 'B00BLYFRW0', 'B00BM9HOVG', 'B00BMFNFP4', 'B00BMFNL2G', 'B00BMFNLD0', 'B00BMIHAMU', 'B00BMIHB0Q', 'B00BMIHB2Y', 'B00BMIHDK4', 'B00BMIHDZO', 'B00BMIHGXS', 'B00BMJ3M44', 'B00BMJ3N4S', 'B00BMQ4C8C', 'B00BMU3B9O', 'B00BMU5R1Y', 'B00BMUCRRQ', 'B00BMUI2ZM', 'B00BN1RFBW', 'B00BN1RFGW', 'B00BN9A96W', 'B00BNVHCYM', 'B00BO2XDUC', 'B00BOGPX5G', 'B00BOSBS58', 'B00BOSFSUO', 'B00BOW4PHW', 'B00BP3MFVS', 'B00BP3MGMQ', 'B00BP6BGFG', 'B00BP96RQ6', 'B00BPDIBP2', 'B00BPHLFL0', 'B00BPM7INO', 'B00BPQARTM', 'B00BQ6KSK4', 'B00BQ6KSN6', 'B00BQ91V48', 'B00BQMOJK8', 'B00BQOFG6W', 'B00BQOFSH4', 'B00BQOHC3C', 'B00BQVGTN4', 'B00BR1DHNI', 'B00BR3TMGW', 'B00BRNHTUS', 'B00BRQ566Y', 'B00BRQ5AJW', 'B00BRQ5BHS', 'B00BRQ5C18', 'B00BS4TR6A', 'B00BSKM6PS', 'B00BSL5Z1E', 'B00BSXG624', 'B00BSXG6RY', 'B00BSXJY64', 'B00BSZT0NY', 'B00BT7UBPW', 'B00BTIQKM4', 'B00BTRD5XC', 'B00BTWZZ9Y', 'B00BTZHL52', 'B00BU9KCXK', 'B00BUI1TS8', 'B00BUIA362', 'B00BUQH808', 'B00BV01AOI', 'B00BVH7C66', 'B00BWKDN42', 'B00BXLPVB8', 'B00BYI3UMC', 'B00BYIAOF8', 'B00C0PZ1LQ', 'B00C0WLXOI', 'B00C0WMFIG', 'B00C10964I', 'B00C29VZ7O', 'B00C29W7DU', 'B00C2DC8N0', 'B00C2DJT46', 'B00C2DJW3E', 'B00C4VYFKY', 'B00C4XTK7U', 'B00C5B1WO0', 'B00C5B20FK', 'B00C5B20JG', 'B00C5B20QE', 'B00C5B26HC', 'B00C5GZU2K', 'B00C5I68AQ', 'B00C5QLYQQ', 'B00C5QMUE6', 'B00C5QMVI6', 'B00C5QMW3A', 'B00C5QMWQ2', 'B00C5VQQPU', 'B00C68APWM', 'B00C68MZXE', 'B00C69GC3W', 'B00C6IBH7E', 'B00C71791I', 'B00C7AFDVM', 'B00C7BXTSU', 'B00C7NTR8E', 'B00C86FA0E', 'B00C8U7WQ0', 'B00C99NHJ6', 'B00C9JLFUE', 'B00C9KWENU', 'B00C9RPIYK', 'B00CA1B0OC', 'B00CAKOVQM', 'B00CAL9B84', 'B00CAL9Z1W', 'B00CALCCM6', 'B00CALD6YO', 'B00CALDEDM', 'B00CALDLDK', 'B00CALE75G', 'B00CALEI8W', 'B00CALGTA2', 'B00CALHVIG', 'B00CALJ148', 'B00CB38CP4', 'B00CB38G32', 'B00CB39BXQ', 'B00CB39MJ4', 'B00CB5BMHW', 'B00CBB3D1Y', 'B00CBB51C8', 'B00CBFTJS6', 'B00CBPAPZW', 'B00CBU7EII', 'B00CBU9H0G', 'B00CBY2T9I', 'B00CC2R3UY', 'B00CCOGLEQ', 'B00CD2PQKW', 'B00CD9G604', 'B00CDA0IUC', 'B00CDB1JUE', 'B00CDINK72', 'B00CE0E9VK', 'B00CE0VLXO', 'B00CE1WNEO', 'B00CE1WO48', 'B00CE1YILK', 'B00CE1YJX2', 'B00CE1ZQ4S', 'B00CE203MC', 'B00CE2047Q', 'B00CE20FC0', 'B00CE20J3K', 'B00CE20R1O', 'B00CE20ZDY', 'B00CE21J3E', 'B00CE21T4I', 'B00CE221WM', 'B00CE22276', 'B00CE22JRO', 'B00CE6BLN8', 'B00CEIA1G4', 'B00CEKXD30', 'B00CEL76VY', 'B00CEOPL36', 'B00CF8DP52', 'B00CFK3MRQ', 'B00CFMWBLC', 'B00CFOX420', 'B00CFS5P6Y', 'B00CFSJ8F8', 'B00CFXH4S6', 'B00CG856SA', 'B00CGDJFPA', 'B00CGKI0J0', 'B00CHB5CVW', 'B00CHGKONI', 'B00CHQGQ0I', 'B00CHRUTG4', 'B00CI4IVZW', 'B00CICR3HG', 'B00CIHB8FY', 'B00CIIQFHE', 'B00CINAYPI', 'B00CINUOQ2', 'B00CIOH2KW', 'B00CJ26HDG', 'B00CK2DM7Y', 'B00CK2FOZM', 'B00CL0I9LO', 'B00CLANM0C', 'B00CLC3B06', 'B00CLFU4QW', 'B00CLFX4EQ', 'B00CMFY516', 'B00CMKFO66', 'B00CMKQ2ZI', 'B00CMUE76O', 'B00CN082V4', 'B00CNREJU0', 'B00CO0ME08', 'B00CO0SYXY', 'B00CO5IRSG', 'B00COOFHA8', 'B00COPKOUK', 'B00COTD0XO', 'B00COVEJ1E', 'B00CP3GOFK', 'B00CP3GP5Y', 'B00CP3GPFE', 'B00CP3GRD4', 'B00CP4IJHU', 'B00CP6LZIS', 'B00CP7U0Y2', 'B00CPCEIWM', 'B00CPDSNRC', 'B00CPG5Z3Y', 'B00CPLQLKU', 'B00CPPYPIQ', 'B00CPS17XY', 'B00CPSR13E', 'B00CPSY6H8', 'B00CPSYB5U', 'B00CQ71SMO', 'B00CQ8E83Y', 'B00CQ95D14', 'B00CQ96EBM', 'B00CQEK1Q6', 'B00CQN1Y68', 'B00CRKRJJ6', 'B00CRQWMYM', 'B00CRVWF4Y', 'B00CRY250U', 'B00CS4KU38', 'B00CS4L7DK', 'B00CS8F606', 'B00CS8QSSK', 'B00CSACG34', 'B00CSDDUV8', 'B00CSJVI4I', 'B00CSK53UC', 'B00CSKKZX2', 'B00CT2XJTG', 'B00CT3Q3Y8', 'B00CTKI10A', 'B00CTKI45M', 'B00CTKI5Q0', 'B00CTKI5QA', 'B00CTKI7AY', 'B00CTKI7D6', 'B00CTM4H42', 'B00CTQ0UWG', 'B00CTTJQHS', 'B00CTWOY36', 'B00CU7YZZ2', 'B00CUS6J2I', 'B00CVBKI8U', 'B00CWLEDLM', 'B00CWYONFU', 'B00CX60WNY', 'B00CX6HQ06', 'B00CXSJUZS', 'B00CYNHRIY', 'B00CYNTF70', 'B00CYNTFB6', 'B00D0661J0', 'B00D0G7ADQ', 'B00D0GV3RA', 'B00D1DDKNM', 'B00D1ORWF8', 'B00D1QZR1M', 'B00D2W1F2K', 'B00D35CNL8', 'B00D3LDBOU', 'B00D3QFHN8', 'B00D3QX2X0', 'B00D41CY2E', 'B00D41H59Q', 'B00D41PHZU', 'B00D4AGJ3U', 'B00D5MWDLE', 'B00D6RMFG6', 'B00D77A8VO', 'B00D78W20I', 'B00D7EJ584', 'B00D7I6IK8', 'B00D7ILMOK', 'B00D7LUZHC', 'B00D7YT1C4', 'B00D8G6B7E', 'B00D8HS0VS', 'B00D8HW0HI', 'B00D8RI0G8', 'B00D95T6DU', 'B00D95TRI4', 'B00D9AI708', 'B00D9ZVQFG', 'B00DALF966', 'B00DBC0ZA4', 'B00DCJ9DCW', 'B00DCJOZ34', 'B00DCM0GYS', 'B00DD5WWQE', 'B00DDAXWMM', 'B00DDTYN44', 'B00DDVJCO8', 'B00DDXJNR2', 'B00DDXK1BE', 'B00DDXKE84', 'B00DDXKGS2', 'B00DDXM77A', 'B00DEIGAP4', 'B00DFQMLEE', 'B00DFQMT14', 'B00DFU9BRK', 'B00DFU9GTS', 'B00DFUEZZI', 'B00DFUTY1I', 'B00DG89W0W', 'B00DGAXXV4', 'B00DGAXYYU', 'B00DH2QJG2', 'B00DH4Q668', 'B00DH6YW4E', 'B00DHIYQG6', 'B00DHK5ZLO', 'B00DHKAAHS', 'B00DI1GVNS', 'B00DIGBIU4', 'B00DIGBXMC', 'B00DIGC5NS', 'B00DIGCE5C', 'B00DIUDLFU', 'B00DIYNV4W', 'B00DJ42RB4', 'B00DJ4Q6FW', 'B00DJ5UJ5E', 'B00DJ66G3W', 'B00DJA5O2M', 'B00DJFM6XC', 'B00DJL8NKG', 'B00DJU32IU', 'B00DJU33AW', 'B00DJU340G', 'B00DJWO85E', 'B00DJWROZK', 'B00DKAQGTG', 'B00DLCUB8K', 'B00DLHGLCA', 'B00DM4LT10', 'B00DMACALC', 'B00DMCX1IG', 'B00DMCX3SY', 'B00DMIB5QA', 'B00DN2BHWC', 'B00DN43PQ6', 'B00DN7MI84', 'B00DND2KAY', 'B00DND8MJ2', 'B00DNDAJES', 'B00DNDR61W', 'B00DNGZ4CM', 'B00DO7AAJW', 'B00DO7AMZ4', 'B00DOA6Q06', 'B00DOA72RM', 'B00DOA74HA', 'B00DOA78OO', 'B00DOICMKG', 'B00DOP3GQS', 'B00DP1YFTI', 'B00DPL4WI2', 'B00DQCLILO', 'B00DQG8P34', 'B00DQU3TCW', 'B00DR0CO8Q', 'B00DR61QNO', 'B00DR61RJC', 'B00DR61TGS', 'B00DRFPF7I', 'B00DRG2OOO', 'B00DS1NDUW', 'B00DS1NI4I', 'B00DS9A442', 'B00DSSOVJW', 'B00DT59450', 'B00DTAIZNM', 'B00DTQ2TV0', 'B00DTWC34C', 'B00DU2VKV8', 'B00DU66WVM', 'B00DU66WWQ', 'B00DUFLKJM', 'B00DUKP37C', 'B00DV9H47E', 'B00DV9H9ME', 'B00DV9HENS', 'B00DVF093E', 'B00DVU9ETO', 'B00DW3UBX8', 'B00DWBKJV4', 'B00DWH7C04', 'B00DWHAEHM', 'B00DWJ1WYY', 'B00DWO8K5I', 'B00DWVB9K4', 'B00DWVBALM', 'B00DWX2BRM', 'B00DWX642U', 'B00DY0EQQC', 'B00DY1F2CS', 'B00DY4X6ZK', 'B00DYAIQYU', 'B00DYIIQ0Q', 'B00DZ0BIOE', 'B00DZJ5ZTE', 'B00DZW1CDO', 'B00E0EXYMS', 'B00E1CSI02', 'B00E1P4F1U', 'B00E1P4LGE', 'B00E3G4BWA', 'B00E3H67GM', 'B00E3J9MAS', 'B00E3JNEZ2', 'B00E3XY6LE', 'B00E411NG6', 'B00E4DEF00', 'B00E4DEW80', 'B00E4SN4VQ', 'B00E57DRE0', 'B00E58SW3U', 'B00E5WIXCQ', 'B00E71EG0I', 'B00E7MVP3S', 'B00E7S5ERU', 'B00E7S5L46', 'B00E7S5N7Q', 'B00E87OK1G', 'B00E87OLBU', 'B00E87OLFQ', 'B00E87OMMI', 'B00E8CEW7I', 'B00E8TQ3ZA', 'B00E93RQQ0', 'B00E94U7DS', 'B00E9EC2K4', 'B00E9H3EQC', 'B00E9M4QU0', 'B00E9SWQ3S', 'B00E9SWQG0', 'B00E9SWXGI', 'B00E9SX38K', 'B00E9THQFA', 'B00EA1U1X6', 'B00EACW8VI', 'B00EADCPDS', 'B00EAZYA98', 'B00EB11N46', 'B00EB11OHC', 'B00EB11R7O', 'B00EB11XDM', 'B00EB11YM2', 'B00EB12138', 'B00EB121CY', 'B00EB121KG', 'B00EB1226Y', 'B00EB123MM', 'B00EB124RQ', 'B00EB1257A', 'B00EB3UPX4', 'B00EBJ0JPW', 'B00EBK6C20', 'B00EBPY2HW', 'B00EBY8VZC', 'B00ECUO7JE', 'B00EDHVQN6', 'B00EDHWLFI', 'B00EDRUQXC', 'B00EDSCTO0', 'B00EDUGBB0', 'B00EE2545Q', 'B00EEJY2F2', 'B00EEZ3N74', 'B00EEZ4M0Q', 'B00EF8VGWE', 'B00EFAM9G4', 'B00EFOYYPO', 'B00EHDZTKW', 'B00EHZMQMY', 'B00EIDSXEU', 'B00EIKJBHG', 'B00EIMZG46', 'B00EIPR21S', 'B00EISSASE', 'B00EJ3HSK4', 'B00EJ3HVN8', 'B00EJCYSMQ', 'B00EJXZIP6', 'B00EK1OTZC', 'B00EKPMRWA', 'B00EM5UPUE', 'B00EMDNLKC', 'B00EMDNLUM', 'B00EMFW8C2', 'B00ENTT4SS', 'B00ENYRIJU', 'B00ENZFSK0', 'B00EO4A7L0', 'B00EO5Q6L4', 'B00EOADW5W', 'B00EOAF0G6', 'B00EOYKH5Q', 'B00EP668WE', 'B00EPCN9O8', 'B00EPFTFGQ', 'B00EPW6PA8', 'B00EPWAQS0', 'B00EPWJ7IA', 'B00EPWROKS', 'B00EPYNDT2', 'B00EQ232KI', 'B00EQ23C4Y', 'B00EQ23YFQ', 'B00EQ2508A', 'B00EQ252NS', 'B00EQ2539Q', 'B00EQ2558U', 'B00EQ25AZ8', 'B00EQ25B7A', 'B00EQ25LOS', 'B00EQ25MTW', 'B00EQ25NIM', 'B00EQ25TXQ', 'B00EQ26Q0G', 'B00EQ27FGU', 'B00EQ27MJK', 'B00EQ28DV6', 'B00EQ28NF2', 'B00EQ28NOS', 'B00EQ28OBA', 'B00EQ290Z4', 'B00EQ29FOK', 'B00EQ29JNM', 'B00EQ29KNG', 'B00EQ29R0M', 'B00EQB4M7Q', 'B00EQCFG4I', 'B00EQD71B8', 'B00EQDIIZ6', 'B00EQDITGO', 'B00EQX8RU2', 'B00EQYM8BU', 'B00ERPWAK2', 'B00ESAEUOU', 'B00ESDJ9RU', 'B00ESFHEXY', 'B00ETCSH7S', 'B00ETP9FFI', 'B00EU7D8RG', 'B00EUF5ILW', 'B00EVJV6CC', 'B00EW5I30I', 'B00EX1HGGI', 'B00EXN5BW2', 'B00EZ5JXZ4', 'B00EZ5SWV0', 'B00EZ6IXUE', 'B00EZ7KGKS', 'B00EZ8KRBA', 'B00F07YF90', 'B00F0FAO9C', 'B00F0GPTRS', 'B00F0GQ4WM', 'B00F0GQ6TS', 'B00F0GQ8QE', 'B00F0RS7EE', 'B00F0W9PAO', 'B00F0YAB8W', 'B00F1CLD76', 'B00F1DEI8G', 'B00F1HPGMY', 'B00F1I35NU', 'B00F1WLBTG', 'B00F20MIC6', 'B00F2AJBD0', 'B00F2H50QU', 'B00F2T5XB0', 'B00F37SX5Y', 'B00F3D9ZQE', 'B00F3DR7MI', 'B00F3E8F6E', 'B00F3F7316', 'B00F3F7OIS', 'B00F3F8O2I', 'B00F3I43Q6', 'B00F3L0CYU', 'B00F3P78SY', 'B00F3SC8YA', 'B00F3W27GA', 'B00F4MT2LM', 'B00F4MYC5I', 'B00F4O18CG', 'B00F4SCCR2', 'B00F4SDYNS', 'B00F5C06T8', 'B00F5EDK1M', 'B00F5N3LXU', 'B00F5OG37K', 'B00F5YEV7E', 'B00F5ZGI1U', 'B00F67S2ZM', 'B00F7OAB7G', 'B00F84TN9C', 'B00F8NBZAS', 'B00F912X96', 'B00F9826BY', 'B00F9DQXSG', 'B00F9FPWYU', 'B00F9SX2EE', 'B00FAZ5RRQ', 'B00FB2VAY2', 'B00FB6AYOK', 'B00FBN8FOY', 'B00FBRUSAE', 'B00FBSB6MW', 'B00FBYZDQQ', 'B00FC2KREK', 'B00FC4BOKE', 'B00FC4YO60', 'B00FC4YPF0', 'B00FC4YTZQ', 'B00FC4YVPE', 'B00FC4Z842', 'B00FC4ZAHM', 'B00FD21BCQ', 'B00FDU4XS2', 'B00FE8WMAY', 'B00FEICWU4', 'B00FEK5QPK', 'B00FF2FHTM', 'B00FF908E4', 'B00FF90BEG', 'B00FFHDR6C', 'B00FFIGZF6', 'B00FFLT956', 'B00FFVKM2U', 'B00FFVLKJE', 'B00FG9B17Q', 'B00FGFIO20', 'B00FGNY0P2', 'B00FGUPE9G', 'B00FHBL6GY', 'B00FI6NA44', 'B00FJB1J4Q', 'B00FJDNFGE', 'B00FJOTATE', 'B00FJWKDVA', 'B00FK1ENFW', 'B00FK9CJCS', 'B00FKBV0TY', 'B00FKIYECC', 'B00FKP90XS', 'B00FKXZE5I', 'B00FKY3IFA', 'B00FKY86V6', 'B00FL042I0', 'B00FLL97MK', 'B00FLOIK6G', 'B00FLXNKJ4', 'B00FLXNKJE', 'B00FLXNM9M', 'B00FLXNO8Q', 'B00FM0MSDK', 'B00FN71R7U', 'B00FN9CTJI', 'B00FNEB9XU', 'B00FNIAE78', 'B00FNY74V6', 'B00FO7NZ1K', 'B00FOL1WG6', 'B00FONJ658', 'B00FONJ6AI', 'B00FOXZBKC', 'B00FPOWT8C', 'B00FPT8D4Q', 'B00FPXDRQQ', 'B00FQ10MWY', 'B00FQBVHM8', 'B00FQRW550', 'B00FR0T8V0', 'B00FS139F4', 'B00FS6SP5S', 'B00FSDBTHW', 'B00FSIN0U6', 'B00FSSTQOK', 'B00FTZJDZ4', 'B00FUTXO8G', 'B00FVRYBRU', 'B00FW6Q6RI', 'B00FW6YG5C', 'B00FW7508S', 'B00FW773LA', 'B00FW84QMI', 'B00FWFDRK8', 'B00FX7MMRO', 'B00FXBU85S', 'B00FXKIG5I', 'B00FYNMXUI', 'B00FYQFPFU', 'B00FYU94O4', 'B00FZ1OBKE', 'B00FZHX9T2', 'B00FZIJPQ2', 'B00FZJ25TU', 'B00FZYYD54', 'B00G059BU4', 'B00G059CRQ', 'B00G059DM0', 'B00G0MYRMY', 'B00G0O9ZU6', 'B00G0TRK9Y', 'B00G0U5ASG', 'B00G222EKE', 'B00G22W49K', 'B00G2617NA', 'B00G2E3J4M', 'B00G31M512', 'B00G31YMVS', 'B00G35U9Z2', 'B00G3ZTJOY', 'B00G4TWSKG', 'B00G504MLW', 'B00G6CMP1S', 'B00G6H0S1W', 'B00G6PKUBC', 'B00G7RHR9W', 'B00G84U19M', 'B00G8H1UCG', 'B00G8H1V5C', 'B00G8IAX3M', 'B00G8IV98U', 'B00G8IV9DA', 'B00G8IV9MG', 'B00G8IVALG', 'B00G8IVFZW', 'B00G8IVGCE', 'B00G8JRANM', 'B00G8JRANW', 'B00G8WW4BC', 'B00G964BUY', 'B00G98WDE8', 'B00G99BZ4Q', 'B00G9AZJJC', 'B00G9AZW8A', 'B00G9B06V2', 'B00G9LBB8Y', 'B00GA99CCW', 'B00GCFCA00', 'B00GCLIXL4', 'B00GCY8J6K', 'B00GD1JEQG', 'B00GD58STQ', 'B00GDFUJRK', 'B00GDY5TKS', 'B00GDY5YBW', 'B00GDY6M7M', 'B00GE5B2JI', 'B00GE5B60S', 'B00GE5H5BW', 'B00GEDQA4W', 'B00GEDQAJW', 'B00GEDQBS2', 'B00GESFC1Y', 'B00GESFN9A', 'B00GESGCEK', 'B00GFFLCS8', 'B00GFG19G2', 'B00GFI3WAQ', 'B00GFT1PXG', 'B00GFVLF5W', 'B00GG20DJ4', 'B00GG95U86', 'B00GGGBESE', 'B00GGGQK56', 'B00GGMW8HY', 'B00GGMWA3G', 'B00GGMWA5O', 'B00GGMWAW2', 'B00GGMWBNU', 'B00GGN3FG6', 'B00GGN4NXA', 'B00GGY6ATO', 'B00GH2QZCM', 'B00GHUC2DK', 'B00GHVVXRU', 'B00GI2L9KO', 'B00GJL7UC0', 'B00GJW0JGI', 'B00GK6K77O', 'B00GK75WXC', 'B00GKBFII2', 'B00GKD3LKM', 'B00GKNFRRM', 'B00GKOJC5Y', 'B00GLGECUQ', 'B00GM0NX3S', 'B00GMCCPR6', 'B00GMEHMGS', 'B00GMNG620', 'B00GMSL9M2', 'B00GN2ZSVA', 'B00GN4URX2', 'B00GN4UTXA', 'B00GN4UVHE', 'B00GN4VP6A', 'B00GN4VSM6', 'B00GNI6QBU', 'B00GOIFW5K', 'B00GOL1X9Q', 'B00GP2H06Y', 'B00GP46ITM', 'B00GPHHW8K', 'B00GQ5FQV6', 'B00GRKXRMK', 'B00GRN1VNO', 'B00GROJWAW', 'B00GRPCRIA', 'B00GRPIUEU', 'B00GRQ8LVQ', 'B00GRRDFZC', 'B00GRRN2RI', 'B00GS41CHW', 'B00GS41DPI', 'B00GS82FQ0', 'B00GS82H86', 'B00GS89KPE', 'B00GSNSL72', 'B00GSQFWOE', 'B00GTENCLA', 'B00GTSM8CK', 'B00GTSM8FW', 'B00GTSM9XI', 'B00GTVF6VC', 'B00GTYDBVG', 'B00GV3JULU', 'B00GVE4KAK', 'B00GW1DFY4', 'B00GWH0OUQ', 'B00GWNMFCU', 'B00GWULNQC', 'B00GWYM71S', 'B00GXMA3PQ', 'B00GXMKZRW', 'B00GXML7OM', 'B00GXMLEO0', 'B00GXMMLXI', 'B00GXMNO52', 'B00GXMNOXY', 'B00GXMTU0K', 'B00GXMU478', 'B00GXMU9R8', 'B00GXMUTGE', 'B00GXMYJLU', 'B00GXMYSQ6', 'B00GXMZ32Y', 'B00GXMZFEA', 'B00GXMZIMO', 'B00GXMZNSI', 'B00GXNBI18', 'B00GXNDCXA', 'B00GXNMJDO', 'B00GXNS5PU', 'B00GXO7ASC', 'B00GXQRW6U', 'B00GXTUOTO', 'B00GXTUTLC', 'B00GYE393Q', 'B00GYETWI2', 'B00GYFFF46', 'B00GYFMXUA', 'B00GYGRSPY', 'B00GYGRTT4', 'B00GYHFAZS', 'B00GYITG48', 'B00GYZ93VW', 'B00GZ5FCVG', 'B00H02C9TG', 'B00H05ZVZ2', 'B00H0FIS16', 'B00H3OOXEU', 'B00H40VBSY', 'B00H40VYPY', 'B00H45673I', 'B00H45LS46', 'B00H45XNKS', 'B00H4J7WLU', 'B00H4J8V7Y', 'B00H4R04CG', 'B00H54AILK', 'B00H552D3A', 'B00H563XI8', 'B00H59ZDGU', 'B00H5AKQO8', 'B00H5W80EY', 'B00H5XQH20', 'B00H7GJT84', 'B00H84CL6M', 'B00H8AOKO2', 'B00H8JAJP2', 'B00H8KK1KE', 'B00H8L11P2', 'B00H8M35PA', 'B00H90W3AE', 'B00HAHTGEM', 'B00HAHTM96', 'B00HB2ZSSO', 'B00HB2ZVRC', 'B00HB2ZVWM', 'B00HB2ZVZE', 'B00HB7898U', 'B00HB8TOPG', 'B00HBN6T1I', 'B00HBS5UW2', 'B00HBSFY0U', 'B00HBSI2RM', 'B00HCLFFFA', 'B00HCLFMVM', 'B00HCPTXJA', 'B00HCWXGRS', 'B00HCX70XI', 'B00HDA0RTO', 'B00HEE71E8', 'B00HEQ6J0I', 'B00HET52JE', 'B00HEW365S', 'B00HEXV80M', 'B00HF07D6M', 'B00HF0YBXU', 'B00HFQC3VQ', 'B00HFRXDQO', 'B00HFRXFVC', 'B00HFSHFPI', 'B00HG29EYI', 'B00HH4NO96', 'B00HH62VB6', 'B00HH7E6AO', 'B00HHFY8TA', 'B00HHGUAVY', 'B00HHLUISO', 'B00HHZERU0', 'B00HHZUTQQ', 'B00HIRARLA', 'B00HJ9VUNG', 'B00HJCK4J4', 'B00HJD0XDU', 'B00HJOTFI8', 'B00HJOTQ6O', 'B00HLBZE5C', 'B00HLTM7RW', 'B00HLVOO2G', 'B00HLW1A5O', 'B00HMD0TK4', 'B00HMQ1D06', 'B00HMQ1G9O', 'B00HMQ1SHO', 'B00HMRXEUW', 'B00HMRZDSS', 'B00HN019HS', 'B00HN9A4BG', 'B00HNIHMZ8', 'B00HNMB1NI', 'B00HNVYUNW', 'B00HPPKBG6', 'B00HQCXBH4', 'B00HQCXBO2', 'B00HQKJ4WC', 'B00HQXUH5W', 'B00HR5RRLQ', 'B00HRNRKA6', 'B00HSP6KGS', 'B00HSPW57G', 'B00HSSC0BY', 'B00HTBET0U', 'B00HTUAX1K', 'B00HV7U49W', 'B00HV7U4CY', 'B00HV7U4EC', 'B00HV7ULRC', 'B00HV7ULYU', 'B00HV7UOM4', 'B00HV8F694', 'B00HV8FJ8W', 'B00HVI1FBM', 'B00HVKM9BA', 'B00HVLUR54', 'B00HVLUR86', 'B00HVLUSGM', 'B00HVMKO2O', 'B00HVUSWO8', 'B00HWIRQXM', 'B00HWL9MZO', 'B00HWM3UBA', 'B00HWM9GRM', 'B00HWMG44U', 'B00HWMWWO6', 'B00HWRDSVM', 'B00HX40OL6', 'B00HX40OXY', 'B00HX40PAQ', 'B00HX40PEC', 'B00HX40Q3C', 'B00HX6IQK0', 'B00HX9EXP4', 'B00HX9F1N2', 'B00HX9F1OQ', 'B00HXE4BYW', 'B00HXXYMWE', 'B00HYM5S4U', 'B00HYM9MP6', 'B00HYMA8KE', 'B00HYMBMEU', 'B00HYMC0N2', 'B00HYMEQ8E', 'B00HYN7NR4', 'B00HZA6EEY', 'B00HZA6EJO', 'B00HZQEH7Y', 'B00HZQS9WI', 'B00HZREOFI', 'B00HZRXD8C', 'B00I041660', 'B00I056NYY', 'B00I08RT3U', 'B00I0FB6FU', 'B00I0Q8JNQ', 'B00I0RHU8K', 'B00I0SDHKY', 'B00I0YOB9O', 'B00I11N2VO', 'B00I13N9NI', 'B00I1H6KJO', 'B00I1U1Z3W', 'B00I1Y45US', 'B00I2J4TWG', 'B00I2J4WJG', 'B00I35ZBBW', 'B00I362NXU', 'B00I3ELMX4', 'B00I3ELO6O', 'B00I3OZNQQ', 'B00I3OZO7E', 'B00I3SVVWC', 'B00I3TOXVM', 'B00I3TP9JM', 'B00I3UNCMM', 'B00I3XFYWK', 'B00I3XGBZ4', 'B00I3XGDZC', 'B00I3XGDZM', 'B00I3XGE2E', 'B00I3XGEZ6', 'B00I3XGGM2', 'B00I3XGGPO', 'B00I40ONNS', 'B00I4DX9NU', 'B00I4IKVTU', 'B00I4INKZ2', 'B00I50OQIO', 'B00I50U7KK', 'B00I534TCY', 'B00I5R29OK', 'B00I6ILLGA', 'B00I6JGOBG', 'B00I6JGPHY', 'B00I81TJL4', 'B00I81U39Q', 'B00I852N4K', 'B00I88HPUO', 'B00I8HTOHC', 'B00I8QJWJI', 'B00I9FI1TU', 'B00I9FL3OA', 'B00I9HOUIY', 'B00I9RHNBU', 'B00IA04EPY', 'B00IACB90K', 'B00IACBP36', 'B00IACCJLI', 'B00IACCLNO', 'B00IACDT5I', 'B00IACDW7I', 'B00IACEYK2', 'B00IACIOVW', 'B00IAYFIXW', 'B00IB6HO4A', 'B00IB6HW5G', 'B00IBIUZGW', 'B00IBIUZQW', 'B00IBJ7D8O', 'B00IBPOBW4', 'B00ICR3HZS', 'B00ICR62M8', 'B00ICR9FKY', 'B00ICR9G2Q', 'B00ICT5F5G', 'B00ICT5GC8', 'B00ID2NB1C', 'B00IE3EZYW', 'B00IFB3O5O', 'B00IFEKUTO', 'B00IFHCOAE', 'B00IFHCOGS', 'B00IFHCOUO', 'B00IFOTSJW', 'B00IFSY9ME', 'B00IGDHSLM', 'B00IGDXK9Q', 'B00IGGRRD8', 'B00IGGS3EA', 'B00IGGSGNI', 'B00IGGWBPM', 'B00IGGWCT2', 'B00IGRX9FW', 'B00IGUTZX4', 'B00IH0BOPK', 'B00IH0BP6S', 'B00II5NUKG', 'B00II5NV28', 'B00II6H1SC', 'B00II6VKSO', 'B00II90A5U', 'B00II911US', 'B00IIV3K0U', 'B00IIVYGQM', 'B00IJ23YS6', 'B00IJ6QAO2', 'B00IJ77TRI', 'B00IJE7WRI', 'B00IJIJW2C', 'B00IJKZ120', 'B00IJM4EO4', 'B00IJQLZP6', 'B00IJSBCOI', 'B00IJYE14K', 'B00IJYE2OE', 'B00IK9P6HK', 'B00IKTWTD4', 'B00IKVCVNK', 'B00IKWM92M', 'B00ILAQ974', 'B00IMN8U72', 'B00IMNCM2Q', 'B00IMOY5GQ', 'B00IMPKQGI', 'B00IN2WFA0', 'B00IN2WGDQ', 'B00IN2WHGM', 'B00IN2WHHQ', 'B00IN761G4', 'B00IN7EFM6', 'B00INCGKSI', 'B00INEAHOE', 'B00INK6PIU', 'B00INNJZPC', 'B00INW2DZ2', 'B00INZY55K', 'B00IO5ZROC', 'B00IOQADYU', 'B00IOQE2U6', 'B00IOSJ72M', 'B00IPNO6KO', 'B00IPWOEJI', 'B00IQCRJ8K', 'B00IQCRJ9Y', 'B00IQF5DQ2', 'B00IQH1IYG', 'B00IQYZUMU', 'B00IR4CU22', 'B00IR5PRNA', 'B00IRMEZTK', 'B00IS8DRBA', 'B00ISH3PYU', 'B00ISQCG64', 'B00ISQCHF4', 'B00ISQCIDU', 'B00ISQCKWE', 'B00ISQCN2Q', 'B00ISQCN6M', 'B00ISQCO8E', 'B00IT6URLY', 'B00IT7JRVO', 'B00IU047WO', 'B00IU04BCU', 'B00IU3GCZQ', 'B00IU3GFT4', 'B00IUFL39Y', 'B00IVAGZAU', 'B00IVPFXLW', 'B00IVPFZ9W', 'B00IVPFZAG', 'B00IWIPC6E', 'B00IWRJSE2', 'B00IWU4BF0', 'B00IWVL3SW', 'B00IWWEW20', 'B00IWXMGH2', 'B00IX04FDW', 'B00IXPXEN4', 'B00IY0BLB0', 'B00IY0BN4A', 'B00IYYRPJS', 'B00IZ1AW9K', 'B00IZAD4KU', 'B00IZAUQUG', 'B00IZCSX9U', 'B00IZGUGM8', 'B00J0823EO', 'B00J0823FI', 'B00J10ZRTE', 'B00J1T5BLY', 'B00J1UXIPY', 'B00J2EKI20', 'B00J2JAT2Y', 'B00J2NFJT8', 'B00J32QZY6', 'B00J32R1ZS', 'B00J36QOCK', 'B00J3DXXEA', 'B00J3LILNK', 'B00J3W6050', 'B00J3Y6328', 'B00J3YYSUW', 'B00J3ZCVCS', 'B00J3ZKY7C', 'B00J49MFHY', 'B00J4A70M8', 'B00J4JKAKS', 'B00J4JXTZQ', 'B00J4TBMVO', 'B00J4VTD04', 'B00J55WCMA', 'B00J5KNW56', 'B00J5OAF34', 'B00J5OK57U', 'B00J6XI15S', 'B00J8MW086', 'B00J8PWZ56', 'B00J97M9FO', 'B00J989VV8', 'B00J98A6BM', 'B00JA4T6F2', 'B00JA4T6FM', 'B00JA4T6MU', 'B00JA4T6NE', 'B00JA4T6RU', 'B00JA4T710', 'B00JA4T724', 'B00JA4T76U', 'B00JA4T77E', 'B00JA4T7GU', 'B00JA4T7HE', 'B00JA4T7O2', 'B00JA4T7OC', 'B00JA4T7QA', 'B00JA4T7QK', 'B00JA4T7RE', 'B00JA4T7WY', 'B00JA4T7Y2', 'B00JA4T82S', 'B00JA4T850', 'B00JA4T89Q', 'B00JA8QD40', 'B00JAEDIP6', 'B00JALJ6BY', 'B00JANBU66', 'B00JAO2UY6', 'B00JB2IHLW', 'B00JB4WA54', 'B00JB4WAR2', 'B00JB4WEJG', 'B00JBIVXGC', 'B00JBJ2HNO', 'B00JDP3J10', 'B00JDWHDSS', 'B00JEFNSKG', 'B00JER27MO', 'B00JF0A5GK', 'B00JFEDJQY', 'B00JFEDZUO', 'B00JFN3KLY', 'B00JG8DRZM', 'B00JJ18U6W', 'B00JJ191Z6', 'B00JJFV1K0', 'B00JJIBUQW', 'B00JJIEIZ2', 'B00JJNFP54', 'B00JKGHP1C', 'B00JKKI88W', 'B00JKNS208', 'B00JL0TZ10', 'B00JL5HHJC', 'B00JL5HKVM', 'B00JL75WN8', 'B00JLKS23C', 'B00JLP1PYA', 'B00JLY9UWA', 'B00JM11MN2', 'B00JM22LPE', 'B00JN1LGTQ', 'B00JOP0P1G', 'B00JOP0P6Q', 'B00JOYYVEO', 'B00JPCUU86', 'B00JPCVHVU', 'B00JPPZ9P2', 'B00JPQIQZ6', 'B00JPSWDFI', 'B00JQ1CUAC', 'B00JQ3E9KO', 'B00JQ3Q7IQ', 'B00JQYUI7G', 'B00JQYUIJ4', 'B00JQYV4CO', 'B00JQZS4HG', 'B00JQZS5E8', 'B00JR2DDW4', 'B00JRGHEZ2', 'B00JRK649U', 'B00JSAMV5A', 'B00JSCP1EQ', 'B00JSCP3AS', 'B00JSCP51A', 'B00JSCP53S', 'B00JSCP55Q', 'B00JTU8YJ6', 'B00JUDZIR8', 'B00JVFI3GS', 'B00JVI0YJE', 'B00JW286K8', 'B00JW44IXU', 'B00JWU5URM', 'B00JX22MIO', 'B00JXD94OI', 'B00JXDE8CG', 'B00JXO6ED6', 'B00JYCJZ9W', 'B00JYCK37K', 'B00JYCK3R0', 'B00JYFAWH8', 'B00JYG7LIU', 'B00JYJFE72', 'B00JYM9M8Q', 'B00JYW79IQ', 'B00JZEW4XS', 'B00JZT20U0', 'B00JZZWUEA', 'B00K0NZQHY', 'B00K0S6LYG', 'B00K0TPTM0', 'B00K17YFC6', 'B00K2D9NXA', 'B00K2FVUVQ', 'B00K2U365Y', 'B00K38OM8A', 'B00K3MI70A', 'B00K40GBEU', 'B00K544J6C', 'B00K5A2ST6', 'B00K5RKD00', 'B00K5U05U0', 'B00K5X21MM', 'B00K5Z56NQ', 'B00K68MT9Q', 'B00K6ZX57Y', 'B00K72ESYU', 'B00K87GKOA', 'B00K8EDPWI', 'B00K8MZTPG', 'B00K9XF6JS', 'B00KAC88J8', 'B00KAFOXXU', 'B00KAPGLQC', 'B00KATAP38', 'B00KAVMRXW', 'B00KAWA4T0', 'B00KBCORLK', 'B00KBCOWL0', 'B00KBD47CS', 'B00KBMAJU8', 'B00KBMAJZS', 'B00KBMLAV0', 'B00KBMQDGC', 'B00KC0E1XK', 'B00KCN83VI', 'B00KCXMBES', 'B00KD5RGBS', 'B00KDE3U5K', 'B00KDX7W4Q', 'B00KFFZXES', 'B00KFWJRIY', 'B00KGBLIWW', 'B00KGI7BY4', 'B00KGQ9IME', 'B00KHBPZGG', 'B00KIMHMX8', 'B00KISGY8Q', 'B00KIXQDMS', 'B00KIXUG5I', 'B00KIZROW4', 'B00KJ6WGJS', 'B00KJX28EY', 'B00KKPRR2O', 'B00KKPUC0I', 'B00KKV0S4C', 'B00KLFJZ6Y', 'B00KLLKE04', 'B00KLRDXDS', 'B00KM3YWS6', 'B00KM9SSSA', 'B00KMA0R38', 'B00KMDS32W', 'B00KMFL70K', 'B00KMFUCC4', 'B00KMILKGS', 'B00KMKIOWE', 'B00KMPCYOS', 'B00KMU9AUE', 'B00KN0EK9E', 'B00KNLX8W8', 'B00KNSPBUI', 'B00KO8W060', 'B00KO8W3FI', 'B00KO8W4VG', 'B00KO8W5CO', 'B00KOGV83S', 'B00KPFGNB0', 'B00KPFMTJU', 'B00KQ2P0WA', 'B00KQPGRRE', 'B00KR9MNBS', 'B00KRNEB46', 'B00KRO8UYC', 'B00KRQP6BK', 'B00KRR2DT2', 'B00KSC94RK', 'B00KTCLYZE', 'B00KTEN2V6', 'B00KU4Y2W8', 'B00KUC2INU', 'B00KV3NOIQ', 'B00KVEIY4E', 'B00KVOJ3AI', 'B00KVS6XGG', 'B00KVWK6M4', 'B00KWIM2FG', 'B00KWINE9Y', 'B00KWIO31C', 'B00KWOX57O', 'B00KXQIU5S', 'B00KXQIV7K', 'B00KXQIY86', 'B00KXUZ2HI', 'B00KYDVIHM', 'B00KZ1VGLQ', 'B00KZ1VKIA', 'B00KZHMM6S', 'B00KZHMMJU', 'B00KZHMTZ2', 'B00KZHMU06', 'B00KZHN3CU', 'B00KZHRY9I', 'B00KZQ1VXY', 'B00L0VGMRS', 'B00L0X8ATE', 'B00L1KOHH0', 'B00L1KSX4I', 'B00L1LL0PQ', 'B00L1LL7DQ', 'B00L1LLDKS', 'B00L1LMGLI', 'B00L1LNF6S', 'B00L1LOIGY', 'B00L1LQ5L0', 'B00L1LQAVU', 'B00L2282QO', 'B00L25ZNP4', 'B00L2HYGLE', 'B00L2M52DK', 'B00L2QDKIU', 'B00L36ICX2', 'B00L37PRM0', 'B00L40R4J0', 'B00L40YCI6', 'B00L40YDYY', 'B00L4F4GRS', 'B00L4KSL2Y', 'B00L4KT2O0', 'B00L4KT3RQ', 'B00L5JFX7K', 'B00L5Q7E5W', 'B00L5QAPYO', 'B00L5QGY8K', 'B00L5R3P04', 'B00L5R5W2I', 'B00L6C8PN0', 'B00L6HR4VE', 'B00L711492', 'B00L75HEIS', 'B00L75HFOQ', 'B00L75HGUY', 'B00L75HHQW', 'B00L8V9S1M', 'B00L9EKJY8', 'B00L9JDS46', 'B00LA0HG10', 'B00LA10IUU', 'B00LBFXCK8', 'B00LBKFYUO', 'B00LBLTJUO', 'B00LBO0PWM', 'B00LC6HY3M', 'B00LDZOJD0', 'B00LG6ZGHY', 'B00LGDYGSC', 'B00LGNF4YW', 'B00LGNFAIC', 'B00LGNFALY', 'B00LGNFAW8', 'B00LGWVNX4', 'B00LGWVU6Y', 'B00LHN0RP2', 'B00LIDQ8PO', 'B00LIO8PK4', 'B00LIO8PU4', 'B00LIQEBM8', 'B00LIR7QNS', 'B00LIUCVE4', 'B00LIUDD5A', 'B00LIUDIUA', 'B00LIUNV5C', 'B00LIX3ZYQ', 'B00LJY0E6G', 'B00LJY360C', 'B00LJY3ND2', 'B00LJY3RKG', 'B00LJY5K3I', 'B00LKQHAVA', 'B00LKXCK1I', 'B00LM49BP8', 'B00LMRNIL8', 'B00LMRNIUE', 'B00LMRNNIG', 'B00LMRNNLI', 'B00LNJSRA2', 'B00LNV2SAK', 'B00LO3K5WA', 'B00LPHTLUM', 'B00LQ0AF3K', 'B00LRE0V5M', 'B00LTDOH4M', 'B00LTDOL02', 'B00LTDON0K', 'B00LTL0KLI', 'B00LU8K790', 'B00LU9SQAG', 'B00LUVIURS', 'B00LVQ2B72', 'B00LVV0ZGG', 'B00LW65FIS', 'B00LW8VLRU', 'B00LWAJJ40', 'B00LWGQMKI', 'B00LWHC1A2', 'B00LXBC7W4', 'B00LXBC92M', 'B00LXMN740', 'B00LYJG0JQ', 'B00LZS99GW', 'B00LZZ7B0Q', 'B00M090FDG', 'B00M0EHEJE', 'B00M0K37RG', 'B00M0LLJ2U', 'B00M0VD428', 'B00M10X9J6', 'B00M2YVML8', 'B00M35GOP0', 'B00M3KV5X6', 'B00M3LQLQQ', 'B00M3M4SGA', 'B00M4K938O', 'B00M4LI24E', 'B00M5NGXKG', 'B00M6O1M8W', 'B00M6POXNC', 'B00M6PYKY4', 'B00M8GOHTY', 'B00M8ML0IO', 'B00M92R32U', 'B00M96RW0Y', 'B00M96RWEU', 'B00M9CUJ6W', 'B00M9CUL60', 'B00M9CUOKI', 'B00M9KIIKI', 'B00MANJVA0', 'B00MAQNAPY', 'B00MB5F33Q', 'B00MCM72GE', 'B00MD7ODNS', 'B00MD7S06O', 'B00MDAZSXO', 'B00MEOHC7E', 'B00MEQSLNG', 'B00MF1LDQC', 'B00MF7OSQI', 'B00MH1LTIW', 'B00MH1MSXM', 'B00MH1PEK6', 'B00MH1PQ90', 'B00MHUGL7W', 'B00MI2YF6I', 'B00MIA1TSW', 'B00MIBIEL6', 'B00MIXF200', 'B00MIXFBKG', 'B00MIXFBL0', 'B00MJLZIDW', 'B00MMTWQ4U', 'B00MN2FBEI', 'B00MN92UT0', 'B00MO6KKSK', 'B00MOO3MI2', 'B00MORS45A', 'B00MORT53K', 'B00MORUCOQ', 'B00MOS1SXE', 'B00MOS4UAM', 'B00MOYAK6O', 'B00MP566OM', 'B00MRNXJ06', 'B00MRX3NBQ', 'B00MS7GAXE', 'B00MTXU2DG', 'B00MU2DJM2', 'B00MUFJXTM', 'B00MV4VV2E', 'B00MV4WEM0', 'B00MV840SC', 'B00MV841E0', 'B00MV841JK', 'B00MVAYTRW', 'B00MVC0UN2', 'B00MVC14N2', 'B00MVC4XEO', 'B00MWRZ11M', 'B00MWRZ9NM', 'B00MWS26QY', 'B00MX3OO1S', 'B00MXCYURC', 'B00MXUI9BM', 'B00MXUII7M', 'B00MXUIICM', 'B00MXUIICW', 'B00MXUIIJU', 'B00MXUIMF0', 'B00MXUIMLY', 'B00MXUIN9U', 'B00MXUIQSI', 'B00MXUIXNG', 'B00MXUIYNA', 'B00MXUJ394', 'B00MXUJFTC', 'B00MXUJGBE', 'B00MXUJN7G', 'B00MXUJRA4', 'B00MXUJRHC', 'B00MXUJRKE', 'B00MXUJRNG', 'B00MXUJRVS', 'B00MXXTE9A', 'B00MY6XPOG', 'B00MY93GYW', 'B00MYG0B20', 'B00MYGE6B2', 'B00MZC8YMM', 'B00MZCES7W', 'B00MZCEY9O', 'B00MZY6DXM', 'B00N0EA3NC', 'B00N0EPZU8', 'B00N12T370', 'B00N12WYUS', 'B00N17OY06', 'B00N1YQMOA', 'B00N1YQPJ2', 'B00N23EL5C', 'B00N2AZVHW', 'B00N2G3JUC', 'B00N2QO5H8', 'B00N30P8MO', 'B00N3B9C02', 'B00N3EHW4C', 'B00N3LK24W', 'B00N3NPFGK', 'B00N3TQ4QO', 'B00N4KMCVI', 'B00N4PJUFO', 'B00N4QF1F6', 'B00N4Z1V4C', 'B00N4ZHPZ6', 'B00N58RMB4', 'B00N5U3554', 'B00N8JCV48', 'B00N8O24WC', 'B00N8PH6UG', 'B00N99AKMW', 'B00N9CTABG', 'B00N9CV8CA', 'B00N9CWS7E', 'B00N9CX0BM', 'B00N9VMCAI', 'B00NALMHLQ', 'B00NARHNCS', 'B00NAU1N0I', 'B00NAVTVF6', 'B00NB42FTG', 'B00NB8879O', 'B00NBAB5VY', 'B00NCCXLX6', 'B00NCCXP28', 'B00NCEWTW8', 'B00NCEXTOA', 'B00NCOJOUS', 'B00NCWCTBG', 'B00ND1K8T6', 'B00NEUDNVQ', 'B00NEZNT74', 'B00NF61WMG', 'B00NF9KY68', 'B00NF9KYKO', 'B00NF9KYUY', 'B00NF9L020', 'B00NF9L0HU', 'B00NF9L0IO', 'B00NF9L296', 'B00NFQ4D9K', 'B00NFZAINQ', 'B00NG53AS0', 'B00NG54D4U', 'B00NICSAVI', 'B00NIE80A2', 'B00NJSUJX8', 'B00NJTUCIE', 'B00NJVS05E', 'B00NKD1JYK', 'B00NKGAJYS', 'B00NL2XSD0', 'B00NLGIJIK', 'B00NMUUIRK', 'B00NN8OGFG', 'B00NNFF5FY', 'B00NO5B8WC', 'B00NOITK74', 'B00NOT94O2', 'B00NOY93DO', 'B00NOY9UGY', 'B00NOYB0K8', 'B00NP57IA2', 'B00NP80XMO', 'B00NP8GYVS', 'B00NQ9519M', 'B00NQCASJW', 'B00NQIBF70', 'B00NQR93UC', 'B00NR6U9PU', 'B00NR80DJU', 'B00NRRODS8', 'B00NS73RVG', 'B00NS76420', 'B00NSET0N8', 'B00NSET3NA', 'B00NSET9Y8', 'B00NSETB7S', 'B00NSETD8A', 'B00NSETIXK', 'B00NSETNJE', 'B00NSFFT6O', 'B00NSQZGW0', 'B00NT08MAI', 'B00NTMC4SC', 'B00NVPSXGE', 'B00NW1IZCO', 'B00NWE79BY', 'B00NX7L6UA', 'B00NYNJO3O', 'B00O1QJ6KE', 'B00O2BZJ4A', 'B00O2LT4F0', 'B00O2PMO1W', 'B00O4B9NJU', 'B00O4L3F9E', 'B00O4VH9YG', 'B00O51AA9Q', 'B00O51ACVM', 'B00O51LV3U', 'B00O5EKZ9I', 'B00O5EL286', 'B00O5EL3EE', 'B00O5EL3NU', 'B00O5EL4MA', 'B00O5EL6EQ', 'B00O5EL7S6', 'B00O5ELFU6', 'B00O5ELJ66', 'B00O5LGB94', 'B00O5OANYK', 'B00O64ED7C', 'B00O6ER482', 'B00O6KT5HO', 'B00O6ZMD4Q', 'B00O7OXODA', 'B00O7ZUEIC', 'B00O8V4QOS', 'B00O9S69BI', 'B00O9SV1XO', 'B00O9TP6ES', 'B00O9TTXV0', 'B00O9UHGEA', 'B00O9USLB2', 'B00OA5OQIS', 'B00OA9J9CW', 'B00OB7K46I', 'B00OBV0KEU', 'B00OC6XT1U', 'B00OC7NFFY', 'B00ODCF8YE', 'B00OE6ZDHQ', 'B00OET2LBO', 'B00OF51CYY', 'B00OF7FK8Q', 'B00OF9NILU', 'B00OGZVTZA', 'B00OH592RG', 'B00OHLMFAG', 'B00OIPQQYM', 'B00OIRROSC', 'B00OJHI6KQ', 'B00OJQ9XTU', 'B00OJQA58I', 'B00OJX7UCA', 'B00OJZ0VHY', 'B00OKA9F8O', 'B00OMLR3BC', 'B00ON9WQ1A', 'B00OO0LD1C', 'B00OO0XTB4', 'B00OO19ZGG', 'B00OO30CDE', 'B00OOTOD5G', 'B00OP6CCO2', 'B00OP6XG24', 'B00OPBGEUU', 'B00OQ1WH14', 'B00OQ3AJCQ', 'B00OQ3AQFQ', 'B00OQ3AWAA', 'B00OQUJ1QO', 'B00OSCNS82', 'B00OSHRM48', 'B00OSKZI3C', 'B00OTIKZTA', 'B00OTRZUE6', 'B00OUDSD84', 'B00OUQ9L0A', 'B00OVATABU', 'B00OWBFUNU', 'B00OY670QS', 'B00OY6718K', 'B00OZ9C9LK', 'B00OZGKDB6', 'B00OZH9WDK', 'B00OZHKR8Y', 'B00OZPIDDM', 'B00P00G3EC', 'B00P0AHJZY', 'B00P0AHRQ0', 'B00P1GZ39G', 'B00P27DEAO', 'B00P2B1MOA', 'B00P2EKIQK', 'B00P3DN1YQ', 'B00P3E5LCU', 'B00P47BRQK', 'B00P63ZY2U', 'B00P6UDWXG', 'B00P6VIPCS', 'B00P76WP9G', 'B00P8BORW8', 'B00P8MSAXY', 'B00P9HB0VC', 'B00PAEONVS', 'B00PB7JD78', 'B00PBAGPU8', 'B00PBGZQBQ', 'B00PBHW3ZC', 'B00PC17212', 'B00PCKZJOK', 'B00PDJXGIG', 'B00PE7CD2M', 'B00PE7M56Q', 'B00PE7T6CM', 'B00PEFOOFI', 'B00PFZ9PB0', 'B00PG95E6A', 'B00PGO012M', 'B00PGQYQJY', 'B00PGQYRFC', 'B00PGQYSCY', 'B00PGQYV08', 'B00PGQYVUI', 'B00PGY0E9C', 'B00PHPW90M', 'B00PHRZ3UI', 'B00PHVGGMI', 'B00PIQMT7S', 'B00PJ12WYC', 'B00PJ5RH5C', 'B00PJVA3MU', 'B00PKP3EG2', 'B00PLZE45G', 'B00PLZNOHA', 'B00PM69RPQ', 'B00PMDPRJ4', 'B00PNBIWM4', 'B00PNG4BV0', 'B00PNVJFAM', 'B00PO73PR4', 'B00PPYIPAI', 'B00PQXT1CO', 'B00PQZCCTG', 'B00PQZJMAI', 'B00PR8AW62', 'B00PRTIVPA', 'B00PTAD7QU', 'B00PTB53P2', 'B00PTC13HI', 'B00PTCFEYG', 'B00PTCPEXM', 'B00PTJHMN0', 'B00PTZYZH0', 'B00PU048K8', 'B00PULSJAM', 'B00PUPF1XG', 'B00PUPVURW', 'B00PUV6JF4', 'B00PV012Z6', 'B00PVBOTI2', 'B00PVNG7SU', 'B00PVSRY00', 'B00PVT5DZ2', 'B00PW3B194', 'B00PWXA1SG', 'B00PX43YLK', 'B00PZ7VV56', 'B00PZGTVAE', 'B00Q13449I', 'B00Q1VCJ3S', 'B00Q25LORK', 'B00Q2G2NTC', 'B00Q5OKAVO', 'B00Q73PQSA', 'B00Q8CQV7K', 'B00Q8KGL54', 'B00QA1PEVI', 'B00QA1XIDY', 'B00QA3IB4S', 'B00QA3TLME', 'B00QA63438', 'B00QA73C7U', 'B00QC093E6', 'B00QC0S4X2', 'B00QC1QFZ0', 'B00QCMEEDO', 'B00QD5EDB8', 'B00QDDQ2EG', 'B00QDEFOUS', 'B00QDHA1QM', 'B00QDHK69O', 'B00QDMJY9W', 'B00QFNW496', 'B00QFV1RGE', 'B00QHFHEEC', 'B00QHO7T7K', 'B00QHURLCW', 'B00QJEH00O', 'B00QKB99QO', 'B00QKR4TZE', 'B00QLWZC22', 'B00QM3CNN6', 'B00QMQ6R6W', 'B00QNNNCR6', 'B00QOF25ZS', 'B00QQKFID2', 'B00QQVKAR0', 'B00QRCSMI2', 'B00QRGFY7U', 'B00QRIU64O', 'B00QRJHPJM', 'B00QRJHVPA', 'B00QSY3TEQ', 'B00QT1E3K2', 'B00QUEXVO2', 'B00QW2N8H2', 'B00QW94SFQ', 'B00QWF8QCQ', 'B00QXF35GW', 'B00QXT5M3C', 'B00QY9ZHR2', 'B00QYUVO0U', 'B00QYUXD90', 'B00R0YGCPG', 'B00R15EBLG', 'B00R15EL3O', 'B00R15F3EK', 'B00R15FHTG', 'B00R2IPGAM', 'B00R3GWVAG', 'B00R4L0DMI', 'B00R5XTEWU', 'B00R5ZF8OG', 'B00R6OT6GW', 'B00RAKX1WW', 'B00RB9HS4Y', 'B00RBIBYEA', 'B00RBQV2XK', 'B00RC09YK8', 'B00RC44JZO', 'B00RCA4868', 'B00RCELW9A', 'B00RCG701C', 'B00RCHA040', 'B00RCO415C', 'B00RFD1OKU', 'B00RGKFGFG', 'B00RGKFJ12', 'B00RGKFKPC', 'B00RGKFLRY', 'B00RGKT2K6', 'B00RGLMHGQ', 'B00RGNR4TE', 'B00RJIE944', 'B00RKFRW1I', 'B00RLH5ZGO', 'B00RM4REH4', 'B00RMCTTLA', 'B00RMJORJ2', 'B00RNL5VIK', 'B00RPYRGDI', 'B00RW1KR9Y', 'B00RWF76NK', 'B00RWKP02Y', 'B00RWUUE84', 'B00RX6MHXC', 'B00RX7GMCI', 'B00RY3X86Y', 'B00RYESS7M', 'B00RYESW8W', 'B00RYSDLY8', 'B00RZ12AE6', 'B00RZ5R5B0', 'B00RZ5RCK4', 'B00RZIGZPO', 'B00RZYYYPG', 'B00S00A9IA', 'B00S0BDY7W', 'B00S0BFSD0', 'B00S0DG918', 'B00S0E7268', 'B00S0ZNON2', 'B00S1995VW', 'B00S199E8Q', 'B00S1AO7NC', 'B00S2OVZCS', 'B00S2VV3YQ', 'B00S2VVTF4', 'B00S3BF1F2', 'B00S3BF21U', 'B00S79INXW', 'B00S7GY67W', 'B00S82B0VA', 'B00S875NE0', 'B00S8LC5W4', 'B00S8LZJHW', 'B00S9GPHNC', 'B00S9GPS7M', 'B00S9PEEA0', 'B00SB237FY', 'B00SC80YFI', 'B00SC80YLM', 'B00SCCSJVA', 'B00SCP7IB4', 'B00SCX8LBW', 'B00SDLZFFS', 'B00SFFLXEE', 'B00SFMMQUC', 'B00SGY5CIW', 'B00SH0IHCI', 'B00SHCDMRQ', 'B00SHF8Q5Q', 'B00SHLYSVQ', 'B00SHM169W', 'B00SIRT96I', 'B00SIZ51ZS', 'B00SKJGOUI', 'B00SKJGWCI', 'B00SKJHD30', 'B00SKT45PY', 'B00SKT4PT0', 'B00SKTFNIW', 'B00SKTG2Y6', 'B00SKUZQXI', 'B00SKVNS00', 'B00SLHWZ0M', 'B00SLHWZZM', 'B00SLQHZJE', 'B00SM1IWHC', 'B00SMEI47C', 'B00SMKSHGY', 'B00SMYE58Y', 'B00SNBCBGE', 'B00SNYN0Y8', 'B00SO2G3GG', 'B00SOFOFU4', 'B00SOPKHCY', 'B00SSY4MNQ', 'B00ST6BZSI', 'B00SUOAXA0', 'B00SV11X7E', 'B00SV5T4L2', 'B00SVRLPYY', 'B00SVRLQRA', 'B00SVTQRY0', 'B00SX9PFSC', 'B00SXBPKUI', 'B00SXBPMYC', 'B00SXTN1RY', 'B00SXZBLXE', 'B00SXZOZAK', 'B00SY1KBFQ', 'B00SY1UXD6', 'B00SY2AQ1O', 'B00SZ3J4IS', 'B00T0HVIY6', 'B00T0OJG5M', 'B00T0OJN14', 'B00T0OK3TU', 'B00T0RZZBS', 'B00T2Q4BUI', 'B00T37TEYY', 'B00T37THKU', 'B00T38U7HQ', 'B00T3GDFSQ', 'B00T3SKTCO', 'B00T3SR9ZO', 'B00T3U1ENA', 'B00T48X2DG', 'B00T4B6W44', 'B00T4OBS1I', 'B00T4Z77D0', 'B00T62BMWI', 'B00T62C0H4', 'B00T631UTC', 'B00T77SHA2', 'B00T8I9QXW', 'B00T8L17N6', 'B00T8OKM98', 'B00TB3HPA0', 'B00TB6WNQS', 'B00TDF7YSE', 'B00TDGW532', 'B00TDZPGKC', 'B00TFTVXEE', 'B00TH3YPDE', 'B00THNXBPM', 'B00TIHWIHO', 'B00TJ2FDW0', 'B00TJ2FKZK', 'B00TJSYRO4', 'B00TL5U56E', 'B00TLF2NGE', 'B00TLVVCGU', 'B00TO9L08O', 'B00TO9L0FC', 'B00TOKTBL6', 'B00TP7C9YY', 'B00TPFNADU', 'B00TPNJRSY', 'B00TPNJUUO', 'B00TQBAWSY', 'B00TQZL3WO', 'B00TQZMW9M', 'B00TQZMYO0', 'B00TQZN1LU', 'B00TR1MLR8', 'B00TREA95G', 'B00TSCFIDA', 'B00TT7BGQM', 'B00TTQLA50', 'B00TTQLAVY', 'B00TTQM9A0', 'B00TTQMIDS', 'B00TUBQ4NM', 'B00TUEQN62', 'B00TUER9JM', 'B00TUMJRNK', 'B00TUMK0CM', 'B00TV90DX0', 'B00TV90MT0', 'B00TVFYKCE', 'B00TVFYMU4', 'B00TWPV5L2', 'B00TXC247S', 'B00TY2X188', 'B00TY2X4BW', 'B00TY2X4IK', 'B00TY3OQY0', 'B00TYVZWRW', 'B00TZBB8WY', 'B00TZEEPBM', 'B00TZXVSL8', 'B00U05V0L8', 'B00U0TTK1G', 'B00U0UU6LI', 'B00U0UUTTW', 'B00U0UUUX2', 'B00U12A4KI', 'B00U1PFOF0', 'B00U1S4YY4', 'B00U1XK5Z6', 'B00U215N1I', 'B00U28HYNQ', 'B00U2HDU4O', 'B00U3FN5U4', 'B00U3Q6YHY', 'B00U43T1KI', 'B00U49CFUA', 'B00U8Q03W6', 'B00U9V1ONC', 'B00U9YCRNU', 'B00UA55VKY', 'B00UA56HS4', 'B00UA56MAC', 'B00UAD1NY4', 'B00UALWPCA', 'B00UBGFR88', 'B00UBJ6ZM2', 'B00UHBGE7A', 'B00UI3N5QK', 'B00UI79AZG', 'B00UJ9LHMW', 'B00UJ9LNDK', 'B00UJHFD2Y', 'B00UK8A6XS', 'B00UKPOC2C', 'B00UM66DL2', 'B00UMH4OSK', 'B00UN8O5VO', 'B00UN8OX5C', 'B00UN8OXWA', 'B00UN8QI78', 'B00UN9A152', 'B00UNPW18Q', 'B00UQHLNDK', 'B00UR18HPM', 'B00UR18JOG', 'B00UR18LAI', 'B00UR6L67I', 'B00URFIYC4', 'B00URN57ZI', 'B00USQA8VC', 'B00USQY0CK', 'B00UTD0YG8', 'B00UTELPGK', 'B00UTUJ56G', 'B00UTUJHMS', 'B00UTUKFHE', 'B00UWURE2U', 'B00UXE3WOY', 'B00UXE3X84', 'B00UY8LLQ0', 'B00UZW1OPS', 'B00V30CR2K', 'B00V374DOI', 'B00V3A5N94', 'B00V3A5SDA', 'B00V4VQCQU', 'B00V5BIKNW', 'B00V5BP2H4', 'B00V5OYAYM', 'B00V5R4UY4', 'B00V6I7NBE', 'B00V7YMOLG', 'B00V8299UQ', 'B00V8W851A', 'B00V9QEN1Q', 'B00VCV22K2', 'B00VDPBZ5U', 'B00VDZOQ88', 'B00VDZOTJY', 'B00VE44QY2', 'B00VE44UZW', 'B00VEA6U3Q', 'B00VEDK8RW', 'B00VHFOV3E', 'B00VHKM190', 'B00VHKM72Q', 'B00VHKMK64', 'B00VHL5HOA', 'B00VHPWF6E', 'B00VIDJBJE', 'B00VIDJBXK', 'B00VIFM5PY', 'B00VJ7MFOW', 'B00VJP495C', 'B00VJRJ6GW', 'B00VJUU8PM', 'B00VK0Q616', 'B00VKSVTMO', 'B00VKTHIE6', 'B00VL6XC5W', 'B00VM5IUKE', 'B00VM65P6U', 'B00VMB7E0U', 'B00VMB8IUK', 'B00VMB8IW8', 'B00VMDWZV6', 'B00VMZLCTA', 'B00VNSLMIM', 'B00VNSO3OM', 'B00VNSOK2C', 'B00VOQQDHI', 'B00VQTA0GS', 'B00VR5I1PS', 'B00VRBWJ0U', 'B00VS4M4AQ', 'B00VTCBQS8', 'B00VTI0WKK', 'B00VTSNLCG', 'B00VUHNCRU', 'B00VUQ3RGC', 'B00VUU6JL8', 'B00VUU702A', 'B00VVK275Y', 'B00VVMKZ0Q', 'B00VVX2QZW', 'B00VWCK0BE', 'B00VWILIZ0', 'B00VXJD21G', 'B00VYDXNQ0', 'B00VYQABEE', 'B00VYQABQ2', 'B00VYQALBM', 'B00VYQALHG', 'B00W0BAU3O', 'B00W0RBAD2', 'B00W1RTVGO', 'B00W3EE7UU', 'B00W3IFCG4', 'B00W3K8OC6', 'B00W40PCES', 'B00W51FDOU', 'B00W52VIOS', 'B00W54EB90', 'B00W6SXDQW', 'B00W6WOCPE', 'B00W75UC4U', 'B00W7I3FMI', 'B00W7ZL4TM', 'B00W8MPZRQ', 'B00W93IWQA', 'B00WA7VKEG', 'B00WB5ZOR6', 'B00WC5JUC0', 'B00WCQBQLC', 'B00WEAIKF6', 'B00WFW2CZW', 'B00WFWYV1U', 'B00WGD5M3Y', 'B00WGDS77C', 'B00WH57CMK', 'B00WHFBSW0', 'B00WHLLDWO', 'B00WHZ54VQ', 'B00WIGHJAS', 'B00WIKZTBA', 'B00WITIHZ6', 'B00WJ3ALYQ', 'B00WJ3ANXK', 'B00WJTX18I', 'B00WKLA6KG', 'B00WL4E26G', 'B00WM21DY6', 'B00WM7WKK2', 'B00WMGI6GA', 'B00WNNOY7W', 'B00WO6MTAW', 'B00WPVH564', 'B00WQE9JAA', 'B00WQI2TM6', 'B00WQPH9UQ', 'B00WQUYLIY', 'B00WR4QD80', 'B00WRHTOFG', 'B00WRHTSK2', 'B00WRHTVS6', 'B00WRI103Y', 'B00WRI3XYI', 'B00WRPH3E2', 'B00WRQ5RVC', 'B00WS06P3Q', 'B00WT7KPCK', 'B00WU5OM5M', 'B00WU6F4M6', 'B00WU6FDOK', 'B00WU6GD6C', 'B00WVNROKI', 'B00WVXG21K', 'B00WW1V61M', 'B00WW6TNXK', 'B00WWFLICK', 'B00WWFLU4G', 'B00WX60PWM', 'B00WZQDHTI', 'B00WZQJHZQ', 'B00WZQPO08', 'B00WZQV9B6', 'B00X1DDQPO', 'B00X1O89DM', 'B00X2CKMNS', 'B00X3JWIA0', 'B00X3L5VW0', 'B00X3LRHG8', 'B00X497ZXO', 'B00X536MDI', 'B00X5BXFNK', 'B00X6EYNQE', 'B00X7DVVGY', 'B00X7F1QT4', 'B00X7YJUGG', 'B00X85S7EA', 'B00X9442LC', 'B00XAD9VDG', 'B00XAQGWGW', 'B00XAT8R3K', 'B00XBKW6T4', 'B00XBQ8UGG', 'B00XBZ4LN8', 'B00XC2AQN4', 'B00XD6EJ2I', 'B00XDDDVIE', 'B00XDUNJKW', 'B00XDUNKYW', 'B00XEL1JMA', 'B00XEV4WYM', 'B00XGLIOMQ', 'B00XGWHXS6', 'B00XH2Q9TO', 'B00XHGVHL0', 'B00XI1L5SO', 'B00XIQCFWY', 'B00XIVADFU', 'B00XJE3W7C', 'B00XJF53PK', 'B00XJF59X6', 'B00XJHZUVU', 'B00XKM6PPO', 'B00XKVPHDQ', 'B00XL1111C', 'B00XLYES6O', 'B00XMCRVXC', 'B00XMZAB3G', 'B00XMZAFQ4', 'B00XNR0AM0', 'B00XNUBIJG', 'B00XO01KZ2', 'B00XOPKPMQ', 'B00XOXRTX6', 'B00XP4MYKC', 'B00XPHLBJY', 'B00XQCAYVO', 'B00XQCRR5U', 'B00XQCYRPI', 'B00XQD34PQ', 'B00XQD9CUC', 'B00XQE2I8O', 'B00XQEA1FG', 'B00XQEH5P0', 'B00XQF90PC', 'B00XQFONF4', 'B00XR3U0GQ', 'B00XR3VKC4', 'B00XR5D74G', 'B00XTOUL58', 'B00XUCRL34', 'B00XUYCXG2', 'B00XV0RIDS', 'B00XV2AP54', 'B00XVMF93M', 'B00XVMLDOQ', 'B00XVOPBRO', 'B00XWCR1NC', 'B00XWLVDUU', 'B00XWQ16YS', 'B00XXGAGAW', 'B00XXQIN70', 'B00XY5S4SS', 'B00XY6IVM6', 'B00Y0CG044', 'B00Y0CG12A', 'B00Y0CGAO4', 'B00Y0HYHD0', 'B00Y0IV8AO', 'B00Y2ATGFY', 'B00Y3T1292', 'B00Y459UIU', 'B00Y4S5Z5O', 'B00Y4S8VWI', 'B00Y4TY3JM', 'B00Y5U9K3O', 'B00Y5X6FSO', 'B00Y7ZMR5U', 'B00Y83UT4C', 'B00Y84TRXK', 'B00Y8Q0LOC', 'B00Y9AD4HS', 'B00Y9XNZRO', 'B00Y9YQW9G', 'B00YA48LJY', 'B00YAEIR0C', 'B00YBHG49O', 'B00YCDQM1C', 'B00YE71LN0', 'B00YFKA3OO', 'B00YG9G5IC', 'B00YHPFG9O', 'B00YHTUSV6', 'B00YIKY2PC', 'B00YJ5C46K', 'B00YJJ0H9C', 'B00YJJ0JNG', 'B00YNSYUAG', 'B00YNVCH8K', 'B00YO92JTS', 'B00YOWGTMS', 'B00YQBCU5W', 'B00YQVWQS8', 'B00YQXI2HU', 'B00YRKOWDK', 'B00YRKPAD6', 'B00YSSQFOA', 'B00YVFHI6Y', 'B00YWSFMKY', 'B00YWSL2N0', 'B00YXKXUAA', 'B00Z6IGHFS', 'B00Z6QK1B6', 'B00Z9WU2ES', 'B00ZAU80H0', 'B00ZB6LMTG', 'B00ZC5IMCG', 'B00ZE8RCDG', 'B00ZE9T5OO', 'B00ZG2TIR8', 'B00ZGPFRDY', 'B00ZI3OQC2', 'B00ZIVS1CA', 'B00ZIY06CA', 'B00ZKJ72IY', 'B00ZO92VSQ', 'B00ZPGFLVM', 'B00ZPR5Y9A', 'B00ZQ48TZS', 'B00ZQKB21U', 'B00ZQMP6RO', 'B00ZQNIAP8', 'B00ZQPDB7I', 'B00ZR1PQ8S', 'B00ZR77GGC', 'B00ZR77GTO', 'B00ZRXFU0A', 'B00ZRYIO2A', 'B00ZTGJ0B0', 'B00ZTXK5FS', 'B00ZU4G0ZK', 'B00ZU6PJCS', 'B00ZU86PEC', 'B00ZUBQY9K', 'B00ZV7T95E', 'B00ZWON4C0', 'B00ZWQBACE', 'B00ZXS8484', 'B00ZY7EH7Q', 'B00ZYNV3LS', 'B0100RBPTC', 'B010171K28', 'B0105GSF6E', 'B0107YJU8Q', 'B0108Y8P9A', 'B0109X9FMG', 'B010AFGUXK', 'B010CBIP8U', 'B010CG2C02', 'B010CI6M88', 'B010CPJKX0', 'B010CPZ7O6', 'B010D4VKPG', 'B010EIQ4DE', 'B010EYIH1U', 'B010FWMQUY', 'B010FWMY4M', 'B010GPFUI0', 'B010GPFY0Y', 'B010HEFITQ', 'B010HEI02S', 'B010LBJJDQ', 'B010LBJX6O', 'B010LF34PQ', 'B010MEZUDA', 'B010MQMAVI', 'B010MRD9MG', 'B010ODJ6HA', 'B010QXJM9U', 'B010QZFV84', 'B010RZY7DI', 'B010SCOIUW', 'B010SIBGGK', 'B010SIRS9E', 'B010SJ0Y0I', 'B010SJ5CE6', 'B010SK4TJY', 'B010SK86HU', 'B010SKTF1G', 'B010UXJZWA', 'B010UXKLLO', 'B010V5WZN8', 'B010V7HBKS', 'B010W6W8OW', 'B010W6W9EQ', 'B010W6WFEA', 'B010W6XHRO', 'B010W704BU', 'B010WL0YFM', 'B01115VYL6', 'B0111T01N4', 'B0112GNCBY', 'B01149F9CY', 'B0114HVZUG', 'B0114N1BXG', 'B0116TFMM4', 'B0116TIKQO', 'B0116TJA2C', 'B0116TS4HE', 'B0116W7E68', 'B0116X17JW', 'B0116X2V24', 'B0117E33PG', 'B0117TLSZS', 'B0118FQU4U', 'B01190G2II', 'B01199MA9Y', 'B011A0ZLM0', 'B011AJ8I2G', 'B011B41TAS', 'B011BAQLAU', 'B011C6UAOG', 'B011DGATV4', 'B011DHBT2Q', 'B011DJWONW', 'B011EXBCMQ', 'B011J4Y2C2', 'B011KJG300', 'B011LBQLYK', 'B011LVGHBW', 'B011MUQ28A', 'B011N2VC64', 'B011N57QG6', 'B011NJRM48', 'B011NTGIQG', 'B011O1A1U2', 'B011OE434O', 'B011QEVO44', 'B011QFUFAW', 'B011QLC6BC', 'B011QVG9L0', 'B011QYD44W', 'B011R0XDYQ', 'B011R1ILHY', 'B011SESKTY', 'B011SK7SEG', 'B011TQWRFE', 'B011U9AXA6', 'B0122U0FVO', 'B01233J9EE', 'B01235DEA2', 'B01236GJIU', 'B0124Y99PQ', 'B01254SBD6', 'B0126CJKP0', 'B01272O6JY', 'B01272O6VW', 'B01290XS9S', 'B012BJW9NI', 'B012BMSANS', 'B012BUQF3C', 'B012CF181K', 'B012CF1ASQ', 'B012DS3F62', 'B012DS3XLY', 'B012F2ALAE', 'B012HWRM3G', 'B012I5BCGA', 'B012IDO3VS', 'B012ITN4GW', 'B012MM2R4U', 'B012N5JGGS', 'B012NWZTUI', 'B012OHZJ8O', 'B012PUGUZ6', 'B012VQ5A7S', 'B012XFT0XC', 'B012Y5QZIO', 'B012Y7ACV8', 'B012YZS1FE', 'B012Z4KREC', 'B012ZTEAVS', 'B012ZUQROU', 'B01310K87K', 'B013AVHQOI', 'B013AWNX62', 'B013B25XGE', 'B013B60NLA', 'B013DHHRFM', 'B013E1NZEO', 'B013FM4122', 'B013FOWRNA', 'B013FY38N8', 'B013FYP6LA', 'B013G5P8BG', 'B013H1CEO8', 'B013HS1TOC', 'B013HX8GBG', 'B013J11NMU', 'B013JHBCCA', 'B013JLZDHQ', 'B013JLZMZE', 'B013K7ZZ90', 'B013LG9WQM', 'B013MG2PPQ', 'B013N5QHEQ', 'B013N5ZMBK', 'B013N66OMK', 'B013N6NKMW', 'B013N7B7LC', 'B013NBQ5XS', 'B013NDP2TY', 'B013NJZ4LE', 'B013OFJVPW', 'B013P04AUC', 'B013QUCHQA', 'B013QUM6N4', 'B013RSD3R8', 'B013RX1IJI', 'B013U48ZZ4', 'B013UQR5VM', 'B013W3TGXS', 'B013W4593I', 'B013W45C62', 'B013WTBV62', 'B013ZHK4DM', 'B0140INT4Q', 'B0140V9OEM', 'B0140WN5DW', 'B0140XIEGO', 'B0141EIGME', 'B0141EIKFW', 'B0141IN4CW', 'B01422FJ34', 'B0143H0W3U', 'B014411V7G', 'B01447K35G', 'B01447KF9U', 'B01447KMS4', 'B0144A79NM', 'B0144UCRL6', 'B01454Q3Y8', 'B0145X9SFK', 'B0146137RG', 'B0146CROME', 'B0147TRGJM', 'B0147YVSX2', 'B0148EQYA8', 'B0148JMEEI', 'B0149J2WYO', 'B0149J3Z7W', 'B0149J41ZM', 'B0149XD9CY', 'B0149YRRXA', 'B014A1BVZM', 'B014A1CJUS', 'B014CD837M', 'B014F0A9DS', 'B014F1UKI6', 'B014F7BO58', 'B014GR0KYI', 'B014GRA4OY', 'B014GT7O22', 'B014GVB8OU', 'B014H5IYZG', 'B014H8AWGC', 'B014H8B22A', 'B014HB54OO', 'B014HEABLM', 'B014HU4UZY', 'B014I2UPHS', 'B014I71SWY', 'B014I7LJFA', 'B014JJG43E', 'B014JY7T10', 'B014JY7WGW', 'B014JY8PH2', 'B014KERYX2', 'B014KR71Q4', 'B014KR7NXU', 'B014L7L98O', 'B014L9CCHO', 'B014LZ41H2', 'B014M8JVBY', 'B014MQ25WS', 'B014PYGN48', 'B014Q9YUKG', 'B014QXZD5S', 'B014QXZZK6', 'B014SAPVJC', 'B014SATIAU', 'B014SCXI9U', 'B014TX6F98', 'B014TZZOUW', 'B014U5ETC0', 'B014U5O8NA', 'B014UA2F12', 'B014VN3PPI', 'B014W4NBQO', 'B014XH3AKM', 'B014YPWB94', 'B01512W3OM', 'B01512W3Q0', 'B0151GZ4EO', 'B0151JHSFY', 'B0151JHXJA', 'B0153QLUS6', 'B0153UCHT8', 'B0154G1AQM', 'B0154JDFAS', 'B0154JDL1Q', 'B0154LU8A6', 'B0154P5P50', 'B015619H56', 'B0158AXPW6', 'B0159ZO4U2', 'B015AVHI8A', 'B015BKBGZG', 'B015BL7GZO', 'B015CDQ98Q', 'B015D4FA1G', 'B015D85G3Y', 'B015E23BHC', 'B015E3XK22', 'B015FMI0N6', 'B015FP52NY', 'B015FTX3YK', 'B015G2AFTW', 'B015GDVSJ2', 'B015GM4H8W', 'B015GPDCVC', 'B015GPFES6', 'B015GTG454', 'B015H4N75I', 'B015HC0GEA', 'B015HG7HMA', 'B015HM2D4Q', 'B015I0WXAQ', 'B015IA25U4', 'B015IGMWTC', 'B015IHDJ98', 'B015IY98B4', 'B015J5V7WK', 'B015JUSMTG', 'B015KB3HT4', 'B015M92GZ0', 'B015MMNYBC', 'B015N9VEC0', 'B015OGAID8', 'B015OUXPKC', 'B015PKU5ZE', 'B015PWQPLU', 'B015QZPS9Q', 'B015R1U5XS', 'B015RCZZVO', 'B015S95YNK', 'B015SD4OWS', 'B015SW6DAU', 'B015TBAJ78', 'B015U623PI', 'B015ULU8HI', 'B015VRDCJ2', 'B015WSQKEE', 'B015X6OMOA', 'B015XIHBP0', 'B015Y18ULU', 'B015YLZGS0', 'B015YQ1044', 'B015ZDDF0S', 'B015ZLHNM6', 'B01602HWMK', 'B0161CIA4S', 'B0161KCRFS', 'B0161LXW06', 'B0161MMX4G', 'B0161WG9ZA', 'B0161X4GPY', 'B0163FI1DI', 'B0164DKTFM', 'B0165KH7GS', 'B0165KPRY2', 'B01667IMKU', 'B01667IQ10', 'B0167I3DCK', 'B0167JTJIQ', 'B0167JTKWG', 'B0167VYWW2', 'B0167XM092', 'B01686TXZM', 'B0169Z51H6', 'B016APL728', 'B016B3KTUU', 'B016BIBPDA', 'B016C4ZG74', 'B016CBBSR4', 'B016CDCRVI', 'B016CP76E4', 'B016CW1WK6', 'B016D7KIWS', 'B016DP0G3G', 'B016DSXUKE', 'B016E444D4', 'B016E5VP6W', 'B016EZODT8', 'B016GNPTZ0', 'B016J6R6MI', 'B016JC8GY4', 'B016JDJ8TA', 'B016JDJE9E', 'B016JLAJUY', 'B016JPUNII', 'B016JQ4ISS', 'B016K1890U', 'B016KAU0E4', 'B016KNIJHG', 'B016L0RB72', 'B016LIWSLI', 'B016M2OTGK', 'B016MTKVCO', 'B016N052M6', 'B016NRRBA0', 'B016PHNE86', 'B016PHNXA0', 'B016PL9VMK', 'B016RWV4VS', 'B016SFNLDI', 'B016T96QQ2', 'B016UHP7HM', 'B016UKHQKK', 'B016UU6FTI', 'B016UU9X9M', 'B016VRUWC6', 'B016VXFXME', 'B016VXL0KS', 'B016W4O7BA', 'B016X4ITHC', 'B016XYIYTA', 'B016Z41U5I', 'B016ZEWRW8', 'B016ZMDFGW', 'B01727VRWS', 'B0172H4DHE', 'B01734020S', 'B0178DOUZW', 'B0178ZWND6', 'B01794XX1M', 'B0179AWX3U', 'B0179LSDRE', 'B0179ZQW0K', 'B017ACVQCQ', 'B017AE3Z5A', 'B017AFVR4A', 'B017B1NB7Y', 'B017BBJ9VQ', 'B017CB2D9K', 'B017CNNPJK', 'B017D8015K', 'B017EATTGE', 'B017GR77K0', 'B017GSAT0E', 'B017H4FXB2', 'B017HQVOP4', 'B017HS6Y20', 'B017IAY5JG', 'B017IKKN3I', 'B017IL42NY', 'B017KFVBGY', 'B017LBMJOU', 'B017MHJXK6', 'B017NRIXYM', 'B017OPQG2O', 'B017P7Z2QC', 'B017PH9682', 'B017QAL24O', 'B017RJWXLK', 'B017SJU3T8', 'B017SQ8MN0', 'B017SQNEQA', 'B017TSYAKQ', 'B017U1FMSG', 'B017U6T8KO', 'B017UC162Q', 'B017UVXA0I', 'B017VXNO8S', 'B017VXNOK6', 'B017WPW45E', 'B017XX7K5O', 'B017Y1VSS0', 'B017Y449LA', 'B017YILF9U', 'B017YOQ5JY', 'B0181087XM', 'B0182MIOOQ', 'B0182MYCLK', 'B0185B3CC8', 'B0185NCH2W', 'B01861TYL0', 'B0187288ME', 'B018792EU4', 'B0187KO8X4', 'B0188WLBU4', 'B0188WO5SO', 'B0188WO6OC', 'B0189X11P2', 'B018ATKGAG', 'B018AVHOJ0', 'B018B0MMTW', 'B018DTM084', 'B018E4ONII', 'B018E559NK', 'B018F1F9EM', 'B018FCZBMG', 'B018FCZKR2', 'B018FCZNVU', 'B018FCZRUW', 'B018G4Y45I', 'B018GCYCDY', 'B018GZSTX0', 'B018HZ5S9C', 'B018IRSRMO', 'B018J6Y1PQ', 'B018K9K034', 'B018K9K0AW', 'B018OATOM2', 'B018PSQJ8U', 'B018PZJ1CY', 'B018QEZF0G', 'B018RNKU7E', 'B018S1XCSE', 'B018S8PO88', 'B018SA2CPE', 'B018TB0I6M', 'B018TPR8FM', 'B018U24KKK', 'B018UNLSGS', 'B018VAQWEI', 'B018W2BLAA', 'B018WOFULE', 'B018WQUDKU', 'B018XK650C', 'B018XLBNP8', 'B018XSHHSS', 'B018Y5Q254', 'B018YCU7FS', 'B018Z5BJ6U', 'B018Z5BKZ0', 'B018Z5BTJC', 'B018Z5C6W6', 'B018Z5CDFQ', 'B0191DERX2', 'B0191EB9MS', 'B0191I08V2', 'B0191IHVQM', 'B0192Y5YXM', 'B0192Y7UPC', 'B01934CJOI', 'B0195EI8EQ', 'B0195HKYY0', 'B0195NQSTO', 'B0196J6TDC', 'B0196J75TY', 'B01996PR5I', 'B0199YPM6Y', 'B0199YPYCQ', 'B019CQA3NG', 'B019CWUX7Q', 'B019D2838Q', 'B019D7KMNK', 'B019DQUX9Y', 'B019DTF2OW', 'B019DU4OG8', 'B019E4Z6EW', 'B019FAKN4I', 'B019FAX0YI', 'B019FR8JKQ', 'B019G53ZJW', 'B019G7SRMK', 'B019GYKGRC', 'B019H1SSEW', 'B019H1STZ0', 'B019H60LC4', 'B019HQHXN4', 'B019HSBDUQ', 'B019I2W9GI', 'B019I9PJNQ', 'B019IAH2O4', 'B019IBG3D4', 'B019IDSOKW', 'B019J7T0NW', 'B019JD0YSQ', 'B019MF3U9Q', 'B019MIPZ8M', 'B019MKKVZ2', 'B019MQLNPI', 'B019NY1IL8', 'B019NY2PKG', 'B019O1PXU2', 'B019O3BSX6', 'B019ONS4TC', 'B019OO4IY6', 'B019OO66R8', 'B019P2ZQOI', 'B019P2ZQR0', 'B019P2ZUL2', 'B019PAVXPG', 'B019PV1UJY', 'B019Q27CIA', 'B019R4ROU8', 'B019R8APG4', 'B019RHMYVO', 'B019RINYUS', 'B019RINZLQ', 'B019RJJWI0', 'B019RVU0C0', 'B019RY7RUU', 'B019RZNJZ6', 'B019TWBQIE', 'B019VUSW4A', 'B019W1LNUS', 'B019XLWFS6', 'B019XM3XH2', 'B019YUY2MS', 'B019YWV8AA', 'B01A48JQ6Q', 'B01A6B0ICC', 'B01A6U1CJ6', 'B01A6U1EBC', 'B01A7GI8UU', 'B01A7IKTA0', 'B01A89ALK6', 'B01A97QH9Q', 'B01A9DTJPE', 'B01A9QG8D2', 'B01A9UXCD2', 'B01AA2CUD2', 'B01AAPIPJW', 'B01AB8JOV6', 'B01AB8JPYM', 'B01ABTHDBS', 'B01AFHSS92', 'B01AFZ7PLQ', 'B01AHXBCGK', 'B01AHY1BXI', 'B01AIF4CL4', 'B01AIGK6FE', 'B01AISB3EK', 'B01AJJIQQQ', 'B01AJUJ55Q', 'B01AJUK1YA', 'B01AJUKHPI', 'B01AKRA4PS', 'B01AKRA7DC', 'B01AKRAAB6', 'B01ALE3ME0', 'B01AM3PYPA', 'B01AMJ3YVU', 'B01AMNWF6Q', 'B01AMTEWL6', 'B01AMTPC42', 'B01ANJGX8U', 'B01AQNIOO4', 'B01ARIZV94', 'B01ARJK03K', 'B01ARYVOF8', 'B01ARZXT64', 'B01ASNBYZI', 'B01ASX1H0K', 'B01AT2AT6S', 'B01ATR80VE', 'B01ATV0HXY', 'B01AU3I8J6', 'B01AUJTINA', 'B01AWDDW5O', 'B01AWWYFDI', 'B01AWWYH86', 'B01AXEGH36', 'B01AXJHEQA', 'B01AXJHTHE', 'B01AXJHZSM', 'B01AXOWGWW', 'B01AXSLD0E', 'B01AXUDJ68', 'B01AXX9HWA', 'B01AXXNI84', 'B01AYM52NS', 'B01AYSNMDO', 'B01AZ9PANW', 'B01AZBFKHG', 'B01B14PLS4', 'B01B15JPCQ', 'B01B1IBTF4', 'B01B1JHEX4', 'B01B1JHJVQ', 'B01B1JHTGG', 'B01B1JI60Y', 'B01B23BA98', 'B01B2DTI0Q', 'B01B2L6Z54', 'B01B3Y6QDG', 'B01B40Z98M', 'B01B50QVEC', 'B01B7N8P5A', 'B01B8YMXJC', 'B01B9E1LW6', 'B01B9IDF8K', 'B01B9IDGGG', 'B01B9IDI8C', 'B01BCLN0UC', 'B01BCQ12C0', 'B01BCYHPEG', 'B01BD7YIOW', 'B01BDMKH2Y', 'B01BDX1IVW', 'B01BDZ1YXM', 'B01BESKXAS', 'B01BF7YAMA', 'B01BFY6AEO', 'B01BH9DT7S', 'B01BHPZQ1O', 'B01BJNIFLC', 'B01BK51EAI', 'B01BKATD74', 'B01BKE1AY4', 'B01BL5BXJY', 'B01BN2H006', 'B01BN840QW', 'B01BNDQ0EW', 'B01BNLRYWQ', 'B01BNTYSKO', 'B01BO2RBKE', 'B01BO6GRGY', 'B01BPBKQ9C', 'B01BPP8BUO', 'B01BPSBU40', 'B01BSZQBJY', 'B01BT4MLHU', 'B01BT90THE', 'B01BVA75BO', 'B01BVA75PK', 'B01BVC2S1O', 'B01BW1JFXS', 'B01BWM5M0W', 'B01BZBAGFG', 'B01C05AL4C', 'B01C189HRK', 'B01C2T8HDI', 'B01C2T8OOA', 'B01C3Y68P6', 'B01C3YXF7K', 'B01C40S910', 'B01C44J0Z0', 'B01C44J2WQ', 'B01C4C3CQK', 'B01C4KTAKE', 'B01C4QYHI8', 'B01C4QYN96', 'B01C4QYWDI', 'B01C564PZ2', 'B01C5ARYX8', 'B01C5DCW2I', 'B01C5GQN98', 'B01C5RZWCQ', 'B01C6FBJ1K', 'B01C6FBM8A', 'B01C8DHXYC', 'B01C8LQA6Q', 'B01C8LQDJA', 'B01C8PSVUU', 'B01C8R6K5G', 'B01C8R6LB4', 'B01C8R6LZU', 'B01C8R6ME0', 'B01C9EL2NI', 'B01C9F85S2', 'B01C9KYUG8', 'B01CA2XZYI', 'B01CB5N8ZA', 'B01CB6CG8E', 'B01CB6GQ4O', 'B01CB7CVM4', 'B01CCAU4B0', 'B01CCBDOXE', 'B01CDC4I4Q', 'B01CDTRKLM', 'B01CETRA3E', 'B01CEUHV14', 'B01CEULF20', 'B01CFOAIJG', 'B01CFOAQHA', 'B01CFOHF6U', 'B01CGY56UG', 'B01CH9MR7A', 'B01CITWZGM', 'B01CJKS7TE', 'B01CL3EIOM', 'B01CNJBH8E', 'B01CO2CP0O', 'B01COF51DO', 'B01COK0NIW', 'B01COU5MBU', 'B01COVQ3BW', 'B01CQJNTAK', 'B01CR68YKM', 'B01CRFT290', 'B01CRY6CR6', 'B01CS2EJW2', 'B01CSAATY6', 'B01CSAJA3W', 'B01CSB620U', 'B01CTRO36I', 'B01CTWVIY8', 'B01CULHLIA', 'B01CUQ8NDW', 'B01CVMSFFQ', 'B01CVTGG1O', 'B01CVTRTD8', 'B01CVU3AL2', 'B01CY0CNZ8', 'B01CYTIEP2', 'B01CYZARX8', 'B01D1JDB3O', 'B01D1K4E52', 'B01D1KPIGG', 'B01D1LC6BA', 'B01D1PKNJ8', 'B01D2PFJ8C', 'B01D2Q1B5G', 'B01D2Q1CIW', 'B01D3ITVRI', 'B01D3ZSED8', 'B01D42PQCW', 'B01D430ZL8', 'B01D4KYRYC', 'B01D53KNUA', 'B01D53KTEA', 'B01D53KZGM', 'B01D53LBHY', 'B01D9MTKT2', 'B01DACTTZG', 'B01DBHC9U2', 'B01DBMANZK', 'B01DBMVW2S', 'B01DBVBRJC', 'B01DBVCAR0', 'B01DBVCTNU', 'B01DBVDFRE', 'B01DDBXXG0', 'B01DDFDP78', 'B01DEVT3IQ', 'B01DFIGIB8', 'B01DI4B134', 'B01DIU57M4', 'B01DK1Y560', 'B01DK723AY', 'B01DK723HW', 'B01DK7SZOW', 'B01DLNIJX2', 'B01DM0GV7K', 'B01DME7NNC', 'B01DOEPUTE', 'B01DXVYCT2', 'B01DYLS44U', 'B01DYPZ598', 'B01DZPVKFU', 'B01DZPVMNU', 'B01DZXE9NC', 'B01E017K5W', 'B01E38PU4A', 'B01E3L1ESS', 'B01E5MWHC2', 'B01E6T50BO', 'B01E6T50GY', 'B01E6T50LY', 'B01E6T547Y', 'B01E6T54KQ', 'B01E6T56CM', 'B01E6T56EA', 'B01E7FQ03O', 'B01E7QORG0', 'B01E8IX3EO', 'B01E8KXDTW', 'B01E8MWD9G', 'B01E9N6JOY', 'B01E9TIG6W', 'B01EA91TI8', 'B01EAF3HQE', 'B01EB5SYDY', 'B01EBDZHNQ', 'B01ECT3Z88', 'B01EFIINMY', 'B01EFKG2E8', 'B01EFKZN0C', 'B01EGV6UJ8', 'B01EGYA8WA', 'B01EHIX1TC', 'B01EHNTB3M', 'B01EIHFOTM', 'B01EILA088', 'B01EJ0N5FS', 'B01EJ9KI5O', 'B01EJAEBWE', 'B01EJIJLLC', 'B01EJU4VUQ', 'B01EKS0H1O', 'B01EL2THDS', 'B01EL9B6Y4', 'B01ELB8K2I', 'B01ELETH4A', 'B01ELFXYIE', 'B01EM5GPH0', 'B01EMM9NGS', 'B01EMNM3JG', 'B01EMUQ08O', 'B01EMVIO4G', 'B01EMWDIQE', 'B01EN0G8AI', 'B01EPWGF8O', 'B01EQR6EXO', 'B01ERUDLVI', 'B01ESR1EUA', 'B01EUERZR2', 'B01EV0V58A', 'B01EVKUHES', 'B01EVKUKQI', 'B01EVR0VX8', 'B01EWCBHMQ', 'B01EX0MAY6', 'B01EXP6GSM', 'B01EXY1YV2', 'B01EXYQAZC', 'B01EY1JLJG', 'B01EY1UDUW', 'B01F26BOR4', 'B01F36K2TO', 'B01F543PAW', 'B01F6WIX5K', 'B01F6XUO5Q', 'B01F73LVL6', 'B01F7EAMYC', 'B01F7KMRG2', 'B01F8BVN9M', 'B01F8BY2AO', 'B01F8IMXVC', 'B01FDKNVMK', 'B01FDLVMCU', 'B01FE0B06S', 'B01FEAN5EI', 'B01FF4LGWQ', 'B01FFH5XMC', 'B01FGCC2FM', 'B01FHBONUY', 'B01FHJLE6M', 'B01FHM1DNS', 'B01FIKU1WI', 'B01FJ77808', 'B01FJSEX3M', 'B01FKQ2Q8W', 'B01FM1NYLI', 'B01FMBDQ5M', 'B01FMKRG6I', 'B01FPKWW5U', 'B01FPN5JEI', 'B01FPQ6YMQ', 'B01FQB3DD8', 'B01FRN3N1C', 'B01FTGR8FE', 'B01FTYBVI6', 'B01FU22D0W', 'B01FVLM8HK', 'B01FVRL3C0', 'B01FVSG2XO', 'B01FVTO4OC', 'B01FVU94LO', 'B01FWLZAF6', 'B01FX5YXR2', 'B01FXD33RA', 'B01G0QLK2E', 'B01G0U1CZK', 'B01G1FSSL0', 'B01G1P5UJS', 'B01G26TRW2', 'B01G2AIGZC', 'B01G2DLWZU', 'B01G34E8G8', 'B01G3DJLC0', 'B01G3JJ7B4', 'B01G3SUTDU', 'B01G4B2W54', 'B01G4X9YNU', 'B01G5D6BMG', 'B01G5EVIL4', 'B01G6PGQXC', 'B01G71R4U4', 'B01G7QTPWY', 'B01G7QXYOE', 'B01G8Q2HSW', 'B01GAMP2S6', 'B01GAMR428', 'B01GCCAPMC', 'B01GCDU9ZE', 'B01GFNB4AU', 'B01GFYIAWY', 'B01GG0YR60', 'B01GGUTOFE', 'B01GH436CQ', 'B01GHGJ8AI', 'B01GHOM67W', 'B01GHUA3XA', 'B01GIMSNEI', 'B01GJ1NAUK', 'B01GJD7USG', 'B01GJDIA1M', 'B01GJHU638', 'B01GJMQZ6U', 'B01GJOMZEE', 'B01GKX638S', 'B01GKZCSAS', 'B01GLQ37O2', 'B01GMW448S', 'B01GP4S8O4', 'B01GP4SFC4', 'B01GPC0U8I', 'B01GPDZNTS', 'B01GPXSGX8', 'B01GQ555ZC', 'B01GR5ZLIM', 'B01GRCATWI', 'B01GRIH9VG', 'B01GRMF5ZE', 'B01GROP5K2', 'B01GTOO9IO', 'B01GUTT7JE', 'B01GV1ROVY', 'B01GWTF62E', 'B01GZY667K', 'B01H31ITWE', 'B01H39A6SQ', 'B01H3D0LFK', 'B01H3D0LGO', 'B01H3D0QIM', 'B01H47XO22', 'B01H4R8FTY', 'B01H4VG35I', 'B01H4Y186O', 'B01H5M9OKM', 'B01H6XLJHQ', 'B01H6YM1Q8', 'B01H745NV2', 'B01H745OKM', 'B01H74VTI8', 'B01H7B1JD6', 'B01H7UZY7E', 'B01HAZJL4I', 'B01HB4090I', 'B01HB58ALC', 'B01HBEB51K', 'B01HBEC8SE', 'B01HCLGU2G', 'B01HCLGUOE', 'B01HCLGXLO', 'B01HCNLHJA', 'B01HCYT570', 'B01HECB4AG', 'B01HED0HO4', 'B01HG0FXAI', 'B01HG293XO', 'B01HGLUP14', 'B01HHJXKRG', 'B01HHZAU3W', 'B01HI1VM28', 'B01HI5M4GW', 'B01HIDOPP2']\n",
      "Products rated by AJOL97TLAXCG9 most similar to B000VJJQUU: ['B000VJJQUU', 'B0002GXF8Q', 'B0002KZAKS', 'B000NJ2TIE', 'B01B1JHEX4', 'B015I0WXAQ', 'B00XQFONF4', 'B00DY1F2CS', 'B0002D0HY4', 'B000J5Y282', 'B0039ONN5S', 'B0000AQRSU', 'B000V1K7FG', 'B000068O58', 'B00KAPGLQC', 'B002PAW6AU', 'B005CERXFO', 'B000E0PPG0', 'B0006H92QK', 'B005BSOVRY', 'B000978D58', 'B00OZ9C9LK', 'B000J5Y214', 'B00BQ6KSN6', 'B01CVMSFFQ', 'B01G3JJ7B4', 'B0039PPW60', 'B0002D0N7K', 'B000068O35', 'B0002F7AT2', 'B000G30GK0', 'B00TOKTBL6', 'B0002GXPRM', 'B001JI2KHS', 'B00015H0X4', 'B00ACFAULC', 'B000068O4F', 'B006ZMKJ7G', 'B0002GIRP2', 'B01DXVYCT2', 'B0018TAITA', 'B005I2YJKC', 'B0027V760M', 'B003AQ1X7A', 'B01CRY6CR6', 'B00NL2XSD0', 'B000CZ0R3S', 'B000NM0Y9W', 'B00B973RIU', 'B00CTKI45M', 'B00WVNROKI', 'B01GFYIAWY', 'B00VMB8IW8', 'B000068OHN', 'B015M92GZ0', 'B000I96494', 'B0069M5U6C', 'B011NJRM48', 'B0002ORPK2', 'B000068O59', 'B012YZS1FE', 'B000CZ0RLK', 'B005TO9EPY', 'B00J36QOCK', 'B0002D0Q9K', 'B000MVYOZY', 'B013B60NLA', 'B01DK1Y560', 'B00PQZJMAI', 'B00DNGZ4CM', 'B00DO7AAJW', 'B000QGCJU2', 'B000PO30QM', 'B01BO6GRGY', 'B000FVZUFO', 'B0013O746K', 'B0002D080C', 'B0002E1J3Q', 'B01COU5MBU', 'B000068NYU', 'B004XNK7AI', 'B00009W40D', 'B00117TFL6', 'B005IU3RMA', 'B004X2LE1U', 'B00RZYYYPG', 'B00BHJNC4E', 'B000068NW8', 'B0002GZV5Q', 'B019XLWFS6', 'B000HRVTA6', 'B00D78W20I', 'B0000AQRST', 'B0002F5882', 'B0002ZPK0S', 'B01190G2II', 'B00TY3OQY0', 'B01C8R6LB4', 'B0007NQH98', 'B00TTQMIDS', 'B001O4JX5O', 'B0027842S4', 'B004THB824', 'B0016ML1C2', 'B000J5UEGQ', 'B0002GX5NG', 'B00TUBQ4NM', 'B001F4SHBY', 'B00HX40PEC', 'B000KGYAYQ', 'B000EEJ76A', 'B00CQ71SMO', 'B0002GZLX8', 'B00E3JNEZ2', 'B00RBIBYEA', 'B007566BLE', 'B014SATIAU', 'B00MX3OO1S', 'B0052B9LGQ', 'B004RV30N2', 'B0007Y60HG', 'B005PNY6V6', 'B00BHK2UHI', 'B00TJ2FKZK', 'B0009G1E0K', 'B00EK1OTZC', 'B0007L8BB2', 'B00167IWR4', 'B00ZR77GGC', 'B0002CZW0Y', 'B01C4C3CQK', 'B00HLVOO2G', 'B00YQVWQS8', 'B006GXZHBW', 'B001Q5WMC2', 'B000KW2YEI', 'B000Y1TQ78', 'B003OSO2AY', 'B00HH7E6AO', 'B00534NRCQ', 'B00DFUEZZI', 'B00E9THQFA', 'B0002GTZMQ', 'B0061OPQK8', 'B00KWIM2FG', 'B001T9O5VG', 'B0002KZHCE', 'B00743LAWS', 'B000RYE10Y', 'B000LARZVQ', 'B00B8QC9O0', 'B00GYETWI2', 'B005OZE9SA', 'B00CPS17XY', 'B014W4NBQO', 'B00M3M4SGA', 'B0002JF5CM', 'B0182MYCLK', 'B00135TTRQ', 'B000EEJB4I', 'B00CUS6J2I', 'B0002FOXD8', 'B00PWXA1SG', 'B000RWJ228', 'B00MTXU2DG', 'B0002OOMU8', 'B000RYE5Y6', 'B0002GXYVO', 'B0002CZRDQ', 'B00BQOFG6W', 'B005EHILV4', 'B005IB37LA', 'B006MID1FU', 'B00G3ZTJOY', 'B00GXMZFEA', 'B00BR1DHNI', 'B00ADHKKZK', 'B00102XXUQ', 'B0000AQRSR', 'B0006NMUJU', 'B000068NUW', 'B00009W40F', 'B004MF76RO', 'B00WCQBQLC', 'B00DIGCE5C', 'B0001DBZNM', 'B00XBQ8UGG', 'B00BIBBLTO', 'B0002T67KG', 'B00504BLJU', 'B005FXLI30', 'B0002D00FK', 'B000068NYM', 'B01AM3PYPA', 'B00J32R1ZS', 'B00ENZFSK0', 'B01C05AL4C', 'B0085M6SUQ', 'B00HZQEH7Y', 'B00AK7SKL4', 'B00EEJY2F2', 'B00MVC0UN2', 'B0098DFNY8', 'B005BSOW82', 'B0072BOUQU', 'B0182MIOOQ', 'B018GCYCDY', 'B00K72ESYU', 'B000Z38DV0', 'B0077AMR7A', 'B006Z9UX2K', 'B00ZC5IMCG', 'B01GHGJ8AI', 'B000Y30NAA', 'B00BMU3B9O', 'B0006DONOK', 'B000VYHKO4', 'B004EJF3PU', 'B00MN92UT0', 'B00ZY7EH7Q', 'B0013XXX8O', 'B008O516L0', 'B0013G8G24', 'B01BT90THE', 'B005SUM1PO', 'B00U49CFUA', 'B00D0GV3RA', 'B00DO7AMZ4', 'B006KJ97KE', 'B00C86FA0E', 'B000S5JKRQ', 'B0002E2SA4', 'B002YVSGA4', 'B00B9060X6', 'B00KMKIOWE', 'B00GYFMXUA', 'B009OMTVAA', 'B0002F786W', 'B0002KZAK8', 'B000KMEKAY', 'B00XOXRTX6', 'B0002CZYFC', 'B003D2O15W', 'B001EIMZXW', 'B00KBMLAV0', 'B009FX3LTU', 'B006JA3BS8', 'B004RV6PBG', 'B00IGGSGNI', 'B001B850DM', 'B000K6B2DI', 'B00191WMQE', 'B018S1XCSE', 'B0015QF5OY', 'B004DF0EN6', 'B0002GXSWE', 'B00MVC14N2', 'B00IJIJW2C', 'B0058MJX4O', 'B008YDTVW8', 'B000CBE3GE', 'B00022OA48', 'B00VHKMK64', 'B00076XOXC', 'B00P76WP9G', 'B000068NZD', 'B00VYDXNQ0', 'B000XUUXB8', 'B0178DOUZW', 'B000N5YEDG', 'B0007Y09VO', 'B0002H0A3S', 'B0051VILXG', 'B0018TIADQ', 'B0002D0Q7W', 'B0002D03B6', 'B0002F73Z8', 'B00SKUZQXI', 'B00BJ8Q49S', 'B003RB3Z60', 'B00646MZHK', 'B000BU5UZ4', 'B007WDX2J4', 'B001SGWKR6', 'B005MII5MK', 'B017IKKN3I', 'B01EM5GPH0', 'B0002CZR3G', 'B0002D0NM0', 'B00X9442LC', 'B0002E1G5C', 'B005SUN7R0', 'B007E69TPA', 'B009YRL4OG', 'B00RMJORJ2', 'B00118Q8CE', 'B00J3Y6328', 'B00OA9J9CW', 'B002CMLQ0M', 'B00R3GWVAG', 'B0013V1BYY', 'B0002DUS16', 'B009AS1FLG', 'B0002E3FCO', 'B00KO8W060', 'B0002ZO6TY', 'B000068NZG', 'B01E6T56CM', 'B0002ORP8E', 'B0158AXPW6', 'B00CYNHRIY', 'B00G35U9Z2', 'B000EEJ97C', 'B0002Z82LM', 'B0002GFTIK', 'B001UNVJ06', 'B0014ID03Q', 'B00121ZGA0', 'B0011BF32C', 'B00504BLLI', 'B01ESR1EUA', 'B01GP4S8O4', 'B0002F6ZK2', 'B000Z7567A', 'B00OSKZI3C', 'B00O7ZUEIC', 'B005TY7DAM', 'B00F4SCCR2', 'B000VB4AMM', 'B01CL3EIOM', 'B00CTKI10A', 'B0073EQXO8', 'B001FB63HC', 'B010SKTF1G', 'B0006NDF8A', 'B000068O29', 'B0002GZZNY', 'B00CE0VLXO', 'B001MX9K5K', 'B00KDX7W4Q', 'B00AZVS6XW', 'B001KJJO9S', 'B001L0VH3W', 'B001P33HVK', 'B013G5P8BG', 'B000068NVJ', 'B0007WPCKE', 'B00T3U1ENA', 'B003VWC840', 'B004B46L4A', 'B00FSSTQOK', 'B0096FQT8W', 'B00365FJ34', 'B0035RQFSG', 'B0002I8Y76', 'B001B2SA30', 'B00IGGRRD8', 'B0006VYYGE', 'B011SK7SEG', 'B014Q9YUKG', 'B00006JPCM', 'B00NP57IA2', 'B000Z31G3M', 'B00CTKI7AY', 'B00EUF5ILW', 'B0153QLUS6', 'B004VQAI2Y', 'B0002IP47O', 'B0002D03VG', 'B009DV5NJ0', 'B00FFHDR6C', 'B00006I51S', 'B00WO6MTAW', 'B00JSCP1EQ', 'B003E1EN32', 'B003DKN6LE', 'B0002E38UI', 'B009ZX8ZJG', 'B0002D0CEO', 'B000068NTU', 'B00L5QGY8K', 'B0023BYDHK', 'B0064BFM8O', 'B01BO2RBKE', 'B012OHZJ8O', 'B00ZV7T95E', 'B0010K6TXQ', 'B004M4PC3U', 'B01AXX9HWA', 'B001KL10A2', 'B00EPWROKS', 'B001ESK5NO', 'B010WL0YFM', 'B0002ORP8Y', 'B0018S4DEM', 'B0002MSVDY', 'B00743L6ZO', 'B007YYNGTM', 'B005KC0II2', 'B0002D0KXM', 'B006XYAR0U', 'B0002E3920', 'B01FTYBVI6', 'B000VTMSRI', 'B000VTH526', 'B0002GMH7G', 'B0002GMGYA', 'B00013BMT4', 'B018ATKGAG', 'B004QP2RGU', 'B002O0IIG2', 'B00GJW0JGI', 'B0002F4M4I', 'B005O6OBLY', 'B000Y02BWQ', 'B0163FI1DI', 'B0002Z2D08', 'B0002GWKKA', 'B00X7YJUGG', 'B0002GFQ1K', 'B00GESFC1Y', 'B00N2G3JUC', 'B006HNRXV8', 'B01FDLVMCU', 'B003YU6NY0', 'B0010K6TWM', 'B014F7BO58', 'B00GQ5FQV6', 'B00067G66Y', 'B00KO8W5CO', 'B00VIDJBXK', 'B00CHQGQ0I', 'B00JSCP53S', 'B00MF7OSQI', 'B01C4QYWDI', 'B0002F4VJY', 'B00SVRLPYY', 'B00PW3B194', 'B018PZJ1CY', 'B00HMQ1G9O', 'B008N9F5UA', 'B017Y1VSS0', 'B0050DDKTA', 'B0002F742U', 'B0002F53XC', 'B00U1S4YY4', 'B00U8Q03W6', 'B00BP3MGMQ', 'B013W3TGXS', 'B001PZD394', 'B007KZQNE0', 'B0050J3MN8', 'B00IJE7WRI', 'B01ELB8K2I', 'B001PGXI34', 'B00APS5EE4', 'B00AEOULE2', 'B00G0U5ASG', 'B00MHUGL7W', 'B0037M62KA', 'B00EDRUQXC', 'B0009GZG9K', 'B001W3BM24', 'B00B7CKL1I', 'B000XZV9R0', 'B0002V8R5M', 'B00YQBCU5W', 'B0007ZEY8W', 'B005G4CPF8', 'B0016H8S28', 'B000JWX4P2', 'B00PKP3EG2', 'B003AYC290', 'B007PR4JLM', 'B00F0GQ6TS', 'B007VT5X78', 'B00RYSDLY8', 'B005VLWHP4', 'B002EAHOJE', 'B005T800V2', 'B0055V7UR0', 'B002AKCK38', 'B010EYIH1U', 'B001R2QGOY', 'B01AJUK1YA', 'B0014MYTQO', 'B00L40R4J0', 'B00HX40OXY', 'B001EW5YQS', 'B000EENACC', 'B003B178M8', 'B0002E3FBA', 'B01HCLGU2G', 'B00XVMF93M', 'B01ABTHDBS', 'B002497ZJ4', 'B00MH1MSXM', 'B0002GW000', 'B000U6QTV8', 'B0002L52FU', 'B001PGXKC8', 'B00SM1IWHC', 'B00O5EKZ9I', 'B002HJBJPM', 'B0002F5BKW', 'B01AT2AT6S', 'B00724YB8Y', 'B00ANP5JMG', 'B00QW2N8H2', 'B000WKW8EY', 'B00MOS1SXE', 'B019IDSOKW', 'B0018TIAA4', 'B00Z9WU2ES', 'B01EBDZHNQ', 'B004XDZ9HY', 'B00G22W49K', 'B00DH6YW4E', 'B0027B1VDU', 'B00HN9A4BG', 'B0002CZV78', 'B00KIXQDMS', 'B000OR2G8S', 'B0063M1VA2', 'B000LQLDM2', 'B000SSZ7P2', 'B00EU7D8RG', 'B016MTKVCO', 'B00R6OT6GW', 'B00KV3NOIQ', 'B0067S8IZ8', 'B00HCLFMVM', 'B007JLG5JI', 'B0010CDSOM', 'B0140INT4Q', 'B0065KP3JW', 'B004HTC7D8', 'B00F4MT2LM', 'B001J6YNBG', 'B0018TDULI', 'B00VIFM5PY', 'B00GDFUJRK', 'B002AKKO72', 'B001PB3WOO', 'B00EQ28DV6', 'B001NVPO7Y', 'B001FUDJK2', 'B000RLBYZW', 'B00005ML71', 'B0002D0KLO', 'B000G87L9Y', 'B0037TCW6G', 'B001V6BW4U', 'B0002BG2DQ', 'B005SUS2C0', 'B0002F7402', 'B01AB8JOV6', 'B000CBE3G4', 'B0007KPI28', 'B00062GRXQ', 'B0007SL86K', 'B019OO4IY6', 'B002PXA2CQ', 'B0091CE0HM', 'B00B6WZGHS', 'B00GYGRTT4', 'B00B6KMDU8', 'B00ENYRIJU', 'B0028GWJCG', 'B000AADIWC', 'B000JKRFUE', 'B014GRA4OY', 'B00ISQCG64', 'B00CE21T4I', 'B00VVMKZ0Q', 'B00074B62A', 'B0002F740W', 'B00BA0PDHE', 'B003V8BE6M', 'B00LWGQMKI', 'B0051Y0SM0', 'B00CALE75G', 'B002T45X1G', 'B000LQ29XE', 'B00HSP6KGS', 'B0002GZOSA', 'B00B0Y59XS', 'B0065KPUL8', 'B00063678K', 'B003TE7336', 'B0007SL85Q', 'B00D0661J0', 'B0002F52EW', 'B00C0WMFIG', 'B00UN8QI78', 'B00743L866', 'B004KLZPA0', 'B00009W40L', 'B00CPCEIWM', 'B00NRRODS8', 'B005MHHGZS', 'B005EU6KYG', 'B0002M6B2M', 'B0002J4IX4', 'B0064S0FHU', 'B00IWXMGH2', 'B002TTKI84', 'B008XAXWOA', 'B006X0UTW0', 'B0019R8U7I', 'B000RJ6M4W', 'B019RINYUS', 'B009H3YLMY', 'B016GNPTZ0', 'B01BDX1IVW', 'B003E1LEBG', 'B000CD3QYW', 'B001AWY4WW', 'B001GDJQTG', 'B0002OOMTY', 'B000VZ8WC2', 'B0007WPHC2', 'B009A7T9DS', 'B00VUU702A', 'B0002CZSJO', 'B0002CZVWI', 'B0002D02J4', 'B00BU9KCXK', 'B00BSXJY64', 'B00SHF8Q5Q', 'B00BARTW42', 'B000TGHVGQ', 'B00TL5U56E', 'B01BD7YIOW', 'B0002WSKA8', 'B0010KCP98', 'B005FO1WBC', 'B00L2HYGLE', 'B000EO6N08', 'B00BV01AOI', 'B00VTSNLCG', 'B0002J1JKY', 'B006H510AG', 'B003BQ2DKK', 'B007IE5EQ6', 'B01E8IX3EO', 'B000A46O60', 'B00CIOH2KW', 'B000LPSQGO', 'B000TGJZ1K', 'B000WKT0Z4', 'B00IA04EPY', 'B0002F787Q', 'B0002H03YY', 'B0002E3CK4', 'B0002H05BA', 'B0006LOBA8', 'B00KN0EK9E', 'B002EWV8IU', 'B00H40VBSY', 'B00CPLQLKU', 'B00CRKRJJ6', 'B001JNARF0', 'B00VJRJ6GW', 'B000A1BD96', 'B000IL32GU', 'B000RVWY42', 'B003P198Q8', 'B001AHC2YE', 'B00MZY6DXM', 'B00KVEIY4E', 'B0002E3GO6', 'B000EELFTW', 'B00BL6JDUA', 'B005I2YL7I', 'B003VAI08A', 'B001AWUW3C', 'B0002GZHPA', 'B00B9ICM1M', 'B00KIMHMX8', 'B00M3LQLQQ', 'B0002KZEAO', 'B0093UPDBO', 'B000RYP83I', 'B001UJERGS', 'B001GF9AOK', 'B00HCLFFFA', 'B0043ISZXY', 'B0002D0E9M', 'B010FWMY4M', 'B01AXEGH36', 'B00AHL2X98', 'B00DR0CO8Q', 'B00LBLTJUO', 'B0002D0DWK', 'B00CHGKONI', 'B0029RRGNG', 'B00B5LDMH6', 'B0027XJPO0', 'B015ZLHNM6', 'B000ARJHG6', 'B00JR2DDW4', 'B00J98A6BM', 'B000BGX5TG', 'B00184YBCA', 'B00UJHFD2Y', 'B00LIO8PU4', 'B0027M070W', 'B003R7KUL2', 'B004MECVYI', 'B003V3C5Z6', 'B001PGXISE', 'B0014N268G', 'B001GCWILU', 'B01E6T54KQ', 'B01FHBONUY', 'B005N4N2BM', 'B0009X9H9I', 'B004ZZVHSU', 'B0007LCMFS', 'B0002E1NNC', 'B0002E1NWI', 'B00VUHNCRU', 'B0010GVDW2', 'B0002DNUIY', 'B0002GODI2', 'B000BU42LM', 'B00CPG5Z3Y', 'B005AT3D82', 'B00DY4X6ZK', 'B000FL3W04', 'B004XITWCM', 'B0002H0FZ6', 'B002WJC4QU', 'B000EEHEW4', 'B005CRF060', 'B002VOOOKA', 'B0002E1VWK', 'B0002OP0WC', 'B001Q4PDHO', 'B000I6KE4S', 'B000Y35C8S', 'B00YJ5C46K', 'B00O9SV1XO', 'B00KLFJZ6Y', 'B000WKT0ZO', 'B002BO53LO', 'B000OLVXP6', 'B00MIXF200', 'B00DFUTY1I', 'B00XQEH5P0', 'B000A2HDXA', 'B000RPUMII', 'B014CD837M', 'B009MBT68U', 'B01GGUTOFE', 'B0002IHUS0', 'B009MBTCKW', 'B00P0AHJZY', 'B005HH2GCQ', 'B00IJ6QAO2', 'B0002Q2DE8', 'B0002E54FK', 'B00LQ0AF3K', 'B005NZ05J8', 'B0002CZVW8', 'B0002D0CNA', 'B000LQ187C', 'B0002F4MSO', 'B00743L6V8', 'B000EEHM8U', 'B000637LUS', 'B009F8UAVM', 'B001CKFG10', 'B009YT5ZZS', 'B000EENANG', 'B0002F4TBO', 'B014I2UPHS', 'B00CS4KU38', 'B003E0Y08Q', 'B00EP668WE', 'B004WFXM8Q', 'B00W51FDOU', 'B00F5YEV7E', 'B019H1SSEW', 'B00BARTW4C', 'B0002GLDQM', 'B0002E5266', 'B00ATP5KF6', 'B00LGNFAW8', 'B0002CZQJQ', 'B007Z1FVZG', 'B0098GIST2', 'B019D2838Q', 'B006Y2FUW6', 'B003IEQQN0', 'B00724YG0M', 'B004ATUNQI', 'B001BALDCW', 'B0002I8YH6', 'B014GR0KYI', 'B003A02OFQ', 'B00074B67U', 'B00DS9A442', 'B01AXOWGWW', 'B007G4H0ME', 'B0002CZVK0', 'B01BT4MLHU', 'B005H7KY52', 'B000CCSWPQ', 'B01CVU3AL2', 'B00I3SVVWC', 'B0002CZTIO', 'B001943W4C', 'B00CWYONFU', 'B000EEHNP2', 'B0007XTOCA', 'B01D53KTEA', 'B00CBY2T9I', 'B0002GO9LI', 'B00UKPOC2C', 'B00TB3HPA0', 'B000K2HBTQ', 'B00EQ28NF2', 'B0044RQLGW', 'B00U0TTK1G', 'B003BQ91Y6', 'B00PLZE45G', 'B007SNKIDQ', 'B0002KYXTM', 'B001AS5DQC', 'B01AHXBCGK', 'B002P3KINE', 'B005H2007E', 'B00VVK275Y', 'B005PGGU9O', 'B00167UQLO', 'B017KFVBGY', 'B00GGN4NXA', 'B000E0PPH4', 'B00CALJ148', 'B00IWIPC6E', 'B00O5EL3EE', 'B0002F58YG', 'B001ANZTCK', 'B00DW3UBX8', 'B001V5K2SS', 'B0179LSDRE', 'B00N3LK24W', 'B0002KZQ9S', 'B0018TBEPW', 'B00WRI103Y', 'B000EMPR5C', 'B002GHBYXW', 'B002Q0WTDS', 'B0047B4WSO', 'B001RMDQD8', 'B00BQOHC3C', 'B00P6UDWXG', 'B015GPDCVC', 'B005AT3CBU', 'B01EJU4VUQ', 'B00EBK6C20', 'B01F7EAMYC', 'B00B1YOENI', 'B0002D0E8I', 'B0002E4YI8', 'B001H2QCMU', 'B00KZ1VKIA', 'B0002F6SGS', 'B00VYQABEE', 'B0091Q1DDC', 'B0009FH4CI', 'B00MORT53K', 'B014QXZZK6', 'B0010BQ3FY', 'B00EOAF0G6', 'B0002M7MTS', 'B0018TQHCM', 'B0002E37QS', 'B0002D0KJG', 'B0002D0C3A', 'B003TSEFKQ', 'B001PGXK46', 'B007XKCOQ8', 'B0002D0DCA', 'B0002F71Q4', 'B000A6ASQU', 'B004XLATPI', 'B005NAP9LW', 'B0006NMUEU', 'B00387G1UA', 'B0002T67K6', 'B00NLGIJIK', 'B009VXVALU', 'B002MVEW7M', 'B0010SHU18', 'B01AA2CUD2', 'B00BP3MFVS', 'B00XQCRR5U', 'B0007ZEY46', 'B0002MDTVS', 'B00508JFE4', 'B00ACGMOA6', 'B01GJMQZ6U', 'B009AQUD5M', 'B00J0823EO', 'B0002CZW3G', 'B00KMA0R38', 'B0002D0G90', 'B002GHBYZ0', 'B009SSOLRI', 'B000EEHL7M', 'B000BWCK7S', 'B00GXNMJDO', 'B00DR61QNO', 'B001H5KP0M', 'B00UXE3WOY', 'B001I2GY1I', 'B016XYIYTA', 'B0002F7KAG', 'B001CKFS3Q', 'B0002E3L4G', 'B002NM076A', 'B0002DV7U2', 'B00AV37F40', 'B000LQ5XW8', 'B00CTQ0UWG', 'B00HX9F1OQ', 'B00J4TBMVO', 'B0002D0PAU', 'B00VS4M4AQ', 'B001PGXHXA', 'B00CS8QSSK', 'B0017H4EBG', 'B0002DUPZU', 'B001J5RYXQ', 'B001LXMXU0', 'B000E1PXDE', 'B0002DNW5A', 'B002OO333Q', 'B00M9CUOKI', 'B000H28IPA', 'B005FIYB2K', 'B0002F4MJ8', 'B0092V7EJ8', 'B0018SJLFS', 'B00NYNJO3O', 'B004THB6DA', 'B013W45C62', 'B00A270MZO', 'B00XJF53PK', 'B0164DKTFM', 'B004ACP09A', 'B000EENBDU', 'B00WRHTOFG', 'B0002D0CWQ', 'B00IPWOEJI', 'B00IFHCOAE', 'B000J4I9VO', 'B0016H25PE', 'B003A02P46', 'B01E9N6JOY', 'B0002E1IO6', 'B005LR0ETO', 'B0002GML5Y', 'B000EENMUC', 'B00A7K7FN8', 'B0002F6W1Y', 'B004B8NGIA', 'B001LYDI6C', 'B001V5K2RY', 'B001KJF0BE', 'B0010CMJ4C', 'B0018TC3I4', 'B0006GSEMY', 'B006I387UI', 'B0007XQXCE', 'B0009RM4DK', 'B00DGAXXV4', 'B005SGBHU8', 'B010W6W9EQ', 'B00V6I7NBE', 'B00CMFY516', 'B0002D0C1M', 'B009HO2PYO', 'B00GS41CHW', 'B0002D0CGW', 'B004UJWBL8', 'B00PGQYRFC', 'B004ZZVHGW', 'B000RWJQRE', 'B0050K86A6', 'B0002E4ZKU', 'B0002D0K00', 'B005N2RGJ8', 'B004NDJRN6', 'B000OY0KWA', 'B0002D0K6O', 'B0007XE8YO', 'B0019FX5F2', 'B0094EJRF2', 'B00EE2545Q', 'B000Z38F4A', 'B00E411NG6', 'B0002OPGBW', 'B00BJLC4BM', 'B00SY1UXD6', 'B004TP4IZU', 'B01FHM1DNS', 'B00MWRZ11M', 'B000EEHAN2', 'B001BP58CI', 'B000S5Q2EK', 'B000CZ0RLA', 'B00LNV2SAK', 'B01D1LC6BA', 'B0002D0L5E', 'B00EQ29KNG', 'B0002NIP98', 'B000EB68VK', 'B0002F58J6', 'B0013XUAB2', 'B002X8Y4SQ', 'B005EHINIK', 'B00M3KV5X6', 'B00N4KMCVI', 'B012BUQF3C', 'B000HE7M3M', 'B000R4LQ4S', 'B005SUSWWU', 'B000068O3X', 'B000KITQNY', 'B000GE403I', 'B013OFJVPW', 'B014KR71Q4', 'B01512W3Q0', 'B001CCMP0S', 'B00MIXFBL0', 'B004REW0X0', 'B000OR4GZE', 'B00076AGJC', 'B0002E5158', 'B000EENGBM', 'B0002ZO3JW', 'B00EDHWLFI', 'B005MR6IHK', 'B00FBSB6MW', 'B000K6CR5A', 'B00VL6XC5W', 'B01EIHFOTM', 'B0009FC94Q', 'B0002F74GG', 'B0002D0A8M', 'B015E23BHC', 'B0099XQBD4', 'B00940TIBE', 'B00I35ZBBW', 'B0000WS6QI', 'B000SJJCX4', 'B00JXDE8CG', 'B00GWNMFCU', 'B00O5EL4MA', 'B001R2K3YS', 'B000CZ0RLU', 'B003B0BTJW', 'B00MYGE6B2', 'B00BBRM00E', 'B00434YRX0', 'B019I2W9GI', 'B003A02PAU', 'B0002D0CSU', 'B000X1QPT6', 'B00B28HDH2', 'B0002D0P96', 'B00WEAIKF6', 'B001J1JRN0', 'B017B1NB7Y', 'B005L6KJGS', 'B001BET8IO', 'B00Y4TY3JM', 'B004MW5B8S', 'B00IJSBCOI', 'B00PTC13HI', 'B003QKBVYK', 'B00IFOTSJW', 'B0009V8YXA', 'B00HFSHFPI', 'B00EADCPDS', 'B000WS1Q4E', 'B0002F6W5U', 'B0090X6KOS', 'B00871VO5Y', 'B00UN8O5VO', 'B0002II7WS', 'B00DN7MI84', 'B00B7FW7IA', 'B00PVBOTI2', 'B0002D0CYE', 'B00JEFNSKG', 'B007XH9432', 'B0002I8Y6W', 'B000189NWC', 'B017IL42NY', 'B002M8GBT2', 'B001FWYAX0', 'B0013XWB14', 'B001MZQEZ2', 'B00BFNACAY', 'B00G9AZJJC', 'B00724Y5R6', 'B014QXZD5S', 'B00KFWJRIY', 'B00J4JKAKS', 'B00NCOJOUS', 'B005BQOQQC', 'B0018TIYIM', 'B002HFQ88Y', 'B002N19O2Y', 'B015KB3HT4', 'B001123EC2', 'B00I50U7KK', 'B01C44J2WQ', 'B0098X01ZO', 'B000LJ2WAQ', 'B002C4SM5W', 'B000BHFYGM', 'B018W2BLAA', 'B004IK5M0G', 'B000BY31GK', 'B0018L62CK', 'B00C5B26HC', 'B0002H0M7W', 'B004XLFKIO', 'B002EWV8NA', 'B00IU3GFT4', 'B000K69UM8', 'B004Z17008', 'B00BCL96T2', 'B004OR9Q32', 'B009B3QK1K', 'B00E3J9MAS', 'B01F8BVN9M', 'B001W99HE8', 'B00JOP0P1G', 'B00E71EG0I', 'B00743L8E8', 'B00KWINE9Y', 'B0002GML40', 'B001L8NGJ2', 'B000AYFZN8', 'B009115NQA', 'B00GXTUOTO', 'B000EENEEQ', 'B001NPDS5U', 'B01FF4LGWQ', 'B012HWRM3G', 'B00006I51V', 'B00BRQ5AJW', 'B0018SYGR6', 'B01D42PQCW', 'B0002F51YS', 'B000UE3LA2', 'B0002MSPBM', 'B0079KQEOK', 'B009CIIWQA', 'B00MYG0B20', 'B00HMD0TK4', 'B003YFSE60', 'B0040DNDC0', 'B000XLZGNM', 'B003AYDQKE', 'B00CQN1Y68', 'B0002CZYW0', 'B000R9V09Y', 'B0002F5E72', 'B0002CZQKA', 'B0057RUKOC', 'B004VQAI5Q', 'B00E87OLFQ', 'B00A7190M6', 'B00IX04FDW', 'B005F3H6MC', 'B007FRLU2I', 'B00VDZOTJY', 'B00U28HYNQ', 'B017GR77K0', 'B0002D0K5K', 'B004UAH5HC', 'B0002DNUY8', 'B000CCJP4I', 'B000CCXLTS', 'B000RY68PA', 'B004NCSIO6', 'B000XT3IFW', 'B00QOF25ZS', 'B0002GWRQM', 'B000FK7FUS', 'B01D3ZSED8', 'B008KWRRMO', 'B000K66A6C', 'B00BUIA362', 'B00266N6L6', 'B003HR375S', 'B0002E594G', 'B0002F7416', 'B0002F7A06', 'B01D2Q1CIW', 'B000CZ0RME', 'B001CITVNQ', 'B00U2HDU4O', 'B00HB7898U', 'B0002FOBJY', 'B0064RTUP4', 'B0002D0LSG', 'B004KCL5LW', 'B0002F4VU8', 'B00RWKP02Y', 'B00IPNO6KO', 'B001QWBM62', 'B0036FFDSK', 'B00S1995VW', 'B003TU7N4Y', 'B0002CZV1E', 'B00WZQV9B6', 'B000068O2P', 'B0006MQ19G', 'B000V4YFLA', 'B00MXUI9BM', 'B0018SYT00', 'B00FSDBTHW', 'B00QA63438', 'B0002H0JZC', 'B0006676A0', 'B00O5EL7S6', 'B0002F71QY', 'B00CIIQFHE', 'B000YF2FGS', 'B0002CZWKE', 'B00AXE52KG', 'B0002F79N4', 'B00S82B0VA', 'B000A82NK2', 'B001BAMOAM', 'B00BMIHAMU', 'B0033290CQ', 'B001QUPFV2', 'B015FTX3YK', 'B01EJIJLLC', 'B005AGGZ8K', 'B01E6T56EA', 'B001WMFREO', 'B0006ZL2VA', 'B0002L51NS', 'B000XPNYT6', 'B00012F7G4', 'B00WU5OM5M', 'B00C7BXTSU', 'B009C42TK4', 'B00SCP7IB4', 'B007PDRVOI', 'B0002E2OTE', 'B0002E2NEK', 'B001UJCDBO', 'B000EENI1K', 'B0002F7466', 'B003SOR6UC', 'B005FIFM14', 'B005ODB4QW', 'B008H51464', 'B001UJH0XU', 'B000P5OULA', 'B0002CZZGA', 'B01CSAATY6', 'B000KIRT74', 'B00XDDDVIE', 'B007Q0C3RK', 'B0002F78OE', 'B000GUR8V8', 'B00D3QFHN8', 'B007BR5PWI', 'B002G1UT4S', 'B000EELEX4', 'B004PJG5SS', 'B00H84CL6M', 'B0019LQRT2', 'B00B1FFPYO', 'B000068NYP', 'B001N3SCS0', 'B00187YQU4', 'B002BXLZ7Q', 'B00PEFOOFI', 'B001N3LZ9I', 'B0002E3AHY', 'B0027LSWTQ', 'B0002CZT1G', 'B004J0A264', 'B001032GK8', 'B003YOT65E', 'B000BKY8CU', 'B0002F58G4', 'B0002E3CHC', 'B0002D0L4K', 'B00GXMYSQ6', 'B00Y83UT4C', 'B0002GOK08', 'B00946ZJN4', 'B004DEHJZ8', 'B00IVPFXLW', 'B001AH83UG', 'B00132EJJW', 'B0002OOMW6', 'B000AAGM0M', 'B000P5OUCE', 'B000RLKOT4', 'B0000WS0SC', 'B0002GFP9I', 'B005YYO0OE', 'B0002E5162', 'B00H45XNKS', 'B01CH9MR7A', 'B0002F5FFI', 'B001U5JFNM', 'B0009T2FQ4', 'B000P3WE60', 'B001J1SX94', 'B00CBU9H0G', '0739079891', 'B00O7OXODA', 'B00004UE2D', 'B0009V9XBC', 'B00WU6FDOK', 'B01GPXSGX8', 'B00NIE80A2', 'B003SREMHO', 'B00534397O', 'B001UANV5A', 'B00CSKKZX2', 'B012VQ5A7S', 'B00PIQMT7S', 'B0002H0JZ2', 'B000EEK4VM', 'B0002D0QW2', 'B000EEL6RS', 'B00COTD0XO', 'B0027B41P0', 'B00KCN83VI', 'B0073V7PXO', 'B000KUA8G6', 'B0002KZDOG', 'B000VZYS66', 'B0002GXQF8', 'B00923G9Q0', 'B00160PRBU', 'B00BN9A96W', 'B00097DC0E', 'B0002E2Z8O', 'B000KIPD5E', 'B001VNTBZU', 'B00C2DJT46', 'B005E2Y0KK', 'B00B5OY8BW', 'B000MJ9E92', 'B00HBS5UW2', 'B0002D0CH6', 'B0002E1IW8', 'B00T8OKM98', 'B000TLQQOO', 'B0002E3GBY', 'B004FOKE9E', 'B0002D072G', 'B0002EJQMC', 'B005FKF1PY', 'B005DSSZHO', 'B0015MJE22', 'B007IV136Y', 'B000YVYBYQ', 'B00105V5MQ', 'B00FJDNFGE', 'B006Z6VIZO', 'B00BBF8RV2', 'B0002DVBJY', 'B0002E2UUW', 'B005CQ30A4', 'B009AARY2I', 'B007VDDAK6', 'B000OR4WCQ', 'B001UWGS6M', 'B0002D0KBE', 'B0002GY64S', 'B000B5QK08', 'B00IOQADYU', 'B000KIVM9U', 'B00A926MUQ', 'B000RKL8R2', 'B005GXMKHW', 'B001E95KEW', 'B000Z7LLR4', 'B00DS1NI4I', 'B00O4L3F9E', 'B000BH437S', 'B019DTF2OW', 'B00V4VQCQU', 'B009GS6Z3S', 'B0030YAZFI', 'B005BEHR7E', 'B00079OUNM', 'B0002BACB4', 'B00I3OZO7E', 'B00J4A70M8', 'B00O8V4QOS', 'B0002F7IIK', 'B0002E5680', 'B004UOE3G4', 'B00F2AJBD0', 'B00I3OZNQQ', 'B001F2PHO6', 'B0002BACBO', 'B016ZMDFGW', 'B00WRHTVS6', 'B000068NUX', 'B0083FTVB8', 'B0002E52MK', 'B00O4VH9YG', 'B007SNUBW4', 'B017D8015K', 'B00HV7U4CY', 'B0014BOXZC', 'B002QHXX7W', 'B018FCZBMG', 'B0002D0AEQ', 'B00000J50W', 'B00NSET9Y8', 'B001FWYB4I', 'B002TUTUIM', 'B019NY2PKG', 'B00LIX3ZYQ', 'B00WW6TNXK', 'B0148JMEEI', 'B000RMQM4E', 'B00GEDQAJW', 'B00CGDJFPA', 'B001H42HD6', 'B005SUSXGA', 'B000PGS5M4', 'B00CALGTA2', 'B01686TXZM', 'B0002DNUHU', 'B00Z6IGHFS', 'B003R70OA4', 'B0045EP4WG', 'B00IMN8U72', 'B00551VDIM', 'B00F1DEI8G', 'B0029SYO0S', 'B00DR61RJC', 'B002EOUN4S', 'B000RKWTPC', 'B0009GYIL2', 'B01DZXE9NC', 'B000CZ0RII', 'B00BKXN9LS', 'B01C5GQN98', 'B00GA99CCW', 'B000L7MNUM', 'B0002D0DXE', 'B0002D0E1A', 'B002UAF1PW', 'B001EL9DL6', 'B00OY6718K', 'B0002NIRIC', 'B00GM0NX3S', 'B000LAT0AK', 'B000CEMQVK', 'B00JA4T7WY', 'B0007DBMOI', 'B0026KAUOI', 'B00IU04BCU', 'B0002CZST4', 'B005CX4GLE', 'B00J5KNW56', 'B0002D09M4', 'B003B1PETC', 'B00S199E8Q', 'B0002IZLNQ', 'B00LW8VLRU', 'B01FXD33RA', 'B000EEJKSA', 'B000MFK1ZW', 'B001J1LG2U', 'B00BLJYWMQ', 'B000EEJH9C', 'B00HVLUR86', 'B000Z7LLQ0', 'B003PNFM7A', 'B0006LXW9E', 'B0002DNUIO', 'B00INNJZPC', 'B0009RLE5Y', 'B00BIBBKJA', 'B00UWURE2U', 'B000E3XAZK', 'B001FB63IQ', 'B00EQD71B8', 'B00T0RZZBS', 'B0007OGTGS', 'B003JNOGDW', 'B0010SR8G0', 'B0002GFU2A', 'B00HLW1A5O', 'B000CCSWQA', 'B000EELB8W', 'B006BC3K3A', 'B0002F741G', 'B000FVZUMM', 'B002C741B8', 'B004XOYDZW', 'B0002GZSNG', 'B0002E1TB8', 'B00J5OK57U', 'B00NEZNT74', 'B00QHURLCW', 'B00KYDVIHM', 'B000P5PKT6', 'B00LGNFALY', 'B00ZI3OQC2', 'B0002MS7MO', 'B0002F71OQ', 'B00BRQ5BHS', 'B015QZPS9Q', 'B00EO4A7L0', 'B001BYK41O', 'B0002D0D1G', 'B00VMDWZV6', 'B00F5C06T8', 'B017ACVQCQ', 'B00U43T1KI', 'B00IJKZ120', 'B001G7F7L8', 'B00WWFLICK', 'B0002D07A8', 'B00XQF90PC', 'B0002F4V30', 'B0169Z51H6', 'B007CRBQPW', 'B00P6VIPCS', 'B0002E1O5E', 'B01BCYHPEG', 'B0002GIRKM', 'B000EEJAR6', 'B0002E2M00', 'B0002CZTXO', 'B00MEOHC7E', 'B00009W40H', 'B000G0ATGE', 'B0002F73TE', 'B00RWF76NK', 'B00JJ191Z6', 'B001MXCY58', 'B0080NT456', 'B00HHZERU0', 'B0002H0SWQ', 'B0007Y18UA', 'B01AKRAAB6', 'B000EELBHI', 'B0006NMUI6', 'B0002E50DQ', 'B00NCCXP28', 'B00TP7C9YY', 'B00BRQ566Y', 'B00CINAYPI', 'B005J3EZZY', 'B00XC2AQN4', 'B0002GNY2S', 'B000BKXF4M', 'B00F0GQ8QE', 'B00IN2WHHQ', 'B003B1GEW8', 'B0002D0I34', 'B000P0XBS8', 'B00KC0E1XK', 'B000246SZK', 'B0002F752Y', 'B00KMFL70K', 'B000CCIVCA', 'B00267OCTA', 'B000EEGAKQ', 'B00T77SHA2', 'B000RN53LQ', 'B007J4AGNG', 'B0002IHFVM', 'B00J3ZCVCS', 'B01GRMF5ZE', 'B00B9QOMCG', 'B000S9IAZA', 'B000WITAWO', '1480360295', 'B0002GW3Y8', 'B00715CUGE', 'B0052VE89G', 'B00GXNDCXA', 'B0006BFS4Q', 'B0002F7IOO', 'B005HJAH2A', 'B00HFQC3VQ', 'B00IRMEZTK', 'B000V0ATWS', 'B0002E38B2', 'B00UTUKFHE', 'B000S91BI8', 'B00154KSA2', 'B000EEJI00', 'B00W3K8OC6', 'B00N4ZHPZ6', 'B0002DXAW0', 'B00MXUIN9U', 'B00RZ12AE6', 'B00ICT5GC8', 'B00SMKSHGY', 'B003JNLKYK', 'B001FSZR4U', 'B0007V2A8C', 'B0002D0NRK', 'B00CRY250U', 'B000RVZXSG', 'B004VQDAQK', 'B000FFWZKI', 'B00L40YCI6', 'B0002GJHYM', 'B0046XSEA0', 'B0026RB0G8', 'B00B5LCADS', 'B0001ARCFA', 'B009RUCWT6', 'B01ELFXYIE', 'B0002F73OY', 'B0002F6K4I', 'B00MY6XPOG', 'B00T0OJG5M', 'B0002F528I', 'B00HSPW57G', 'B0002GFTH6', 'B00IGRX9FW', 'B00C4VYFKY', 'B00BIRR1TC', 'B005F5TP6U', 'B00WQI2TM6', 'B007J49C40', 'B00XJF59X6', 'B0002E2G7E', 'B0099DNZMY', 'B00BDFQCXA', 'B00F5ZGI1U', 'B0002CZWRW', 'B00UJ9LHMW', 'B00K5RKD00', 'B0009O116Y', 'B00GCFCA00', 'B00CLFX4EQ', 'B00B3K4YTY', 'B001MXAPC2', 'B00OQ3AJCQ', 'B001I9V8NK', 'B001FIMZIG', 'B00ND1K8T6', 'B0002CZT0M', 'B00I6JGPHY', 'B001IAHN92', 'B0030YAZLC', 'B002HFDPVW', 'B00CL0I9LO', 'B00074IITO', 'B00ISH3PYU', 'B000BNR8BU', 'B003KJ0ZD0', 'B0014MYSD8', 'B009FKHV62', 'B002HHM34K', 'B001Q8DJO4', 'B0018LZBTU', 'B000BU5V58', 'B0036ECH0S', 'B0002D0IU2', 'B00721BB44', 'B002L2JS0I', 'B001B9JZ78', 'B00HZA6EJO', 'B0002E1U76', 'B0002GZKWU', 'B0002E1NPA', 'B00A710AUW', 'B00G8IV9DA', 'B01C9F85S2', 'B0009XH4HU', 'B00JER27MO', 'B0051WAM1O', 'B00F0W9PAO', 'B00T631UTC', 'B017WPW45E', 'B002026DR0', 'B008XB188Q', 'B007ZXWQ8E', 'B0002E2EOE', 'B0009QTQ32', 'B00GRRN2RI', 'B00079DRUO', 'B000VO1EA0', 'B000P5NXWM', 'B000MJ406Y', 'B00SB237FY', 'B01FRN3N1C', 'B002RGPQJ0', 'B0161X4GPY', 'B019GYKGRC', 'B000BNSYHW', 'B00V374DOI', 'B005OBV8JW', 'B003ZAOQBQ', 'B009F9V28Q', 'B00BKVHIUI', 'B000CZ0R74', 'B001XWD3LC', 'B001D7UYBO', 'B000Y08846', 'B000BKJPQY', 'B000GAXAFQ', 'B00N4QF1F6', 'B002B333LW', 'B0167I3DCK', 'B000UB1N3M', 'B0002D035C', 'B006AVA3TQ', 'B005VLR6XC', 'B00PNG4BV0', 'B0053CUHMG', 'B001PPXFAG', 'B0009DXEEM', 'B017SQ8MN0', 'B01H74VTI8', 'B000NHB9BE', 'B0065KQ00I', 'B00LG6ZGHY', 'B005IHD95I', 'B002GYWBJ6', 'B00E9EC2K4', 'B00AR0A4KY', 'B0154G1AQM', 'B0002DNRA0', 'B000F6FUIG', 'B019MKKVZ2', 'B0013NG4LW', 'B005J2PXWY', 'B00006HO3L', 'B000RBEYR2', 'B0064BFNME', 'B0078YFA1A', 'B0002KZHTW', 'B002C4QWZO', 'B0002O7L2O', 'B000GUDMAO', 'B00MO6KKSK', 'B00A9K386E', 'B00CHB5CVW', 'B000CBXZXG', 'B005OQ77ZQ', 'B0002E1NQY', 'B001J1K536', 'B0002GIV1W', 'B000068NW9', 'B00XEL1JMA', 'B0002XKYXI', 'B007L0CH8K', 'B001SBN6BA', 'B0002ZO3JM', 'B000MYIIRG', 'B0071ML4N2', 'B001M59AS0', 'B005G6CZRE', 'B001REJX1U', 'B00B5LDWVW', 'B001NXDSK2', 'B000B85FV0', 'B00E94U7DS', 'B001IKBM62', 'B002AQNGIU', 'B00LTL0KLI', 'B0002J6H2Y', 'B004L9KLT6', 'B00JL75WN8', 'B005UJQ2TY', 'B0002DV7ZM', 'B00BP96RQ6', 'B0002E2UD4', 'B0002OOMWQ', 'B0002E3B78', 'B006WP70Z0', 'B001ELP5WM', 'B00C68MZXE', 'B0007KVLGA', 'B008YAHZTC', 'B0002KZEB8', 'B0002GJGUM', 'B00T37THKU', 'B004BJPL6Y', 'B001BDTNBM', 'B0015RIN6U', 'B00DDXKE84', 'B001J1RXQ8', 'B0051PNVL4', 'B001G7BRW6', 'B00MH1LTIW', 'B00FR0T8V0', 'B000CZ0RHY', 'B001FB5Z4E', 'B007CSXUNM', 'B006HNQQ66', 'B00FFVKM2U', 'B009A3JEZK', 'B013HX8GBG', 'B0002Z3N8E', 'B0015QAWKQ', 'B00IACEYK2', 'B001IPUJJI', 'B0002CZVA0', 'B00KIZROW4', 'B018TB0I6M', 'B000N3ZK36', 'B002CMLPYY', 'B0002ZO3LU', 'B004UDM37Q', 'B005OEM43S', 'B0002H0QGE', 'B00KLLKE04', 'B01E5MWHC2', 'B000EPVXWU', 'B01H31ITWE', 'B0002FO9RS', 'B000BUDO48', 'B00KZ1VGLQ', 'B00C10964I', 'B0002D017M', 'B01BVC2S1O', 'B0002CZUUG', 'B000NZKGEM', 'B003POL4Z8', 'B000EENMQG', 'B009994QJE', 'B0002OP7XY', 'B003AYRBWI', 'B0002F4UYU', 'B000960KNW', 'B000M23OQ8', 'B000WIRFD0', 'B00SHCDMRQ', 'B000A1HU1G', 'B0018D84YC', 'B00C9JLFUE', 'B00KO8W3FI', 'B00GFFLCS8', 'B002C741BI', 'B00C5B20QE', 'B0195HKYY0', 'B01G2DLWZU', 'B005BE170W', 'B00IOSJ72M', 'B0002F51XY', 'B00PHVGGMI', 'B0187KO8X4', 'B0002F5BFW', 'B0029RGLVO', 'B0009IIBJK', 'B0002GMIVG', 'B00VYQABQ2', 'B00USQY0CK', 'B00D9ZVQFG', 'B01H745NV2', 'B00106OTJG', 'B00B5LEWKM', 'B00AFOMX7O', 'B00006I5SD', 'B00XHGVHL0', 'B00QT1E3K2', 'B000X31R2E', 'B0002F4MKC', 'B000Z7C9T8', 'B001WMC6WU', 'B01EY1UDUW', 'B003F1PRFO', 'B000KIRT9C', 'B0002GY986', 'B0002E5298', 'B01235DEA2', 'B0002ZO3LK', 'B00J49MFHY', 'B0002F73YO', 'B0054QM4D6', 'B0002E51PI', 'B00GTSM9XI', 'B004BZU4OW', 'B00AJHE5E6', 'B00L6C8PN0', 'B002DP1FTU', 'B0002DV8AQ', 'B005JW9JJW', 'B0009FJ1NS', 'B0075DNS9A', 'B0051TZBO0', 'B004W6KR7E', 'B0006UGEK4', 'B00I3XGGPO', 'B00JZEW4XS', 'B013LG9WQM', 'B0098RJP0W', 'B000OR186E', 'B00COOFHA8', 'B00TJ2FDW0', 'B00B8ZFDQW', 'B0006GR4L6', 'B01GAMP2S6', 'B009703N6M', 'B00IYYRPJS', 'B004YGMOSC', 'B00EQDITGO', 'B0172H4DHE', 'B00CBPAPZW', 'B002DYJEMQ', 'B0149XD9CY', 'B004THBHAW', 'B0002D0Q90', 'B00CGKI0J0', 'B0002F77B8', 'B00178GVHU', 'B00CTWOY36', 'B0002CZWMM', 'B0002E56HQ', 'B00DALF966', 'B001Q9F34W', 'B0002D0A5A', 'B008FDSWJ0', 'B007IE5QP0', 'B001E43SK0', 'B00CFOX420', 'B00GRN1VNO', 'B0007P3528', 'B0002FO9RI', 'B0002E2G24', 'B0002D02RQ', 'B0002D02SA', 'B011N57QG6', 'B00006I5R7', 'B00W52VIOS', 'B0002D0CL2', 'B00IVPFZ9W', 'B001Q5SGJK', 'B000BBS3B6', 'B000AJR50Y', 'B000RLI76G', 'B001F7NX60', 'B0002D0NJ8', 'B0002KZIYG', 'B0009G009G', 'B0007Y8GSM', 'B00542YQSQ', 'B000RKAFIU', 'B00X7DVVGY', 'B0002CZVX2', 'B000B6FBA2', 'B016KNIJHG', 'B00ESFHEXY', 'B0002DUS8E', 'B000M74WXM', 'B00IFEKUTO', 'B000KITQK2', 'B00L9EKJY8', 'B004GHI5ZK', 'B001U5PCFM', 'B0002F5C7Y', 'B000SKHSRU', 'B00EACW8VI', 'B0055DCWKS', 'B00H5XQH20', 'B0006OHVMK', 'B01BHPZQ1O', 'B00FONJ6AI', 'B001A2FICC', 'B0002D0COE', 'B0002D0Q2W', 'B000EEN9OG', 'B000BVS7WQ', 'B0002H00O2', 'B0002D01PY', 'B0002E2KPC', 'B00P63ZY2U', 'B0052S3RZU', 'B000165DSM', 'B001032IDS', 'B002KEAT78', 'B01EAF3HQE', 'B0165KPRY2', 'B0002D0B4K', 'B002NA9UPQ', 'B003HGFRO8', 'B008LMS4MK', 'B00119MJM6', 'B0002D06EU', 'B001DW6RJC', 'B000KUD2G4', 'B001QJGYIG', 'B00SXBPMYC', 'B00GGMWA5O', 'B000BLRVOQ', 'B000OE2G54', 'B00UI79AZG', 'B00A7KC9NO', 'B004MNCN7Y', 'B0140V9OEM', 'B0002E2G2E', 'B0025PM6DM', 'B000B6DHB2', 'B0002GFQKQ', 'B00CG856SA', 'B000N94RP2', 'B000EELFI8', 'B0002F77Q8', 'B0002IHP0S', 'B00EKPMRWA', 'B000RKVH0K', 'B00F4MYC5I', 'B005ES7VSW', 'B000TZVCWG', 'B00I2J4TWG', 'B000EEHMXA', 'B001L8MDKK', 'B00ZQMP6RO', 'B0002F741Q', 'B000UMFQHA', 'B006Z6JQGC', 'B004XY92VC', 'B000WN4J9S', 'B001NXDSJS', 'B0002GYX5K', 'B000OY707S', 'B006X735PQ', 'B0092M2EZQ', 'B000WS3GRE', 'B000V0GTAO', 'B00S0DG918', 'B0051WAJ5S', 'B000BUCV3S', 'B011QEVO44', 'B000K6B4E0', 'B004A15AZ0', 'B006MVECVE', 'B004YHAYD8', 'B00008W2LW', 'B003P15MTK', 'B0043UNRG2', 'B002GYWBIM', 'B001PGXKE6', 'B0002E2NFO', 'B0002GUE1W', 'B00C7AFDVM', 'B0002E1H9W', 'B00NBAB5VY', 'B000ARLFYI', 'B0002E513U', 'B000BQ79W0', 'B000BW2D84', 'B004XJNIWG', 'B00CP7U0Y2', 'B00ZPGFLVM', 'B000XXUV2G', 'B00FS6SP5S', 'B0002D03Y8', 'B00365USKI', 'B00IZCSX9U', 'B0002F519I', 'B0016H8S1O', 'B0002D0CCQ', 'B00434LPU8', 'B0002F73ZI', 'B001VO7FPC', 'B000F511QW', 'B00130M446', 'B0002II6V0', 'B0002F73YY', 'B0006UGEQS', 'B01DDBXXG0', 'B00IN2WFA0', 'B000OR2S9A', 'B00VNSOK2C', 'B00DD5WWQE', 'B001QYMM5A', 'B01B15JPCQ', 'B00404E7VK', 'B0002FOGFI', 'B00LTDON0K', 'B00H54AILK', 'B0002CZVYQ', 'B00IO5ZROC', 'B00095NVZM', 'B000OR2QX8', 'B0002CZTI4', 'B005SUY4E0', 'B000EEHFPK', 'B009GUP744', 'B00AL77P8W', 'B00IJ23YS6', 'B00I9FL3OA', 'B004Z99490', 'B005LVJRIE', 'B000EEJJI6', 'B0018S4X2Y', 'B01CSAJA3W', 'B00YFKA3OO', 'B00ZU86PEC', 'B001C74GLY', 'B00D4AGJ3U', 'B00TDGW532', 'B016RWV4VS', 'B003AJVKDO', 'B0054QM76K', 'B008I5QT9K', 'B003B1RGQQ', 'B0012OO9YG', 'B004MW5B8I', 'B001HNE622', 'B000XPNU68', 'B002G1UT5C', 'B0000AQRSS', 'B0002ORP8O', 'B0052BFLB0', 'B00HH62VB6', 'B00080KNH2', 'B011QLC6BC', 'B004TM31QK', 'B0002D08IE', 'B001EEO8IQ', 'B006FKNVTQ', 'B0002D0208', 'B000B5L2OC', 'B0002F52A6', 'B00AW7FTL6', 'B000EEJF4O', 'B0002E4Z8M', 'B006MH1GAS', 'B00KDE3U5K', 'B00JYJFE72', 'B00CE20FC0', 'B0002CZSQM', 'B000B6FADU', 'B001EZIEVW', 'B00135HFK4', 'B00LGWVNX4', 'B001FB5Z1C', 'B00GKBFII2', 'B0002D0CGM', 'B0087UPT1U', 'B0002DVB9Y', 'B00DUKP37C', 'B00263JCE4', 'B0009FC950', 'B0002CZVHI', 'B0002F7IEE', 'B005EHIM7M', 'B009B15N0Q', 'B00L6HR4VE', 'B005QIZIYO', 'B0002D09Y2', 'B0045YXVJO', 'B003Y3ASW0', 'B0002D0CQC', 'B0002GTZR6', 'B00W75UC4U', 'B0006NDF6C', 'B005T600D2', 'B0013NDBS6', 'B000CD1R84', 'B003AAEGZ2', 'B0002CZSTE', 'B0002CZT2A', 'B0007L9NS2', 'B0006GR4KW', 'B005SUVFXI', 'B009DD97AO', 'B000KITQKM', 'B00IWRJSE2', 'B0002D02T4', 'B000RYPN38', 'B0002D09Q0', 'B0002NYKLU', 'B0009S5JMM', 'B00GGMW8HY', 'B00TTQLA50', 'B019ONS4TC', 'B00FLXNO8Q', 'B00NAU1N0I', 'B019R4ROU8', 'B00QHO7T7K', 'B0002ZO5Z4', 'B000NGVQKO', 'B007EV6RFK', 'B003SZLJ40', 'B00Y9AD4HS', 'B0002F4YFA', 'B00KKV0S4C', 'B0002D0CKI', 'B0002E1O2W', 'B0068FIWJC', 'B0002GL5S8', 'B0002GLCRC', 'B0057RL6DQ', 'B000ZMYRJS', 'B00181T20O', 'B0007Y3XGW', 'B00K68MT9Q', 'B0002DUVLI', 'B0002D0LPY', 'B0105GSF6E', 'B0002ZO60I', 'B01EMUQ08O', 'B0002D15K4', 'B000RVYMWE', 'B011N2VC64', 'B00167QUWI', 'B0002DV6TO', 'B007K3EGXW', 'B000EEHN9S', 'B000BUDOKM', 'B005NACC6M', 'B00D6RMFG6', 'B0151JHSFY', 'B00HMQ1SHO', 'B00JB4WEJG', 'B000EELIEE', 'B00FFIGZF6', 'B005FKF3P2', 'B00DSSOVJW', 'B0050ALN2E', 'B016D7KIWS', 'B000GBAR5G', 'B0009FC93M', 'B00EEZ4M0Q', 'B00FDU4XS2', 'B000NV2PQI', 'B005EK8HX8', 'B000EXIMFI', 'B0002D01KO', 'B0098YJYYC', 'B0019QI62S', 'B0002GZM00', 'B0002E1NP0', 'B011KJG300', 'B00L2M52DK', 'B00600QSS2', 'B00KCXMBES', 'B019NY1IL8', 'B001731R6A', 'B00Q1VCJ3S', 'B0052745WK', 'B00L1LL7DQ', 'B00V30CR2K', 'B0002GZ052', 'B00167UQMI', 'B0002F7IN0', 'B00LTDOL02', 'B00L5R5W2I', 'B019O3BSX6', 'B004UJO41S', 'B00CK2DM7Y', 'B000BYPJ1U', 'B01A6B0ICC', 'B0002E2TVM', 'B0009EQMZE', 'B00B5LFEMC', 'B0006ZXG00', 'B0002D0L4A', 'B00W3IFCG4', 'B001G43G96', 'B002EWM1EA', 'B0002KZDIM', 'B0002F4ZMM', 'B00DJU340G', 'B000UJHHLQ', 'B00E3XY6LE', 'B004P0MWCU', 'B00BLQ0EKI', 'B000EEHKVY', 'B005JTV358', 'B0002DVM8E', 'B00HF0YBXU', 'B0002GZOS0', 'B00IS8DRBA', 'B003HGR6VA', 'B002HFDP9E', 'B00IFHCOUO', 'B0007XY8TO', 'B004N1G268', 'B0013MS0RE', 'B001RNHDF4', 'B0002F740C', 'B000EEHFC8', 'B0002GZBNS', 'B00BESRB8Q', 'B000B6DHAS', 'B0117TLSZS', 'B000P4FBQO', 'B0048DDHSC', 'B0008FUWEG', 'B0002GJ6FC', 'B000EELBQ4', 'B015619H56', 'B019FAKN4I', 'B002IJK0HY', 'B00TH3YPDE', 'B00275F2GS', 'B000A2HOB6', 'B004J953TQ', 'B000EE8YPK', 'B0002GZ64M', 'B000A1BMLA', 'B0064RTS0G', 'B004MF4SK2', 'B00J97M9FO', 'B0002F4N0Q', 'B00IKVCVNK', 'B005AT3DWS', 'B00X7F1QT4', 'B000K69V5E', 'B00178JDCK', 'B0002E51ZS', 'B00O6KT5HO', 'B00GMCCPR6', 'B0074NIY6S', 'B009MDMQJ4', 'B0006NDF76', 'B000DZLWIG', 'B015HG7HMA', 'B0073XCXHA', 'B00XKVPHDQ', 'B0002CZV82', 'B018FCZKR2', 'B0002CZV46', 'B0002GXZK4', 'B001I1PWTY', 'B0002E2YMG', 'B000WS1QC6', 'B0006ZXFWO', 'B0002KZDN2', 'B00CDA0IUC', 'B00BPDIBP2', 'B0002KZIKU', 'B00721Z05A', 'B00FW6Q6RI', 'B003AYNHGW', 'B0002GIRTI', 'B000VSM4MS', 'B01F543PAW', 'B0037036QA', 'B01CDTRKLM', 'B000NAXDH4', 'B00BJTGILG', 'B00C5QMW3A', 'B0025V1REU', 'B00HV8F694', 'B00SKJHD30', 'B0002D0CA8', 'B0140WN5DW', 'B0002GLMEK', 'B0002E1NQE', 'B00OTRZUE6', 'B01DZPVKFU', 'B00JSCP3AS', 'B00FLL97MK', 'B001TY0FK6', 'B0002GZ84K', 'B000FMDIXY', 'B000OR66MU', 'B0002D01K4', 'B00RCO415C', 'B004IA8F50', 'B001L8NFCU', 'B00HNVYUNW', 'B0002E1UDK', 'B000Z33HM0', 'B00L5QAPYO', 'B000LPNRQ8', 'B0002D0C3K', 'B0013MLBFM', 'B000CD1R7K', 'B007IHYBV2', 'B0002GY7MO', 'B018OATOM2', 'B0002F5BZ2', 'B00GRRDFZC', 'B00BQOFSH4', 'B00HB2ZSSO', 'B004VSQ5Q0', 'B00D77A8VO', 'B005LRAUHK', 'B001GD07SK', 'B0002MJTZ8', 'B00DNDR61W', 'B002SCZRX8', 'B0002KZE7C', 'B00GROJWAW', 'B000WGJ71U', 'B001XURLDA', 'B00GYITG48', 'B001R76D42', 'B002RXXOX8', 'B00HHGUAVY', 'B003JFTE5U', 'B00178LDW8', 'B00JPSWDFI', 'B00OJX7UCA', 'B00V7YMOLG', 'B0002GNYBE', 'B0002GZTT4', 'B000KIPUQG', 'B0002F5792', 'B0002CZWXQ', 'B0002M728Y', 'B00IGUTZX4', 'B014MQ25WS', 'B00PE7T6CM', 'B003Y56124', 'B0002GIWZM', 'B00CFXH4S6', 'B0010KGD4Q', 'B005PNY0NU', 'B0002E1O3G', 'B00CFMWBLC', 'B00ZU6PJCS', 'B000BWEM42', 'B00H59ZDGU', 'B00XWCR1NC', 'B0002GJ3ZA', 'B0002GJ4AY', 'B00WHLLDWO', 'B00186L9X2', 'B000PAPO9W', 'B00FONJ658', 'B001LNN2DC', 'B00TV90MT0', 'B005UQWT6W', 'B00FKIYECC', 'B001NPDRTM', 'B0050JC2QQ', 'B0002E2G5Q', 'B000OMG0KI', 'B0016ZZKJO', 'B00AZUAORE', 'B01AXXNI84', 'B00FC4YO60', 'B0002E3D44', 'B0002F6VTW', 'B001L8PIFW', 'B00VRBWJ0U', 'B0143H0W3U', 'B0002KZISM', 'B0008G26JO', 'B00T48X2DG', 'B00KIXUG5I', 'B00Y8Q0LOC', 'B000RNB720', 'B000H58HN0', 'B003YCUGJ6', 'B000XFVDG2', 'B0002OP7VQ', 'B00LIDQ8PO', 'B00095VIMU', 'B00FW6YG5C', 'B00OUDSD84', 'B000W00X1Y', 'B0002OMOGC', 'B0002E2GMY', 'B015FP52NY', 'B00JXO6ED6', 'B00074B67A', 'B010SK86HU', 'B00JYG7LIU', 'B00I362NXU', 'B000EEJ8IM', 'B001AIQGUO', 'B0009G0AXM', 'B0006NMUHM', 'B0002GZLZQ', 'B00WFW2CZW', 'B016UHP7HM', 'B00063678A', 'B00186HCX8', 'B01ALE3ME0', 'B0116W7E68', 'B00A6COHN8', 'B001MZUCR8', 'B01D1K4E52', 'B00FJOTATE', 'B003S3S0DU', 'B005GZ86ZA', 'B004YPRPJ6', 'B004OK1G64', 'B00EZ8KRBA', 'B0002PBS7M', 'B00DFQMLEE', 'B000X6YA5C', 'B00T62BMWI', 'B00126HUFE', 'B003B01QSG', 'B000KIRT6A', 'B00MRNXJ06', 'B0027M30Z6', 'B001EKECC2', 'B0093UPG48', 'B000UJFR4A', 'B00OZGKDB6', 'B0002H0KGU', 'B000S8CX7M', 'B001LNO9JI', 'B00JJNFP54', 'B0012QB6AO', 'B000UJE6UG', 'B015S95YNK', 'B00ISQCHF4', 'B00MWRZ9NM', 'B005HN20J4', 'B00EW5I30I', 'B0002D0LKY', 'B0002J6I8C', 'B0002D0PA0', 'B01H4Y186O', 'B00WZQPO08', 'B016JDJ8TA', 'B013AWNX62', 'B004VVFZHW', 'B0002D0JX8', 'B00186J790', 'B0016MJ1T2', 'B004STXY3E', 'B000SMLJI2', 'B0006IQLF4', 'B0002H04NE', 'B004VSQ574', 'B000L6GD04', 'B00GG20DJ4', 'B00DV9H47E', 'B004M9CKVM', 'B0010CYHW4', 'B008JZ7GIW', 'B009CPFPFO', 'B00E87OK1G', 'B00HB2ZVRC', 'B0098F3CN0', 'B000RW2DUQ', 'B00HZRXD8C', 'B0002EKKSG', 'B006MPUTBC', 'B000PTF0E2', 'B00ETCSH7S', 'B00EQ252NS', 'B00DJ4Q6FW', 'B00G99BZ4Q', 'B00EQ232KI', 'B00DIGBXMC', 'B00G9AZW8A', 'B00GCY8J6K', 'B00EQB4M7Q', 'B00EQ2508A', 'B00DM4LT10', 'B00EQDIIZ6', 'B00G98WDE8', 'B00DJ5UJ5E', 'B00F1CLD76', 'B00EPYNDT2', 'B00ETP9FFI', 'B00DJ66G3W', 'B00EQ25MTW', 'B00EVJV6CC', 'B00EQ2539Q', 'B00DJA5O2M', 'B00EQ25LOS', 'B00F0YAB8W', 'B00GDY5YBW', 'B00DHKAAHS', 'B00F0RS7EE', 'B00EJXZIP6', 'B00G8IV98U', 'B00ESDJ9RU', 'B00DHIYQG6', 'B00F20MIC6', 'B00DMCX3SY', 'B00EQX8RU2', 'B00EQ23C4Y', 'B00F1WLBTG', 'B00EQYM8BU', 'B00DIUDLFU', 'B00DIYNV4W', 'B00DIGC5NS', 'B00EQ28NOS', 'B00EQCFG4I', 'B00EQ23YFQ', 'B00DMCX1IG', 'B00EJ3HSK4', 'B00G9B06V2', 'B00G9LBB8Y', 'B00F1I35NU', 'B00EJ3HVN8', 'B00G6CMP1S', 'B00G6H0S1W', 'B00F1HPGMY', 'B00ERPWAK2', 'B00G6PKUBC', 'B00DMACALC', 'B00ESAEUOU', 'B00EJCYSMQ', 'B00DJ42RB4', 'B00EMDNLKC', 'B00EM5UPUE', 'B00DLHGLCA', 'B00GD1JEQG', 'B00DJU33AW', 'B00DJWROZK', 'B00EZ5SWV0', 'B00G8IVGCE', 'B00EQ26Q0G', 'B00F07YF90', 'B00EQ29R0M', 'B00EQ28OBA', 'B00EQ27FGU', 'B00DH4Q668', 'B00DJWO85E', 'B00G8H1V5C', 'B00EQ290Z4', 'B00EO5Q6L4', 'B00EQ2558U', 'B00DJFM6XC', 'B00DI1GVNS', 'B00G8IVFZW', 'B00EQ27MJK', 'B00G8IAX3M', 'B00EOYKH5Q', 'B00EZ6IXUE', 'B00DJL8NKG', 'B00EOADW5W', 'B00EQ29FOK', 'B00EQ25AZ8', 'B00DJU32IU', 'B00EZ7KGKS', 'B00G8IVALG', 'B00G8IV9MG', 'B00G8H1UCG', 'B00G8JRANM', 'B00EPCN9O8', 'B00GCLIXL4', 'B00G964BUY', 'B00EMDNLUM', 'B00GDY5TKS', 'B00DLCUB8K', 'B00EPWJ7IA', 'B00G7RHR9W', 'B00DKAQGTG', 'B00DH2QJG2', 'B00GD58STQ', 'B00EQ25NIM', 'B00EX1HGGI', 'B00G8WW4BC', 'B00EPWAQS0', 'B00G84U19M', 'B00EPFTFGQ', 'B00EMFW8C2', 'B00EPW6PA8', 'B00EQ29JNM', 'B00EXN5BW2', 'B00F0GQ4WM', 'B00ENTT4SS', 'B00F0GPTRS', 'B00G8JRANW', 'B00EQ25TXQ', 'B00DIGBIU4', 'B00EZ5JXZ4', 'B00EQ25B7A', 'B00F0FAO9C', 'B00DHK5ZLO', 'B00FLOIK6G', 'B00EISSASE', 'B00FG9B17Q', 'B00E8TQ3ZA', 'B00FPT8D4Q', 'B00FPOWT8C', 'B00E8CEW7I', 'B00DTAIZNM', 'B00FEICWU4', 'B00E87OMMI', 'B00FEK5QPK', 'B00E87OLBU', 'B00FF2FHTM', 'B00FF908E4', 'B00FF90BEG', 'B00DTQ2TV0', 'B00DTWC34C', 'B00DU2VKV8', 'B00E7S5N7Q', 'B00E7S5L46', 'B00E7S5ERU', 'B00FFLT956', 'B00E7MVP3S', 'B00FFVLKJE', 'B00E5WIXCQ', 'B00E58SW3U', 'B00FOXZBKC', 'B00DU66WVM', 'B00FE8WMAY', 'B00FPXDRQQ', 'B00FQ10MWY', 'B00FC4YVPE', 'B00FC2KREK', 'B00FC4BOKE', 'B00DRFPF7I', 'B00EAZYA98', 'B00DRG2OOO', 'B00FSIN0U6', 'B00DS1NDUW', 'B00FC4YPF0', 'B00EA1U1X6', 'B00FC4YTZQ', 'B00FS139F4', 'B00E9SX38K', 'B00E93RQQ0', 'B00FC4Z842', 'B00E9SWXGI', 'B00E9SWQG0', 'B00FC4ZAHM', 'B00E9SWQ3S', 'B00FQRW550', 'B00FD21BCQ', 'B00DT59450', 'B00E9M4QU0', 'B00E9H3EQC', 'B00FQBVHM8', 'B00FOL1WG6', 'B00FGFIO20', 'B00EIPR21S', 'B00DU66WWQ', 'B00FKP90XS', 'B00DVU9ETO', 'B00DZW1CDO', 'B00DZJ5ZTE', 'B00FN71R7U', 'B00DZ0BIOE', 'B00DYIIQ0Q', 'B00FM0MSDK', 'B00DYAIQYU', 'B00DWBKJV4', 'B00FLXNM9M', 'B00DWH7C04', 'B00DWHAEHM', 'B00FKXZE5I', 'B00FKY3IFA', 'B00FKY86V6', 'B00FL042I0', 'B00DY0EQQC', 'B00FLXNKJE', 'B00DWJ1WYY', 'B00DWX642U', 'B00DWX2BRM', 'B00DWVBALM', 'B00FLXNKJ4', 'B00DWVB9K4', 'B00E0EXYMS', 'B00DVF093E', 'B00E1CSI02', 'B00DV9H9ME', 'B00DUFLKJM', 'B00FGNY0P2', 'B00E57DRE0', 'B00FGUPE9G', 'B00FO7NZ1K', 'B00FHBL6GY', 'B00FI6NA44', 'B00E4SN4VQ', 'B00FJB1J4Q', 'B00E4DEW80', 'B00E4DEF00', 'B00FJWKDVA', 'B00DV9HENS', 'B00FK1ENFW', 'B00FK9CJCS', 'B00FKBV0TY', 'B00E3H67GM', 'B00E3G4BWA', 'B00FNY74V6', 'B00FNIAE78', 'B00FNEB9XU', 'B00E1P4LGE', 'B00E1P4F1U', 'B00FN9CTJI', 'B00DR61TGS', 'B00FTZJDZ4', 'B00EB11N46', 'B00FUTXO8G', 'B00EDUGBB0', 'B00EDSCTO0', 'B00G2617NA', 'B00DND2KAY', 'B00F3P78SY', 'B00F3SC8YA', 'B00G222EKE', 'B00F3W27GA', 'B00DND8MJ2', 'B00F4O18CG', 'B00F4SDYNS', 'B00DNDAJES', 'B00F5EDK1M', 'B00G0TRK9Y', 'B00EDHVQN6', 'B00F5N3LXU', 'B00ECUO7JE', 'B00G0O9ZU6', 'B00G0MYRMY', 'B00EBY8VZC', 'B00EBPY2HW', 'B00F5OG37K', 'B00DWO8K5I', 'B00G059DM0', 'B00G059CRQ', 'B00F3L0CYU', 'B00G2E3J4M', 'B00F3I43Q6', 'B00F3DR7MI', 'B00F2H50QU', 'B00F2T5XB0', 'B00EIMZG46', 'B00EIKJBHG', 'B00F37SX5Y', 'B00F3D9ZQE', 'B00G504MLW', 'B00G4TWSKG', 'B00EIDSXEU', 'B00DMIB5QA', 'B00EHZMQMY', 'B00F3E8F6E', 'B00DN43PQ6', 'B00F3F7316', 'B00F3F7OIS', 'B00EHDZTKW', 'B00DN2BHWC', 'B00G31YMVS', 'B00F3F8O2I', 'B00EFOYYPO', 'B00EFAM9G4', 'B00EF8VGWE', 'B00G31M512', 'B00EEZ3N74', 'B00G059BU4', 'B00EBJ0JPW', 'B00EB3UPX4', 'B00DQU3TCW', 'B00DOP3GQS', 'B00FYNMXUI', 'B00DP1YFTI', 'B00DPL4WI2', 'B00FXKIG5I', 'B00FXBU85S', 'B00FAZ5RRQ', 'B00DQCLILO', 'B00FB2VAY2', 'B00FX7MMRO', 'B00DQG8P34', 'B00FWFDRK8', 'B00DOICMKG', 'B00FW84QMI', 'B00EB11XDM', 'B00FW773LA', 'B00FB6AYOK', 'B00FW7508S', 'B00EB11R7O', 'B00FBN8FOY', 'B00EB11OHC', 'B00FBRUSAE', 'B00FVRYBRU', 'B00FBYZDQQ', 'B00EB11YM2', 'B00DOA78OO', 'B00EB1257A', 'B00F84TN9C', 'B00EB124RQ', 'B00DOA6Q06', 'B00DOA72RM', 'B00F67S2ZM', 'B00F7OAB7G', 'B00EB123MM', 'B00FZYYD54', 'B00EB1226Y', 'B00FZJ25TU', 'B00FZIJPQ2', 'B00EB121KG', 'B00EB121CY', 'B00F9SX2EE', 'B00FZHX9T2', 'B00F8NBZAS', 'B00DOA74HA', 'B00FZ1OBKE', 'B00EB12138', 'B00F912X96', 'B00F9826BY', 'B00F9DQXSG', 'B00F9FPWYU', 'B00FYU94O4', 'B00FYQFPFU', 'B00DGAXYYU', 'B00B5LEH8E', 'B00DG89W0W', 'B008UQ80AS', 'B008YTY9EC', 'B008YQLH5O', 'B008YOMVDS', 'B008Y4OT9W', 'B008XONH46', 'B008XLITXS', 'B008XF16LQ', 'B008XDQ0QE', 'B008XAXQAK', 'B008VU6INE', 'B008V1O0IS', 'B008UYZBG6', 'B008UD3QGO', 'B008Z8IW18', 'B008UD3P88', 'B008TNAI0M', 'B008R7F32I', 'B008R2X1O0', 'B008QT2S7A', 'B008PAI7AW', 'B008NN6X0C', 'B008MEAPHE', 'B008JCV91K', 'B008J7WS88', 'B008HZEW54', 'B008H3ZVUQ', 'B008Z82J8A', 'B008ZC9PV0', 'B0093WG19A', 'B0091C03YG', 'B0093DW0SA', 'B0092XFYWU', 'B0092XAFUG', 'B0092X3RQU', 'B0092V7WJ0', 'B0092S3XEQ', 'B0092M2AQE', 'B0092LWHI6', 'B0092LDRJY', 'B0091WCUZG', 'B0091VGEEU', 'B0091JFGEQ', 'B0091C02PQ', 'B008ZPO5W6', 'B00911X218', 'B009115NPG', 'B0090Z498U', 'B0090QVVPI', 'B0090NJI88', 'B0090F4P70', 'B00903HPQ0', 'B009016B7G', 'B008ZXIUQU', 'B008ZXAL1C', 'B008ZVMW3Y', 'B008ZUWNUC', 'B008GWLDVO', 'B008FJXGKO', 'B008F4URXI', 'B007YWHIP2', 'B0083EF5NM', 'B00839Z3MA', 'B0082JYRWI', 'B0082CS84S', 'B0081KUUXI', 'B0081JDW8Y', 'B0081GR8ZA', 'B0080OLPNY', 'B0080OLP3E', 'B007ZWSRXS', 'B007ZH2T6Y', 'B007ZBYKNA', 'B007X77ZHE', 'B008F4URVA', 'B007X60AZ4', 'B007X5CG4S', 'B007WREIQQ', 'B007WG2QJ8', 'B007WBEVVE', 'B007WBEVNM', 'B007W294X8', 'B007VQIBB6', 'B007VCV4SW', 'B007V3PVNA', 'B007T9Z79O', 'B007SZJEJ8', 'B0083EFB4A', 'B0083EG1M6', 'B0083EGLJO', 'B0083EKHVW', 'B008E0ZS0K', 'B008DRALA6', 'B008DCOOBI', 'B008DCOOA4', 'B008BEEN9G', 'B008B2AA1I', 'B008A51HHM', 'B0089SZ85M', 'B0089NNAZ2', 'B008876Y4S', 'B0088748HI', 'B0087UPZ2I', 'B0087UPXM0', 'B0087UPWA8', 'B0087UPW8U', 'B0087HEO64', 'B0086RJ9U6', 'B0085H75S0', 'B0085GYT30', 'B0085ECHXQ', 'B0085545YO', 'B0084QSDF6', 'B00846UG1U', 'B0083T6DVA', 'B0083EKNE8', 'B0093WG18Q', 'B0093WM8EM', 'B007SQZJ64', 'B009CBEKUY', 'B009ETVMTQ', 'B009EMIU66', 'B009EM7MZG', 'B009E087UM', 'B009DYPWBG', 'B009DTT7RQ', 'B009DRUOSE', 'B009DQF14C', 'B009DO2PPC', 'B009DER0MA', 'B009D3WT0E', 'B009CN8WZ6', 'B009C3UU5Q', 'B009F8UA30', 'B009C3NIR8', 'B009BZDCS2', 'B009BZAQQI', 'B009B5MX0K', 'B009B3JR4W', 'B009AS1EO4', 'B009ARD8O4', 'B009AQZM30', 'B009AQIZYS', 'B009AQ4736', 'B009AM3L78', 'B009ALYIO4', 'B009EU8M5C', 'B009FKQS98', 'B00945UFES', 'B009HK2ALG', 'B009KS2Z9C', 'B009KNZU9Y', 'B009K2T4H4', 'B009K2T1NQ', 'B009JATNVY', 'B009J8DZ6K', 'B009J8DYGG', 'B009J8DXQW', 'B009IWNWGU', 'B009I4R4TY', 'B009I033I4', 'B009HVQJBW', 'B009GU4UHY', 'B009FKZNVM', 'B009GT0KNI', 'B009GSKW1Y', 'B009GDNPKO', 'B009GB5KAY', 'B009GAZ58M', 'B009G87IIY', 'B009G4F1HS', 'B009G1SHS6', 'B009FUEPBG', 'B009FTWH5S', 'B009FTWFM8', 'B009FL6ZZE', 'B009ALD8EA', 'B009AL8GCY', 'B009AJXPTU', 'B0095D7P0G', 'B0097X01OQ', 'B00979RZTO', 'B00975F4WS', 'B00974Q96E', 'B00973UEZC', 'B00973N9NQ', 'B00967UN50', 'B00961XNOO', 'B0095SUQRU', 'B0095OKOPI', 'B0095F4I4U', 'B0095DRRFO', 'B0095D5BF2', 'B009AGFYWY', 'B0095D2A1A', 'B0095B2OQI', 'B0094P4F4O', 'B0094O5S7I', 'B0094NVV5C', 'B0094KNESM', 'B0094I5SPG', 'B0094EMO7K', 'B0094D3L4Q', 'B0094D3JI4', 'B0094AHWPS', 'B00945UFGG', 'B00987CF9A', 'B0098DCS8M', 'B0098F5IF0', 'B0098FSYPG', 'B009AF7TBY', 'B009A4WB1I', 'B009A4O7UG', 'B009A3PYQ8', 'B009A0EVNI', 'B009A06V5E', 'B0099RW19S', 'B0099MPHA8', 'B0099L20MW', 'B0099JJBXK', 'B0099DKEJQ', 'B0099DDYVQ', 'B0098WW9GY', 'B0098WN3PU', 'B0098VHUEG', 'B0098ULU1G', 'B0098UBFEI', 'B0098T59YQ', 'B0098SW1NO', 'B0098SPL0E', 'B0098SJYD4', 'B0098S1R9I', 'B0098JO3H0', 'B0098G3PU4', 'B0098FT3YC', 'B007ST2E8C', 'B007SBH8HW', 'B009MAISA8', 'B0071V3E9U', 'B00724ZCL4', 'B00724ZBT2', 'B00724Z6AQ', 'B00724YYYA', 'B00724YM7E', 'B00724YJN6', 'B00724YJJ0', 'B00721Z3ZC', 'B00721D2ZU', 'B00721CN9G', 'B00721CJA4', 'B00721BK2M', 'B0071V3D1O', 'B00724ZKUM', 'B0071V3BES', 'B0071NO7I0', 'B0071DS89E', 'B0071CTDP8', 'B0071CN89A', 'B0071AWVLS', 'B00713R2ZK', 'B0070TWD2C', 'B00708NMWS', 'B006ZYGUY0', 'B006ZLZO72', 'B006ZGZEU4', 'B00724ZD40', 'B00726195K', 'B0074EVT7I', 'B0073K9CCW', 'B00749TV2S', 'B00740B8E6', 'B00740B4RC', 'B0073XH0WS', 'B0073XH0SC', 'B0073XH0AA', 'B0073XCZ3C', 'B0073XCYO2', 'B0073WGCZA', 'B0073SSR16', 'B0073SSQ4O', 'B0073M4XK6', 'B0073K9BHS', 'B0072BBBGW', 'B0073K9B9G', 'B0073F4YG6', 'B0073EYDX6', 'B0073B587E', 'B0073AU51E', 'B0073AN19C', 'B0073AN11U', 'B0073AMZE4', 'B0073A4FM4', 'B0072LXG2Y', 'B0072JBCTK', 'B0072DKYFO', 'B006ZBZCTC', 'B006ZBZBL6', 'B006ZBZBEI', 'B006OFZPW8', 'B006SOKW32', 'B006RQC1CQ', 'B006R16NPM', 'B006QUGBVK', 'B006QSSUK2', 'B006QP00BC', 'B006QLW5XC', 'B006Q7X7AQ', 'B006PV5VGQ', 'B006PU262E', 'B006OJC7LG', 'B006OH6QNS', 'B006OB3BUA', 'B006Z9D9UI', 'B006MPUY1C', 'B006MPUTH6', 'B006MH1OOQ', 'B006MGYNGI', 'B006MB97OQ', 'B006MB9700', 'B006M42ZM4', 'B006LCCUTU', 'B006KX3W0G', 'B006KW37ZW', 'B006KVTSOW', 'B006KSM7ZM', 'B006U5JWQW', 'B006UOSUDE', 'B006UOSUW0', 'B006VSM8WS', 'B006Z89FUM', 'B006Z87CJ8', 'B006Z7HYLA', 'B006Z76XY4', 'B006YV31JG', 'B006YTZOOS', 'B006Y2BI04', 'B006XYEZBW', 'B006XXT8EW', 'B006XFM41E', 'B006X0UE48', 'B006X0U1W8', 'B006X0TD5E', 'B006X0TBLA', 'B006X0R8LU', 'B006WPGZAG', 'B006WBHI1U', 'B006WAVQKA', 'B006WAVQ50', 'B006WAVPR4', 'B006WAVPEM', 'B006WAB4DE', 'B006WAB40M', 'B006W5IKG8', 'B006W11TT2', 'B00749TZ7Y', 'B0074GK2RO', 'B007S7GGX8', 'B007IE5QL4', 'B007J49C6S', 'B007IVWCDM', 'B007IVUOXM', 'B007IODP4O', 'B007IO8LYS', 'B007IG8I26', 'B007IE5XSK', 'B007IE5UT2', 'B007IE5TQG', 'B007IE5TQ6', 'B007IE5TPM', 'B007IE5SQW', 'B007IE5P8I', 'B007J4AHBW', 'B007IE5ODO', 'B007IE5JGG', 'B007IE5GNW', 'B007IE5EPC', 'B007IBE15E', 'B007I9IMCY', 'B007HNFCNS', 'B007GDTM26', 'B007G7IIU4', 'B007G7I1ME', 'B007FJ7RFU', 'B007FIHSHS', 'B007J4AAA0', 'B007JN600A', 'B0074IRF7C', 'B007L5VXA8', 'B007RWXWSG', 'B007RWUOQ4', 'B007RN4UJK', 'B007QB57WM', 'B007Q27BH0', 'B007PZY9QE', 'B007PZ5F3K', 'B007PSJVGE', 'B007PDRZP8', 'B007P7816G', 'B007OM950S', 'B007MS3DZM', 'B007L590PS', 'B007JW093K', 'B007L58I2E', 'B007L58HNE', 'B007KZQND6', 'B007KZQMZA', 'B007KP11R4', 'B007KP0NAK', 'B007KD054G', 'B007K7LYHY', 'B007K7LY4M', 'B007K3EGWI', 'B007JX8O0Y', 'B007JW19X4', 'B007FIHSEG', 'B007F43362', 'B007EYG04A', 'B0076Q0GZA', 'B0077SNDPM', 'B0077RKJ32', 'B0077R2FLQ', 'B0077QSY76', 'B0077HSP38', 'B0077CZ7OS', 'B0077CTYY2', 'B0077AMUFY', 'B0077AMRWU', 'B00777BA0I', 'B007723JF2', 'B00771QSA6', 'B0076ON66S', 'B007EV6NBI', 'B0076N0KCW', 'B0076CGVF8', 'B00765A9U8', 'B0075X0GCW', 'B0075R7RD4', 'B0075J8APQ', 'B0075DS728', 'B0075DO5K6', 'B0075DNT0S', 'B0075DMYC2', 'B007536YJG', 'B0074NN8AU', 'B0077U7YQO', 'B007855B40', 'B0078E67P8', 'B0078FWI0A', 'B007DS8E1O', 'B007DJ4NN6', 'B007DHN3MU', 'B007DCC9RA', 'B007D5DHQY', 'B007CXB3FE', 'B007CODF5E', 'B007COCMZI', 'B007C820YC', 'B007BYZ6C0', 'B007BYWMUY', 'B007BKCD34', 'B007AH1SMK', 'B007AGRV3G', 'B007AGR6KE', 'B007AGR5JQ', 'B007ACTMFU', 'B0079X65MS', 'B0079SUMG8', 'B0079KQE0Y', 'B0079JSATS', 'B0079GRHT0', 'B0079GPEY0', 'B00797YYV8', 'B0078OR4G4', 'B009LFOTNY', 'B009MBNDUC', 'B00DFU9GTS', 'B00C5B20JG', 'B00C7NTR8E', 'B00C71791I', 'B00C6IBH7E', 'B00C69GC3W', 'B00C68APWM', 'B00C5VQQPU', 'B00C5QMWQ2', 'B00C5QMVI6', 'B00C5QMUE6', 'B00C5QLYQQ', 'B00C5I68AQ', 'B00C5GZU2K', 'B00C5B20FK', 'B00C99NHJ6', 'B00C5B1WO0', 'B00C4XTK7U', 'B00C2DJW3E', 'B00C2DC8N0', 'B00C29W7DU', 'B00C29VZ7O', 'B00C0WLXOI', 'B00C0PZ1LQ', 'B00BYIAOF8', 'B00BYI3UMC', 'B00BXLPVB8', 'B00BWKDN42', 'B00C8U7WQ0', 'B00C9KWENU', 'B00CE1WO48', 'B00CB39MJ4', 'B00CE0E9VK', 'B00CDINK72', 'B00CDB1JUE', 'B00CD9G604', 'B00CD2PQKW', 'B00CCOGLEQ', 'B00CC2R3UY', 'B00CBU7EII', 'B00CBFTJS6', 'B00CBB51C8', 'B00CBB3D1Y', 'B00CB5BMHW', 'B00CB39BXQ', 'B00C9RPIYK', 'B00CB38G32', 'B00CB38CP4', 'B00CALHVIG', 'B00CALEI8W', 'B00CALDLDK', 'B00CALDEDM', 'B00CALD6YO', 'B00CALCCM6', 'B00CAL9Z1W', 'B00CAL9B84', 'B00CAKOVQM', 'B00CA1B0OC', 'B00BVH7C66', 'B00BUQH808', 'B00BUI1TS8', 'B00BMFNL2G', 'B00BMUI2ZM', 'B00BMUCRRQ', 'B00BMU5R1Y', 'B00BMQ4C8C', 'B00BMJ3N4S', 'B00BMJ3M44', 'B00BMIHGXS', 'B00BMIHDZO', 'B00BMIHDK4', 'B00BMIHB2Y', 'B00BMIHB0Q', 'B00BMFNLD0', 'B00BMFNFP4', 'B00BTZHL52', 'B00BM9HOVG', 'B00BLYFRW0', 'B00BLQTZDA', 'B00BLQ7M4E', 'B00BLNXOVM', 'B00BLEU43M', 'B00BL6JC7Y', 'B00BL12HBC', 'B00BK3V6QS', 'B00BJLC50M', 'B00BJLAX2O', 'B00BJL8QW8', 'B00BN1RFBW', 'B00BN1RFGW', 'B00BNVHCYM', 'B00BO2XDUC', 'B00BTWZZ9Y', 'B00BTRD5XC', 'B00BTIQKM4', 'B00BT7UBPW', 'B00BSZT0NY', 'B00BSXG6RY', 'B00BSXG624', 'B00BSL5Z1E', 'B00BSKM6PS', 'B00BS4TR6A', 'B00BRQ5C18', 'B00BRNHTUS', 'B00BR3TMGW', 'B00BQVGTN4', 'B00BQMOJK8', 'B00BQ91V48', 'B00BQ6KSK4', 'B00BPQARTM', 'B00BPM7INO', 'B00BPHLFL0', 'B00BP6BGFG', 'B00BOW4PHW', 'B00BOSFSUO', 'B00BOSBS58', 'B00BOGPX5G', 'B00CE1WNEO', 'B00CE1YILK', 'B00BJ92TTQ', 'B00CX60WNY', 'B00D3QX2X0', 'B00D3LDBOU', 'B00D35CNL8', 'B00D2W1F2K', 'B00D1QZR1M', 'B00D1ORWF8', 'B00D1DDKNM', 'B00D0G7ADQ', 'B00CYNTFB6', 'B00CYNTF70', 'B00CXSJUZS', 'B00CX6HQ06', 'B00CWLEDLM', 'B00D41H59Q', 'B00CVBKI8U', 'B00CU7YZZ2', 'B00CTTJQHS', 'B00CTM4H42', 'B00CTKI7D6', 'B00CTKI5QA', 'B00CTKI5Q0', 'B00CT3Q3Y8', 'B00CT2XJTG', 'B00CSK53UC', 'B00CSJVI4I', 'B00CSDDUV8', 'B00D41CY2E', 'B00D41PHZU', 'B00CE1YJX2', 'B00DCJ9DCW', 'B00DFU9BRK', 'B00DFQMT14', 'B00DEIGAP4', 'B00DDXM77A', 'B00DDXKGS2', 'B00DDXK1BE', 'B00DDXJNR2', 'B00DDVJCO8', 'B00DDTYN44', 'B00DDAXWMM', 'B00DCM0GYS', 'B00DCJOZ34', 'B00DBC0ZA4', 'B00D5MWDLE', 'B00D9AI708', 'B00D95TRI4', 'B00D95T6DU', 'B00D8RI0G8', 'B00D8HW0HI', 'B00D8HS0VS', 'B00D8G6B7E', 'B00D7YT1C4', 'B00D7LUZHC', 'B00D7ILMOK', 'B00D7I6IK8', 'B00D7EJ584', 'B00CSACG34', 'B00CS8F606', 'B00CS4L7DK', 'B00CEL76VY', 'B00CK2FOZM', 'B00CJ26HDG', 'B00CINUOQ2', 'B00CIHB8FY', 'B00CICR3HG', 'B00CI4IVZW', 'B00CHRUTG4', 'B00CFSJ8F8', 'B00CFS5P6Y', 'B00CFK3MRQ', 'B00CF8DP52', 'B00CEOPL36', 'B00CEKXD30', 'B00CRVWF4Y', 'B00CEIA1G4', 'B00CE6BLN8', 'B00CE22JRO', 'B00CE22276', 'B00CE221WM', 'B00CE21J3E', 'B00CE20ZDY', 'B00CE20R1O', 'B00CE20J3K', 'B00CE2047Q', 'B00CE203MC', 'B00CE1ZQ4S', 'B00CLANM0C', 'B00CLC3B06', 'B00CLFU4QW', 'B00CMKFO66', 'B00CRQWMYM', 'B00CQEK1Q6', 'B00CQ96EBM', 'B00CQ95D14', 'B00CQ8E83Y', 'B00CPSYB5U', 'B00CPSY6H8', 'B00CPSR13E', 'B00CPPYPIQ', 'B00CPDSNRC', 'B00CP6LZIS', 'B00CP4IJHU', 'B00CP3GRD4', 'B00CP3GPFE', 'B00CP3GP5Y', 'B00CP3GOFK', 'B00COVEJ1E', 'B00COPKOUK', 'B00CO5IRSG', 'B00CO0SYXY', 'B00CO0ME08', 'B00CNREJU0', 'B00CN082V4', 'B00CMUE76O', 'B00CMKQ2ZI', 'B00BJL8D7Q', 'B00BJ7QUCU', 'B009MIBIWK', 'B00AH9X13M', 'B00AJHHWIC', 'B00AJHGXSM', 'B00AJHBJ9U', 'B00AJHA5H2', 'B00AJF81NY', 'B00AHL2ZBO', 'B00AHKXPFA', 'B00AHKXCUI', 'B00AHKX866', 'B00AHFXH30', 'B00AHEWBM4', 'B00AHEW7W8', 'B00AH83RDM', 'B00AKPH4OK', 'B00AH4VGL6', 'B00AGJKKH8', 'B00AG8Y354', 'B00AFTZ2JK', 'B00AFDOI0K', 'B00AFCM7RM', 'B00AFC0U6C', 'B00AF40QAU', 'B00AEYUZ98', 'B00AEDGZOI', 'B00AE7D2HM', 'B00AE0T76Y', 'B00AKHACKQ', 'B00ALLX5FA', 'B00ATXJNHY', 'B00AQBT52W', 'B00ATPGNJS', 'B00ATPD9T0', 'B00ATL2X46', 'B00ATABRJE', 'B00AT9IV80', 'B00AT9IV1W', 'B00ASOTCSY', 'B00ASKGOES', 'B00ARCAFNI', 'B00ARAR8MQ', 'B00AR2PN8U', 'B00AQZH7K0', 'B00AQBT40K', 'B00ALZ6WRO', 'B00AQBT3GK', 'B00AQ4U76M', 'B00AQ4U58W', 'B00APZ3WCS', 'B00AO3PM92', 'B00ANTTSFQ', 'B00ANRZ8LQ', 'B00AN9LRVE', 'B00AMWO44O', 'B00AMSS3K4', 'B00AMJX4HU', 'B00AMB7NPC', 'B00ADP3ID8', 'B00AD6OHT6', 'B00AC5AXSM', 'B009WS7SWY', 'B00A0OQ1TU', 'B009ZW3WFE', 'B009YCI62Y', 'B009YAR24E', 'B009YAKLS8', 'B009Y26LMQ', 'B009Y223GO', 'B009XI4YWK', 'B009XI4Y0M', 'B009XDZM0S', 'B009WU5SV0', 'B009WS7V5I', 'B009VXD4T6', 'B00ABMCHOO', 'B009US97AM', 'B009US27BS', 'B009UQZ7A8', 'B009SXXOVM', 'B009SS6A8Q', 'B009S814U0', 'B009RVCOAW', 'B009QU3MKK', 'B009PNTL0S', 'B009P8CPS8', 'B009P6D4TO', 'B009P261B6', 'B00A2V9MS8', 'B00A2V9PW6', 'B00A3ZXGL2', 'B00A4C9GSG', 'B00ABLI0IC', 'B00ABJI1OM', 'B00ABG7GE6', 'B00ABA76FQ', 'B00AAZOQ4Q', 'B00AAY0BLE', 'B00AAXO706', 'B00AAK31YW', 'B00AAJJLE2', 'B00AAEQIH0', 'B00AA69MBM', 'B00AA69K5K', 'B00AA68MEK', 'B00A9JUGME', 'B00A9I706U', 'B00A9CGRVA', 'B00A8O3VCW', 'B00A7MXBXE', 'B00A6VVIDQ', 'B00A6VON2Y', 'B00A6H1X3A', 'B00A6GQJD0', 'B00A6D50L0', 'B00A4NRWCC', 'B00A4ELYXE', 'B00ATPO0B6', 'B00AUBG7X8', 'B00BJ6MWBO', 'B00B9LBVN4', 'B00BBVXW16', 'B00BBU0350', 'B00BBE6X3W', 'B00BB2QBLI', 'B00BAYRLBG', 'B00BAYQKU4', 'B00BAXJEAS', 'B00BARTW3I', 'B00BANSY7M', 'B00BAKPZ4U', 'B00BAEJQ8C', 'B00B9ORMSE', 'B00B9IQKQK', 'B00BCAUG8S', 'B00B9G8CVS', 'B00B9FMP9O', 'B00B915M84', 'B00B8WM1R4', 'B00B8QC8CI', 'B00B8HY7J4', 'B00B8EFPM0', 'B00B8EFAPC', 'B00B7MF6EA', 'B00B7DN59W', 'B00B7ALFUQ', 'B00B5ZX9FM', 'B00BC3OVHM', 'B00BCC1UAO', 'B00AW4TPJQ', 'B00BG4AQSK', 'B00BIP88O6', 'B00BINPI1Y', 'B00BIBBJ46', 'B00BHRCFJO', 'B00BHO8KW8', 'B00BHN05H2', 'B00BHMSE3K', 'B00BHJC3UI', 'B00BHCMFXU', 'B00BGZ10UM', 'B00BGEZGXU', 'B00BG4OGC2', 'B00BFZPRI4', 'B00BDBMMEM', 'B00BFYHKJO', 'B00BFYH0CG', 'B00BFWIZGI', 'B00BFN58WQ', 'B00BF82I9W', 'B00BF7XDO2', 'B00BF1KQ20', 'B00BEYDFA8', 'B00BEOHQA8', 'B00BEML5PM', 'B00BEIC3DO', 'B00BEBE6Z4', 'B00B5X2W4I', 'B00B5U9IFC', 'B00B5SKWBS', 'B00B054NVG', 'B00B3K9LMO', 'B00B3JKWW8', 'B00B3DXHFS', 'B00B2N3XU8', 'B00B2IQYKO', 'B00B2HDB4C', 'B00B28HH32', 'B00B20BN80', 'B00B1VB0G0', 'B00B1TZCCA', 'B00B1LZ3CC', 'B00B1GF1OW', 'B00AZNR6W2', 'B00B5SDFRG', 'B00AZM8YLA', 'B00AZIAQWY', 'B00AZ98Z8U', 'B00AZ98TVS', 'B00AY8MAMO', 'B00AY7XQNM', 'B00AXEDVJA', 'B00AX89MSA', 'B00AWMR9SC', 'B00AWKF9RM', 'B00AW91CPG', 'B00AW7GA0U', 'B00B3PB0PK', 'B00B3PB118', 'B00B3PB11I', 'B00B3PB12M', 'B00B5S93OK', 'B00GE5B2JI', 'B00B5LEB6W', 'B00B5LEAFE', 'B00B5LDWTY', 'B00B5LCV2I', 'B00B5LAVOI', 'B00B5LANBY', 'B00B5ILTDS', 'B00B5IC91Y', 'B00B5I9GYW', 'B00B5FSYR0', 'B00B59A5VO', 'B00B4XDWB6', 'B00B4WN5G4', 'B00B4VYKVE', 'B00B4OWHRA', 'B00B4OFPQK', 'B00B4OFNMQ', 'B00B4MPPZS', 'B00B4IRD6Q', 'B00B42M3RG', 'B00B3PB1G8', 'B00B3PB136', 'B00B3PB12W', 'B00GDY6M7M', 'B00KQ2P0WA', 'B00GE5B60S', 'B011QVG9L0', 'B011LVGHBW', 'B011MUQ28A', 'B011NTGIQG', 'B011O1A1U2', 'B011OE434O', 'B011QFUFAW', 'B011QYD44W', 'B0116TIKQO', 'B011R0XDYQ', 'B011R1ILHY', 'B011SESKTY', 'B011TQWRFE', 'B011U9AXA6', 'B0122U0FVO', 'B011LBQLYK', 'B011J4Y2C2', 'B011EXBCMQ', 'B011DJWONW', 'B011DHBT2Q', 'B011DGATV4', 'B011C6UAOG', 'B011BAQLAU', 'B011B41TAS', 'B011AJ8I2G', 'B011A0ZLM0', 'B01199MA9Y', 'B0118FQU4U', 'B0117E33PG', 'B0116X2V24', 'B0116X17JW', 'B0116TS4HE', 'B01233J9EE', 'B01236GJIU', 'B0124Y99PQ', 'B012N5JGGS', 'B013FM4122', 'B013E1NZEO', 'B013DHHRFM', 'B013B25XGE', 'B013AVHQOI', 'B01310K87K', 'B012ZUQROU', 'B012ZTEAVS', 'B012Z4KREC', 'B012Y7ACV8', 'B012Y5QZIO', 'B012XFT0XC', 'B012PUGUZ6', 'B012NWZTUI', 'B012MM2R4U', 'B01254SBD6', 'B012ITN4GW', 'B012IDO3VS', 'B012I5BCGA', 'B012F2ALAE', 'B012DS3XLY', 'B012DS3F62', 'B012CF1ASQ', 'B012CF181K', 'B012BMSANS', 'B012BJW9NI', 'B01290XS9S', 'B01272O6VW', 'B01272O6JY', 'B0126CJKP0', 'B0116TJA2C', 'B0116TFMM4', 'B00ZIY06CA', 'B010AFGUXK', 'B00ZYNV3LS', 'B0100RBPTC', 'B010171K28', 'B0107YJU8Q', 'B0108Y8P9A', 'B0109X9FMG', 'B010CBIP8U', 'B0114N1BXG', 'B010CG2C02', 'B010CI6M88', 'B010CPJKX0', 'B010CPZ7O6', 'B010D4VKPG', 'B010EIQ4DE', 'B00ZXS8484', 'B00ZWQBACE', 'B00ZWON4C0', 'B00ZUBQY9K', 'B00ZU4G0ZK', 'B00ZTXK5FS', 'B00ZTGJ0B0', 'B00ZRYIO2A', 'B00ZRXFU0A', 'B00ZR77GTO', 'B00ZR1PQ8S', 'B00ZQPDB7I', 'B00ZQNIAP8', 'B00ZQKB21U', 'B00ZQ48TZS', 'B00ZPR5Y9A', 'B00ZO92VSQ', 'B010FWMQUY', 'B010GPFUI0', 'B010GPFY0Y', 'B010SJ5CE6', 'B0114HVZUG', 'B01149F9CY', 'B0112GNCBY', 'B0111T01N4', 'B01115VYL6', 'B010W704BU', 'B010W6XHRO', 'B010W6WFEA', 'B010W6W8OW', 'B010V7HBKS', 'B010V5WZN8', 'B010UXKLLO', 'B010UXJZWA', 'B010SK4TJY', 'B010SJ0Y0I', 'B010HEFITQ', 'B010SIRS9E', 'B010SIBGGK', 'B010SCOIUW', 'B010RZY7DI', 'B010QZFV84', 'B010QXJM9U', 'B010ODJ6HA', 'B010MRD9MG', 'B010MQMAVI', 'B010MEZUDA', 'B010LF34PQ', 'B010LBJX6O', 'B010LBJJDQ', 'B010HEI02S', 'B013FOWRNA', 'B013FY38N8', 'B013FYP6LA', 'B015AVHI8A', 'B0153UCHT8', 'B0154JDFAS', 'B0154JDL1Q', 'B0154LU8A6', 'B0154P5P50', 'B0159ZO4U2', 'B015BKBGZG', 'B013H1CEO8', 'B015BL7GZO', 'B015CDQ98Q', 'B015D4FA1G', 'B015D85G3Y', 'B015E3XK22', 'B015FMI0N6', 'B0151JHXJA', 'B0151GZ4EO', 'B01512W3OM', 'B014YPWB94', 'B014XH3AKM', 'B014VN3PPI', 'B014UA2F12', 'B014U5O8NA', 'B014U5ETC0', 'B014TZZOUW', 'B014TX6F98', 'B014SCXI9U', 'B014SAPVJC', 'B014PYGN48', 'B014M8JVBY', 'B014LZ41H2', 'B014L9CCHO', 'B015G2AFTW', 'B015GDVSJ2', 'B015GM4H8W', 'B015PWQPLU', 'B015YQ1044', 'B015YLZGS0', 'B015Y18ULU', 'B015XIHBP0', 'B015X6OMOA', 'B015WSQKEE', 'B015VRDCJ2', 'B015ULU8HI', 'B015U623PI', 'B015TBAJ78', 'B015SW6DAU', 'B015SD4OWS', 'B015RCZZVO', 'B015R1U5XS', 'B015PKU5ZE', 'B015GPFES6', 'B015OUXPKC', 'B015OGAID8', 'B015N9VEC0', 'B015MMNYBC', 'B015JUSMTG', 'B015J5V7WK', 'B015IY98B4', 'B015IHDJ98', 'B015IGMWTC', 'B015IA25U4', 'B015HM2D4Q', 'B015HC0GEA', 'B015H4N75I', 'B015GTG454', 'B014L7L98O', 'B014KR7NXU', 'B014KERYX2', 'B013P04AUC', 'B01422FJ34', 'B0141IN4CW', 'B0141EIKFW', 'B0141EIGME', 'B0140XIEGO', 'B013ZHK4DM', 'B013WTBV62', 'B013W4593I', 'B013UQR5VM', 'B013U48ZZ4', 'B013RX1IJI', 'B013RSD3R8', 'B013QUM6N4', 'B013QUCHQA', 'B013NJZ4LE', 'B01447K35G', 'B013NDP2TY', 'B013NBQ5XS', 'B013N7B7LC', 'B013N6NKMW', 'B013N66OMK', 'B013N5ZMBK', 'B013N5QHEQ', 'B013MG2PPQ', 'B013K7ZZ90', 'B013JLZMZE', 'B013JLZDHQ', 'B013JHBCCA', 'B013J11NMU', 'B013HS1TOC', 'B014411V7G', 'B01447KF9U', 'B014JY8PH2', 'B014F0A9DS', 'B014JY7WGW', 'B014JY7T10', 'B014JJG43E', 'B014I7LJFA', 'B014I71SWY', 'B014HU4UZY', 'B014HEABLM', 'B014HB54OO', 'B014H8B22A', 'B014H8AWGC', 'B014H5IYZG', 'B014GVB8OU', 'B014GT7O22', 'B014F1UKI6', 'B014A1CJUS', 'B01447KMS4', 'B014A1BVZM', 'B0149YRRXA', 'B0149J41ZM', 'B0149J3Z7W', 'B0149J2WYO', 'B0148EQYA8', 'B0147YVSX2', 'B0147TRGJM', 'B0146CROME', 'B0146137RG', 'B0145X9SFK', 'B01454Q3Y8', 'B0144UCRL6', 'B0144A79NM', 'B00ZKJ72IY', 'B00ZIVS1CA', 'B01602HWMK', 'B00VM5IUKE', 'B00VJ7MFOW', 'B00VJP495C', 'B00VJUU8PM', 'B00VK0Q616', 'B00VKSVTMO', 'B00VKTHIE6', 'B00VM65P6U', 'B00V5BP2H4', 'B00VMB7E0U', 'B00VMB8IUK', 'B00VMZLCTA', 'B00VNSLMIM', 'B00VNSO3OM', 'B00VOQQDHI', 'B00VIDJBJE', 'B00VHPWF6E', 'B00VHL5HOA', 'B00VHKM72Q', 'B00VHKM190', 'B00VHFOV3E', 'B00VEDK8RW', 'B00VEA6U3Q', 'B00VE44UZW', 'B00VE44QY2', 'B00VDZOQ88', 'B00VDPBZ5U', 'B00VCV22K2', 'B00V9QEN1Q', 'B00V8W851A', 'B00V8299UQ', 'B00V5R4UY4', 'B00VQTA0GS', 'B00VR5I1PS', 'B00VTCBQS8', 'B00W6WOCPE', 'B00WIGHJAS', 'B00WHZ54VQ', 'B00WHFBSW0', 'B00WH57CMK', 'B00WGDS77C', 'B00WGD5M3Y', 'B00WFWYV1U', 'B00WC5JUC0', 'B00WB5ZOR6', 'B00WA7VKEG', 'B00W93IWQA', 'B00W8MPZRQ', 'B00W7ZL4TM', 'B00W7I3FMI', 'B00W6SXDQW', 'B00VTI0WKK', 'B00W54EB90', 'B00W40PCES', 'B00W3EE7UU', 'B00W1RTVGO', 'B00W0RBAD2', 'B00W0BAU3O', 'B00VYQALHG', 'B00VYQALBM', 'B00VXJD21G', 'B00VWILIZ0', 'B00VWCK0BE', 'B00VVX2QZW', 'B00VUU6JL8', 'B00VUQ3RGC', 'B00V5OYAYM', 'B00V5BIKNW', 'B00ZGPFRDY', 'B00U0UUUX2', 'B00TZBB8WY', 'B00TZEEPBM', 'B00TZXVSL8', 'B00U05V0L8', 'B00U0UU6LI', 'B00U0UUTTW', 'B00U12A4KI', 'B00V3A5SDA', 'B00U1PFOF0', 'B00U1XK5Z6', 'B00U215N1I', 'B00U3FN5U4', 'B00U3Q6YHY', 'B00U9V1ONC', 'B00TYVZWRW', 'B00TY2X4IK', 'B00TY2X4BW', 'B00TY2X188', 'B00TXC247S', 'B00TWPV5L2', 'B00TVFYMU4', 'B00TVFYKCE', 'B00TV90DX0', 'B00TUMK0CM', 'B00TUMJRNK', 'B00TUER9JM', 'B00TUEQN62', 'B00TTQM9A0', 'B00TTQLAVY', 'B00TT7BGQM', 'B00TSCFIDA', 'B00U9YCRNU', 'B00UA55VKY', 'B00UA56HS4', 'B00UR18HPM', 'B00V3A5N94', 'B00UZW1OPS', 'B00UY8LLQ0', 'B00UXE3X84', 'B00UTUJHMS', 'B00UTUJ56G', 'B00UTELPGK', 'B00UTD0YG8', 'B00USQA8VC', 'B00URN57ZI', 'B00URFIYC4', 'B00UR6L67I', 'B00UR18LAI', 'B00UR18JOG', 'B00UQHLNDK', 'B00UA56MAC', 'B00UNPW18Q', 'B00UN9A152', 'B00UN8OXWA', 'B00UN8OX5C', 'B00UMH4OSK', 'B00UM66DL2', 'B00UK8A6XS', 'B00UJ9LNDK', 'B00UI3N5QK', 'B00UHBGE7A', 'B00UBJ6ZM2', 'B00UBGFR88', 'B00UALWPCA', 'B00UAD1NY4', 'B00WIKZTBA', 'B00WITIHZ6', 'B00WJ3ALYQ', 'B00Y0HYHD0', 'B00XXQIN70', 'B00XY5S4SS', 'B00XY6IVM6', 'B00Y0CG044', 'B00Y0CG12A', 'B00Y0CGAO4', 'B00Y0IV8AO', 'B00WJ3ANXK', 'B00Y2ATGFY', 'B00Y3T1292', 'B00Y459UIU', 'B00Y4S5Z5O', 'B00Y4S8VWI', 'B00Y5U9K3O', 'B00XXGAGAW', 'B00XWQ16YS', 'B00XWLVDUU', 'B00XVOPBRO', 'B00XVMLDOQ', 'B00XV2AP54', 'B00XV0RIDS', 'B00XUYCXG2', 'B00XUCRL34', 'B00XTOUL58', 'B00XR5D74G', 'B00XR3VKC4', 'B00XR3U0GQ', 'B00XQEA1FG', 'B00XQE2I8O', 'B00XQD9CUC', 'B00XQD34PQ', 'B00Y5X6FSO', 'B00Y7ZMR5U', 'B00Y84TRXK', 'B00YOWGTMS', 'B00ZG2TIR8', 'B00ZE9T5OO', 'B00ZE8RCDG', 'B00ZB6LMTG', 'B00ZAU80H0', 'B00Z6QK1B6', 'B00YXKXUAA', 'B00YWSL2N0', 'B00YWSFMKY', 'B00YVFHI6Y', 'B00YSSQFOA', 'B00YRKPAD6', 'B00YRKOWDK', 'B00YQXI2HU', 'B00YO92JTS', 'B00Y9XNZRO', 'B00YNVCH8K', 'B00YNSYUAG', 'B00YJJ0JNG', 'B00YJJ0H9C', 'B00YIKY2PC', 'B00YHTUSV6', 'B00YHPFG9O', 'B00YG9G5IC', 'B00YE71LN0', 'B00YCDQM1C', 'B00YBHG49O', 'B00YAEIR0C', 'B00YA48LJY', 'B00Y9YQW9G', 'B00XQCYRPI', 'B00XQCAYVO', 'B00XPHLBJY', 'B00WRQ5RVC', 'B00X3JWIA0', 'B00X2CKMNS', 'B00X1O89DM', 'B00X1DDQPO', 'B00WZQJHZQ', 'B00WZQDHTI', 'B00WX60PWM', 'B00WWFLU4G', 'B00WW1V61M', 'B00WVXG21K', 'B00WU6GD6C', 'B00WU6F4M6', 'B00WT7KPCK', 'B00WS06P3Q', 'B00WRPH3E2', 'B00X3LRHG8', 'B00WRI3XYI', 'B00WRHTSK2', 'B00WR4QD80', 'B00WQUYLIY', 'B00WQPH9UQ', 'B00WQE9JAA', 'B00WPVH564', 'B00WNNOY7W', 'B00WMGI6GA', 'B00WM7WKK2', 'B00WM21DY6', 'B00WL4E26G', 'B00WKLA6KG', 'B00WJTX18I', 'B00X3L5VW0', 'B00X497ZXO', 'B00XP4MYKC', 'B00XI1L5SO', 'B00XOPKPMQ', 'B00XO01KZ2', 'B00XNUBIJG', 'B00XNR0AM0', 'B00XMZAFQ4', 'B00XMZAB3G', 'B00XMCRVXC', 'B00XLYES6O', 'B00XL1111C', 'B00XKM6PPO', 'B00XJHZUVU', 'B00XJE3W7C', 'B00XIVADFU', 'B00XIQCFWY', 'B00XH2Q9TO', 'B00X536MDI', 'B00XGWHXS6', 'B00XGLIOMQ', 'B00XEV4WYM', 'B00XDUNKYW', 'B00XDUNJKW', 'B00XD6EJ2I', 'B00XBZ4LN8', 'B00XBKW6T4', 'B00XAT8R3K', 'B00XAQGWGW', 'B00XAD9VDG', 'B00X85S7EA', 'B00X6EYNQE', 'B00X5BXFNK', 'B015ZDDF0S', 'B0161CIA4S', 'B00GE5H5BW', 'B01DBVDFRE', 'B01DBHC9U2', 'B01DBMANZK', 'B01DBMVW2S', 'B01DBVBRJC', 'B01DBVCAR0', 'B01DBVCTNU', 'B01DDFDP78', 'B01CUQ8NDW', 'B01DEVT3IQ', 'B01DFIGIB8', 'B01DI4B134', 'B01DIU57M4', 'B01DK723AY', 'B01DK723HW', 'B01DACTTZG', 'B01D9MTKT2', 'B01D53LBHY', 'B01D53KZGM', 'B01D53KNUA', 'B01D4KYRYC', 'B01D430ZL8', 'B01D3ITVRI', 'B01D2Q1B5G', 'B01D2PFJ8C', 'B01D1PKNJ8', 'B01D1KPIGG', 'B01D1JDB3O', 'B01CYZARX8', 'B01CYTIEP2', 'B01CY0CNZ8', 'B01CVTRTD8', 'B01DK7SZOW', 'B01DLNIJX2', 'B01DM0GV7K', 'B01E9TIG6W', 'B01EJAEBWE', 'B01EJ9KI5O', 'B01EJ0N5FS', 'B01EILA088', 'B01EHNTB3M', 'B01EHIX1TC', 'B01EGYA8WA', 'B01EGV6UJ8', 'B01EFKZN0C', 'B01EFKG2E8', 'B01EFIINMY', 'B01ECT3Z88', 'B01EB5SYDY', 'B01EA91TI8', 'B01E8MWD9G', 'B01DME7NNC', 'B01E8KXDTW', 'B01E7QORG0', 'B01E7FQ03O', 'B01E6T547Y', 'B01E6T50LY', 'B01E6T50GY', 'B01E6T50BO', 'B01E3L1ESS', 'B01E38PU4A', 'B01E017K5W', 'B01DZPVMNU', 'B01DYPZ598', 'B01DYLS44U', 'B01DOEPUTE', 'B01CVTGG1O', 'B01CULHLIA', 'B01BN2H006', 'B01C5ARYX8', 'B01C40S910', 'B01C44J0Z0', 'B01C4KTAKE', 'B01C4QYHI8', 'B01C4QYN96', 'B01C564PZ2', 'B01C5DCW2I', 'B01CTWVIY8', 'B01C5RZWCQ', 'B01C6FBJ1K', 'B01C6FBM8A', 'B01C8DHXYC', 'B01C8LQA6Q', 'B01C8LQDJA', 'B01C3YXF7K', 'B01C3Y68P6', 'B01C2T8OOA', 'B01C2T8HDI', 'B01C189HRK', 'B01BZBAGFG', 'B01BWM5M0W', 'B01BW1JFXS', 'B01BVA75PK', 'B01BVA75BO', 'B01BSZQBJY', 'B01BPSBU40', 'B01BPP8BUO', 'B01BPBKQ9C', 'B01BNTYSKO', 'B01BNLRYWQ', 'B01BNDQ0EW', 'B01C8PSVUU', 'B01C8R6K5G', 'B01C8R6LZU', 'B01CFOHF6U', 'B01CTRO36I', 'B01CSB620U', 'B01CS2EJW2', 'B01CRFT290', 'B01CR68YKM', 'B01CQJNTAK', 'B01COVQ3BW', 'B01COK0NIW', 'B01COF51DO', 'B01CO2CP0O', 'B01CNJBH8E', 'B01CJKS7TE', 'B01CITWZGM', 'B01CGY56UG', 'B01CFOAQHA', 'B01C8R6ME0', 'B01CFOAIJG', 'B01CEULF20', 'B01CEUHV14', 'B01CETRA3E', 'B01CDC4I4Q', 'B01CCBDOXE', 'B01CCAU4B0', 'B01CB7CVM4', 'B01CB6GQ4O', 'B01CB6CG8E', 'B01CB5N8ZA', 'B01CA2XZYI', 'B01C9KYUG8', 'B01C9EL2NI', 'B01EKS0H1O', 'B01EL2THDS', 'B01EL9B6Y4', 'B01GPDZNTS', 'B01GKX638S', 'B01GKZCSAS', 'B01GLQ37O2', 'B01GMW448S', 'B01GP4SFC4', 'B01GPC0U8I', 'B01GQ555ZC', 'B01ELETH4A', 'B01GR5ZLIM', 'B01GRCATWI', 'B01GRIH9VG', 'B01GROP5K2', 'B01GTOO9IO', 'B01GUTT7JE', 'B01GJOMZEE', 'B01GJHU638', 'B01GJDIA1M', 'B01GJD7USG', 'B01GJ1NAUK', 'B01GIMSNEI', 'B01GHUA3XA', 'B01GHOM67W', 'B01GH436CQ', 'B01GG0YR60', 'B01GFNB4AU', 'B01GCDU9ZE', 'B01GCCAPMC', 'B01GAMR428', 'B01G8Q2HSW', 'B01G7QXYOE', 'B01G7QTPWY', 'B01GV1ROVY', 'B01GWTF62E', 'B01GZY667K', 'B01HBEB51K', 'B01HI5M4GW', 'B01HI1VM28', 'B01HHZAU3W', 'B01HHJXKRG', 'B01HGLUP14', 'B01HG293XO', 'B01HG0FXAI', 'B01HED0HO4', 'B01HECB4AG', 'B01HCYT570', 'B01HCNLHJA', 'B01HCLGXLO', 'B01HCLGUOE', 'B01HBEC8SE', 'B01HB58ALC', 'B01H39A6SQ', 'B01HB4090I', 'B01HAZJL4I', 'B01H7UZY7E', 'B01H7B1JD6', 'B01H745OKM', 'B01H6YM1Q8', 'B01H6XLJHQ', 'B01H5M9OKM', 'B01H4VG35I', 'B01H4R8FTY', 'B01H47XO22', 'B01H3D0QIM', 'B01H3D0LGO', 'B01H3D0LFK', 'B01G71R4U4', 'B01G6PGQXC', 'B01G5EVIL4', 'B01EXP6GSM', 'B01FEAN5EI', 'B01FE0B06S', 'B01FDKNVMK', 'B01F8IMXVC', 'B01F8BY2AO', 'B01F7KMRG2', 'B01F73LVL6', 'B01F6XUO5Q', 'B01F6WIX5K', 'B01F36K2TO', 'B01F26BOR4', 'B01EY1JLJG', 'B01EXYQAZC', 'B01EXY1YV2', 'B01EX0MAY6', 'B01FGCC2FM', 'B01EWCBHMQ', 'B01EVR0VX8', 'B01EVKUKQI', 'B01EVKUHES', 'B01EV0V58A', 'B01EUERZR2', 'B01ERUDLVI', 'B01EQR6EXO', 'B01EPWGF8O', 'B01EN0G8AI', 'B01EMWDIQE', 'B01EMVIO4G', 'B01EMNM3JG', 'B01EMM9NGS', 'B01FFH5XMC', 'B01FHJLE6M', 'B01G5D6BMG', 'B01FVTO4OC', 'B01G4X9YNU', 'B01G4B2W54', 'B01G3SUTDU', 'B01G3DJLC0', 'B01G34E8G8', 'B01G2AIGZC', 'B01G26TRW2', 'B01G1P5UJS', 'B01G1FSSL0', 'B01G0U1CZK', 'B01G0QLK2E', 'B01FX5YXR2', 'B01FWLZAF6', 'B01FVU94LO', 'B01FVSG2XO', 'B01FIKU1WI', 'B01FVRL3C0', 'B01FVLM8HK', 'B01FU22D0W', 'B01FTGR8FE', 'B01FQB3DD8', 'B01FPQ6YMQ', 'B01FPN5JEI', 'B01FPKWW5U', 'B01FMKRG6I', 'B01FMBDQ5M', 'B01FM1NYLI', 'B01FKQ2Q8W', 'B01FJSEX3M', 'B01FJ77808', 'B01BN840QW', 'B01BL5BXJY', 'B0161KCRFS', 'B01861TYL0', 'B017Y449LA', 'B017YILF9U', 'B017YOQ5JY', 'B0181087XM', 'B0185B3CC8', 'B0185NCH2W', 'B0187288ME', 'B017IAY5JG', 'B018792EU4', 'B0188WLBU4', 'B0188WO5SO', 'B0188WO6OC', 'B0189X11P2', 'B018AVHOJ0', 'B017XX7K5O', 'B017VXNOK6', 'B017VXNO8S', 'B017UVXA0I', 'B017UC162Q', 'B017U6T8KO', 'B017U1FMSG', 'B017TSYAKQ', 'B017SQNEQA', 'B017SJU3T8', 'B017RJWXLK', 'B017QAL24O', 'B017PH9682', 'B017P7Z2QC', 'B017OPQG2O', 'B017NRIXYM', 'B017MHJXK6', 'B018B0MMTW', 'B018DTM084', 'B018E4ONII', 'B018TPR8FM', 'B018Z5C6W6', 'B018Z5BTJC', 'B018Z5BKZ0', 'B018Z5BJ6U', 'B018YCU7FS', 'B018Y5Q254', 'B018XSHHSS', 'B018XLBNP8', 'B018XK650C', 'B018WQUDKU', 'B018WOFULE', 'B018VAQWEI', 'B018UNLSGS', 'B018U24KKK', 'B018SA2CPE', 'B018E559NK', 'B018S8PO88', 'B018RNKU7E', 'B018QEZF0G', 'B018PSQJ8U', 'B018K9K0AW', 'B018K9K034', 'B018J6Y1PQ', 'B018IRSRMO', 'B018HZ5S9C', 'B018GZSTX0', 'B018G4Y45I', 'B018FCZRUW', 'B018FCZNVU', 'B018F1F9EM', 'B017LBMJOU', 'B017HS6Y20', 'B01BKE1AY4', 'B016J6R6MI', 'B016CW1WK6', 'B016DP0G3G', 'B016DSXUKE', 'B016E444D4', 'B016E5VP6W', 'B016EZODT8', 'B016JC8GY4', 'B017HQVOP4', 'B016JDJE9E', 'B016JLAJUY', 'B016JPUNII', 'B016JQ4ISS', 'B016K1890U', 'B016KAU0E4', 'B016CP76E4', 'B016CDCRVI', 'B016CBBSR4', 'B016C4ZG74', 'B016BIBPDA', 'B016B3KTUU', 'B016APL728', 'B0167XM092', 'B0167VYWW2', 'B0167JTKWG', 'B0167JTJIQ', 'B01667IQ10', 'B01667IMKU', 'B0165KH7GS', 'B0161WG9ZA', 'B0161MMX4G', 'B0161LXW06', 'B016L0RB72', 'B016LIWSLI', 'B016M2OTGK', 'B016ZEWRW8', 'B017H4FXB2', 'B017GSAT0E', 'B017EATTGE', 'B017CNNPJK', 'B017CB2D9K', 'B017BBJ9VQ', 'B017AFVR4A', 'B017AE3Z5A', 'B0179ZQW0K', 'B0179AWX3U', 'B01794XX1M', 'B0178ZWND6', 'B01734020S', 'B01727VRWS', 'B016Z41U5I', 'B016N052M6', 'B016X4ITHC', 'B016W4O7BA', 'B016VXL0KS', 'B016VXFXME', 'B016VRUWC6', 'B016UU9X9M', 'B016UU6FTI', 'B016UKHQKK', 'B016T96QQ2', 'B016SFNLDI', 'B016PL9VMK', 'B016PHNXA0', 'B016PHNE86', 'B016NRRBA0', 'B018Z5CDFQ', 'B0191DERX2', 'B0191EB9MS', 'B01AU3I8J6', 'B01ARYVOF8', 'B01ARZXT64', 'B01ASNBYZI', 'B01ASX1H0K', 'B01ATR80VE', 'B01ATV0HXY', 'B01AUJTINA', 'B0191I08V2', 'B01AWDDW5O', 'B01AWWYFDI', 'B01AWWYH86', 'B01AXJHEQA', 'B01AXJHTHE', 'B01AXJHZSM', 'B01ARJK03K', 'B01ARIZV94', 'B01AQNIOO4', 'B01ANJGX8U', 'B01AMTPC42', 'B01AMTEWL6', 'B01AMNWF6Q', 'B01AMJ3YVU', 'B01AKRA7DC', 'B01AKRA4PS', 'B01AJUKHPI', 'B01AJUJ55Q', 'B01AJJIQQQ', 'B01AISB3EK', 'B01AIGK6FE', 'B01AIF4CL4', 'B01AHY1BXI', 'B01AXSLD0E', 'B01AXUDJ68', 'B01AYM52NS', 'B01B9E1LW6', 'B01BKATD74', 'B01BK51EAI', 'B01BJNIFLC', 'B01BH9DT7S', 'B01BFY6AEO', 'B01BF7YAMA', 'B01BESKXAS', 'B01BDZ1YXM', 'B01BDMKH2Y', 'B01BCQ12C0', 'B01BCLN0UC', 'B01B9IDI8C', 'B01B9IDGGG', 'B01B9IDF8K', 'B01B8YMXJC', 'B01AYSNMDO', 'B01B7N8P5A', 'B01B50QVEC', 'B01B40Z98M', 'B01B3Y6QDG', 'B01B2L6Z54', 'B01B2DTI0Q', 'B01B23BA98', 'B01B1JI60Y', 'B01B1JHTGG', 'B01B1JHJVQ', 'B01B1IBTF4', 'B01B14PLS4', 'B01AZBFKHG', 'B01AZ9PANW', 'B01AFZ7PLQ', 'B01AFHSS92', 'B01AB8JPYM', 'B019DU4OG8', 'B019JD0YSQ', 'B019J7T0NW', 'B019IBG3D4', 'B019IAH2O4', 'B019I9PJNQ', 'B019HSBDUQ', 'B019HQHXN4', 'B019H60LC4', 'B019H1STZ0', 'B019G7SRMK', 'B019G53ZJW', 'B019FR8JKQ', 'B019FAX0YI', 'B019E4Z6EW', 'B019DQUX9Y', 'B019MIPZ8M', 'B019D7KMNK', 'B019CWUX7Q', 'B019CQA3NG', 'B0199YPYCQ', 'B0199YPM6Y', 'B01996PR5I', 'B0196J75TY', 'B0196J6TDC', 'B0195NQSTO', 'B0195EI8EQ', 'B01934CJOI', 'B0192Y7UPC', 'B0192Y5YXM', 'B0191IHVQM', 'B019MF3U9Q', 'B019MQLNPI', 'B01AAPIPJW', 'B019VUSW4A', 'B01A9UXCD2', 'B01A9QG8D2', 'B01A9DTJPE', 'B01A97QH9Q', 'B01A89ALK6', 'B01A7IKTA0', 'B01A7GI8UU', 'B01A6U1EBC', 'B01A6U1CJ6', 'B01A48JQ6Q', 'B019YWV8AA', 'B019YUY2MS', 'B019XM3XH2', 'B019W1LNUS', 'B019TWBQIE', 'B019O1PXU2', 'B019RZNJZ6', 'B019RY7RUU', 'B019RVU0C0', 'B019RJJWI0', 'B019RINZLQ', 'B019RHMYVO', 'B019R8APG4', 'B019Q27CIA', 'B019PV1UJY', 'B019PAVXPG', 'B019P2ZUL2', 'B019P2ZQR0', 'B019P2ZQOI', 'B019OO66R8', 'B00TREA95G', 'B00TR1MLR8', 'B00TQZN1LU', 'B00JA4T7Y2', 'B00JA4T7HE', 'B00JA4T7O2', 'B00JA4T7OC', 'B00JA4T7QA', 'B00JA4T7QK', 'B00JA4T7RE', 'B00JA4T82S', 'B00J3ZKY7C', 'B00JA4T850', 'B00JA4T89Q', 'B00JA8QD40', 'B00JAEDIP6', 'B00JALJ6BY', 'B00JANBU66', 'B00JA4T7GU', 'B00JA4T77E', 'B00JA4T76U', 'B00JA4T724', 'B00JA4T710', 'B00JA4T6RU', 'B00JA4T6NE', 'B00JA4T6MU', 'B00JA4T6FM', 'B00JA4T6F2', 'B00J989VV8', 'B00J8PWZ56', 'B00J8MW086', 'B00J6XI15S', 'B00J5OAF34', 'B00J55WCMA', 'B00J4VTD04', 'B00JAO2UY6', 'B00JB2IHLW', 'B00JB4WA54', 'B00JKNS208', 'B00JPPZ9P2', 'B00JPCVHVU', 'B00JPCUU86', 'B00JOYYVEO', 'B00JOP0P6Q', 'B00JN1LGTQ', 'B00JM22LPE', 'B00JM11MN2', 'B00JLY9UWA', 'B00JLP1PYA', 'B00JLKS23C', 'B00JL5HKVM', 'B00JL5HHJC', 'B00JL0TZ10', 'B00JKKI88W', 'B00JB4WAR2', 'B00JKGHP1C', 'B00JJIEIZ2', 'B00JJIBUQW', 'B00JJFV1K0', 'B00JJ18U6W', 'B00JG8DRZM', 'B00JFN3KLY', 'B00JFEDZUO', 'B00JFEDJQY', 'B00JF0A5GK', 'B00JDWHDSS', 'B00JDP3J10', 'B00JBJ2HNO', 'B00JBIVXGC', 'B00J4JXTZQ', 'B00J3YYSUW', 'B00II6H1SC', 'B00INW2DZ2', 'B00IN2WHGM', 'B00IN761G4', 'B00IN7EFM6', 'B00INCGKSI', 'B00INEAHOE', 'B00INK6PIU', 'B00INZY55K', 'B00J3W6050', 'B00IOQE2U6', 'B00IQCRJ8K', 'B00IQCRJ9Y', 'B00IQF5DQ2', 'B00IQH1IYG', 'B00IQYZUMU', 'B00IN2WGDQ', 'B00IMPKQGI', 'B00IMOY5GQ', 'B00IMNCM2Q', 'B00ILAQ974', 'B00IKWM92M', 'B00IKTWTD4', 'B00IK9P6HK', 'B00IJYE2OE', 'B00IJYE14K', 'B00IJQLZP6', 'B00IJM4EO4', 'B00IJ77TRI', 'B00IIVYGQM', 'B00IIV3K0U', 'B00II911US', 'B00II90A5U', 'B00IR4CU22', 'B00IR5PRNA', 'B00ISQCIDU', 'B00IY0BN4A', 'B00J3LILNK', 'B00J3DXXEA', 'B00J32QZY6', 'B00J2NFJT8', 'B00J2JAT2Y', 'B00J2EKI20', 'B00J1UXIPY', 'B00J1T5BLY', 'B00J10ZRTE', 'B00J0823FI', 'B00IZGUGM8', 'B00IZAUQUG', 'B00IZAD4KU', 'B00IZ1AW9K', 'B00IY0BLB0', 'B00ISQCKWE', 'B00IXPXEN4', 'B00IWWEW20', 'B00IWVL3SW', 'B00IWU4BF0', 'B00IVPFZAG', 'B00IVAGZAU', 'B00IUFL39Y', 'B00IU3GCZQ', 'B00IU047WO', 'B00IT7JRVO', 'B00IT6URLY', 'B00ISQCO8E', 'B00ISQCN6M', 'B00ISQCN2Q', 'B00JPQIQZ6', 'B00JQ1CUAC', 'B00JQ3E9KO', 'B00KTCLYZE', 'B00KR9MNBS', 'B00KRNEB46', 'B00KRO8UYC', 'B00KRQP6BK', 'B00KRR2DT2', 'B00KSC94RK', 'B00KTEN2V6', 'B00JQ3Q7IQ', 'B00KU4Y2W8', 'B00KUC2INU', 'B00KVOJ3AI', 'B00KVS6XGG', 'B00KVWK6M4', 'B00KWIO31C', 'B00KQPGRRE', 'B006K1OFI6', 'B00KPFMTJU', 'B00KPFGNB0', 'B00KOGV83S', 'B00KO8W4VG', 'B00KNSPBUI', 'B00KNLX8W8', 'B00KMU9AUE', 'B00KMPCYOS', 'B00KMILKGS', 'B00KMFUCC4', 'B00KMDS32W', 'B00KM9SSSA', 'B00KM3YWS6', 'B00KLRDXDS', 'B00KKPUC0I', 'B00KWOX57O', 'B00KXQIU5S', 'B00KXQIV7K', 'B00L1LNF6S', 'B00L5JFX7K', 'B00L4KT3RQ', 'B00L4KT2O0', 'B00L4KSL2Y', 'B00L4F4GRS', 'B00L40YDYY', 'B00L37PRM0', 'B00L36ICX2', 'B00L2QDKIU', 'B00L25ZNP4', 'B00L2282QO', 'B00L1LQAVU', 'B00L1LQ5L0', 'B00L1LOIGY', 'B00L1LMGLI', 'B00KXQIY86', 'B00L1LLDKS', 'B00L1LL0PQ', 'B00L1KSX4I', 'B00L1KOHH0', 'B00L0X8ATE', 'B00L0VGMRS', 'B00KZQ1VXY', 'B00KZHRY9I', 'B00KZHN3CU', 'B00KZHMU06', 'B00KZHMTZ2', 'B00KZHMMJU', 'B00KZHMM6S', 'B00KXUZ2HI', 'B00KKPRR2O', 'B00KJX28EY', 'B00KJ6WGJS', 'B00JW44IXU', 'B00K0TPTM0', 'B00K0S6LYG', 'B00K0NZQHY', 'B00JZZWUEA', 'B00JZT20U0', 'B00JYW79IQ', 'B00JYM9M8Q', 'B00JYFAWH8', 'B00JYCK3R0', 'B00JYCK37K', 'B00JYCJZ9W', 'B00JXD94OI', 'B00JX22MIO', 'B00JWU5URM', 'B00JW286K8', 'B00K2D9NXA', 'B00JVI0YJE', 'B00JVFI3GS', 'B00JUDZIR8', 'B00JTU8YJ6', 'B00JSCP55Q', 'B00JSCP51A', 'B00JSAMV5A', 'B00JRK649U', 'B00JRGHEZ2', 'B00JQZS5E8', 'B00JQZS4HG', 'B00JQYV4CO', 'B00JQYUIJ4', 'B00JQYUI7G', 'B00K17YFC6', 'B00K2FVUVQ', 'B00KISGY8Q', 'B00KATAP38', 'B00KHBPZGG', 'B00KGQ9IME', 'B00KGI7BY4', 'B00KGBLIWW', 'B00KFFZXES', 'B00KD5RGBS', 'B00KBMQDGC', 'B00KBMAJZS', 'B00KBMAJU8', 'B00KBD47CS', 'B00KBCOWL0', 'B00KBCORLK', 'B00KAWA4T0', 'B00KAVMRXW', 'B00KAFOXXU', 'B00K2U365Y', 'B00KAC88J8', 'B00K9XF6JS', 'B00K8MZTPG', 'B00K8EDPWI', 'B00K87GKOA', 'B00K6ZX57Y', 'B00K5Z56NQ', 'B00K5X21MM', 'B00K5U05U0', 'B00K5A2ST6', 'B00K544J6C', 'B00K40GBEU', 'B00K3MI70A', 'B00K38OM8A', 'B00II6VKSO', 'B00II5NV28', 'B00TQZMYO0', 'B00H3OOXEU', 'B00GYHFAZS', 'B00GYZ93VW', 'B00GZ5FCVG', 'B00H02C9TG', 'B00H05ZVZ2', 'B00H0FIS16', 'B00H40VYPY', 'B00GXMMLXI', 'B00H45673I', 'B00H45LS46', 'B00H4J7WLU', 'B00H4J8V7Y', 'B00H4R04CG', 'B00H552D3A', 'B00GYGRSPY', 'B00GYFFF46', 'B00GYE393Q', 'B00GXTUTLC', 'B00GXQRW6U', 'B00GXO7ASC', 'B00GXNS5PU', 'B00GXNBI18', 'B00GXMZNSI', 'B00GXMZIMO', 'B00GXMZ32Y', 'B00GXMYJLU', 'B00GXMUTGE', 'B00GXMU9R8', 'B00GXMU478', 'B00GXMTU0K', 'B00GXMNOXY', 'B00H563XI8', 'B00H5AKQO8', 'B00H5W80EY', 'B00HCWXGRS', 'B00HHLUISO', 'B00HHFY8TA', 'B00HH4NO96', 'B00HG29EYI', 'B00HFRXFVC', 'B00HFRXDQO', 'B00HF07D6M', 'B00HEXV80M', 'B00HEW365S', 'B00HET52JE', 'B00HEQ6J0I', 'B00HEE71E8', 'B00HDA0RTO', 'B00HCX70XI', 'B00HCPTXJA', 'B00H7GJT84', 'B00HBSI2RM', 'B00HBSFY0U', 'B00HBN6T1I', 'B00HB8TOPG', 'B00HB2ZVZE', 'B00HB2ZVWM', 'B00HAHTM96', 'B00HAHTGEM', 'B00H90W3AE', 'B00H8M35PA', 'B00H8L11P2', 'B00H8KK1KE', 'B00H8JAJP2', 'B00H8AOKO2', 'B00GXMNO52', 'B00GXMLEO0', 'B00II5NUKG', 'B00GKD3LKM', 'B00GHUC2DK', 'B00GHVVXRU', 'B00GI2L9KO', 'B00GJL7UC0', 'B00GK6K77O', 'B00GK75WXC', 'B00GKNFRRM', 'B00GXML7OM', 'B00GKOJC5Y', 'B00GLGECUQ', 'B00GMEHMGS', 'B00GMNG620', 'B00GMSL9M2', 'B00GN2ZSVA', 'B00GH2QZCM', 'B00GGY6ATO', 'B00GGN3FG6', 'B00GGMWBNU', 'B00GGMWAW2', 'B00GGMWA3G', 'B00GGGQK56', 'B00GGGBESE', 'B00GG95U86', 'B00GFVLF5W', 'B00GFT1PXG', 'B00GFI3WAQ', 'B00GFG19G2', 'B00GESGCEK', 'B00GESFN9A', 'B00GEDQBS2', 'B00GEDQA4W', 'B00GN4URX2', 'B00GN4UTXA', 'B00GN4UVHE', 'B00GSNSL72', 'B00GXMKZRW', 'B00GXMA3PQ', 'B00GWYM71S', 'B00GWULNQC', 'B00GWH0OUQ', 'B00GW1DFY4', 'B00GVE4KAK', 'B00GV3JULU', 'B00GTYDBVG', 'B00GTVF6VC', 'B00GTSM8FW', 'B00GTSM8CK', 'B00GTENCLA', 'B00GSQFWOE', 'B00GS89KPE', 'B00GN4VP6A', 'B00GS82H86', 'B00GS82FQ0', 'B00GS41DPI', 'B00GRQ8LVQ', 'B00GRPIUEU', 'B00GRPCRIA', 'B00GRKXRMK', 'B00GPHHW8K', 'B00GP46ITM', 'B00GP2H06Y', 'B00GOL1X9Q', 'B00GOIFW5K', 'B00GNI6QBU', 'B00GN4VSM6', 'B00HHZUTQQ', 'B00HIRARLA', 'B00HJ9VUNG', 'B00I6ILLGA', 'B00I4DX9NU', 'B00I4IKVTU', 'B00I4INKZ2', 'B00I50OQIO', 'B00I534TCY', 'B00I5R29OK', 'B00I6JGOBG', 'B00HJCK4J4', 'B00I81TJL4', 'B00I81U39Q', 'B00I852N4K', 'B00I88HPUO', 'B00I8HTOHC', 'B00I8QJWJI', 'B00I40ONNS', 'B00I3XGGM2', 'B00I3XGEZ6', 'B00I3XGE2E', 'B00I3XGDZM', 'B00I3XGDZC', 'B00I3XGBZ4', 'B00I3XFYWK', 'B00I3UNCMM', 'B00I3TP9JM', 'B00I3TOXVM', 'B00I3ELO6O', 'B00I3ELMX4', 'B00I2J4WJG', 'B00I1Y45US', 'B00I1U1Z3W', 'B00I1H6KJO', 'B00I9FI1TU', 'B00I9HOUIY', 'B00I9RHNBU', 'B00ICR9FKY', 'B00IH0BP6S', 'B00IH0BOPK', 'B00IGGWCT2', 'B00IGGWBPM', 'B00IGGS3EA', 'B00IGDXK9Q', 'B00IGDHSLM', 'B00IFSY9ME', 'B00IFHCOGS', 'B00IFB3O5O', 'B00IE3EZYW', 'B00ID2NB1C', 'B00ICT5F5G', 'B00ICR9G2Q', 'B00ICR62M8', 'B00IACB90K', 'B00ICR3HZS', 'B00IBPOBW4', 'B00IBJ7D8O', 'B00IBIUZQW', 'B00IBIUZGW', 'B00IB6HW5G', 'B00IB6HO4A', 'B00IAYFIXW', 'B00IACIOVW', 'B00IACDW7I', 'B00IACDT5I', 'B00IACCLNO', 'B00IACCJLI', 'B00IACBP36', 'B00I13N9NI', 'B00I11N2VO', 'B00I0YOB9O', 'B00HQXUH5W', 'B00HVLUR54', 'B00HVKM9BA', 'B00HVI1FBM', 'B00HV8FJ8W', 'B00HV7UOM4', 'B00HV7ULYU', 'B00HV7ULRC', 'B00HV7U4EC', 'B00HV7U49W', 'B00HTUAX1K', 'B00HTBET0U', 'B00HSSC0BY', 'B00HRNRKA6', 'B00HR5RRLQ', 'B00HQKJ4WC', 'B00HVMKO2O', 'B00HQCXBO2', 'B00HQCXBH4', 'B00HPPKBG6', 'B00HNMB1NI', 'B00HNIHMZ8', 'B00HN019HS', 'B00HMRZDSS', 'B00HMRXEUW', 'B00HMQ1D06', 'B00HLTM7RW', 'B00HLBZE5C', 'B00HJOTQ6O', 'B00HJOTFI8', 'B00HJD0XDU', 'B00HVLUSGM', 'B00HVUSWO8', 'B00I0SDHKY', 'B00HYM9MP6', 'B00I0RHU8K', 'B00I0Q8JNQ', 'B00I0FB6FU', 'B00I08RT3U', 'B00I056NYY', 'B00I041660', 'B00HZREOFI', 'B00HZQS9WI', 'B00HZA6EEY', 'B00HYN7NR4', 'B00HYMEQ8E', 'B00HYMC0N2', 'B00HYMBMEU', 'B00HYMA8KE', 'B00HYM5S4U', 'B00HWIRQXM', 'B00HXXYMWE', 'B00HXE4BYW', 'B00HX9F1N2', 'B00HX9EXP4', 'B00HX6IQK0', 'B00HX40Q3C', 'B00HX40PAQ', 'B00HX40OL6', 'B00HWRDSVM', 'B00HWMWWO6', 'B00HWMG44U', 'B00HWM9GRM', 'B00HWM3UBA', 'B00HWL9MZO', 'B00L5Q7E5W', 'B00L5R3P04', 'B00L711492', 'B00QA1XIDY', 'B00Q2G2NTC', 'B00Q5OKAVO', 'B00Q73PQSA', 'B00Q8CQV7K', 'B00Q8KGL54', 'B00QA1PEVI', 'B00QA3IB4S', 'B00PTB53P2', 'B00QA3TLME', 'B00QA73C7U', 'B00QC093E6', 'B00QC0S4X2', 'B00QC1QFZ0', 'B00QCMEEDO', 'B00Q25LORK', 'B00Q13449I', 'B00PZGTVAE', 'B00PZ7VV56', 'B00PX43YLK', 'B00PVT5DZ2', 'B00PVSRY00', 'B00PVNG7SU', 'B00PV012Z6', 'B00PUV6JF4', 'B00PUPVURW', 'B00PUPF1XG', 'B00PULSJAM', 'B00PU048K8', 'B00PTZYZH0', 'B00PTJHMN0', 'B00PTCPEXM', 'B00QD5EDB8', 'B00QDDQ2EG', 'B00QDEFOUS', 'B00QRGFY7U', 'B00R15EBLG', 'B00R0YGCPG', 'B00QYUXD90', 'B00QYUVO0U', 'B00QY9ZHR2', 'B00QXT5M3C', 'B00QXF35GW', 'B00QWF8QCQ', 'B00QW94SFQ', 'B00QUEXVO2', 'B00QSY3TEQ', 'B00QRJHVPA', 'B00QRJHPJM', 'B00QRIU64O', 'B00QRCSMI2', 'B00QDHA1QM', 'B00QQVKAR0', 'B00QQKFID2', 'B00QNNNCR6', 'B00QMQ6R6W', 'B00QM3CNN6', 'B00QLWZC22', 'B00QKR4TZE', 'B00QKB99QO', 'B00QJEH00O', 'B00QHFHEEC', 'B00QFV1RGE', 'B00QFNW496', 'B00QDMJY9W', 'B00QDHK69O', 'B00PTCFEYG', 'B00PTAD7QU', 'B00L75HEIS', 'B00P27DEAO', 'B00OZH9WDK', 'B00OZHKR8Y', 'B00OZPIDDM', 'B00P00G3EC', 'B00P0AHRQ0', 'B00P1GZ39G', 'B00P2B1MOA', 'B00PRTIVPA', 'B00P2EKIQK', 'B00P3DN1YQ', 'B00P3E5LCU', 'B00P47BRQK', 'B00P8BORW8', 'B00P8MSAXY', 'B00OY670QS', 'B00OWBFUNU', 'B00OVATABU', 'B00OUQ9L0A', 'B00OTIKZTA', 'B00OSHRM48', 'B00OSCNS82', 'B00OQUJ1QO', 'B00OQ3AWAA', 'B00OQ3AQFQ', 'B00OQ1WH14', 'B00OPBGEUU', 'B00OP6XG24', 'B00OP6CCO2', 'B00OOTOD5G', 'B00OO30CDE', 'B00OO19ZGG', 'B00P9HB0VC', 'B00PAEONVS', 'B00PB7JD78', 'B00PHPW90M', 'B00PR8AW62', 'B00PQZCCTG', 'B00PQXT1CO', 'B00PPYIPAI', 'B00PO73PR4', 'B00PNVJFAM', 'B00PNBIWM4', 'B00PMDPRJ4', 'B00PM69RPQ', 'B00PLZNOHA', 'B00PJVA3MU', 'B00PJ5RH5C', 'B00PJ12WYC', 'B00PHRZ3UI', 'B00PGY0E9C', 'B00PBAGPU8', 'B00PGQYVUI', 'B00PGQYV08', 'B00PGQYSCY', 'B00PGQYQJY', 'B00PGO012M', 'B00PG95E6A', 'B00PFZ9PB0', 'B00PE7M56Q', 'B00PE7CD2M', 'B00PDJXGIG', 'B00PCKZJOK', 'B00PC17212', 'B00PBHW3ZC', 'B00PBGZQBQ', 'B00R15EL3O', 'B00R15F3EK', 'B00R15FHTG', 'B00SVRLQRA', 'B00SOPKHCY', 'B00SSY4MNQ', 'B00ST6BZSI', 'B00SUOAXA0', 'B00SV11X7E', 'B00SV5T4L2', 'B00SVTQRY0', 'B00R2IPGAM', 'B00SX9PFSC', 'B00SXBPKUI', 'B00SXTN1RY', 'B00SXZBLXE', 'B00SXZOZAK', 'B00SY1KBFQ', 'B00SOFOFU4', 'B00SO2G3GG', 'B00SNYN0Y8', 'B00SNBCBGE', 'B00SMYE58Y', 'B00SMEI47C', 'B00SLQHZJE', 'B00SLHWZZM', 'B00SLHWZ0M', 'B00SKVNS00', 'B00SKTG2Y6', 'B00SKTFNIW', 'B00SKT4PT0', 'B00SKT45PY', 'B00SKJGWCI', 'B00SKJGOUI', 'B00SIZ51ZS', 'B00SY2AQ1O', 'B00SZ3J4IS', 'B00T0HVIY6', 'B00TDZPGKC', 'B00TQZMW9M', 'B00TQZL3WO', 'B00TQBAWSY', 'B00TPNJUUO', 'B00TPNJRSY', 'B00TPFNADU', 'B00TO9L0FC', 'B00TO9L08O', 'B00TLVVCGU', 'B00TLF2NGE', 'B00TJSYRO4', 'B00TIHWIHO', 'B00THNXBPM', 'B00TFTVXEE', 'B00TDF7YSE', 'B00T0OJN14', 'B00TB6WNQS', 'B00T8L17N6', 'B00T8I9QXW', 'B00T62C0H4', 'B00T4Z77D0', 'B00T4OBS1I', 'B00T4B6W44', 'B00T3SR9ZO', 'B00T3SKTCO', 'B00T3GDFSQ', 'B00T38U7HQ', 'B00T37TEYY', 'B00T2Q4BUI', 'B00T0OK3TU', 'B00SIRT96I', 'B00SHM169W', 'B00SHLYSVQ', 'B00RGKFKPC', 'B00RX6MHXC', 'B00RWUUE84', 'B00RW1KR9Y', 'B00RPYRGDI', 'B00RNL5VIK', 'B00RMCTTLA', 'B00RM4REH4', 'B00RLH5ZGO', 'B00RKFRW1I', 'B00RJIE944', 'B00RGNR4TE', 'B00RGLMHGQ', 'B00RGKT2K6', 'B00RGKFLRY', 'B00RGKFJ12', 'B00RY3X86Y', 'B00RGKFGFG', 'B00RFD1OKU', 'B00RCHA040', 'B00RCG701C', 'B00RCELW9A', 'B00RCA4868', 'B00RC44JZO', 'B00RC09YK8', 'B00RBQV2XK', 'B00RB9HS4Y', 'B00RAKX1WW', 'B00R5ZF8OG', 'B00R5XTEWU', 'B00R4L0DMI', 'B00RX7GMCI', 'B00RYESS7M', 'B00SH0IHCI', 'B00S7GY67W', 'B00SGY5CIW', 'B00SFMMQUC', 'B00SFFLXEE', 'B00SDLZFFS', 'B00SCX8LBW', 'B00SCCSJVA', 'B00SC80YLM', 'B00SC80YFI', 'B00S9PEEA0', 'B00S9GPS7M', 'B00S9GPHNC', 'B00S8LZJHW', 'B00S8LC5W4', 'B00S875NE0', 'B00S79INXW', 'B00RYESW8W', 'B00S3BF21U', 'B00S3BF1F2', 'B00S2VVTF4', 'B00S2VV3YQ', 'B00S2OVZCS', 'B00S1AO7NC', 'B00S0ZNON2', 'B00S0E7268', 'B00S0BFSD0', 'B00S0BDY7W', 'B00S00A9IA', 'B00RZIGZPO', 'B00RZ5RCK4', 'B00RZ5R5B0', 'B00OO0XTB4', 'B00OO0LD1C', 'B00ON9WQ1A', 'B00MIXFBKG', 'B00MF1LDQC', 'B00MH1PEK6', 'B00MH1PQ90', 'B00MI2YF6I', 'B00MIA1TSW', 'B00MIBIEL6', 'B00MJLZIDW', 'B00MZC8YMM', 'B00MMTWQ4U', 'B00MN2FBEI', 'B00MOO3MI2', 'B00MORS45A', 'B00MORUCOQ', 'B00MOS4UAM', 'B00MEQSLNG', 'B00MDAZSXO', 'B00MD7S06O', 'B00MD7ODNS', 'B00MCM72GE', 'B00MB5F33Q', 'B00MAQNAPY', 'B00MANJVA0', 'B00M9KIIKI', 'B00M9CUL60', 'B00M9CUJ6W', 'B00M96RWEU', 'B00M96RW0Y', 'B00M92R32U', 'B00M8ML0IO', 'B00M8GOHTY', 'B00M6PYKY4', 'B00MOYAK6O', 'B00MP566OM', 'B00MRX3NBQ', 'B00MXUIMF0', 'B00MXXTE9A', 'B00MXUJRVS', 'B00MXUJRNG', 'B00MXUJRKE', 'B00MXUJRHC', 'B00MXUJRA4', 'B00MXUJN7G', 'B00MXUJGBE', 'B00MXUJFTC', 'B00MXUJ394', 'B00MXUIYNA', 'B00MXUIXNG', 'B00MXUIQSI', 'B00MXUIMLY', 'B00MXUIIJU', 'B00MS7GAXE', 'B00MXUIICW', 'B00MXUIICM', 'B00MXUII7M', 'B00MXCYURC', 'B00MWS26QY', 'B00MVC4XEO', 'B00MVAYTRW', 'B00MV841JK', 'B00MV841E0', 'B00MV840SC', 'B00MV4WEM0', 'B00MV4VV2E', 'B00MUFJXTM', 'B00MU2DJM2', 'B00M6POXNC', 'B00M6O1M8W', 'B00M5NGXKG', 'B00LGWVU6Y', 'B00LKQHAVA', 'B00LJY5K3I', 'B00LJY3RKG', 'B00LJY3ND2', 'B00LJY360C', 'B00LJY0E6G', 'B00LIUNV5C', 'B00LIUDIUA', 'B00LIUDD5A', 'B00LIUCVE4', 'B00LIR7QNS', 'B00LIQEBM8', 'B00LIO8PK4', 'B00LHN0RP2', 'B00LGNFAIC', 'B00LM49BP8', 'B00LGNF4YW', 'B00LGDYGSC', 'B00LDZOJD0', 'B00LC6HY3M', 'B00LBO0PWM', 'B00LBKFYUO', 'B00LBFXCK8', 'B00LA10IUU', 'B00LA0HG10', 'B00L9JDS46', 'B00L8V9S1M', 'B00L75HHQW', 'B00L75HGUY', 'B00L75HFOQ', 'B00LKXCK1I', 'B00LMRNIL8', 'B00M4LI24E', 'B00LXBC7W4', 'B00M4K938O', 'B00M35GOP0', 'B00M2YVML8', 'B00M10X9J6', 'B00M0VD428', 'B00M0LLJ2U', 'B00M0K37RG', 'B00M0EHEJE', 'B00M090FDG', 'B00LZZ7B0Q', 'B00LZS99GW', 'B00LYJG0JQ', 'B00LXMN740', 'B00LXBC92M', 'B00LWHC1A2', 'B00LMRNIUE', 'B00LWAJJ40', 'B00LW65FIS', 'B00LVV0ZGG', 'B00LVQ2B72', 'B00LUVIURS', 'B00LU9SQAG', 'B00LU8K790', 'B00LTDOH4M', 'B00LRE0V5M', 'B00LPHTLUM', 'B00LO3K5WA', 'B00LNJSRA2', 'B00LMRNNLI', 'B00LMRNNIG', 'B00MY93GYW', 'B00MZCES7W', 'B00OMLR3BC', 'B00O2LT4F0', 'B00NVPSXGE', 'B00NW1IZCO', 'B00NWE79BY', 'B00NX7L6UA', 'B00O1QJ6KE', 'B00O2BZJ4A', 'B00O2PMO1W', 'B00MZCEY9O', 'B00O4B9NJU', 'B00O51AA9Q', 'B00O51ACVM', 'B00O51LV3U', 'B00O5EL286', 'B00O5EL3NU', 'B00NTMC4SC', 'B00NT08MAI', 'B00NSQZGW0', 'B00NSFFT6O', 'B00NSETNJE', 'B00NSETIXK', 'B00NSETD8A', 'B00NSETB7S', 'B00NSET3NA', 'B00NSET0N8', 'B00NS76420', 'B00NS73RVG', 'B00NR80DJU', 'B00NR6U9PU', 'B00NQR93UC', 'B00NQIBF70', 'B00NQCASJW', 'B00O5EL6EQ', 'B00O5ELFU6', 'B00O5ELJ66', 'B00OE6ZDHQ', 'B00OKA9F8O', 'B00OJZ0VHY', 'B00OJQA58I', 'B00OJQ9XTU', 'B00OJHI6KQ', 'B00OIRROSC', 'B00OIPQQYM', 'B00OHLMFAG', 'B00OH592RG', 'B00OGZVTZA', 'B00OF9NILU', 'B00OF7FK8Q', 'B00OF51CYY', 'B00OET2LBO', 'B00ODCF8YE', 'B00O5LGB94', 'B00OC7NFFY', 'B00OC6XT1U', 'B00OBV0KEU', 'B00OB7K46I', 'B00OA5OQIS', 'B00O9USLB2', 'B00O9UHGEA', 'B00O9TTXV0', 'B00O9TP6ES', 'B00O9S69BI', 'B00O6ZMD4Q', 'B00O6ER482', 'B00O64ED7C', 'B00O5OANYK', 'B00NQ9519M', 'B00NP8GYVS', 'B00NP80XMO', 'B00N4PJUFO', 'B00NARHNCS', 'B00NALMHLQ', 'B00N9VMCAI', 'B00N9CX0BM', 'B00N9CWS7E', 'B00N9CV8CA', 'B00N9CTABG', 'B00N99AKMW', 'B00N8PH6UG', 'B00N8O24WC', 'B00N8JCV48', 'B00N5U3554', 'B00N58RMB4', 'B00N4Z1V4C', 'B00N3TQ4QO', 'B00NB42FTG', 'B00N3NPFGK', 'B00N3EHW4C', 'B00N3B9C02', 'B00N30P8MO', 'B00N2QO5H8', 'B00N2AZVHW', 'B00N23EL5C', 'B00N1YQPJ2', 'B00N1YQMOA', 'B00N17OY06', 'B00N12WYUS', 'B00N12T370', 'B00N0EPZU8', 'B00N0EA3NC', 'B00NAVTVF6', 'B00NB8879O', 'B00NOYB0K8', 'B00NG54D4U', 'B00NOY9UGY', 'B00NOY93DO', 'B00NOT94O2', 'B00NOITK74', 'B00NO5B8WC', 'B00NNFF5FY', 'B00NN8OGFG', 'B00NMUUIRK', 'B00NKGAJYS', 'B00NKD1JYK', 'B00NJVS05E', 'B00NJTUCIE', 'B00NJSUJX8', 'B00NICSAVI', 'B00NG53AS0', 'B00NCCXLX6', 'B00NFZAINQ', 'B00NFQ4D9K', 'B00NF9L296', 'B00NF9L0IO', 'B00NF9L0HU', 'B00NF9L020', 'B00NF9KYUY', 'B00NF9KYKO', 'B00NF9KY68', 'B00NF61WMG', 'B00NEUDNVQ', 'B00NCWCTBG', 'B00NCEXTOA', 'B00NCEWTW8', 'B006K1SPNW', 'B004MNAYOI', 'B006JZPTYM', 'B000DT91OY', 'B000CSPNNE', 'B000CZ0RJ2', 'B000CZ0RJC', 'B000CZ0RK6', 'B000CZ0RKG', 'B000CZ0RL0', 'B000DZB8CQ', 'B000CPSGDG', 'B000DZEUSU', 'B000DZXTFK', 'B000DZXTG4', 'B000E0TVDI', 'B000E17J9U', 'B000E1DUQ6', 'B000CQ56XS', 'B000CPSGD6', 'B000E1P9N8', 'B000CDT4VQ', 'B000CCN152', 'B000CCN15M', 'B000CCS3UA', 'B000CD3QY2', 'B000CD3QYC', 'B000CD3QYM', 'B000CDUDQG', 'B000COEMV2', 'B000CF4RN4', 'B000CGB31W', 'B000CHJTG2', 'B000CHU3A8', 'B000CMU0S8', 'B000CN9MLS', 'B000E1P9MY', 'B000E1VOMI', 'B000ACGXFY', 'B000EEHJ24', 'B000EEHHVW', 'B000EEHI02', 'B000EEHI5C', 'B000EEHI7U', 'B000EEHI98', 'B000EEHIJI', 'B000EEHJS8', 'B000EEHGWW', 'B000EEHKL4', 'B000EEHL5Y', 'B000EEHLP4', 'B000EEHMDU', 'B000EEHMM6', 'B000EEHOJM', 'B000EEHHBW', 'B000EEHG6S', 'B000E2F3UQ', 'B000EEHAB4', 'B000E3FY0E', 'B000E3XAZU', 'B000E3ZDUA', 'B000E5CYPK', 'B000EEH9P6', 'B000EEHAA0', 'B000EEHATG', 'B000EEHFJG', 'B000EEHAY6', 'B000EEHBM2', 'B000EEHD0W', 'B000EEHD20', 'B000EEHD4I', 'B000EEHEYW', 'B000CCMWVG', 'B000CC5PC4', 'B000CC5PBU', 'B000B5L4E0', 'B000AXSFOK', 'B000AXW9QA', 'B000AYWSI8', 'B000B1E46Y', 'B000B1FEPO', 'B000B4597Y', 'B000B663JU', 'B000AXQHH2', 'B000B68WEE', 'B000B6AGCA', 'B000B6DHAI', 'B000B6DTY2', 'B000B6DU0K', 'B000B7EJJK', 'B000AXQHK4', 'B000AUV2ES', 'B000CBZY7G', 'B000AQHJQ2', 'B000AKO2WC', 'B000AKSUP2', 'B000AL39IE', 'B000ALK8R4', 'B000AN097Q', 'B000AQDSMQ', 'B000ARH3M6', 'B000ATSIJ6', 'B000ARHBN2', 'B000ARHGSC', 'B000AS7QJU', 'B000AS7R7G', 'B000ASEF4O', 'B000ATOFS4', 'B000BBDBF4', 'B000BBEQZ8', 'B000BBQPBG', 'B000BW78A2', 'B000BTKHCQ', 'B000BU5VLW', 'B000BUBHMY', 'B000BUGNNM', 'B000BUGO7W', 'B000BVN582', 'B000BW8WGG', 'B000BBRZ3S', 'B000BWBY2U', 'B000BWE4MC', 'B000BWE56W', 'B000BWI79I', 'B000BZG0C6', 'B000BZIYY8', 'B000BSMKPY', 'B000BSITGI', 'B000BQTCDO', 'B000BQTCC0', 'B000BOQYCS', 'B000BO8ZGQ', 'B000BNQ75S', 'B000BN6488', 'B000BMHLHC', 'B000BMFJ9Y', 'B000BKTC08', 'B000BJMHVA', 'B000BIQOOW', 'B000BHCUNM', 'B000BD31ZW', 'B000BCZ8YK', 'B000BBYSIS', 'B000EEI6QW', 'B000EEJ3KK', 'B000EEJ3S2', 'B000EVG7IO', 'B000EMLL84', 'B000EMLLFC', 'B000EMPR1G', 'B000EMPRVG', 'B000ETIXLA', 'B000ETOUAS', 'B000EVXKZC', 'B000EMB3HS', 'B000EW1LLG', 'B000EWAE0A', 'B000EY765E', 'B000F17HOQ', 'B000F2GMBY', 'B000F35SG8', 'B000EMJGFE', 'B000EJTXZU', 'B000EENFPE', 'B000EENLA8', 'B000EENH84', 'B000EENHAW', 'B000EENHJ8', 'B000EENJPA', 'B000EENK5O', 'B000EENL6C', 'B000EENLDU', 'B000EIK9GS', 'B000EENMKM', 'B000EEZPYS', 'B000EFOUJ8', 'B000EH4UHS', 'B000EHUYR8', 'B000EIE6WG', 'B000F3FQOW', 'B000F3FQP6', 'B000F3HAGY', 'B000FLHSAY', 'B000FJ1NWA', 'B000FJ9CFA', 'B000FKIO6M', 'B000FL571Q', 'B000FLFB30', 'B000FLH5N4', 'B000FLLUU8', 'B000F3HK78', 'B000FOGZF0', 'B000FP6XJ2', 'B000FP92IQ', 'B000FP94Z2', 'B000FPPZLE', 'B000FPQFKO', 'B000FIZISQ', 'B000FIP3G8', 'B000FG795I', 'B000FET3DG', 'B000FDU2UK', 'B000FCPIQY', 'B000FCCMGI', 'B000FCCM9U', 'B000FB6TV8', 'B000F9JCHS', 'B000F9J5GQ', 'B000F54O7K', 'B000F3QTNY', 'B000F3L61O', 'B000F3KTGM', 'B000F3KSOU', 'B000F3HK7I', 'B000EENH5W', 'B000EENFIG', 'B000EEJ4ZE', 'B000EEJECC', 'B000EEJBZC', 'B000EEJCQU', 'B000EEJDLE', 'B000EEJDNM', 'B000EEJE2M', 'B000EEJE4K', 'B000EEJEFO', 'B000EEJBGQ', 'B000EEJFN0', 'B000EEJFY4', 'B000EEJGK2', 'B000EEJGRK', 'B000EEJH8S', 'B000EEJI7S', 'B000EEJBHU', 'B000EEJB66', 'B000EENDII', 'B000EEJ8MS', 'B000EEJ5MG', 'B000EEJ5XK', 'B000EEJ5ZS', 'B000EEJ6C0', 'B000EEJ7NS', 'B000EEJ7Q0', 'B000EEJ8TQ', 'B000EEJAWQ', 'B000EEJ8VE', 'B000EEJ9AY', 'B000EEJ9P4', 'B000EEJ9UY', 'B000EEJAFS', 'B000EEJAVM', 'B000EEJJ5Y', 'B000EEL29U', 'B000EEL3S0', 'B000EELID0', 'B000EELF7O', 'B000EELFGU', 'B000EELFOM', 'B000EELG1Y', 'B000EELG82', 'B000EELGLY', 'B000EEN8EM', 'B000EEL43O', 'B000EEN8I8', 'B000EENA4U', 'B000EENAGS', 'B000EENAMC', 'B000EENB12', 'B000EENBQ2', 'B000EELDLM', 'B000EELCSQ', 'B000EELCB8', 'B000EELBQE', 'B000EELA3I', 'B000EELA0Q', 'B000EEL84Y', 'B000EEL7OA', 'B000EEL7B8', 'B000EEL6VO', 'B000EEL6PK', 'B000EEL6H8', 'B000EEL6CS', 'B000EEL5W4', 'B000EEL56A', 'B000EEL50Q', 'B000EEL4YI', 'B000AJKMBS', 'B000AC6DVS', 'B000FVCC4G', 'B0006OK30W', 'B0006IQNHA', 'B0006MON14', 'B0006NMUGI', 'B0006O2WFQ', 'B0006OCG20', 'B0006ODWUU', 'B0006ORDTG', 'B0006IQNES', 'B0006UGE9K', 'B0006UGEM2', 'B0006UGEOK', 'B0006UGEOU', 'B0006V6S5E', 'B0006V6SB8', 'B0006IQNFC', 'B0006IQNDO', 'B0006V95XQ', 'B0006GR4A2', 'B0006FL8PK', 'B0006GEYX2', 'B0006GQ57K', 'B0006GR3RQ', 'B0006GR3S0', 'B0006GR3SA', 'B0006GSEME', 'B0006IQND4', 'B0006I935Y', 'B0006IQLHM', 'B0006IQN34', 'B0006IQNBG', 'B0006IQNCK', 'B0006IQNCU', 'B0006V6SBS', 'B0006VP8HI', 'B000AAPRBW', 'B00074B67K', 'B0006ZSTI4', 'B0006ZUZOU', 'B0006ZXFZQ', 'B0006ZXG0A', 'B0006ZXG0K', 'B0006ZXVCI', 'B00074WFO8', 'B0006ZRMV4', 'B00076R384', 'B00076TH92', 'B00076UXA4', 'B00076W14U', 'B00076XOXM', 'B000788VSI', 'B0006ZST84', 'B0006ZRMUU', 'B0006VWY9I', 'B0006ZNA4W', 'B0006VWYB6', 'B0006VYYFU', 'B0006Z15VW', 'B0006Z4B68', 'B0006Z4B6I', 'B0006ZL2ZG', 'B0006ZNAZ6', 'B0006ZPAEU', 'B0006ZNBGE', 'B0006ZNBLY', 'B0006ZP91E', 'B0006ZP950', 'B0006ZPAAO', 'B0006ZPACC', 'B0006BFQUW', 'B0006BFQUM', 'B0006B05W6', 'B0002Z2CZO', 'B0002X6GU8', 'B0002XKZ0A', 'B0002XMH1A', 'B0002Y7LTW', 'B0002Z2C90', 'B0002Z2C9A', 'B0002Z2D0I', 'B0002VSRR0', 'B0002Z3N8O', 'B0002Z3N8Y', 'B0002ZGE44', 'B0002ZGENA', 'B0002ZO3NI', 'B0002ZO3O2', 'B0002VSRRA', 'B0002VSAUO', 'B0006AZN4W', 'B0002T54L4', 'B0002PZ3BY', 'B0002PZBNO', 'B0002PZG5C', 'B0002Q0V3S', 'B0002Q22E4', 'B0002QNDCO', 'B0002TJO92', 'B0002VRPE6', 'B0002TKIRY', 'B0002TKL9E', 'B0002TKLI0', 'B0002TTN3Y', 'B0002TXR9K', 'B0002VB8AS', 'B0002ZO5WM', 'B0002ZO5ZY', 'B0002ZO608', 'B00066UMPG', 'B00065Q1BQ', 'B00065VQN4', 'B000667682', 'B00066EJVO', 'B00066U2S8', 'B00066UML0', 'B00067JJ8Q', 'B0002ZPK4Y', 'B00067JJ9K', 'B00067JSFK', 'B00067JSMI', 'B00067R1R2', 'B00069FEZG', 'B0006A9M3K', 'B00065LM2E', 'B00064TZYW', 'B00064SYY4', 'B00064L1HG', 'B00064ABSG', 'B000637LVC', 'B000637LV2', 'B00062IIDI', 'B00062IH7A', 'B00062G0RE', 'B00061ZM2Y', 'B00061P832', 'B00030CLL8', 'B00030CGOK', 'B00030679K', 'B000300Y9O', 'B0002ZPLP2', 'B000788VUG', 'B00078NM3W', 'B000792SBS', 'B0009H76U6', 'B0009G0ELA', 'B0009G0EMO', 'B0009GH13Y', 'B0009GI65Q', 'B0009GI7NC', 'B0009GUOQA', 'B0009JPR8C', 'B0009FZWLS', 'B0009JR9YC', 'B0009K9MUA', 'B0009PL43I', 'B0009QTQ3M', 'B0009QX16K', 'B0009QYQCS', 'B0009FZWMW', 'B0009FUUOW', 'B0009A37XI', 'B0009EW1RM', 'B0009AL82A', 'B0009E6JZC', 'B0009E6RQS', 'B0009EG5II', 'B0009EQOHA', 'B0009EU01G', 'B0009EW2OY', 'B0009FUUOM', 'B0009FC928', 'B0009FC964', 'B0009FCD0G', 'B0009FUPJM', 'B0009FUTHU', 'B0009FUTNE', 'B0009R0A2C', 'B0009R3I8A', 'B0009R5NF6', 'B000A7E798', 'B000A3XEQY', 'B000A3ZCRS', 'B000A42R2U', 'B000A6AEVO', 'B000A6GTDQ', 'B000A7BWYG', 'B000A7PQIO', 'B0009RHAT8', 'B000A85JUS', 'B000A85JVM', 'B000A85JWG', 'B000A8J3N2', 'B000AAOU10', 'B000AAPNJI', 'B000A39X32', 'B000A39GUW', 'B000A39GUC', 'B000A15XIS', 'B000A0P0B4', 'B0009Y6B0U', 'B0009W0BDA', 'B0009V9WPO', 'B0009V9WCM', 'B0009V8430', 'B0009V458I', 'B0009V457O', 'B0009TD5X6', 'B0009SXWLC', 'B0009RP0CM', 'B0009RNMZ4', 'B0009RLDUU', 'B0009AJ2SC', 'B00099QVXM', 'B00079P7T8', 'B0007NKU3C', 'B0007L712C', 'B0007L8A5O', 'B0007L8AI6', 'B0007M424G', 'B0007M424Q', 'B0007M6A5K', 'B0007ORM0K', 'B0007KU9YA', 'B0007P34Z6', 'B0007P8KB4', 'B0007QKR28', 'B0007R2DEM', 'B0007R2E8W', 'B0007R2EAK', 'B0007KVR82', 'B0007KPI2S', 'B00097CJ76', 'B0007CXIJ6', 'B00079R5SE', 'B00079R5SO', 'B00079R5SY', 'B0007ACT9S', 'B0007ACTA2', 'B0007CXIG4', 'B0007CXINW', 'B0007IQUWM', 'B0007DA7S0', 'B0007DBMNY', 'B0007DBMO8', 'B0007G966G', 'B0007GDTX2', 'B0007GGUGA', 'B0007RA6LE', 'B0007SL856', 'B0007SL85G', 'B0007ZCHKE', 'B0007Y2D0O', 'B0007Y2ZSE', 'B0007Y3XHQ', 'B0007Y88GC', 'B0007YLXJQ', 'B0007Z7VSW', 'B00081MV94', 'B0007SL860', 'B0008F6O9I', 'B0008JHE84', 'B000931TKS', 'B000979TV0', 'B00097BLAC', 'B00097BMZ6', 'B0007Y2CYG', 'B0007Y0A72', 'B0007XRMO2', 'B0007XJWJK', 'B0007X90HY', 'B0007WQZGY', 'B0007WLWRQ', 'B0007WLWMG', 'B0007W21RG', 'B0007V5Z2A', 'B0007TYQ7W', 'B0007TYQ0E', 'B0007TYPZA', 'B0007TYPYQ', 'B0007TYPYG', 'B0007TYPY6', 'B0007SL86A', 'B000FUJ7KE', 'B000FYUVV4', 'B0002PYXA6', 'B000T4IJZU', 'B000T07FKY', 'B000T0A78G', 'B000T0A7EA', 'B000T0B5HS', 'B000T0CR9S', 'B000T4BC1I', 'B000T4JDKA', 'B000T03JDQ', 'B000T4KMUK', 'B000T4KZDO', 'B000T4LX4Y', 'B000T4OB6G', 'B000T4R4KQ', 'B000T4SI1K', 'B000T04DB8', 'B000T02VZI', 'B000T517Y4', 'B000SMPQDG', 'B000SI1NZK', 'B000SKMKEG', 'B000SKQD7G', 'B000SLP5M4', 'B000SLP5SS', 'B000SMEUD8', 'B000SMVH1G', 'B000SZVQ5K', 'B000SOYOTQ', 'B000SQC7UW', 'B000SSMJG2', 'B000SSQXV4', 'B000SSSUT2', 'B000SZUI6S', 'B000T50RSQ', 'B000T5MQV2', 'B000QDNS1Y', 'B000UGYYTW', 'B000UAPH5I', 'B000UC900Y', 'B000UF3SEA', 'B000UFJOEI', 'B000UFNNZO', 'B000UGBIFU', 'B000UH5V3E', 'B000U1UOP0', 'B000UJEGT2', 'B000UJHV4Y', 'B000UJLLE0', 'B000UMHIXK', 'B000UMJP04', 'B000UMLDA4', 'B000U1WQB0', 'B000U1RZ0W', 'B000T5PPQA', 'B000T9PE9E', 'B000T7SGDC', 'B000T9G86C', 'B000T9K8ZO', 'B000T9LML8', 'B000T9MZPA', 'B000T9NKEU', 'B000TAHFCC', 'B000U0OTW0', 'B000TGLYL4', 'B000TGSM6E', 'B000TNBFS4', 'B000TO8ND8', 'B000TZTPQ6', 'B000U0DU34', 'B000SHQ1QC', 'B000SBBYTW', 'B000SBBEGA', 'B000RTPBWQ', 'B000RN53EI', 'B000RO28J0', 'B000RO6C1K', 'B000RO6LY8', 'B000RPRBSW', 'B000RPWNS0', 'B000RVYOPO', 'B000RLI7BQ', 'B000RVYPQ2', 'B000RVYV20', 'B000RVZ3TA', 'B000RVZV4C', 'B000RVZXAO', 'B000RW04R0', 'B000RN3WZK', 'B000RLGRB8', 'B000SAGSRQ', 'B000R27VSK', 'B000QDPSQC', 'B000QDRQZI', 'B000QIVUF0', 'B000QPH1CO', 'B000QPHCB4', 'B000R0ARQU', 'B000R49SWK', 'B000RLF7HI', 'B000R4KX88', 'B000R4LQ70', 'B000REM56Q', 'B000RIGPNQ', 'B000RK0CZ6', 'B000RLF7GO', 'B000RW0560', 'B000RW06CS', 'B000RW077M', 'B000S5MVJK', 'B000RYUUD6', 'B000RYYM9E', 'B000RZPYZE', 'B000S1BFNC', 'B000S5JFZI', 'B000S5JGVG', 'B000S5MW6C', 'B000RW0FPQ', 'B000S5MW80', 'B000S5RZEQ', 'B000S5V510', 'B000S7268E', 'B000S95JT0', 'B000S9A34Q', 'B000RY91I6', 'B000RXXX6I', 'B000RXPQSQ', 'B000RXPN0W', 'B000RXN6XI', 'B000RXN6TM', 'B000RXN6SS', 'B000RWBPAU', 'B000RW5US8', 'B000RW4WSM', 'B000RW3K9O', 'B000RW2DLA', 'B000RW1NVG', 'B000RW1M1C', 'B000RW0QFU', 'B000RW0O02', 'B000RW0GT6', 'B000UP8S0Y', 'B000UPFXZ2', 'B000UQ3Q4G', 'B000WM8V9I', 'B000WEQVDY', 'B000WF1AMU', 'B000WIOGLO', 'B000WJ3NN0', 'B000WKW59C', 'B000WKW8GW', 'B000WMAOE8', 'B000WEATBY', 'B000WMCEKK', 'B000WME8C2', 'B000WOY5YQ', 'B000WTWXFE', 'B000WXD0XY', 'B000WY1JYU', 'B000WEH44Y', 'B000WEADEW', 'B000W348OO', 'B000WA4B1W', 'B000W5DAVO', 'B000W5MRW2', 'B000W72MDE', 'B000W77SC4', 'B000W89OP2', 'B000WA3DLG', 'B000WA8KYG', 'B000WE0E7S', 'B000WB511A', 'B000WBBJHA', 'B000WBP3QI', 'B000WCPE20', 'B000WDU4EM', 'B000WDVBRQ', 'B000WY3HPO', 'B000WYCS7M', 'B000WYEJPQ', 'B000XPNTXW', 'B000XPLY3Y', 'B000XPLYCU', 'B000XPNPZE', 'B000XPNQVM', 'B000XPNRVQ', 'B000XPNRWK', 'B000XPNWU2', 'B000WZKBGG', 'B000XPO0IU', 'B000XPO2R4', 'B000XPO3EG', 'B000XPO43G', 'B000XPPR2S', 'B000XPPT58', 'B000XPJT7C', 'B000XP0CMS', 'B000XNQCYM', 'B000XNLXNM', 'B000XIA0J0', 'B000XI6O2W', 'B000XHHKQM', 'B000XG18XY', 'B000XEFN1Y', 'B000X8CC2S', 'B000X7QKOK', 'B000X3LAR6', 'B000X2VNTW', 'B000X2T5EM', 'B000X1WD56', 'B000X1R0YU', 'B000X0BTEI', 'B000W4VR9M', 'B000W2YBNS', 'B000UUNS9U', 'B000VJZOKG', 'B000V8KLAA', 'B000VBC5CY', 'B000VC5QRY', 'B000VE49KW', 'B000VE65E0', 'B000VJTZSI', 'B000VJZOLK', 'B000V8AWF4', 'B000VMRECE', 'B000VNVX5C', 'B000VO1YSM', 'B000VO6DBU', 'B000VOBU9U', 'B000VPFO7S', 'B000V8GA46', 'B000V6GB24', 'B000W0EQ5S', 'B000UYTD5Y', 'B000UV8I7Q', 'B000UWI8FM', 'B000UXDETQ', 'B000UXIEPU', 'B000UXQG3W', 'B000UY9ODK', 'B000UZ4QY6', 'B000V6FY8Q', 'B000UZBR3O', 'B000V1S2X0', 'B000V1S33Y', 'B000V5VE40', 'B000V6767I', 'B000V6E01I', 'B000VPFOFK', 'B000VPHC5U', 'B000VPLI6O', 'B000VVW9JI', 'B000VTPR08', 'B000VTRXUK', 'B000VUHQFG', 'B000VUJWU8', 'B000VUNEZM', 'B000VVP7IS', 'B000VXF2I6', 'B000VPLI82', 'B000VXKUL0', 'B000VY7HTM', 'B000VY7HV0', 'B000VYDGZ6', 'B000VZ4HRG', 'B000W02786', 'B000VTPQWW', 'B000VTMSP0', 'B000VTM7MO', 'B000VTKLX6', 'B000VTIYTO', 'B000VTIT9O', 'B000VTIT7Q', 'B000VTHSP0', 'B000VTH1MU', 'B000VTGZA4', 'B000VTFQCM', 'B000VTDE6W', 'B000VSKPZG', 'B000VRG6L4', 'B000VR6HCM', 'B000VR1VE6', 'B000VPLI9G', 'B000QDPSQ2', 'B000QDLPHS', 'B000FZ1KF4', 'B000JKR86U', 'B000J5WB4E', 'B000JBY182', 'B000JC9D9I', 'B000JCH2T6', 'B000JCM33Q', 'B000JJJBMA', 'B000JKSQW0', 'B000J40GEW', 'B000JKVLE0', 'B000JKVMJ4', 'B000JLMXSC', 'B000JLU26W', 'B000JM46FY', 'B000JUXKR6', 'B000J5SYPY', 'B000J3L02U', 'B000K6682I', 'B000IGZJ16', 'B000HZGFMA', 'B000I1YLG0', 'B000I2215M', 'B000I23TO4', 'B000I23VG0', 'B000I5W7K8', 'B000IKSIOM', 'B000J36ETE', 'B000IO8XFM', 'B000IO9HAW', 'B000IOFO5E', 'B000IXNE3E', 'B000J03ARG', 'B000J0N5TY', 'B000K2O1ZI', 'B000K669EA', 'B000QDLOTM', 'B000KN0BYM', 'B000KIPT26', 'B000KIPTE4', 'B000KIPUQQ', 'B000KIRT38', 'B000KIVMEK', 'B000KIVMFE', 'B000KUA8EI', 'B000KHPJD6', 'B000KUA8GQ', 'B000KUBOBE', 'B000KUCQXY', 'B000KUENNU', 'B000KVZS2Y', 'B000KWBQYM', 'B000KI0YXU', 'B000KGW0CK', 'B000K669LS', 'B000K67YD0', 'B000K66A12', 'B000K67UCK', 'B000K67VG0', 'B000K67VNS', 'B000K67VRO', 'B000K67YC6', 'B000K69V6I', 'B000KFX0J8', 'B000K6B13Y', 'B000K6B29W', 'B000K6B44U', 'B000K6B59Y', 'B000K6CS40', 'B000K9JPB6', 'B000HZCG4G', 'B000HVIZEU', 'B000HT4RSA', 'B000GAXAGA', 'B000GASJF2', 'B000GATTLA', 'B000GATTM4', 'B000GAXAF6', 'B000GAXAFG', 'B000GAXAG0', 'B000GAYH4E', 'B000GASJEI', 'B000GBWN7Q', 'B000GDNXIW', 'B000GE7OE0', 'B000GEPC44', 'B000GFCYPS', 'B000GFPKAO', 'B000GASJES', 'B000GAQPN0', 'B000HQMS2U', 'B000G1KDIW', 'B000FZ27EM', 'B000FZZ0CI', 'B000G0J2K8', 'B000G13JR4', 'B000G16GZ6', 'B000G1E59U', 'B000G20YOO', 'B000GAOZVO', 'B000G3KNT4', 'B000G3MV1W', 'B000G85S8K', 'B000G8BAZ0', 'B000G8BD16', 'B000G8BD20', 'B000GFYTAQ', 'B000GG4AWM', 'B000GG4B0S', 'B000HAU1B6', 'B000H29I72', 'B000H2BCQ2', 'B000H2D814', 'B000H7GSMU', 'B000H98JXY', 'B000HA65W0', 'B000HG7GKY', 'B000GG4B1C', 'B000HG82AW', 'B000HG8978', 'B000HGJF8K', 'B000HGWTJ2', 'B000HHUHBI', 'B000HQ89P0', 'B000H28NRS', 'B000H28NQ4', 'B000H28LB6', 'B000H28JBS', 'B000H0425W', 'B000H01KMA', 'B000GZZOPA', 'B000GUBOYU', 'B000GT89NA', 'B000GT44C0', 'B000GSJYLM', 'B000GRO5QW', 'B000GRI3BU', 'B000GKZ1IU', 'B000GHRU00', 'B000GH01N8', 'B000GGV2DM', 'B000KY156E', 'B000KYMTIM', 'B000KYRRSY', 'B000P1G0VW', 'B000OY4WA6', 'B000OY4WBA', 'B000OY7UMS', 'B000OZWDI8', 'B000P0SSMM', 'B000P0WT0E', 'B000P1RB9C', 'B000OUUG78', 'B000P3RY3S', 'B000P3WCPS', 'B000P3YFTO', 'B000P40JQG', 'B000P5H55I', 'B000P5JULA', 'B000OY3Q9Y', 'B000OT8PAE', 'B000OLPNG6', 'B000OR5VV2', 'B000OR2DMM', 'B000OR2QA6', 'B000OR2T0I', 'B000OR58LU', 'B000OR591E', 'B000OR5928', 'B000OR6GYS', 'B000ORWFR0', 'B000OR6J40', 'B000OR6WJC', 'B000OR86WS', 'B000OR88JE', 'B000OR89H0', 'B000ORAGDA', 'B000P5LVNU', 'B000P5LVSK', 'B000P5LWWA', 'B000PTQCNK', 'B000PHLYNA', 'B000PHPJMM', 'B000PLZAE0', 'B000PNVHFY', 'B000PQX5WY', 'B000PR3JEM', 'B000PWU9CC', 'B000P5NXWW', 'B000Q847M8', 'B000Q87DAQ', 'B000Q8QAKA', 'B000QCNA72', 'B000QCON9Q', 'B000QDLKF0', 'B000PGMSZY', 'B000PFLKAY', 'B000P8DR6Q', 'B000P63U74', 'B000P63QHS', 'B000P61P30', 'B000P5ZRQC', 'B000P5ZQFY', 'B000P5WTQS', 'B000P5V2UM', 'B000P5RVRU', 'B000P5PKTG', 'B000P5OUE2', 'B000P5OUC4', 'B000P5OUBU', 'B000P5OU0G', 'B000P5OTA2', 'B000OQI2CI', 'B000OKH7I4', 'B000L01SRI', 'B000M3DZHA', 'B000LPWHSM', 'B000LQ0QJS', 'B000LQ29UC', 'B000LQ3COE', 'B000LXTKMK', 'B000M0TNC4', 'B000M3HST6', 'B000LPUTUA', 'B000MCKAT2', 'B000MCKAU6', 'B000MFK1VQ', 'B000MG5VBA', 'B000MJ40D2', 'B000MJ9EBA', 'B000LPUV8K', 'B000LPUSJM', 'B000OF3G34', 'B000LJ8GI8', 'B000L3FPUG', 'B000LBOTN2', 'B000LCRP14', 'B000LFCXL8', 'B000LGA2K6', 'B000LIEPDE', 'B000LNC0DQ', 'B000LPSODY', 'B000LP9L36', 'B000LPNS8A', 'B000LPNVLE', 'B000LPOSDY', 'B000LPOWTO', 'B000LPP6XU', 'B000ML4KT4', 'B000MO2QJM', 'B000MTRWWI', 'B000NTZOV8', 'B000NNX5P6', 'B000NRO79K', 'B000NT9SH4', 'B000NTEUWM', 'B000NTEVKS', 'B000NTYERS', 'B000NUXNWE', 'B000MWF2K4', 'B000NUYAI0', 'B000NW8JIU', 'B000O0ZCTK', 'B000O52BHQ', 'B000O56IC0', 'B000OD6NR2', 'B000NM2GJ8', 'B000NLRWEI', 'B000NKKHVE', 'B000NJY61C', 'B000NJY60S', 'B000NGVQSQ', 'B000NGG3HU', 'B000NFWB18', 'B000NE4UN6', 'B000NE3JZ6', 'B000NB2D7O', 'B000NAXCC0', 'B000N5T6IY', 'B000N5MK8M', 'B000N3458W', 'B000N27C8I', 'B000MWWT6E', 'B0002PZ3A0', 'B0002PCMP4', 'B006JVNTXO', 'B0002E1F9Y', 'B0002DVDII', 'B0002DVMZ2', 'B0002DWQNE', 'B0002DXGUQ', 'B0002DXQH4', 'B0002E1F6C', 'B0002E1G98', 'B0002DVCQ6', 'B0002E1HNI', 'B0002E1HZQ', 'B0002E1I0A', 'B0002E1I1O', 'B0002E1IKA', 'B0002E1MLA', 'B0002DVD7E', 'B0002DVCB6', 'B0002E1NK0', 'B0002DVASQ', 'B0002DV6J4', 'B0002DV6JO', 'B0002DV7OI', 'B0002DV7Z2', 'B0002DV87Y', 'B0002DV88I', 'B0002DVAX6', 'B0002DVCAM', 'B0002DVBD0', 'B0002DVBEE', 'B0002DVBEY', 'B0002DVBG2', 'B0002DVBJE', 'B0002DVBQW', 'B0002E1NF0', 'B0002E1NWS', 'B0002D0KG4', 'B0002E29M6', 'B0002E2688', 'B0002E26LK', 'B0002E28I6', 'B0002E28ZO', 'B0002E28ZY', 'B0002E291C', 'B0002E2ACK', 'B0002E1VYI', 'B0002E2C5A', 'B0002E2FOS', 'B0002E2FPW', 'B0002E2G2O', 'B0002E2G3S', 'B0002E2G7Y', 'B0002E1VYS', 'B0002E1VUW', 'B0002E1O4U', 'B0002E1P5S', 'B0002E1O6S', 'B0002E1O90', 'B0002E1P2Q', 'B0002E1P4E', 'B0002E1P4O', 'B0002E1P5I', 'B0002E1TAY', 'B0002E1VOI', 'B0002E1UBM', 'B0002E1UEO', 'B0002E1UNU', 'B0002E1URQ', 'B0002E1UTY', 'B0002E1V8Y', 'B0002DV5SG', 'B0002DV0G8', 'B0002DV0DG', 'B0002D0MQC', 'B0002D0MIK', 'B0002D0MIU', 'B0002D0MJO', 'B0002D0MJY', 'B0002D0MLM', 'B0002D0MOY', 'B0002D0N70', 'B0002D0MHQ', 'B0002D0N7A', 'B0002D0NRU', 'B0002D0O42', 'B0002D0O56', 'B0002D0O8I', 'B0002D0OPG', 'B0002D0MI0', 'B0002D0MHG', 'B0002DV0CW', 'B0002D0LO0', 'B0002D0L36', 'B0002D0LBI', 'B0002D0LCC', 'B0002D0LCM', 'B0002D0LM2', 'B0002D0LMW', 'B0002D0LOU', 'B0002D0MGC', 'B0002D0LP4', 'B0002D0LQI', 'B0002D0LYA', 'B0002D0LZ4', 'B0002D0M94', 'B0002D0MFI', 'B0002D0OTM', 'B0002D0OYW', 'B0002D0P0U', 'B0002DUVMW', 'B0002DUQ72', 'B0002DUQOU', 'B0002DURGW', 'B0002DURHG', 'B0002DUVD6', 'B0002DUVJ0', 'B0002DUVQI', 'B0002D0P1Y', 'B0002DUVU4', 'B0002DUVUO', 'B0002DUVWC', 'B0002DUVWM', 'B0002DUWWQ', 'B0002DV0CM', 'B0002DUQ3G', 'B0002DUQ2W', 'B0002DUQ0E', 'B0002DUPVY', 'B0002DNUWK', 'B0002DNUHK', 'B0002D15JU', 'B0002D0R76', 'B0002D0R5I', 'B0002D0QYK', 'B0002D0QF4', 'B0002D0QAE', 'B0002D0Q8Q', 'B0002D0Q7C', 'B0002D0PJ6', 'B0002D0P9G', 'B0002D0P32', 'B0002E2GNI', 'B0002E2GO2', 'B0002E2GP6', 'B0002E52AW', 'B0002E51FS', 'B0002E51NK', 'B0002E51UI', 'B0002E520C', 'B0002E528E', 'B0002E529S', 'B0002E52JI', 'B0002E516M', 'B0002E52OI', 'B0002E52RU', 'B0002E52VQ', 'B0002E53DS', 'B0002E53JW', 'B0002E53WY', 'B0002E51C6', 'B0002E50XG', 'B0002E3L8C', 'B0002E3N4Y', 'B0002E3LLO', 'B0002E3M0E', 'B0002E3M18', 'B0002E3MRW', 'B0002E3MXG', 'B0002E3N1M', 'B0002E4Y2E', 'B0002E50WC', 'B0002E4Y9C', 'B0002E4YH4', 'B0002E4Z9G', 'B0002E4ZIW', 'B0002E4ZJG', 'B0002E4ZQ4', 'B0002E54YQ', 'B0002E54ZU', 'B0002E550E', 'B0002EKBJO', 'B0002EJRD0', 'B0002EJS9S', 'B0002EJVL8', 'B0002EJVUY', 'B0002EK70W', 'B0002EKADG', 'B0002EKJVY', 'B0002E5518', 'B0002EKNDS', 'B0002EKNQ0', 'B0002F4MKM', 'B0002F4MKW', 'B0002F4ML6', 'B0002F4N4M', 'B0002E59B4', 'B0002E59AA', 'B0002E596E', 'B0002E583I', 'B0002E582O', 'B0002E57DY', 'B0002E57D4', 'B0002E56Q2', 'B0002E56MG', 'B0002E56LC', 'B0002E56IA', 'B0002E56H6', 'B0002E56EY', 'B0002E568K', 'B0002E55FO', 'B0002E558Q', 'B0002E551S', 'B0002E3LFU', 'B0002E3L50', 'B0002E2KJS', 'B0002E2WVY', 'B0002E2STK', 'B0002E2SW2', 'B0002E2T08', 'B0002E2TTO', 'B0002E2UC0', 'B0002E2VV0', 'B0002E2YEY', 'B0002E2S1S', 'B0002E2YWG', 'B0002E2YZS', 'B0002E2Z98', 'B0002E366Y', 'B0002E372M', 'B0002E3754', 'B0002E2SAO', 'B0002E2S1I', 'B0002E3KPQ', 'B0002E2MQE', 'B0002E2KMA', 'B0002E2KQG', 'B0002E2LWY', 'B0002E2LZG', 'B0002E2M32', 'B0002E2ML4', 'B0002E2N9K', 'B0002E2QSS', 'B0002E2NCM', 'B0002E2O2Q', 'B0002E2Q1K', 'B0002E2Q1U', 'B0002E2QBU', 'B0002E2QGA', 'B0002E37GS', 'B0002E37MM', 'B0002E37PY', 'B0002E3DNU', 'B0002E3D6W', 'B0002E3D9Y', 'B0002E3DAS', 'B0002E3DC6', 'B0002E3DLM', 'B0002E3DNK', 'B0002E3DRQ', 'B0002E37T0', 'B0002E3G82', 'B0002E3GEG', 'B0002E3GEQ', 'B0002E3GLY', 'B0002E3GV4', 'B0002E3GXC', 'B0002E3D62', 'B0002E3D12', 'B0002E3CX6', 'B0002E3CKY', 'B0002E3B7S', 'B0002E3B7I', 'B0002E3B6Y', 'B0002E3A8S', 'B0002E39C0', 'B0002E38WQ', 'B0002E38DU', 'B0002E38DK', 'B0002E38BW', 'B0002E38BM', 'B0002E384O', 'B0002E3830', 'B0002E382Q', 'B0002D0KR8', 'B0002D0KCS', 'B0002F4NII', 'B0002CZSZ8', 'B0002CZSEE', 'B0002CZSEY', 'B0002CZSKI', 'B0002CZSQW', 'B0002CZSRQ', 'B0002CZSUI', 'B0002CZSZI', 'B0002CZRTK', 'B0002CZT0C', 'B0002CZTHA', 'B0002CZTRA', 'B0002CZU1U', 'B0002CZU56', 'B0002CZU9C', 'B0002CZRTU', 'B0002CZRRC', 'B0002CZUD8', 'B0002BG4S4', 'B0002BG2BS', 'B0002BG2I6', 'B0002BG2R2', 'B0002BG2S6', 'B0002BG4I4', 'B0002BG4MA', 'B0002CYU9I', 'B0002CZRJ0', 'B0002CZPZG', 'B0002CZQKK', 'B0002CZQUK', 'B0002CZQZU', 'B0002CZR40', 'B0002CZR7W', 'B0002CZU9W', 'B0002CZUDS', 'B0002D0KCI', 'B0002CZWYU', 'B0002CZVUU', 'B0002CZVVY', 'B0002CZVWS', 'B0002CZVZK', 'B0002CZVZU', 'B0002CZWK4', 'B0002CZX5S', 'B0002CZVU0', 'B0002CZX62', 'B0002CZXLM', 'B0002CZXNU', 'B0002CZXOE', 'B0002CZXS0', 'B0002CZYHK', 'B0002CZVUA', 'B0002CZVS2', 'B0002CZUIS', 'B0002CZV64', 'B0002CZUK6', 'B0002CZUTM', 'B0002CZUTW', 'B0002CZUU6', 'B0002CZUUQ', 'B0002CZUV0', 'B0002CZV6O', 'B0002CZVKK', 'B0002CZV8C', 'B0002CZV8W', 'B0002CZVAK', 'B0002CZVG4', 'B0002CZVI2', 'B0002CZVKA', 'B0002BG2AY', 'B0002BG14G', 'B0002BBOOS', 'B00006JPD5', 'B00006HO3R', 'B00006HOLL', 'B00006I523', 'B00006I5SA', 'B00006I5SC', 'B00006J04Z', 'B00006LVF1', 'B000068OAY', 'B00006M0WJ', 'B0000775FY', 'B0000775FZ', 'B0000775G0', 'B000084T91', 'B00008B5DZ', 'B000068OEW', 'B000068OAT', 'B0002BBNCQ', 'B00004Y2UT', '1928571018', '9792372326', 'B00001W0DH', 'B00001W0DT', 'B00004TT3S', 'B00004UE29', 'B00004Y2V1', 'B000068NZB', 'B00004Y2V2', 'B000068NSS', 'B000068NSX', 'B000068NTC', 'B000068NUO', 'B000068NUQ', 'B000095SAO', 'B00009J580', 'B00009MK3A', 'B0001QHWM2', 'B00018CXV0', 'B0001FTVD6', 'B0001MHYLA', 'B0001MHYLK', 'B0001MHZKK', 'B0001MHZN2', 'B0001Z99R4', 'B00009W40G', 'B00021NWAC', 'B000246SKU', 'B00029HDT0', 'B0002A2RTU', 'B0002BACAA', 'B0002BACAK', 'B000189YD0', 'B000189NZY', 'B0000WSA4Q', 'B0000WS6V8', 'B0000WS6UY', 'B0000WS42Y', 'B0000WS0RI', 'B0000WR5EW', 'B0000WOEGY', 'B0000WODT2', 'B0000WODSS', 'B0000TP57E', 'B0000DD4ME', 'B0000CBILJ', 'B0000AJQ42', 'B00009X45L', 'B00009W5SC', 'B0002CZYUC', 'B0002CZYUM', 'B0002CZYY8', 'B0002D0DLQ', 'B0002D0CMG', 'B0002D0CNK', 'B0002D0CSA', 'B0002D0D52', 'B0002D0D7K', 'B0002D0D98', 'B0002D0DR0', 'B0002D0CCG', 'B0002D0DVQ', 'B0002D0DWA', 'B0002D0DX4', 'B0002D0EB0', 'B0002D0EBU', 'B0002D0EC4', 'B0002D0CLC', 'B0002D0C8U', 'B0002D0AO6', 'B0002D0BSQ', 'B0002D0B4U', 'B0002D0B54', 'B0002D0B5Y', 'B0002D0BPE', 'B0002D0BQ8', 'B0002D0BRW', 'B0002D0BTU', 'B0002D0C5I', 'B0002D0BZY', 'B0002D0C08', 'B0002D0C12', 'B0002D0C1W', 'B0002D0C26', 'B0002D0C2G', 'B0002D0EJC', 'B0002D0EJW', 'B0002D0EK6', 'B0002D0J6K', 'B0002D0HXA', 'B0002D0HZI', 'B0002D0I0C', 'B0002D0IK2', 'B0002D0IKC', 'B0002D0J4C', 'B0002D0JEW', 'B0002D0ELA', 'B0002D0JIS', 'B0002D0JR4', 'B0002D0JXI', 'B0002D0JZ6', 'B0002D0JZQ', 'B0002D0K9Q', 'B0002D0HW6', 'B0002D0HO4', 'B0002D0HNK', 'B0002D0HGW', 'B0002D0HCQ', 'B0002D0H9O', 'B0002D0H80', 'B0002D0GU4', 'B0002D0GFY', 'B0002D0FXW', 'B0002D0FL4', 'B0002D0FHS', 'B0002D0FD2', 'B0002D0EN8', 'B0002D0EMO', 'B0002D0EM4', 'B0002D0ELU', 'B0002D0APA', 'B0002D0ALY', 'B0002CZYYS', 'B0002D01JK', 'B0002D00TG', 'B0002D014K', 'B0002D01EA', 'B0002D01IG', 'B0002D01IQ', 'B0002D01JA', 'B0002D01JU', 'B0002D00QE', 'B0002D01Q8', 'B0002D023K', 'B0002D0244', 'B0002D02BM', 'B0002D02IU', 'B0002D02MG', 'B0002D00QO', 'B0002D00HS', 'B0002D0ACS', 'B0002CZZNI', 'B0002CZZ38', 'B0002CZZ60', 'B0002CZZ7O', 'B0002CZZDS', 'B0002CZZJ2', 'B0002CZZLU', 'B0002CZZV0', 'B0002D00H8', 'B0002CZZW4', 'B0002D0096', 'B0002D00B4', 'B0002D00BE', 'B0002D00BO', 'B0002D00F0', 'B0002D02NA', 'B0002D02NK', 'B0002D03AW', 'B0002D087A', 'B0002D06GI', 'B0002D06IG', 'B0002D0708', 'B0002D072Q', 'B0002D082K', 'B0002D0870', 'B0002D08C0', 'B0002D03G6', 'B0002D08KM', 'B0002D08OI', 'B0002D08OS', 'B0002D08UW', 'B0002D09MY', 'B0002D0AB4', 'B0002D06EK', 'B0002D06DQ', 'B0002D05X2', 'B0002D05WS', 'B0002D05V4', 'B0002D05T6', 'B0002D05RS', 'B0002D05QY', 'B0002D05Q4', 'B0002D05KA', 'B0002D05FU', 'B0002D050U', 'B0002D0500', 'B0002D04Z6', 'B0002D04YC', 'B0002D03ZC', 'B0002D03X4', 'B0002F4NB0', 'B0002F4NMY', 'B0002OSCPO', 'B0002H0LDW', 'B0002H09OI', 'B0002H0BZU', 'B0002H0GF0', 'B0002H0GUA', 'B0002H0H68', 'B0002H0KG0', 'B0002H0LQO', 'B0002H07CW', 'B0002H0MQS', 'B0002H0N26', 'B0002H0NOE', 'B0002H0NSU', 'B0002H0POC', 'B0002H0RBS', 'B0002H07FY', 'B0002H06X2', 'B0002H0RFY', 'B0002H00NS', 'B0002GZUG6', 'B0002GZUTI', 'B0002GZV56', 'B0002GZV9M', 'B0002GZWZ0', 'B0002GZWZU', 'B0002H013W', 'B0002H06L4', 'B0002H02I6', 'B0002H02IG', 'B0002H03I0', 'B0002H05C4', 'B0002H06K0', 'B0002H06KK', 'B0002H0RCC', 'B0002H0RG8', 'B0002GOE5Y', 'B0002IHFI0', 'B0002I9MPO', 'B0002I9PH4', 'B0002I9R90', 'B0002IHDYG', 'B0002IHFGW', 'B0002IHFHQ', 'B0002IHFJ4', 'B0002I7328', 'B0002IHGAC', 'B0002IHGXY', 'B0002IHGY8', 'B0002IHGZ2', 'B0002II66U', 'B0002II67E', 'B0002I73PU', 'B0002I6L3A', 'B0002H0RN6', 'B0002H0SAI', 'B0002H0RS6', 'B0002H0RUY', 'B0002H0RXQ', 'B0002H0S4O', 'B0002H0S80', 'B0002H0S9E', 'B0002H0SKS', 'B0002HU8I0', 'B0002H0SSK', 'B0002H0SYE', 'B0002HLL8Q', 'B0002HU87G', 'B0002HU8G2', 'B0002HU8GM', 'B0002GZT1C', 'B0002GZT0S', 'B0002GZSXG', 'B0002GXB62', 'B0002GWXKC', 'B0002GX6TE', 'B0002GX6V2', 'B0002GX6XU', 'B0002GX74S', 'B0002GX8PQ', 'B0002GXHRA', 'B0002GWVEU', 'B0002GXIX8', 'B0002GXQ2Q', 'B0002GXV3A', 'B0002GXW5W', 'B0002GY0Z8', 'B0002GY10M', 'B0002GWW8A', 'B0002GWRIK', 'B0002GZSWW', 'B0002GWFFA', 'B0002GU0W0', 'B0002GU47G', 'B0002GU4VM', 'B0002GUC14', 'B0002GVEKW', 'B0002GWFEQ', 'B0002GWK5U', 'B0002GWRHQ', 'B0002GWMWG', 'B0002GWNMU', 'B0002GWNNE', 'B0002GWNNY', 'B0002GWPRS', 'B0002GWQ90', 'B0002GY6UM', 'B0002GY7E2', 'B0002GY86Y', 'B0002GZQEM', 'B0002GZK02', 'B0002GZLY2', 'B0002GZMYG', 'B0002GZNQI', 'B0002GZNQS', 'B0002GZQ2Y', 'B0002GZQG0', 'B0002GY89G', 'B0002GZQGU', 'B0002GZSI6', 'B0002GZSKY', 'B0002GZSMW', 'B0002GZSNQ', 'B0002GZSR2', 'B0002GZIWC', 'B0002GZCSM', 'B0002GZBLU', 'B0002GZ8ZY', 'B0002GYYI6', 'B0002GYYFO', 'B0002GYYEA', 'B0002GYYDQ', 'B0002GYYDG', 'B0002GYYD6', 'B0002GYYCW', 'B0002GYY5O', 'B0002GYX50', 'B0002GYW4C', 'B0002GYSNC', 'B0002GYHZQ', 'B0002GY9Y0', 'B0002II6LK', 'B0002II728', 'B0002II72S', 'B0002MJCLO', 'B0002M6AIC', 'B0002M6B36', 'B0002M6SAM', 'B0002M71VC', 'B0002M728O', 'B0002M72JS', 'B0002MJTYY', 'B0002M3OUY', 'B0002MRCLQ', 'B0002MS7NI', 'B0002MS7NS', 'B0002MS7O2', 'B0002MSKWG', 'B0002MSPFI', 'B0002M6A7I', 'B0002M3OUO', 'B0002KZJB8', 'B0002KZW9W', 'B0002KZK4O', 'B0002KZQ34', 'B0002KZQ8E', 'B0002KZQFC', 'B0002KZRXS', 'B0002KZTN6', 'B0002L03RM', 'B0002M2U2C', 'B0002L03TA', 'B0002L51D8', 'B0002L51QU', 'B0002L52QY', 'B0002L537W', 'B0002LD2WK', 'B0002MSRFG', 'B0002MSSUK', 'B0002MSTCW', 'B0002OPGDK', 'B0002OP7UC', 'B0002OP82O', 'B0002OP87E', 'B0002OPGC6', 'B0002OPGD0', 'B0002OPGDA', 'B0002OPGEO', 'B0002MT6RY', 'B0002ORPBG', 'B0002ORPLG', 'B0002ORPN4', 'B0002ORPP2', 'B0002ORPU2', 'B0002OS9FC', 'B0002OOVOU', 'B0002OON4S', 'B0002OON48', 'B0002OMOIU', 'B0002OMLTC', 'B0002OKGNK', 'B0002OJPE6', 'B0002ODPDI', 'B0002NRTL8', 'B0002NRFIK', 'B0002NQSB0', 'B0002NQQCQ', 'B0002NQPHM', 'B0002NN3FY', 'B0002NIPW0', 'B0002NIMA0', 'B0002NIADE', 'B0002KZJH2', 'B0002KZIW8', 'B0002II7H8', 'B0002KR1C8', 'B0002JEUXM', 'B0002JKOZA', 'B0002JKXJW', 'B0002JL2D8', 'B0002JL36O', 'B0002KMTLG', 'B0002KX5E6', 'B0002J6IM8', 'B0002KYTAA', 'B0002KZ6LQ', 'B0002KZAM6', 'B0002KZB0W', 'B0002KZDD2', 'B0002KZDG4', 'B0002J92RQ', 'B0002J6GL6', 'B0002KZIV4', 'B0002IL4B4', 'B0002II8A4', 'B0002II98A', 'B0002IJD76', 'B0002IJEES', 'B0002IL3G0', 'B0002IL48M', 'B0002IL4TG', 'B0002J4JTW', 'B0002IL5V8', 'B0002IP47Y', 'B0002IP49M', 'B0002IP4AG', 'B0002IP4B0', 'B0002J4IXY', 'B0002KZDKA', 'B0002KZDKU', 'B0002KZDLE', 'B0002KZHQA', 'B0002KZFYE', 'B0002KZG02', 'B0002KZH9C', 'B0002KZHBU', 'B0002KZHF6', 'B0002KZHP6', 'B0002KZHRO', 'B0002KZDM8', 'B0002KZHTC', 'B0002KZIMI', 'B0002KZINM', 'B0002KZIT6', 'B0002KZITQ', 'B0002KZIU0', 'B0002KZFXU', 'B0002KZF8U', 'B0002KZF7Q', 'B0002KZF76', 'B0002KZF4Y', 'B0002KZERW', 'B0002KZEQS', 'B0002KZEOU', 'B0002KZEMC', 'B0002KZELI', 'B0002KZEK4', 'B0002KZEAE', 'B0002KZE9U', 'B0002KZE9A', 'B0002KZE8G', 'B0002KZE7M', 'B0002KZE5Y', 'B0002GU0S4', 'B0002GODY6', 'B0002F4TCI', 'B0002F6JFS', 'B0002F5HE2', 'B0002F5HVA', 'B0002F5IW8', 'B0002F6HXW', 'B0002F6I3G', 'B0002F6J4E', 'B0002F6JGW', 'B0002F5GZW', 'B0002F6JH6', 'B0002F6JHG', 'B0002F6K52', 'B0002F6NH2', 'B0002F6NJA', 'B0002F6PHU', 'B0002F5HBK', 'B0002F5GYS', 'B0002F6PKM', 'B0002F5D8M', 'B0002F5ANK', 'B0002F5BFC', 'B0002F5BG6', 'B0002F5BXE', 'B0002F5C7O', 'B0002F5CQK', 'B0002F5DGE', 'B0002F5GXO', 'B0002F5EPO', 'B0002F5F44', 'B0002F5F6M', 'B0002F5F9O', 'B0002F5FFS', 'B0002F5G66', 'B0002F6PJ8', 'B0002F6PKW', 'B0002GODLO', 'B0002F73KI', 'B0002F71BO', 'B0002F71CS', 'B0002F71OG', 'B0002F71PK', 'B0002F7290', 'B0002F729A', 'B0002F742A', 'B0002F704W', 'B0002F747K', 'B0002F748E', 'B0002F74CU', 'B0002F74IE', 'B0002F75EM', 'B0002F75K6', 'B0002F714G', 'B0002F6ZJS', 'B0002F6SEU', 'B0002F6U2A', 'B0002F6SF4', 'B0002F6SGI', 'B0002F6SH2', 'B0002F6SHC', 'B0002F6SHM', 'B0002F6SI6', 'B0002F6UA2', 'B0002F6XL8', 'B0002F6VU6', 'B0002F6VZQ', 'B0002F6W78', 'B0002F6WD2', 'B0002F6WO6', 'B0002F6WR8', 'B0002F5ABC', 'B0002F59ZY', 'B0002F59WC', 'B0002F4Y96', 'B0002F4VTY', 'B0002F4WC0', 'B0002F4WD4', 'B0002F4WFM', 'B0002F4Y78', 'B0002F4Y8W', 'B0002F4YDC', 'B0002F4VNU', 'B0002F4YF0', 'B0002F4YGY', 'B0002F4YH8', 'B0002F4YQY', 'B0002F4YRS', 'B0002F4ZMC', 'B0002F4VTE', 'B0002F4VIU', 'B0002F59SQ', 'B0002F4TN2', 'B0002F4TF0', 'B0002F4TJ6', 'B0002F4TJG', 'B0002F4TJQ', 'B0002F4TKA', 'B0002F4TKU', 'B0002F4UG8', 'B0002F4VIK', 'B0002F4V5S', 'B0002F4V8K', 'B0002F4VBM', 'B0002F4VC6', 'B0002F4VDK', 'B0002F4VGC', 'B0002F4ZMW', 'B0002F4ZN6', 'B0002F4ZTU', 'B0002F58NC', 'B0002F557Q', 'B0002F5580', 'B0002F56MA', 'B0002F57WY', 'B0002F57XS', 'B0002F585K', 'B0002F58SM', 'B0002F50VW', 'B0002F58T6', 'B0002F58UA', 'B0002F5918', 'B0002F594K', 'B0002F59F4', 'B0002F59LI', 'B0002F5562', 'B0002F5490', 'B0002F5472', 'B0002F53LE', 'B0002F52U6', 'B0002F52TW', 'B0002F52AG', 'B0002F5288', 'B0002F527O', 'B0002F51XE', 'B0002F51X4', 'B0002F51WK', 'B0002F51WA', 'B0002F51L6', 'B0002F51HK', 'B0002F51DO', 'B0002F5152', 'B0002F75LA', 'B0002F75LU', 'B0002F75TW', 'B0002GJ2J2', 'B0002GIRAC', 'B0002GISE2', 'B0002GIUY0', 'B0002GIVF8', 'B0002GIW3Y', 'B0002GIWES', 'B0002GJ2T2', 'B0002GH8LQ', 'B0002GJ3E6', 'B0002GJEO0', 'B0002GJI3C', 'B0002GJILE', 'B0002GJJDQ', 'B0002GJKGC', 'B0002GIKF4', 'B0002GGN58', 'B0002FP1DY', 'B0002GFP66', 'B0002FP1Z2', 'B0002FP364', 'B0002GFMMI', 'B0002GFMNM', 'B0002GFNC2', 'B0002GFOEY', 'B0002GFPA2', 'B0002GFTJO', 'B0002GFPAM', 'B0002GFQ10', 'B0002GFQ2O', 'B0002GFRBE', 'B0002GFTIU', 'B0002GFTJE', 'B0002GJNGE', 'B0002GJNNC', 'B0002GJR10', 'B0002GNYUU', 'B0002GMGW2', 'B0002GMJH4', 'B0002GNSUQ', 'B0002GNT0U', 'B0002GNUYU', 'B0002GNYSM', 'B0002GNZD6', 'B0002GJRYC', 'B0002GO1QQ', 'B0002GO4ZY', 'B0002GO50I', 'B0002GO512', 'B0002GO8QY', 'B0002GO9MC', 'B0002GMFOQ', 'B0002GLMPE', 'B0002GLMAY', 'B0002GLM90', 'B0002GLHMM', 'B0002GLCKE', 'B0002GLBKK', 'B0002GL7ZO', 'B0002GL2Z4', 'B0002GL2YK', 'B0002GL0LA', 'B0002GKYZI', 'B0002GJVOI', 'B0002GJUIU', 'B0002GJTOK', 'B0002GJT68', 'B0002GJT40', 'B0002FP1LG', 'B0002FP04E', 'B0002F75VA', 'B0002F7A1A', 'B0002F78QW', 'B0002F797K', 'B0002F79CU', 'B0002F79E8', 'B0002F79KW', 'B0002F79YS', 'B0002F7ABA', 'B0002F78P8', 'B0002F7AFG', 'B0002F7AR4', 'B0002F7BAA', 'B0002F7C6I', 'B0002F7ENY', 'B0002F7GPK', 'B0002F78QC', 'B0002F78NK', 'B0002FOZCM', 'B0002F77OK', 'B0002F76QY', 'B0002F76T6', 'B0002F7722', 'B0002F772C', 'B0002F77L8', 'B0002F77LI', 'B0002F77OU', 'B0002F788U', 'B0002F77PE', 'B0002F77PO', 'B0002F77PY', 'B0002F77Z4', 'B0002F783A', 'B0002F787G', 'B0002F7GSW', 'B0002F7GT6', 'B0002F7IQ2', 'B0002FOD74', 'B0002FO8CY', 'B0002FO8E2', 'B0002FO8M4', 'B0002FO9QY', 'B0002FOAB8', 'B0002FOBOY', 'B0002FOHTI', 'B0002F7IV2', 'B0002FOHWA', 'B0002FOIO2', 'B0002FOLPI', 'B0002FONX8', 'B0002FONXS', 'B0002FONYM', 'B0002FO8BK', 'B0002FO7LQ', 'B0002FO5BI', 'B0002FO57C', 'B0002FO3LU', 'B0002FO2IO', 'B0002FDKIW', 'B0002F7ME0', 'B0002F7L28', 'B0002F7L0K', 'B0002F7KK6', 'B0002F7KJM', 'B0002F7KG0', 'B0002F7JGG', 'B0002F7J98', 'B0002F7J3O', 'B0002F7IVW', 'B000XPPW6E', 'B000XPPWEG', 'B000XPQ1YG', 'B0041T4DK4', 'B00403NKA0', 'B00404LL64', 'B00407ZR66', 'B0040CDQVO', 'B0040YZEJ4', 'B0040ZNMNI', 'B0041T4DM2', 'B003ZWETMU', 'B0041T53KI', 'B0042EZH6W', 'B0042F1L4S', 'B0042GBDLI', 'B0043517PA', 'B00436L05Q', 'B004038MYE', 'B003ZVVSHK', 'B0043C599S', 'B003YU6NYU', 'B003Y569DA', 'B003Y5BVN8', 'B003YIXJTE', 'B003YKSKBE', 'B003YOT0BO', 'B003YU4J2I', 'B003YU8NY8', 'B003ZVBO8I', 'B003YUCU7O', 'B003ZCP9RO', 'B003ZJLNIQ', 'B003ZU1ARE', 'B003ZU43XC', 'B003ZUEQLG', 'B00436OLUC', 'B0043E9DMK', 'B003MB7156', 'B0045EP4XA', 'B0044UANVI', 'B0044ZKN54', 'B004500966', 'B004508LA2', 'B00450BX2U', 'B00452V2SI', 'B0045EP4XU', 'B0044COBIW', 'B0045I3JLK', 'B0045N5B2A', 'B0045N780I', 'B00460AIY8', 'B0046LGQV6', 'B0046LNZV0', 'B0044R1M0M', 'B00449H53S', 'B0043FGEIU', 'B0043NUP7I', 'B0043IDZ02', 'B0043NO2WM', 'B0043NP280', 'B0043NP2P8', 'B0043NQVFS', 'B0043NQVJY', 'B0043RZ9QQ', 'B0043X72QK', 'B0043UKJ4K', 'B0043USE9M', 'B0043UVY30', 'B0043WF8PI', 'B0043WJJ2G', 'B0043WKRIG', 'B003Y4JD0M', 'B003XNTQWO', 'B003XLR2FY', 'B003R9PCVI', 'B003R3R06E', 'B003R6WRY6', 'B003R71KX4', 'B003R7KU4E', 'B003R7KUHG', 'B003R7KUOO', 'B003RG0T0A', 'B003QTM9O2', 'B003RPK4BK', 'B003RQH5OI', 'B003S7LTI4', 'B003S7T49K', 'B003SNXH1A', 'B003SO5OZQ', 'B003R2BW9Q', 'B003QIHMN6', 'B003XKOK0K', 'B003N7BCFE', 'B003MLBEW2', 'B003MLFCMA', 'B003MNO5GM', 'B003MQN9M0', 'B003MW6JW6', 'B003MWWX80', 'B003NWYRLU', 'B003P2V9OG', 'B003O2G9FQ', 'B003O4GRMY', 'B003OFQBKQ', 'B003OSXND6', 'B003OXKO10', 'B003OYOXJI', 'B003SP184G', 'B003SQGSPY', 'B003SQK1HK', 'B003WUHW7O', 'B003UYY05O', 'B003V5WI24', 'B003V8WC54', 'B003VTQBR8', 'B003VYBNIU', 'B003WRG9SK', 'B003WY23EW', 'B003SRHFIW', 'B003WZQ69O', 'B003WZS2KU', 'B003XDQXGQ', 'B003XJ6GC6', 'B003XJLLCQ', 'B003XKFHFM', 'B003USFXOM', 'B003USDT1G', 'B003UNCENK', 'B003UI49CO', 'B003U4RXTY', 'B003U3GBK2', 'B003U0MQYU', 'B003TU9CL6', 'B003TU0VNY', 'B003TSEFLA', 'B003TO6C6K', 'B003TNM67A', 'B003TLY9HM', 'B003TLSN74', 'B003TIV8A6', 'B003THDD2S', 'B003T74O8K', 'B0046VXQQE', 'B00474PAAK', 'B0047B4WB6', 'B004IP5VNO', 'B004I903OM', 'B004I928J0', 'B004ID01FE', 'B004IEBTIQ', 'B004INAVEU', 'B004INGEB4', 'B004IQEWKG', 'B004I6ZGWO', 'B004ISK48S', 'B004ISK49C', 'B004ISK4B0', 'B004ISLGKS', 'B004IYSRB8', 'B004J22WLK', 'B004I6ZUU2', 'B004I1DOGE', 'B004EGRWZM', 'B004GNUAO8', 'B004FEF55M', 'B004FEH79O', 'B004FFAPEW', 'B004FPEGT2', 'B004GBYIXE', 'B004GCOS9W', 'B004GTJHBY', 'B004HZGR5Q', 'B004GYM7IE', 'B004H4BO4Q', 'B004H4DNQS', 'B004H6PC4M', 'B004HJ9COU', 'B004HNXZ6M', 'B004J24YZ2', 'B004J25XX4', 'B004J27QXY', 'B004LRZC6A', 'B004L9P9MA', 'B004LBAGNA', 'B004LG72W8', 'B004LG93KC', 'B004LLV04E', 'B004LRP562', 'B004LU9HEA', 'B004J96JTO', 'B004LWH79A', 'B004LY1R2Q', 'B004LYGAA0', 'B004LYKMWC', 'B004LZ57LC', 'B004LZ57LW', 'B004L9IJP4', 'B004L7KJQI', 'B004L7I6WM', 'B004L7EXG0', 'B004L08FDY', 'B004L06ZCM', 'B004KSKUA8', 'B004KNTU72', 'B004KJJ0ZS', 'B004KE2D84', 'B004KCNJR0', 'B004K9VUZQ', 'B004K9RT8I', 'B004K1UKH8', 'B004JPPO94', 'B004JJ6ME6', 'B004J9AKMQ', 'B004FEF54S', 'B004EF86QM', 'B0047CF6EW', 'B004AOI7FC', 'B004A15AZA', 'B004A15B0O', 'B004A4PSEU', 'B004A8ZNC8', 'B004A908TK', 'B004AE3W8E', 'B004ARZPN6', 'B0049T1NVS', 'B004B42EQY', 'B004B46J5Q', 'B004B46JM4', 'B004B4902K', 'B004B4B11I', 'B004B4D4TU', 'B0049Z4UQ2', 'B0049S9FVE', 'B004EDZ4SM', 'B004988JLG', 'B0047D31FM', 'B0047DWT3M', 'B0047JP1D6', 'B0047V9MIE', 'B0047YYT9S', 'B0048072SG', 'B00499G85Y', 'B0049S1AJY', 'B0049B3G1Q', 'B0049B3Z5S', 'B0049BQURS', 'B0049BUX6M', 'B0049P5U7A', 'B0049QHY1Y', 'B004B4S6HA', 'B004BA83ZO', 'B004BILXNA', 'B004DR3MTM', 'B004D97TQC', 'B004DAM4CK', 'B004DMX5O4', 'B004DN5ZJQ', 'B004DNV9MS', 'B004DOXJU2', 'B004DR5E9I', 'B004BR20OM', 'B004DR5EMK', 'B004E2DTD0', 'B004E4LU0W', 'B004E58IL0', 'B004E8DN30', 'B004EBR5VI', 'B004D8KX7K', 'B004D3DEL2', 'B004D1ZBZQ', 'B004D1FHYG', 'B004D1FHMS', 'B004D18ILK', 'B004D18I7Y', 'B004D15AKM', 'B004CZF78E', 'B004CYEPD8', 'B004CYEPBK', 'B004CUQD8M', 'B004CNUZ9M', 'B004CNJ2E6', 'B004CG2V28', 'B004C4UQZE', 'B004BU24N6', 'B003ML6LW0', 'B003LWD6JQ', 'B004M16VBU', 'B002VYJDYW', 'B002VJBNBI', 'B002VJOIII', 'B002VKAUR0', 'B002VRCUQ2', 'B002VRXR9G', 'B002VX0DCE', 'B002W0Z8DU', 'B002UXS4JO', 'B002WJHFXC', 'B002WLIY4O', 'B002XUCZI0', 'B002XZOZ7O', 'B002YOJF4W', 'B002YWHIIE', 'B002VIPUVS', 'B002UXFV40', 'B002ZSE9ES', 'B002SQJL9U', 'B002QZ402Q', 'B002R02CTI', 'B002R9ILOY', 'B002RC9QOK', 'B002S1I164', 'B002S54DF8', 'B002SSA79G', 'B002URT2BY', 'B002SSUR3C', 'B002SW35KA', 'B002TQSQOA', 'B002U7JGVA', 'B002UK5EDG', 'B002UR1C6C', 'B002Z88RJ6', 'B00302HH5G', 'B003LTRPZA', 'B0036LA8I4', 'B00365FIXA', 'B00365FJ52', 'B0036B8A2K', 'B0036BN66A', 'B0036FUJRU', 'B0036JGMZ4', 'B0036TGVE6', 'B0035K9WTC', 'B0036UTTBC', 'B0037BS73Q', 'B0037G7AGG', 'B0037GRGGU', 'B0037M62Y6', 'B0037MA738', 'B0035LCFRM', 'B0035JCJUM', 'B00302R9M2', 'B00321M84K', 'B0030CIEYY', 'B0030FZ6V0', 'B0030UP5UM', 'B0030US0M2', 'B0030YD3IY', 'B0031XRLRI', 'B0032TN7DS', 'B0035HIL0G', 'B0033AI4KW', 'B0033PSGSW', 'B0033PSLSM', 'B00346F8NG', 'B003552MFI', 'B0035CI7GE', 'B002QXLJ6S', 'B002QGU4QG', 'B002Q7FWZ8', 'B002IIY3M8', 'B002HHLO18', 'B002HHM3AY', 'B002HM0JMS', 'B002HMRBII', 'B002HQQ02W', 'B002IC1D4U', 'B002IJJVFG', 'B002HFFUGK', 'B002IKLITW', 'B002ISDD1K', 'B002J0KEYQ', 'B002J0KEZA', 'B002JCSP40', 'B002JR2XMA', 'B002HHLNXC', 'B002HFFIIK', 'B002Q0WU3W', 'B002GRBA2M', 'B002EWV7Q8', 'B002FL2L1I', 'B002FOFWA2', 'B002G22AV2', 'B002GHBZ54', 'B002GIHRMI', 'B002GUED8M', 'B002HFEB3I', 'B002GYWBJG', 'B002GYWBK0', 'B002GYWBKK', 'B002HF483G', 'B002HFAAVA', 'B002HFC6P8', 'B002KG9LX4', 'B002KGT81E', 'B002KI8X40', 'B002ONMWUM', 'B002NM7KKQ', 'B002NTSS8W', 'B002NTWV9E', 'B002NUC09O', 'B002OLYPAO', 'B002ONLW8A', 'B002PD6T6O', 'B002KLEGJ8', 'B002PEBB48', 'B002PEGZ1C', 'B002Q0WSMK', 'B002Q0WTAG', 'B002Q0WTC4', 'B002Q0WTCE', 'B002NM2T48', 'B002NM0HHY', 'B002NLW570', 'B002NLSCPE', 'B002NGMBGK', 'B002NGMBGA', 'B002NG7DEK', 'B002NF6H66', 'B002NB6FX0', 'B002N4ZBE6', 'B002N4Z934', 'B002N4XMJ2', 'B002MKTQO2', 'B002M8GBDI', 'B002LVQM9E', 'B002LFCDPM', 'B002L2E1TQ', 'B0037ME202', 'B0037ME3G0', 'B0037NVSYY', 'B003FXM6II', 'B003F1HVDU', 'B003F1IGBQ', 'B003F2X13I', 'B003FO2JHA', 'B003FO6E6M', 'B003FRMRC4', 'B003FXO8MK', 'B003EUX2QM', 'B003G8V8LS', 'B003GBBG58', 'B003GEF0YS', 'B003GY776M', 'B003H0D2MI', 'B003H7AX5K', 'B003EV58EK', 'B003EUQL9C', 'B003BLOSCG', 'B003D3OCDM', 'B003BMGYZ4', 'B003BQ1Y82', 'B003C2V8D6', 'B003CRZ0IA', 'B003CTL4A6', 'B003D33W3I', 'B003D3OCDW', 'B003E70FME', 'B003DC78FW', 'B003DKRC2S', 'B003DOAGB8', 'B003DX96TW', 'B003DY5Q4K', 'B003E1GLJG', 'B003H8MXQQ', 'B003H8XAMM', 'B003H916I6', 'B003KVKX62', 'B003JFTDMY', 'B003JFZ562', 'B003JIMG52', 'B003KISCCW', 'B003KPN02M', 'B003KVKT0M', 'B003KX4SC0', 'B003H93MH4', 'B003KXEDVQ', 'B003KYGVWE', 'B003KZ42EC', 'B003KZ7G2M', 'B003KZYGHK', 'B003LQ2Z8A', 'B003JEAHES', 'B003INZ0DI', 'B003IJ7BL6', 'B003I6L7B4', 'B003HZPC0S', 'B003HZNP4S', 'B003HR30FU', 'B003HHLZNE', 'B003HH7TKC', 'B003HGYYV0', 'B003HGPEWI', 'B003HGIUG0', 'B003HG7NZE', 'B003HF2Z6M', 'B003HEOOR6', 'B003H95LWI', 'B003H95272', 'B003BLOSGM', 'B003BGZ9BK', 'B0037Z6POU', 'B003AYIAXW', 'B003ATFN0U', 'B003AYE2RU', 'B003AYE658', 'B003AYE7VG', 'B003AYEAHC', 'B003AYI89I', 'B003AYIBB8', 'B003AOULM0', 'B003AYJF04', 'B003AYJU5O', 'B003AYJVIA', 'B003AYK14S', 'B003AYK7JM', 'B003AYLWF0', 'B003AQ4UDY', 'B003AM914G', 'B003BGXW50', 'B0039RCLRQ', 'B0037Z6PP4', 'B0038BRR3G', 'B0038MTH8S', 'B0038SA772', 'B0038YX39A', 'B0039KA9G8', 'B0039RGLZE', 'B003AM913W', 'B0039RPWJU', 'B0039RW6UI', 'B0039RWELE', 'B003A02PMS', 'B003A7GM20', 'B003AM913M', 'B003AYNCJY', 'B003AYNF3W', 'B003AYNI8E', 'B003B1GY8M', 'B003B10HEY', 'B003B12LK2', 'B003B15A78', 'B003B1DQ3S', 'B003B1E0I8', 'B003B1GEXW', 'B003B1KTGK', 'B003AYO23Y', 'B003B1MSTG', 'B003B1OU4W', 'B003B1PAJG', 'B003B95ETO', 'B003BFYDBS', 'B003BG6KXQ', 'B003B10DKW', 'B003B10DIY', 'B003B0YDRM', 'B003B0JPDO', 'B003B0JKWK', 'B003B0I09Y', 'B003B0DTZO', 'B003B0CCW0', 'B003B0APDS', 'B003B09HV4', 'B003B085TY', 'B003B06BFY', 'B003B01PL4', 'B003AYTN2Y', 'B003AYRUSI', 'B003AYRGA0', 'B003AYP9B8', 'B004M14I06', 'B004M1A4FO', 'B000XPQ2IQ', 'B005M35BSQ', 'B005LZ1V1Q', 'B005LZH692', 'B005LZQTKE', 'B005M02VNW', 'B005M0MUQK', 'B005M3591K', 'B005M35DDO', 'B005LYLSD8', 'B005M36GGM', 'B005M4X1HI', 'B005MIEJNE', 'B005MMXSMI', 'B005MMZZZQ', 'B005MR6JLA', 'B005LYUTWY', 'B005LVYH9I', 'B005MYXBRS', 'B005LG0XTG', 'B005KPDRKA', 'B005KR15HU', 'B005L2R7FS', 'B005L2UID6', 'B005L2UO8U', 'B005LG0XRS', 'B005LMPB9M', 'B005LV91VW', 'B005LMWCJO', 'B005LOJEZC', 'B005LTRALW', 'B005LTRBLG', 'B005LTRCC4', 'B005LTRCNI', 'B005MTDPBK', 'B005MYZCFM', 'B005DJOI8I', 'B005P3I112', 'B005OEBWIG', 'B005OFBJYM', 'B005OQ4N7Q', 'B005OTWIUW', 'B005OUE3FO', 'B005OWGUZ8', 'B005P4NV9I', 'B005OEBVYQ', 'B005P4NVF2', 'B005P4NVJI', 'B005P4XHV0', 'B005P9BRXK', 'B005PFQ0QS', 'B005PIISLK', 'B005OEBVZU', 'B005ODB566', 'B005N2BW7K', 'B005NEMRIG', 'B005N2E8A8', 'B005N2EALA', 'B005N4N2GC', 'B005N5597Q', 'B005N8T3Z2', 'B005N8UUSQ', 'B005NF71ZE', 'B005O658VQ', 'B005NG0C9K', 'B005NH6U4U', 'B005NIVLX4', 'B005NIVPIU', 'B005NKZZ02', 'B005O2HJWG', 'B005KME0Z4', 'B005KKELFK', 'B005K5IVU6', 'B005F560Z4', 'B005ETZC7I', 'B005ETZE5S', 'B005ETZF9S', 'B005ETZN72', 'B005EZTQQ0', 'B005F12DAO', 'B005F58BT2', 'B005ETZ6DI', 'B005F5TP2Y', 'B005F66FRQ', 'B005F672JQ', 'B005FKF1RW', 'B005FKF3N4', 'B005FKF7IU', 'B005ETZBF6', 'B005EQHURG', 'B005JYDFYU', 'B005EHIN12', 'B005DLN5QC', 'B005DM7G84', 'B005DUR7U8', 'B005DVF15A', 'B005E0CPRM', 'B005EDMCMC', 'B005EHINAS', 'B005ELUNE8', 'B005EHINFI', 'B005EHINKS', 'B005EHINSK', 'B005EIQON0', 'B005EIQP52', 'B005EJND24', 'B005FLZ7D4', 'B005FNCLMM', 'B005FPXM0U', 'B005IVUVH8', 'B005HNGFU4', 'B005HSP122', 'B005HTCOE4', 'B005I7JDBW', 'B005IHLSTM', 'B005INZV3U', 'B005IVUWDG', 'B005FQO0RI', 'B005J3RW9A', 'B005J3S1WW', 'B005J3S276', 'B005J5MUKY', 'B005J9FS0Y', 'B005JPWNVU', 'B005HMNT0Y', 'B005HMNSCS', 'B005HGM1HW', 'B005HGM1HC', 'B005H7L528', 'B005H3TH4A', 'B005GWK1QU', 'B005GWJU2Q', 'B005GSZ3BC', 'B005GLL8PY', 'B005GJIV2Y', 'B005GHKIM2', 'B005GGTVVC', 'B005GCXTHS', 'B005G59WP8', 'B005FUWTRC', 'B005FQO13Q', 'B005PQ1AIU', 'B005PUAEEW', 'B005PWPUW6', 'B0064RQEDU', 'B0064EGI34', 'B0064RCBB4', 'B0064RFT4A', 'B0064RGHWI', 'B0064RGVH4', 'B0064RN4FG', 'B0064RR9J8', 'B0064CFBCK', 'B0064RRBZ0', 'B0064RTSUQ', 'B0064RU0W6', 'B0064RYHVQ', 'B0064RZHOM', 'B0064S0PBQ', 'B0064CFCHO', 'B0064CF56C', 'B005ZV5K0O', 'B0062IWNCC', 'B00615M2CC', 'B00619KROS', 'B0061FSZZ0', 'B0061XXSVS', 'B0061ZUKWG', 'B0061ZUKXA', 'B0062NUUW2', 'B0064BDH6I', 'B0062RMHRO', 'B006348STW', 'B00634LK8I', 'B0063LX2KU', 'B0063R6YIG', 'B006498LWU', 'B0064ZFBMW', 'B00653XX46', 'B00656776S', 'B006GX0TWE', 'B006DIA77E', 'B006FHMTJW', 'B006G1RX6G', 'B006GCNUHQ', 'B006GFFPLM', 'B006GLEIZU', 'B006H5119Q', 'B0065CBYUM', 'B006HR1H1Q', 'B006HZS8D8', 'B006I37X4Y', 'B006I380PK', 'B006IU53TO', 'B006J0P0AU', 'B006CUVZBA', 'B006BLEZD0', 'B006BF6RT6', 'B0069Y0M4U', 'B0069XMZWS', 'B0069VZHP2', 'B0069R0U3U', 'B0067VXPJY', 'B0067NYO4M', 'B00669UEP0', 'B0065P9B8G', 'B0065LKLOI', 'B0065KPIO2', 'B0065KP6IK', 'B0065KP4O6', 'B0065KO1T0', 'B0065KNZZ6', 'B0060GSO06', 'B005ZH5V3Y', 'B005PXZ8E0', 'B005SUT9UY', 'B005SUS2YS', 'B005SUSO5U', 'B005SUT5NA', 'B005SUT62K', 'B005SUT8CI', 'B005SUT9I6', 'B005SUTAF8', 'B005SURLUO', 'B005SUTYI6', 'B005SUU3U4', 'B005SUU4AS', 'B005SUVENO', 'B005SUVOZW', 'B005SUVSRG', 'B005SURX20', 'B005SURBZE', 'B005Z8F8FY', 'B005S09IVY', 'B005Q1XR8U', 'B005Q22HV2', 'B005Q9Z5XW', 'B005QKNUOW', 'B005QM6UE2', 'B005RVSKKO', 'B005SGA8DU', 'B005SN7304', 'B005SGAF7O', 'B005SGBIC0', 'B005SGCIF6', 'B005SGDK6W', 'B005SGDN14', 'B005SGF28G', 'B005SUW2NK', 'B005SUX1BC', 'B005SUY9H2', 'B005XDCMBY', 'B005WBESYG', 'B005WBK1CE', 'B005WFTJPK', 'B005WFTZWW', 'B005WJU0LI', 'B005WPU8ZA', 'B005XKAH8W', 'B005SUYA0S', 'B005YD2Q0A', 'B005YG6JZK', 'B005YYO0QM', 'B005YYO0S0', 'B005YYO1O8', 'B005YYO2LA', 'B005VM5Z5C', 'B005VKSIHQ', 'B005V01JG8', 'B005UPZLGS', 'B005UPZ4WY', 'B005UMO4FU', 'B005UMNYS8', 'B005UJQ2SK', 'B005TZ702M', 'B005TY7DO8', 'B005TY7CYO', 'B005TJUP7K', 'B005THAYPA', 'B005SVFN6W', 'B005SUYS0A', 'B005SUYK44', 'B005SUYBD4', 'B005DJOIPQ', 'B005DIJQEA', 'B004M73CX4', 'B004W94LEQ', 'B004VM5R7Y', 'B004VMOVBC', 'B004VSQ5LU', 'B004VXGW7W', 'B004W1PQ7K', 'B004W25PY8', 'B004W95TA6', 'B004VFTSO4', 'B004WBO5WC', 'B004WDQ5CS', 'B004WDQ5LY', 'B004WF5TIM', 'B004WFIMZE', 'B004WMJRW4', 'B004VKIING', 'B004VDD63A', 'B004WNZMSQ', 'B004V4Q7OE', 'B004UNL1P6', 'B004UNQ4US', 'B004UOE3JQ', 'B004UU435Y', 'B004UVSXSQ', 'B004V07LL6', 'B004V9GOMY', 'B004VDD5U4', 'B004VAQURM', 'B004VCDLE0', 'B004VCW556', 'B004VDD4L4', 'B004VDD4SW', 'B004VDD5J0', 'B004WMUQFQ', 'B004WOQ5OU', 'B005DBEAM0', 'B004Z5GPSW', 'B004Y3ZRHA', 'B004Y9YQS0', 'B004YHAYC4', 'B004YHTNVC', 'B004YUP41W', 'B004YUQ49S', 'B004Z85LJS', 'B004Y0ZU3O', 'B004Z8ORXO', 'B004Z8VQ2O', 'B004ZELFWY', 'B004ZGAUZ0', 'B004ZH0PPY', 'B004ZHHIVI', 'B004Y3ZM2U', 'B004XWDYO0', 'B004WQOFBI', 'B004XDQFJ0', 'B004WWEYI6', 'B004WZ4ZNM', 'B004X2JFZC', 'B004X2MX60', 'B004X7OIRC', 'B004X7UP5G', 'B004XGXU4A', 'B004XUQKPC', 'B004XJ4IZ2', 'B004XJCLI8', 'B004XLFKK2', 'B004XLFKO8', 'B004XOMLSS', 'B004XSX2A0', 'B004UJHXUC', 'B004UJHTEM', 'B004UIFXRI', 'B004O09XA0', 'B004NMQ2A8', 'B004NNVPC2', 'B004NRVUMI', 'B004NSVKLS', 'B004NU42PM', 'B004O07XJS', 'B004OK63SA', 'B004NFTAPY', 'B004OZ0BLU', 'B004P023VK', 'B004P4PZHA', 'B004PFWYL4', 'B004PFWZHM', 'B004PIB1IS', 'B004NIFYCE', 'B004NFQ3QS', 'B004UIDJBK', 'B004MM8J8M', 'B004M8GR3U', 'B004M8R9J6', 'B004M8UZ3S', 'B004M91ZQI', 'B004M9Y7KO', 'B004MF39YS', 'B004MN9GWY', 'B004NFPZLM', '0786615206', 'B004MNEGBK', 'B004MQSV04', 'B004MTCHEM', 'B004MVZ4XG', 'B004N1K4BM', 'B004PJ414I', 'B004PJLQSM', 'B004PKCH0M', 'B004U0JTC6', 'B004T8YILG', 'B004TGVRDA', 'B004THB6PI', 'B004THB8OW', 'B004THBHR0', 'B004TXS7Z4', 'B004U0JTDK', 'B004QJSWUQ', 'B004U0JTHG', 'B004U0JTI0', 'B004U2HT9Y', 'B004U48VA8', 'B004UA91FQ', 'B004UIDJ7Y', 'B004T6M93W', 'B004T1TJN0', 'B004SX1BCG', 'B004STXXTE', 'B004STXTWK', 'B004STXT2K', 'B004SL34IM', 'B004SBLE3O', 'B004S1YQ1G', 'B004RVFGSY', 'B004RVFDZU', 'B004RTHGHU', 'B004RQJ0S6', 'B004RE5OHE', 'B004R9OVHS', 'B004R91GJE', 'B004QXFQO2', 'B004ZJ7CGW', 'B004ZKIHVU', 'B004ZPDNJ6', 'B0057IVGVM', 'B0057FX3I4', 'B0057GPLWE', 'B0057HX3R8', 'B0057IPQG8', 'B0057IPQT0', 'B0057IVDQ0', 'B0057IVHGG', 'B0057E3H1I', 'B0057IVKT0', 'B0057OIVMS', 'B0057OIW5Y', 'B0057RV4K6', 'B0057RXGBQ', 'B0057YBE18', 'B0057ECZ9I', 'B0056XAWOU', 'B0054RFKCW', 'B005585Q42', 'B0054TQ0GA', 'B00551V4OA', 'B00553GBU0', 'B00557KN28', 'B00557ZF7Q', 'B0055826SQ', 'B0055BMQG0', 'B0056N2ANG', 'B0055CHT8O', 'B0055D6PTC', 'B0055E88FA', 'B0055OIXN2', 'B00563VQN6', 'B0056BXQFE', 'B005865X0S', 'B0058D7Y2G', 'B0058D7YSU', 'B005CP07S8', 'B005BLWOPM', 'B005BSOW32', 'B005C3ZXTS', 'B005C88XMC', 'B005CACVFU', 'B005CBYJXQ', 'B005CQ98LE', 'B0058DATZ0', 'B005CQ99MC', 'B005CTJMF8', 'B005CUEJOQ', 'B005CXMPQW', 'B005CXV6PI', 'B005D7SZW0', 'B005BFYQWC', 'B005AW0V9I', 'B005AQPU5Y', 'B005AL3RG8', 'B005AIVN3U', 'B005A0OO16', 'B005A09I7Q', 'B0059ZUTW0', 'B0059ZTYQM', 'B0059HV94K', 'B0058TAG8O', 'B0058SYD9I', 'B0058MJY20', 'B0058MJXNA', 'B0058GZTVG', 'B0058FJZ6W', 'B0058ECQ46', 'B0054S8ZXW', 'B0054RDV9Q', 'B00501IST4', 'B0051MOJ6I', 'B0051CN96O', 'B0051F37GS', 'B0051G404K', 'B0051HN2PW', 'B0051LMLUA', 'B0051M6JJI', 'B0051MOJ86', 'B00514H7L0', 'B0051MQUXS', 'B0051SJ5PM', 'B0051TZAGE', 'B0051TZBTU', 'B0051Y0S6Q', 'B0051Y0SKC', 'B0051B16D8', 'B00512I21Q', 'B0054QM6UM', 'B0050DDKJ0', 'B00502EE78', 'B005036E34', 'B00506UC3O', 'B0050AGZBI', 'B0050CHFFQ', 'B0050DDKDQ', 'B0050DDKYU', 'B005111CNM', 'B0050DIHAC', 'B0050F3ZJS', 'B0050G7VR4', 'B0050J2644', 'B0050JHNHO', 'B0050P09WY', 'B005298L46', 'B0052A29DY', 'B0052FU602', 'B00540JMF0', 'B0052VJP3U', 'B00534392Y', 'B0053ODOY2', 'B0053Y45E0', 'B0053YAWVK', 'B0053ZK4Z8', 'B00545A7T0', 'B0052JG42W', 'B00548S19U', 'B00548S4OW', 'B0054E6KY2', 'B0054IKKXA', 'B0054JGI0I', 'B0054K92RI', 'B0052VJNIC', 'B0052U1I9A', 'B0052TT19U', 'B0052TGJOU', 'B0052ST704', 'B0052S3YC6', 'B0052S3WVY', 'B0052S3WGE', 'B0052S3WFU', 'B0052S3TDK', 'B0052S3T9O', 'B0052QOU08', 'B0052QOTFE', 'B0052NNJ1C', 'B0052M1C0I', 'B0052M19V0', 'B0052M18WA', 'B002EWPX54', 'B002EOUOK6', 'B002EDM9AU', 'B00175RNR0', 'B00172UV6S', 'B00172UVAO', 'B00172UVG8', 'B00172YM40', 'B00172YM9U', 'B00173875Y', 'B00178IXYY', 'B00172EAD8', 'B00178M23C', 'B001792BAU', 'B001796V0G', 'B0017D4ELU', 'B0017HX32M', 'B0017HX336', 'B00172TQ3C', 'B001727KOY', 'B0017I0KE0', 'B0016ZT60S', 'B0016MOC28', 'B0016OIIX0', 'B0016OMSYU', 'B0016QTHBU', 'B0016RTDIG', 'B0016ZQXKY', 'B0016ZU5ZI', 'B001715G5K', 'B0017002U0', 'B0017024Y2', 'B00170250A', 'B00170BD5S', 'B00170GDPS', 'B00170R5AU', 'B0017HZ47Y', 'B0017I2CNM', 'B0014N0DGS', 'B0018A21QC', 'B001865TYC', 'B00186FIN4', 'B00186FKXC', 'B00186J7JA', 'B00186JFW4', 'B001891ANI', 'B0018A5R5O', 'B00181YT9S', 'B0018BK23K', 'B0018BMJZY', 'B0018CEOA6', 'B0018GR9VI', 'B0018K16L8', 'B0018L62DE', 'B00185WNXS', 'B00181ER7C', 'B0017I2CO6', 'B0017PLYCK', 'B0017I2CPA', 'B0017JIWXA', 'B0017KCPL4', 'B0017N5C9I', 'B0017OK4RC', 'B0017OS7JY', 'B0017PRWJY', 'B0017Z53I6', 'B0017R3732', 'B0017SZ4OG', 'B0017T7XCG', 'B0017TU0E4', 'B0017VQXKC', 'B0017WG55Y', 'B0016MN4I6', 'B0016MN1U2', 'B0016MLUKU', 'B0015XIAYY', 'B0015MCGG8', 'B0015NT6KQ', 'B0015P6HSS', 'B0015UEBUO', 'B0015URXIG', 'B0015VEZ22', 'B0015YM828', 'B0015ISYQI', 'B0015ZBMK6', 'B00162VU7I', 'B00162VUP0', 'B00162VV68', 'B00162VV6S', 'B00162VV7W', 'B0015J6ZAY', 'B0015ICZMM', 'B0016MIZ80', 'B00151UVZ2', 'B0014N5T8A', 'B0014SRYJW', 'B0014STI7S', 'B0014WWNUS', 'B0014X2BE0', 'B00150WENK', 'B00154OJOI', 'B0015GTOSW', 'B00158CEIM', 'B00158FIVW', 'B0015B0EB8', 'B0015B0OZO', 'B0015CM64U', 'B0015GTHGG', 'B00162VVN6', 'B00162VVVS', 'B00162XTZO', 'B0016H8RY2', 'B00167ZKOC', 'B00169KU7C', 'B0016ARZ9C', 'B0016BFBO2', 'B0016BKT1M', 'B0016BS8J2', 'B0016H9RH8', 'B00162XUOY', 'B0016HDP4Y', 'B0016HDP58', 'B0016LVAOC', 'B0016MFJCA', 'B0016MFJDO', 'B0016MHIWE', 'B00167XGNE', 'B001677QO4', 'B00167356C', 'B00166XRVQ', 'B00166QCKE', 'B00166GG82', 'B00166BQ1E', 'B00166B1O6', 'B00164KP0O', 'B001633DI6', 'B001633DH2', 'B001633DGS', 'B001631N9M', 'B00162ZSWQ', 'B00162ZSW6', 'B00162XVNY', 'B00162XVCK', 'B0018LZZC8', 'B0018O0VRO', 'B0018P99LW', 'B001BJWCXC', 'B001BAJNE2', 'B001BAJO46', 'B001BAMO5W', 'B001BAMOE8', 'B001BFR7EK', 'B001BJCC5K', 'B001BM7TY6', 'B001BAHF6U', 'B001BR7N8I', 'B001BS13GU', 'B001BXXMSC', 'B001BYLWD8', 'B001BZ3L4K', 'B001C1A5C4', 'B001BAJ5OU', 'B001B82JUO', 'B001AVSAU0', 'B001AZJTGK', 'B001AVW1IW', 'B001AWDFCM', 'B001AWUVX8', 'B001AWWN7U', 'B001AX06KK', 'B001AX7CXY', 'B001B116GO', 'B001B6Z2L4', 'B001B132JS', 'B001B16ATC', 'B001B1Q5C4', 'B001B2MWNY', 'B001B3L8KG', 'B001B5DBEA', 'B001C1A6CI', 'B001C1C8GK', 'B001C1C8TW', 'B001DJZNHW', 'B001DD465I', 'B001DDU8PU', 'B001DE5YY4', 'B001DIRSBM', 'B001DJTB0C', 'B001DJW4OC', 'B001DTNKNG', 'B001C57Q1I', 'B001E33176', 'B001E36H8Q', 'B001E3BSKS', 'B001E3SFKO', 'B001E4I8J6', 'B001E6VIOQ', 'B001DC9MJY', 'B001D9Z07K', 'B001D02914', 'B001CWHI1Y', 'B001CQ8VJS', 'B001CM7U5I', 'B001CJ45KY', 'B001CJ2R04', 'B001CJ2QZU', 'B001CJ17GY', 'B001CIZA8G', 'B001CIZA7W', 'B001CGXM6K', 'B001CEB6RO', 'B001CDSDDU', 'B001CC3CV4', 'B001C5EWC4', 'B001AVW1IC', 'B001AUSOAW', 'B0018PW0NQ', 'B0018TF0Q6', 'B0018TC7J4', 'B0018TDGF8', 'B0018TDHHK', 'B0018TE09Y', 'B0018TE454', 'B0018TF0O8', 'B0018TFBOC', 'B0018TBECU', 'B0018TFBTC', 'B0018TFC46', 'B0018TG8HQ', 'B0018THTJC', 'B0018TIAL8', 'B0018TIB2G', 'B0018TC7BW', 'B0018TAEF8', 'B001ASOP4S', 'B0018SVNPY', 'B0018PW1L2', 'B0018PXVZM', 'B0018S6EJO', 'B0018SNCVM', 'B0018STLBC', 'B0018STX4C', 'B0018SW7MC', 'B0018T62KE', 'B0018SY3CY', 'B0018SY8CE', 'B0018SYGH6', 'B0018SYGNA', 'B0018T3OCI', 'B0018T61SC', 'B0018TJHO2', 'B0018TKBA6', 'B0019335UO', 'B001AGYG6M', 'B001A5J2EY', 'B001A6G6CY', 'B001A6IGDG', 'B001AEA0G4', 'B001AEBZOA', 'B001AG3ZI2', 'B001AJKIFW', 'B001942176', 'B001AK5GTO', 'B001AK9AWI', 'B001AL0TZO', 'B001ANI6FW', 'B001AQ0GPM', 'B001AS6OYC', 'B001A5GSDC', 'B001A5G9V8', 'B001A5C2DM', 'B001A4WINW', 'B0019ZHDD2', 'B0019UJ1P0', 'B0019R4TRI', 'B0019NKIXQ', 'B0019ICXE8', 'B0019H6750', 'B0019FYE34', 'B0019ERKMW', 'B0019EJXNG', 'B0019ABOO6', 'B0019A637Y', 'B001986E34', 'B001943W92', 'B0014N475G', 'B0014N0DBI', 'B002EB68RC', 'B000Z78NQG', 'B000Z36F06', 'B000Z40S2G', 'B000Z44854', 'B000Z4M9NC', 'B000Z5VB4O', 'B000Z76V06', 'B000Z7C9G6', 'B000Z34EMM', 'B000Z7EMX4', 'B000Z7HN08', 'B000Z7INAW', 'B000Z7JJAU', 'B000Z7JK72', 'B000Z8CUX2', 'B000Z36EIO', 'B000Z33ICY', 'B000ZGVW9M', 'B000YZOBM4', 'B000YK9XBI', 'B000YOLXL2', 'B000YPCI1K', 'B000YQ8UW0', 'B000YXOJBO', 'B000YYVLAK', 'B000Z08U7U', 'B000Z33HYI', 'B000Z0CI7S', 'B000Z0FE5G', 'B000Z20J2M', 'B000Z2OC2U', 'B000Z2OC34', 'B000Z31GCS', 'B000Z8U0IY', 'B000ZJTPLG', 'B0014N0DAO', 'B00105Q4CW', 'B00102VW6S', 'B00102XVN0', 'B00102XXZG', 'B00102ZN40', 'B001032HZW', 'B00104AK6O', 'B001063C94', 'B00101WA4C', 'B0010B078S', 'B0010C44XQ', 'B0010CAN36', 'B0010CGJQG', 'B0010CHSZM', 'B0010CJ4L8', 'B00102VV46', 'B000ZV3T8Y', 'B000ZJWZYU', 'B000ZMZ8QE', 'B000ZKSYPS', 'B000ZLOGAE', 'B000ZLOGCC', 'B000ZLRL6A', 'B000ZLRT80', 'B000ZMVAXO', 'B000ZNKELC', 'B000ZU4GTQ', 'B000ZQ67V0', 'B000ZQ6OEA', 'B000ZQAB8A', 'B000ZQAE7I', 'B000ZRXJY2', 'B000ZSWUCS', 'B000YIH0VU', 'B000YIF4JU', 'B000YID5OG', 'B000XZV3EY', 'B000XZMY7O', 'B000XZUOPS', 'B000XZURPA', 'B000XZUUKC', 'B000XZUYY4', 'B000XZUZSE', 'B000XZV3GM', 'B000XT8JTM', 'B000XZVAZ6', 'B000XZWS4I', 'B000XZWTVU', 'B000XZWUZA', 'B000XZWZFU', 'B000XZYXTG', 'B000XYFBMK', 'B000XROMP4', 'B000YHJYZG', 'B000XPRT4M', 'B000XPRNSO', 'B000XPRP96', 'B000XPRPUA', 'B000XPRQCC', 'B000XPRRFI', 'B000XPRSSE', 'B000XPRUX2', 'B000XQCMJS', 'B000XPRX5C', 'B000XPRYP6', 'B000XPRZPA', 'B000XPSI10', 'B000XPSIVA', 'B000XQ8VGQ', 'B000XZZ0Y8', 'B000XZZ42Q', 'B000XZZ6F6', 'B000YC05AE', 'B000Y7LVES', 'B000Y7NUUQ', 'B000Y7O0GO', 'B000Y7O0Y6', 'B000Y7Q0M6', 'B000Y7T9CE', 'B000YC4QJU', 'B000Y014ZG', 'B000YDAV3E', 'B000YDDWJO', 'B000YDYEDW', 'B000YE8L7G', 'B000YF9U02', 'B000YFG0A0', 'B000Y60NFC', 'B000Y5036M', 'B000Y3580U', 'B000Y0AEFW', 'B000Y041WY', 'B000Y040ZC', 'B000Y03ZIK', 'B000Y02I6A', 'B000Y024PK', 'B000Y02374', 'B000Y01YOW', 'B000Y01Y2O', 'B000Y01UXM', 'B000Y01MX0', 'B000Y01FYQ', 'B000Y01ENI', 'B000Y016BS', 'B0010CKEHG', 'B0010CPAHU', 'B0010CR7SA', 'B00132EJKG', 'B0012SO47E', 'B0012T6FSO', 'B0012T82MQ', 'B0012TBIAE', 'B0012XZ7NY', 'B001325RGG', 'B001338GSG', 'B0012Q7B5S', 'B001338HYY', 'B001338JEW', 'B00133A19S', 'B00134T67K', 'B00135HGH6', 'B001383XS4', 'B0012Q9DTK', 'B0012PTJAE', 'B00127HZG2', 'B0012HMBXE', 'B00127LS1U', 'B00128WK1G', 'B0012F2WT4', 'B0012FE1SO', 'B0012GR6YE', 'B0012HKP6O', 'B0012HPGUO', 'B0012NS7HM', 'B0012HQEKK', 'B0012I8F60', 'B0012I8GMS', 'B0012MIVW4', 'B0012N8EG6', 'B0012NGG48', 'B001383XT8', 'B0013BPQ9U', 'B0013CF3M4', 'B0014ID036', 'B0014598WQ', 'B00145CU8A', 'B00145EVJ6', 'B00149FSH6', 'B0014A2RC4', 'B0014C97KW', 'B0014IEBM0', 'B0013CG6RK', 'B0014IK2IM', 'B0014J9TOY', 'B0014MYSII', 'B0014MYSRY', 'B0014MYTJ6', 'B0014N0D40', 'B00144GT0G', 'B00143XEH8', 'B0013YGMRC', 'B0013Y0340', 'B0013UUILC', 'B0013RJNJS', 'B0013O95VM', 'B0013O8UR2', 'B0013O4OZ4', 'B0013NFZHQ', 'B0013N3VWM', 'B0013MSIA8', 'B0013LRYD6', 'B0013LOCQI', 'B0013I3ADC', 'B0013G2I2S', 'B0013CY00A', 'B00127HZI0', 'B00126OWGO', 'B0010CTD5U', 'B0010SZIQM', 'B0010HHEEM', 'B0010HL5B0', 'B0010HLE8O', 'B0010HS0PY', 'B0010HS0QI', 'B0010KTC26', 'B0010V1QA6', 'B0010HGCTU', 'B0010VQO8A', 'B0010X2L8U', 'B0010XSZ3A', 'B0010Z3L14', 'B00112D91S', 'B001132AR6', 'B0010HHAXC', 'B0010HDS7O', 'B00126MY96', 'B0010EADBG', 'B0010CV55Q', 'B0010CZ8GS', 'B0010D2XR4', 'B0010DJ51G', 'B0010DKD26', 'B0010DXSSC', 'B0010EBEL4', 'B0010HDS1U', 'B0010EKRYO', 'B0010GKX0K', 'B0010GNU9Q', 'B0010HAKVQ', 'B0010HCI66', 'B0010HCICK', 'B00113LUTA', 'B00113NY9Y', 'B00113P17M', 'B00123APCW', 'B0011WJ638', 'B0011XDEPS', 'B0011YVHXS', 'B0011Z87I0', 'B00121WJL4', 'B00122FD48', 'B00125OD9Q', 'B00113ZULE', 'B00125VMKY', 'B00125W47E', 'B00126E3Z4', 'B00126HUGS', 'B00126JWT6', 'B00126LTFG', 'B0011WHG5S', 'B0011WFZHY', 'B0011W5LTQ', 'B0011V4AEY', 'B0011U7WPO', 'B0011LTT86', 'B0011G656K', 'B0011FUIPA', 'B0011FQK5C', 'B0011FORIE', 'B0011FOEQ4', 'B00119QDPA', 'B00118W6JI', 'B00114YSM0', 'B00114WS6S', 'B00114LCKG', 'B001140OZ0', 'B001E70C5G', 'B001E7EN3S', 'B001E95KEC', 'B001TOI5QM', 'B001T21J80', 'B001T9O60Q', 'B001TJLYO2', 'B001TLRJAI', 'B001TMCVDW', 'B001TOG6WW', 'B001TX2ZJQ', 'B001SQAJ8S', 'B001U0ORN0', 'B001U0OWSU', 'B001U1QLO2', 'B001U2IH6Q', 'B001U3W2B6', 'B001U5NYD4', 'B001T0HFMQ', 'B001SN7VAA', 'B001U7ANU4', 'B001RTTCPW', 'B001RNHG6K', 'B001RNOHHG', 'B001RNZQH6', 'B001ROW362', 'B001ROZT8G', 'B001RTTCAC', 'B001RTTCQG', 'B001SN7V82', 'B001RXY44C', 'B001SAKLQ4', 'B001SEQQG4', 'B001SN7QXW', 'B001SN7QZU', 'B001SN7R5O', 'B001U70FQ6', 'B001U7RQBS', 'B001E95KFQ', 'B001VIOCK4', 'B001V7RNJW', 'B001V8F7SA', 'B001V9XDUS', 'B001VC22G6', 'B001VEHXFE', 'B001VFT1YO', 'B001VMG5K0', 'B001V7RNIS', 'B001VMOD2C', 'B001VNHYHW', 'B001VOE2HG', 'B001VS3V92', 'B001VS84N0', 'B001W9AXBO', 'B001V7RNJ2', 'B001V7RNII', 'B001UAVN6E', 'B001V5K2R4', 'B001UK1PJ4', 'B001UNVJ24', 'B001UO3MQY', 'B001V5FYAE', 'B001V5JKB8', 'B001V5K2ME', 'B001V5K2RE', 'B001V7M7RK', 'B001V5K2RO', 'B001V5K2S8', 'B001V5K2SI', 'B001V5K2T2', 'B001V6I13A', 'B001V6M1N6', 'B001RNHG2Y', 'B001RNHFJI', 'B001RNHF4I', 'B001QCM3OM', 'B001Q5XYJC', 'B001Q6037W', 'B001Q8QPA4', 'B001Q9EE4W', 'B001Q9F360', 'B001QATT0K', 'B001QCXSDW', 'B001Q3KTLU', 'B001QCXSGE', 'B001QIL87O', 'B001QJOI8E', 'B001QMM63K', 'B001QOGLW0', 'B001QTGRGK', 'B001Q5S99M', 'B001Q3KTH4', 'B001RNHE80', 'B001PT1AQS', 'B001PKW4K8', 'B001PLG084', 'B001PLLQPQ', 'B001PLLQRY', 'B001PMVEGG', 'B001PPZF5E', 'B001PYK1BS', 'B001Q3KT4M', 'B001PZ79LC', 'B001Q3KSBQ', 'B001Q3KSRU', 'B001Q3KSZW', 'B001Q3KT06', 'B001Q3KT0G', 'B001QUL9OY', 'B001QVLUAQ', 'B001QXCYZY', 'B001RFDH5C', 'B001RF88J2', 'B001RF8GT4', 'B001RFBEPM', 'B001RFBMNQ', 'B001RFBMOU', 'B001RFDBXK', 'B001RIY5NM', 'B001R2I12Y', 'B001RIZELE', 'B001RMDQCY', 'B001RMFSDE', 'B001RMH6JS', 'B001RNH8YA', 'B001RNHD86', 'B001RF61VY', 'B001RBQFCI', 'B001RBH20C', 'B001RAAIRW', 'B001R747SG', 'B001R6G514', 'B001R5G70O', 'B001R2TEWU', 'B001R2RA4E', 'B001R2QTP0', 'B001R2POHE', 'B001R2OSIU', 'B001R2O0BK', 'B001R2NR3C', 'B001R2MJ2W', 'B001R2LQWQ', 'B001R2KCOY', 'B001WAKUEI', 'B001WLSYW2', 'B001WM6WNE', 'B002AKKO9K', 'B002AEMUJ8', 'B002AEQSUA', 'B002AF4I24', 'B002AGUPV6', 'B002AKKO7C', 'B002AKKO90', 'B002AKKOF4', 'B002A7PA0G', 'B002AKKOFY', 'B002AKONB0', 'B002AKTLVM', 'B002AKTPA4', 'B002AKTRYS', 'B002AKVQK6', 'B002A7UE8O', 'B002A66PVU', 'B0029F21MO', 'B0029RKM78', 'B0029L7JRA', 'B0029L7KRY', 'B0029NG4P6', 'B0029NGGHM', 'B0029PJ4BU', 'B0029RKDFO', 'B0029RPOCQ', 'B002A3KSZW', 'B0029RQQ3C', 'B0029RRGHC', 'B0029RVWUO', 'B0029UV6VG', 'B0029WOLRU', 'B002A0WSS0', 'B002AMU9G6', 'B002AMU9UC', 'B002AOA5NG', 'B002CVUNMA', 'B002CJWAI2', 'B002CM1HG0', 'B002CM3I08', 'B002CMEJ2O', 'B002CMLPYO', 'B002CMLQ8E', 'B002CVUNO8', 'B002AT4UJQ', 'B002CVUNXE', 'B002CWQTXG', 'B002DC8OE2', 'B002DQ3YP2', 'B002E2R81G', 'B002E5C49E', 'B002C4SP3G', 'B002C4QWXQ', 'B002C4OUMQ', 'B002C4N8TM', 'B002C49EAE', 'B002BZX76G', 'B002BUEKCG', 'B002BSH9SU', 'B002BRQS6A', 'B002BK55H0', 'B002BAZNHW', 'B002BAW0GE', 'B002B96OSA', 'B002B8EWVW', 'B002B55TRG', 'B002B3CFP2', 'B002AVYWBU', 'B0029F21NS', 'B00298JJH6', 'B001WMFSTI', 'B00249PHYO', 'B00240BI14', 'B002433RXI', 'B00243FPTM', 'B0024702P0', 'B002474FI0', 'B00247PMV4', 'B0025P9OB4', 'B0023GNP9W', 'B0025PDOM4', 'B0025VLQVE', 'B0025VLQVO', 'B0025VLQY6', 'B0025Y536A', 'B00260IWWU', 'B0023LQE7M', 'B0023C6H64', 'B0029086IW', 'B00204BL84', 'B001XJBWXG', 'B001ZIQEYW', 'B002021HIK', 'B002026DLG', 'B0020288LO', 'B00202CIY2', 'B0020YH3DQ', 'B0022RQP1C', 'B0020YHXM2', 'B0021ESJ1A', 'B0021EVDOK', 'B0021VIMQU', 'B0021VPOHA', 'B0022MXW0O', 'B00263JCSK', 'B00266HBSU', 'B00266J8C2', 'B00282WZG0', 'B0027I28E4', 'B0027LUYHO', 'B0027OPLCE', 'B0027UVTQA', 'B0027ZMRCU', 'B0027ZYMMS', 'B0028448A4', 'B00267QD8S', 'B002860LI0', 'B0028LDR68', 'B0028QYSB6', 'B0028R8ACS', 'B0028RCZSS', 'B0028WT6WQ', 'B0027EH4FQ', 'B0027DO66M', 'B002792GCW', 'B00275G8D4', 'B00275G7MG', 'B00275G74O', 'B00275G74E', 'B00275G6Y0', 'B00275G6PY', 'B0026XH8IQ', 'B0026RTFPQ', 'B0026IC6XI', 'B0026IC6S8', 'B0026IC6RY', 'B0026GDPJO', 'B0026FCKTG', 'B00267QEAK', 'B001PKJDCA', 'B001PKHLPG', 'B001PGXJWY', 'B001HN9UWI', 'B001H31IGY', 'B001H3EV9K', 'B001H5OSCI', 'B001HGOXDG', 'B001HJ2HQS', 'B001HN7VKG', 'B001HNA6ZI', 'B001GZFYLI', 'B001HNC02U', 'B001HQ9TD0', 'B001HS0X8S', 'B001HXII80', 'B001I51JNS', 'B001I84CLQ', 'B001H2P294', 'B001GZ91MQ', 'B001G7H8B0', 'B001GF9AS6', 'B001G7UWIQ', 'B001G7X0ZI', 'B001G9ANIS', 'B001G9G670', 'B001GAFVNE', 'B001GAQY3K', 'B001GG9WAQ', 'B001GTB814', 'B001GGYF4E', 'B001GH4H3W', 'B001GJEHHQ', 'B001GL3B4Y', 'B001GMVBEK', 'B001GMXFW6', 'B001I85Z80', 'B001I8A4TU', 'B001I8ITQA', 'B001JS9GYS', 'B001JJFR8Q', 'B001JJSP30', 'B001JL4WUS', 'B001JQE960', 'B001JQFYAU', 'B001JS7K8C', 'B001JVRNVS', 'B001I9T67U', 'B001JYNDNM', 'B001KACZJI', 'B001KD2CPC', 'B001KF1F12', 'B001KI4A7U', 'B001KIU7LI', 'B001JJB2GM', 'B001JJ90K2', 'B001JDQQSM', 'B001J8LJWK', 'B001J8INY2', 'B001J8EZ4Y', 'B001J3WBL8', 'B001J2K1W0', 'B001J1PYG4', 'B001J1O2JY', 'B001IZIFGW', 'B001IYODDC', 'B001IUQ99M', 'B001IPUIT4', 'B001IFZF06', 'B001ICVM2O', 'B001IA07SG', 'B001G7HA22', 'B001G7FJ8E', 'B001KLW2WM', 'B001EQTY74', 'B001ELJTCY', 'B001ELVCDS', 'B001ENZ3F4', 'B001EO4DAO', 'B001EO9UFM', 'B001EOXCOW', 'B001ER0M0G', 'B001EHWD0I', 'B001EWN72Q', 'B001EYJRFA', 'B001F4P9UG', 'B001F4QHL6', 'B001F4SGXS', 'B001F4TQD2', 'B001EL6I8W', 'B001EH77R2', 'B001G7F6TG', 'B001E9Z0Z6', 'B001E95KG0', 'B001E95KHO', 'B001E95KJC', 'B001E96UMS', 'B001E96UNC', 'B001E9X7X8', 'B001EA1UC2', 'B001ECQQB0', 'B001EBISR6', 'B001EBYQAO', 'B001EC5ECW', 'B001ECQONU', 'B001ECQOO4', 'B001ECQQ8I', 'B001F7Z40I', 'B001F8KNOE', 'B001F9LFMW', 'B001FXQDVQ', 'B001FSJC5A', 'B001FSJC5K', 'B001FWYASA', 'B001FWYB0W', 'B001FWYB48', 'B001FWYB4S', 'B001G3TJXO', 'B001FA9WW6', 'B001G3VAZ4', 'B001G3VC6Q', 'B001G411MK', 'B001G4Z49G', 'B001G53NZC', 'B001G7C17Q', 'B001FSJC2S', 'B001FPKHNO', 'B001FO7P9O', 'B001FDBV8G', 'B001FDBUIW', 'B001FD9L9C', 'B001FB63I6', 'B001FB63HW', 'B001FB63H2', 'B001FB5Z9O', 'B001FB5Z9E', 'B001FB5Z94', 'B001FB5Z8U', 'B001FB5Z8K', 'B001FB5Z6C', 'B001FB5Z3U', 'B001FB5YY0', 'B001KJF0DC', 'B001KM3JOQ', 'B001PGXJJW', 'B001OBRLAQ', 'B001O1RTJY', 'B001O207KG', 'B001O5VZ0E', 'B001O8UAV6', 'B001O9X51W', 'B001OAGQ80', 'B001ODMYO2', 'B001NXXD0C', 'B001OFVAHC', 'B001OHXCXU', 'B001OI4SYQ', 'B001OI52FK', 'B001OI6D4O', 'B001OI6LP0', 'B001NYNY4G', 'B001NXKHA6', 'B001MZW546', 'B001NFPGDC', 'B001N0LI3Y', 'B001NC5TF0', 'B001ND6S4A', 'B001NEBLLY', 'B001NEKCQ4', 'B001NFIDHI', 'B001NH87MC', 'B001NXDSKW', 'B001NI6OCQ', 'B001NI6OJE', 'B001NIC6X2', 'B001NPDRUG', 'B001NTX914', 'B001NXDSKM', 'B001OIDXVU', 'B001OLW0J8', 'B001OLZYUU', 'B001PGXIG6', 'B001PB3VUY', 'B001PB42NO', 'B001PGMNRG', 'B001PGXHWQ', 'B001PGXI2A', 'B001PGXIBG', 'B001PGXIIE', 'B001OMI3N4', 'B001PGXIJS', 'B001PGXIK2', 'B001PGXILG', 'B001PGXIQG', 'B001PGXIVG', 'B001PGXIZW', 'B001P8LXDY', 'B001P7QSE4', 'B001P5HL3S', 'B001P3XFPI', 'B001P3SN82', 'B001P3QJJM', 'B001OXEDA0', 'B001OTZ8DA', 'B001OSW9LA', 'B001OSW7Q2', 'B001OSUT30', 'B001OSSOGE', 'B001OQC75K', 'B001OQC746', 'B001OQC70K', 'B001OMI41A', 'B001OMI40G', 'B001MZZNTK', 'B001MZUD7C', 'B001KNI1PM', 'B001L8PKDC', 'B001L8MBBQ', 'B001L8MBCU', 'B001L8NGYW', 'B001L8NHOQ', 'B001L8PHUI', 'B001L8PIPW', 'B001LG2L5Y', 'B001L8KE06', 'B001LG7TUG', 'B001LG9YU4', 'B001LNN2E6', 'B001LNN2GY', 'B001LNN30E', 'B001LNN30O', 'B001L8KGFE', 'B001L8IKLG', 'B001MZUB92', 'B001KZH6WE', 'B001KNSSB4', 'B001KQ5AYO', 'B001KXEJLW', 'B001KXKGBY', 'B001KYGNT2', 'B001KZ0S9W', 'B001L5U0Y4', 'B001L8IKGQ', 'B001L5U0Z8', 'B001L8IILI', 'B001L8IJ0I', 'B001L8IJ6C', 'B001L8IJDU', 'B001L8IJSA', 'B001LNN31S', 'B001LNN322', 'B001LNO9I4', 'B001MW9TF2', 'B001MLYWV4', 'B001MMYSWQ', 'B001MMYVZU', 'B001MTKAD0', 'B001MW61ZS', 'B001MW6WB6', 'B001MW9U1U', 'B001LNO9IE', 'B001MX39RU', 'B001MX3WWC', 'B001MX5ZEU', 'B001MX7O3K', 'B001MXG49U', 'B001MXJZX2', 'B001M5CZO6', 'B001LU39F6', 'B001LU399M', 'B001LU37C6', 'B001LU2X7Q', 'B001LU2THU', 'B001LU1SFO', 'B001LTZZSG', 'B001LTZZAO', 'B001LTTP1E', 'B001LRLE60', 'B001LRJ6KG', 'B001LQU5W0', 'B001LO6Q7K', 'B001LNO9QG', 'B001LNO9J8', 'B001LNO9IY', 'B01HIDOPP2']\n",
      "{'Product': {'category': ['Musical Instruments', 'Live Sound & Stage', 'Stage & Studio Cables', 'Microphone Cables'], 'description': ['The CBI MLC Cables are built to last and priced to save you big money! An excellent Low-Z microphone cable, the CBI MLC offers high quality XLR male and female connectors and is compatible with any XLR connection-microphones, mixers, recorders. ..or anywhere else you need a high quality XLR connection.'], 'title': 'CBI MLC LowZ XLR Male to XLR Female Microphone Cable, 20 Feet', 'brand': 'CBI Cables', 'feature': ['Microphone cable for studio recording and live sound', 'High-quality XLR male and female connectors; 3-pin XLR male to XLR female', 'Protective metal housing; flexible PVC jacket with 6.0mm outer diameter', 'All copper conductors and inner copper spiral shielding; shielded cable reduces interference and excess noise', 'Measures 20-feet long; backed by a CBI Cables 10-Year Limited Warranty', '<span class=\"a-size-base a-color-secondary\">\\n                Quantity: 1\\n            </span>', '<span class=\"a-size-base a-color-secondary\">\\n                Length: 20 feet\\n            </span>', '<span class=\"a-size-base a-color-secondary\">\\n                High Quality XLR Male and Female Connectors\\n            </span>', '<span class=\"a-size-base a-color-secondary\">\\n                24-Gauge Wire\\n            </span>', '<span class=\"a-size-base a-color-secondary\">\\n                Flexible Construction\\n            </span>', '<span class=\"a-size-base a-color-secondary\">\\n                Durable Jacket\\n            </span>', '<span class=\"a-size-base a-color-secondary\">\\n                Nickel-Plated Connectors\\n            </span>', '<span class=\"a-size-base a-color-secondary\">\\n                Model: MLC20\\n            </span>'], 'price': '$9.95'}, 'Reviews by similar users': {1: {'overall': 5.0, 'verified': True, 'reviewText': \"This mic cable is AMAZING!  If you plug one end into a mic, and the other end into a PA it can actually CARRY SOUND from one to another!  It's a miracle of modern science.\", 'summary': \"It's a miracle of modern science.\"}}, 'Helpful review of product': {'overall': 5.0, 'verified': True, 'reviewText': 'Excellent', 'summary': 'Five Stars'}, 'Reviews of similar products by user': {1: {'overall': 5.0, 'verified': True, 'reviewText': 'Excellent product after using the Rode SC7 the humm and hiss I experienced in mobile Livestreaming solution was gone.', 'summary': 'No Hmmmmmmmm'}}}\n"
     ]
    }
   ],
   "source": [
    "# test on random node \n",
    "import random \n",
    "\n",
    "users = U.columns.tolist() \n",
    "rand_user = random.choice(users) \n",
    "info = find_prompt_info(rand_user) "
   ]
  },
  {
   "cell_type": "code",
   "execution_count": 154,
   "id": "c3e8296c",
   "metadata": {},
   "outputs": [
    {
     "name": "stdout",
     "output_type": "stream",
     "text": [
      "Product : {'category': ['Musical Instruments', 'Live Sound & Stage', 'Stage & Studio Cables', 'Microphone Cables'], 'description': ['The CBI MLC Cables are built to last and priced to save you big money! An excellent Low-Z microphone cable, the CBI MLC offers high quality XLR male and female connectors and is compatible with any XLR connection-microphones, mixers, recorders. ..or anywhere else you need a high quality XLR connection.'], 'title': 'CBI MLC LowZ XLR Male to XLR Female Microphone Cable, 20 Feet', 'brand': 'CBI Cables', 'feature': ['Microphone cable for studio recording and live sound', 'High-quality XLR male and female connectors; 3-pin XLR male to XLR female', 'Protective metal housing; flexible PVC jacket with 6.0mm outer diameter', 'All copper conductors and inner copper spiral shielding; shielded cable reduces interference and excess noise', 'Measures 20-feet long; backed by a CBI Cables 10-Year Limited Warranty', '<span class=\"a-size-base a-color-secondary\">\\n                Quantity: 1\\n            </span>', '<span class=\"a-size-base a-color-secondary\">\\n                Length: 20 feet\\n            </span>', '<span class=\"a-size-base a-color-secondary\">\\n                High Quality XLR Male and Female Connectors\\n            </span>', '<span class=\"a-size-base a-color-secondary\">\\n                24-Gauge Wire\\n            </span>', '<span class=\"a-size-base a-color-secondary\">\\n                Flexible Construction\\n            </span>', '<span class=\"a-size-base a-color-secondary\">\\n                Durable Jacket\\n            </span>', '<span class=\"a-size-base a-color-secondary\">\\n                Nickel-Plated Connectors\\n            </span>', '<span class=\"a-size-base a-color-secondary\">\\n                Model: MLC20\\n            </span>'], 'price': '$9.95'}\n",
      "Reviews by similar users : {1: {'overall': 5.0, 'verified': True, 'reviewText': \"This mic cable is AMAZING!  If you plug one end into a mic, and the other end into a PA it can actually CARRY SOUND from one to another!  It's a miracle of modern science.\", 'summary': \"It's a miracle of modern science.\"}}\n",
      "Helpful review of product : {'overall': 5.0, 'verified': True, 'reviewText': 'Excellent', 'summary': 'Five Stars'}\n",
      "Reviews of similar products by user : {1: {'overall': 5.0, 'verified': True, 'reviewText': 'Excellent product after using the Rode SC7 the humm and hiss I experienced in mobile Livestreaming solution was gone.', 'summary': 'No Hmmmmmmmm'}}\n"
     ]
    }
   ],
   "source": [
    "for k, v in info.items(): \n",
    "    print(k, \":\", v) "
   ]
  },
  {
   "cell_type": "code",
   "execution_count": 155,
   "id": "57ec629d",
   "metadata": {},
   "outputs": [
    {
     "name": "stdout",
     "output_type": "stream",
     "text": [
      "category : ['Musical Instruments', 'Live Sound & Stage', 'Stage & Studio Cables', 'Microphone Cables']\n",
      "description : ['The CBI MLC Cables are built to last and priced to save you big money! An excellent Low-Z microphone cable, the CBI MLC offers high quality XLR male and female connectors and is compatible with any XLR connection-microphones, mixers, recorders. ..or anywhere else you need a high quality XLR connection.']\n",
      "title : CBI MLC LowZ XLR Male to XLR Female Microphone Cable, 20 Feet\n",
      "brand : CBI Cables\n",
      "feature : ['Microphone cable for studio recording and live sound', 'High-quality XLR male and female connectors; 3-pin XLR male to XLR female', 'Protective metal housing; flexible PVC jacket with 6.0mm outer diameter', 'All copper conductors and inner copper spiral shielding; shielded cable reduces interference and excess noise', 'Measures 20-feet long; backed by a CBI Cables 10-Year Limited Warranty', '<span class=\"a-size-base a-color-secondary\">\\n                Quantity: 1\\n            </span>', '<span class=\"a-size-base a-color-secondary\">\\n                Length: 20 feet\\n            </span>', '<span class=\"a-size-base a-color-secondary\">\\n                High Quality XLR Male and Female Connectors\\n            </span>', '<span class=\"a-size-base a-color-secondary\">\\n                24-Gauge Wire\\n            </span>', '<span class=\"a-size-base a-color-secondary\">\\n                Flexible Construction\\n            </span>', '<span class=\"a-size-base a-color-secondary\">\\n                Durable Jacket\\n            </span>', '<span class=\"a-size-base a-color-secondary\">\\n                Nickel-Plated Connectors\\n            </span>', '<span class=\"a-size-base a-color-secondary\">\\n                Model: MLC20\\n            </span>']\n",
      "price : $9.95\n"
     ]
    }
   ],
   "source": [
    "for k, v in info['Product'].items(): \n",
    "    print(k, \":\", v) "
   ]
  },
  {
   "cell_type": "markdown",
   "id": "8141cb42",
   "metadata": {},
   "source": [
    "## 4.2. Generate Prompt "
   ]
  },
  {
   "cell_type": "code",
   "execution_count": 156,
   "id": "93bd117d",
   "metadata": {},
   "outputs": [],
   "source": [
    "task_prompt = \"\"\"\n",
    "### TASK DESCRIPTION: \n",
    "Your task is to generate short recommendation tips for Amazon users based on information that will be provided to you in follow up prompts.\n",
    "The information you will be given is structured in JSON format. \n",
    "The structure is as follows:\n",
    "{\n",
    "    Product: {<key-value pairs providing information on the recommended product>},\n",
    "    Reviews by similar users: {\n",
    "        <Ranked similarity with user, with 1 being the highest rank>: <review data as key value pairs>{\n",
    "            <overall>: <rating this user gave to the product>, \n",
    "            <verified>: <if True, this review is known to derive from a trusted source>, \n",
    "            <reviewText>: <the text of the review itself>, \n",
    "            <summary>: <a brief summary of the review>\n",
    "            },\n",
    "    Reviews of similar product by user: {<same structure as above. These reviews are of the products most similar to the recommended product, and are written by the recomendee user.>}, \n",
    "    Helpful review of product: {<same structure as above. This review of the product was voted most helpful by other users.>},\n",
    "}\n",
    "Your task is to synthesize this information into a short recommendation tip for the product that is customized for this user. \n",
    "-------------------------------------------------------------------------------------------------\n",
    "Each prompt will represent a separate recommendation task. \n",
    "\n",
    "This prompt is only to inform you of the task. \n",
    "If you understand the task, please return a brief message verifying your understanding. \n",
    "If you do not understand the task, please return a brief message explaining your confusion.\n",
    "\"\"\""
   ]
  },
  {
   "cell_type": "markdown",
   "id": "77aea547",
   "metadata": {},
   "source": [
    "## 4.3. Gemini "
   ]
  },
  {
   "cell_type": "markdown",
   "id": "956cce74",
   "metadata": {},
   "source": [
    "Note: Gemini 2.5 Pro Experiment is limited to 1 request per minute and 1000 requests per day. "
   ]
  },
  {
   "cell_type": "markdown",
   "id": "4ad52f00",
   "metadata": {},
   "source": [
    "### 4.3.1. With requests"
   ]
  },
  {
   "cell_type": "code",
   "execution_count": 159,
   "id": "e14c6016",
   "metadata": {},
   "outputs": [
    {
     "name": "stdout",
     "output_type": "stream",
     "text": [
      "---Prompt---\n",
      "\n",
      "### TASK DESCRIPTION: \n",
      "Your task is to generate short recommendation tips for Amazon users based on information that will be provided to you in follow up prompts.\n",
      "The information you will be given is structured in JSON format. \n",
      "The structure is as follows:\n",
      "{\n",
      "    Product: {<key-value pairs providing information on the recommended product>},\n",
      "    Reviews by similar users: {\n",
      "        <Ranked similarity with user, with 1 being the highest rank>: <review data as key value pairs>{\n",
      "            <overall>: <rating this user gave to the product>, \n",
      "            <verified>: <if True, this review is known to derive from a trusted source>, \n",
      "            <reviewText>: <the text of the review itself>, \n",
      "            <summary>: <a brief summary of the review>\n",
      "            },\n",
      "    Reviews of similar product by user: {<same structure as above. These reviews are of the products most similar to the recommended product, and are written by the recomendee user.>}, \n",
      "    Helpful review of product: {<same structure as above. This review of the product was voted most helpful by other users.>},\n",
      "}\n",
      "Your task is to synthesize this information into a short recommendation tip for the product that is customized for this user. \n",
      "-------------------------------------------------------------------------------------------------\n",
      "Each prompt will represent a separate recommendation task. \n",
      "\n",
      "This prompt is only to inform you of the task. \n",
      "If you understand the task, please return a brief message verifying your understanding. \n",
      "If you do not understand the task, please return a brief message explaining your confusion.\n",
      "\n",
      "\n",
      "---Model Response ---\n",
      "Error extracting model response: 'choices'\n",
      "Raw response: {\"error\":{\"message\":\"No endpoints found for google/gemini-2.5-pro-exp-03-25:free.\",\"code\":404},\"user_id\":\"user_2xAhLskRxvUiyjRHobNWOag8plr\"}\n"
     ]
    }
   ],
   "source": [
    "import requests\n",
    "import json \n",
    "from dotenv import load_dotenv \n",
    "\n",
    "env_path = os.path.join(project_dir, \".env\") \n",
    "load_dotenv(env_path) \n",
    "\n",
    "gemini_api_key = os.getenv('OPENROUTER_API_KEY')\n",
    "\n",
    "response = requests.post(\n",
    "    url=\"https://openrouter.ai/api/v1/chat/completions\", \n",
    "    headers={\n",
    "        \"Authorization\": f\"Bearer {gemini_api_key}\",\n",
    "        \"Content-Type\": \"application/json\" \n",
    "    }, \n",
    "    data = json.dumps({\n",
    "        \"model\": \"google/gemini-2.5-pro-exp-03-25:free\",\n",
    "        \"messages\": [\n",
    "            {\n",
    "                \"role\": \"user\",\n",
    "                \"content\": [\n",
    "                    {\n",
    "                        \"type\": \"text\", \n",
    "                        \"text\": task_prompt\n",
    "                    }\n",
    "                ]\n",
    "            }\n",
    "        ]\n",
    "    })\n",
    ")\n",
    "\n",
    "print(\"---Prompt---\") \n",
    "print(task_prompt)\n",
    "print(\"\\n---Model Response ---\") \n",
    "try: \n",
    "    result = response.json() \n",
    "    message = result['choices'][0]['message']['content'] \n",
    "    print(message) \n",
    "except Exception as e: \n",
    "    print(\"Error extracting model response:\", e) \n",
    "    print(\"Raw response:\", response.text) "
   ]
  },
  {
   "cell_type": "markdown",
   "id": "54f0b5c4",
   "metadata": {},
   "source": [
    "With Langchain "
   ]
  },
  {
   "cell_type": "code",
   "execution_count": 1,
   "id": "a3486f71",
   "metadata": {},
   "outputs": [],
   "source": [
    "# create gemini instance\n",
    "import os\n",
    "from langchain_google_genai import ChatGoogleGenerativeAI, GoogleGenerativeAI\n",
    "\n",
    "gemini = GoogleGenerativeAI(\n",
    "    model=\"gemini-2.0-flash-lite\", \n",
    "    google_api_key=os.getenv(\"GEMINI_API_KEY\"),\n",
    "    temperature=0.5\n",
    ")"
   ]
  },
  {
   "cell_type": "code",
   "execution_count": 2,
   "id": "ea719620",
   "metadata": {},
   "outputs": [
    {
     "name": "stderr",
     "output_type": "stream",
     "text": [
      "Retrying langchain_google_genai.chat_models._chat_with_retry.<locals>._chat_with_retry in 2.0 seconds as it raised PermissionDenied: 403 Request had insufficient authentication scopes. [reason: \"ACCESS_TOKEN_SCOPE_INSUFFICIENT\"\n",
      "domain: \"googleapis.com\"\n",
      "metadata {\n",
      "  key: \"service\"\n",
      "  value: \"generativelanguage.googleapis.com\"\n",
      "}\n",
      "metadata {\n",
      "  key: \"method\"\n",
      "  value: \"google.ai.generativelanguage.v1beta.GenerativeService.GenerateContent\"\n",
      "}\n",
      "].\n"
     ]
    },
    {
     "ename": "PermissionDenied",
     "evalue": "403 Request had insufficient authentication scopes. [reason: \"ACCESS_TOKEN_SCOPE_INSUFFICIENT\"\ndomain: \"googleapis.com\"\nmetadata {\n  key: \"service\"\n  value: \"generativelanguage.googleapis.com\"\n}\nmetadata {\n  key: \"method\"\n  value: \"google.ai.generativelanguage.v1beta.GenerativeService.GenerateContent\"\n}\n]",
     "output_type": "error",
     "traceback": [
      "\u001b[31m---------------------------------------------------------------------------\u001b[39m",
      "\u001b[31mPermissionDenied\u001b[39m                          Traceback (most recent call last)",
      "\u001b[36mCell\u001b[39m\u001b[36m \u001b[39m\u001b[32mIn[2]\u001b[39m\u001b[32m, line 1\u001b[39m\n\u001b[32m----> \u001b[39m\u001b[32m1\u001b[39m \u001b[38;5;28mprint\u001b[39m(\u001b[43mgemini\u001b[49m\u001b[43m.\u001b[49m\u001b[43minvoke\u001b[49m\u001b[43m(\u001b[49m\n\u001b[32m      2\u001b[39m \u001b[43m    \u001b[49m\u001b[33;43m\"\u001b[39;49m\u001b[33;43mPlease confirm that I am speaking with gemini-2.0-flash-lite.\u001b[39;49m\u001b[33;43m\"\u001b[39;49m\n\u001b[32m      3\u001b[39m \u001b[43m)\u001b[49m)\n",
      "\u001b[36mFile \u001b[39m\u001b[32mc:\\Users\\bened\\anaconda3\\envs\\SINA-AT3\\Lib\\site-packages\\langchain_core\\language_models\\llms.py:387\u001b[39m, in \u001b[36mBaseLLM.invoke\u001b[39m\u001b[34m(self, input, config, stop, **kwargs)\u001b[39m\n\u001b[32m    376\u001b[39m \u001b[38;5;129m@override\u001b[39m\n\u001b[32m    377\u001b[39m \u001b[38;5;28;01mdef\u001b[39;00m\u001b[38;5;250m \u001b[39m\u001b[34minvoke\u001b[39m(\n\u001b[32m    378\u001b[39m     \u001b[38;5;28mself\u001b[39m,\n\u001b[32m   (...)\u001b[39m\u001b[32m    383\u001b[39m     **kwargs: Any,\n\u001b[32m    384\u001b[39m ) -> \u001b[38;5;28mstr\u001b[39m:\n\u001b[32m    385\u001b[39m     config = ensure_config(config)\n\u001b[32m    386\u001b[39m     \u001b[38;5;28;01mreturn\u001b[39;00m (\n\u001b[32m--> \u001b[39m\u001b[32m387\u001b[39m         \u001b[38;5;28;43mself\u001b[39;49m\u001b[43m.\u001b[49m\u001b[43mgenerate_prompt\u001b[49m\u001b[43m(\u001b[49m\n\u001b[32m    388\u001b[39m \u001b[43m            \u001b[49m\u001b[43m[\u001b[49m\u001b[38;5;28;43mself\u001b[39;49m\u001b[43m.\u001b[49m\u001b[43m_convert_input\u001b[49m\u001b[43m(\u001b[49m\u001b[38;5;28;43minput\u001b[39;49m\u001b[43m)\u001b[49m\u001b[43m]\u001b[49m\u001b[43m,\u001b[49m\n\u001b[32m    389\u001b[39m \u001b[43m            \u001b[49m\u001b[43mstop\u001b[49m\u001b[43m=\u001b[49m\u001b[43mstop\u001b[49m\u001b[43m,\u001b[49m\n\u001b[32m    390\u001b[39m \u001b[43m            \u001b[49m\u001b[43mcallbacks\u001b[49m\u001b[43m=\u001b[49m\u001b[43mconfig\u001b[49m\u001b[43m.\u001b[49m\u001b[43mget\u001b[49m\u001b[43m(\u001b[49m\u001b[33;43m\"\u001b[39;49m\u001b[33;43mcallbacks\u001b[39;49m\u001b[33;43m\"\u001b[39;49m\u001b[43m)\u001b[49m\u001b[43m,\u001b[49m\n\u001b[32m    391\u001b[39m \u001b[43m            \u001b[49m\u001b[43mtags\u001b[49m\u001b[43m=\u001b[49m\u001b[43mconfig\u001b[49m\u001b[43m.\u001b[49m\u001b[43mget\u001b[49m\u001b[43m(\u001b[49m\u001b[33;43m\"\u001b[39;49m\u001b[33;43mtags\u001b[39;49m\u001b[33;43m\"\u001b[39;49m\u001b[43m)\u001b[49m\u001b[43m,\u001b[49m\n\u001b[32m    392\u001b[39m \u001b[43m            \u001b[49m\u001b[43mmetadata\u001b[49m\u001b[43m=\u001b[49m\u001b[43mconfig\u001b[49m\u001b[43m.\u001b[49m\u001b[43mget\u001b[49m\u001b[43m(\u001b[49m\u001b[33;43m\"\u001b[39;49m\u001b[33;43mmetadata\u001b[39;49m\u001b[33;43m\"\u001b[39;49m\u001b[43m)\u001b[49m\u001b[43m,\u001b[49m\n\u001b[32m    393\u001b[39m \u001b[43m            \u001b[49m\u001b[43mrun_name\u001b[49m\u001b[43m=\u001b[49m\u001b[43mconfig\u001b[49m\u001b[43m.\u001b[49m\u001b[43mget\u001b[49m\u001b[43m(\u001b[49m\u001b[33;43m\"\u001b[39;49m\u001b[33;43mrun_name\u001b[39;49m\u001b[33;43m\"\u001b[39;49m\u001b[43m)\u001b[49m\u001b[43m,\u001b[49m\n\u001b[32m    394\u001b[39m \u001b[43m            \u001b[49m\u001b[43mrun_id\u001b[49m\u001b[43m=\u001b[49m\u001b[43mconfig\u001b[49m\u001b[43m.\u001b[49m\u001b[43mpop\u001b[49m\u001b[43m(\u001b[49m\u001b[33;43m\"\u001b[39;49m\u001b[33;43mrun_id\u001b[39;49m\u001b[33;43m\"\u001b[39;49m\u001b[43m,\u001b[49m\u001b[43m \u001b[49m\u001b[38;5;28;43;01mNone\u001b[39;49;00m\u001b[43m)\u001b[49m\u001b[43m,\u001b[49m\n\u001b[32m    395\u001b[39m \u001b[43m            \u001b[49m\u001b[43m*\u001b[49m\u001b[43m*\u001b[49m\u001b[43mkwargs\u001b[49m\u001b[43m,\u001b[49m\n\u001b[32m    396\u001b[39m \u001b[43m        \u001b[49m\u001b[43m)\u001b[49m\n\u001b[32m    397\u001b[39m         .generations[\u001b[32m0\u001b[39m][\u001b[32m0\u001b[39m]\n\u001b[32m    398\u001b[39m         .text\n\u001b[32m    399\u001b[39m     )\n",
      "\u001b[36mFile \u001b[39m\u001b[32mc:\\Users\\bened\\anaconda3\\envs\\SINA-AT3\\Lib\\site-packages\\langchain_core\\language_models\\llms.py:764\u001b[39m, in \u001b[36mBaseLLM.generate_prompt\u001b[39m\u001b[34m(self, prompts, stop, callbacks, **kwargs)\u001b[39m\n\u001b[32m    755\u001b[39m \u001b[38;5;129m@override\u001b[39m\n\u001b[32m    756\u001b[39m \u001b[38;5;28;01mdef\u001b[39;00m\u001b[38;5;250m \u001b[39m\u001b[34mgenerate_prompt\u001b[39m(\n\u001b[32m    757\u001b[39m     \u001b[38;5;28mself\u001b[39m,\n\u001b[32m   (...)\u001b[39m\u001b[32m    761\u001b[39m     **kwargs: Any,\n\u001b[32m    762\u001b[39m ) -> LLMResult:\n\u001b[32m    763\u001b[39m     prompt_strings = [p.to_string() \u001b[38;5;28;01mfor\u001b[39;00m p \u001b[38;5;129;01min\u001b[39;00m prompts]\n\u001b[32m--> \u001b[39m\u001b[32m764\u001b[39m     \u001b[38;5;28;01mreturn\u001b[39;00m \u001b[38;5;28;43mself\u001b[39;49m\u001b[43m.\u001b[49m\u001b[43mgenerate\u001b[49m\u001b[43m(\u001b[49m\u001b[43mprompt_strings\u001b[49m\u001b[43m,\u001b[49m\u001b[43m \u001b[49m\u001b[43mstop\u001b[49m\u001b[43m=\u001b[49m\u001b[43mstop\u001b[49m\u001b[43m,\u001b[49m\u001b[43m \u001b[49m\u001b[43mcallbacks\u001b[49m\u001b[43m=\u001b[49m\u001b[43mcallbacks\u001b[49m\u001b[43m,\u001b[49m\u001b[43m \u001b[49m\u001b[43m*\u001b[49m\u001b[43m*\u001b[49m\u001b[43mkwargs\u001b[49m\u001b[43m)\u001b[49m\n",
      "\u001b[36mFile \u001b[39m\u001b[32mc:\\Users\\bened\\anaconda3\\envs\\SINA-AT3\\Lib\\site-packages\\langchain_core\\language_models\\llms.py:971\u001b[39m, in \u001b[36mBaseLLM.generate\u001b[39m\u001b[34m(self, prompts, stop, callbacks, tags, metadata, run_name, run_id, **kwargs)\u001b[39m\n\u001b[32m    956\u001b[39m \u001b[38;5;28;01mif\u001b[39;00m (\u001b[38;5;28mself\u001b[39m.cache \u001b[38;5;129;01mis\u001b[39;00m \u001b[38;5;28;01mNone\u001b[39;00m \u001b[38;5;129;01mand\u001b[39;00m get_llm_cache() \u001b[38;5;129;01mis\u001b[39;00m \u001b[38;5;28;01mNone\u001b[39;00m) \u001b[38;5;129;01mor\u001b[39;00m \u001b[38;5;28mself\u001b[39m.cache \u001b[38;5;129;01mis\u001b[39;00m \u001b[38;5;28;01mFalse\u001b[39;00m:\n\u001b[32m    957\u001b[39m     run_managers = [\n\u001b[32m    958\u001b[39m         callback_manager.on_llm_start(\n\u001b[32m    959\u001b[39m             \u001b[38;5;28mself\u001b[39m._serialized,\n\u001b[32m   (...)\u001b[39m\u001b[32m    969\u001b[39m         )\n\u001b[32m    970\u001b[39m     ]\n\u001b[32m--> \u001b[39m\u001b[32m971\u001b[39m     \u001b[38;5;28;01mreturn\u001b[39;00m \u001b[38;5;28;43mself\u001b[39;49m\u001b[43m.\u001b[49m\u001b[43m_generate_helper\u001b[49m\u001b[43m(\u001b[49m\n\u001b[32m    972\u001b[39m \u001b[43m        \u001b[49m\u001b[43mprompts\u001b[49m\u001b[43m,\u001b[49m\n\u001b[32m    973\u001b[39m \u001b[43m        \u001b[49m\u001b[43mstop\u001b[49m\u001b[43m,\u001b[49m\n\u001b[32m    974\u001b[39m \u001b[43m        \u001b[49m\u001b[43mrun_managers\u001b[49m\u001b[43m,\u001b[49m\n\u001b[32m    975\u001b[39m \u001b[43m        \u001b[49m\u001b[43mnew_arg_supported\u001b[49m\u001b[43m=\u001b[49m\u001b[38;5;28;43mbool\u001b[39;49m\u001b[43m(\u001b[49m\u001b[43mnew_arg_supported\u001b[49m\u001b[43m)\u001b[49m\u001b[43m,\u001b[49m\n\u001b[32m    976\u001b[39m \u001b[43m        \u001b[49m\u001b[43m*\u001b[49m\u001b[43m*\u001b[49m\u001b[43mkwargs\u001b[49m\u001b[43m,\u001b[49m\n\u001b[32m    977\u001b[39m \u001b[43m    \u001b[49m\u001b[43m)\u001b[49m\n\u001b[32m    978\u001b[39m \u001b[38;5;28;01mif\u001b[39;00m \u001b[38;5;28mlen\u001b[39m(missing_prompts) > \u001b[32m0\u001b[39m:\n\u001b[32m    979\u001b[39m     run_managers = [\n\u001b[32m    980\u001b[39m         callback_managers[idx].on_llm_start(\n\u001b[32m    981\u001b[39m             \u001b[38;5;28mself\u001b[39m._serialized,\n\u001b[32m   (...)\u001b[39m\u001b[32m    988\u001b[39m         \u001b[38;5;28;01mfor\u001b[39;00m idx \u001b[38;5;129;01min\u001b[39;00m missing_prompt_idxs\n\u001b[32m    989\u001b[39m     ]\n",
      "\u001b[36mFile \u001b[39m\u001b[32mc:\\Users\\bened\\anaconda3\\envs\\SINA-AT3\\Lib\\site-packages\\langchain_core\\language_models\\llms.py:790\u001b[39m, in \u001b[36mBaseLLM._generate_helper\u001b[39m\u001b[34m(self, prompts, stop, run_managers, new_arg_supported, **kwargs)\u001b[39m\n\u001b[32m    779\u001b[39m \u001b[38;5;28;01mdef\u001b[39;00m\u001b[38;5;250m \u001b[39m\u001b[34m_generate_helper\u001b[39m(\n\u001b[32m    780\u001b[39m     \u001b[38;5;28mself\u001b[39m,\n\u001b[32m    781\u001b[39m     prompts: \u001b[38;5;28mlist\u001b[39m[\u001b[38;5;28mstr\u001b[39m],\n\u001b[32m   (...)\u001b[39m\u001b[32m    786\u001b[39m     **kwargs: Any,\n\u001b[32m    787\u001b[39m ) -> LLMResult:\n\u001b[32m    788\u001b[39m     \u001b[38;5;28;01mtry\u001b[39;00m:\n\u001b[32m    789\u001b[39m         output = (\n\u001b[32m--> \u001b[39m\u001b[32m790\u001b[39m             \u001b[38;5;28;43mself\u001b[39;49m\u001b[43m.\u001b[49m\u001b[43m_generate\u001b[49m\u001b[43m(\u001b[49m\n\u001b[32m    791\u001b[39m \u001b[43m                \u001b[49m\u001b[43mprompts\u001b[49m\u001b[43m,\u001b[49m\n\u001b[32m    792\u001b[39m \u001b[43m                \u001b[49m\u001b[43mstop\u001b[49m\u001b[43m=\u001b[49m\u001b[43mstop\u001b[49m\u001b[43m,\u001b[49m\n\u001b[32m    793\u001b[39m \u001b[43m                \u001b[49m\u001b[38;5;66;43;03m# TODO: support multiple run managers\u001b[39;49;00m\n\u001b[32m    794\u001b[39m \u001b[43m                \u001b[49m\u001b[43mrun_manager\u001b[49m\u001b[43m=\u001b[49m\u001b[43mrun_managers\u001b[49m\u001b[43m[\u001b[49m\u001b[32;43m0\u001b[39;49m\u001b[43m]\u001b[49m\u001b[43m \u001b[49m\u001b[38;5;28;43;01mif\u001b[39;49;00m\u001b[43m \u001b[49m\u001b[43mrun_managers\u001b[49m\u001b[43m \u001b[49m\u001b[38;5;28;43;01melse\u001b[39;49;00m\u001b[43m \u001b[49m\u001b[38;5;28;43;01mNone\u001b[39;49;00m\u001b[43m,\u001b[49m\n\u001b[32m    795\u001b[39m \u001b[43m                \u001b[49m\u001b[43m*\u001b[49m\u001b[43m*\u001b[49m\u001b[43mkwargs\u001b[49m\u001b[43m,\u001b[49m\n\u001b[32m    796\u001b[39m \u001b[43m            \u001b[49m\u001b[43m)\u001b[49m\n\u001b[32m    797\u001b[39m             \u001b[38;5;28;01mif\u001b[39;00m new_arg_supported\n\u001b[32m    798\u001b[39m             \u001b[38;5;28;01melse\u001b[39;00m \u001b[38;5;28mself\u001b[39m._generate(prompts, stop=stop)\n\u001b[32m    799\u001b[39m         )\n\u001b[32m    800\u001b[39m     \u001b[38;5;28;01mexcept\u001b[39;00m \u001b[38;5;167;01mBaseException\u001b[39;00m \u001b[38;5;28;01mas\u001b[39;00m e:\n\u001b[32m    801\u001b[39m         \u001b[38;5;28;01mfor\u001b[39;00m run_manager \u001b[38;5;129;01min\u001b[39;00m run_managers:\n",
      "\u001b[36mFile \u001b[39m\u001b[32mc:\\Users\\bened\\anaconda3\\envs\\SINA-AT3\\Lib\\site-packages\\langchain_google_genai\\llms.py:102\u001b[39m, in \u001b[36mGoogleGenerativeAI._generate\u001b[39m\u001b[34m(self, prompts, stop, run_manager, **kwargs)\u001b[39m\n\u001b[32m    100\u001b[39m generations = []\n\u001b[32m    101\u001b[39m \u001b[38;5;28;01mfor\u001b[39;00m prompt \u001b[38;5;129;01min\u001b[39;00m prompts:\n\u001b[32m--> \u001b[39m\u001b[32m102\u001b[39m     chat_result = \u001b[38;5;28;43mself\u001b[39;49m\u001b[43m.\u001b[49m\u001b[43mclient\u001b[49m\u001b[43m.\u001b[49m\u001b[43m_generate\u001b[49m\u001b[43m(\u001b[49m\n\u001b[32m    103\u001b[39m \u001b[43m        \u001b[49m\u001b[43m[\u001b[49m\u001b[43mHumanMessage\u001b[49m\u001b[43m(\u001b[49m\u001b[43mcontent\u001b[49m\u001b[43m=\u001b[49m\u001b[43mprompt\u001b[49m\u001b[43m)\u001b[49m\u001b[43m]\u001b[49m\u001b[43m,\u001b[49m\n\u001b[32m    104\u001b[39m \u001b[43m        \u001b[49m\u001b[43mstop\u001b[49m\u001b[43m=\u001b[49m\u001b[43mstop\u001b[49m\u001b[43m,\u001b[49m\n\u001b[32m    105\u001b[39m \u001b[43m        \u001b[49m\u001b[43mrun_manager\u001b[49m\u001b[43m=\u001b[49m\u001b[43mrun_manager\u001b[49m\u001b[43m,\u001b[49m\n\u001b[32m    106\u001b[39m \u001b[43m        \u001b[49m\u001b[43m*\u001b[49m\u001b[43m*\u001b[49m\u001b[43mkwargs\u001b[49m\u001b[43m,\u001b[49m\n\u001b[32m    107\u001b[39m \u001b[43m    \u001b[49m\u001b[43m)\u001b[49m\n\u001b[32m    108\u001b[39m     generations.append(\n\u001b[32m    109\u001b[39m         [\n\u001b[32m    110\u001b[39m             Generation(\n\u001b[32m   (...)\u001b[39m\u001b[32m    118\u001b[39m         ]\n\u001b[32m    119\u001b[39m     )\n\u001b[32m    120\u001b[39m \u001b[38;5;28;01mreturn\u001b[39;00m LLMResult(generations=generations)\n",
      "\u001b[36mFile \u001b[39m\u001b[32mc:\\Users\\bened\\anaconda3\\envs\\SINA-AT3\\Lib\\site-packages\\langchain_google_genai\\chat_models.py:1275\u001b[39m, in \u001b[36mChatGoogleGenerativeAI._generate\u001b[39m\u001b[34m(self, messages, stop, run_manager, tools, functions, safety_settings, tool_config, generation_config, cached_content, tool_choice, **kwargs)\u001b[39m\n\u001b[32m   1249\u001b[39m \u001b[38;5;28;01mdef\u001b[39;00m\u001b[38;5;250m \u001b[39m\u001b[34m_generate\u001b[39m(\n\u001b[32m   1250\u001b[39m     \u001b[38;5;28mself\u001b[39m,\n\u001b[32m   1251\u001b[39m     messages: List[BaseMessage],\n\u001b[32m   (...)\u001b[39m\u001b[32m   1262\u001b[39m     **kwargs: Any,\n\u001b[32m   1263\u001b[39m ) -> ChatResult:\n\u001b[32m   1264\u001b[39m     request = \u001b[38;5;28mself\u001b[39m._prepare_request(\n\u001b[32m   1265\u001b[39m         messages,\n\u001b[32m   1266\u001b[39m         stop=stop,\n\u001b[32m   (...)\u001b[39m\u001b[32m   1273\u001b[39m         tool_choice=tool_choice,\n\u001b[32m   1274\u001b[39m     )\n\u001b[32m-> \u001b[39m\u001b[32m1275\u001b[39m     response: GenerateContentResponse = \u001b[43m_chat_with_retry\u001b[49m\u001b[43m(\u001b[49m\n\u001b[32m   1276\u001b[39m \u001b[43m        \u001b[49m\u001b[43mrequest\u001b[49m\u001b[43m=\u001b[49m\u001b[43mrequest\u001b[49m\u001b[43m,\u001b[49m\n\u001b[32m   1277\u001b[39m \u001b[43m        \u001b[49m\u001b[43m*\u001b[49m\u001b[43m*\u001b[49m\u001b[43mkwargs\u001b[49m\u001b[43m,\u001b[49m\n\u001b[32m   1278\u001b[39m \u001b[43m        \u001b[49m\u001b[43mgeneration_method\u001b[49m\u001b[43m=\u001b[49m\u001b[38;5;28;43mself\u001b[39;49m\u001b[43m.\u001b[49m\u001b[43mclient\u001b[49m\u001b[43m.\u001b[49m\u001b[43mgenerate_content\u001b[49m\u001b[43m,\u001b[49m\n\u001b[32m   1279\u001b[39m \u001b[43m        \u001b[49m\u001b[43mmetadata\u001b[49m\u001b[43m=\u001b[49m\u001b[38;5;28;43mself\u001b[39;49m\u001b[43m.\u001b[49m\u001b[43mdefault_metadata\u001b[49m\u001b[43m,\u001b[49m\n\u001b[32m   1280\u001b[39m \u001b[43m    \u001b[49m\u001b[43m)\u001b[49m\n\u001b[32m   1281\u001b[39m     \u001b[38;5;28;01mreturn\u001b[39;00m _response_to_result(response)\n",
      "\u001b[36mFile \u001b[39m\u001b[32mc:\\Users\\bened\\anaconda3\\envs\\SINA-AT3\\Lib\\site-packages\\langchain_google_genai\\chat_models.py:210\u001b[39m, in \u001b[36m_chat_with_retry\u001b[39m\u001b[34m(generation_method, **kwargs)\u001b[39m\n\u001b[32m    207\u001b[39m     \u001b[38;5;28;01mexcept\u001b[39;00m \u001b[38;5;167;01mException\u001b[39;00m \u001b[38;5;28;01mas\u001b[39;00m e:\n\u001b[32m    208\u001b[39m         \u001b[38;5;28;01mraise\u001b[39;00m e\n\u001b[32m--> \u001b[39m\u001b[32m210\u001b[39m \u001b[38;5;28;01mreturn\u001b[39;00m \u001b[43m_chat_with_retry\u001b[49m\u001b[43m(\u001b[49m\u001b[43m*\u001b[49m\u001b[43m*\u001b[49m\u001b[43mkwargs\u001b[49m\u001b[43m)\u001b[49m\n",
      "\u001b[36mFile \u001b[39m\u001b[32mc:\\Users\\bened\\anaconda3\\envs\\SINA-AT3\\Lib\\site-packages\\tenacity\\__init__.py:338\u001b[39m, in \u001b[36mBaseRetrying.wraps.<locals>.wrapped_f\u001b[39m\u001b[34m(*args, **kw)\u001b[39m\n\u001b[32m    336\u001b[39m copy = \u001b[38;5;28mself\u001b[39m.copy()\n\u001b[32m    337\u001b[39m wrapped_f.statistics = copy.statistics  \u001b[38;5;66;03m# type: ignore[attr-defined]\u001b[39;00m\n\u001b[32m--> \u001b[39m\u001b[32m338\u001b[39m \u001b[38;5;28;01mreturn\u001b[39;00m \u001b[43mcopy\u001b[49m\u001b[43m(\u001b[49m\u001b[43mf\u001b[49m\u001b[43m,\u001b[49m\u001b[43m \u001b[49m\u001b[43m*\u001b[49m\u001b[43margs\u001b[49m\u001b[43m,\u001b[49m\u001b[43m \u001b[49m\u001b[43m*\u001b[49m\u001b[43m*\u001b[49m\u001b[43mkw\u001b[49m\u001b[43m)\u001b[49m\n",
      "\u001b[36mFile \u001b[39m\u001b[32mc:\\Users\\bened\\anaconda3\\envs\\SINA-AT3\\Lib\\site-packages\\tenacity\\__init__.py:477\u001b[39m, in \u001b[36mRetrying.__call__\u001b[39m\u001b[34m(self, fn, *args, **kwargs)\u001b[39m\n\u001b[32m    475\u001b[39m retry_state = RetryCallState(retry_object=\u001b[38;5;28mself\u001b[39m, fn=fn, args=args, kwargs=kwargs)\n\u001b[32m    476\u001b[39m \u001b[38;5;28;01mwhile\u001b[39;00m \u001b[38;5;28;01mTrue\u001b[39;00m:\n\u001b[32m--> \u001b[39m\u001b[32m477\u001b[39m     do = \u001b[38;5;28;43mself\u001b[39;49m\u001b[43m.\u001b[49m\u001b[43miter\u001b[49m\u001b[43m(\u001b[49m\u001b[43mretry_state\u001b[49m\u001b[43m=\u001b[49m\u001b[43mretry_state\u001b[49m\u001b[43m)\u001b[49m\n\u001b[32m    478\u001b[39m     \u001b[38;5;28;01mif\u001b[39;00m \u001b[38;5;28misinstance\u001b[39m(do, DoAttempt):\n\u001b[32m    479\u001b[39m         \u001b[38;5;28;01mtry\u001b[39;00m:\n",
      "\u001b[36mFile \u001b[39m\u001b[32mc:\\Users\\bened\\anaconda3\\envs\\SINA-AT3\\Lib\\site-packages\\tenacity\\__init__.py:378\u001b[39m, in \u001b[36mBaseRetrying.iter\u001b[39m\u001b[34m(self, retry_state)\u001b[39m\n\u001b[32m    376\u001b[39m result = \u001b[38;5;28;01mNone\u001b[39;00m\n\u001b[32m    377\u001b[39m \u001b[38;5;28;01mfor\u001b[39;00m action \u001b[38;5;129;01min\u001b[39;00m \u001b[38;5;28mself\u001b[39m.iter_state.actions:\n\u001b[32m--> \u001b[39m\u001b[32m378\u001b[39m     result = \u001b[43maction\u001b[49m\u001b[43m(\u001b[49m\u001b[43mretry_state\u001b[49m\u001b[43m)\u001b[49m\n\u001b[32m    379\u001b[39m \u001b[38;5;28;01mreturn\u001b[39;00m result\n",
      "\u001b[36mFile \u001b[39m\u001b[32mc:\\Users\\bened\\anaconda3\\envs\\SINA-AT3\\Lib\\site-packages\\tenacity\\__init__.py:420\u001b[39m, in \u001b[36mBaseRetrying._post_stop_check_actions.<locals>.exc_check\u001b[39m\u001b[34m(rs)\u001b[39m\n\u001b[32m    418\u001b[39m retry_exc = \u001b[38;5;28mself\u001b[39m.retry_error_cls(fut)\n\u001b[32m    419\u001b[39m \u001b[38;5;28;01mif\u001b[39;00m \u001b[38;5;28mself\u001b[39m.reraise:\n\u001b[32m--> \u001b[39m\u001b[32m420\u001b[39m     \u001b[38;5;28;01mraise\u001b[39;00m \u001b[43mretry_exc\u001b[49m\u001b[43m.\u001b[49m\u001b[43mreraise\u001b[49m\u001b[43m(\u001b[49m\u001b[43m)\u001b[49m\n\u001b[32m    421\u001b[39m \u001b[38;5;28;01mraise\u001b[39;00m retry_exc \u001b[38;5;28;01mfrom\u001b[39;00m\u001b[38;5;250m \u001b[39m\u001b[34;01mfut\u001b[39;00m\u001b[34;01m.\u001b[39;00m\u001b[34;01mexception\u001b[39;00m()\n",
      "\u001b[36mFile \u001b[39m\u001b[32mc:\\Users\\bened\\anaconda3\\envs\\SINA-AT3\\Lib\\site-packages\\tenacity\\__init__.py:187\u001b[39m, in \u001b[36mRetryError.reraise\u001b[39m\u001b[34m(self)\u001b[39m\n\u001b[32m    185\u001b[39m \u001b[38;5;28;01mdef\u001b[39;00m\u001b[38;5;250m \u001b[39m\u001b[34mreraise\u001b[39m(\u001b[38;5;28mself\u001b[39m) -> t.NoReturn:\n\u001b[32m    186\u001b[39m     \u001b[38;5;28;01mif\u001b[39;00m \u001b[38;5;28mself\u001b[39m.last_attempt.failed:\n\u001b[32m--> \u001b[39m\u001b[32m187\u001b[39m         \u001b[38;5;28;01mraise\u001b[39;00m \u001b[38;5;28;43mself\u001b[39;49m\u001b[43m.\u001b[49m\u001b[43mlast_attempt\u001b[49m\u001b[43m.\u001b[49m\u001b[43mresult\u001b[49m\u001b[43m(\u001b[49m\u001b[43m)\u001b[49m\n\u001b[32m    188\u001b[39m     \u001b[38;5;28;01mraise\u001b[39;00m \u001b[38;5;28mself\u001b[39m\n",
      "\u001b[36mFile \u001b[39m\u001b[32mc:\\Users\\bened\\anaconda3\\envs\\SINA-AT3\\Lib\\concurrent\\futures\\_base.py:449\u001b[39m, in \u001b[36mFuture.result\u001b[39m\u001b[34m(self, timeout)\u001b[39m\n\u001b[32m    447\u001b[39m     \u001b[38;5;28;01mraise\u001b[39;00m CancelledError()\n\u001b[32m    448\u001b[39m \u001b[38;5;28;01melif\u001b[39;00m \u001b[38;5;28mself\u001b[39m._state == FINISHED:\n\u001b[32m--> \u001b[39m\u001b[32m449\u001b[39m     \u001b[38;5;28;01mreturn\u001b[39;00m \u001b[38;5;28;43mself\u001b[39;49m\u001b[43m.\u001b[49m\u001b[43m__get_result\u001b[49m\u001b[43m(\u001b[49m\u001b[43m)\u001b[49m\n\u001b[32m    451\u001b[39m \u001b[38;5;28mself\u001b[39m._condition.wait(timeout)\n\u001b[32m    453\u001b[39m \u001b[38;5;28;01mif\u001b[39;00m \u001b[38;5;28mself\u001b[39m._state \u001b[38;5;129;01min\u001b[39;00m [CANCELLED, CANCELLED_AND_NOTIFIED]:\n",
      "\u001b[36mFile \u001b[39m\u001b[32mc:\\Users\\bened\\anaconda3\\envs\\SINA-AT3\\Lib\\concurrent\\futures\\_base.py:401\u001b[39m, in \u001b[36mFuture.__get_result\u001b[39m\u001b[34m(self)\u001b[39m\n\u001b[32m    399\u001b[39m \u001b[38;5;28;01mif\u001b[39;00m \u001b[38;5;28mself\u001b[39m._exception:\n\u001b[32m    400\u001b[39m     \u001b[38;5;28;01mtry\u001b[39;00m:\n\u001b[32m--> \u001b[39m\u001b[32m401\u001b[39m         \u001b[38;5;28;01mraise\u001b[39;00m \u001b[38;5;28mself\u001b[39m._exception\n\u001b[32m    402\u001b[39m     \u001b[38;5;28;01mfinally\u001b[39;00m:\n\u001b[32m    403\u001b[39m         \u001b[38;5;66;03m# Break a reference cycle with the exception in self._exception\u001b[39;00m\n\u001b[32m    404\u001b[39m         \u001b[38;5;28mself\u001b[39m = \u001b[38;5;28;01mNone\u001b[39;00m\n",
      "\u001b[36mFile \u001b[39m\u001b[32mc:\\Users\\bened\\anaconda3\\envs\\SINA-AT3\\Lib\\site-packages\\tenacity\\__init__.py:480\u001b[39m, in \u001b[36mRetrying.__call__\u001b[39m\u001b[34m(self, fn, *args, **kwargs)\u001b[39m\n\u001b[32m    478\u001b[39m \u001b[38;5;28;01mif\u001b[39;00m \u001b[38;5;28misinstance\u001b[39m(do, DoAttempt):\n\u001b[32m    479\u001b[39m     \u001b[38;5;28;01mtry\u001b[39;00m:\n\u001b[32m--> \u001b[39m\u001b[32m480\u001b[39m         result = \u001b[43mfn\u001b[49m\u001b[43m(\u001b[49m\u001b[43m*\u001b[49m\u001b[43margs\u001b[49m\u001b[43m,\u001b[49m\u001b[43m \u001b[49m\u001b[43m*\u001b[49m\u001b[43m*\u001b[49m\u001b[43mkwargs\u001b[49m\u001b[43m)\u001b[49m\n\u001b[32m    481\u001b[39m     \u001b[38;5;28;01mexcept\u001b[39;00m \u001b[38;5;167;01mBaseException\u001b[39;00m:  \u001b[38;5;66;03m# noqa: B902\u001b[39;00m\n\u001b[32m    482\u001b[39m         retry_state.set_exception(sys.exc_info())  \u001b[38;5;66;03m# type: ignore[arg-type]\u001b[39;00m\n",
      "\u001b[36mFile \u001b[39m\u001b[32mc:\\Users\\bened\\anaconda3\\envs\\SINA-AT3\\Lib\\site-packages\\langchain_google_genai\\chat_models.py:208\u001b[39m, in \u001b[36m_chat_with_retry.<locals>._chat_with_retry\u001b[39m\u001b[34m(**kwargs)\u001b[39m\n\u001b[32m    204\u001b[39m     \u001b[38;5;28;01mraise\u001b[39;00m ChatGoogleGenerativeAIError(\n\u001b[32m    205\u001b[39m         \u001b[33mf\u001b[39m\u001b[33m\"\u001b[39m\u001b[33mInvalid argument provided to Gemini: \u001b[39m\u001b[38;5;132;01m{\u001b[39;00me\u001b[38;5;132;01m}\u001b[39;00m\u001b[33m\"\u001b[39m\n\u001b[32m    206\u001b[39m     ) \u001b[38;5;28;01mfrom\u001b[39;00m\u001b[38;5;250m \u001b[39m\u001b[34;01me\u001b[39;00m\n\u001b[32m    207\u001b[39m \u001b[38;5;28;01mexcept\u001b[39;00m \u001b[38;5;167;01mException\u001b[39;00m \u001b[38;5;28;01mas\u001b[39;00m e:\n\u001b[32m--> \u001b[39m\u001b[32m208\u001b[39m     \u001b[38;5;28;01mraise\u001b[39;00m e\n",
      "\u001b[36mFile \u001b[39m\u001b[32mc:\\Users\\bened\\anaconda3\\envs\\SINA-AT3\\Lib\\site-packages\\langchain_google_genai\\chat_models.py:192\u001b[39m, in \u001b[36m_chat_with_retry.<locals>._chat_with_retry\u001b[39m\u001b[34m(**kwargs)\u001b[39m\n\u001b[32m    189\u001b[39m \u001b[38;5;129m@retry_decorator\u001b[39m\n\u001b[32m    190\u001b[39m \u001b[38;5;28;01mdef\u001b[39;00m\u001b[38;5;250m \u001b[39m\u001b[34m_chat_with_retry\u001b[39m(**kwargs: Any) -> Any:\n\u001b[32m    191\u001b[39m     \u001b[38;5;28;01mtry\u001b[39;00m:\n\u001b[32m--> \u001b[39m\u001b[32m192\u001b[39m         \u001b[38;5;28;01mreturn\u001b[39;00m \u001b[43mgeneration_method\u001b[49m\u001b[43m(\u001b[49m\u001b[43m*\u001b[49m\u001b[43m*\u001b[49m\u001b[43mkwargs\u001b[49m\u001b[43m)\u001b[49m\n\u001b[32m    193\u001b[39m     \u001b[38;5;66;03m# Do not retry for these errors.\u001b[39;00m\n\u001b[32m    194\u001b[39m     \u001b[38;5;28;01mexcept\u001b[39;00m google.api_core.exceptions.FailedPrecondition \u001b[38;5;28;01mas\u001b[39;00m exc:\n",
      "\u001b[36mFile \u001b[39m\u001b[32mc:\\Users\\bened\\anaconda3\\envs\\SINA-AT3\\Lib\\site-packages\\google\\ai\\generativelanguage_v1beta\\services\\generative_service\\client.py:868\u001b[39m, in \u001b[36mGenerativeServiceClient.generate_content\u001b[39m\u001b[34m(self, request, model, contents, retry, timeout, metadata)\u001b[39m\n\u001b[32m    865\u001b[39m \u001b[38;5;28mself\u001b[39m._validate_universe_domain()\n\u001b[32m    867\u001b[39m \u001b[38;5;66;03m# Send the request.\u001b[39;00m\n\u001b[32m--> \u001b[39m\u001b[32m868\u001b[39m response = \u001b[43mrpc\u001b[49m\u001b[43m(\u001b[49m\n\u001b[32m    869\u001b[39m \u001b[43m    \u001b[49m\u001b[43mrequest\u001b[49m\u001b[43m,\u001b[49m\n\u001b[32m    870\u001b[39m \u001b[43m    \u001b[49m\u001b[43mretry\u001b[49m\u001b[43m=\u001b[49m\u001b[43mretry\u001b[49m\u001b[43m,\u001b[49m\n\u001b[32m    871\u001b[39m \u001b[43m    \u001b[49m\u001b[43mtimeout\u001b[49m\u001b[43m=\u001b[49m\u001b[43mtimeout\u001b[49m\u001b[43m,\u001b[49m\n\u001b[32m    872\u001b[39m \u001b[43m    \u001b[49m\u001b[43mmetadata\u001b[49m\u001b[43m=\u001b[49m\u001b[43mmetadata\u001b[49m\u001b[43m,\u001b[49m\n\u001b[32m    873\u001b[39m \u001b[43m\u001b[49m\u001b[43m)\u001b[49m\n\u001b[32m    875\u001b[39m \u001b[38;5;66;03m# Done; return the response.\u001b[39;00m\n\u001b[32m    876\u001b[39m \u001b[38;5;28;01mreturn\u001b[39;00m response\n",
      "\u001b[36mFile \u001b[39m\u001b[32mc:\\Users\\bened\\anaconda3\\envs\\SINA-AT3\\Lib\\site-packages\\google\\api_core\\gapic_v1\\method.py:131\u001b[39m, in \u001b[36m_GapicCallable.__call__\u001b[39m\u001b[34m(self, timeout, retry, compression, *args, **kwargs)\u001b[39m\n\u001b[32m    128\u001b[39m \u001b[38;5;28;01mif\u001b[39;00m \u001b[38;5;28mself\u001b[39m._compression \u001b[38;5;129;01mis\u001b[39;00m \u001b[38;5;129;01mnot\u001b[39;00m \u001b[38;5;28;01mNone\u001b[39;00m:\n\u001b[32m    129\u001b[39m     kwargs[\u001b[33m\"\u001b[39m\u001b[33mcompression\u001b[39m\u001b[33m\"\u001b[39m] = compression\n\u001b[32m--> \u001b[39m\u001b[32m131\u001b[39m \u001b[38;5;28;01mreturn\u001b[39;00m \u001b[43mwrapped_func\u001b[49m\u001b[43m(\u001b[49m\u001b[43m*\u001b[49m\u001b[43margs\u001b[49m\u001b[43m,\u001b[49m\u001b[43m \u001b[49m\u001b[43m*\u001b[49m\u001b[43m*\u001b[49m\u001b[43mkwargs\u001b[49m\u001b[43m)\u001b[49m\n",
      "\u001b[36mFile \u001b[39m\u001b[32mc:\\Users\\bened\\anaconda3\\envs\\SINA-AT3\\Lib\\site-packages\\google\\api_core\\retry\\retry_unary.py:293\u001b[39m, in \u001b[36mRetry.__call__.<locals>.retry_wrapped_func\u001b[39m\u001b[34m(*args, **kwargs)\u001b[39m\n\u001b[32m    289\u001b[39m target = functools.partial(func, *args, **kwargs)\n\u001b[32m    290\u001b[39m sleep_generator = exponential_sleep_generator(\n\u001b[32m    291\u001b[39m     \u001b[38;5;28mself\u001b[39m._initial, \u001b[38;5;28mself\u001b[39m._maximum, multiplier=\u001b[38;5;28mself\u001b[39m._multiplier\n\u001b[32m    292\u001b[39m )\n\u001b[32m--> \u001b[39m\u001b[32m293\u001b[39m \u001b[38;5;28;01mreturn\u001b[39;00m \u001b[43mretry_target\u001b[49m\u001b[43m(\u001b[49m\n\u001b[32m    294\u001b[39m \u001b[43m    \u001b[49m\u001b[43mtarget\u001b[49m\u001b[43m,\u001b[49m\n\u001b[32m    295\u001b[39m \u001b[43m    \u001b[49m\u001b[38;5;28;43mself\u001b[39;49m\u001b[43m.\u001b[49m\u001b[43m_predicate\u001b[49m\u001b[43m,\u001b[49m\n\u001b[32m    296\u001b[39m \u001b[43m    \u001b[49m\u001b[43msleep_generator\u001b[49m\u001b[43m,\u001b[49m\n\u001b[32m    297\u001b[39m \u001b[43m    \u001b[49m\u001b[43mtimeout\u001b[49m\u001b[43m=\u001b[49m\u001b[38;5;28;43mself\u001b[39;49m\u001b[43m.\u001b[49m\u001b[43m_timeout\u001b[49m\u001b[43m,\u001b[49m\n\u001b[32m    298\u001b[39m \u001b[43m    \u001b[49m\u001b[43mon_error\u001b[49m\u001b[43m=\u001b[49m\u001b[43mon_error\u001b[49m\u001b[43m,\u001b[49m\n\u001b[32m    299\u001b[39m \u001b[43m\u001b[49m\u001b[43m)\u001b[49m\n",
      "\u001b[36mFile \u001b[39m\u001b[32mc:\\Users\\bened\\anaconda3\\envs\\SINA-AT3\\Lib\\site-packages\\google\\api_core\\retry\\retry_unary.py:153\u001b[39m, in \u001b[36mretry_target\u001b[39m\u001b[34m(target, predicate, sleep_generator, timeout, on_error, exception_factory, **kwargs)\u001b[39m\n\u001b[32m    149\u001b[39m \u001b[38;5;66;03m# pylint: disable=broad-except\u001b[39;00m\n\u001b[32m    150\u001b[39m \u001b[38;5;66;03m# This function explicitly must deal with broad exceptions.\u001b[39;00m\n\u001b[32m    151\u001b[39m \u001b[38;5;28;01mexcept\u001b[39;00m \u001b[38;5;167;01mException\u001b[39;00m \u001b[38;5;28;01mas\u001b[39;00m exc:\n\u001b[32m    152\u001b[39m     \u001b[38;5;66;03m# defer to shared logic for handling errors\u001b[39;00m\n\u001b[32m--> \u001b[39m\u001b[32m153\u001b[39m     \u001b[43m_retry_error_helper\u001b[49m\u001b[43m(\u001b[49m\n\u001b[32m    154\u001b[39m \u001b[43m        \u001b[49m\u001b[43mexc\u001b[49m\u001b[43m,\u001b[49m\n\u001b[32m    155\u001b[39m \u001b[43m        \u001b[49m\u001b[43mdeadline\u001b[49m\u001b[43m,\u001b[49m\n\u001b[32m    156\u001b[39m \u001b[43m        \u001b[49m\u001b[43msleep\u001b[49m\u001b[43m,\u001b[49m\n\u001b[32m    157\u001b[39m \u001b[43m        \u001b[49m\u001b[43merror_list\u001b[49m\u001b[43m,\u001b[49m\n\u001b[32m    158\u001b[39m \u001b[43m        \u001b[49m\u001b[43mpredicate\u001b[49m\u001b[43m,\u001b[49m\n\u001b[32m    159\u001b[39m \u001b[43m        \u001b[49m\u001b[43mon_error\u001b[49m\u001b[43m,\u001b[49m\n\u001b[32m    160\u001b[39m \u001b[43m        \u001b[49m\u001b[43mexception_factory\u001b[49m\u001b[43m,\u001b[49m\n\u001b[32m    161\u001b[39m \u001b[43m        \u001b[49m\u001b[43mtimeout\u001b[49m\u001b[43m,\u001b[49m\n\u001b[32m    162\u001b[39m \u001b[43m    \u001b[49m\u001b[43m)\u001b[49m\n\u001b[32m    163\u001b[39m     \u001b[38;5;66;03m# if exception not raised, sleep before next attempt\u001b[39;00m\n\u001b[32m    164\u001b[39m     time.sleep(sleep)\n",
      "\u001b[36mFile \u001b[39m\u001b[32mc:\\Users\\bened\\anaconda3\\envs\\SINA-AT3\\Lib\\site-packages\\google\\api_core\\retry\\retry_base.py:212\u001b[39m, in \u001b[36m_retry_error_helper\u001b[39m\u001b[34m(exc, deadline, next_sleep, error_list, predicate_fn, on_error_fn, exc_factory_fn, original_timeout)\u001b[39m\n\u001b[32m    206\u001b[39m \u001b[38;5;28;01mif\u001b[39;00m \u001b[38;5;129;01mnot\u001b[39;00m predicate_fn(exc):\n\u001b[32m    207\u001b[39m     final_exc, source_exc = exc_factory_fn(\n\u001b[32m    208\u001b[39m         error_list,\n\u001b[32m    209\u001b[39m         RetryFailureReason.NON_RETRYABLE_ERROR,\n\u001b[32m    210\u001b[39m         original_timeout,\n\u001b[32m    211\u001b[39m     )\n\u001b[32m--> \u001b[39m\u001b[32m212\u001b[39m     \u001b[38;5;28;01mraise\u001b[39;00m final_exc \u001b[38;5;28;01mfrom\u001b[39;00m\u001b[38;5;250m \u001b[39m\u001b[34;01msource_exc\u001b[39;00m\n\u001b[32m    213\u001b[39m \u001b[38;5;28;01mif\u001b[39;00m on_error_fn \u001b[38;5;129;01mis\u001b[39;00m \u001b[38;5;129;01mnot\u001b[39;00m \u001b[38;5;28;01mNone\u001b[39;00m:\n\u001b[32m    214\u001b[39m     on_error_fn(exc)\n",
      "\u001b[36mFile \u001b[39m\u001b[32mc:\\Users\\bened\\anaconda3\\envs\\SINA-AT3\\Lib\\site-packages\\google\\api_core\\retry\\retry_unary.py:144\u001b[39m, in \u001b[36mretry_target\u001b[39m\u001b[34m(target, predicate, sleep_generator, timeout, on_error, exception_factory, **kwargs)\u001b[39m\n\u001b[32m    142\u001b[39m \u001b[38;5;28;01mfor\u001b[39;00m sleep \u001b[38;5;129;01min\u001b[39;00m sleep_generator:\n\u001b[32m    143\u001b[39m     \u001b[38;5;28;01mtry\u001b[39;00m:\n\u001b[32m--> \u001b[39m\u001b[32m144\u001b[39m         result = \u001b[43mtarget\u001b[49m\u001b[43m(\u001b[49m\u001b[43m)\u001b[49m\n\u001b[32m    145\u001b[39m         \u001b[38;5;28;01mif\u001b[39;00m inspect.isawaitable(result):\n\u001b[32m    146\u001b[39m             warnings.warn(_ASYNC_RETRY_WARNING)\n",
      "\u001b[36mFile \u001b[39m\u001b[32mc:\\Users\\bened\\anaconda3\\envs\\SINA-AT3\\Lib\\site-packages\\google\\api_core\\timeout.py:130\u001b[39m, in \u001b[36mTimeToDeadlineTimeout.__call__.<locals>.func_with_timeout\u001b[39m\u001b[34m(*args, **kwargs)\u001b[39m\n\u001b[32m    126\u001b[39m         remaining_timeout = \u001b[38;5;28mself\u001b[39m._timeout\n\u001b[32m    128\u001b[39m     kwargs[\u001b[33m\"\u001b[39m\u001b[33mtimeout\u001b[39m\u001b[33m\"\u001b[39m] = remaining_timeout\n\u001b[32m--> \u001b[39m\u001b[32m130\u001b[39m \u001b[38;5;28;01mreturn\u001b[39;00m \u001b[43mfunc\u001b[49m\u001b[43m(\u001b[49m\u001b[43m*\u001b[49m\u001b[43margs\u001b[49m\u001b[43m,\u001b[49m\u001b[43m \u001b[49m\u001b[43m*\u001b[49m\u001b[43m*\u001b[49m\u001b[43mkwargs\u001b[49m\u001b[43m)\u001b[49m\n",
      "\u001b[36mFile \u001b[39m\u001b[32mc:\\Users\\bened\\anaconda3\\envs\\SINA-AT3\\Lib\\site-packages\\google\\api_core\\grpc_helpers.py:78\u001b[39m, in \u001b[36m_wrap_unary_errors.<locals>.error_remapped_callable\u001b[39m\u001b[34m(*args, **kwargs)\u001b[39m\n\u001b[32m     76\u001b[39m     \u001b[38;5;28;01mreturn\u001b[39;00m callable_(*args, **kwargs)\n\u001b[32m     77\u001b[39m \u001b[38;5;28;01mexcept\u001b[39;00m grpc.RpcError \u001b[38;5;28;01mas\u001b[39;00m exc:\n\u001b[32m---> \u001b[39m\u001b[32m78\u001b[39m     \u001b[38;5;28;01mraise\u001b[39;00m exceptions.from_grpc_error(exc) \u001b[38;5;28;01mfrom\u001b[39;00m\u001b[38;5;250m \u001b[39m\u001b[34;01mexc\u001b[39;00m\n",
      "\u001b[31mPermissionDenied\u001b[39m: 403 Request had insufficient authentication scopes. [reason: \"ACCESS_TOKEN_SCOPE_INSUFFICIENT\"\ndomain: \"googleapis.com\"\nmetadata {\n  key: \"service\"\n  value: \"generativelanguage.googleapis.com\"\n}\nmetadata {\n  key: \"method\"\n  value: \"google.ai.generativelanguage.v1beta.GenerativeService.GenerateContent\"\n}\n]"
     ]
    }
   ],
   "source": [
    "print(gemini.invoke(\n",
    "    \"Please confirm that I am speaking with gemini-2.0-flash-lite.\"\n",
    "))"
   ]
  },
  {
   "cell_type": "code",
   "execution_count": null,
   "id": "07d60d6c",
   "metadata": {},
   "outputs": [
    {
     "ename": "ValueError",
     "evalue": "Missing key inputs argument! To use the Google AI API, provide (`api_key`) arguments. To use the Google Cloud API, provide (`vertexai`, `project` & `location`) arguments.",
     "output_type": "error",
     "traceback": [
      "\u001b[31m---------------------------------------------------------------------------\u001b[39m",
      "\u001b[31mValueError\u001b[39m                                Traceback (most recent call last)",
      "\u001b[36mCell\u001b[39m\u001b[36m \u001b[39m\u001b[32mIn[2]\u001b[39m\u001b[32m, line 5\u001b[39m\n\u001b[32m      2\u001b[39m \u001b[38;5;28;01mimport\u001b[39;00m\u001b[38;5;250m \u001b[39m\u001b[34;01mos\u001b[39;00m \n\u001b[32m      3\u001b[39m \u001b[38;5;28;01mfrom\u001b[39;00m\u001b[38;5;250m \u001b[39m\u001b[34;01mgoogle\u001b[39;00m\u001b[38;5;250m \u001b[39m\u001b[38;5;28;01mimport\u001b[39;00m genai \n\u001b[32m----> \u001b[39m\u001b[32m5\u001b[39m client = \u001b[43mgenai\u001b[49m\u001b[43m.\u001b[49m\u001b[43mClient\u001b[49m\u001b[43m(\u001b[49m\u001b[43mapi_key\u001b[49m\u001b[43m=\u001b[49m\u001b[43mos\u001b[49m\u001b[43m.\u001b[49m\u001b[43mgetenv\u001b[49m\u001b[43m(\u001b[49m\u001b[33;43m\"\u001b[39;49m\u001b[33;43mGEMINI_API_KEY\u001b[39;49m\u001b[33;43m\"\u001b[39;49m\u001b[43m)\u001b[49m\u001b[43m)\u001b[49m \n\u001b[32m      7\u001b[39m response = client.models.generate_content(\n\u001b[32m      8\u001b[39m     model=\u001b[33m\"\u001b[39m\u001b[33mgemini-2.0-flash\u001b[39m\u001b[33m\"\u001b[39m, \n\u001b[32m      9\u001b[39m     contents=\u001b[33m\"\"\"\u001b[39m\n\u001b[32m     10\u001b[39m \u001b[33m        Please simply confirm that I have successfully called the gemini-2.0-flash API.\u001b[39m\n\u001b[32m     11\u001b[39m \u001b[33m\"\"\"\u001b[39m\n\u001b[32m     12\u001b[39m )\n\u001b[32m     14\u001b[39m \u001b[38;5;28mprint\u001b[39m(response.text) \n",
      "\u001b[36mFile \u001b[39m\u001b[32mc:\\Users\\bened\\anaconda3\\envs\\SINA-AT3\\Lib\\site-packages\\google\\genai\\client.py:213\u001b[39m, in \u001b[36mClient.__init__\u001b[39m\u001b[34m(self, vertexai, api_key, credentials, project, location, debug_config, http_options)\u001b[39m\n\u001b[32m    210\u001b[39m   \u001b[38;5;28;01melse\u001b[39;00m:\n\u001b[32m    211\u001b[39m     http_options = HttpOptions(base_url=base_url)\n\u001b[32m--> \u001b[39m\u001b[32m213\u001b[39m \u001b[38;5;28mself\u001b[39m._api_client = \u001b[38;5;28;43mself\u001b[39;49m\u001b[43m.\u001b[49m\u001b[43m_get_api_client\u001b[49m\u001b[43m(\u001b[49m\n\u001b[32m    214\u001b[39m \u001b[43m    \u001b[49m\u001b[43mvertexai\u001b[49m\u001b[43m=\u001b[49m\u001b[43mvertexai\u001b[49m\u001b[43m,\u001b[49m\n\u001b[32m    215\u001b[39m \u001b[43m    \u001b[49m\u001b[43mapi_key\u001b[49m\u001b[43m=\u001b[49m\u001b[43mapi_key\u001b[49m\u001b[43m,\u001b[49m\n\u001b[32m    216\u001b[39m \u001b[43m    \u001b[49m\u001b[43mcredentials\u001b[49m\u001b[43m=\u001b[49m\u001b[43mcredentials\u001b[49m\u001b[43m,\u001b[49m\n\u001b[32m    217\u001b[39m \u001b[43m    \u001b[49m\u001b[43mproject\u001b[49m\u001b[43m=\u001b[49m\u001b[43mproject\u001b[49m\u001b[43m,\u001b[49m\n\u001b[32m    218\u001b[39m \u001b[43m    \u001b[49m\u001b[43mlocation\u001b[49m\u001b[43m=\u001b[49m\u001b[43mlocation\u001b[49m\u001b[43m,\u001b[49m\n\u001b[32m    219\u001b[39m \u001b[43m    \u001b[49m\u001b[43mdebug_config\u001b[49m\u001b[43m=\u001b[49m\u001b[38;5;28;43mself\u001b[39;49m\u001b[43m.\u001b[49m\u001b[43m_debug_config\u001b[49m\u001b[43m,\u001b[49m\n\u001b[32m    220\u001b[39m \u001b[43m    \u001b[49m\u001b[43mhttp_options\u001b[49m\u001b[43m=\u001b[49m\u001b[43mhttp_options\u001b[49m\u001b[43m,\u001b[49m\n\u001b[32m    221\u001b[39m \u001b[43m\u001b[49m\u001b[43m)\u001b[49m\n\u001b[32m    223\u001b[39m \u001b[38;5;28mself\u001b[39m._aio = AsyncClient(\u001b[38;5;28mself\u001b[39m._api_client)\n\u001b[32m    224\u001b[39m \u001b[38;5;28mself\u001b[39m._models = Models(\u001b[38;5;28mself\u001b[39m._api_client)\n",
      "\u001b[36mFile \u001b[39m\u001b[32mc:\\Users\\bened\\anaconda3\\envs\\SINA-AT3\\Lib\\site-packages\\google\\genai\\client.py:258\u001b[39m, in \u001b[36mClient._get_api_client\u001b[39m\u001b[34m(vertexai, api_key, credentials, project, location, debug_config, http_options)\u001b[39m\n\u001b[32m    241\u001b[39m \u001b[38;5;28;01mif\u001b[39;00m debug_config \u001b[38;5;129;01mand\u001b[39;00m debug_config.client_mode \u001b[38;5;129;01min\u001b[39;00m [\n\u001b[32m    242\u001b[39m     \u001b[33m'\u001b[39m\u001b[33mrecord\u001b[39m\u001b[33m'\u001b[39m,\n\u001b[32m    243\u001b[39m     \u001b[33m'\u001b[39m\u001b[33mreplay\u001b[39m\u001b[33m'\u001b[39m,\n\u001b[32m    244\u001b[39m     \u001b[33m'\u001b[39m\u001b[33mauto\u001b[39m\u001b[33m'\u001b[39m,\n\u001b[32m    245\u001b[39m ]:\n\u001b[32m    246\u001b[39m   \u001b[38;5;28;01mreturn\u001b[39;00m ReplayApiClient(\n\u001b[32m    247\u001b[39m       mode=debug_config.client_mode,  \u001b[38;5;66;03m# type: ignore[arg-type]\u001b[39;00m\n\u001b[32m    248\u001b[39m       replay_id=debug_config.replay_id,  \u001b[38;5;66;03m# type: ignore[arg-type]\u001b[39;00m\n\u001b[32m   (...)\u001b[39m\u001b[32m    255\u001b[39m       http_options=http_options,\n\u001b[32m    256\u001b[39m   )\n\u001b[32m--> \u001b[39m\u001b[32m258\u001b[39m \u001b[38;5;28;01mreturn\u001b[39;00m \u001b[43mBaseApiClient\u001b[49m\u001b[43m(\u001b[49m\n\u001b[32m    259\u001b[39m \u001b[43m    \u001b[49m\u001b[43mvertexai\u001b[49m\u001b[43m=\u001b[49m\u001b[43mvertexai\u001b[49m\u001b[43m,\u001b[49m\n\u001b[32m    260\u001b[39m \u001b[43m    \u001b[49m\u001b[43mapi_key\u001b[49m\u001b[43m=\u001b[49m\u001b[43mapi_key\u001b[49m\u001b[43m,\u001b[49m\n\u001b[32m    261\u001b[39m \u001b[43m    \u001b[49m\u001b[43mcredentials\u001b[49m\u001b[43m=\u001b[49m\u001b[43mcredentials\u001b[49m\u001b[43m,\u001b[49m\n\u001b[32m    262\u001b[39m \u001b[43m    \u001b[49m\u001b[43mproject\u001b[49m\u001b[43m=\u001b[49m\u001b[43mproject\u001b[49m\u001b[43m,\u001b[49m\n\u001b[32m    263\u001b[39m \u001b[43m    \u001b[49m\u001b[43mlocation\u001b[49m\u001b[43m=\u001b[49m\u001b[43mlocation\u001b[49m\u001b[43m,\u001b[49m\n\u001b[32m    264\u001b[39m \u001b[43m    \u001b[49m\u001b[43mhttp_options\u001b[49m\u001b[43m=\u001b[49m\u001b[43mhttp_options\u001b[49m\u001b[43m,\u001b[49m\n\u001b[32m    265\u001b[39m \u001b[43m\u001b[49m\u001b[43m)\u001b[49m\n",
      "\u001b[36mFile \u001b[39m\u001b[32mc:\\Users\\bened\\anaconda3\\envs\\SINA-AT3\\Lib\\site-packages\\google\\genai\\_api_client.py:437\u001b[39m, in \u001b[36mBaseApiClient.__init__\u001b[39m\u001b[34m(self, vertexai, api_key, credentials, project, location, http_options)\u001b[39m\n\u001b[32m    435\u001b[39m \u001b[38;5;28;01melse\u001b[39;00m:  \u001b[38;5;66;03m# Implicit initialization or missing arguments.\u001b[39;00m\n\u001b[32m    436\u001b[39m   \u001b[38;5;28;01mif\u001b[39;00m \u001b[38;5;129;01mnot\u001b[39;00m \u001b[38;5;28mself\u001b[39m.api_key:\n\u001b[32m--> \u001b[39m\u001b[32m437\u001b[39m     \u001b[38;5;28;01mraise\u001b[39;00m \u001b[38;5;167;01mValueError\u001b[39;00m(\n\u001b[32m    438\u001b[39m         \u001b[33m'\u001b[39m\u001b[33mMissing key inputs argument! To use the Google AI API,\u001b[39m\u001b[33m'\u001b[39m\n\u001b[32m    439\u001b[39m         \u001b[33m'\u001b[39m\u001b[33m provide (`api_key`) arguments. To use the Google Cloud API,\u001b[39m\u001b[33m'\u001b[39m\n\u001b[32m    440\u001b[39m         \u001b[33m'\u001b[39m\u001b[33m provide (`vertexai`, `project` & `location`) arguments.\u001b[39m\u001b[33m'\u001b[39m\n\u001b[32m    441\u001b[39m     )\n\u001b[32m    442\u001b[39m   \u001b[38;5;28mself\u001b[39m._http_options.base_url = \u001b[33m'\u001b[39m\u001b[33mhttps://generativelanguage.googleapis.com/\u001b[39m\u001b[33m'\u001b[39m\n\u001b[32m    443\u001b[39m   \u001b[38;5;28mself\u001b[39m._http_options.api_version = \u001b[33m'\u001b[39m\u001b[33mv1beta\u001b[39m\u001b[33m'\u001b[39m\n",
      "\u001b[31mValueError\u001b[39m: Missing key inputs argument! To use the Google AI API, provide (`api_key`) arguments. To use the Google Cloud API, provide (`vertexai`, `project` & `location`) arguments."
     ]
    }
   ],
   "source": [
    "# check API is accessible \n",
    "import os \n",
    "from google import genai \n",
    "\n",
    "client = genai.Client(\n",
    "    api_key=os.getenv(\"GEMINI_API_KEY\"),\n",
    "    \n",
    "    ) \n",
    "\n",
    "response = client.models.generate_content(\n",
    "    model=\"gemini-2.0-flash\", \n",
    "    contents=\"\"\"\n",
    "        Please simply confirm that I have successfully called the gemini-2.0-flash API.\n",
    "\"\"\"\n",
    ")\n",
    "\n",
    "print(response.text) "
   ]
  },
  {
   "cell_type": "code",
   "execution_count": null,
   "id": "59094ddf",
   "metadata": {},
   "outputs": [],
   "source": []
  }
 ],
 "metadata": {
  "kernelspec": {
   "display_name": "SINA-AT3",
   "language": "python",
   "name": "python3"
  },
  "language_info": {
   "codemirror_mode": {
    "name": "ipython",
    "version": 3
   },
   "file_extension": ".py",
   "mimetype": "text/x-python",
   "name": "python",
   "nbconvert_exporter": "python",
   "pygments_lexer": "ipython3",
   "version": "3.11.11"
  }
 },
 "nbformat": 4,
 "nbformat_minor": 5
}

{
 "cells": [
  {
   "cell_type": "markdown",
   "id": "824384b5",
   "metadata": {},
   "source": [
    "Idea: supplement a traditional recommendation system with an LLM that generates a customized recommendation tip for each recommendation. \n",
    "\n",
    "Demonstration: user either picks a specific node in the network or a random one. Generate info about this user. Generate the product recommendation with tip (top-k times). If ambitious we could set up a user-friendly front-end demo with an app or something. "
   ]
  },
  {
   "cell_type": "markdown",
   "id": "4cc90c2a",
   "metadata": {},
   "source": [
    "TODO: \n",
    "\n",
    "- build graph  - [x] \n",
    "- recommendation algorithm, which must return for a User u: - [x]\n",
    "    - top-k recommended products p1, p2 etc.\n",
    "    - N set of most similar users v\n",
    "- From this we find for each  \n",
    "    - Product pi and User ui:\n",
    "        - M set of top-l highest rated and most helpful reviews for pi by ui\n",
    "- O set of u's reviews with highest rating of products q, r etc. that were also rated highly by the M set users, i.e. products on which the similarity is based. This is to give the LLM (a) info about which products u likes and (b) u's writing style. \n",
    "- Prompt packaging: \n",
    "    - We generate a prompt that contains the following information:\n",
    "        1. Description of task. \n",
    "        2. M set sorted by rating and helpfulness. \n",
    "        3. O set sorted by rating. \n",
    "\n"
   ]
  },
  {
   "cell_type": "markdown",
   "id": "ce330fb8",
   "metadata": {},
   "source": [
    "# 0. Functions and Global Directories"
   ]
  },
  {
   "cell_type": "code",
   "execution_count": 1,
   "id": "b7ba3bdf",
   "metadata": {},
   "outputs": [
    {
     "name": "stdout",
     "output_type": "stream",
     "text": [
      "c:\\Users\\bened\\DataScience\\Autumn 2025\\SINA\\assignments\\3\n",
      "True\n"
     ]
    }
   ],
   "source": [
    "import os \n",
    "import gzip \n",
    "import json\n",
    "import networkx as nx \n",
    "import numpy as np\n",
    "\n",
    "cwd = os.getcwd()\n",
    "project_dir = os.path.dirname(cwd)\n",
    "print(project_dir) \n",
    "data_path = os.path.join(project_dir, \"data\", \"Musical_Instruments_5.json.gz\") \n",
    "print(os.path.exists(data_path))"
   ]
  },
  {
   "cell_type": "code",
   "execution_count": 2,
   "id": "371f5588",
   "metadata": {},
   "outputs": [],
   "source": [
    "def parse(path): \n",
    "    g = gzip.open(path, 'r') \n",
    "    for l in g:\n",
    "        yield json.loads(l) "
   ]
  },
  {
   "cell_type": "code",
   "execution_count": 3,
   "id": "ea3ddecd",
   "metadata": {},
   "outputs": [],
   "source": [
    "def create_graph(path): \n",
    "    G = nx.DiGraph() \n",
    "    for idx, review in enumerate(parse(path)): \n",
    "        # -- EXTRACT NODE IDs AND ATTRIBUTES --- \n",
    "        user_id = review['reviewerID'] \n",
    "        user_name = review.get('reviewerName', None) \n",
    "        product_id = review['asin'] \n",
    "\n",
    "        # --- USER NODE --- \n",
    "        if G.has_node(user_id): \n",
    "            # Node exists; check names \n",
    "            current_name = G.nodes[user_id].get('reviewerName') \n",
    "\n",
    "            if user_name:  # if the dict has a reviewerName (not None) \n",
    "                if not current_name:  # and the node corresponding to that reviewerID does not have a name already\n",
    "                    G.nodes[user_id]['reviewerName'] = user_name  # name reviewer \n",
    "                # else if there's a conflict between node's current name and name on this review\n",
    "                elif user_name != current_name: \n",
    "                    # add an additional name attribute\n",
    "                    name_keys = [k for k in G.nodes[user_id] if 'Name' in k] # by first checking how many names the node already has \n",
    "                    count = len(name_keys) \n",
    "                    key = \"secondName\" if count == 2 else f\"{count}thName\" \n",
    "                    G.nodes[user_id][key] = user_name \n",
    "                # if user_name is None we do nothing\n",
    "        # if no existing node for this user_id, create a new one \n",
    "        else: \n",
    "            G.add_node(user_id, bipartite='user') \n",
    "            if user_name: \n",
    "                G.nodes[user_id]['reviewerName'] = user_name \n",
    "        \n",
    "        # --- PRODUCT NODES --- \n",
    "        if not G.has_node(product_id): \n",
    "            G.add_node(\n",
    "                product_id, \n",
    "                bipartite='product',\n",
    "                image=review.get('image', None),\n",
    "                style=review.get('style', None)\n",
    "                ) \n",
    "        \n",
    "        # --- REVIEW EDGES (User-Review->Product) --- \n",
    "        G.add_edge(\n",
    "            user_id, \n",
    "            product_id, \n",
    "            type='Reviewed',\n",
    "            id=idx, \n",
    "            overall=review.get('overall', np.nan),\n",
    "            verified=review.get('verified', False),\n",
    "            vote=review.get('vote', np.nan),\n",
    "            reviewText=review.get('reviewText', None), \n",
    "            summary=review.get('summary', None), \n",
    "            reviewTime=review.get('reviewTime', None), \n",
    "            unixReviewTime=review.get('unixReviewTime', np.nan)\n",
    "        )\n",
    "\n",
    "    return G"
   ]
  },
  {
   "cell_type": "markdown",
   "id": "da5118cd",
   "metadata": {},
   "source": [
    "# 1. Data Inspection"
   ]
  },
  {
   "cell_type": "code",
   "execution_count": 4,
   "id": "5eaa2403",
   "metadata": {},
   "outputs": [
    {
     "name": "stdout",
     "output_type": "stream",
     "text": [
      "{'reviewText', 'image', 'reviewTime', 'reviewerID', 'verified', 'reviewerName', 'summary', 'vote', 'unixReviewTime', 'overall', 'asin', 'style'}\n"
     ]
    }
   ],
   "source": [
    "# inspect possible keys \n",
    "keys = set() \n",
    "\n",
    "for review in parse(data_path): \n",
    "    for k in review.keys(): \n",
    "        if k not in keys: \n",
    "            keys.add(k) \n",
    "\n",
    "print(keys) "
   ]
  },
  {
   "cell_type": "code",
   "execution_count": 5,
   "id": "5cc231cf",
   "metadata": {},
   "outputs": [
    {
     "name": "stdout",
     "output_type": "stream",
     "text": [
      "10 30, 2016\n",
      "06 30, 2016\n",
      "05 9, 2016\n",
      "04 10, 2016\n",
      "02 6, 2016\n",
      "01 2, 2016\n",
      "06 21, 2015\n",
      "03 28, 2015\n",
      "03 19, 2015\n",
      "03 15, 2015\n"
     ]
    }
   ],
   "source": [
    "# inspect reviewTime field \n",
    "for idx, review in enumerate(parse(data_path)): \n",
    "    if idx==10: \n",
    "        break \n",
    "    elif 'reviewTime' in review: \n",
    "        print(review['reviewTime'])"
   ]
  },
  {
   "cell_type": "markdown",
   "id": "6c171553",
   "metadata": {},
   "source": [
    "format: MM DD, YYYY  \n",
    "\n",
    "Since we have Unix already this is likely not needed for any computational task. "
   ]
  },
  {
   "cell_type": "code",
   "execution_count": 6,
   "id": "42fc01a0",
   "metadata": {},
   "outputs": [
    {
     "name": "stdout",
     "output_type": "stream",
     "text": [
      "Format:: {' Misc. Supplies', 'S', ' Wireless Phone Accessory', 'M', ' CD-ROM', ' Software Download', 'u', ' DVD-ROM', 'c', ' Audio CD', ' Paperback', 'l', 'e', 's', ' Electronics', ' ', 'p', 'i', '.'}\n",
      "style:: {' 49 Key', ' AUD ATR1500', ' GXL3000BP', ' G3X', ' B Band', ' TVHF: 179.400 MHz & 180.600 MHz', ' 200 W, 8 Ohm', ' 8PreX - 26 in / 28 out', ' 4FX', ' Dirt Transmitter Fuzz', ' GX7 1000W Amp', ' Line/Inst level input switchable, 4 ch rackmount', ' 25-Pin to 8XLRM, 5 ft', ' HT Venue Club 40 Combo Amplifier', ' Tone Job', ' Supercardioid', ' 2Pre - 10 in / 4 out', ' Bluetooth Enabled', ' 5-Watt Limited Edition', ' Pedal', ' 200 W, 4 Ohm', ' MG15 Stack', ' Loudbox Artist Cover', ' 4-Piece Drum Pack', ' Straight to Right Angle', ' NP-2', ' Archer Overdrive/Boost', ' G3', ' Lightning', ' C9', ' 7.2-inch', ' No Bluetooth', ' H4n (2015 model)', ' 5\" Monitor Speaker', ' 18W PAR', ' Korg ELECTRIBES Sample Based Production Station', ' 15 Watt Amp', ' Headphone', ' APC Key 25', ' AK-DR11C', ' CHS-30', ' Tumnus Deluxe', ' PG48-XLR', ' Tremolo', ' H9: 512-542 MHz', ' COOLSWITCH', ' OBEY4 D-Fi', ' Fog machine', ' G1Xon', ' Micro Boompole', ' MX400XL', ' PA Speaker System', ' No DMX Control', ' SubDude-II', ' Hummingbird', ' Digital Recorder', ' 30 watt', ' RCA to XLR interface', ' MKE 400 Microphone', ' MV88 Only', ' SSH-6', ' Reverb', ' K10/K10.2 Tote Bag', ' XLR3F to XLR3F Gender Changer', ' Cardiod Condenser (Pair)', ' Thunder Bass', ' 2 channel, Mono/Stereo switchable', ' 2B Modeling Bass Guitar Effects Pedal', ' Audio Interface', ' UM Pro 30 - Discontinued Model (Smoke)', ' MG10CF', ' Blast Blocker', ' Double-X Keyboard Stand', ' Ground Control Pro', ' with Bluetooth', ' Metal', ' 400 watts; 12\" Speaker', ' Spark Digital', ' Digital', ' Fixed Boom, Tripod Base', ' 100-Watt Head', ' 1500W', ' Standard XLR', ' PG48-QTR', ' R16', ' Microphone', ' DP-03SD', ' 4-XLRF, Duplex AC', ' AmpDude', ' Creative Reference Multimedia Monitors', ' 6 Inch (6 Pack)', ' MX418', ' ToneLab ST Modeling Effect Processor', ' 300-Watt', ' 8-XLRF, 2-SpeakOn', ' 1G Modeling Guitar Effects Pedal', ' US-4x4', ' GXL3000', ' Pedal Tuner', ' Levitation', ' Arrows', ' 100 Pack', ' No LED Lights', ' XLR3F to 1/4\" TRS', ' Duet-iOS with Apogee Assure', ' 150 watt', ' Launchpad Pro', ' 6-in-1', ' Only Guitar', ' CLP-10', ' TS808', ' PRO 26 - 18 inputs (4 mic pres) / 8 outputs', ' Lunchbox Junior Amp', ' Sonar Artist', ' SC3 TRRS-TRS Adaptor', ' Pro-Right Angle', ' R8', ' UM Pro 20 - Discontinued Model (Clear)', ' Dispatch M. Delay/Reverb', ' 10\" Powered Speaker', ' Premium SuperCardioid Dynamic Handheld', ' 15\" Powered Speaker', ' Loudspeaker', ' BNC', ' OBEY4', ' Single Stand with Hydraulic Auto-Lift', ' Chorus', ' M-Track 2x2M - 2 channel + 5-Pin MIDI', ' Vocal Headset', ' 3 Channel Bluetooth', ' GXL1200', ' Handheld cardiod', ' AR8 - 4 Mic Pres', ' 75th Anniversary Edition', ' Ditto', ' Style III', ' T68: 171.105 MHz & 171.905 MHz', ' BETA87A', ' Condenser', ' Round Base', ' Mojo Diamond', ' CX Control Switcher', ' Power adapter', ' 400WL', ' Instrument', ' Dynamic Vocal', ' SlimPARbag', ' Two Instrument/Guitar Microphones', ' Without Bluetooth', ' On/Off Switch Included', ' Speaker Stand', ' DC Jack 16 Foot Extention', ' MG100HCFX', ' Wind Instrument', ' 7-Piece Drum Pack', ' TouchMix-8 Digital Mixer', ' 15-Watt Head', ' 3-Sided', ' Extension Cab', ' Receiver', ' B-250', ' CLP-15', ' H4n (2009 model)', ' PG58QTR', ' for Lunchbox Junior Amp', ' Boompole', ' 750 watts power', ' 6\" Monitor Speaker', ' 125 W', ' Red/Ebony', ' DeadCat Windshield', ' 8Pre - 18 in / 20 out', ' Large Diaphragm Multipattern', ' DR-22WL', ' Headphones and Pop Filter Bundle', ' CHS-60', ' AC30', ' T57: 171.045 MHz & 171.845 MHz', ' Active Dynamic', ' Loudbox Performer', ' Afterneath Delay/Reverb', ' Two Handheld Microphones / Channels B/D', ' M-Track 2x2 - 2 channel', ' Bows', ' 2 Channel', ' XLR3F to XLR3M Power Switch', ' SubDude-HT', ' 250 watts; 10\" Speaker', ' 250-Watt', ' Direct Box', ' DSLR Recorder', ' 1000W', ' K12/K12.2 Tote Bag', 'e', ' Replacement Needle', ' 15\" dual speaker', ' RP-Series Semi-Open Headphones', ' US Version', ' ', ' Launchpad Mini', ' Latching Right Angle', ' Pitchblack Pro Rackmount Tuner', ' CHS-50', ' Z55 Professional Reference Headphones', ' HGTR-015R 15 ft', ' Amp, Extension Cabinet and Power Supply', ' Head', ' DeadCat VMPR Windshield', ' Handheld supercardioid', ' Harmony Frequency', ' Terminated for PRO88W', ' AUD ATR1100', ' Mini Kaoss Pad', ' 2-Sided', ' Coupler', ' DR-44WL', ' LG2-203-6/BK', ' D: 656.125-678.500 MHz', ' With On/Off Switch', ' DP-008EX', ' 40-Watt Combo', ' With Bluetooth', ' Passive', ' TS808DX', ' SuperCardioid Dynamic Side Address', ' 50mm/2 Cables/2 Earpad Sets', ' TS9B', ' Ditto X4', ' 18 AWG', ' US-20x20', ' Straight End', ' CTK-4200 Keyboard', ' TS9DX', ' 2G Modeling Guitar Effects Pedal', ' PG58XLR', ' 600I', ' Microphone cable', ' 4Pre - 18 in / 8 out', ' 350-Watt', ' CHS-40', ' 700W', ' Mini Bass Amplifier', ' Sabbra Cadabra Booster', ' HGTR-005R 5 ft', ' LK-175', ' 75 watt', ' Large Diaphragm Infinitely Adjustable', ' Kaoss Pad KP3', ' SC7 Patch Cable', ' Boomstand and Pop Filter Bundle', ' Park Fuzz', ' SGH-6', ' Pitchblack Poly Polyphonic Pedal Tuner', ' R24', ' MG15CFX', ' ZLX-15P', ' Spot', ' MXL V67G HE', ' Patch', ' MX418D', ' 100-Watt', ' Beam', ' SOLO', ' 8 Ohm', ' 14 AWG', ' Legend 1275', ' Acapulco Gold Fuzz V2', ' Wireless Mic System', ' LE Mahogany 60 Watt Two Way', ' HGTR-010R 10 ft', ' 12-Inch/1,200 Watts', ' Jerry Douglas Aura Pedal', ' 25-Key', ' H10: 542-572 MHz', ' RE320', ' XLR-to-USB Adapter', ' V847A Wah Wah Pedal with AC Jack', ' The Wizard', ' PG81XLR', ' Pitchblack Pedal Tuner', ' Fitness Headset', ' DP-24SD', ' T13: 169.445 MHz & 170.245 MHz', ' J3: 572-596 MHz', ' Lunchbox Acoustic Amp', ' 2-Channel', ' Apple Lightning Connector', ' Straight, Stackable base', ' 150 W, 32 Ohm', ' with XLR connectors', ' CD-VT2', ' Supercardioid (Pitch Black)', ' 12 Inch', ' 1,100-Watt', ' Korg PLUGKEYBK -Channel Audio Plug-In', ' 150-Watt', ' Built-in RCA Output', ' ToneDEQ Preamp EQ', ' 1350 watts power', ' G4: 470-494 MHz', ' EXH-6', ' Wired Mic Desktop Stand', ' XLR3F to XLR3M Ground Lifter', ' Single', ' Straight, Standard Base', ' mio10', ' 4-XLRF, 2 1/4\" Jacks', ' 150 W, 8 Ohm', ' With Cable', ' Liquid Saffire 56 - 28 inputs (8 mic pres) / 28 outputs', ' K12: 614-638 MHz', \" 15' XLR-QTR Cable\", ' 12\" speaker', ' 350 W, 16 Ohm', ' Cable Kit', ' Mel 9', ' 25 Pack', ' MX300', ' 2 x 8 Foot Stand', ' Guitar Pedal System', ' Instrument/Guitar Microphone', ' SC4 TRS-TRRS Adaptor', ' WS7 Deluxe Windshield', ' ID Stand with Boom Arm', 'k', ' Lavalier Microphone', ' US-2x2', ' Arpanoid', ' Controller', ' .45 Caliber Overdrive', ' Pair of stands + bag + XLR Cables', ' TRIOPLUS', ' Blue Note Tour Series', ' 1:1 transformer isolation', ' 75 W, 16 Ohm', ' MXL V67GS', ' No Switch', ' Launchpad', ' K12 Speaker', ' Straight to Straight', ' Cable Not Included', ' Fission Bass FX Pedal', ' 61-Key', ' EVM12L Zakk Wylde', ' CH-06', ' 4 Ohm', ' Amp', ' 61 Keys', ' 25-Pin to TRS, 5 ft', ' Archer Ikon V1', ' 4-Channel', ' Echo', ' Key 9', ' UM Pro 20 - Discontinued Model (Smoke)', ' 300 watts power', ' WrapAround', ' DeadKitten Windshield', ' 4-XLRF', ' LX49', ' Combo', ' Without On/Off Switch', ' Night Wire', ' Four Receivers', ' CLP-35HC', ' 400 W, 8 Ohm', ' 8\" Monitor Speaker', ' MX200', ' TRIO', ' Monitor Speaker', ' AUD ATR1300', ' Party Bundle', ' 150 W', ' 8.6-inch Circular', ' Two Mic Pres', ' TouchMix-16 Digital Mixer', ' 1B Modeling Bass Guitar Effects Pedal', ' PRO 40 - 20 inputs (8 mic pres) / 20 outputs', ' For Wired Mics', ' Straight to Angle', ' CHS-FR4', ' Acoustic Guitar Amplifier', ' Sparkle Drive MOD', ' Union Jack', ' Switch', ' Bass Guitar', ' ETX-35P', ' Dynamic Instrument', ' XLR out', ' V-Bar Clamp', ' Channel C', ' Channel P', ' Grand Orbiter', ' MV51 Only', ' MXL V67I', ' SoundCage', ' ZLX-12P', ' Version 2', ' Terminated for A-T Wireless', ' ToneLab EX Modeling Effect Processor', ' Power Kit', ' RE20', ' LGI-201-10/BK', ' 20 Key Eclipse Controller', ' K10 Speaker', ' CH-02', 'r', ' B1on', ' 450 watts power', ' DeadCat GO Windshield', '1', ' 6 Foot Stand', ' 44VSL', ' Control Surface-Artist Transport', ' Amplifier', ' Limited Edition HT Club 40 Deluxe', ' Private Jack', ' B1Xon', ' Single Stand', ' Studio Monitor', ' Mini Kaoss Pad 2', ' Dual Channel', ' Speaker Sub Pole', ' Talons Overdrive', ' 1000-Watt', ' Talisman Plate Reverb', ' PG81-LC', ' Original THR', ' Interface, Mic & Headphones', ' Clip Included', ' LX61', ' Komplete 10 Ultimate', ' 32.4.2AI - 32 Mic Pres', ' Aura Spectrum DI Pedal', ' LGI-202-10/BK', ' Interstellar Orbiter', ' MXL V67G', ' 8.6-inch Crystal', ' Regular', ' Tumnus V2', ' SM58', ' Blue Note Overdrive', ' Zoom F8 (2015 version)', ' Single-Channel', ' HP1100', ' No RCA Output', ' Handheld Cardiod', ' IKON Overdrive/Boost', ' 16.0.2 - 12 Mic Pres', ' Handheld Super-Cardioid', ' Speaker Cranker', ' 6 Inch', ' RAH Overdrive', ' Standard 3.5mm', ' Antichthon Fuzz Tremolo', ' MG15CF', ' Pedalboard', ' CD-RW900 MKII', ' 775 watts power', ' More Dense', ' Angle to Angle', ' 68', ' RP-Series Damped Semi-Open Headphones', ' Guitar-Gibson', ' HDMI', ' HP800', ' Compressor/Limiter/Gate', ' EKX-15SP', ' GXL2200BP', ' Animal Overdrive', ' K-Series Sub Pole', ' Fat Buffer Dynamic', ' iQ7', ' US-16x08', ' Clean', ' 75-Watt', ' GCX Audio Switcher', ' 61 Key', ' Two Receivers', ' 16 Ohm', ' 75 W, 8 Ohm', ' Large Diaphragm Supercardiod', ' MX418S', ' Refurbished', ' 25 Keys', ' 49-Key', ' CHS-DUO', ' MXL R144 HE', ' CSIDMAN Delay', ' Ragin Cajun', ' Belle Epoch Tape Echo', ' RP6-G3', ' MP218', ' MX400', ' 15-Watt Combo', ' Isolation Pad', ' Guitar', ' CH-31', ' Kaossilator 2', ' Straight to Right-Angle', ' Phono Cartridge', ' 65', ' Mini DI box with 1/4\" input / XLR male output', ' 350 W, 8 Ohm', ' JAM', ' 5 Channel', ' J10: 584-608 MHz', ' FC-1 Controller', ' Guitar- Fender', ' DeadWombat Windshield', ' 16.4.2AI - 16 Mic Pres', ' Komplete 10', ' Karaoke Machine', ' Karma Suture Germanium', ' Topanga Spring Reverb', ' 1 Piece', ' Bluetooth Amp', ' UM Pro 10 - Discontinued Model (Clear)', ' 49 Keys', ' 22VSL', ' R101 Button Controller', ' DC Jack 4 Way Splitter', ' BOING Spring Reverb', ' Straight, Tripod base', ' 1 Pair', ' AK-DR11G MKII', ' GXL2200', 'S', ' Mikey Digital Lightning', ' Acoustic', ' With Bag', ' Built-in Effects', ' HC33 Analog Bass Chorus', ' SOS Buffer V1', ' Right Angled', ' Lightstrip', ' DIRTY RAT', ' 350 watts power', ' Delay', ' XLRM 5P', ' Controller only', ' Lambda', ' GX3 300W Amp', ' Lunchbox Amp', ' H8: 518-542 MHz', ' UM Pro 10 - Discontinued Model (Red)', ' With DMX Control', ' Patch Bay', ' K10/K10.2 Outdoor Cover', ' MXL R144', ' WS9 Deluxe Windshield', ' GXL1200BP', ' DeadCat VMP Windshield', ' CD-GT2', ' WASHFX', ' 45 Caliber Overdrive V1', ' Mini Guitar Amplifier', ' Great GRAMMA', ' UM Pro 20 - Current Model', ' Junior', ' MSH-6', ' Single-X Keyboard Stand', ' CHS-SP4', ' DP-32SD', ' Kit I-Black', ' 21-Rack', ' Handheld', \" 15' XLR-XLR Cable\", ' Origin Cardioid Microphone', ' Ch. 321', ' Supercardioid (Chrome)', ' Pitchblack+ Advanced Pedal Tuner', ' Rockaway Archer V1', ' Gray Channel Overdrive', ' V845 Classic Wah Wah Pedal', ' No Cable', ' Wireless MIDI Controller', ' CTK-4200 Premium Pack', ' CLP-02', ' Instrument/Guitar', ' Mini Boompole', ' Bellows Fuzz', ' Bit Commander V2', ' MudGuard', ' MG101CFX', ' PG56-LC', ' Analog', ' CLP-03', ' BubbleKing', ' Inline volume control', ' LX88', ' Event', ' 1 channel with ground lift', ' Active', ' HP600', ' Reignmaker', ' Pair of stands with air cushion lowering', ' K12.2 12\" Loudspeaker', ' Komp. 10 Ult. Upgrade', ' Handheld/Lavalier Microphone Combo', ' Galileo Booster', ' Chameleon', ' 300 W, 8 Ohm', ' Recorder', ' Microphone only', ' RAT2', ' Korg Volca OKGO', ' Control Surface-S3 Controller', ' 15\" speaker', ' Screw Kit-2', ' Classic Rock', ' PG56-XLR', ' (2) Effect Lights', ' Legend 1258', ' Overdrive', ' Without cable', ' Interface Only', ' Additional Mic', ' Lead', ' SuperCardioid Side Address Vintage', ' Style I', ' MXL V67N', ' SOS Signal Buffer', ' Loudbox Performer Cover', ' 25-Watt', ' Tactical Ethernet', ' Blackbird', ' RT-0008-00', ' Channel R', ' M3 Condenser Microphone', ' MXL 770', ' Single Channel', ' Echorec Multi-Head Delay', ' Cardioid', ' Two Handheld Microphones / Channels P/R', ' 400I', ' Ramrod', ' SFT Overdrive', ' 650 watts power', ' 15-Inch/1,400 Watts', ' V3 Amplifier', ' SM86', ' 100 watts; 8\" Speaker', ' 3-Pin XLR', ' DEUCETONE RAT', ' V4 Amplifier', ' Recorder only', ' Wired', 'a', ' Guitar Amplifier', ' Microphone Only', ' XLR to USB Signal Adapter', ' XLRF 5P', ' APC Mini', ' 40mm with Leather Earpads', ' Stage Light Cable', ' UM Pro 30 - Current Model', ' TURBO RAT', ' Aura 16 Pedal', ' 6-Channel', ' 25-Pin to TRS, 10 ft', ' 500-Watt', ' AC30VR', ' SV100-WA', ' Lavalier Micro', ' 3-Channel', ' Mic', ' Headworn', ' 8.6-Inch Black', ' Boing Spring Reverb V1', ' Kaossilator', ' C: 541.500-566.375 MHz', ' 45mm with Leather Earpads', ' 8-Rack', ' HPACA1 (Coiled)', ' Compressor', ' M2 Condenser Microphone', ' Compressor/Limiter', ' Loudbox Artist', ' ZLX-15-Cover', ' Space Spiral', ' DLS Overdrive', ' 1818VSL', ' Subwoofer', ' Heart Attack', ' Korg ELECTRIBE2SRD electribe Sampler in ESX Red with V2.0 Software', ' WSVM Pop Filter Windshield', ' RP8-G3', ' microKORG', ' M1 Dynamic Microphone', ' 2 Speaker Stands with Carry Bag', ' Alpha', ' Venue', ' 15-Watt', ' 25 Keys (Mini)', ' 1 FT', ' Straight, Tripod Base', ' Krush Frequency', ' Falcon', ' Fuzz Master General', ' LM5 Lavalier', ' UM Pro 30 - Discontinued Model (Clear)', ' Telescoping Boom, Tripod Base', ' Two Lavalier Microphones', ' Fixed Boom, Tripod base', ' USB Interface with Effects', ' HGTR-020R 20 ft', ' TS808 pro', ' Guitar Pedal Only', ' B9', ' Sonar Platinum', ' Roating ball', ' 525 watts power', ' PG48-LC', ' 30-Pin', ' mio', ' HL77 Bass Looper', ' ZLX-12-Cover', ' M15: 662-686 MHz', ' MG50CFX', ' Cable + 3-Pin DMX Connector', ' International Version', ' Wireless', ' Limited Edition - Green', ' Pedal only', ' 18 Inch', ' iQ6', ' JAM 96k', ' 4 Inputs', ' K12/K12.2 Outdoor Cover', ' Formula 5F6 Overdrive', ' Conference', ' SuperCardioid Dynamic Snare', ' The Tonker', ' Gray', 'p', ' Tentacle', ' FATRAT', ' 50-Watt', ' Lunchbox Cab', ' One Receiver', ' 2-Pack', ' Compressor/Gate', ' Kaossilator Pro', ' Wireless Mic Desktop Stand', ' DP-006', ' PG58-LC', ' Red White and Blues', ' EVM12L Classic', ' WS6 Deluxe Windshield', ' Music Controller', ' 25 Keys, Mini', ' BETA58A', ' AR12 - 8 Mic Pres', ' EW 112P System', ' LM10 Lavalier', ' Lavalier', ' Control Surface-Artist Mix Surface', ' MXL V67Q', ' MG30CFX', ' XYH-5', ' Instrument cable', ' Cardioid Dynamic Kick', ' AUD ATR1200', ' Bluetooth Adapter/ Amp', ' Headset/Instrument Microphone Combo', ' GX5 500W Amp', ' Boutique', ' Speaker', ' Gray w/ ST1000-10 Stand', ' AS32 Stand Mounted', ' DUET-IOS-MAC', ' Ditto X2', ' MP226', ' Dual Direct Box', ' HPASCA1 (Straight)', ' 500 W, 8 Ohm', ' Non-Wireless', ' New', ' XLRF-XLRM', ' Standard Mixer', ' OBEY3', ' MG102CFX', ' Two Headset Microphones', ' UM Pro 10 - Current Model', ' HD HD', ' Pair of Stands with Bag', ' 40mm', ' TM-PC1-2', ' Loudbox Mini Cover', ' LE Black and White 60 Watt Two Way', ' Cable Included', ' GRAMMA', ' K8 Speaker', ' 4 Woofer', ' AR16 - 12 Mic Pres', ' ID Boom Arm Only', ' 2 x 6.5 Foot Stand + 1/4\" Cable Kit', ' The Depths Modulation', '0', ' ETX-15P', ' for Lunchbox Amp or Lunchbox Cab', ' DC Switch', ' Spatial Delivery', ' TS9', 'K', ' 4-XLRF, 2-SpeakOn', ' Bass', ' Wall Charger-Black', ' 70-Watt', ' T24: 169.505 MHz & 170.305 MHz', ' Palisades Overdrive', ' 86 LED PAR', ' Version 1', ' Sea Machine', ' 16-Rack', ' H4n Pro (2016 model)', ' Kaoss Pad Quad', ' 3 Woofer', ' No LED Array', ' A Band', ' High Gain', ' Religious Dove', ' Microphone + In-Ear Headphones', ' Straight', ' for Lunchbox Acoustic Amp', ' Studio Microphone', ' 5FX', ' Extension Cabinet', ' Sonar Professional', ' Cannabis Rex', ' Right Angle', ' Channel D', ' Compact Desktop', ' G1on', ' SV100-W', ' AC15VR', ' Small Diaphragm Cardioid and Omni', ' 35-Watt', ' Sound Panel', ' The Dude', ' Premium pair of stands with bag', ' H5: 518-542 MHz', ' Mini Amp', ' Standard', ' Blues', ' Quick Fade', ' HGTR-025R 25 ft', ' (4) Larger Slimpar Lights', ' 12\" Powered Speaker', ' Speakers', ' No Bag', ' NP-1', ' Ribbon Side Address', ' Loudbox Mini', ' 2 Inputs', ' Premium 7-Piece Drum Pack', ' Spirit Multi-Pattern Microphone', ' 12-Rack', ' 300 W, 4 Ohm', ' AS22 Stand Mounted - Folding', ' One Mic Pre', ' Mini THR', ' ETX-15SP-Cover', ' Clothes-Pin Style Clip', ' CD-RW901 MKII', ' 25-Pin to 8 XLRM, 10 ft'}\n",
      "Style:: {' Slim-Line USB Controller', ' OMEN-6 2012', ' Symphonic Wa Wa', ' Mandolin Pickup', ' Emperor X Coated', ' Black, Wood', ' Secure Headstock Yoke and Support Arms', ' 400 Ser Single Chain', ' (6) Wired Microphones (Case)', ' 2674 - Blue Steel Bass ML', ' STILETTO EXTREME-4', ' MV200', ' Neon Pink, Wood', ' Neon Yellow, Wood', ' Premium Pack', ' Gauge 10-46', ' Quick Release - 3 Pack', ' Deluxe Tripod', ' 5550113515', 'u', ' P45', ' Comfort Bar', ' Double-Braced', ' Jazz Bass V', ' Medium Hard', ' FM 10G Amp', ' Snakes Mosaic', ' AT90CD Phonograph Cartridge', ' Violin / Viola / Cello Bow Case', ' Weighted Base', ' Standard Tripod w/ Telescoping Boom', ' Straight to Right Angle', ' Loudbox Artist Cover', ' RSP20', ' 100 Pack,Extra Heavy', ' Short Hex Rod', ' Mickey Mouse (2016)', ' 300 Series', ' Hawaiian Tattoo', ' 2562 - Blue Steel Electric MED', ' Double', ' Woven', ' Bari Sax', ' Soft Case', ' Mike Portnoy Signature', ' Emperor Coated Tom/Snare', ' Affinity PJ', ' Normal Tension', ' SMS-40', ' Nickel NY Steel', ' Planes', ' Professional', ' E253', ' E453', ' GZR-PJ', ' Steel String', ' S770', ' Minnie Mouse', ' KC411616N - 41x16x6 in.', ' Mini Acoustic', ' 6 STRING', ' Anti-Vibe, Wood', ' Stereo VideoMic X', ' Maintain Replacement Packets - 3-pack', ' Pro Mag Plus', ' Classic 5A', ' 2034 - Light', ' Trombone', ' Claifornia', ' 2505 - NickelSteel Electric MED', ' Humbucking', ' Combo Organ', ' Stage Light Stand', ' 2672 - Blue Steel Bass LT', ' 2552 - Blue Steel Electric LT', ' No Gig Bag', ' Special Short Scale', ' Triple', ' Trombone / Alto Sax / Clarinet', ' Fretless', ' USA Graphic', ' All Solid-Mandolin Only', ' Db', ' Sweep Wire Brush', ' Standard Pack', ' Alto Sax Reed- Strength 2.5', ' Maintain Replacement Packets - 12-pack', ' Finding Dory', ' Sharp', ' Fixed Boom, Tripod Base', ' Ax', ' Resonator', ' 12 String Dreadnought', ' BASS GUITAR', ' Slim-Line USB Drum Pad Controller', ' CP300', ' Nylon', ' microKEY air 61', ' Light weight, double-braced', ' Blasted', ' Floor Stand', ' Extra Long -Open Hook', ' 1/2 Size', ' Concept XF Direct Drive', ' Microphone', ' Straight / Practice', 'l', ' Pinstripe Coated Tom/Snare', 's', ' Direct Drive', ' Sledgehammer Pro Clip-On Tuner', ' Thumb Rest Cushion', ' Sustain and Soft', ' 400 Watts Peak', ' Acoustic Guitar Case', ' XLR Female to RCA Male', ' Little Monster Brush', ' 61 Note', ' Platinum Stage EQ/DI', ' Transport Deluxe', ' SMS-50', 'i', ' microKORG S', ' Engineered Wood Fretboard', ' YRS-20', 'o', ' Scott Johnson Practice Sticks', ' 76 Note', ' 800 Ser Straight Stand', ' HSS Stratocaster', ' Rattler', \" 50's\", ' Standard (Universal Fit)', ' Only Guitar', ' 12 Fret', 'P', ' 2 Speaker Stands w/ Carry Bag', ' A-MODEL MANDOLIN', ' Standard Shape', ' 0992215000', ' HA-40 Hawaiian Tuner', ' CompactKit 4', ' Shallow Depth', ' Dual Bass', ' 37 velocity-sensitive full-sized keys', ' Travel', ' Clear Standard', ' Surge Protector', ' 3 pack', ' 23 Canes', ' OUTFIT', ' Left-Handed', ' S970', ' C7', ' Profile 88', ' Normal Tension, 1/2', ' Boom Stand', ' 80/20 Bronze', ' KSA7575+ U-Mount Attachment', ' Custom Shop', ' Special', ' Acoustic OM or Classical Guitar', ' Regular Light', ' Holds 1 Pair', ' With Gig Bag', ' Chorus', ' Volume Expression Pedal', ' B', ' 3011 - ProMag Plus XM', ' B Bass 6-String Form Fit', ' Classic 7A', ' Rock Sizes', ' 4 String Set', ' Vintage Modified PJ', ' S88 88-Key Keyboard', ' SSS Stratocaster', ' Single Bass - Silver Series', ' Nylon Strap (Black)', ' RS320', ' Frozen (2015)', ' Gig Bag (Thick Protective Padding)', ' Floor Tom', ' Hi-Hat', ' Forward 7A', ' Soprano', ' Stratocaster Body', ' 12 STRING', ' Speaker Stand', ' Small Body Acoustic Bag', ' Extra Light', ' Analog Synthesizer', ' SM6 Shockmount w/ Pop Filter', ' 61-Keys', ' Tenor with Cutaway and Electronics', ' 2678 - Blue Steel Bass LT', ' Snare Stand', ' Rebound 7A', ' Thinline Telecaster', ' Wood Tip', ' Red Stars Acoustic Guitar', ' Cymbal, Black', ' Bronco', ' Custom Extruded', ' PARLOR GUITAR', ' Alto Sax Reed- Strength 2.0', ' Concert', ' FM Synthesizer', ' Mesh Drum Head', ' Nato Body', ' MST1000 U-Mount Microphone Stand Tray', ' .013-.056', ' Electric Guitar - Ash', ' Acoustic Dreadnaught - Ash', ' Spruce', ' Etherwave Theremin Std.', ' 0992119000', ' Trumpet', ' BG20DN - Electric Bass', ' 73-Keys', ' Educational Bundle', ' Metal Swivel Snap', ' 3-Piece Delux Soprano', ' 3 Pack', ' 2676 - Blue Steel Bass MED', ' Band of Gypsys (Heavy)', ' Medium', ' MV300', ' Starter Bundle', ' Clip-On', ' Deluxe Telecaster', ' 3/4 Size', ' Etherwave Theremin Kit', ' Extra light', ' Praying Hands', ' Light Tension', ' Wavedrum Dynamic Percussion Synthesizer', ' Hard Shell Case', ' Red', ' Two-sided', ' Double Brace', ' Humidifier', ' Polish Cloth', ' Concert Acoustic Electric', ' Embossed', ' Nickel Plated Steel', ' System Blue DC50', ' KT-9', ' EW400', ' AT95E Cartridge', 'e', ' 4 string', ' S61 61-Key Keyboard', ' Double Bass - Gold Series', ' Josh Freese', ' Concept Maple', ' Souls of Distortion', ' Extra Heavy', ' Hanging Style w/ Saftety Strap', ' ', ' 11\" OPENBACK BANJO', ' LK-280', ' Fingerstyle', ' Pop Filter with Stablizing Arm', ' Clear', ' Without 6 Months of Fender Play', ' Western Eagle', ' 112V', ' 100 Series', ' Holds 2-3 Mutes', ' Single Row Jingles', ' D', ' Jazz', ' Gauge 09-42', ' GZR-P', ' Tenor/Baritone', ' Stand', ' (4) Wireless Mic Systems (Case)', ' Basket Weave', ' Monotron Duo Analog Ribbon Synthesizer', ' 12\" Weighted Base - Deluxe Height Adjust', ' 6 pack', ' 5-String, Long Scale', ' Core', ' Absorber Shield', ' TS212', ' Protect', ' Extra Long Electric', ' Steel String Guitar', \" 50's Telecaster\", ' SM3 CameraShoe Shockmount', ' 8 String Baritone', ' LCD Screen', ' Strength 2', ' FM 15G Amp', ' Single Shaker', ' Hard Case', ' 3-Pack', ' Nylon Strap (Tan)', ' Double Bass Bag', ' Short Scale', ' microKEY air 25', ' Rebound 5A', ' Pre-Treated', ' Maple Fingerboard', ' Coated Rock', ' Controlled Sound X Coated Black Dot Snare', ' Strength 1.5', ' CTK-2400 Premium Pack', ' West Coast Seattle Boy (Heavy)', ' Tenor', ' 49 Note', ' Chain Drive', ' Acoustic Guitar Bag', ' Deluxe', ' Ukulele with Case', ' DREADNAUGHT GUITAR', ' Folk', ' Full Size', ' 6 String Baritone', ' Strat Neck - 22', ' Metal Style I', ' Straight End', ' 18\" Crash/Ride', ' 100 Pack,Heavy', ' Holds 2 Pairs', ' Abbey Road', ' NANOWEB Coating', ' Natural, Wood', ' X10E, 1.11mm , A=442', ' 500 Watts Peak', ' Trumpet w/ Mute', ' Anti-Vibe, Nylon', ' CP4', ' Mini', ' 600I', ' Black - Short', ' Custom Light', ' E353', ' Acoustic Electric Guitar', ' Pinstripe Coated Bass', ' Loop', ' 2038 - Medium', ' Restore Conditioning Packets - 3-pack', ' XLR Male to RCA Male', ' OMEN-8 2012', ' 5B Nylon Tip', ' Medium weight, single-braced', ' Electric Guitar', ' Single Wireless System (Nylon)', ' Faded', ' 700 Ser Straight Stand', ' Skinny Top Heavy Bottom', ' 23 Canes Dual Row', ' PDDT800-04 Round', ' Single Electric - Gold Series', 't', \" Skull n' Bones\", ' 10-Pack', ' Planet Lock', ' Classical Guitar', ' Pickup Covers', ' Rich Redmond Signature', ' Sparkling Green', ' nanoKEY Studio', ' Stereo/Pan', ' Red Set (.010 1/2-.050)', ' Tour', ' FA-100', ' Silver Series Gig Bag', ' Classic', ' Super Long Scale', ' System Blue DC27 \"Scooter\"', ' WK7600', ' GBA500N - 1/2 Size Acoustic Guitar', ' 76-Key', ' Tie On', ' S49 49-Key Keyboard', ' Deluxe Sub Pole w/ 20mm Adapter', ' ER4P-T', ' Extra-Hard Tension', ' 25-Key', ' No Flash', ' FL-10 Flanger Pedal', ' Acoustic Electric Guitar Only', ' 3 Feet', ' Jim Root Tele', ' 2670 - Blue Steel Bass XL', ' 2557 - Blue Steel Electric DT', ' (5) Wireless Mic Systems (Nylon)', ' PT-M/M', ' SG - Brown', ' Warpig (.88mm)', ' Stereo', ' 2 Pack', ' V16 Bari Sax', ' Boom Cymbal Stand', ' Electric', ' Extending', ' E-9th Pedal Steel Tuning', ' Polish', ' STILETTO EXTREME-4 LH', ' Meet the Beatles', ' Mega Bone', ' J.D. Crowe (Studio)', ' Memphis (Medium)', ' Acoustic Dreadnaught', ' Solid Top-With Case', ' TOP ASSEMBLY ONLY', ' Tenor Sax', ' Bass VI', ' 80/20  NANOWEB Coating', ' Since 1951 T-Shirt', ' Seatbelt Strap (Black)', ' Electric - LED Edition', ' Banshee Talk Box Pedal', ' Double Chain Drive', ' .009-.046', ' Single Row', ' Standard Bone', ' Club', ' Electric - Vintage', ' 12', ' Light Top/Heavy Bottom', ' Swivel Hook', ' 6', ' Bold As Love (Medium)', ' SSS', ' New Fusion', ' Regular -Swivel Hook', ' CA-40 Chromatic Tuner', ' Guitalele', ' Single', ' 3016 - ProMag Grand XM', ' Lightweight Throne', ' Sizzler', ' Loog Electric Guitar', ' Cymbal, Natural', ' DU-200', ' EZ Grab Metal Slider', ' Ukulele', ' 88-Keys', ' M5', ' Ab', ' 6 Pack', ' Steal Your Face (Tan)', ' Mounted Tom', ' RISE 49', ' Guitar With Case', ' Stylophone Beatbox', ' Phosphor Bronze', ' Forward 5B', ' Rosewood Fretboard', ' Dark', ' Fretted', ' 3000 - Artist', ' Strength Medium-Hard', ' CP40', ' Big Band with Elastic Band', ' Nylon Strap (Strawberry)', ' Extreme', ' Monotron Analogue Ribbon Synthesizer', ' X0, 1.00mm, A=441', ' 5 String Set', ' Banjo Pickup', ' Heavy Tension', ' Loop End', ' Vintage Strat Neck', ' Rectified Black Nylon', ' System Blue DC17 Light Indoor', ' Regular -Metal Hook', 'm', ' Troy Sanders', ' Bold (Heavy)', ' 000 SIZE GUITAR', ' 2082 - Custom Light', ' DU-200C', ' Hear My Music (Medium)', ' COMPLETE STAND', ' Recital', ' 61-Key', ' 24\" Depth with Casters', ' Strength Hard', ' 72 Pack', ' Bass - Grey', ' Double Stand', ' Single Stand - 2 Pack', ' 3-Piece Set', ' EC-1000', ' Buzz Kill Gels', ' 5-String', ' Shaped Case', ' Cotton', ' Nyltech', ' Palm Key Risers', ' Hammer-Action Keys', ' Dual Electric', ' Silver D', ' Matt Freeman', ' 61 Keys', ' EC Guitar Form Fit', ' 20', ' Guitar Only', ' Mouthpiece 4C', ' Regular -Loop', ' Digital Piano', ' Clear Nylon', ' 5-pack', ' 400 Ser LH Single Chain', ' Series 13', ' Pro edition', ' Alto Sax Reed- Strength 3.0', ' Combo', ' Right Angle Ends', ' Thunderbird Bass', \" Europe '72\", ' Standard Tripod', ' ELECTRIC GUITAR', ' Standard Depth', ' Brilliant', ' Shira Kashi Oak 5B', ' TENOR GUITAR', ' Snare Drum', ' Classical', ' PDDT700 Round', ' Curved', ' Ambassador Coated Bass', ' TS210', ' HUSH Noise Reduction Pedal', ' Union Jack', ' DREADNOUGHT GUITAR', ' Eva Gardner', ' Violin', ' WK6600', ' Single Belt Drive', ' Medium Weight', ' Triple O Acoustic', ' Beginner Bundle', ' 13 Canes', ' Violin/Viola Pickup', ' Right Handed', ' Hot Rails', ' Light', ' DL38', ' Neil Peart 747', ' Baritone', ' Vinyl', ' Blackout Trucker', ' 72', ' Long', ' S/S/S', ' Mini Bone', ' TCL/Trouper', ' Leather End', ' Medium Tension', ' Leather', ' Midsize', \" 60's\", ' Neon Green, Wood', ' PDDT720 Tractor', ' Phos Br NANOWEB Coating', ' 7A Hickory', ' (2) Wireless Mic Systems (Nylon)', ' A-Frame Stand', ' Black', ' AL4', ' Single PCS', ' Rosewood', ' Solid Spruce Top', ' Ambassador Hazy Snare Side', ' Single Wireless System (Slim EVA)', ' Premium Abalone Inlay', ' Keyboard only', ' YRS-23', ' PT-M/M LH', ' Sgt. Peppers', ' 14 Fret', ' PDDT820-X Tractor', ' Tweed', ' Single Stand', ' 500 Ser Dual Chain', ' AW-2 Clip-On Guitar Tuner', ' KT-10', ' C5', ' Extra-Super Light', ' 1 pack', ' Strength Medium-Soft', ' Coated', ' Extended Support (Size Small)', ' Wavedrum Mini Dynamic Percussion Synthesizer', ' Traditional', ' Single Set', ' 4 STRING', ' Jazzmaster', ' Soprano/Alto', ' KC50S10N - 48x17x7 in.', ' D7M', ' Maple Fretboard', ' Shira Kashi Oak 5A', ' Signature (Medium)', ' 37 velocity-sensitive mini-sized keys', ' Wood Handle Whip', ' Concept Series Boom Stand', ' Jaguar/Jazzmaster', ' Light +', ' ER4P', ' 2550 - Blue Steel Electric XL', ' Anthology', ' Fretboard Conditioner', ' Trolls', ' Ambassador Clear', ' 700 Series boom Stand', ' Regular', ' Long Scale', ' Humidipak Maintain Kit', ' PRO 900', ' Jaguar', ' Theremini', ' Nickel', ' DL36', ' Double Braced', ' Hello Kitty', ' Bb Clarinet', ' Belt Drive', ' Short Cut', ' Pitchblack Custom Pedal Tuner', ' Hard Tension', ' 2032 - Extra Light', ' J.D. Crowe (Stage)', ' Quick Release - Single', ' 10-Packs', ' microKORG XL +', ' Gold Series', ' 5 String', ' Double Belt Drive', ' Restore', ' RS502T', ' Guitar with Case', ' JR2', ' Pedalboard', ' TA-40 Superdrive Pedal', ' 0992116000', ' Revolver', ' White', ' nanoKONTROL Studio', ' Single-sided', ' 5B Hickory', ' Dreadnought', ' TR-330', ' Korg Volca Keys', ' 1-Pack', ' AL3', ' Rock', ' 112J', ' Clarinet', ' PRO 750', ' Single Brace', ' Micro-Fiber', ' Vow Press Pedal', ' Bass Bow Case', ' .10-.050', ' 0992121000', ' SH6250 - 50 ft', ' 10 Pack,Heavy', ' Korg ELECTRIBE Synth Based Production Station', ' Traditional Brown', ' Alto Sax', ' Electric Guitar Case', ' Double Row Jingles', ' Metal Hook', ' Flute', ' Resophonic Guitar', ' Heavy Weight', ' Electric Bass', ' 3-Zone', ' 5 string', ' Case Bundle', ' Shock Mount with Casters', ' Acoustic Guitar', ' OBEY10', ' B Bass Form Fit', ' TS-30 Overdrive Pedal', ' Electric Guitar Bag', ' 49-Key', ' XLR Cable', ' Jazz Bass', ' 2500 - Nickelsteel Electric DT', 'd', ' Sustain Pedal with Half-Pedaling', ' 2 Conductor 100 ft', ' EC-1000 Evertune', ' Ambassador Coated Pack', ' Music Stand', ' Sizzle Ride w/ 6 Rivets', ' Soul Press Pedal', ' With Case', ' Guitar', ' Powerstroke P3 Coated Bass', ' Replacement Sponges - 3 Pack', ' Cedar', ' (12) Wired Microphones (Nylon)', ' M7', ' Webbing', ' Double Tom Stand', ' Classic 5B', ' 10 Pack,Light', ' For Small Controllers', ' Right-Handed', ' Acoustic/Electric Combo', ' Compact Sustain Pedal', ' Padded with Brass Corners', ' Nylon Strap (Purple/Grape)', ' Purple Dip, Nylon', ' AW-2G Clip-On Guitar Tuner', ' AT92ECD Phonograph Cartridge', ' Jumbo Acoustic', ' Acoustic Bass', ' Cutaway Electric', ' Solid Rosewood', ' 800 Series Boom Stand', ' Body Polish', ' Solid Mahogany', ' Long Hex Rod', ' Mahogany Body', ' PSR-E343 Portable Keyboard', ' Sop Sax', ' RISE 25', ' Hardware Pack', ' DGX-660', ' Regular -Open Hook', ' 5', 'S', ' 3/4\" Size Acoustic', ' Acoustic', ' Silver', ' Stars & Stripes', ' MSA7011 U-Mount Clamp-On Bookplate', ' Case (Lightweight EPS Foam Frame)', ' Delay', ' iPad mini', ' WK245', ' Rebound 5B', ' 800 Series 2 Leg', ' HELLRAISER C-1', ' Red, Nylon', ' 80/20  POLYWEB Coating', ' Single-Pair Stick Holder', ' Powerstroke P3 Coated Top Clear Dot Snare/Tom', ' Black Nylon', ' Slinky', ' 5A Nylon Tip', ' EC Guitar XL Form Fit', ' 0992109000', ' Neoprene', ' Concept Dual Chain', ' CHORUS', ' P255', ' Birch Heavy, Wood', ' GBCLASN - Classical Guitar', ' Les Paul', ' 25-Pack', ' Single Chain Drive', ' Acoustic-Electric', ' Clarinet only', ' APX Guitar', ' Korg Volca FM', ' Left Handed', ' Junior', ' Tombstone MH Form Fit', ' WG20DN - Dreadnought Acoustic', ' SA', ' Ambassador Coated', ' Medium Soft', ' Tuba / Tenor Saxophone', ' A-Frame', ' OBEY70', ' RESONATOR BANJO', \" Silver Collector's Series (Heavy)\", ' Dancing Bears', ' Albums', ' Stereo VideoMic Pro', ' Plus Snare Mesh Pad', ' Ball End', ' Left Handed Jazz Bass', ' Solid Sitka Spruce Top', ' Korg Volca Bass', ' ER4S', ' GA-40 Guitar/Bass Tuner', ' 2036 - Medium Light', ' BOTTOM ASSEMBLY ONLY', ' Large', ' X5, 1.05mm, A=441', ' Full-Size Keys', ' 88 Note', ' Contego PRO PAC Case', ' Coated Standard', ' Acoustic Quick Release', ' Bb', ' 9 STRING', ' Untreated', ' 6/12 String Dreadnought', ' 3-Piece Soprano', ' Universal', ' G', ' MH Guitar Form Fit', ' Breakout', ' Strength 2.5', ' 6-Point Valve Guard', ' Single Coil', ' Pro Mag Grand', ' Classic 2B', ' DL41', ' SH6220 - 20 ft', ' 8 STRING', ' 2081 - Light', ' Rubber Snare Head', ' Mini Electric', ' Vintage Noiseless', ' CP1', ' EG20DN - Electric Guitar', ' VDH Drink Holder', ' Maple', ' Chris Aiken', ' Super Light', ' VCYBB Cymbal Bag', ' Acoustic and Electric', ' Lightweight', ' Gauge 11-49', ' Monster Brush', ' Ride', ' Double Guitar Bag', ' Black Dip, Nylon', ' Cymbal', ' Extra Long -Swivel Hook', ' Seatbelt Strap (Silver Grey)', ' Combo Pack', ' 3-Piece Alto', ' 2558 - Blue Steel Electric LTHB', ' PG1', ' LK-265', ' Crash Ride', ' 300 Watts Peak', ' Open-G', ' 2503 - NickelSteel Electric REG', ' 3001 - Artist XM', ' Mylar Drum Head', ' Strength 3.5', ' BOOK PLATE WITH HOLES', ' 2008 - Extra Light', ' BA-40 Bluegrass Tuner', \" Hard Day's Night\", ' Spruce Top', ' 12\" Weighted Base', ' Single Channel', ' Key of A', ' Everyday', ' Hanging', ' Purple Dip, Wood', ' Tenor with Cutaway, Electronics, and Gig Bag', ' 4-String', ' 400I', ' Wide Shape', ' Coated Fusion', ' HOFBB20DN - Hofner Bass', ' Semi-Weighted Keys', ' Single Braced', ' Synth Only', ' V-Alexi Guitar Form Fit', ' Rosemary', ' KC18S10N - 38x15x6 in.', ' Scott Johnson Marching', ' Dbl Drop D', ' Bass - Black', ' 62 Custom', ' Assignable Sustain Pedal', ' Shine', ' CA-1 Chromatic Tuner', ' Finger Saver', ' Stratocaster', ' 2554 - Blue Steel Electric CL', ' Projection Ride', ' Stiffo', ' Mike Johnston', ' Powerstroke P3 Coated Tom', ' 12  Pack', ' Strength 3', ' Platinum Pro EQ/DI', ' HUSH Super C Noise Reduction Rack', ' 2679 - Blue Steel Bass ML', 'a', ' 2004 - Medium Light', ' RS720B', ' 2', ' V-Drum Set with Stand', ' 36 Pack', ' PG2', ' Single Channel with Ground Lift', ' Titanium', ' Strat Neck', ' 24 Pack', ' 2 Conductor 50 ft', ' Thin & Thick', ' Nylon Tip', ' Guitar & Amp Bundle', ' TS215', ' Les Paul - Brown', ' Deluxe Hard Case', ' Maple Green Dip, Wood', ' 0993116000', ' Blackout Baseball', ' Stylophone', ' 25-pack', ' Shorty HCT-SH-BL', ' Fusion Sizes', ' MV', ' YRS-24', ' 7A Nylon Tip', ' 100 Pack,Light', ' Tenor Ukulele', ' Rosewood Body', ' Emperor Coated Pack', ' GBELECN - Electric Guitar', ' Semi-Hollow Guitar - Black', ' .011-.052', ' Fusion', ' Nylon String', ' 2504 - NickelSteel Electric LTHB', ' A', ' iPad Music Stand Adaptor', ' ZLX-15-Cover', ' Slim-Line USB Keyboard', ' World Tour Graphic', ' GBBASSN - Bass Guitar', ' BSAG20DN - Acoustic-Electric Bass', ' P115', ' 12\" OPENBACK BANJO', ' Emperor Coated Bass', ' Mustang', ' Normal Tension, 3/4', ' 12 String', ' 335 Semi-Hollow - Brown', ' A5', ' Sustain', ' 2556 - Blue Steel Electric REG', ' 25\" Controllers', ' Piano', ' Solid Cedar Top', ' Mono', ' 10-pack', ' 2675 - Blue Steel Bass XM', ' E', ' F', ' CG20DN - Classical Guitar', ' 4 String', ' Ultra Light', ' SOPRANO UKULELE', ' 3.0', ' Straight Ends', ' Banjo', ' Mesh Snare Head', ' Gibson/Epiphone Explorer', ' Electric Ladyland (Heavy)', ' Key of G', ' Rosewood Fingerboard', ' 10 Pack,Extra Heavy', ' DM6 Nitro Kit', ' Receiver Only', ' Telescoping Boom, Tripod Base', ' Right Hand', ' PSR-E343 Premium Pack with eMedia Software', ' Kick Tower', 'C', ' Natural', ' 12 Pack', ' Frontline (Heavy)', ' Receiver & Stand Only', ' B5', ' B3', ' 0992234000', ' 700 Series', ' Clear Fusion', ' Manhasset M48 Symphony Music Stand AC48S', ' ZLX-12-Cover', ' Full-Color Screen', ' PRO 550', ' String Cleaner', ' Custom Telecaster', ' Round', ' Shira Kashi Oak 2B', ' Forward 5A', ' Double Electric - Gold Series', ' Hi-Hat Stand', ' Momentary Right Angle', ' Bass ProWinder', ' J5 Telecaster', 'p', ' Ash - Short', ' 5 STRING', ' CompactKit 7', ' Oblong Case', ' D5M', ' Electric Guitar - Black', ' Ukulele - Concert', ' Clip-Free', ' Right-Angle', ' KSA7575 Universal Attachment', ' B7', ' Spaceman', ' CTK3200', ' Semi-Hollow Guitar Bag', ' DU-200T', ' Rubber Pads', ' Mandolin', ' Carbon', ' 12-String Acoustic', ' Brazilwood', ' SA (Set of 3)', ' 2002 - Light', ' Concert Ukulele', ' Lemmy (1.14mm)', ' Bass - Ash', ' Junior -Swivel Hook', 'n', ' AT311EP Phonograph Cartridge', ' Triple Stand', ' Silver Series', ' Headlock', ' CHORUS and DELAY', ' Medium Scale', ' Adjustable Cup', ' SG', ' AW-2U Clip-On Ukulele Tuner', ' Software Bundle', ' Keyboard', ' Thin', ' FG127 Guitar', ' Bass Drum', ' Zil-Bel, Small', ' Multi-Pair Stick Holder', ' Mega Bone - Rolling Bag', ' 4 Conductor 100 ft', \" '57 Twin\", ' Strength Medium', ' Momentary Straight', ' C', ' For DDJ-SX/RX', ' Stewart Copeland', ' Key of C', ' DD65 Premium Pack', ' GBA750N - 3/4 Size Acoustic Guitar', ' 3-pack', ' Holds 4 Pairs', ' Drum', ' Controlled Sound Coated Black Dot Snare/Tom', ' Style I-Black', ' Electric Piano', ' For DDJ-SR', ' Heavy', ' 5A Hickory', ' Stereo VideoMic', ' Medium/Heavy', ' Mini Keys', ' CLASSICAL or RESOPHONIC GUITAR', ' Skulls', ' Integrated Flash', ' Loudbox Mini Cover', ' Thick', ' Classic Player', ' Synthetic', ' Double Braced w/ Extra Strength Tubing', ' AT95E/HSB Combo Kit', ' X-Long', ' Black - Long', ' Pro', ' Philharmonic', ' A7', ' X15E, 1.18mm, A=442', ' Black Dip, Wood', ' ESAG20DN-Semi-Hollow Guitar', ' (16) Wired Microphones', ' BDX22N - Dual Electric Basses', ' OBEY40', ' Mahogany', ' Standard with Casters', ' Powerstroke P3 Coated Snare/Tom', ' Zil-Bel, Large', ' DD65', ' HELP!', ' V String', ' 25-Packs', ' Humbucking with Microphone', ' Tie End', ' Gibson/Epiphone Flying V', ' Electric Bass Case', ' Bass', ' Stage Right Series', ' Holds up to 6 Mutes', ' Solid Engelman Spruce Top', ' Mesh Pads', ' Alto Sax Reed- Strength 1.5', ' Stereo VideoMic Pro Rycote', ' 600 Series', \" 50's Stratocaster\", ' MicroHUSH Noise Reduction Pedal', ' Johnny Marr', ' Upright Bass Pickup', ' (4) Wired Microphones (Nylon)', ' OMEN EXTREME-6 FR', ' Alto Sax Mouthpiece', ' Extra Light+', ' Black, Nylon', ' For DDJ-SZ/RZ', ' Straight', ' microKEY air 37', ' Clear Rock', ' Classic Player HH', ' Soprano Ukulele', ' 12-String Guitar', ' Korg Volca Beats', ' AL5', 'c', ' 60s Tribute', ' Tonemaster', ' Ash - Long', ' Gold', ' Disney Princess', ' DU-200B', ' Exotic Wood Top', ' Electric Bass Bag', ' FG1106 Guitar', ' HSS', ' EDX22N - Dual Electric Guitars', ' Silent Kick Pedal', ' Medium Light', ' Standard', ' Monotron Delay Analog Ribbon Synthesizer', ' Korg Volca Sample', ' Practice', ' 19\" Controllers', ' Rasta Man', ' 50s Tribute', ' BOOK PLATE WITHOUT HOLES', ' 25 velocity-sensitive mini-sized keys', ' Cup', ' Aluminum D', ' Nylon Strap (Blue)', ' RS420', ' 5-Pack', ' M9', ' Snare Kit', ' Premier Series', ' Straight Stand', ' Saxophone only', ' 335 Semi-Hollow', ' Gold Series Gig Bag', ' Guitar ProWinder', ' Venom Rock Club', ' Straight / All Aluminum', ' GBA100N - Acoustic Guitar', ' Dreadnought Acoustic', ' Banshee 2 Talk Box Pedal', ' Standard Sizes', ' Standard Sub Pole', ' Standard with Elastic Band', ' Original', ' 1 Pack', ' Valve Guard'}\n",
      "Color:: {' White Body', ' Hennessey 7300B Strap Locks Black', ' Music Stand Tablet Holder.', ' Blue, 1 Pack', ' Cordovan', ' Chrome Rack', ' Foam Wind Screen', ' Burgundy Sunrise', ' Retractable Brushes', ' 2 pack', ' Metal Gold', ' Birch', ' Strap-B15', ' Gold R3', ' Gold Bass Tuning Pegs', ' Full-Size Classical', ' 6CM-DR-3', ' Ruby', ' Round Teardrop', ' Che Guevara', ' 6 PACK', ' Chrome Plate Ivory Button', ' Daphne Blue with Vanilla Cream Pickguard', ' RED MOTO', ' Hawaii Flower', ' Ocean Blue Metallic', ' Beige interior', ' 4Ply Vintage Tortoise Shell', ' Black w/ Grommets', ' Gold,black,chrome', ' BR', ' Tan', ' .75mm', ' TENOR-DJ200AB-P6B', ' Regal Black', ' KING2603', ' 3ply Parchment', ' Dumbler Amp Simulator', ' Silver/Black', ' Black Leather', ' Charcoal 2\"', ' Silver 10 Pack', ' 4Ply Red Tortoise', ' C3', ' Medium  12-54', ' Black with Yellow Stripes', ' Strength 3.75', ' NICKEL', ' Beige', ' NATURAL', ' Green Dip', ' 6-SZ type', ' 2 Cables', ' CONFETTI', ' Navy Blue', ' Clear matt', ' 1 Channel, 1 Handheld, 1 BodyPack', ' Dfp720 Birch Handle With A Soft Yarn Hea', ' pick', ' Black Nickel R2', ' chocolate', ' GRAY', ' DJ-12 72x3x9mm', ' Pearl Blue', ' MM-141', ' Rock-n-Roll 9-46', ' 18\" Vintage Sand Trash Crash', ' Dark Blue Metallic', ' 14\" Crash', ' Purple Sunset', ' Stripes', ' SSA100B Black', ' C7', ' Red 2 Pcs', ' Vintage Burst Satin', ' Natural Gray Burst', ' Classic Yellow', ' 8', ' Solid Spruce', ' Blue Pearl', ' Chorus', ' Burgundy/Charcoal', ' mahogany', ' Metal Tenor in.NY in. Style Mouthpiece', ' Cranberry Red', ' Mock Tortoise', ' 18LEDs par light', ' Industrial', ' w20', ' red color', ' Basic Kit (Natural)', ' Red Sparkle', ' 3c', ' 7150 Pure Nickel', ' Tiedye 1\"', ' 4', ' Race Red', ' Rosewood Back & Sides', ' Ebony/Nickel', ' D3', ' Vivid Pink', ' BLACK MOTO', ' Natural Blonde Rim', ' RO', ' 4Ply Pearl Bronze', ' Multicolor', ' 4Ply Brown Tortoise', ' Agate Black', ' Satin Vintage Sunburst', ' Bone-3mm', ' Pcak of 1', \" X's & O's\", ' Celluloid', ' 3 Pack', ' WB008', ' White Bone', ' Sky (Blue)', ' Black 2\" 24pcs', ' 3ply cream', ' Gold on Brown', ' 5 Strings', ' Blue interior', ' Black, 10 Pack', ' Dark Red Burst', ' Yellow Black', ' Aged Pearl', ' Red Metallic', ' 38x3.5x5/4.5mm', ' 43.2x4.8x3.2mm', ' Light Blue Flowers', ' Classy Matte Silver', ' Black Pottery', ' Clear', \" Custom Shop '51 Nocaster\", ' Red Bandana', ' Stand', ' Light Teak', ' Natural-Left Handed 1', ' LOW F', ' Matte Natural', ' Silver 20 Pack', ' Forest Leaves Birds Butterfly', ' Quadura White', ' See Thru Black Cherry', ' Strength 1.5', ' Clear Veil', ' American Vintage 64', ' Latitude Tremolo Deluxe', ' Travel Didgeridoo', ' HY-1 Black', ' Hybrid Slinky 6 Pack', ' RGB 12LEDs Par Lights', ' Charcoal B', ' 1 Black', ' Purple Flowers', ' 7250 Nickel-Plated', ' Camouflage', ' Vintage Tortoise', ' 3C Rich Tone Gold Plated', ' Light Blue Burst', ' derby effect light', ' White Pearloid', ' Mini5 Rhythm Amplifier, Ivory', ' Mini5 Rhythm Amplifier, Black', ' Bronze', ' Small Desktop Microphone Stand', ' Silver on Black', ' Metal Rovner Alto Mouthpiece', ' Wall Fade', ' Z2', ' Vintage White', ' Control Knob-11', ' Premium', ' 1/2-3/4 Size', ' Jet Black', ' Classical Guitar', ' Pink.', ' Parchment', ' Brent Mason Hot Wired', ' Natural + Learn to Play Guitar DVD', ' Silver Burst', ' Left-Handed, Sunburst', ' 1 Year', ' Red-B', ' 8 Way Daisy Chain', ' YouMic', ' 5 ft.', ' Gun Black', ' 4Ply Red Pearl', ' MI0254', ' 2 Pack', ' 1 PAIR', ' Black Teeth', ' Ebonite', ' 5CM-DR-1', ' Black MIDI (2015 Release)', ' Silver/Blue', ' black engraved flower/silver keys', ' Sacral Chakra', ' Accoustic or Wide Body', ' Cool White', ' PO-12', ' 42x3.5x4.5/3.5mm', ' Single', ' Yellow Monterey', ' Semicircle', ' Violinburst', ' Blue Colorful', ' Effects Pack', ' Phosphor Bronze', ' Ice Blue/Charcoal', ' Fiesta Red', ' Rosewood Fretboard', ' Dark', ' Black Adjustable', ' MA-10 Black', ' Mini Wood Bongos', ' Metal Material', ' 8250 V-String', ' 24\" Rain Stick (Red)', ' Autumn Burst', ' Rattan', ' Lavender', ' Black with Aged White Pickguard', ' Black/Red', ' Professional Cymbal Bag', ' Epi Half Moon Chrome', ' 3Ply Parchment', ' Natural Kit', ' Abstract', ' Butterscotch Blonde', ' Abalone Pearl', ' Orange+Silver', ' Red Moon', ' Speakon - 1/4\"', ' Exotic Mahogany', ' Skinny Top Heavy Bottom 6 Pack', ' Dark Gray', ' Black-037', ' Dark Brown', ' Bohemia No.2', ' Dark Tortoise', ' Red Wine', ' Classical', ' Cherry', ' Caf Cajon with Snares', ' Pixel', ' Classic Brushes', ' Orange, 1.14mm', ' Gold on Forest', ' Coral Sunburst', ' BLK', ' Shell Black white', ' 10\" x 6\" Popcorn', ' WSN', ' Light', ' Single G String', ' Dual Channel 1 Handheld+1 BodyPack', ' Black Cotton', ' Narrow', ' 3Ply Ivory White', ' 18\" Extra Dry Dual Crash', ' LE Tennessee Red', ' Wine', ' Black 2-Pack (60\" Height)', ' Sgt. Peppers', ' black color', ' Rosewood Fretboard 2', ' Pointed Square', ' Cobalt Blue', ' C5', ' Gold Tweed', ' 1 pack', ' Black w/ Chrome', ' Pacific Walnut', ' White 2pcs', ' GT-5', ' TENOR-DJ233C-D3', ' Medium Gauge', ' Buckle Universal Desk Stand', ' 5C', ' Surreal Salvador Dali Inspired', ' Purple/Charcoal', ' Peace Love Music', ' leather', ' Plexi-Drive British Overdrive', ' Guitar Amber', ' VWHT', ' AT-355', ' 3C', ' Trans Amber', ' Wild Purple', ' MA-12 RoseWood Color', ' Traditional Sunburst', ' Black w/Chrome', ' Vintage', ' Small Button Gold', ' Unbleached', ' Traditional Brown', ' 0.88mm Plectrum - Green', ' .88mm | Green', ' Green color', ' 1 to 8', ' Lil Luber Ultra Nut Sauce Applicator', ' 1.00mm', ' 1400 hours', ' daphne blue', ' Faerie', ' Chrome 2.0', ' Sonic Blue', ' .50mm | Red', ' Midnight Sky Blue', ' Silver+Blue', ' 1000 hours', ' Junior 6 in. H x 5 in. and 4-1/4 in. Dia', ' Cream Tip', ' Am', ' Classic Black', ' Silver', ' Harmonizer', ' American Vintage 65', ' Satin Black', ' Orange Flower', ' Sunburst w/ Vanilla Cream Pickguard', ' Receiverx3( built-in battery)& Transmitterx1', ' Drum Stick Holder', ' Bazaar', ' 4Ply Blue Pearl', ' Brad Paisley Drive', ' Amber', ' Cool Coral', ' Natural Cutaway', ' Nohea', ' w500', ' Les Paul', ' Octpus', ' Epi Big Button Chrome', ' 76x3x13mm', ' Great GRAMMA', ' 6505 MH 20W', ' All Solid Acacia', ' Amber Burst', ' Flambe Red', ' Rechargeable Receiver-Silver', ' Black, 5 Pack', ' SUNBURST', ' Gloss Black', ' Low F#', ' Wired Mic', ' Denim', ' Flamed Maple Back & Sides', ' Insanity', ' Sunburst color', ' Western Horses', ' Type 2', ' Black Makanu21', ' Strap-B4', ' Basement', ' TENOR-DJ101AB-AS', ' Electric Bass Guitar', ' green', ' Black Star', ' G', ' Multi Colored', ' BLACK W/ WHITE LIGHTNING BOLT', ' 1 Male to 2 Female', ' Imperial Paisley', ' Knot 1 Gold/Forest', ' Mint Green', ' Silver Sand', ' Classic Rock', ' ABALONE', ' Worn Cherry', ' 1.35 | Black', ' Z4971', ' Peacock Blue', ' Midnight Wine', ' Sparkle Pink', ' Varnish', ' Celtic Knot 1\"', ' crimson transparent', ' Size 2', ' Burgundy interior', ' Titanium Black', ' Super Natural', ' Multi-Colored', ' Angled Patch Cable 6 in (Black)', ' California Weave', ' Key of A', ' HS308V', ' 4/4 Somewhat Flecked', ' w501', ' Satin Chrome', ' Anodized Red', ' TENOR-DJ405AB-P6B', ' bronze', ' Black A', ' Basic', ' With Pop Filter and Shock Moun', ' MI0704', ' Pickup-D3', ' mixed', ' Tweed (Lacquered)', ' Capo White', ' Surf Green with Tortoise Pickguard', ' 7x10W 8/13CH', ' Black, Yellow, and Brown', ' Logo', ' Mist Green', ' TENOR-DJ310NK-A1B', ' Tri Fade Burst', ' Anodized Silver', ' Vocal F', ' multi-coloured', ' Middle', ' 7x10W 4-In-1 8/13CH', ' Seafoam', ' Blue + Learn to Play Guitar DVD', ' Guitar tunner-White', ' 3 Way', ' Electric Blue', ' 3-tone Sunburst', ' Wave', ' Navajo Red', 'G', ' Nuclear Green', ' Natural Finish', ' Dyna Compressor', ' Yellow Guitar Pick', ' Black w/ Brass Rivets', ' Z3712', ' .73mm | Yellow', ' 12 String', ' Vintage Blonde', ' Black/Gold', ' Blue + DVD + Accessories', ' Black-White', ' Banjo', ' Rosewood Fingerboard', ' Flame', ' Off Center Groove', ' Closed Hole with engraved flower', ' Smoked Chrome', ' Abalone', ' Small Round', ' Rosewood Fretboard Block Inlay', ' Natural', ' black/gold keys', ' Rust', ' Style 2', ' Booster', ' Ivory/Black Dot', ' Gray', ' D Key', ' 4Ply Gray Pearl', ' 1ply Black', ' Natrual', ' Fits Metal Tenor Sax Mouthpieces', ' Mod Station', ' Passion Pink', ' 13\" x 3.5\" Piccolo', 'n', ' TENOR-DJ200AB-A1B', ' 4/4 Size', ' Skull and Bones', ' Silver Sparkle', ' Angel Wings', ' Orange Pearloid', \" Sgt. Pepper's\", ' Open Pore Vintage Burst', ' 1.35 | White', ' Platinum', ' Rock Star', ' Mod Core', ' Black 3 Ply (BWB)', ' gray', ' Worn Gold Top', ' Solid Redwood Claves', ' spruce', ' Army', ' 3ply Mint Green', ' Midnight Black', ' 1 Female to 2 Male', ' Single Unit', ' Red and Natural Stripe', ' 32 mm', ' original recipe', ' DMK-7', ' Ego Compressor', ' Transparent Red', ' Blue Metallic', ' Green Colorful', ' Glossy Black 1 Ply', \" Sgt. Pepper's 50th\", ' Tawny Stripe', ' Rosewood/Black', ' Chrome w/ Black Tip', ' 5050SMD 300LED RGB', ' Hawaii', ' Black with Red Foam', ' Medium-Light', ' Wood', ' Chocolate Satin', ' Alien Green', ' style3', ' Eb', ' Ebony - Black', ' 3-sz Type', ' Ebony/Gold', ' For violin / viola', ' Metallic Grey', ' Deep Blue', ' Brown', ' Black Steel', ' Tartan Plaid', ' Black/White Dot', ' 4Ply Yellow Black', ' Original', ' 43-47mm / M', ' Transparent Blue Sunburst', ' Half Moon Button Chrome', ' Multi Color', ' Deep Black', ' Gloss Natural', ' Black Accents', ' Calypso 1\"', ' 20 ft.', ' Foot Tambourine', ' Gilded', ' Surf Green with Aged White Pickguard', ' Indian 1\"', \" Black '65 Overdrive\", ' Pearl Parchment', 'u', ' Tie Dye', ' Clear Glossy', ' GREEN MOTO', ' Liquid Black with Software', ' Purple', ' lighting', ' AT-07', ' Dark Red', ' grey/silver', ' Blue/Red', ' Brown Tortoise Shell', ' 0.60mm Plectrum - Red', ' Matched Pair', ' Oblong shaped in transparent yellow', ' Sage', \" This military-standard waterproof hard case was specifically designed for the Zoom H6 recorders. The interior is custom cut high quality PE foam that includes space for the ultimate Zoom H6 recording setup. This includes pockets for the recorder, XYH-6 X/Y mic capsule, MSH-6 MS mic capsule, SGH-6 Shotgun mic capsule, EXH-6 Dual XLR/TRS Combo capsule, windscreen, memory cards, cables, and additional accessories. Not only does the SKB Zoom H6B case provide the ultimate protection for the recorder, it is backed by SKB's unsurpassed Lifetime Warranty.\", ' LSR305', ' 16\" Rain Stick (Black)', ' Hennessey 7300SL Strap Locks Silver', ' Black Sparkle', ' !other', ' darkgray', ' WHITE MOTO', ' Pink Colorful', ' 2-Color Sunburst', ' Db', ' blonde', ' Blackblood Skull', ' Citron Vanilla Cream w/ White Pickguard', ' 36LED Par Light', ' colorful', ' Aluminum Surface', ' Flat Capo Rosewood', ' BLACK/GOLD Keys', ' White, 1 Pack', ' JCM', ' Anodized Blue', ' Air Force Gray', ' (1) Van Gogh Starry Night Sunflowers Cafe Series', ' Wine (Burgundy)', ' Custom Shop 62', ' 1200 hours', ' Parchment Pearl', ' No.9', ' Vintage Weave', ' ZEBRA', ' Zebra Stripe', ' Alto Sax - Gold-Plated', ' Tweed Right Angle', ' Hawaii Blue', ' Transparent Purple Burst', ' Pickguard-C1', ' Stars & Straps', ' chrome', ' matt Yellow', ' Red on Black', ' Cocobolo Wood and Golden Colored Metal Handle.', ' 5050 Rgb Flexible Led Light T-shape 3-ends Female Connector', ' blue', ' 1.14mm | Purple', ' Striped Onyx', ' Green Pearl', ' RGBW 12LEDs Par Lights', ' Yellow with Tiger Flame', ' Russet', ' Jawbreaker', ' 12\" China', ' White-Black', ' Sand', ' Black Tuner w/ Black Mic', ' AW-3G2-WH White', \" Tweed '57 Overdrive\", ' Guitar Fingertip.1', ' Cherry Red', ' string ruler-A2', ' Black, Light Gray, and Metallic Blue', ' Key of F', ' Strap-B3', ' gold laquer/silver keys', ' Dead Draw', ' 2 Color Sunburst', ' Pinnacle Deluxe Distortion', ' Red', ' Pearl Green', ' Koa', ' Metallic Silver', 'e', ' 4 string', ' Mako Blue', ' On Stage GSA10BK Black Guitar Strap', ' ', ' blue lagoon', ' Black + White', ' Hootenanny 2', ' Zebra Stripes', ' White Dot', ' Stained Glass 1\"', ' Black & Gold', ' Pearl Grey', ' Electric or Narrow Body', ' Orange Blaze', ' style4', ' RGBA-RGB Amber', ' Gold Top Dark Back', ' Classic Wood', ' Twin Ukulele', ' Light-Heavy 3 Pack', ' Hennessey 7200C Strap Locks Chrome', ' Burgundy', ' White, Brown, and Yellow', ' Black & White Checker', ' Maple Fingerboard', ' Full Black', ' Gold Sparkle', ' mahogany tattoo', ' Transmitter', ' Camoflauge', ' Blue Moon', ' 3ply Cream', ' Guitar Bone Pins', ' Size 3', ' Rechargeable Receiver-Black', ' Charcoal Metallic', ' Original Vintage', ' Gold 2pcs', ' A0569', ' Intermediate', ' Black on White', ' Black- Satin Finish', ' 1.14 | White', ' Jewel Blue', ' Sunburst', ' 01-Standard Kit', ' n/a', ' Rotary Speaker Simulator', ' Shell', ' Big Button Chrome', ' Electric Guitar', ' Pure White', ' Bundle w/ Gig Bag', ' On Stage GSA10WT Guitar Strap White', ' 3C Silver Plated', ' OL', ' Belcat TRM-507', ' White/Laquer', ' natural satin', ' Van Gogh', ' .73 | White', ' Professional Bag', ' Stainless Steel/White', ' 1500 hours', ' CM-88', ' RAINBOW', ' Hennessey 7200G Strap Locks Gold', ' Dark Rosewood', ' Aged White', ' Extra Heavy Black', ' 3C Gold Plated', ' Safari Print', ' Light Burst', ' 15 ft.', ' Coffee', ' Red/White/Blue', ' 1', ' Orange Guitar Pick', ' Coffee Cutaway', ' OH Amber', ' size: 2', ' Gray Pearl', ' 5 Way', ' Royal', ' Black R3', ' Warm White, Pro', ' Bodypack Transmitter (2 Lavaliers)', ' Gold Tuner w/ Black Mic', ' Battery Powered 12LEDs Par Lights', ' Ukulele Black Ebony', ' Black Right Angle', ' Bit Crusher', ' Darker Yellow', ' SURF GREEN', ' Black-Ebony', ' Wall Washer Light 4CH', ' Cherry Satin', ' Chrome 3L3R', ' Honey', ' 12 Pack Wedge 1 Inch', ' Confetti', ' Yellow Blaze', ' Plexi-Drive Deluxe Overdrive', ' Big Button Black', ' Blue Pearloid', ' Mini Power Supply', ' Green', ' Vintage Butterscotch', ' Slim', ' Camo', ' Metallic Bronze', ' Medium/Heavy Blue', ' 3Ply White/Black/White', ' 4 Spaces', ' Pearl Yellow', ' Stainless Steel/Mock Tortoise', ' Ebony', ' Third Eye', ' CANDY APPLE RED', ' Chestnut Brown', ' Spark Painted Design', ' Single Small 5 in. H x 5 in. Dia.', ' Up In Flames', ' Guitar capo-black', ' Sapele color', ' CHECKER', ' Translucent Blue Satin', \" Fat 50's\", ' Gold Pearl', ' Natural Type 1', ' Red / Black', ' Rock Light 9.5-44', ' Daphne Blue', ' Bridge Black', ' Country Style V1.1(Double Shoulder Straps)', ' Honey Burst Satin', ' Black/Chrome', ' Baritone', ' Guitar White Bone', ' Black/Silver', ' Dark Violin Burst', ' teal', ' Chrome 2 Pcs', ' Tortoise Shell', ' Double Slope', \" Super 250's (3-Pack)\", ' Black Microphone Arm Stand', ' Weathered Black', ' Silver to Black Fade', ' BU', ' Tribal Wings', ' 2 Pick Holder+24Pick', ' 4Ply Light Blue Pearl', ' Black', ' 1ply Matte Black', ' Black With Wite Dot', ' Red Tortoise', ' Black Webbing', ' A500K', ' Bright Red', ' DB-3', ' Leopard', \" Pure Nickel 150's\", ' Arctic White', ' 3Ply Black/White/Black', ' 6-pack 0.3M', ' Jamaica', ' Black - Extra Large', ' Kidney Button Black', ' BLACK', ' Maple Fretboard', ' Solid Brass', ' Blue Sparkle', ' Rooftop', ' 3Ply Black', ' Anodized Green', ' TB Sunburst', ' Red/Charcoal', ' Trans Blue', ' Golden-White', ' Classic White', ' Wine Red Burst', ' Nickel', ' Ex. Light 9-42', ' DM-70', ' Red wood color', ' Anodized Violet', ' WHITE W/BLACK MUSIC NOTES', ' ST-2', ' Union Jack Flag', ' Dark Brown Tortoise', ' Strength 4', ' Extra Light 3 Pack', ' Turquoise Pearloid', ' Old Violin Sunburst', ' Tone A', ' White/Pink', ' CP-26', ' Celtic Grey', ' 1 Channel, 1 Hendheld,1 BodyPack,Blutooth', ' Lake Placid Blue', ' Heritage Cherry', ' Trans Cherryburst', ' Brown/Gloss', ' Copper Vein', ' Brown Strap, Brass Button', ' Transparent Smoke', ' Olive Drab Green', ' Wide Ribs', ' Receiver*3 and Transmitter*1', 'f', ' Alien Green & Bebop Blue', ' MultiColored', ' 1/4 TS Offset Jacks Pedal Connector (Silver)', ' 4 pack', ' Light 3 Pack', ' Rose wood color', ' GOLD Lacquer', ' TENOR-DJ200GK-P6I', ' C6', ' Brushed Chrome', ' Chrome Finish White Pearl Xylonite Button', ' Red Blackburst', ' Foot Shaker', ' BLUE', ' Tabacco Flat', ' Knob Ends', ' WB001 with Wired Headset', ' Strip Light', ' American Vintage 52', ' 6 PAIRS', ' 5c', ' Gold Chrome 2.0', ' 8-Inch Bell', ' Black/White', ' purple', ' Acoustic Bass', ' White/Silver', ' Black Chrome', ' Brushed Silver', ' Super Slinky 3 Pack', ' Mocha', ' Black 2.0', 'S', ' 4Ply Brown Pearl', ' (2) Vincent Van Gogh Almond Blossom Series', ' Stars & Stripes', ' Output: DC 9V, 400mA', ' White Album', ' Pink/Black', ' Jazz Wave', ' Sunburst with Aged White Pickguard', ' Raven Black', ' 3/4 Size Light', ' Classical Yellow-Left Handed', ' Duo Sky/Flame', ' Pink/Magenta (60\" Height)', ' Bronze Metallic', ' Translucent Black', ' Stone (White)', ' 3-pack 0.3M', ' Figured Natural', ' Liquid Black', ' Ox Blood', ' Left-Handed, Natural', ' Value not found', ' yellow', ' Receiver*1 & Transmitter*7', ' ACE-220', ' Amberburst', ' Twisted Tele', ' Chocolate', ' No.8', ' Hootenanny', ' White&Black', ' Bucket Mute', ' Control Knob-1', ' Bundle w/ Cables', ' Off Center Double Ridge', ' Black Neck Plate', ' Wizard', ' Orange Pearl', ' Black 2pcs', ' Police Line', ' BW', ' Black Pearl Finish', ' Metal Foot Rest', ' Summer Poncho', ' Green-c5', ' LED Strip Connector-2', ' Strength 2.5', ' Metal Foot Rest with Metal Extanation', ' Aged Cherry Burst', ' AG08 HS', ' for ST(Rosewood)', ' black Metallic', ' Black, Light Gray, and Dark Gray', ' Graphite Gray', ' Classic MH 20W', ' Receiver&#xFF08;built-in battery&#xFF09;', ' Satin Silver', ' Deluxe Kit (Burl Wood)', ' Straight Coupler 1/4 inch (Gold)', ' Hazel', ' Silver 5 Pack', ' Grey, 1.00mm', ' 5250 Short Scale Bass', ' Nickel/Plastic', ' Glow in the Dark Blue', ' 2pcs', ' Dynamic', ' Sugar Skull', ' MA-12 Wood color', ' Green Sparkle', ' Light 10-46', ' DT-4', ' Black/Red Checker', ' Hot Noiseless', ' Metal Blue', ' Exotic Zebrano', ' Artist Series Shaker (Soft)', ' Cinnamon', ' Wine Red', ' light blue', ' Tobacco Brown Sunburst', ' Black Tip', ' Yellow & White', ' natural', ' (12 Pack) Charcoal', ' CS67 Black', ' Steel', ' Low E', ' White Black Red Blue', ' Black and White', ' brown', ' Sea Green', ' Mahogany-Brown', ' Metallic KO', ' Vintage Wine Barrell', ' 24inch mahogany', ' 3/4 Size Medium', ' World Tour Graphic', ' Knobs 20 Pcs', ' black engraved flower/gold keys', ' red stand', ' Transparent', ' 18\" Jazz Extra Thin Crash', ' Ver. 09 Luna?', ' Artist Series Shaker (Medium)', ' Power Slinky 3 Pack', ' Strap-B5', ' Violin Bridge', ' style5', ' Single-Braced', ' 05-String Action Ruler', ' Ukulele Amber', ' silver-1', ' Rose', ' Black MIDI (New Release)', ' Hi-hat Tambourine', ' regatta', ' Metallic Copper', ' 15pcs', ' Vintage Sunburst Vintage Gloss', ' Clear/Transparent', ' Black Red', ' Black Walnut', ' White Flower', ' Antique Varnish', ' Brushed Black Chrome', ' Clear Orange', ' Peace', ' size: 3', ' Jazz Stripe 1', ' Burgundy Maroon', ' Pickguard-C7', ' 3ply Aged white', ' Groove', ' Flambe Blue', ' Slvr/Blk', ' National Pink', ' Dark Oak', ' Deluxe Drive', ' Stainless Steel/Black', ' Encore Scratch Remover', ' sea blue/gold keys', ' White-K056', ' Mode A Blak', ' Black-1', ' Tree of Life', ' Assorted', ' Receiver*1 and Transmitter*1', ' Medium Green', ' Red, 1 Pack', ' Tone E', ' Blue Burst', ' 4Ply Pearl Red', ' Strap-B14', ' Assorted Colors', ' ORANGE/GOLD Keys', ' Teal', ' Champagne Finish', ' Black & Silver', ' Chrome - 6inch', ' Black-3', ' GRAMMA', ' Vintage Tweed', ' Vintage Blond', ' Satin Honeyburst', ' MA-12-D', ' Padouk Wood and Golden Colored Metal Handle.', ' Viola Bridge', ' D Pouch - BLACK', ' 8 Space', ' 20 Pattern', ' Mahogany', ' Splatter Black', ' Original Version', ' Black, Yellow, and Red', ' Standard Gig Bag', ' White w/ Green Dot Bone', ' 60\" Rain stick (Black)', ' Fireburst Satin', ' Honey Amber', ' Pickguard-C5', ' Phantom Power Supply', ' Neon Green', ' Candy Apple', ' Paint', ' BLACK VELVET', ' 1ply Cream', ' Surf Green', ' F-F1', ' USA Flag', ' Yellow-Blue', ' Light Blue', ' black-1', ' 37 mm', ' Worn Brown', ' Dark Green', ' Green + Blue', ' Black Pearl', ' Regular Gauge (.010-.046)', ' Black NW-1500 Desktop Microphone', ' Gold/Black', ' Red, White, and Blue', ' Receiver*1 & Transmitter*1', ' Sunset Orange', ' With Pop Filter', ' Lite', ' Strength 2.25', ' Sunset Palms', ' Champagne', ' White Tip', ' 1 Cable', \" Hau'oli\", ' IVORY', ' .595 in. Diameter', ' Red - Yellow', ' golden', ' Chrome 1.0', ' Satin Varnish', ' Bordeaux Metallic', ' Light/Medium Yellow', ' Anodized', ' Big Button Gold', ' Cup Mute', ' Silk Grey', ' FT-016', ' Turquoise', ' Burgandy', ' Black MIDI', ' Tribal Sun', ' surf green', ' 10 Holes 40 Tones Key C', ' King Wood and Golden Colored Metal Handle.', ' Olive', ' Burgundy sand', ' ABS Material', ' Beefy Slinky 3 Pack', ' Oblong shaped in transparent orange', ' 4 Strings', ' chorme', ' Random', ' Dfp210 / Birch Handle With Soft Rubber H', ' Cymbal Accessory Pack', ' Tiger', ' 47-53mm / L', ' Antique Burst', ' style6', ' Flame Yellow Sunburst', ' Yellow type 1-Right Handed', ' Tiki', ' Medium Gauge (.011-.052)', ' Black with Design', ' Stock Yellow', ' Strap-B6', ' 3-TZ Type', ' Mode A Blue', ' Light Colors', ' Mint Green 3 Ply', ' Black-Right Handed', ' Natural Type 3', ' PO-20', ' Low D', ' Cello Bridge', ' Flame Transparent Purple Burst', ' (12 Pack) Purple/Char', ' 9x12W 4CH', ' Polished Nickel', ' 1 to 3', ' Medium 3 Pack', ' 4Ply Black Pearl', ' Multi', ' Standard Shape', ' Bohemia No.1', ' .50 | Black', ' AT-200D', ' Red Saugerties', ' 4Ply Pearl Parchment', ' 1Ply Cream', ' Mini Ego Compressor', ' Lav Clip', ' Black/White Checker', ' wm58', ' Zebra', ' 6 string', ' Dark Teak', ' VHF with 2 mic', ' GREEN', ' TENOR-DJ405AB-P14I', ' Black Top', ' 16\" Trash Crash', ' TENOR-DJ405AB-A2B', ' Guitar capo-gray', ' antique brown', ' Starlight Blue', ' 1 Transmitter+5 Receiver Battery in', ' 52', ' .88 | Black', ' style7', ' TENOR-DJ405GK-P14I', ' honey', ' Spruce', ' Amber Sunburst', ' Tribal', ' Pickguard-C4', ' 5 Way Daisy Chain', ' Silver Mirror', ' Black w/Black', ' Gold on Purple', ' Emerald Green', ' Guitar/Instrument Transmitter', ' Sheesham and Lacewood', ' Black Satin', ' Rainbow Colors', ' Silver Vein', ' Banana', ' TENOR-DJ312G', ' Glass(Clear)', ' 0', ' Quadura Black', ' On Stage GSA10BR Brown Guitar Strap', ' Charcoal', ' Black w/ Black Pickguard', ' Vacuum Stack', ' 5 Pack', ' 50mm Neck Chrome', ' Spider Graphic', ' Brown w/ Brass Rivets', ' Pink+Purple', ' Ivory and Black', ' Transparent Butterscotch', ' for RGBW', ' Olympic White', ' w801', ' fiesta red', ' Black 2\" 6pcs', ' Gold on Black', ' Bebop Blue', ' 9050 Flatwound', ' Yellow Burst', ' Rose Gold', ' Sheesham Cross Bar', ' Retro Sun', ' Handheld Microphone +BodypackTransmitter ( Lavalier + Headset)', ' With Phantom Power Kit', ' BLUE ROCKSTIX', ' Tenor', ' 3C Rich Tone Silver Plated', ' Hawaii Hibiscus and Palm', ' Jazz Stripe 2', ' white blonde', ' VSB', ' Acoustic EQLC-5 5-Band EQ Equalizer', ' Blue, Green, Red, Yellow', ' Bronze Shell', ' 3 tone sunburst', ' Plexi Tone', ' Cherry Sunburst', ' Pewter Sand', ' See Thru Purple Sunburst', ' One Color', ' Cymbal Bacon', ' Dark Green Rim', ' MS7701B - Black', ' 20\" Ride Cymbal', ' chrome and green', ' Blue TSA', ' Stained Glass', ' 4ply Vintage Tortoise', ' Type 1', ' WHITE/GOLD Keys', ' Satin Gold', ' TORTOISE SHELL', ' Blue/Silver', ' size: 2.5', ' Satine Wood and Golden Colored Metal Handle.', ' Vanilla Cream', ' Desert Sand', ' Type 3', ' Golden Brownie T1', ' Leaf (Green)', ' BLACK VELVET.', ' Natural-Brazilwood', ' Brass', ' Gold Semicircle Button', ' Lemon Drop', ' Brushed Bronze', ' Updated', ' Extra Slinky 3 Pack', ' black and brown', ' Tulip Button Chrome', ' Half Moon Button Black', ' Guitar tunner-Blue', ' 52mm Bridge Chrome', ' A0532', ' Yellow Coral', ' Gold Mirror 1 Ply', ' Black/Abalone Inlay', ' Black - 6inch', ' Ch Sunburst', ' Barbed Wire', ' Heavy Rock', ' Series PR4', ' Strap-B17', ' red', ' Antigua', ' BodypackTransmitter (2 Lavaliers + 2 Headsets)', ' Rainbow', ' TENOR-DJ313GK', ' Black Classic', ' Short / Small', ' Bamboo', ' DynaRock T2', ' Ukulele', ' Flaming Chopper', ' Black, Ebony', ' 3-Z Type', ' 44.07x4.98x9.3mm', ' Cognac Burst', ' C20', ' Lucite', ' Yellow', ' 3 Pack Multi Color', ' Blue Flower 1\"', ' Silver Metallic', ' Pointed Teardrop', ' Mode A Sliver', ' orange', ' Aloha', ' Satin Ebony', ' Renaissance Art', ' black gloss', ' Light Gray', ' Royal Blue', ' Cool Gray', ' Red Raspberry', ' Pinnacle Distortion', ' Precision Brushes', ' Red & Black', ' Black/Gray', ' Rosewood color', ' 9120 Tapewound', ' Chrome && Black', ' White Moto', ' 7350 Stainless Steel', ' 1Ply White', ' Solid Black (Snap Hook)', ' 1Pair', ' Pearl White Metallic', ' Classic Claves', ' Mixed', ' sea foam', ' Professional Studio Boom Arm Black', ' Lavender Pearl', ' 4Ply Purple Pearl', ' Gray Scales', ' Dragon', ' Wide', ' Y Splitter', ' 1Ply Black', ' Rubbed Vintage Burst Satin', ' MM-242', ' White/Black', \" Super 250's\", ' Stand+Bag', ' MS7701C - Chrome', ' Union Jack', ' Black Body', ' Pearl Red', ' 1 Transmitter+7 Receiver', ' Fire (Red)', ' MA-12 Blue and White Color', ' Purple, 0.60mm', ' Black White Shell', ' Triple Wreck Distortion', ' Receiver*6 and Transmitter*2', ' Slap Top Cajon Bag', ' L-40M', ' #2-for Saxophone', ' Black w/ White Dot Ebony', ' Greenwich', ' Gold 1.0', ' Orange', ' Vocal C', ' Strength 3.25', ' HS308L', ' Solid Spruce Top', ' Saugerties', ' Flatwound', ' 1.5 | White', ' GoldLeopard', ' Style1', ' Sheesham Cross Bar Double Layer', ' Black+Blue+Silver', ' Colorful Waves', ' Silver Mirror Acrylic', ' 1.14 | Black', ' Racing Stripe Red', ' FT-2', ' 6 Pattern', ' Black Pearloid', ' olympic white (HH)', ' Crown Chakra', ' Pale Yellow', ' Tie-Dye', ' White Pearl', ' Black & White', ' Black Tuner w/ Red Mic', ' Silver multicolored', ' Persimmon', ' Knot 1 Green/Black', ' Z Black', ' 1-Pack', ' 2 tone sunburst', ' Direct Drive Cajon Pedal', ' Chocolate/Gold Stitching', ' Pickup-D2', ' Citron Vanilla Cream', ' TENOR-DJ273N-SI', ' Flare (Orange)', ' N3', ' Rose red', ' Acoustic Guitar', ' Sunburst + Learn to Play Guitar DVD', ' Fits Large Metal Tenor Sax Mouthpieces', ' Z4981', ' MM-14FX', ' Flambe Yellow', ' Golden-B', ' Granite', ' w800', ' Chrome R3', ' Gold 2 Pcs', ' 6CM-DR-4', ' Accoustic and Electric Guitar', ' High F', ' Large Desktop Microphone Stand', ' Trans-pink-a', ' B500K', ' Large Professional Cajon Bag', ' Green, 0.53mm', ' C4', ' 1ply White', ' 3 Pairs', ' USA', ' Light-Heavy 6 Pack', ' Translucent Blue', ' black', ' Worn Satin Ebony', ' SS10 PAK Liquid Black', ' Pearl Purple', ' Heritage Cherry Vintage Gloss', ' Face Art', ' Music Stand Tablet Holder', ' Texas Special', ' Cream&Black', ' Mic Tripod Stand - 1 Pack', ' black guitar stand', ' Brown-Purple 2\" 6pcs', ' TENOR-DJ405GK-A2W', ' Black Nylon', ' wooden/black', ' Jam Cajon', ' Chrome w/ White Tip', ' Black+Gold', ' Left Handed', ' Purple/Silver keys', ' Black, 0.88mm', ' Mother of Pearl', ' Lite Brown/White', ' Black 2018 Model', ' Red Pearloid', ' BLACK NICKEL/SILVER Keys', ' NICKEL/LACQUER Keys', ' Nato Back & Sides', ' 15+ in.', ' style2', ' Brushed Aluminum', ' MudGuard', ' Large', ' two pack', ' TENOR-TSWCAMARANTH-S-S', ' Bb', ' Vintage Sunburst', ' .60 | Black', ' Upgrade Auto Lock Design', ' Red Cedar', ' Race Green', ' 3Ply Ivory', ' Aluminum - Black', ' Pink Moon', ' TENOR-DJ101SG-AS', ' Slatz', ' Ultimate Set', ' TENOR-DJ310GK-P1W', ' Maple', ' Velvet Fuzz', ' Clear Gloss', ' Black w/green trim', ' Pink-Blue', ' Sunset Blue', ' Unfinished', ' Marine Green', ' (24 Pack) Red / Char', ' gold', ' Safety Orange', ' Brushed Metallic Bronze', ' Basic Kit (Ovangkol)', ' Onyx Black', ' Red Pottery', ' Ruby Red', ' AW-3G2-BK Black', ' Padded Case', ' JF-31 Noise Gate', ' 14\" Trash Stack', ' Wooden Capo', ' black acoustic', \" Custom Shop 60's\", ' 10\" Splash', ' Mixed Pattern', ' Flag', ' Aqua Blue', ' .60mm | Orange', ' Flame Maple', ' CA', ' wm57', ' Black/Steel', ' Bass Freak Graphic', ' Zebrawood', ' MI0421', ' Sleek Metallic Black', ' Black with Vanilla Cream Pickguard', ' Original Bullets', ' Light Orange', ' Redburst', ' Mystic Blue', ' katy', ' Style 5', ' Blue Wave', ' Metal Medium Alto/Tenor Mouthpiece', ' Light Gauge', ' F', ' Black-dual', ' White+White+Black', ' Pearl Bronze', ' PURPLE', ' Cartoon Lightning', ' Police Blue', ' Navajo 1\"', ' White Skull', ' Control Knob-15', ' MOP Dots', ' White/Red', ' Vintage Amber', ' BCH', ' Key of A/Bb/C/D/E/F/G', ' Low F', ' 16\" Crash', ' Ivory With Black Dot', ' Sloped Ridge', ' Rustic', ' Shiny Black', ' Chrome/Abalone Inlay', ' Matte Coffee Dream', ' Throat Chakra', ' Camo Green', ' Satin Fireburst', ' Aubergine, Grass Green, Orange, Sky Blue', ' AUS 02', ' 57/62', ' 1 Transmitter+3 Receiver', ' Ver. 04 Solea', ' Super Light Red', ' Turbo Slap Top Cajon (Walnut)', ' Silver + Black', ' Ole Bluey', ' Gun Metal', ' TENOR-DJ233G-D3', ' Dark Blood Red', ' Lavalier', ' Kidney Button Chrome', ' 3ply White', ' Bundle w/ Hard Case', ' Cajon Foot Tambourine', ' Pearl White', ' TENOR-DJ315G', ' Candy Red', ' Black&Red', ' On Stage GSA10BLBST Guitar Strap Blue Burst', ' C', ' White Tuner w/ White Mic', ' Opaque Black', ' Tumnus Overdrive', ' Ice Blue', ' Transparent Blue Burst', ' Tex Mex', ' Pickup-D1', ' silver-2', ' Screw Adapters', ' Knot 1 Emerald/Tan', ' Speakon', ' 3/4 Somewhat Flecked', ' Skulls', ' Spalted Maple', ' SmartRig Di', ' Shell Blue Yellow', ' ABS - Black', ' National Style Yellow', ' Black-Phantom Power', ' (12 Pack) Red / Char', ' 10 pack Fit 32-35mm Pipe', ' 2 Space', ' Tan Leather', ' Mini5 Rhythm Amplifier, Classic', ' Red-White', ' Yellow Pottery', ' Black1-Ebony', ' Crme', ' Worn Honey Burst', ' C1', ' Special Florentine', ' 1 Transmitter+1 Receiver', ' Pearl Black Fade Metallic', ' Clear & Silver', ' Hennessey 7200B Strap Locks Black', ' ORANGE', ' Artist Series Shaker (Loud)', ' Gold', ' RED/GOLD Keys', ' 1.0 | White', ' Forest Green', ' Standard', ' Hawaiian Surfer', ' Ghrome', ' Violet', ' Red with Black Stripes', ' YELLOW', ' Aspen Green', ' Funk Machine', ' Hickory', ' Custom Light 3 Pack', ' string ruler-A1', ' Matte Black 1 Ply', ' 1.00mm Plectrum - Purple', ' Blue/Charcoal', ' Aged White 3 Ply', ' soprano mahogany', ' 1 Pack', ' B1', ' silver /gold keys', ' TinyTune Pro Stage', ' white', ' Vintage Black', ' Sienna Sunburst', ' Red & White', ' Red White Blue Flowers', ' Black B', ' Double-Braced', ' MS-Purple capo', ' Chrome - 13 inch', ' Natural, blond', ' candy apple red', ' White color', ' Candy Apple Red', ' Tulip Button Gold', ' silver', ' Black - SN-5', ' Medium-Light Gauge', ' Style2', ' Antique', ' Black color', ' wood guitar hanger', ' Bridge Position', ' Control Knob-2', ' Gold Plated Black Button', ' Gray with Black Foam', ' Silver Nickel', ' National Blue', ' Satin', ' Heritage Cherry Sunburst', ' Red/Silver', ' 72-Pack', ' Lime Green', ' 1/2 Somewhat Flecked', ' Brushed Black', ' DB-2', ' Yellow-Red', ' RGB 50cm', ' Midnight Blue', ' Alto Saxophone', ' Wood and Black', ' Gold 3L3R', ' Fluroescent Pink', ' Hula', ' USA Graphic', ' 8 color set', ' Shell Red Yellow', ' 3-Color Sunburst', ' 2 Channel:2 Handheld Mic with Bluetooth', ' Metallic SIlver', ' Sheesham w/Nickle Plated ferrule sole', ' Moss Green', ' Hand Oil Rubbed', ' R8RT, R10RT, R12RT & R16RT Multi-Cart', ' Nylon', ' Walnut Flat', ' Pink Floral Pattern', ' 3-Piece Artist Series Shaker Set (Soft, Medium, Loud)', ' Red Burst', ' Crosses', ' Blue Swirl Pearl', ' PINK', ' 3 tone sunburst (HH)', ' Sage Green Metallic', ' pink', ' Fits Slim Hard Rubber Tenor Sax Mouthpie', ' Black,White,Brown,Red', ' String Cajon', ' Black with Grill Cloth', ' Aqua', ' Delux', ' Circles', ' GT-6', ' Root Beer Metallic', ' Celtic', ' Green on Black', ' Quilt Maple', ' Tobacco', ' Mic Stand', ' Black + Silver', ' Black/Yellow', ' Thirty Something Overdrive', ' Multicolour', ' Maple - Bass', ' #1-for Saxophone', ' For Alto Sax', ' Pickguard-C8', ' Twin Violin', ' NB35', ' Dark Violin Sunburst', ' Natural wood color', ' Natural w/ Graphic', ' Ebony Vintage Gloss', ' 4 Ply White Pearl', ' 1.0mm | Blue', ' Soprano', ' Blue Flowers', ' Flame Yellow Burst', ' Black Kit', ' Receiver', ' American Vintage 63', ' Transparent Blue', ' 12W 4-In-1 15/21CH', ' Concert', ' B250K', ' Metallic Black', ' Dark Brown Rim', ' Trans Black', ' Sky Blue', ' Pink', ' Alpine White', ' 17 open hole', ' BLUE MOTO', ' BLACK//SILVER Keys', ' Strap-B1', ' Dark Blue', ' Medium', ' 7c', ' Cream', ' Black (5-Pack)', ' Bongo Cajon Kit (Natural)', ' Gold Knob', ' Red & Green & Blue', ' Trans Brazilia', ' .88 | White', ' Blue', ' Yellow Submarine', ' Black rails', ' Custom Shop 54', ' Control Knob-10', ' D', ' 4Ply Tortoise Shell', ' Rosewood - Bass', ' Ver. 07W ?Blanca?', ' Hootenanny 1', ' 6 Cables', ' Male to 2 Female', ' 6 Pack Multi Color', ' Metallic Blue', ' Motion Shaker', ' fiesta', ' Strength 2', ' Golden', ' Style 1', ' Black/White Shell', ' Grey', ' Bubinga', ' Transparent Lime', ' Gold Mirror', ' Knot 1 Yellow/Red', ' 3Ply Cream', ' CP-05', ' Skinny Top Heavy Bottom 3 Pack', ' Flamingo Sunrise', ' Walnut', ' 4Ply Vintage Tortoise', ' Coyote', ' SSA100W White', ' 3 Color Sunburst', ' wireless battery 12 LED Par light', ' 14\" x 5\" Wood Shell', ' Natural/Black', ' Size 4', ' Brown Tortoise', ' Vintage Sunburst Perimeter Satin', ' Pink Burst', ' Pearl Black', ' Aluminum Rack', ' Black Universal Capo', ' Transparent Green', ' TUSQ', ' American Eagle', ' Sherwood Green Metallic', ' 47-50 mm', ' 18K Gold Plate', ' Natural Type 2', ' Caramel/Gold Stitching', ' Country Style V2.0(Single Shoulder Strap)', ' Transparent Brown', ' 14 in.', ' Bowden Green', ' Black Strap, Brass button', ' No.4', ' Metall', ' SN1X', ' tan', ' Midnight Satin Black', ' Revolution', ' Black/Black', ' Tube Pusher', ' Classic', ' AC Stage', ' Nickel Plated', ' Glossy Black', ' 1MD Most Metal Soprano Sax', ' GREEN/GOLD Keys', ' Black/Nickel', ' .550 in. Diameter', ' Orange Red', ' 51mm Slide', ' 4 Ply Vintage Tortoise', ' Smiley Faces', ' AB', ' 10 Cables', ' BLACK NICKEL/GOLD Keys', ' Royal Bloom', ' Light Gauge (.009-.042)', ' TENOR-DJ102W-E2', ' Strap-B2', ' Pickguard-C6', ' Red/Black', ' Egg Shaker Set', ' Mocha Brown', ' RED', ' 24 pack 2\"', ' 5050 Strip Light Kit', ' Metallic Gold Nugget', ' Pearl purple', ' 2-Pack Large Microphone Stand', ' Ver. 01 Conde', ' 3D Country Style V3.0', ' TENOR-DJ235G-D4', ' Brown Shell', ' Tobacco Flat', ' Desert Burst', ' Green/Black', ' Red Mahogany', ' Indigo Orchid', ' Half Moon Button Gold', ' Brown Sunburst', ' 4Ply Pearl Blue', ' Pewter', ' Hard Tenor Mouthpiece', ' Olive Drab', ' Butterscotch Vintage Gloss', ' Black - 13inch', ' 4Ply White Pearl', ' 6-z Type', ' Chestnut', ' Tatoo', ' Uku', ' US Flag', ' TV Yellow', ' Tulip Button Black', ' Red Pearl', ' Brushed Nickel', ' Makah Burl', ' Brown Colorful', ' Red Flower', ' Gold Top', ' Beatlemania', ' 5 pack', ' Receiver*7 and Transmitter*1', ' 4Ply Pearl Black', ' Gecko Painted Design', ' Medium 6 X 5 in.', ' Black - Gloss Finish', ' WHITE W/BLACK LIGHTNING BOLT', ' Ver. 05 Soleares', ' Natural color', ' Pearl Mint', ' Charcoal 4 pack', ' Violin', ' Heavy Purple', ' Gecko', ' See Thru Black', ' Yellow color', ' 1.0 | Black', ' blue stand', ' Extra Large', ' Black, 20 Pack', ' Sunburst Streak', ' Purple Moto', ' Delay pedal', ' Bahama blue', ' Black Nickel R3', ' Concert Maracas', ' Black T-Bar', ' Rosewood', ' Lil Luber Ultra Nut Sauce Applicator & Encore Scratch Remover Kit', ' Tiger Stripe', ' Brushed Gold', ' Tweed', ' Greenburst', ' Hard Soprano Sax Mouthpiece', ' Torino Red', ' Black w/silver trim', ' Gold on Cherry', ' On Stage GSA10GR Grey Guitar Strap Soild', ' DM-80', ' Brown Leather', ' Coated', ' RGB 100cm', ' Traditional', \" Stainless Steel 350's\", ' Sheesham Black', ' Blueburst', ' Cello/Viola', ' Strength 2.75', ' Green Cutaway', ' Size 2.5', ' Mode A Black', ' C2', ' Guitar Bulk', ' Ivory', ' Receiver*1 & Transmitter*7-upgrade version', ' Forest', ' Duo Sea/Dusk', ' Fuchsia', ' 4ply White Pearl', ' Blue Rose Skulls', ' Charcoal Gray', ' Reversible', ' Mobile', ' Bulk', ' black-2', ' White', ' TENOR-DJ101SG-AW', ' Crimson Red Transparent', ' Receiverx7( built-in battery)& Transmitterx1', ' 3 way', ' 7 Pack', ' Light Brown', ' White with Black Ring', ' Natural Satin', ' DSLR', ' Grindstone Sparkle', ' Black Moon', ' 6 Space', ' 6-TZ Type', ' Nautical 1\"', ' Black w/ White Dot', ' Black-Carbon Fiber', ' Guitar Gauge', ' Rasta Stripes', ' Small Button Chrome', ' Extension', ' (Black)', ' Adapters', ' 11.75 in. x 7.9 in.', ' Tan/Tan', ' Solid Spruce Pro Series', ' 12\" Trash Stack', ' Guitar', ' Celtic Thistle', ' Carbon Fiber', ' Hawaii Coconut Pattern Black and White', ' TENOR-DJ235C-D4', ' Onyx', ' Chrome', ' .73 | Black', ' WHITE', ' Violin Bulk', ' Purple Pearloid', ' 4ply Parchment Pearl', ' Smokey Chrome', ' Navy', ' Shell Tiger Spot', ' Shell Green Black', ' AC-05', ' lply Cream', ' Off-White', ' Checkmate', ' Celtic Knot Multicolor 1\"', ' Char /Zebra', ' Hootenanny 3', ' Gloss Red', ' For Clarinet Or Soprano Sax', ' Small Button Black', ' Metallic Green', ' Satin Natural', ' Super Bullets', ' Guitar Capo Black', ' pick with holder', ' Mermaid', ' Dark Wood Streak', ' Blackberry Sunburst', ' PURPLE MOTO', ' Black/Brown', ' NO.1-0.46mm-20pc', ' Seafoam Green', ' Paisley Pattern In Dark Blue', ' Light Yellow', ' 4Ply Aged Pearl', ' Blue Burst Streak', ' Black & Red', ' 3 Cables', ' Decibel Plus', ' Alto Sax - Gilded', ' Replacement Batteries', ' Hawaii Yellow', ' Charcoal Frost Metallic', ' Cranberry', ' Tan/Black', ' Ver. 02 Alzapua', ' Sweet Leo O2', ' White-Red', ' Mic Tripod Stand - 2 Pack', ' Med. Light 11-50', ' Champange', ' SEA BLUE/SILVER Keys', ' Small', ' Oak', ' Gold Bold Finish Amber Xylonite Button', ' Receiver/Transmitter', ' Honey Burst', ' Vintage Noiseless', ' Walnut-Coloured', ' Metallic Red', ' Hennessey 7300R Strap Locks Red', ' Silver Mirror 1 Ply', ' Digital Delay', ' Dalmation Tortoise', ' Eggshell', ' Red + Gold', ' White Accents', ' Black Moto', ' Vine Design', ' 8\" Splash', ' Gold/Nickel', ' Soft', ' Nickel/Laquer', ' Olive/Charcoal', ' Walnut Sunburst', ' Strength 3.5', ' Super Set', ' Natural Wood', ' Orange Cream', ' White 5-Hole', ' On Stage GSA10BU Burgundy Guitar Strap', ' Transparent Black', ' Cherry  Satin', ' Red Guitar Pick', ' 3ply Black', ' MM-242 with adaptor', ' 7250 Nickel-Plated (V-String)', ' Type-2', ' Strength 3', ' (12 Pack) Burgundy/Char', ' Receiver*1 & Transmitter*3', ' Voodoo', ' Warm White', ' Barcelona', ' WHT', ' walnut', ' Black Metallic', ' Dec Buffer Booster', ' Tortoise', ' Sloped', ' 1.5 | Black', ' Chrome - 19inch', ' #3-for Flute', ' Parchment Pearl 4ply', ' A250K', ' Aged White Moto', \" Mino'Aka\", ' Angel Of Deth Graphic', ' Matte Black', ' black and red', ' A', ' 24LEDs par light', ' Neck Position', ' Black/Pink', ' Burgundy Sand', ' STBLK', ' Guitar Black Ebony', ' Bundle w/ Power Supply', ' Capo', ' E', ' Key of Low C', ' Guitar Pedal Board', ' Maple - Strat', ' olympic white', ' Key of G', ' 18\" Traditional Medium Crash', ' Butterscotch with Black Pickguard', ' Solid Black', ' Jackson', ' Gold Finish', ' Smoked Skull', ' Angled Pedal Connector 1/4 inch (Gold)', ' Ridge', ' Ivory w/ Black Dot', ' Round', ' Aqua Pearl', ' TENOR-DJ102G-AS', ' Honeyburst', ' BWB', ' Bright Amber', ' Agate Color', ' Matched Quad', ' Purple Pearl', ' Large Round', ' DMK-5', ' LAKE PLACID BLUE', ' 3Ply White', ' MI0255', ' Gold R2', ' 4oz. Bottle', ' C8', ' 3 PAIRS', ' Hot Pink', ' MI0450', ' RedIndian', ' Floral Pattern In Grey', ' Solid Mahogany Pro Series', ' .50mm', ' Coated 12', ' Tapestry', ' Light Violin Sunburst', ' Sapphire Blue Transparent', ' 3-Tone Sunburst', ' Tobacco Sunburst', ' DT-2', ' Black - 19inch', ' Quilt Tiger Eye', ' Yellow type 1-Left Handed', ' TENOR-DJ101S-AS', ' Sliver', ' Amber Tiger Stripe Cajon', ' Walnut Satin', ' Black 1.0', ' Red White Blue', ' Custom Shop 69', ' Quadura Deep Red', ' American Avenger', ' Oak Rim', ' lply White', ' AL-3 Rosewood Color', ' TinyTune', ' 9 LED', ' 1 Channel 1Handheld+1Boday Pack,Bluetooth,MP3 Player+Recorder', ' Black White Tweed', ' Trans Red', ' Pearlexcent White', ' Celtic Cross 1\"', ' Copper', ' AG08 JS', ' Euphoria Overdrive', ' C#/Db', ' Rosewood - Tele', ' Black Flowers', ' OCEAN TURQUOISE', ' 4ply Tortoise Shell', ' Ching Ring', ' 5050Strip Light kit', ' V19', ' 80/20', ' Medium Light', ' Flamed Maple', ' Blue Cutaway', ' Clarksdale Delta Overdrive', ' Gloss Blue', ' Rubbed White Satin', ' Tripod Mic Stand', ' Tomato Red', ' 6 ft.', ' CP-12', ' Classic Tweed', ' Sunburst Dreadnought', ' 10 ft.', ' Multi-Color', ' CP-18', ' V17', ' HY-Rosewood Color', ' 3Ply Mint Green', ' Cajon Backpack Bag', ' Long Scale Acoustic Bass', ' Bandana Red', ' Meet the Beatles', ' 18LED Par Light', 'r', ' Stars and Stripes', ' Anodized Gold'}\n",
      "Size:: {' Small: For Ukulele/Violin', ' 10 Feet 1 Right Angle', ' Medium, 50-135 (5-String)', ' 16\"', ' 12-channel', ' Med B, Long Scale (.135)', ' 22-inch', ' SM58S On/Off Switch', ' 16 Inch', ' Super Light, 9-42', ' Pedal', ' Acoustic Electric Tenor', ' 6 PACK', ' Moderate', ' 16-inch', ' 1.5 ft', ' SMS6000 Single', ' On Stage Maple 5A Wood Drumsticks 12 Pairs', ' 3-pin Male XLR', ' Heavy Weight, Double-Braced', ' Strength: 2.5', ' Keyboard Only', ' 75 Feet 2 PK', ' 6 Space, 14\"', ' 4-channel + USB', ' High-Strung/Nashville Tuning, 10-27', ' 1.3mm | Smooth', ' 24\"x36\"', ' 12 x 3W', ' 20 FT / straight - rectangular', ' 1.52 mm', ' Pro Series Music Stand', ' Extra-Hard', ' 16-input', ' Esquire', ' Flashback X4', ' 2U (3.5\")', ' Power 5B', ' 13x11 Tom', ' Princeton Reverb', ' MPS2-072', ' 8-channel + USB', ' Heaviest', ' 13\"', ' Super Light, 09-42', ' Flashback Delay', ' Custom Light, 32-135 (6-String)', ' Drumstick Bag', ' 2 Cables', ' Extra Light, 12-String, 9-45', ' 10\" Double Row', ' 1 Quart (32 Oz.)', ' 61 Note', ' 100 Pack', ' 2 * 18 * 3 W', ' 3\"', ' 15 Foot', ' 2x12', ' 14\" - 16\"', ' 6 inches', ' 8\" x 14 1/2\"', ' 26in', ' Heavy (10-48)', ' 26\"Tenor', ' 6 Pcs / Pack', ' 5b', ' 1pc', ' Jazz Bass - 11 Hole', ' 10 inch', ' 6x Mic Stands w/ Bag', ' 12-54', ' Single Pair', ' Boom Stand', ' 80/20 Bronze', ' 0.56 mm', ' 8', ' 30 Inch', ' 358 - Medium', ' B', ' Portable Guitar Stand', ' Piccolo Bass, 20-52', ' .0095-20', ' 1 piece', ' Baritone Light, 13-62', ' Up to 22\" Cymbals', ' 3.0mm Large Round Tip', ' 3.00 mm', ' 6 Pairs', ' 58\" Long - Single Compartment', ' 10\" woofer', ' Extra Light', ' 4', ' Med. Top/Hvy Bottom, 11-52', ' 3 Inch', ' Full-size 4/4', ' 1 PC', ' One Bottle', ' 3.0mm Round Tip', ' Light, 9-20', ' 75 watts', ' Medium-Hard', ' super', ' Mid-Size Acoustic', ' 5.0mm Large Round Tip', ' Ex. Light (.010-.047)', ' Medium (Balance Tension), 0135-056', ' 4 Strings: AAEE', ' On Stage Hickory 2B Nylon Drumsticks 12 Pairs', ' 8 Channels', ' T50RP', ' 8 + 2 channels', ' Medium/Light', ' 3 Pack', ' 8 Fader Control Surface', ' 11-in.', ' 4pcs 18 X 3W uplighting dj lighting', ' Snare 5.5 x 14\" (hgt x dia)', ' 7/8 Size', ' 22 Inch', ' SUPER', ' 1.0mm | Grip', ' WI-922', ' 5ft', ' Heavier (11-50)', ' 2000U', ' Light (8-40)', ' Bass Guitar - Rectangular', ' 1x15\" 150W', ' 50 Feet', ' 10 Foot', ' Lt B, Ex Long Scale (.130tw)', ' 1/4', ' 10cm', ' .38mm', ' 100 watts', ' 4 Pack', ' 50-Feet', ' 10 Watts', ' Strength 3.0', ' Light, Orange', ' 5 feet', ' Strength 1.5', ' 4U Rack Space - Standard', ' Single Transmitter/VHF', ' 9-40', ' Super Light Plus, 095-44', ' 1 Pcs', ' Baritone Sized', ' Slim 61-Note', ' tall', ' Fiberglass Case', ' Gig Bags', ' 4 Channel', ' 13.0\" x 11.0\"', ' .008 gauge', ' 3-Soft, Unfiled', ' 16 Feet', ' 3U (5.25\")', ' 25Ft 8 Pack', ' 6 Feet', ' 25 Feet RA Female', ' 000-size Sitka', ' Classical Guitar', ' Tenor Sized', ' Steel Hardware Cart', ' 8 Ohm', ' 30 Pcs', ' 25-Key', ' Acoustic/Classical Guitar 41 Inch', ' 15\"', ' Vibrolux Reverb', ' Pkg of 1', ' 2 Pack', ' 15-inch', ' 7A', ' Concert Electric', ' .46 mm', ' 1.90mm', ' 9-46', ' Medium, Wound Third, 13-56', ' EON610 Speaker', ' Acoustic 3/4 Size', ' 335', ' 14-inch', ' I Pick Jesus (12 Pack)', ' 2 Space, 10\"', ' 12', ' 30 ft', ' Round Tip', ' Custom Light, 45-105', ' Single', ' CD-60SCE', ' 6-pack 30cm', ' On Stage Maple 7A Wood Drumsticks 12 Pairs', ' 16 Space, 20\"', ' Jazz Bass - 10 Hole', ' 0.38 mm', ' 12 inch', ' Extra Heavy, 12-60', ' 20ft', ' Heavy Tension', ' Lightweight, Single-Braced', ' 4.5 meters', ' .013', ' .96mm', ' Semi Acoustic', ' 61 Keys', ' 40 watts', ' 10-input', ' Tenor Low G', \" 6'\", ' Lt B, Long Scale (.130tw)', ' 8\" Trombone Bell', '5', ' 15 Ft', ' 10ft Angle', ' 2-channel', ' 4 Packs', ' Strength 2.0', ' 0.94 mm', ' Dark Gray', ' 6cm', ' 1/2', ' Classical', ' 44.50in. x 4.75in. x 4.75in.', ' 3', ' Affinity', ' 23-in.', ' 13.1\"x 6.25\"x 6\" (X-AIR)', ' Bass Guitar', ' Light (.012-.053)', ' 4 Space, 17\"', ' MN01-Black', ' .012 - .054', ' Rack Mount', ' 5a', ' 12 LED Par Lights RGB Light', ' Light', ' 4 Gallon Case', ' .88mm | Grip', ' Version 2', ' 54 Key', ' Blues/Jazz Rock, 11-48', ' 3.0mm', ' 10 PK', ' Lt Medium, Long Scale (.045-.135)', ' Single Transmitter', ' Single PCS', ' 10 Pcs', ' Large/Extra Thick', ' 9.8 Feet', ' 6 Pack with Adapter', ' Ka-15sK5', ' 24\" Cymbal Bag', ' A-Framed Stand', ' 2 Packs', ' 8-inch', ' Acoustic Jumbo', ' 36\"', ' Thin gauge', ' Custom Light, 45-135 (5-String)', ' 24\"', ' 40-115', ' 5C', ' 25Ft 4 Pack', ' 16 Space, 12\"', ' 8pcs 18 X 3W uplighting dj lighting', ' 5 String Set: G-D-A-E-E', ' SOPRANO', ' Hard Tension', ' 21X20X9', ' Medium, 11-49', ' 1-Quart', ' 3C', ' 25 ft', ' Music Stand Bundle', ' LU-21 Baritone', ' 4-Inch', ' 3/4 size', ' 12\"', ' 1.20 mm', ' 4.80in. x 3.20in. x 1.80in.', ' 10-foot', ' .072 gauge', ' Xtra Tall', ' 80/20 Medium | MSP3200', ' 30 Ft', ' XLR Female', ' Metal Hook', ' 30 FT', ' 45W', ' 28inch', ' Med. Top/Hvy. Bottom, 11-52', ' 61 Key', ' Double, Pack of 2', ' 0.73mm', ' 1.00mm', ' 100 Feet', ' 3-pack 15cm', ' 3-inch', ' POWER', ' Pointed Tip', ' 49-key', ' 20 FT / straight - straight', ' 2 Pair', ' 13 inch', ' 10-Feet', ' Concert Ukulele Case', ' 5  Feet', ' Silver', ' 8-Channel, 50-ft', ' Pineapple', ' 000 Adirondack', ' 14\", 16\", 18\" Set', ' remote control', ' 50 Foot', ' Les Paul', ' Regular Light, 7-String, 10-59', ' .46mm', ' 61 Note Keyboard', ' 2 Pcs', ' On Stage Maple 2B Wood Drumsticks 12 Pairs', ' 50 Feet, 2 Pack', ' Custom Medium, 11-22', ' 5-inch Woofer', ' Lt./Med. (.012-.056)', ' 400 watts', ' Super Light, 8-String, 09-80', ' 10\", 12\" & 14\"', ' Tripod Guitar Stand', ' 1000', ' 25 Feet 2 Pack', \" 18.6'\", ' Double Electric Guitar Padded Gig Bag', ' On Stage Maple 5A Nylon Drumsticks 12 Pairs', ' 30-Assorted', ' Cymbal Boom Stand', ' 30 per Pad', ' Standard 1', ' 20 Space, 20\" Table', ' 3/4', ' Four Pairs', ' Headset', ' 1.08mm', ' Key of A', ' 4-String', ' 15inch-WithBag', ' Old Version', ' 6 ft', ' Tenor w/ Electronics', ' 4/4 - Full Size', ' 35 Feet', ' Single Guitar Stand', ' 0.5 Feet (3-Pack)', ' 25ft', ' 75 Foot', ' 16-Inch', ' 26inch', ' FT-12C', ' Includes Lav Mic', ' Mix5', ' Strength: 2', ' 1.0mm', ' MN01-XL Black', ' 30\"', ' Power', ' 20 FT', ' .73 mm', ' 1.3mm', \" 5'\", ' Tenor Ukulele', ' 25-foot', ' 6-Inch', ' 18\"x14\" Bass Drum Bag', ' .60 mm', ' 12-input', ' 3.5', ' 25-ft Cable', ' On Stage Hickory 5A Nylon Drumsticks 12 Pairs', ' 6 Ft 2-Pack', ' Hi-Hat Stand', ' 12 String', ' HYBRID', ' Custom Light, 40-100', ' Triple Guitar Stand', ' Banjo', ' 42\" Long Sub Pole - Dual Compartment', ' 20 Feet', ' 12 Pack', ' 2.0mm', ' Medium/Light (9-42)', ' 8-Channel / 2-Bus', ' 4.0\" Wide', ' 50', ' 18 inch Premium version', ' 40W', ' 3 foot', ' 18 Inch', ' 5U (8.75\")', ' 351 - Extra Heavy', ' 0.60mm', ' HD Light (.013-.053)', ' Light, Wound Third, 12-52', ' A-Framed Stand, 2-PACK', ' Pro - Powered', ' Mix8', ' Acoustic Dreadnought', ' 44', ' 16inch-WithBag', ' 8\" woofer', ' 12 oz', ' Desk', ' Dark Matter Distortion', ' w/ Legacy Accessories', ' 6-String Bass', ' 4/4 Size', ' 41L x 16W x 6D 61 - 76 keys', ' 10 inch, 20 W', ' Thin', ' Polytune Mini', ' 40 Watt', ' 20 Ft. Right Angle', ' 70 W, No remote function', ' Med. Blues/Jazz Rock, Wound 3rd, 11-49', ' Group V', ' Heaviest (12-54)', ' 20 Inch', ' 16.5ft/5M', ' 3-pack', ' ROCKN', ' 3 Ft', ' 050 FT', ' Ring Slide', ' 3 FT', ' 10 output', ' Thick', ' Extended Base', ' 800 Series', ' 8\"', ' Trumpet Fiber', ' On Stage Hickory 2B Wood Drumsticks 12 Pairs', ' Pro Series Music Stand Bundle', ' .025', ' 3U Rack Space - Shallow', ' 1 Feet 2-Pack', ' 76 - 88 Keys', ' 10  Feet', ' 6 Feet 2 Pack', ' 88-Key', ' 8 inch', ' Hand Held Mics', ' 12U Rack Space - Standard', ' Medium-Light', ' Kick 18 x 22\" (hgt x dia)', ' 12U Pop Up Rack', ' 8-Channel, 30-ft', ' 10-52', ' UR44', ' .96mm | Grip', ' Soprano Ukulele', ' 12 String Light | M190', ' 12-String Guitar', ' Med. Blues/Jazz Rock, 11-49', ' .0225 Inch', ' Tenor/Hawaiian', ' 9-42', ' 45-130tw', ' RC-30 Loop Station', ' 8-pad', ' Jazz Bass LH - 10 Hole', ' Light, 9-20 (Ball End)', ' 24 Pack - California Clear', \" 1'\", ' 3U Rack Space - Rolling', ' 13 Inch', ' 13 Series', ' 1 ft', ' Lt. Top/Hvy. Bottom, 8-String, 10-74', ' Dual Transmitter/VHF', ' 500 watts', ' On Stage Maple 2B Nylon Drumsticks 12 Pairs', ' 1 Feet 2 Pack', ' 200 patterns', ' 8-Channel 25 ft', ' Key of Bb', ' 5-Channel / 2-Bus', ' Pack of 2', ' 1 Space, 8-Punch', ' 6 String', ' 14\" Hi hat Pair', ' Normal Tension', ' Super Lt. (.009-.042)', ' M-size Twin-reed', ' 18 Ft', ' .88mm', ' 20 Ft.', ' On Stage Hickory 5B Wood Drumsticks 12 Pairs', ' Acoustic Mini Jumbo', ' .0105 gauge', ' LSR305', ' 5.6 oz', ' 58-110', ' KA15S W/TUNER', ' 1/32 Size', ' 2 Headset & 2 Lapel', ' 10 Pack', ' Double Pack', ' 0.50mm', ' Stratocaster HH - 11 Hole', ' 3in. x 6in. x 0.25in.', ' 20-foot', ' Medium, Long Scale (.050-.105)', ' 2U Rack Space - Rolling', ' 3-pack 30cm', ' 6-input', ' Accessory Bundle', ' D#', ' 32 Keys', ' 25 feet', ' 20 Feet RA Female', ' 16\" Drumhead Black Suede', ' 4-inch', ' 22\" Backpack', ' 3 Space, Vent', ' 15  Feet', ' 49-Note', ' 25 Ft', ' 30-Light', ' soprano', ' 1.5 Feet', ' 30 feet', ' Medium, 11-40', ' 76 Note', ' Group III', ' 2 pcs Pack', ' 006 Ft', ' 3 PACK', ' 15\" woofer', ' 50 Ft.', ' 1.0mm | Smooth', ' 110 LB', ' 26 Inch', ' Regular Light, Wound 3rd, 10-46', ' 8-Channel 30 ft', ' 25 Ft.', ' Full', ' 3 Feet 2-Pack', ' Full Set: 4 Strings (G-D-A-E)', ' Light, 10-46', ' 18 LED', ' 12cm', ' 1PC', ' 7-Guitar Rack', ' 7an', ' Heavier', ' Baritone Ukulele Case', ' 06', ' Snare Stand', ' 4U', ' E String', ' 3/4 Scale', ' 1-Gallon', ' 3-Hard, Unfiled', ' Short', ' Channel N2', ' None', ' 12 inch, 40 W', ' 7 Inch', ' Not Even', ' Super Light, 40-95', ' Hard', ' 12 Ft', ' Light (.010-.046)', ' Regular Light, Soldered Twists, 10-46', ' Strength 3.5+', ' 60W', ' 23\"x 21\"x 6\"', ' Super Light, Soldered Twists, 09-42', ' Medium-Soft', ' Light .012 .016 .025 .032 .042 .054', ' 11\"', ' 1pc 54x3W LED Stage Lights', ' 2.0', ' Light Tension', ' 5.0', 'e', \" 18'\", ' ', ' 2.0-Hard, Unfiled', ' 75 Feet', ' 13\" x 50\"', ' 2.00 mm', ' 24x18 Bass Drum', ' On Stage Maple 7A Nylon Drumsticks 12 Pairs', ' 58\" Long - Dual Compartment', ' 5pc Fusion Set', ' MSP600 Microphone Stand 6-Pack', ' 40 Watts', ' 5BN', ' 21\"x 18.5\"x 7\"', ' Med. Blues Jazz Rock, 11-49', ' 25 Feet, 2 Pack', ' Fusion Tom Pack (10\", 12\", 14\")', ' 1 PACK', ' 1- 1 Standard end', ' .73mm | Smooth', ' Bluegrass, 12-56', ' Mini', ' n/a', ' 25-key', ' One Size', ' 20 Pack', ' CD-60S', ' 2 Space, 17\"', ' Electric Guitar', \" 15''~16.5''-size\", ' Bundle w/ Gig Bag', ' 0.5 Feet (2-Pack)', ' 010 Ft', ' 40 Feet 2 PK', ' 24\" Backpack', ' 1 Gallon (128 Oz.)', ' Precision Bass - 13 Hole', ' 1/10', ' 32-Key', ' 5-Guitar Rack', ' 4 PACK', ' 3 Ft 2 Pack', ' 2 PK', ' Heavy Duty, Sturdy', ' Extra-Hard Tension', ' 3 Feet', ' 10-Light', ' 120 watt', ' 7a', ' Full-sized keys', ' 2-Channel', ' 003 Ft', ' 1', ' 18.5\"x 15\"x 6.5\"', ' Xtra Tall w/ Leveling Leg', ' Tall', ' Super Light, Balanced Tension, 09-40', ' 21\"', ' Balanced Super Light (9-42)', ' 7', ' Electric Guitar Padded Gig Bag', ' 1/32', ' .88 mm', ' 12 Space, 20\"', ' Channel N3', ' #7', ' 6 Pack', ' 92/8 Custom Light | MSP4050', ' LCD STAND WITH WHEELS', ' 8-Channel 50 ft', ' 25 Pack', ' 1.4mm | Grip', ' EON618S Subwoofer', ' 10 Ft', ' 355 - Medium', ' 3.5+', ' 4x4', ' 1 Gallon (128 oz.)', ' Cymbal Stand', ' 23\"/24\" Concert', ' 4 inch', ' Hot Rod Deluxe', ' 8pcs 54x3W LED Stage Lights', ' 13\" Hi hat Pair', ' 3.5\"', ' One Size fits Most', ' Rudy Sarzo Signature Acoustic Bass Padded Gig Bag', ' Super Light, 7-String, 09-54', ' 5-String', ' Dual 15 inch', ' 12\", 13\" & 16\"', ' Aluminum Mute', ' 4-Channel', ' 2-Handheld', ' Ebony', ' 1.3mm | Grip', ' Extra Receivers', ' 14\" Pedalboard+Bag', ' 1.20mm', ' 6 Foot', ' Light, 32-130 (6-String)', ' Hall of Fame Mini Reverb', ' 6x4', ' SN6', ' Right Handed', ' 6-inch', ' Baritone', ' Kick Drum Bass Pedal', ' 5.4 oz', ' Light (Balanced Tension), 12-52', ' Electric Guitar - Rectangular', ' Regular Light Plus, 10.5-48', '1', ' Strength: 3.5', ' Trumpet Bell', ' A500K', ' ACH-3', ' Remote Hi-Hat Stand', ' 12\" woofer', ' Single Stand', ' Two Guitars', ' Pinky Slide', ' Mono 4-way', ' Single Set', ' Mono 3-way', ' 10 FT', ' CONCERT', ' 15 ft ra / f', ' Regular', ' Solid Top', ' 50 Pcs', ' 075 Ft', ' 12 inches Panels', ' 5AB', ' 358 - Thin', ' Strength 4', ' 5-Inch (pair)', ' Bundle w/ Amplifier', ' full-size', ' Light, 45-100 (2-Pack)', ' 25 ft ra / f', ' 100 patterns', ' 1-Channel', ' 4/4-size', ' DMX512 Controller', ' 44-Key', ' 6Ft 8 Pack', ' 13-inch', ' Wireless Remote', ' 4U Rack Space - Powered', ' Single Tier', ' .017 gauge', ' Size 1/2', ' 15 ft', ' 16.70 x 17.70 x 39.80 inches', ' 10.2ft/3.1M', ' 3-Soft, Filed', ' 43 X 6', ' 10 FT / straight - rectangular', ' Bluegrass', \" 15'\", ' Regular Light, 10-45', ' /w 2nd Tier', ' 5\"', ' 18\"', ' L6', ' Guitar Wall Mount Hooks', ' 88 Note Large', ' Presentation', ' Medium, 50-105 (2-Pack)', ' Strength 1.0', ' Pack 1', ' Protects 4 Mouthpieces', ' 10 keys Light Yellow', ' Medium, 7-String, 11-64', ' 3-Pack with Adapter', ' Super', ' Backplates (0991324000)', ' 15ft', ' MIDI2+', ' 1 Pair', ' Backplates', ' x4', ' 4U Rack Space', ' 0.38mm', ' Acoustic', ' Large Pointed Tip', ' 6.6ft/2M', ' 20x18 Bass Drum', \" 3'\", ' 7.7 x 5.7 x 3 inches', ' 1Ft 2-Pack', ' 7.5\"', ' Size 4/4 (full size)', ' Baritone Medium, 14-68', ' 1-meter', ' 101 Mixed Picks', ' Heavy Weight, Tripod Base', ' 3-Guitar Rack', ' 25-Pack', ' 20-inch', ' Collectors Tin', ' .022 gauge', ' Size 1/4', ' Mini-sized keys', ' 24 Pack - Assorted Colors', ' 1 foot', ' 22\"', ' 11-49', ' .88mm | Smooth', ' 5 PCS / Pack', ' 60 FT', ' Custom Light, 45-105 (2-Pack)', ' 3/4 Size Acoustic', ' 10 Inch', ' Various', ' 6 output', ' 20 pack', ' 1.5 Foot (18 Inch)', ' Flashback Mini', ' 12 Channel', ' 4-channel', ' Bundle w/ Cables', ' 12 String Extra Light | M180', ' 15 Watt', ' Includes Lav and Handheld Mics', ' 0.6', ' Super Light, 40-95 (2-Pack)', ' 16-Channel, 10-ft', ' Les Paul Guitar', ' Lt. Top/Med. Bottom, 12-56', ' Universal', ' 3 ft', \" 10'\", ' 12-in.', ' 9W portable water effect light', ' UR824', ' UPC-424', ' Strength 2.5', ' 0.63mm', ' 1 Quart', ' 8U Rack Space', ' Medium Tip', ' 3Ft 4 Pack', ' 100 Ft', ' 50 Feet 2 Pack', ' 1/2 Classical', ' SR10 - 10\" 12\" 2x14\"', ' 2000', ' Medium gauge', ' EON612 Speaker', ' 12x9 Tom', ' 20\" Cymbal Bag', ' Full Size, Right-Handed', ' 6.8 oz', \" 25'\", ' Bluegrass Lt.Top/Med. Bottom, 12-56', ' Lt B, Long Scale (.130)', ' 2pcs', ' 80/20 12 String Extra Light | MSP3600', ' Single Kit', ' 16-channel', ' Extra Light, 10-47', ' 1.5', ' 40-95', \" Extends: 3.9' Feet\", ' 25 Ft 2 Pack', ' 50 Ft - 1 Pk', ' 8\" Speaker', ' 6 + 2 channels', ' UPC-500', ' 5 Case Rack', ' Beefy', ' UR28M', ' Snare Drum Stand', ' 3/4-size', ' 3/4 Size, Left-Handed', ' Electric Bass Guitar Padded Gig Bag', ' Viola', ' 14 Inch', ' 3Ft 8 Pack', ' 8-Channel, 10-ft', ' Case', ' 4.75 oz', ' 6\"', ' 1 PK', ' 5 Feet', ' Pro Strat & Tele Style', \" 20'\", ' Cymbal Straight Stands 2 Pack', ' 2.0-Soft, Filed', ' 1.40mm', ' 8PC', ' 11W, 1 PACK', ' 0.46', ' LU-21 Tenor', ' 3.0', ' 1.14mm', ' 20  Feet', ' Extra Light .010 .014 .023 .030 .039 .047', ' Jumbo', ' 75', ' 20ft Straight', ' Snap Hook', ' 8 String', ' Super Light Top/Reg. Bottom, 09-46', ' Base Model', ' Large Format 12\" Speakers', ' one size', ' 9 Inch', 'F', ' 32ft', ' 358 - Extra Heavy', ' 17 Key', ' Three Guitars', ' .018 gauge', ' Stratocaster LH - 11 Hole', ' Assorted', ' 30-Medium', ' 0.80mm', ' 22\"x46\"', ' Concert Ukulele', ' Carbon 4/4 - Full Size', ' 3 Space, 20\"', ' Double Lavalier (for Cameras, Recorders, etc)', ' 20\"x30\"', ' Extra', ' 18 Foot', ' Normal', ' 351 - Medium', ' 7-Piece', ' 8\" Single Row', ' 35W', ' Deluxe Reverb', ' 22\" Cymbal Bag', ' Concert Size', ' 13-56', ' 0.88mm', ' Heavy', ' 15-in.', ' 4 Space, 20\"', ' 5 PK', ' 14-in.', ' 10.4\" x 13.0\"', ' 12 Space, Pocket-20\"', ' 900 Series', ' 6.6 Feet', ' 2.0-Hard, Filed', ' Bass', ' 14U Rack Space', ' .080 gauge', ' 3-INCH', ' PA System', ' 2 FT', ' 4 Inch', ' Flashback', ' Pro Junior', ' Light/Medium', ' 50ft', ' EXTRA', ' 80/20 Custom Light | MSP3050', ' 20 Foot', ' 5A', ' 10 Feet', ' Vented', ' Extra Short Scale', ' 22-Inch (Regular)', ' 5-Pack', ' 10PC', ' 22cm', ' 1000 Watt', ' 1/4 Size', ' 1/16', ' Drum set', ' 10 keys Red Wood', ' 4PCS 18 X 3W', ' 10 Ft 2 Pack', ' Light, 45-100 (Double Ball End)', ' 13\", 14\", 18\" Set', ' 1 Cable', ' Acoustic Guitar Padded Gig Bag', ' .015 Inch', ' Connector-free', ' 12\" woofer BATTERY', ' 37-Key', ' 200 Pcs', ' 5.0mm Round Tip', ' 21-in.', ' EON615 Speaker', ' Super-Light, Red', ' Female Coupler', ' 14 inch', ' 3 Pair', ' 16cm', ' 0.56mm', ' SD-1 Super Overdrive', ' Large Short', ' w/ 10\" Throne', ' Standard Profile', ' Condenser Handheld System', ' Soprano Ukulele Case', ' Triple', ' 1 Ft 2 Pack', ' 70W, 1 PACK', ' 346 - Heavy', ' 12 Foot', ' 45-100', ' 50 feet', ' 2 PACK', ' #9', ' Telecaster - 8 Hole', ' Pro Series Music Stand with Accessories', ' 50 Feet 2 PK', ' 22.3\" x 15.0\"', ' N1', ' Multi', ' Heavy, 14-59', ' Tenor w/ Gloss Finish', ' MANDO', ' 19\" Length', ' Strength 3.0+', ' DD-7 Digital Delay', ' Kit', ' 7-Inch', ' 6-inch Woofer', ' 25 Feet', ' Rudy Sarzo Signature Electric Bass Padded Gig Bag', ' 4-Holder Guitar Stand', ' Light, 12-52', ' 20\" Pedalboard+Bag', ' LU-11 Soprano', ' 20cm', ' 80/20 Extra Light | MSP3000', ' 1202FX', ' 3 Space, 10\"', ' 5.0mm Large Pointed Tip', ' 10-Heavy', ' Medium, 50-105 (Double Ball End)', ' 6U Rack Space - Shallow', ' 1Ft 2Pack', ' 12U Rack Space', ' On Stage Hickory 5A Wood Drumsticks 12 Pairs', ' Light, 12-53', ' 3 Feet 2 Pack', ' 9.5\"x 9.25\"x 2.75\"', ' 15-foot', ' 6 inch', ' Single Lavalier (for Phones & Cameras)', ' ABL-3', ' 06ft', ' 4 * 18 * 3 W', ' Adapter', ' 2.5', ' 0.72 mm', ' 100ft', ' 14x14 Tom', \" 9.0'' x 12.0''\", ' -inch', ' 8-38', ' 3/4 Size', ' 8-Pack', ' Aluminum alloy capo', ' Key of E', ' 1/2 Scale', ' Small (25.25\"-40.25\")', ' Medium (10-46)', ' 4/4-size (full-size)', ' Body Rez', ' .94mm', ' 2 Foot', ' 88 Note Slimline', ' 10-Inch', ' 30-Heavy', ' MSP300 Microphone Stand 3-Pack', ' 800 watts', ' 4/4 Scale', ' DMX512 Control', ' Twin Reverb', ' Cust. Lt. (.011-.052)', ' 3L3R', ' X-Large', ' 15', ' Strength 4.0', ' 3-Pack', ' Concert Sized', ' Stratocaster - 8 Hole', ' 11-42', \" 9-46'\", ' Adult Size (Medium)', ' 2.5\" Wide', ' 3\" Width', ' 500k', ' Tenor', ' Medium, 50-105', ' 5.5\"', ' Acoustic Guitar Bag', ' Lt Medium, Long Scale (.045-.105)', ' WI-921 & WI-922', ' .71mm', ' 1/8 Scale', ' XL', ' Size 4/4 (Full Size)', ' 5.25\"', ' 1pcs', ' 5/8', ' 10x9 Tom', ' Furry', ' One Sticker', ' 4/4', ' Baritone, 16-70', ' Slim 88-Note', ' 0.917 Foot (11 Inch)', ' TRS', ' Custom Light', ' 1.50mm', ' 3 Space, 14\"', ' Light, 10-44', ' Regular Light, 12-String, 10-46', ' 80 watt', ' 45-105', ' Skinny Top Heavy Bottom', ' 13\", 18\" Set', ' 25k', ' 42 x 3.5 x 4mm', ' Soprano Sized', ' 10-Pack', ' 015 FT', ' 2\" Width', ' 1 Space, Vent', ' 27 Inches - 39 Inches', ' 8-Inch (pair)', ' 6in', ' 0.45mm', ' Concert Mahogany', ' MI0658', ' 6pcs', ' MPK Mini', ' 1.3mm, 30 Pack', ' Super Light, 9-41', ' 0.5 Feet', ' Resophonic, 16-56', ' 42 x 6 x 3mm', ' Medium, Blue', ' 0.833 Foot (10 Inch)', ' 12 LED RGB 3 IN 1 Stage Lighting', ' 358 - Heavy', ' Light, 12-String, 10-47', ' 10U Rack Space - Standard', ' Single Transmitter/UHF', ' Tenor Ukulele Case', ' Height adjusts from 28\" to 52\"', ' 14x12 Tom', ' 8 Packs', ' 20 ft ra / f', ' MIDI4+', ' 5BB', ' 12\" Pair', ' Skinny Top - Heavy Bottom', ' 19\"', ' 25-Feet', ' Ukulele', ' 4-pad', ' 20\" Kick', ' Stratocaster - 11 Hole', ' 20-input', ' 20 ft', ' 12 Feet, 2 Pack', ' 30 Watt', ' TENOR', ' 075 FT', ' 5-String Bass', ' 0.500 Foot (6 Inch)', ' Light Gray', ' Rock Tom Pack (10\", 12\", 16\")', ' Size 3/4', ' Med. Top/X-Hvy. Bottom, 11-56', ' 6-Pack', ' 2 Feet', ' 16x14 Tom', ' 61-Key', ' Suede Strap', ' Med. Top/Hvy. Bottom, 12-String, 12-54', ' On Stage Maple 5B Nylon Drumsticks 12 Pairs', ' 12\" - 14\"', ' .019 gauge', ' 50 on String', ' 20 - Feet', ' 5B', ' 2 meters', ' Combo', ' 8-inch Woofer', ' 2U Rack Space', ' 1.35mm', ' #4', ' Microphone Stand', ' 12\"x 12\"x 5.5\"', ' 4-inch Woofer', ' Hawaiian-Concert', ' 020 FT', ' 1.26 mm', ' 1.5mm | Smooth', ' .036 gauge', ' Blues Junior', ' 2 piece', ' Medium C (.032)', ' Frailing', ' 15\" Speakers', ' Long', ' Medium Tension', ' Medium, 13-56', ' 10-Medium', ' Polytune', ' N4', ' 17.00 x 15.50 x 40.00 inches', ' 1 TX / 1 RX System', ' Soprano - 2 Pack', ' Double Guitar', ' 8-Inch', ' 1 Space, Blank', ' 60W LED', ' Two-Pack', ' 451 - Extra Heavy', ' OU2 Concert', ' 6-Channel / 2-Bus', ' 12 String, Medium (.012-.053)', ' 11-52', ' 13.1 Feet', ' Short Base', ' Tripod', ' 50-ft Cable', ' 6 Inch', ' Dreadnought', ' 2x10\" 450W', ' 1-Pack', ' 0.72mm', ' 50\" Long - Dual Compartment', ' Thin Line', ' 7.5\\'\\' x 9.1\"', ' 800W', ' 0.5 Feet 2 Pack', ' XXL', ' Medium (27.5\"-44.25\")', ' 2.50 x 4.00 x 31.00', ' 0.50 mm', ' Acoustic Guitar', ' RGBW 64 Led 10 Watt Stage Laser Light', ' Dreadnaught Adirondack', ' 2.5\" Thick (12 Pack)', ' 75 Heavy', ' 49-Key', ' 1.5ft', ' 14cm', ' 25 Foot', ' 6ft', ' Music Stand', ' 4 Cables', ' 20ft Angle', ' Learn to Play Kit', ' Irish Tenor Banjo, 12-36', ' 16-Channel, 30-ft', ' 10 feet', ' Cedar', ' 4.5\"', ' 30  Feet', ' M7', ' 49 Keys', ' 35 Feet 2 PK', ' 10-46', ' .012 gauge', ' T20RP', ' Med. Blues/Jazz, 11-49', ' 15.5\"x 15\"x 5.5.\"', ' 9 String', ' 48 Pack - Assorted Colors', ' 3 PK', ' 3-Pack Universal Clip', ' Group IV', ' Extra Super Light, 35-95', ' 0.63 mm', ' Up to 24\" Cymbals', ' MT-1', ' Ukulele/Mandolin/Violin', ' Jazz Light, 12-51', ' 2.0-Medium, Unfiled', ' Left Handed', ' Standard Size Acoustic', ' Junior', ' Extra Light (7-38)', ' Slim Long 88-Note', ' 8 Pack', ' 0.45 mm', ' Light, 45-130 (5-String, Double Ball End)', ' Strength 5.0', ' 1.00 mm', ' Extra-Heavy', ' 5.0mm Pointed Tip', ' Allegro 2', ' 50 Medium', ' 2.0-Medium, Filed', ' UPC-688', ' Big', ' Large', ' Resophonic Guitar, 16-56', ' 88 Keys', ' 22\" Kick', ' Dreadnought Guitar', ' CD-140SCE', ' Bb', ' 10ft', ' Dreadnaught Sitka', \" 8-38'\", ' 2 Pieces', ' 22\" Slinger', ' 2 Pack Cymbal Stands', ' 20\"x 20\"x 5.5\"', ' 45-125', ' Bridge Pin-6Bk-6Wt-Stringwinder', ' DS-2 Turbo Distortion', ' 1.5mm', ' 20 watts', ' 21in', ' 025 Ft', ' 10\"', ' Concert (Deluxe)', ' Cardioid', ' 16-pad', ' Upgraded', ' Body Pack System', ' 28\" x 16\" x 4\"', ' 3 Ft.', ' 15-Inch', ' 15 Feet', ' 1.52mm', ' Pro Series Music Stand Bag & Gear Bag', ' 26\"', ' 1.90 mm', ' 2', ' Double Kick', ' 3-Medium, Unfiled', ' 6U', ' 3/4 Size, Right-Handed', ' 15 Ft 2 Pack', ' 24 Pack', ' 21inch', ' A Frame', ' Super Light (.009-.042)', ' 6 Ft', ' ADL-3', ' 14-Inch', ' 8 Channel', ' 30 Feet', ' No Case', ' 1.07mm', ' 000 Sitka', ' 61-76 Keys', ' Protects 3 Mouthpieces', ' F', ' Backplates (0991320000)', ' MT-5', ' 9.5\"', ' Full-sized', ' 88 Key', ' 12 + 2 channel', ' Ebony With Pearl Dot', ' 5 oz', ' Battery Lavalier', ' 12-inch', ' 1 Handheld & 1 Lapel, 1 Headset', ' 10-48', ' 1000U', ' Three-Pack', ' hook', ' Double Tom Drum Stand', ' Slim 76-Note', ' 8-Channel, 100-ft', ' Mandolin', ' Medium (.013-.056)', ' 10 ft', ' MIDI1', ' Rock & Blues', ' 6 Ft.', ' 23/24in', ' 4U (7\")', ' Version 3', ' Bundle w/ Hard Case', ' SM58-LC Vocal', ' 50 watts', ' 92/8 High Tuning | MSPHT10', ' Key of C', ' 10 FOOT METAL END', ' Set', ' Standard Tom Pack (12\", 13\", 16\")', ' Custom Medium', ' VLH30', ' Light  (.010-.034)', ' 5 ft', ' 60', ' X-Long', ' Tom 16 x 16\" (hgt x dia)', ' 25 FT', ' Pro', ' PRO 14 - 8 inputs (2 mic pres) / 6 outputs', ' Extra Super Light Plus, 8.5-39', ' 76 Note Keyboard', ' RC-1 Loop Station', ' #1', ' 12 FT', ' 3 Ft - 10 Pk', ' 346 - Medium', ' 10-ft Cable', ' 25 on String', ' Strength: 3', ' 22.5 x 11.5 x 4-Inches', ' Version 1', ' 3 PACk', ' .90mm', ' 12-String', ' Dual 12 inch', ' 2 Space, 12\"', ' Channel D', ' Custom Light .011 .015 .023 .032 .042 .052', ' Light, 45-130 (5-String, 2-Pack)', ' F ree', ' 18 Ft 2 Pack', ' 49L x 17W x 6D 88 key', ' 2U Rack Space - Shallow', ' Standard', ' Two Pack', ' 1/4 Scale', ' 15 FT', ' FMT-206RC', ' 4/4 size', ' 010 FT', ' \" Phone Plug', ' Keyboard Stand Adapter', ' 1/8-size', ' 8 pcs Pack', ' Guitar/Bass', ' 13-in.', ' 1 Pack', ' Channel K', ' 3-Hard, Filed', ' .018 Inch', ' 3 feet', \" Extends 2.62' Feet\", ' 20 feet', ' 14\" x 36\"', ' 2 Pcs / Pack', ' Protects 1 Mouthpiece', ' Medium, 11-45', ' T40RP', ' Light, 45-100', ' High-Strung/Nashville Tuning, 10-26', ' 18-inch', ' Medium, Balanced Tension, 11-50', ' Double', ' 60 Pcs', ' 17\"', ' 45', ' .0095 gauge', ' 1602FX', ' 70W', ' BARITONE', ' 8 * 18 * 3 W', ' Medium (.011-.040)', ' 1 Fader Control Surface', ' 015 Ft', ' Group I', ' 21 inches', ' Jazz Light, 11-50', ' 0.66mm', ' M-size', ' Old Model', ' 10-50', ' 50 Ft 2-Pack', ' Baritone (Deluxe)', ' 1/10 Size', ' 1/2 Size', ' SMS6000 Pair', ' A0496', ' 20 Space, 20\"', ' 1\"', ' 6U Rack Space', ' concert', ' Full Set', ' 24 Inch', ' 1.4mm | Smooth', ' 2U Rack Space - Standard', ' MS7 Microphone Stand', ' .011 gauge', ' Key of D', ' Two Stands', ' 1/2-size', ' .020 Inch', ' Acoustic Mini Jumbo Guitar Bag', ' 54W', ' StampWithPad', ' Portable Guitar Stand - 2 Pack', ' 4-pin Female Connector', ' Snare 6.5 x 14\" (hgt x dia)', ' Blues Deluxe', ' 42 X 3.5', ' 2ft', ' 10\" - 12\"', ' 88 LB', ' 4U Rack Space - Rolling', ' 346 - Thin', ' Soprano', ' 51', ' Cymbal Boom Stands 2 Pack', ' 16U Rack Space', ' 18W, RGB', ' 1 Feet', ' 351 - Thin', ' 1x12', ' Concert', ' With Bell', ' Super 7A', ' .059 gauge', ' 35ft', ' 16 Channel', ' Tripod - 2 Pack', ' 60 Pack', ' 1 Polish', ' Medium', ' 2.0mm | Grip', ' 1/2\"', ' 50 ft', ' 5AN', ' Jazz Light, 12-52', ' 3/4 Size Classical', ' Electric Guitar + Amp', ' 48 Pack - California Clear', ' Lt. Top/Hvy. Bottom, 10-52', ' Extra Heavy', ' Heavy, 55-110', ' 12 Feet', ' 5 inch', ' EA', ' 10U Rack Space', ' Head', ' Medium, 10-23', ' One Set', ' 6 pack', ' 3.0mm Large Pointed Tip', ' THREE PACK', ' 5W', ' Strength 2', ' 40-100', ' Short Scale', ' 40 watt', ' 9\"', ' Single Guitar', ' 12 + 2 channels', ' Extra Light, 10-48', ' Cardioid Lavalier Microphone', ' 5 pcs Pack', ' 3.0mm Pointed Tip', ' 6.5\"', ' Beginner bundle', ' Electric Concert', ' Combo Clip', ' Full Size', ' New version', ' Jazz Medium, 13-56', ' Ballistic Nylon', ' Medium Weight, Single-Braced', ' 15 inch', ' N6', ' 700W', ' OU2E Concert Electric', ' 8 Space, 14\"', ' True Medium, 13-56', ' .018', ' 6Ft 2Pack', 't', ' 2PC', ' 76-Note', ' Deluxe Case', ' 10\", 12\" & 16\"', ' 8 Inch', ' 20 Watts', ' Super Lt B, Lng Scale (.125)', ' 1.5 meter', ' .013 gauge', ' 6 Space, 20\"', ' Headset and Lavaliere', ' 10 Cables', ' UPC-535', ' 5pc Standard Set', ' 20 Watt', ' Electric', ' H7', ' with T1 ToneMatch', ' 4U Rack Space - Shallow', ' 12 Inch', ' Bridge', ' 12 Channels', ' 3-inch Woofer', ' 12 Feet 2 Pack', ' Balanced Light (10-48)', ' Acoustic Bass Guitar', ' 2 TX / 1 RX System', ' Hybrid', ' Electric Bass', ' 15 feet', ' 6', ' LU-21 Concert', ' Ground Fogger', ' 16-in.', ' 8-Channel', ' Standard 2', ' 24-Inch (Tall)', ' 6 PK', ' 18.5-in-withBag', ' 30 Channel', ' 6-foot', ' 8PCS 18 X 3W', ' 6 Meter 3', ' Extra Heavy Drop', ' 5-inch', ' 20\"', ' 24-inch', ' 16 inch', ' 5PCS 18 X 1W', ' 2 PC', ' Small Vents', ' 10 pcs Pack', ' Lightweight, Double-Braced', ' .73mm Orange', ' 0.94mm', ' 3ft', ' 5 pack', ' Jazz Extra Light, 10-49', ' Med. Top/X-Hvy Bottom, 11-56', \" 15.0'' x 15.0''\", ' J1: 554-590 MHz', ' Super Reverb', ' 10-inch', ' Super Light, 40-125 (5-String)', ' Standard - Powered', ' PRO 40 - 20 inputs (8 mic pres) / 20 outputs', \" 4.0'' x 12.0''\", ' Large Vents', ' 15 Inch', ' 10x8 Tom', ' Triple Guitar', ' Violin', ' .013 Inch', ' 20 Ft', ' Extra Large', ' Small Format 12\" Speakers', ' 3-Medium, Filed', ' Bass Guitar Bag', ' 18 inch', ' .60mm', ' 300 watts', ' 12-Inch', \" 100'\", ' 1/4-size', ' Bluegrass Lt. Top/Med. Bottom, 12-56', ' Large Round Tip', ' 22.5\" x 17.8\"', ' .020 gauge', ' PO-14', ' Double Guitar Stand', ' 14\"', ' DD-3 Digital Delay', ' 150 Watt', ' RC-3 Loop Station', ' .020', ' 4 Pack,No remote function', ' 20\"x25\"', ' Long Scale', ' 5-Piece', ' 100 FT', ' On Stage Hickory 7A Nylon Drumsticks 12 Pairs', ' x1', ' Keyboard & Power Supply', ' 2L2R', ' 88-Note', ' 6.5\" Speaker', ' 16', ' 200 watts', ' One Hand Clutch', ' On Stage Hickory 5B Nylon Drumsticks 12 Pairs', ' 7 Pack', ' 3X12.8X10.8', ' Light, 45-130 (5-String)', ' Extra Long 88-Note', ' 1x10\" 40W', ' Regular Light, Balanced Tension, 10-46', ' 6-pack 15cm', ' 18\"x 18\"x 5.5\"', ' Affinity HSS', ' 6 foot', ' Dynamic Handheld System', ' Jazz Light, 7-String, 11-65', ' 16 Ohm', ' Electric Guitar Bag', ' 5-Inch', ' 0.80 mm', ' .015', ' 1.5mm | Grip', ' Custom Light, 11-52', ' 6ft/ 1.8m', ' On Ear', ' 5/8\"', ' 250k', ' 100 Watt', ' Guitar', ' #2', ' StampOnly', ' 5 Keys Rosewood', ' 3 Foot', ' 3cm', ' .73mm | Grip', ' Stratocaster - 11 Hole (Modern)', ' 18\" x 13\" x 3\"', ' 1 Piece', ' Single Transmitter/VHF Vertical Receiver', ' .010 gauge', ' Regular Light, 10-46', ' Slinky', ' 6 Ft, 2 Pack', ' Over Ear', ' 6U Rack Space - Standard', ' Mix12FX', ' 1 Ft', ' #8', ' Bundle w/ Tuner', ' 16x16 Tom', ' Handheld', ' REGULAR', ' 1/8 Size', ' Strat/Tele Electric', ' 1/8', ' Heavy, Pink', ' 4pcs', ' Lt. Top/Hvy Bottom, 10-52', ' Power 5A', ' 1 Foot', ' Light (12-String), 10-47', ' 20 watt', ' 10ft Straight', ' 43', ' Hot Rod Deville 4x10', ' L', ' K7', ' 7C', ' Small', ' 8-Channel 100 ft', ' 8x8 Tom', ' Channel N4', ' 12 Space, 12\"', ' Super Light', ' 1.07 mm', ' 8W', ' Soft', ' 3 Sets Light', ' Strength 5', ' 18 Feet', ' 12x10 Tom', ' Suede Strap & Pick Sampler', ' Strength 3.5', ' Super Light, 8-String, 09-65', ' .73mm', ' Soprano/Concert', ' 30 - Light/Heavy', ' 12 String, Heavy (.013-.056)', ' 000-size Adirondack', ' 355 - Heavy', ' Channel N5', ' Extra Super Light, 08-38', ' 75W LED', ' TWO PACK', ' 55-105', ' 6 feet', ' 3 Ft 2-Pack', ' 12-Pack', ' Strength 3', ' .88mm Green', ' .80mm', ' 802FX', ' Dual Speaker Stand Bag', ' type 2', ' One Guitar', ' 60 watts', ' Extra-Super Light, 8-39', ' 4 oz', ' 1-pack', ' Medium, 12-String, 12-52', ' 7-String', ' Small Medium Large X-Large 2X-Large', ' 50\" Long - Single Compartment', ' 1 Pack,No remote function', ' On Stage Maple 5B Wood Drumsticks 12 Pairs', ' 18x16 Tom', ' 61-Note', ' P115', ' 1.14 mm', ' 15 Feet RA Female', ' 351 - Heavy', ' Channel N1', ' Bundle w/ Power Supply', ' 4 String', ' 100 ft', ' Key of G', ' 4 Space, 14\"', ' UR242', ' 3.00 x 3.00 x 26.30 inches', ' 1.5 Feet RA Female', ' 050 Ft', ' 15cm', ' 10 watts', ' 18-Inch', ' 61-key', ' 700 Series', ' MojoMojo Overdrive', ' 4PC', ' 400 Watt', ' 23\"', ' Dual Transmitter', ' Ditto Looper', ' 50-foot', ' 2-Pack', ' Super Light Plus, 9.5-44', ' Single Pack', ' Tele', ' Heavy gauge', ' Keyboard Stand', ' 14\" Snare Drum Bag', ' SINGLE', ' Omni Lavalier Microphone', ' DS-1 Distortion', ' 007', ' 22x18 Bass Drum', ' Pro LP Style', ' Light, 32-130 (8-String)', ' 1ft', ' Desktop Amplifier', ' 10 FT / straight - straight', ' .50mm', ' Drum Throne', ' 6 FT', ' 11-50', ' 12 LED 60 Watt RGB Strobe Light', ' 1.26mm', ' 8 Space, 20\"', ' 100-Pack', ' Medium/Heavy', ' Heavy, 12-54', ' 10 FOOT MOLDED END', ' !Only Bluetooth 2.0', ' 12-52', ' 19 inch', ' 7AB', ' Large Long', ' 1 Set', ' 50-105', ' Tenor Banjo, 9-30', ' 35\" x 19\" x 3\"', ' 025 FT', ' 6-String', ' Telecaster - 5 Hole', ' SM57-LC Instrument', ' 6\" Length', ' 600 Series', ' 21\"Soprano', ' Group II', ' 1 Gallon', ' 10mm Gig Bag', ' Trombone Fiber', ' Medium Light', ' Standard Dreadnought', ' .009 gauge', ' 30cm', ' 355 - Thin', ' Learn to Play kit', ' Straight Stand', ' a mode'}\n",
      "Length:: {'t', ' 20ft - Right Angle to Straight', ' 9.8 Feet', ' 6 inch', ' 10ft - Straight to Straight', ' 6 Feet', ' 6 ft', ' 30 Feet', ' 6 Feet 2 Pack', \" 20'\", ' 18', ' 43', ' 6.6 feet', ' 75ft', 'f', ' 15 Feet', ' 25ft', ' 100ft', ' 9', ' 24.00', ' 10ft', ' 3M', ' 5 feet', ' 14', ' 25 Feet', \" 10'\", ' 6 Foot', ' 20 Feet', ' 18 Foot', ' 15 ft', ' 1.5ft', ' 15 feet', ' 3 Feet', ' 20ft', ' 6', ' 21', ' 10', ' 22.00', ' 12 Foot', ' 21.00', ' 50ft', ' 25 feet', ' 25 Foot', ' 28.00', ' 6ft', ' 20 Foot', ' 10 Feet', 'e', ' 2 Feet', ' 9.9 feet', ' 150ft', ' ', ' 10 feet', ' 3 Foot', ' 30', ' 16ft', ' 18 inch', '0', ' 1 Feet', ' 50-foot', ' 10 Foot', ' 3ft', ' 15ft', '1', ' 20ft - Straight to Straight', ' 3 Feet 2 Pack', ' 10ft - Right Angle to Straight', ' 20', ' 12', ' 5 Feet', ' 6.6 Feet', ' 16 Feet'}\n",
      "Configuration:: {' Basic', ' Base', ' Maple Fretboard', ' Pedal', ' Keyboard Bench', ' Deluxe', ' Solid Top', ' Stand, Headphones & Power Supply', ' System', ' Keyboard & Power Supply', ' Starter Pack', ' Piano Only', ' Advanced Bundle', ' Guitar with Case', ' Receiver only', ' Without Cymbals', ' Electric Guitar', ' Trumpet only', ' Flute', ' Brass', ' Standard Pack', ' Accessory Pack', ' Headphone Amp', ' UMC204HD', ' Microphone', ' Guitar', ' Bundle w/ Stand', ' Voltmeter', 'p', 'i', 'h', 'o', ' Casio Adapter for Casio Keyboards', ' Hardware Pack', ' Silver', ' Bundle w/ Headphones', ' Acoustic', 'n', ' Ukulele', ' XENYX 1202FX', ' Laurel Fretboard', ' Processor', ' Software Bundle', ' Digital Piano Only', ' Keyboard', ' Rosewood Fretboard', ' Stand, Headphone & Power Supply', ' Speaker', ' Cork Grease', ' Controller', ' World Tour Adapter for Casio Keyboards', ' Acoustic-Electric', ' P16-M', ' Left Handed', ' Single Unit', ' Intermediate Bundle', ' Soprano', ' Guitar Only', ' Digital Piano', ' Media Pack - Bolt Stand', ' LED bar', ' Workstation', 'M', ' All Solid', ' Drum Kit', ' Drum Shell Pack', ' Interface', ' Stand, Headphone, Power Supply & Software', ' Piano and Stand', ' Gigmaker Package', 'c', ' Essentials Bundle', ' AMPLIFi', ' Right Handed', ' Frozen Bundle', 'e', ' ', ' Mixer', ' Bolt Stand Pack', 'r'}\n",
      "Style Name:: {'t', 'S', ' Alto Saxophone', 'n', ' Red, Wood', 'g', ' Trombone / Alto Sax / Clarinet', ' Keyboard Stand', 'f', ' SMS-22', ' Standard Depth', 'y', ' Powerstroke P3 Coated Top Clear Dot Snare/Tom', ' Grip', 'u', 'a', ' Compact / Practice', ' Hanging Style w/ Self Closing Security Yoke and Locking Legs', ' Ambassador Coated Bass', ' Strength 2.5', 'C', 'k', 'd', 'c', 'L', ' Tenor Saxophone', ' SMS-30', ' 2558A - Blue Steel Electric LTHB', '/', 'l', 'e', ' SMS-20', 's', ' Tuba / Tenor Saxophone', ' ', 'H', ' SMS-32', ' Strength 3.5', ' GA-1 Guitar/Bass Tuner', 'i', 'w', 'o', ' Mega', ' Short', 'Y', ' Swivel Hook', 'r', ' Side Key Risers'}\n",
      "Model Number:: {'5', ' AC10C1', ' CM4158', 'M', ' SM822E', ' SM812M', 'C', ' AC15C1X', ' SM813M', ' AC15C1', ' AC4C1BL', ' SM824E', '4', ' ', ' SM823E', ' SM825E', '8', ' AC30C2', ' AC30C2X', '1', ' SM811M'}\n",
      "Item Package Quantity:: {' 10', ' 4', ' 8', ' 3', ' 2', '1', ' ', ' 25', ' 100', ' 1', ' 12'}\n",
      "Package Quantity:: {' 10', ' 4', ' 8', ' 3', ' 2', '1', ' ', ' 25', ' 100', ' 1', ' 12'}\n",
      "Product Packaging:: {'t', 'S', 'a', 'P', 'i', 'n', 'g', 'k', ' ', ' Standard Packaging', 'd', 'c', 'r'}\n",
      "Item Display Length:: {'0', '4', ' ', ' 22.00', ' 28.00', ' 21.00', '2', '.'}\n",
      "Package Type:: {'t', 'S', 'a', 'P', 'i', 'n', 'g', 'k', ' ', ' Standard Packaging', 'd', 'c', 'r', ' Frustration-Free Packaging'}\n",
      "Edition:: {' Pro', 'P', ' Trial', ' Professional', 'o', ' ', 'r'}\n",
      "Platform:: {'P', 'i', 'D', 's', 'C', ' ', 'c', ' PC Download', ' PC Disc'}\n",
      "style name:: {'t', 'S', '5', ' 5-String', ' Guitar', 'i', 'n', ' 4-String', 'g', ' ', '-', 'r'}\n",
      "Platform for Display:: {'P', 'a', 'i', 'l', 'x', 's', '&', 'h', 'e', 'C', 'b', ' ', 'o', 'd', 'c', ' Physical box & Code', 'y'}\n",
      "Number of Items:: {'1', ' ', ' 1'}\n",
      "Color Name:: {'t', 'a', 'P', 'l', 'i', 'h', ' Dark Black', 'g', 'k', ' ', 'c', 'L', 'r', 'B', 'y', ' Black Party Light'}\n",
      "Size Name:: {' 10FT', ' 15FT', ' 6FT', 'T', ' 3FT', '3', ' ', 'F'}\n"
     ]
    }
   ],
   "source": [
    "# style field \n",
    "styles = {}\n",
    "\n",
    "for review in parse(data_path): \n",
    "    if 'style' in review: \n",
    "        for k, v in review['style'].items(): \n",
    "            if k in styles:\n",
    "                styles[k].add(v) \n",
    "            else: \n",
    "                styles[k] = set(v) \n",
    "\n",
    "for k, v in styles.items(): \n",
    "    print(f\"{k}: {v}\")"
   ]
  },
  {
   "cell_type": "markdown",
   "id": "b001f8b6",
   "metadata": {},
   "source": [
    "The style field does likely contain info relevant to recommendation tips. "
   ]
  },
  {
   "cell_type": "markdown",
   "id": "173eff41",
   "metadata": {},
   "source": [
    "# 2. Graph Build"
   ]
  },
  {
   "cell_type": "code",
   "execution_count": 7,
   "id": "7b747f86",
   "metadata": {},
   "outputs": [],
   "source": [
    "G = create_graph(data_path)"
   ]
  },
  {
   "cell_type": "code",
   "execution_count": null,
   "id": "a172c579",
   "metadata": {},
   "outputs": [],
   "source": [
    "import pickle \n",
    "\n",
    "\n",
    "# pickle format for Python reloading \n",
    "with open(os.path.join(project_dir, \"graph\", \"graph.pkl\"), 'wb') as f: \n",
    "    pickle.dump(G, f) \n",
    "\n",
    "# .graphml format for interoperability with other graphing software like Gephi \n",
    "nx.write_graphml(G, os.path.join(project_dir, \"graph\", \"graph.graphml\"))"
   ]
  },
  {
   "cell_type": "markdown",
   "id": "c1d042eb",
   "metadata": {},
   "source": [
    "# 3. Recommendation Mining "
   ]
  },
  {
   "cell_type": "markdown",
   "id": "13cf7ec9",
   "metadata": {},
   "source": [
    "## 3.1. Create Utility Matrix  for lookups "
   ]
  },
  {
   "cell_type": "markdown",
   "id": "b84e4d9a",
   "metadata": {},
   "source": [
    "Makes more sense to create the Utility Matrix U only once so we can check it as needed. "
   ]
  },
  {
   "cell_type": "code",
   "execution_count": 8,
   "id": "d154eb35",
   "metadata": {},
   "outputs": [],
   "source": [
    "import pandas as pd \n",
    "\n",
    "def create_utility_matrix(graph): \n",
    "    data = [] \n",
    "    for user, product, review in G.edges(data=True): \n",
    "        rating = review.get('overall') \n",
    "        if rating is not None: \n",
    "            data.append((product, user, rating))\n",
    "\n",
    "    df = pd.DataFrame(data, columns=['product_id', 'user_id', 'rating']) \n",
    "\n",
    "    utility_matrix = df.pivot(index='product_id', columns='user_id', values='rating') \n",
    "\n",
    "    return utility_matrix \n",
    "        "
   ]
  },
  {
   "cell_type": "code",
   "execution_count": 9,
   "id": "5219e8a2",
   "metadata": {},
   "outputs": [],
   "source": [
    "U = create_utility_matrix(G)"
   ]
  },
  {
   "cell_type": "code",
   "execution_count": 10,
   "id": "abac3bb9",
   "metadata": {},
   "outputs": [
    {
     "data": {
      "text/html": [
       "<div>\n",
       "<style scoped>\n",
       "    .dataframe tbody tr th:only-of-type {\n",
       "        vertical-align: middle;\n",
       "    }\n",
       "\n",
       "    .dataframe tbody tr th {\n",
       "        vertical-align: top;\n",
       "    }\n",
       "\n",
       "    .dataframe thead th {\n",
       "        text-align: right;\n",
       "    }\n",
       "</style>\n",
       "<table border=\"1\" class=\"dataframe\">\n",
       "  <thead>\n",
       "    <tr style=\"text-align: right;\">\n",
       "      <th>user_id</th>\n",
       "      <th>A0072193KFP6LUHKEXLT</th>\n",
       "      <th>A0096681Y127OL1H8W3U</th>\n",
       "      <th>A0103849GBVWICKXD4T6</th>\n",
       "      <th>A0279100VZXR9A2495P4</th>\n",
       "      <th>A0600727NK5MAF66IOY5</th>\n",
       "      <th>A0727497OR0PPNFLFPDV</th>\n",
       "      <th>A07936821FOVJO6NP4Q8</th>\n",
       "      <th>A0833006NJW9KRF77ZFY</th>\n",
       "      <th>A0955928C2RRWOWZN7UC</th>\n",
       "      <th>A10044ECXDUVKS</th>\n",
       "      <th>...</th>\n",
       "      <th>AZYCGMFCK9AIM</th>\n",
       "      <th>AZYJTD9J82V5I</th>\n",
       "      <th>AZYP4FQ2L2C4O</th>\n",
       "      <th>AZZ3WYDJ0XNZW</th>\n",
       "      <th>AZZCLFV6V8693</th>\n",
       "      <th>AZZM5MUOG0LRK</th>\n",
       "      <th>AZZT9G4MJFCHD</th>\n",
       "      <th>AZZX23UGJGKTT</th>\n",
       "      <th>AZZZ3LGTCGUZF</th>\n",
       "      <th>AZZZG8PGB1FS0</th>\n",
       "    </tr>\n",
       "    <tr>\n",
       "      <th>product_id</th>\n",
       "      <th></th>\n",
       "      <th></th>\n",
       "      <th></th>\n",
       "      <th></th>\n",
       "      <th></th>\n",
       "      <th></th>\n",
       "      <th></th>\n",
       "      <th></th>\n",
       "      <th></th>\n",
       "      <th></th>\n",
       "      <th></th>\n",
       "      <th></th>\n",
       "      <th></th>\n",
       "      <th></th>\n",
       "      <th></th>\n",
       "      <th></th>\n",
       "      <th></th>\n",
       "      <th></th>\n",
       "      <th></th>\n",
       "      <th></th>\n",
       "      <th></th>\n",
       "    </tr>\n",
       "  </thead>\n",
       "  <tbody>\n",
       "    <tr>\n",
       "      <th>0739079891</th>\n",
       "      <td>NaN</td>\n",
       "      <td>NaN</td>\n",
       "      <td>NaN</td>\n",
       "      <td>NaN</td>\n",
       "      <td>NaN</td>\n",
       "      <td>NaN</td>\n",
       "      <td>NaN</td>\n",
       "      <td>NaN</td>\n",
       "      <td>NaN</td>\n",
       "      <td>NaN</td>\n",
       "      <td>...</td>\n",
       "      <td>NaN</td>\n",
       "      <td>NaN</td>\n",
       "      <td>NaN</td>\n",
       "      <td>NaN</td>\n",
       "      <td>NaN</td>\n",
       "      <td>NaN</td>\n",
       "      <td>NaN</td>\n",
       "      <td>NaN</td>\n",
       "      <td>NaN</td>\n",
       "      <td>NaN</td>\n",
       "    </tr>\n",
       "    <tr>\n",
       "      <th>0786615206</th>\n",
       "      <td>NaN</td>\n",
       "      <td>NaN</td>\n",
       "      <td>NaN</td>\n",
       "      <td>NaN</td>\n",
       "      <td>NaN</td>\n",
       "      <td>NaN</td>\n",
       "      <td>NaN</td>\n",
       "      <td>NaN</td>\n",
       "      <td>NaN</td>\n",
       "      <td>NaN</td>\n",
       "      <td>...</td>\n",
       "      <td>NaN</td>\n",
       "      <td>NaN</td>\n",
       "      <td>NaN</td>\n",
       "      <td>NaN</td>\n",
       "      <td>NaN</td>\n",
       "      <td>NaN</td>\n",
       "      <td>NaN</td>\n",
       "      <td>NaN</td>\n",
       "      <td>NaN</td>\n",
       "      <td>NaN</td>\n",
       "    </tr>\n",
       "    <tr>\n",
       "      <th>1480360295</th>\n",
       "      <td>NaN</td>\n",
       "      <td>NaN</td>\n",
       "      <td>NaN</td>\n",
       "      <td>NaN</td>\n",
       "      <td>NaN</td>\n",
       "      <td>NaN</td>\n",
       "      <td>NaN</td>\n",
       "      <td>NaN</td>\n",
       "      <td>NaN</td>\n",
       "      <td>NaN</td>\n",
       "      <td>...</td>\n",
       "      <td>NaN</td>\n",
       "      <td>NaN</td>\n",
       "      <td>NaN</td>\n",
       "      <td>NaN</td>\n",
       "      <td>NaN</td>\n",
       "      <td>NaN</td>\n",
       "      <td>NaN</td>\n",
       "      <td>NaN</td>\n",
       "      <td>NaN</td>\n",
       "      <td>NaN</td>\n",
       "    </tr>\n",
       "    <tr>\n",
       "      <th>1928571018</th>\n",
       "      <td>NaN</td>\n",
       "      <td>NaN</td>\n",
       "      <td>NaN</td>\n",
       "      <td>NaN</td>\n",
       "      <td>NaN</td>\n",
       "      <td>NaN</td>\n",
       "      <td>NaN</td>\n",
       "      <td>NaN</td>\n",
       "      <td>NaN</td>\n",
       "      <td>NaN</td>\n",
       "      <td>...</td>\n",
       "      <td>NaN</td>\n",
       "      <td>NaN</td>\n",
       "      <td>NaN</td>\n",
       "      <td>NaN</td>\n",
       "      <td>NaN</td>\n",
       "      <td>NaN</td>\n",
       "      <td>NaN</td>\n",
       "      <td>NaN</td>\n",
       "      <td>NaN</td>\n",
       "      <td>NaN</td>\n",
       "    </tr>\n",
       "    <tr>\n",
       "      <th>9792372326</th>\n",
       "      <td>NaN</td>\n",
       "      <td>NaN</td>\n",
       "      <td>NaN</td>\n",
       "      <td>NaN</td>\n",
       "      <td>NaN</td>\n",
       "      <td>NaN</td>\n",
       "      <td>NaN</td>\n",
       "      <td>NaN</td>\n",
       "      <td>NaN</td>\n",
       "      <td>NaN</td>\n",
       "      <td>...</td>\n",
       "      <td>NaN</td>\n",
       "      <td>NaN</td>\n",
       "      <td>NaN</td>\n",
       "      <td>NaN</td>\n",
       "      <td>NaN</td>\n",
       "      <td>NaN</td>\n",
       "      <td>NaN</td>\n",
       "      <td>NaN</td>\n",
       "      <td>NaN</td>\n",
       "      <td>NaN</td>\n",
       "    </tr>\n",
       "  </tbody>\n",
       "</table>\n",
       "<p>5 rows × 27530 columns</p>\n",
       "</div>"
      ],
      "text/plain": [
       "user_id     A0072193KFP6LUHKEXLT  A0096681Y127OL1H8W3U  A0103849GBVWICKXD4T6  \\\n",
       "product_id                                                                     \n",
       "0739079891                   NaN                   NaN                   NaN   \n",
       "0786615206                   NaN                   NaN                   NaN   \n",
       "1480360295                   NaN                   NaN                   NaN   \n",
       "1928571018                   NaN                   NaN                   NaN   \n",
       "9792372326                   NaN                   NaN                   NaN   \n",
       "\n",
       "user_id     A0279100VZXR9A2495P4  A0600727NK5MAF66IOY5  A0727497OR0PPNFLFPDV  \\\n",
       "product_id                                                                     \n",
       "0739079891                   NaN                   NaN                   NaN   \n",
       "0786615206                   NaN                   NaN                   NaN   \n",
       "1480360295                   NaN                   NaN                   NaN   \n",
       "1928571018                   NaN                   NaN                   NaN   \n",
       "9792372326                   NaN                   NaN                   NaN   \n",
       "\n",
       "user_id     A07936821FOVJO6NP4Q8  A0833006NJW9KRF77ZFY  A0955928C2RRWOWZN7UC  \\\n",
       "product_id                                                                     \n",
       "0739079891                   NaN                   NaN                   NaN   \n",
       "0786615206                   NaN                   NaN                   NaN   \n",
       "1480360295                   NaN                   NaN                   NaN   \n",
       "1928571018                   NaN                   NaN                   NaN   \n",
       "9792372326                   NaN                   NaN                   NaN   \n",
       "\n",
       "user_id     A10044ECXDUVKS  ...  AZYCGMFCK9AIM  AZYJTD9J82V5I  AZYP4FQ2L2C4O  \\\n",
       "product_id                  ...                                                \n",
       "0739079891             NaN  ...            NaN            NaN            NaN   \n",
       "0786615206             NaN  ...            NaN            NaN            NaN   \n",
       "1480360295             NaN  ...            NaN            NaN            NaN   \n",
       "1928571018             NaN  ...            NaN            NaN            NaN   \n",
       "9792372326             NaN  ...            NaN            NaN            NaN   \n",
       "\n",
       "user_id     AZZ3WYDJ0XNZW  AZZCLFV6V8693  AZZM5MUOG0LRK  AZZT9G4MJFCHD  \\\n",
       "product_id                                                               \n",
       "0739079891            NaN            NaN            NaN            NaN   \n",
       "0786615206            NaN            NaN            NaN            NaN   \n",
       "1480360295            NaN            NaN            NaN            NaN   \n",
       "1928571018            NaN            NaN            NaN            NaN   \n",
       "9792372326            NaN            NaN            NaN            NaN   \n",
       "\n",
       "user_id     AZZX23UGJGKTT  AZZZ3LGTCGUZF  AZZZG8PGB1FS0  \n",
       "product_id                                               \n",
       "0739079891            NaN            NaN            NaN  \n",
       "0786615206            NaN            NaN            NaN  \n",
       "1480360295            NaN            NaN            NaN  \n",
       "1928571018            NaN            NaN            NaN  \n",
       "9792372326            NaN            NaN            NaN  \n",
       "\n",
       "[5 rows x 27530 columns]"
      ]
     },
     "execution_count": 10,
     "metadata": {},
     "output_type": "execute_result"
    }
   ],
   "source": [
    "U.head() "
   ]
  },
  {
   "cell_type": "code",
   "execution_count": 11,
   "id": "5d7cb6d4",
   "metadata": {},
   "outputs": [
    {
     "data": {
      "text/plain": [
       "user_id\n",
       "A0072193KFP6LUHKEXLT    10616\n",
       "A0096681Y127OL1H8W3U    10581\n",
       "A0103849GBVWICKXD4T6    10615\n",
       "A0279100VZXR9A2495P4    10615\n",
       "A0600727NK5MAF66IOY5    10616\n",
       "                        ...  \n",
       "AZZM5MUOG0LRK           10612\n",
       "AZZT9G4MJFCHD           10612\n",
       "AZZX23UGJGKTT           10613\n",
       "AZZZ3LGTCGUZF           10615\n",
       "AZZZG8PGB1FS0           10615\n",
       "Length: 27530, dtype: int64"
      ]
     },
     "execution_count": 11,
     "metadata": {},
     "output_type": "execute_result"
    }
   ],
   "source": [
    "U.isnull().sum()"
   ]
  },
  {
   "cell_type": "code",
   "execution_count": 12,
   "id": "d7ed6a6d",
   "metadata": {},
   "outputs": [
    {
     "name": "stdout",
     "output_type": "stream",
     "text": [
      "27530\n",
      "10620\n"
     ]
    }
   ],
   "source": [
    "print(len(U.columns)) \n",
    "print(len(U.index))"
   ]
  },
  {
   "cell_type": "code",
   "execution_count": null,
   "id": "c29b2395",
   "metadata": {},
   "outputs": [],
   "source": [
    "U.to_csv(os.path.join(project_dir, \"lookups\", \"Utility_Matrix.csv\")) "
   ]
  },
  {
   "cell_type": "code",
   "execution_count": 26,
   "id": "e73b7e90",
   "metadata": {},
   "outputs": [],
   "source": [
    "from scipy import sparse \n",
    "from os.path import join\n",
    "\n",
    "U_sparse = sparse.csr_matrix(U.values) \n",
    "\n",
    "U_rows = U.index.to_list() \n",
    "U_cols = U.columns.to_list() \n",
    "\n",
    "lookups_dir = join(project_dir, \"lookups\") \n",
    "\n",
    "sparse.save_npz(join(lookups_dir, \"utility_matrix.npz\"), U_sparse) \n",
    "np.save(join(lookups_dir, \"U_rows.npy\"), U_rows) \n",
    "np.save(join(lookups_dir, \"U_cols.npy\"), U_cols) "
   ]
  },
  {
   "cell_type": "markdown",
   "id": "f8220e14",
   "metadata": {},
   "source": [
    "<h2> <i> User-User Collaborative Filtering </i> </h2>\n",
    "\n",
    "<b> Goal </b> \n",
    "\n",
    "Given a user u, we want to return a vector of items with top-r highest predicted rating. \n",
    "\n",
    "<b> Procedure </b>\n",
    "\n",
    "Given user u, generate a similarity vector with all other users with cosine similarity metric. \n",
    "\n",
    "Then, for each item i that u has not reviewed, generate u's predicted rating for i by: \n",
    "\n",
    "1. Finding set N of top-k users most similar to u who have also rated i. Consult the existing similarity vector to do so. \n",
    "\n",
    "2. Generate predicted rating based on N set. \n",
    "\n",
    "Repeat this for all items not rated by u. Find the min top-r highest ratings. For straight ties return all?   \n",
    "\n",
    "Would I think make sense to create a single lookup for this so we only have to do it once. Repeat the process for all users. "
   ]
  },
  {
   "cell_type": "markdown",
   "id": "21ce84ab",
   "metadata": {},
   "source": [
    "## 3.2. Create Similarity Matrix (S)"
   ]
  },
  {
   "cell_type": "code",
   "execution_count": 13,
   "id": "f11c4d01",
   "metadata": {},
   "outputs": [],
   "source": [
    "from sklearn.metrics.pairwise import cosine_similarity \n",
    "from sklearn.impute import SimpleImputer \n",
    "\n",
    "def create_similarity_matrix(UM): \n",
    "    # transpose Utility Matrix \n",
    "    user_item_matrix = UM.T \n",
    "    # Impute missing values \n",
    "    imputer = SimpleImputer(strategy='constant', fill_value=0) \n",
    "    user_item_filled = imputer.fit_transform(user_item_matrix) \n",
    "    # Compute cosine similarity between users \n",
    "    user_similarity = cosine_similarity(user_item_filled) \n",
    "    # DataFrame for quick lookups \n",
    "    user_similarity_df = pd.DataFrame(\n",
    "        user_similarity, \n",
    "        index=user_item_matrix.index, \n",
    "        columns=user_item_matrix.index \n",
    "    )\n",
    "    return user_similarity_df "
   ]
  },
  {
   "cell_type": "code",
   "execution_count": 14,
   "id": "2dbb6b11",
   "metadata": {},
   "outputs": [],
   "source": [
    "# call to create the similarity matrix \n",
    "S = create_similarity_matrix(U) "
   ]
  },
  {
   "cell_type": "code",
   "execution_count": 15,
   "id": "489bb612",
   "metadata": {},
   "outputs": [
    {
     "data": {
      "text/html": [
       "<div>\n",
       "<style scoped>\n",
       "    .dataframe tbody tr th:only-of-type {\n",
       "        vertical-align: middle;\n",
       "    }\n",
       "\n",
       "    .dataframe tbody tr th {\n",
       "        vertical-align: top;\n",
       "    }\n",
       "\n",
       "    .dataframe thead th {\n",
       "        text-align: right;\n",
       "    }\n",
       "</style>\n",
       "<table border=\"1\" class=\"dataframe\">\n",
       "  <thead>\n",
       "    <tr style=\"text-align: right;\">\n",
       "      <th>user_id</th>\n",
       "      <th>A0072193KFP6LUHKEXLT</th>\n",
       "      <th>A0096681Y127OL1H8W3U</th>\n",
       "      <th>A0103849GBVWICKXD4T6</th>\n",
       "      <th>A0279100VZXR9A2495P4</th>\n",
       "      <th>A0600727NK5MAF66IOY5</th>\n",
       "      <th>A0727497OR0PPNFLFPDV</th>\n",
       "      <th>A07936821FOVJO6NP4Q8</th>\n",
       "      <th>A0833006NJW9KRF77ZFY</th>\n",
       "      <th>A0955928C2RRWOWZN7UC</th>\n",
       "      <th>A10044ECXDUVKS</th>\n",
       "      <th>...</th>\n",
       "      <th>AZYCGMFCK9AIM</th>\n",
       "      <th>AZYJTD9J82V5I</th>\n",
       "      <th>AZYP4FQ2L2C4O</th>\n",
       "      <th>AZZ3WYDJ0XNZW</th>\n",
       "      <th>AZZCLFV6V8693</th>\n",
       "      <th>AZZM5MUOG0LRK</th>\n",
       "      <th>AZZT9G4MJFCHD</th>\n",
       "      <th>AZZX23UGJGKTT</th>\n",
       "      <th>AZZZ3LGTCGUZF</th>\n",
       "      <th>AZZZG8PGB1FS0</th>\n",
       "    </tr>\n",
       "    <tr>\n",
       "      <th>user_id</th>\n",
       "      <th></th>\n",
       "      <th></th>\n",
       "      <th></th>\n",
       "      <th></th>\n",
       "      <th></th>\n",
       "      <th></th>\n",
       "      <th></th>\n",
       "      <th></th>\n",
       "      <th></th>\n",
       "      <th></th>\n",
       "      <th></th>\n",
       "      <th></th>\n",
       "      <th></th>\n",
       "      <th></th>\n",
       "      <th></th>\n",
       "      <th></th>\n",
       "      <th></th>\n",
       "      <th></th>\n",
       "      <th></th>\n",
       "      <th></th>\n",
       "      <th></th>\n",
       "    </tr>\n",
       "  </thead>\n",
       "  <tbody>\n",
       "    <tr>\n",
       "      <th>A0072193KFP6LUHKEXLT</th>\n",
       "      <td>1.0</td>\n",
       "      <td>0.0</td>\n",
       "      <td>0.0</td>\n",
       "      <td>0.0</td>\n",
       "      <td>0.0</td>\n",
       "      <td>0.0</td>\n",
       "      <td>0.0</td>\n",
       "      <td>0.0</td>\n",
       "      <td>0.0</td>\n",
       "      <td>0.0</td>\n",
       "      <td>...</td>\n",
       "      <td>0.0</td>\n",
       "      <td>0.0</td>\n",
       "      <td>0.0</td>\n",
       "      <td>0.0</td>\n",
       "      <td>0.0</td>\n",
       "      <td>0.000000</td>\n",
       "      <td>0.0</td>\n",
       "      <td>0.0</td>\n",
       "      <td>0.0</td>\n",
       "      <td>0.14602</td>\n",
       "    </tr>\n",
       "    <tr>\n",
       "      <th>A0096681Y127OL1H8W3U</th>\n",
       "      <td>0.0</td>\n",
       "      <td>1.0</td>\n",
       "      <td>0.0</td>\n",
       "      <td>0.0</td>\n",
       "      <td>0.0</td>\n",
       "      <td>0.0</td>\n",
       "      <td>0.0</td>\n",
       "      <td>0.0</td>\n",
       "      <td>0.0</td>\n",
       "      <td>0.0</td>\n",
       "      <td>...</td>\n",
       "      <td>0.0</td>\n",
       "      <td>0.0</td>\n",
       "      <td>0.0</td>\n",
       "      <td>0.0</td>\n",
       "      <td>0.0</td>\n",
       "      <td>0.000000</td>\n",
       "      <td>0.0</td>\n",
       "      <td>0.0</td>\n",
       "      <td>0.0</td>\n",
       "      <td>0.00000</td>\n",
       "    </tr>\n",
       "    <tr>\n",
       "      <th>A0103849GBVWICKXD4T6</th>\n",
       "      <td>0.0</td>\n",
       "      <td>0.0</td>\n",
       "      <td>1.0</td>\n",
       "      <td>0.0</td>\n",
       "      <td>0.0</td>\n",
       "      <td>0.0</td>\n",
       "      <td>0.0</td>\n",
       "      <td>0.0</td>\n",
       "      <td>0.0</td>\n",
       "      <td>0.0</td>\n",
       "      <td>...</td>\n",
       "      <td>0.0</td>\n",
       "      <td>0.0</td>\n",
       "      <td>0.0</td>\n",
       "      <td>0.0</td>\n",
       "      <td>0.0</td>\n",
       "      <td>0.000000</td>\n",
       "      <td>0.0</td>\n",
       "      <td>0.0</td>\n",
       "      <td>0.0</td>\n",
       "      <td>0.00000</td>\n",
       "    </tr>\n",
       "    <tr>\n",
       "      <th>A0279100VZXR9A2495P4</th>\n",
       "      <td>0.0</td>\n",
       "      <td>0.0</td>\n",
       "      <td>0.0</td>\n",
       "      <td>1.0</td>\n",
       "      <td>0.0</td>\n",
       "      <td>0.0</td>\n",
       "      <td>0.0</td>\n",
       "      <td>0.0</td>\n",
       "      <td>0.0</td>\n",
       "      <td>0.0</td>\n",
       "      <td>...</td>\n",
       "      <td>0.0</td>\n",
       "      <td>0.0</td>\n",
       "      <td>0.0</td>\n",
       "      <td>0.0</td>\n",
       "      <td>0.0</td>\n",
       "      <td>0.161796</td>\n",
       "      <td>0.0</td>\n",
       "      <td>0.0</td>\n",
       "      <td>0.0</td>\n",
       "      <td>0.00000</td>\n",
       "    </tr>\n",
       "    <tr>\n",
       "      <th>A0600727NK5MAF66IOY5</th>\n",
       "      <td>0.0</td>\n",
       "      <td>0.0</td>\n",
       "      <td>0.0</td>\n",
       "      <td>0.0</td>\n",
       "      <td>1.0</td>\n",
       "      <td>0.0</td>\n",
       "      <td>0.0</td>\n",
       "      <td>0.0</td>\n",
       "      <td>0.0</td>\n",
       "      <td>0.0</td>\n",
       "      <td>...</td>\n",
       "      <td>0.0</td>\n",
       "      <td>0.0</td>\n",
       "      <td>0.0</td>\n",
       "      <td>0.0</td>\n",
       "      <td>0.0</td>\n",
       "      <td>0.000000</td>\n",
       "      <td>0.0</td>\n",
       "      <td>0.0</td>\n",
       "      <td>0.0</td>\n",
       "      <td>0.00000</td>\n",
       "    </tr>\n",
       "  </tbody>\n",
       "</table>\n",
       "<p>5 rows × 27530 columns</p>\n",
       "</div>"
      ],
      "text/plain": [
       "user_id               A0072193KFP6LUHKEXLT  A0096681Y127OL1H8W3U  \\\n",
       "user_id                                                            \n",
       "A0072193KFP6LUHKEXLT                   1.0                   0.0   \n",
       "A0096681Y127OL1H8W3U                   0.0                   1.0   \n",
       "A0103849GBVWICKXD4T6                   0.0                   0.0   \n",
       "A0279100VZXR9A2495P4                   0.0                   0.0   \n",
       "A0600727NK5MAF66IOY5                   0.0                   0.0   \n",
       "\n",
       "user_id               A0103849GBVWICKXD4T6  A0279100VZXR9A2495P4  \\\n",
       "user_id                                                            \n",
       "A0072193KFP6LUHKEXLT                   0.0                   0.0   \n",
       "A0096681Y127OL1H8W3U                   0.0                   0.0   \n",
       "A0103849GBVWICKXD4T6                   1.0                   0.0   \n",
       "A0279100VZXR9A2495P4                   0.0                   1.0   \n",
       "A0600727NK5MAF66IOY5                   0.0                   0.0   \n",
       "\n",
       "user_id               A0600727NK5MAF66IOY5  A0727497OR0PPNFLFPDV  \\\n",
       "user_id                                                            \n",
       "A0072193KFP6LUHKEXLT                   0.0                   0.0   \n",
       "A0096681Y127OL1H8W3U                   0.0                   0.0   \n",
       "A0103849GBVWICKXD4T6                   0.0                   0.0   \n",
       "A0279100VZXR9A2495P4                   0.0                   0.0   \n",
       "A0600727NK5MAF66IOY5                   1.0                   0.0   \n",
       "\n",
       "user_id               A07936821FOVJO6NP4Q8  A0833006NJW9KRF77ZFY  \\\n",
       "user_id                                                            \n",
       "A0072193KFP6LUHKEXLT                   0.0                   0.0   \n",
       "A0096681Y127OL1H8W3U                   0.0                   0.0   \n",
       "A0103849GBVWICKXD4T6                   0.0                   0.0   \n",
       "A0279100VZXR9A2495P4                   0.0                   0.0   \n",
       "A0600727NK5MAF66IOY5                   0.0                   0.0   \n",
       "\n",
       "user_id               A0955928C2RRWOWZN7UC  A10044ECXDUVKS  ...  \\\n",
       "user_id                                                     ...   \n",
       "A0072193KFP6LUHKEXLT                   0.0             0.0  ...   \n",
       "A0096681Y127OL1H8W3U                   0.0             0.0  ...   \n",
       "A0103849GBVWICKXD4T6                   0.0             0.0  ...   \n",
       "A0279100VZXR9A2495P4                   0.0             0.0  ...   \n",
       "A0600727NK5MAF66IOY5                   0.0             0.0  ...   \n",
       "\n",
       "user_id               AZYCGMFCK9AIM  AZYJTD9J82V5I  AZYP4FQ2L2C4O  \\\n",
       "user_id                                                             \n",
       "A0072193KFP6LUHKEXLT            0.0            0.0            0.0   \n",
       "A0096681Y127OL1H8W3U            0.0            0.0            0.0   \n",
       "A0103849GBVWICKXD4T6            0.0            0.0            0.0   \n",
       "A0279100VZXR9A2495P4            0.0            0.0            0.0   \n",
       "A0600727NK5MAF66IOY5            0.0            0.0            0.0   \n",
       "\n",
       "user_id               AZZ3WYDJ0XNZW  AZZCLFV6V8693  AZZM5MUOG0LRK  \\\n",
       "user_id                                                             \n",
       "A0072193KFP6LUHKEXLT            0.0            0.0       0.000000   \n",
       "A0096681Y127OL1H8W3U            0.0            0.0       0.000000   \n",
       "A0103849GBVWICKXD4T6            0.0            0.0       0.000000   \n",
       "A0279100VZXR9A2495P4            0.0            0.0       0.161796   \n",
       "A0600727NK5MAF66IOY5            0.0            0.0       0.000000   \n",
       "\n",
       "user_id               AZZT9G4MJFCHD  AZZX23UGJGKTT  AZZZ3LGTCGUZF  \\\n",
       "user_id                                                             \n",
       "A0072193KFP6LUHKEXLT            0.0            0.0            0.0   \n",
       "A0096681Y127OL1H8W3U            0.0            0.0            0.0   \n",
       "A0103849GBVWICKXD4T6            0.0            0.0            0.0   \n",
       "A0279100VZXR9A2495P4            0.0            0.0            0.0   \n",
       "A0600727NK5MAF66IOY5            0.0            0.0            0.0   \n",
       "\n",
       "user_id               AZZZG8PGB1FS0  \n",
       "user_id                              \n",
       "A0072193KFP6LUHKEXLT        0.14602  \n",
       "A0096681Y127OL1H8W3U        0.00000  \n",
       "A0103849GBVWICKXD4T6        0.00000  \n",
       "A0279100VZXR9A2495P4        0.00000  \n",
       "A0600727NK5MAF66IOY5        0.00000  \n",
       "\n",
       "[5 rows x 27530 columns]"
      ]
     },
     "execution_count": 15,
     "metadata": {},
     "output_type": "execute_result"
    }
   ],
   "source": [
    "S.head()"
   ]
  },
  {
   "cell_type": "code",
   "execution_count": 25,
   "id": "e915cede",
   "metadata": {},
   "outputs": [],
   "source": [
    "# convert to a more efficient format before saving \n",
    "from scipy import sparse \n",
    "\n",
    "S_sparse = sparse.csr_matrix(S.values) \n",
    "\n",
    "# save labels separately \n",
    "S_rows = S.index.tolist() \n",
    "S_cols = S.columns.tolist() \n",
    "\n",
    "lookups_dir = os.path.join(project_dir, \"lookups\") \n",
    "\n",
    "sparse.save_npz(os.path.join(lookups_dir, \"similarity_matrix.npz\"), S_sparse) \n",
    "np.save(os.path.join(lookups_dir, \"S_rows.npy\"), S_rows) \n",
    "np.save(os.path.join(lookups_dir, \"S_cols.npy\"), S_cols) "
   ]
  },
  {
   "cell_type": "markdown",
   "id": "d4faf678",
   "metadata": {},
   "source": [
    "## 3.3. Create Prediction Matrix (P) "
   ]
  },
  {
   "cell_type": "code",
   "execution_count": 19,
   "id": "1d9da2d3",
   "metadata": {},
   "outputs": [],
   "source": [
    "import time \n",
    "\n",
    "def keep_top_k(sim_row): \n",
    "    top_k = sim_row.nlargest(k) \n",
    "    return sim_row.where(sim_row.index.isin(top_k.index), 0) \n",
    "\n",
    "def predict_ratings_fast(utility_matrix, similarity_matrix, k_only=True, k=5): \n",
    "    utility_filled = utility_matrix.fillna(0) \n",
    "    if k_only: \n",
    "        S_topk = similarity_matrix.apply(keep_top_k, axis=1)\n",
    "    else: \n",
    "        S_topk = similarity_matrix.copy() \n",
    "    \n",
    "    S_topk = S_topk.fillna(0) \n",
    "    S_norm = S_topk.div(S_topk.sum(axis=0), axis=1).fillna(0) \n",
    "\n",
    "    predicted = utility_filled.dot(S_norm) \n",
    "\n",
    "    # Preserve original ratings\n",
    "    predicted[~utility_matrix.isna()] = utility_matrix[~utility_matrix.isna()] \n",
    "\n",
    "    return predicted "
   ]
  },
  {
   "cell_type": "code",
   "execution_count": 20,
   "id": "696c25f6",
   "metadata": {},
   "outputs": [
    {
     "ename": "MemoryError",
     "evalue": "Unable to allocate 5.65 GiB for an array with shape (27530, 27530) and data type float64",
     "output_type": "error",
     "traceback": [
      "\u001b[31m---------------------------------------------------------------------------\u001b[39m",
      "\u001b[31mMemoryError\u001b[39m                               Traceback (most recent call last)",
      "\u001b[36mCell\u001b[39m\u001b[36m \u001b[39m\u001b[32mIn[20]\u001b[39m\u001b[32m, line 1\u001b[39m\n\u001b[32m----> \u001b[39m\u001b[32m1\u001b[39m P = \u001b[43mpredict_ratings_fast\u001b[49m\u001b[43m(\u001b[49m\u001b[43mU\u001b[49m\u001b[43m,\u001b[49m\u001b[43m \u001b[49m\u001b[43mS\u001b[49m\u001b[43m,\u001b[49m\u001b[43m \u001b[49m\u001b[43mk_only\u001b[49m\u001b[43m=\u001b[49m\u001b[38;5;28;43;01mFalse\u001b[39;49;00m\u001b[43m)\u001b[49m \n",
      "\u001b[36mCell\u001b[39m\u001b[36m \u001b[39m\u001b[32mIn[19]\u001b[39m\u001b[32m, line 12\u001b[39m, in \u001b[36mpredict_ratings_fast\u001b[39m\u001b[34m(utility_matrix, similarity_matrix, k_only, k)\u001b[39m\n\u001b[32m     10\u001b[39m     S_topk = similarity_matrix.apply(keep_top_k, axis=\u001b[32m1\u001b[39m)\n\u001b[32m     11\u001b[39m \u001b[38;5;28;01melse\u001b[39;00m: \n\u001b[32m---> \u001b[39m\u001b[32m12\u001b[39m     S_topk = \u001b[43msimilarity_matrix\u001b[49m\u001b[43m.\u001b[49m\u001b[43mcopy\u001b[49m\u001b[43m(\u001b[49m\u001b[43m)\u001b[49m \n\u001b[32m     14\u001b[39m S_topk = S_topk.fillna(\u001b[32m0\u001b[39m) \n\u001b[32m     15\u001b[39m S_norm = S_topk.div(S_topk.sum(axis=\u001b[32m0\u001b[39m), axis=\u001b[32m1\u001b[39m).fillna(\u001b[32m0\u001b[39m) \n",
      "\u001b[36mFile \u001b[39m\u001b[32mc:\\Users\\bened\\anaconda3\\envs\\SINA-AT3\\Lib\\site-packages\\pandas\\core\\generic.py:6811\u001b[39m, in \u001b[36mNDFrame.copy\u001b[39m\u001b[34m(self, deep)\u001b[39m\n\u001b[32m   6662\u001b[39m \u001b[38;5;129m@final\u001b[39m\n\u001b[32m   6663\u001b[39m \u001b[38;5;28;01mdef\u001b[39;00m\u001b[38;5;250m \u001b[39m\u001b[34mcopy\u001b[39m(\u001b[38;5;28mself\u001b[39m, deep: bool_t | \u001b[38;5;28;01mNone\u001b[39;00m = \u001b[38;5;28;01mTrue\u001b[39;00m) -> Self:\n\u001b[32m   6664\u001b[39m \u001b[38;5;250m    \u001b[39m\u001b[33;03m\"\"\"\u001b[39;00m\n\u001b[32m   6665\u001b[39m \u001b[33;03m    Make a copy of this object's indices and data.\u001b[39;00m\n\u001b[32m   6666\u001b[39m \n\u001b[32m   (...)\u001b[39m\u001b[32m   6809\u001b[39m \u001b[33;03m    dtype: int64\u001b[39;00m\n\u001b[32m   6810\u001b[39m \u001b[33;03m    \"\"\"\u001b[39;00m\n\u001b[32m-> \u001b[39m\u001b[32m6811\u001b[39m     data = \u001b[38;5;28;43mself\u001b[39;49m\u001b[43m.\u001b[49m\u001b[43m_mgr\u001b[49m\u001b[43m.\u001b[49m\u001b[43mcopy\u001b[49m\u001b[43m(\u001b[49m\u001b[43mdeep\u001b[49m\u001b[43m=\u001b[49m\u001b[43mdeep\u001b[49m\u001b[43m)\u001b[49m\n\u001b[32m   6812\u001b[39m     \u001b[38;5;28mself\u001b[39m._clear_item_cache()\n\u001b[32m   6813\u001b[39m     \u001b[38;5;28;01mreturn\u001b[39;00m \u001b[38;5;28mself\u001b[39m._constructor_from_mgr(data, axes=data.axes).__finalize__(\n\u001b[32m   6814\u001b[39m         \u001b[38;5;28mself\u001b[39m, method=\u001b[33m\"\u001b[39m\u001b[33mcopy\u001b[39m\u001b[33m\"\u001b[39m\n\u001b[32m   6815\u001b[39m     )\n",
      "\u001b[36mFile \u001b[39m\u001b[32mc:\\Users\\bened\\anaconda3\\envs\\SINA-AT3\\Lib\\site-packages\\pandas\\core\\internals\\managers.py:593\u001b[39m, in \u001b[36mBaseBlockManager.copy\u001b[39m\u001b[34m(self, deep)\u001b[39m\n\u001b[32m    590\u001b[39m     \u001b[38;5;28;01melse\u001b[39;00m:\n\u001b[32m    591\u001b[39m         new_axes = \u001b[38;5;28mlist\u001b[39m(\u001b[38;5;28mself\u001b[39m.axes)\n\u001b[32m--> \u001b[39m\u001b[32m593\u001b[39m res = \u001b[38;5;28;43mself\u001b[39;49m\u001b[43m.\u001b[49m\u001b[43mapply\u001b[49m\u001b[43m(\u001b[49m\u001b[33;43m\"\u001b[39;49m\u001b[33;43mcopy\u001b[39;49m\u001b[33;43m\"\u001b[39;49m\u001b[43m,\u001b[49m\u001b[43m \u001b[49m\u001b[43mdeep\u001b[49m\u001b[43m=\u001b[49m\u001b[43mdeep\u001b[49m\u001b[43m)\u001b[49m\n\u001b[32m    594\u001b[39m res.axes = new_axes\n\u001b[32m    596\u001b[39m \u001b[38;5;28;01mif\u001b[39;00m \u001b[38;5;28mself\u001b[39m.ndim > \u001b[32m1\u001b[39m:\n\u001b[32m    597\u001b[39m     \u001b[38;5;66;03m# Avoid needing to re-compute these\u001b[39;00m\n",
      "\u001b[36mFile \u001b[39m\u001b[32mc:\\Users\\bened\\anaconda3\\envs\\SINA-AT3\\Lib\\site-packages\\pandas\\core\\internals\\managers.py:363\u001b[39m, in \u001b[36mBaseBlockManager.apply\u001b[39m\u001b[34m(self, f, align_keys, **kwargs)\u001b[39m\n\u001b[32m    361\u001b[39m         applied = b.apply(f, **kwargs)\n\u001b[32m    362\u001b[39m     \u001b[38;5;28;01melse\u001b[39;00m:\n\u001b[32m--> \u001b[39m\u001b[32m363\u001b[39m         applied = \u001b[38;5;28;43mgetattr\u001b[39;49m\u001b[43m(\u001b[49m\u001b[43mb\u001b[49m\u001b[43m,\u001b[49m\u001b[43m \u001b[49m\u001b[43mf\u001b[49m\u001b[43m)\u001b[49m\u001b[43m(\u001b[49m\u001b[43m*\u001b[49m\u001b[43m*\u001b[49m\u001b[43mkwargs\u001b[49m\u001b[43m)\u001b[49m\n\u001b[32m    364\u001b[39m     result_blocks = extend_blocks(applied, result_blocks)\n\u001b[32m    366\u001b[39m out = \u001b[38;5;28mtype\u001b[39m(\u001b[38;5;28mself\u001b[39m).from_blocks(result_blocks, \u001b[38;5;28mself\u001b[39m.axes)\n",
      "\u001b[36mFile \u001b[39m\u001b[32mc:\\Users\\bened\\anaconda3\\envs\\SINA-AT3\\Lib\\site-packages\\pandas\\core\\internals\\blocks.py:796\u001b[39m, in \u001b[36mBlock.copy\u001b[39m\u001b[34m(self, deep)\u001b[39m\n\u001b[32m    794\u001b[39m refs: BlockValuesRefs | \u001b[38;5;28;01mNone\u001b[39;00m\n\u001b[32m    795\u001b[39m \u001b[38;5;28;01mif\u001b[39;00m deep:\n\u001b[32m--> \u001b[39m\u001b[32m796\u001b[39m     values = values.copy()\n\u001b[32m    797\u001b[39m     refs = \u001b[38;5;28;01mNone\u001b[39;00m\n\u001b[32m    798\u001b[39m \u001b[38;5;28;01melse\u001b[39;00m:\n",
      "\u001b[31mMemoryError\u001b[39m: Unable to allocate 5.65 GiB for an array with shape (27530, 27530) and data type float64"
     ]
    }
   ],
   "source": [
    "P = predict_ratings_fast(U, S, k_only=False) "
   ]
  },
  {
   "cell_type": "code",
   "execution_count": 16,
   "id": "ad32750e",
   "metadata": {},
   "outputs": [],
   "source": [
    "import time \n",
    "\n",
    "def predict_ratings(utility_matrix, similarity_matrix, k_only=True, k=5): \n",
    "    \"\"\"\n",
    "    Function to compute a predicted ratings matrix based on a utility matrix and similarity matrix. \n",
    "    Args: \n",
    "        utility_matrix: pd.DatFrame. Utility Matrix of users' ratings of items in the form of a pandas DataFrame. \n",
    "        similarity_matrix: pd.DataFrame. Similarity Matrix between users' ratings of items in the form of a pandas DataFrame. \n",
    "        k_only: bool, default True. If True, compute similarity based only on topk most similar users. If False, compute similarity based on all users with similarity > 0 who have also rated the item. \n",
    "        k: int. number of most similar users for computing ratings. \n",
    "    \"\"\"\n",
    "    # matrix to store predicted ratings\n",
    "    prediction_matrix = utility_matrix.copy() \n",
    "    start = time.time() \n",
    "    # iterate through users\n",
    "    for idx, user in enumerate(utility_matrix.columns): \n",
    "        # get similarity vector for this user \n",
    "        user_sim = similarity_matrix[user] \n",
    "        # iterate through products\n",
    "        for product in utility_matrix.index: \n",
    "            # skip already rated items \n",
    "            if not pd.isna(utility_matrix.at[product, user]): \n",
    "                continue \n",
    "            # Find users who rated this product \n",
    "            raters = utility_matrix.loc[product].dropna() \n",
    "            if raters.empty: \n",
    "                continue \n",
    "            # Get similarities of those users to current user \n",
    "            similarities = user_sim[raters.index] \n",
    "            if k_only: \n",
    "                # Select top-k most similar users\n",
    "                N_sim = similarities.sort_values(ascending=False).head(k) \n",
    "            else: \n",
    "                # select all users with similarity greater than 0 \n",
    "                N_sim = similarities[similarities > 0] \n",
    "            # Filter to users who rated the product \n",
    "            N_ratings = raters[N_sim.index] \n",
    "            # Compute weighted average of ratings\n",
    "            numerator = (N_sim * N_ratings).sum() \n",
    "            denominator = N_sim.sum() \n",
    "\n",
    "            if denominator > 0: \n",
    "                r_hat = numerator / denominator \n",
    "                prediction_matrix.at[product, user] = r_hat \n",
    "        \n",
    "        # predict time to generate the matrix \n",
    "        if idx == 0: \n",
    "            user_time = time.time() - start \n",
    "            remaining_users = len(similarity_matrix.index) - 1 \n",
    "            predicted_latency = remaining_users * user_time \n",
    "            print(\"Seconds to compute for first user:\", user_time) \n",
    "            print(\"Minutes predicted to compute matrix:\", predicted_latency // 60)\n",
    "\n",
    "    return prediction_matrix \n"
   ]
  },
  {
   "cell_type": "markdown",
   "id": "cd1c71e9",
   "metadata": {},
   "source": [
    "Create the prediction matrix. "
   ]
  },
  {
   "cell_type": "markdown",
   "id": "a9f585f5",
   "metadata": {},
   "source": [
    "Serious latency issue not yet resolved. Not worth executing until issue resolved."
   ]
  },
  {
   "cell_type": "code",
   "execution_count": 18,
   "id": "7e2208e7",
   "metadata": {},
   "outputs": [
    {
     "data": {
      "text/plain": [
       "134.11666666666667"
      ]
     },
     "execution_count": 18,
     "metadata": {},
     "output_type": "execute_result"
    }
   ],
   "source": [
    "8047 / 60"
   ]
  },
  {
   "cell_type": "code",
   "execution_count": 17,
   "id": "aee26d69",
   "metadata": {},
   "outputs": [
    {
     "name": "stdout",
     "output_type": "stream",
     "text": [
      "Seconds to compute for first user: 17.540603399276733\n",
      "Minutes predicted to compute matrix: 8047.0\n"
     ]
    },
    {
     "ename": "KeyboardInterrupt",
     "evalue": "",
     "output_type": "error",
     "traceback": [
      "\u001b[31m---------------------------------------------------------------------------\u001b[39m",
      "\u001b[31mKeyboardInterrupt\u001b[39m                         Traceback (most recent call last)",
      "\u001b[36mCell\u001b[39m\u001b[36m \u001b[39m\u001b[32mIn[17]\u001b[39m\u001b[32m, line 1\u001b[39m\n\u001b[32m----> \u001b[39m\u001b[32m1\u001b[39m P = \u001b[43mpredict_ratings\u001b[49m\u001b[43m(\u001b[49m\u001b[43mU\u001b[49m\u001b[43m,\u001b[49m\u001b[43m \u001b[49m\u001b[43mS\u001b[49m\u001b[43m,\u001b[49m\u001b[43m \u001b[49m\u001b[43mk_only\u001b[49m\u001b[43m=\u001b[49m\u001b[38;5;28;43;01mFalse\u001b[39;49;00m\u001b[43m)\u001b[49m \n",
      "\u001b[36mCell\u001b[39m\u001b[36m \u001b[39m\u001b[32mIn[16]\u001b[39m\u001b[32m, line 25\u001b[39m, in \u001b[36mpredict_ratings\u001b[39m\u001b[34m(utility_matrix, similarity_matrix, k_only, k)\u001b[39m\n\u001b[32m     23\u001b[39m     \u001b[38;5;28;01mcontinue\u001b[39;00m \n\u001b[32m     24\u001b[39m \u001b[38;5;66;03m# Find users who rated this product \u001b[39;00m\n\u001b[32m---> \u001b[39m\u001b[32m25\u001b[39m raters = \u001b[43mutility_matrix\u001b[49m\u001b[43m.\u001b[49m\u001b[43mloc\u001b[49m\u001b[43m[\u001b[49m\u001b[43mproduct\u001b[49m\u001b[43m]\u001b[49m\u001b[43m.\u001b[49m\u001b[43mdropna\u001b[49m\u001b[43m(\u001b[49m\u001b[43m)\u001b[49m \n\u001b[32m     26\u001b[39m \u001b[38;5;28;01mif\u001b[39;00m raters.empty: \n\u001b[32m     27\u001b[39m     \u001b[38;5;28;01mcontinue\u001b[39;00m \n",
      "\u001b[36mFile \u001b[39m\u001b[32mc:\\Users\\bened\\anaconda3\\envs\\SINA-AT3\\Lib\\site-packages\\pandas\\core\\series.py:5900\u001b[39m, in \u001b[36mSeries.dropna\u001b[39m\u001b[34m(self, axis, inplace, how, ignore_index)\u001b[39m\n\u001b[32m   5897\u001b[39m \u001b[38;5;28mself\u001b[39m._get_axis_number(axis \u001b[38;5;129;01mor\u001b[39;00m \u001b[32m0\u001b[39m)\n\u001b[32m   5899\u001b[39m \u001b[38;5;28;01mif\u001b[39;00m \u001b[38;5;28mself\u001b[39m._can_hold_na:\n\u001b[32m-> \u001b[39m\u001b[32m5900\u001b[39m     result = \u001b[43mremove_na_arraylike\u001b[49m\u001b[43m(\u001b[49m\u001b[38;5;28;43mself\u001b[39;49m\u001b[43m)\u001b[49m\n\u001b[32m   5901\u001b[39m \u001b[38;5;28;01melse\u001b[39;00m:\n\u001b[32m   5902\u001b[39m     \u001b[38;5;28;01mif\u001b[39;00m \u001b[38;5;129;01mnot\u001b[39;00m inplace:\n",
      "\u001b[36mFile \u001b[39m\u001b[32mc:\\Users\\bened\\anaconda3\\envs\\SINA-AT3\\Lib\\site-packages\\pandas\\core\\dtypes\\missing.py:725\u001b[39m, in \u001b[36mremove_na_arraylike\u001b[39m\u001b[34m(arr)\u001b[39m\n\u001b[32m    723\u001b[39m     \u001b[38;5;28;01mreturn\u001b[39;00m arr[notna(arr)]\n\u001b[32m    724\u001b[39m \u001b[38;5;28;01melse\u001b[39;00m:\n\u001b[32m--> \u001b[39m\u001b[32m725\u001b[39m     \u001b[38;5;28;01mreturn\u001b[39;00m arr[\u001b[43mnotna\u001b[49m\u001b[43m(\u001b[49m\u001b[43mnp\u001b[49m\u001b[43m.\u001b[49m\u001b[43masarray\u001b[49m\u001b[43m(\u001b[49m\u001b[43marr\u001b[49m\u001b[43m)\u001b[49m\u001b[43m)\u001b[49m]\n",
      "\u001b[36mFile \u001b[39m\u001b[32mc:\\Users\\bened\\anaconda3\\envs\\SINA-AT3\\Lib\\site-packages\\pandas\\core\\dtypes\\missing.py:457\u001b[39m, in \u001b[36mnotna\u001b[39m\u001b[34m(obj)\u001b[39m\n\u001b[32m    380\u001b[39m \u001b[38;5;28;01mdef\u001b[39;00m\u001b[38;5;250m \u001b[39m\u001b[34mnotna\u001b[39m(obj: \u001b[38;5;28mobject\u001b[39m) -> \u001b[38;5;28mbool\u001b[39m | npt.NDArray[np.bool_] | NDFrame:\n\u001b[32m    381\u001b[39m \u001b[38;5;250m    \u001b[39m\u001b[33;03m\"\"\"\u001b[39;00m\n\u001b[32m    382\u001b[39m \u001b[33;03m    Detect non-missing values for an array-like object.\u001b[39;00m\n\u001b[32m    383\u001b[39m \n\u001b[32m   (...)\u001b[39m\u001b[32m    455\u001b[39m \u001b[33;03m    Name: 1, dtype: bool\u001b[39;00m\n\u001b[32m    456\u001b[39m \u001b[33;03m    \"\"\"\u001b[39;00m\n\u001b[32m--> \u001b[39m\u001b[32m457\u001b[39m     res = \u001b[43misna\u001b[49m\u001b[43m(\u001b[49m\u001b[43mobj\u001b[49m\u001b[43m)\u001b[49m\n\u001b[32m    458\u001b[39m     \u001b[38;5;28;01mif\u001b[39;00m \u001b[38;5;28misinstance\u001b[39m(res, \u001b[38;5;28mbool\u001b[39m):\n\u001b[32m    459\u001b[39m         \u001b[38;5;28;01mreturn\u001b[39;00m \u001b[38;5;129;01mnot\u001b[39;00m res\n",
      "\u001b[36mFile \u001b[39m\u001b[32mc:\\Users\\bened\\anaconda3\\envs\\SINA-AT3\\Lib\\site-packages\\pandas\\core\\dtypes\\missing.py:178\u001b[39m, in \u001b[36misna\u001b[39m\u001b[34m(obj)\u001b[39m\n\u001b[32m    101\u001b[39m \u001b[38;5;28;01mdef\u001b[39;00m\u001b[38;5;250m \u001b[39m\u001b[34misna\u001b[39m(obj: \u001b[38;5;28mobject\u001b[39m) -> \u001b[38;5;28mbool\u001b[39m | npt.NDArray[np.bool_] | NDFrame:\n\u001b[32m    102\u001b[39m \u001b[38;5;250m    \u001b[39m\u001b[33;03m\"\"\"\u001b[39;00m\n\u001b[32m    103\u001b[39m \u001b[33;03m    Detect missing values for an array-like object.\u001b[39;00m\n\u001b[32m    104\u001b[39m \n\u001b[32m   (...)\u001b[39m\u001b[32m    176\u001b[39m \u001b[33;03m    Name: 1, dtype: bool\u001b[39;00m\n\u001b[32m    177\u001b[39m \u001b[33;03m    \"\"\"\u001b[39;00m\n\u001b[32m--> \u001b[39m\u001b[32m178\u001b[39m     \u001b[38;5;28;01mreturn\u001b[39;00m \u001b[43m_isna\u001b[49m\u001b[43m(\u001b[49m\u001b[43mobj\u001b[49m\u001b[43m)\u001b[49m\n",
      "\u001b[36mFile \u001b[39m\u001b[32mc:\\Users\\bened\\anaconda3\\envs\\SINA-AT3\\Lib\\site-packages\\pandas\\core\\dtypes\\missing.py:207\u001b[39m, in \u001b[36m_isna\u001b[39m\u001b[34m(obj, inf_as_na)\u001b[39m\n\u001b[32m    205\u001b[39m     \u001b[38;5;28;01mreturn\u001b[39;00m \u001b[38;5;28;01mFalse\u001b[39;00m\n\u001b[32m    206\u001b[39m \u001b[38;5;28;01melif\u001b[39;00m \u001b[38;5;28misinstance\u001b[39m(obj, (np.ndarray, ABCExtensionArray)):\n\u001b[32m--> \u001b[39m\u001b[32m207\u001b[39m     \u001b[38;5;28;01mreturn\u001b[39;00m \u001b[43m_isna_array\u001b[49m\u001b[43m(\u001b[49m\u001b[43mobj\u001b[49m\u001b[43m,\u001b[49m\u001b[43m \u001b[49m\u001b[43minf_as_na\u001b[49m\u001b[43m=\u001b[49m\u001b[43minf_as_na\u001b[49m\u001b[43m)\u001b[49m\n\u001b[32m    208\u001b[39m \u001b[38;5;28;01melif\u001b[39;00m \u001b[38;5;28misinstance\u001b[39m(obj, ABCIndex):\n\u001b[32m    209\u001b[39m     \u001b[38;5;66;03m# Try to use cached isna, which also short-circuits for integer dtypes\u001b[39;00m\n\u001b[32m    210\u001b[39m     \u001b[38;5;66;03m#  and avoids materializing RangeIndex._values\u001b[39;00m\n\u001b[32m    211\u001b[39m     \u001b[38;5;28;01mif\u001b[39;00m \u001b[38;5;129;01mnot\u001b[39;00m obj._can_hold_na:\n",
      "\u001b[36mFile \u001b[39m\u001b[32mc:\\Users\\bened\\anaconda3\\envs\\SINA-AT3\\Lib\\site-packages\\pandas\\core\\dtypes\\missing.py:300\u001b[39m, in \u001b[36m_isna_array\u001b[39m\u001b[34m(values, inf_as_na)\u001b[39m\n\u001b[32m    298\u001b[39m         result = ~np.isfinite(values)\n\u001b[32m    299\u001b[39m     \u001b[38;5;28;01melse\u001b[39;00m:\n\u001b[32m--> \u001b[39m\u001b[32m300\u001b[39m         result = \u001b[43mnp\u001b[49m\u001b[43m.\u001b[49m\u001b[43misnan\u001b[49m\u001b[43m(\u001b[49m\u001b[43mvalues\u001b[49m\u001b[43m)\u001b[49m\n\u001b[32m    302\u001b[39m \u001b[38;5;28;01mreturn\u001b[39;00m result\n",
      "\u001b[31mKeyboardInterrupt\u001b[39m: "
     ]
    }
   ],
   "source": [
    "P = predict_ratings(U, S, k_only=False) "
   ]
  },
  {
   "cell_type": "code",
   "execution_count": null,
   "id": "ebb09a1d",
   "metadata": {},
   "outputs": [],
   "source": []
  },
  {
   "cell_type": "markdown",
   "id": "bda1f1bc",
   "metadata": {},
   "source": [
    "Save as CSV to avoid recomputing"
   ]
  },
  {
   "cell_type": "code",
   "execution_count": null,
   "id": "59370828",
   "metadata": {},
   "outputs": [],
   "source": [
    "path = os.path.join(project_dir, \"data\", \"Prediction_Matrix.csv\") \n",
    "P.to_csv(path)"
   ]
  },
  {
   "cell_type": "markdown",
   "id": "17040edb",
   "metadata": {},
   "source": [
    "Reload Prediction Matrix"
   ]
  },
  {
   "cell_type": "code",
   "execution_count": null,
   "id": "11e15b76",
   "metadata": {},
   "outputs": [],
   "source": [
    "path = os.path.join(project_dir, \"data\", \"Prediction_Matrix.csv\") \n",
    "P = pd.read_csv(path) "
   ]
  },
  {
   "cell_type": "markdown",
   "id": "80cfb6ea",
   "metadata": {},
   "source": [
    "## 3.4. Top-r recommendations lookup"
   ]
  },
  {
   "cell_type": "code",
   "execution_count": null,
   "id": "174867a0",
   "metadata": {},
   "outputs": [],
   "source": [
    "def get_top_recs(prediction_matrix, utility_matrix, users=None, r=5): \n",
    "    recommendations = {} \n",
    "    for user in prediction_matrix.columns: \n",
    "        # Filter for items not actually rated by user\n",
    "        user_preds = prediction_matrix[user][utility_matrix[user].isna()] \n",
    "        # sort by predicted rating \n",
    "        top_r_items = user_preds.sort_values(ascending=False).head(r) \n",
    "        recommendations[user] = top_r_items.index.tolist() \n",
    "    for user in users: \n",
    "        user_preds = prediction_matrix[user][utility_matrix[user].isna()] \n",
    "    return recommendations\n",
    "\n",
    "recs = get_top_recs(P, U) "
   ]
  },
  {
   "cell_type": "markdown",
   "id": "5bb08103",
   "metadata": {},
   "source": [
    "# 4. LLM Prompting"
   ]
  },
  {
   "cell_type": "markdown",
   "id": "c4ce9112",
   "metadata": {},
   "source": [
    "Given some user u identified by their user_id and k desired recommendatio0ns, we want to do the following: \n",
    "\n",
    "1. Get the product_ids (p, q etc.) of those k products from the recs lookup. \n",
    "2. Find the N set of users who have rated p and are most similar to u. \n",
    "3. Finding p review samples: \n",
    "    a. If N is insufficiently large, say below three, also find the highest ratings for p with the most votes.  \n",
    "    b. Regardless of how big N is, find the review of p with highest rating and most votes. \n",
    "4. u review sample: Find user u's review with highest rating. \n",
    "    "
   ]
  },
  {
   "cell_type": "code",
   "execution_count": null,
   "id": "083129f2",
   "metadata": {},
   "outputs": [],
   "source": [
    "def find_prompt_info(user_id, graph=G, top_p=1, k=3, similarity_matrix=S, recommendations_lookup=recs): \n",
    "    # top-p recommended products\n",
    "    recommended_products = recommendations_lookup[user_id][:top_p] \n",
    "    # get similar users who have rated products\n",
    "    sim_vector = similarity_matrix[user_id]  \n",
    "    \n",
    "    N = sim_vector.sort_values(ascending=False).head(k).columns\n",
    "    # sampling reviews from similar users \n"
   ]
  }
 ],
 "metadata": {
  "kernelspec": {
   "display_name": "SINA-AT3",
   "language": "python",
   "name": "python3"
  },
  "language_info": {
   "codemirror_mode": {
    "name": "ipython",
    "version": 3
   },
   "file_extension": ".py",
   "mimetype": "text/x-python",
   "name": "python",
   "nbconvert_exporter": "python",
   "pygments_lexer": "ipython3",
   "version": "3.11.11"
  }
 },
 "nbformat": 4,
 "nbformat_minor": 5
}
